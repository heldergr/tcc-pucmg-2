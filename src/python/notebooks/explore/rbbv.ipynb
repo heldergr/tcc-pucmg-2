{
 "metadata": {
  "language_info": {
   "codemirror_mode": {
    "name": "ipython",
    "version": 3
   },
   "file_extension": ".py",
   "mimetype": "text/x-python",
   "name": "python",
   "nbconvert_exporter": "python",
   "pygments_lexer": "ipython3",
   "version": "3.7.3"
  },
  "orig_nbformat": 2,
  "kernelspec": {
   "name": "pythonjvsc74a57bd04143b9c6b9342c2726020891eca2bb8d0d6574ab18558731d58b7f9e44c9082d",
   "display_name": "Python 3.7.3  ('tcc-env': venv)"
  },
  "metadata": {
   "interpreter": {
    "hash": "4143b9c6b9342c2726020891eca2bb8d0d6574ab18558731d58b7f9e44c9082d"
   }
  }
 },
 "nbformat": 4,
 "nbformat_minor": 2,
 "cells": [
  {
   "cell_type": "code",
   "execution_count": 16,
   "metadata": {},
   "outputs": [],
   "source": [
    "from urllib.request import urlopen\n",
    "from bs4 import BeautifulSoup\n",
    "import pandas as pd"
   ]
  },
  {
   "cell_type": "code",
   "execution_count": 4,
   "metadata": {},
   "outputs": [],
   "source": [
    "import ssl\n",
    "ssl._create_default_https_context = ssl._create_unverified_context"
   ]
  },
  {
   "cell_type": "code",
   "execution_count": 8,
   "metadata": {},
   "outputs": [],
   "source": [
    "url = 'https://rbbv.com.br/destino/america-do-sul/'\n",
    "f = urlopen(url)"
   ]
  },
  {
   "cell_type": "code",
   "execution_count": 20,
   "metadata": {},
   "outputs": [],
   "source": [
    "def get_content(url):\n",
    "    f = urlopen(url)\n",
    "    return BeautifulSoup(f)"
   ]
  },
  {
   "cell_type": "code",
   "execution_count": 9,
   "metadata": {},
   "outputs": [],
   "source": [
    "soup = BeautifulSoup(f)"
   ]
  },
  {
   "cell_type": "code",
   "execution_count": 9,
   "metadata": {},
   "outputs": [],
   "source": [
    "see_all = soup.find_all('h3', { \"class\": \"see-all\" })"
   ]
  },
  {
   "cell_type": "code",
   "execution_count": 12,
   "metadata": {},
   "outputs": [],
   "source": [
    "all_h3 = soup.find_all('h3')"
   ]
  },
  {
   "cell_type": "code",
   "execution_count": 20,
   "metadata": {},
   "outputs": [
    {
     "output_type": "execute_result",
     "data": {
      "text/plain": [
       "['https://rbbv.com.br/destino/america-do-sul/argentina/',\n",
       " 'https://rbbv.com.br/destino/america-do-sul/bolivia/',\n",
       " 'https://rbbv.com.br/destino/america-do-sul/brasil/',\n",
       " 'https://rbbv.com.br/destino/america-do-sul/chile/',\n",
       " 'https://rbbv.com.br/destino/america-do-sul/colombia/',\n",
       " 'https://rbbv.com.br/destino/america-do-sul/equador/',\n",
       " 'https://rbbv.com.br/destino/america-do-sul/paraguai/',\n",
       " 'https://rbbv.com.br/destino/america-do-sul/peru/',\n",
       " 'https://rbbv.com.br/destino/america-do-sul/uruguai/',\n",
       " 'https://rbbv.com.br/destino/america-do-sul/venezuela/']"
      ]
     },
     "metadata": {},
     "execution_count": 20
    }
   ],
   "source": [
    "[h3.a.get('href') for h3 in all_h3 if h3.a]"
   ]
  },
  {
   "cell_type": "code",
   "execution_count": 1,
   "metadata": {},
   "outputs": [],
   "source": [
    "def obter_links_grupo_maior(grupo):\n",
    "    link_grupo = f'https://rbbv.com.br/destino/{grupo}/'\n",
    "    f = urlopen(link_grupo)\n",
    "    soup = BeautifulSoup(f)\n",
    "    all_h3 = soup.find_all('h3')\n",
    "    links = [(h3.text.replace('Ver Todos', ''), h3.a.get('href')) for h3 in all_h3 if h3.a]\n",
    "    return pd.DataFrame(links, columns=['pais', 'link'])"
   ]
  },
  {
   "cell_type": "code",
   "execution_count": 5,
   "metadata": {},
   "outputs": [],
   "source": [
    "an = obter_links_grupo_maior('america-do-norte')"
   ]
  },
  {
   "cell_type": "code",
   "execution_count": 6,
   "metadata": {},
   "outputs": [
    {
     "output_type": "execute_result",
     "data": {
      "text/plain": [
       "['https://rbbv.com.br/destino/america-do-norte/canada/',\n",
       " 'https://rbbv.com.br/destino/america-do-norte/eua/',\n",
       " 'https://rbbv.com.br/destino/america-do-norte/mexico/']"
      ]
     },
     "metadata": {},
     "execution_count": 6
    }
   ],
   "source": [
    "an"
   ]
  },
  {
   "cell_type": "code",
   "execution_count": 11,
   "metadata": {},
   "outputs": [],
   "source": [
    "grupos_maiores = ['america-do-sul', 'america-do-norte', 'america-central', 'africa']"
   ]
  },
  {
   "source": [
    "## Desafios\n",
    "\n",
    "- Tipos páginas no menu\n",
    "  * Links para agrupadores de Links\n",
    "    * Ideia: links começam com 'https://rbbv.com'\n",
    "  * Links para posts  \n",
    "    * Ideia: links não começam com 'https://rbbv.com'"
   ],
   "cell_type": "markdown",
   "metadata": {}
  },
  {
   "source": [
    "### Tentativa: obter lista de agrupadores de links pelo Menu Destinos"
   ],
   "cell_type": "markdown",
   "metadata": {}
  },
  {
   "cell_type": "code",
   "execution_count": 22,
   "metadata": {},
   "outputs": [],
   "source": [
    "c = get_content('https://rbbv.com.br/destino/america-do-sul/')\n",
    "menu_destinos = c.find('ul', { 'id': 'menu-destinos' })"
   ]
  },
  {
   "cell_type": "code",
   "execution_count": 24,
   "metadata": {},
   "outputs": [],
   "source": [
    "# Nao faz diferenca se colocar a property recursive=True\n",
    "all_li = menu_destinos.find_all('li')\n",
    "len(all_li)"
   ]
  },
  {
   "cell_type": "code",
   "execution_count": 57,
   "metadata": {},
   "outputs": [],
   "source": [
    "l = [(li.a.text, li.a.get('href')) for li in all_li if li.a]"
   ]
  },
  {
   "cell_type": "code",
   "execution_count": 74,
   "metadata": {},
   "outputs": [],
   "source": [
    "df_destinos = pd.DataFrame(l, columns=['Destino', 'Link'])\n",
    "df_destinos = df_destinos.dropna()\n",
    "df_destinos['Referencias'] = count_references_all(l)"
   ]
  },
  {
   "cell_type": "code",
   "execution_count": 78,
   "metadata": {},
   "outputs": [
    {
     "output_type": "stream",
     "name": "stdout",
     "text": [
      "(187, 3)\n"
     ]
    },
    {
     "output_type": "execute_result",
     "data": {
      "text/plain": [
       "    Destino                                                         Link  \\\n",
       "0    Brasil           https://rbbv.com.br/destino/america-do-sul/brasil/   \n",
       "1      Acre      https://rbbv.com.br/destino/america-do-sul/brasil/acre/   \n",
       "2   Alagoas   https://rbbv.com.br/destino/america-do-sul/brasil/alagoas/   \n",
       "3  Amazonas  https://rbbv.com.br/destino/america-do-sul/brasil/amazonas/   \n",
       "4     Amapá     https://rbbv.com.br/destino/america-do-sul/brasil/amapa/   \n",
       "\n",
       "   Referencias  \n",
       "0           27  \n",
       "1            1  \n",
       "2            1  \n",
       "3            1  \n",
       "4            1  "
      ],
      "text/html": "<div>\n<style scoped>\n    .dataframe tbody tr th:only-of-type {\n        vertical-align: middle;\n    }\n\n    .dataframe tbody tr th {\n        vertical-align: top;\n    }\n\n    .dataframe thead th {\n        text-align: right;\n    }\n</style>\n<table border=\"1\" class=\"dataframe\">\n  <thead>\n    <tr style=\"text-align: right;\">\n      <th></th>\n      <th>Destino</th>\n      <th>Link</th>\n      <th>Referencias</th>\n    </tr>\n  </thead>\n  <tbody>\n    <tr>\n      <th>0</th>\n      <td>Brasil</td>\n      <td>https://rbbv.com.br/destino/america-do-sul/brasil/</td>\n      <td>27</td>\n    </tr>\n    <tr>\n      <th>1</th>\n      <td>Acre</td>\n      <td>https://rbbv.com.br/destino/america-do-sul/brasil/acre/</td>\n      <td>1</td>\n    </tr>\n    <tr>\n      <th>2</th>\n      <td>Alagoas</td>\n      <td>https://rbbv.com.br/destino/america-do-sul/brasil/alagoas/</td>\n      <td>1</td>\n    </tr>\n    <tr>\n      <th>3</th>\n      <td>Amazonas</td>\n      <td>https://rbbv.com.br/destino/america-do-sul/brasil/amazonas/</td>\n      <td>1</td>\n    </tr>\n    <tr>\n      <th>4</th>\n      <td>Amapá</td>\n      <td>https://rbbv.com.br/destino/america-do-sul/brasil/amapa/</td>\n      <td>1</td>\n    </tr>\n  </tbody>\n</table>\n</div>"
     },
     "metadata": {},
     "execution_count": 78
    }
   ],
   "source": [
    "print(df_destinos.shape)\n",
    "df_destinos.head()"
   ]
  },
  {
   "cell_type": "code",
   "execution_count": 72,
   "metadata": {},
   "outputs": [],
   "source": [
    "def count_references_all(lis):\n",
    "    all_links = [li[1] for li in lis if li[1]]\n",
    "    return [count_references(li, all_links) for li in all_links]\n",
    "\n",
    "def count_references(li, lis):\n",
    "    sub = [l for l in lis if l.startswith(li)]\n",
    "    return len(sub)"
   ]
  },
  {
   "cell_type": "code",
   "execution_count": 41,
   "metadata": {},
   "outputs": [],
   "source": [
    "pd.options.display.max_colwidth = 100"
   ]
  },
  {
   "cell_type": "code",
   "execution_count": 60,
   "metadata": {},
   "outputs": [],
   "source": [
    "all_links = df_destinos.Link.values"
   ]
  },
  {
   "cell_type": "code",
   "execution_count": 62,
   "metadata": {},
   "outputs": [
    {
     "output_type": "stream",
     "name": "stdout",
     "text": [
      "27\n1\n"
     ]
    }
   ],
   "source": [
    "brasil = 'https://rbbv.com.br/destino/america-do-sul/brasil/'\n",
    "acre = 'https://rbbv.com.br/destino/america-do-sul/brasil/acre/'\n",
    "\n",
    "print(count_references(brasil, all_links))\n",
    "print(count_references(acre, all_links))"
   ]
  }
 ]
}