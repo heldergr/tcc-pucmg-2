{
 "metadata": {
  "language_info": {
   "codemirror_mode": {
    "name": "ipython",
    "version": 3
   },
   "file_extension": ".py",
   "mimetype": "text/x-python",
   "name": "python",
   "nbconvert_exporter": "python",
   "pygments_lexer": "ipython3",
   "version": "3.8.11"
  },
  "orig_nbformat": 2,
  "kernelspec": {
   "name": "python3",
   "display_name": "Python 3.8.11 64-bit ('tcc-venv': venv)"
  },
  "interpreter": {
   "hash": "e40f5302c6d4b9de2141353283620edefcabae1dbe23ed7117377b1c1ce32e40"
  }
 },
 "nbformat": 4,
 "nbformat_minor": 2,
 "cells": [
  {
   "cell_type": "code",
   "execution_count": null,
   "source": [
    "%reload_ext autoreload\n",
    "%autoreload 2"
   ],
   "outputs": [],
   "metadata": {}
  },
  {
   "cell_type": "markdown",
   "source": [
    "# Wikipedia"
   ],
   "metadata": {}
  },
  {
   "cell_type": "code",
   "execution_count": 1,
   "source": [
    "from coleta.corretor_paginas_wikipedia import CorretorEstruturaCategorias\n",
    "from coleta.wikipedia import CategoriaCollector, PaginaCollector, WikipediaDownloader\n",
    "from urllib.parse import urlencode\n",
    "from pymongo import MongoClient\n",
    "import time\n",
    "import pandas as pd\n",
    "\n",
    "wikipedia_downloader = WikipediaDownloader()\n",
    "pagina_collector = PaginaCollector(collection_paginas='pages_brasil', collection_paginas_conteudo='pages_content_brasil')\n",
    "categoria_collector = CategoriaCollector(collection_categorias='categories_brasil', pagina_collector=pagina_collector)\n",
    "country = 'Brasil'"
   ],
   "outputs": [],
   "metadata": {}
  },
  {
   "cell_type": "markdown",
   "source": [
    "## Definir categoria raiz\n",
    "\n",
    "Em nosso caso de estudo a categoria raiz sera Geografia do Brasil. Abaixo esta o documento correspondente, obtido atraves de procura feita \n",
    "no resultado da consulta de category_members da categoria \"Categoria:Brasil\"."
   ],
   "metadata": {}
  },
  {
   "cell_type": "code",
   "execution_count": null,
   "source": [
    "is_adicionar_categoria_raiz = False\n",
    "if is_adicionar_categoria_raiz:\n",
    "    categoria_geografia_brasil = {'pageid': 15122,\n",
    "    'ns': 14,\n",
    "    'title': 'Categoria:Geografia do Brasil',\n",
    "    'type': 'subcat', \n",
    "    'country': 'Brasil'}\n",
    "    categoria_collector.add_categories_for_check([categoria_geografia_brasil])\n",
    "# category_members = wikipedia_downloader.get_category_members(cmtitle='Categoria:Brasil')"
   ],
   "outputs": [],
   "metadata": {}
  },
  {
   "cell_type": "markdown",
   "source": [
    "## Iteração de download de categorias\n",
    "\n",
    "- Categories status\n",
    "    * Check: waiting for someone to check if it has to be downloaded\n",
    "    * Waiting: waiting for dowload\n",
    "    * Skeep: skeep download of this category\n",
    "    * Done: downloaded"
   ],
   "metadata": {}
  },
  {
   "cell_type": "markdown",
   "source": [
    "### Passo 1 - Procurar categorias candidatas a download"
   ],
   "metadata": {}
  },
  {
   "cell_type": "code",
   "execution_count": null,
   "source": [
    "categorias_candidatas_para_download = categoria_collector.get_categories_for_check()"
   ],
   "outputs": [],
   "metadata": {}
  },
  {
   "cell_type": "code",
   "execution_count": null,
   "source": [
    "for ccpd in categorias_candidatas_para_download[:10]:\n",
    "    print(f'{ccpd[\"pageid\"]} - {ccpd[\"title\"]}')"
   ],
   "outputs": [],
   "metadata": {}
  },
  {
   "cell_type": "markdown",
   "source": [
    "### Passo 2 - Selecionar para download e skeep"
   ],
   "metadata": {}
  },
  {
   "cell_type": "code",
   "execution_count": null,
   "source": [
    "categorias_selecionadas_para_download = []\n",
    "if len(categorias_selecionadas_para_download) > 0:\n",
    "    categoria_collector.set_categories_for_download(categorias_selecionadas_para_download)"
   ],
   "outputs": [],
   "metadata": {}
  },
  {
   "cell_type": "code",
   "execution_count": null,
   "source": [
    "categorias_selecionadas_para_skeep = []\n",
    "if len(categorias_selecionadas_para_skeep) > 0:\n",
    "    categoria_collector.set_categories_for_skeep(categorias_selecionadas_para_skeep)"
   ],
   "outputs": [],
   "metadata": {}
  },
  {
   "cell_type": "markdown",
   "source": [
    "### Passo 3 - Fazer download de selecionadas"
   ],
   "metadata": {}
  },
  {
   "cell_type": "code",
   "execution_count": null,
   "source": [
    "categorias_para_download = categoria_collector.get_categories_for_download()\n",
    "print(f'{len(categorias_para_download)} categorias recuperadas para download...')\n",
    "for cpd in categorias_para_download:\n",
    "    categoria_collector.download_category_tree(cpd, cpd['country'])"
   ],
   "outputs": [],
   "metadata": {}
  },
  {
   "cell_type": "markdown",
   "source": [
    "## Corrigir estrutura de categorias\n",
    "\n",
    "- Deve ser executado após o download de todas as categorias_para_download\n",
    "- É necessário porque  várias paginas sao referenciadas por mais de uma categoria e por isso sao inseridas duas vezes por cada categoria. Para evitar de \n",
    "ficar verificando se uma pagina foi incluida ou nao no download da categoria, preferi fazer o donwload mais de uma vez e corrigir tudo de uma vez apos o download."
   ],
   "metadata": {}
  },
  {
   "cell_type": "code",
   "execution_count": null,
   "source": [
    "# corretor_estrutura_categorias = CorretorEstruturaCategorias(collection_name_incorreto='', collection_correto='')"
   ],
   "outputs": [],
   "metadata": {}
  },
  {
   "cell_type": "markdown",
   "source": [
    "## Download de páginas (wikitext)\n",
    "\n",
    "- Pages status (wikitext)\n",
    "    * Waiting: waiting for download\n",
    "    * Done: Download done"
   ],
   "metadata": {}
  },
  {
   "cell_type": "code",
   "execution_count": null,
   "source": [
    "# Executar apenas uma vez\n",
    "# pagina_collector.set_pages_for_wikitext_download()"
   ],
   "outputs": [],
   "metadata": {}
  },
  {
   "cell_type": "code",
   "execution_count": null,
   "source": [
    "paginas_download_wikitext = pagina_collector.get_pages_for_download()"
   ],
   "outputs": [],
   "metadata": {}
  },
  {
   "cell_type": "code",
   "execution_count": null,
   "source": [
    "pagina_collector.run_wikitext_download(5)"
   ],
   "outputs": [],
   "metadata": {}
  },
  {
   "cell_type": "markdown",
   "source": [
    "## Download de páginas (text)\n",
    "\n",
    "- Pages status (text)\n",
    "    * Waiting: waiting for download\n",
    "    * Donw: Download done"
   ],
   "metadata": {}
  },
  {
   "cell_type": "code",
   "execution_count": 2,
   "source": [
    "# Executar apenas uma vez\n",
    "# pagina_collector.set_pages_for_text_download()"
   ],
   "outputs": [],
   "metadata": {}
  },
  {
   "cell_type": "code",
   "execution_count": 3,
   "source": [
    "pagina_collector.run_text_download(5)"
   ],
   "outputs": [
    {
     "output_type": "stream",
     "name": "stdout",
     "text": [
      "Running text download for 5 pages\n",
      "Page text [406](Geografia do Brasil) downloaded successfuly (1 of 5)\n",
      "Page text [1753565](Atlas do Desenvolvimento Humano do Brasil) downloaded successfuly (2 of 5)\n",
      "Page text [3958949](Cachoeira da Pirapora) downloaded successfuly (3 of 5)\n",
      "Page text [6062483](Carta Geográfica do Brasil (1922)) downloaded successfuly (4 of 5)\n",
      "Page text [3302088](Colar metropolitano) downloaded successfuly (5 of 5)\n"
     ]
    },
    {
     "output_type": "execute_result",
     "data": {
      "text/plain": [
       "6"
      ]
     },
     "metadata": {},
     "execution_count": 3
    }
   ],
   "metadata": {}
  },
  {
   "cell_type": "markdown",
   "source": [
    "## Backup do que já foi feito download"
   ],
   "metadata": {}
  },
  {
   "cell_type": "code",
   "execution_count": null,
   "source": [
    "run_backup = False\n",
    "if run_backup:\n",
    "    categories = list(mongo_categories.find())\n",
    "    categories_df = pd.DataFrame(categories)\n",
    "    categories_df.to_csv('categories.csv')\n",
    "\n",
    "    pages = list(mongo_pages.find())\n",
    "    pages_df = pd.DataFrame(pages)\n",
    "    pages_df.to_csv('pages.csv')"
   ],
   "outputs": [],
   "metadata": {}
  },
  {
   "cell_type": "markdown",
   "source": [
    "### Verificar categorias e páginas sem country"
   ],
   "metadata": {}
  },
  {
   "cell_type": "code",
   "execution_count": null,
   "source": [
    "# Pages\n",
    "pages_no_country = list(db.pages.find({\"country\": {\"$exists\": False }}))\n",
    "print(f'{len(pages_no_country)} pages found with no country')\n",
    "\n",
    "# Categories\n",
    "categories_no_country = list(db.categories.find({\"country\": {\"$exists\": False }}))\n",
    "print(f'{len(categories_no_country)} categories found with no country')"
   ],
   "outputs": [],
   "metadata": {}
  },
  {
   "cell_type": "code",
   "execution_count": null,
   "source": [
    "def show_download_statistics():\n",
    "    pdc = get_pages_downloads_counts()\n",
    "    print(f'Page download counts: {pdc}')\n",
    "    pages_wikitext_counts = mongo_content.count_documents({})\n",
    "    print(f'Pages with wikitext: {pages_wikitext_counts}')\n",
    "# show_download_statistics()"
   ],
   "outputs": [],
   "metadata": {}
  },
  {
   "cell_type": "markdown",
   "source": [
    "### Download page texts"
   ],
   "metadata": {}
  },
  {
   "cell_type": "code",
   "execution_count": null,
   "source": [
    "run_text_download(303)\n",
    "show_text_download_statistics()"
   ],
   "outputs": [],
   "metadata": {
    "tags": [
     "outputPrepend"
    ]
   }
  },
  {
   "cell_type": "code",
   "execution_count": null,
   "source": [
    "pcs = list(mongo_content.aggregate(\n",
    "    [ \n",
    "        { '$group': { '_id': '$pageid', 'total': { '$sum': 1 } } }\n",
    "    ]\n",
    "))"
   ],
   "outputs": [],
   "metadata": {}
  },
  {
   "cell_type": "code",
   "execution_count": null,
   "source": [
    "dobrado = [p for p in pcs if p['total'] > 1]\n"
   ],
   "outputs": [],
   "metadata": {}
  },
  {
   "cell_type": "code",
   "execution_count": null,
   "source": [
    "def find_distinct_pages():\n",
    "    return list(mongo_pages.aggregate(\n",
    "        [ \n",
    "            { '$group': { '_id': '$pageid', 'total': { '$sum': 1 } } },\n",
    "            { '$sort': { 'total': -1 }}\n",
    "        ]\n",
    "    ))\n",
    "\n",
    "def count_distinct_pages():\n",
    "    return len(find_distinct_pages())\n",
    "\n",
    "print(f'We have downloaded {count_distinct_pages()} distinct pages')"
   ],
   "outputs": [],
   "metadata": {}
  },
  {
   "cell_type": "code",
   "execution_count": null,
   "source": [
    "pages_dobrado = [p for p in pcs if p['total'] > 1]\n",
    "pages_dobrado[0]"
   ],
   "outputs": [],
   "metadata": {}
  },
  {
   "cell_type": "markdown",
   "source": [
    "## Correção collection pages\n",
    "\n",
    "- Problema: a mesma página tinha sido baixada mais de uma vez porque era referenciada por várias coleções\n",
    "- Solução\n",
    "    * Renomear collection pages para pages_incorreto (feito no mongo shell)\n",
    "    * Recriar a collection pages com estrutura correta\n",
    "        * A categoria agora será um objeto com id e título ao invés de estes valores estarem soltos na páginas. Assim ficará melhor estuturado\n",
    "        * O objeto da página terá uma collection de categorias. Cada página lida da estrutura antiga terá na nova collection um array com as categorias que a referenciam\n",
    "    * Renomear pages_content para pages_content incorreto"
   ],
   "metadata": {}
  },
  {
   "cell_type": "code",
   "execution_count": null,
   "source": [
    "from pymongo import MongoClient\n",
    "\n",
    "mongo_client = MongoClient()\n",
    "db = mongo_client.wikipedia\n",
    "collection_incorreto = db['pages_brasil_incorreto']\n",
    "collection_correto = db['pages_brasil']"
   ],
   "outputs": [],
   "metadata": {}
  },
  {
   "cell_type": "code",
   "execution_count": null,
   "source": [
    "# Obtem todas paginas de collection incorreta\n",
    "todas_paginas_incorreto = list(collection_incorreto.find({}))"
   ],
   "outputs": [],
   "metadata": {}
  },
  {
   "cell_type": "code",
   "execution_count": null,
   "source": [
    "def criar_objetos_categoria(todas_paginas_incorreto):\n",
    "    # Corrigir categoria das paginas incorretas. Cria objeto para categoria e coloca id e titulo\n",
    "    for pagina_incorreto in todas_paginas_incorreto:\n",
    "        category = {\n",
    "            'category_id': pagina_incorreto['category_id'],\n",
    "            'category_title': pagina_incorreto['category_title']\n",
    "        }\n",
    "        pagina_incorreto['category'] = category\n",
    "        del pagina_incorreto['category_id']\n",
    "        del pagina_incorreto['category_title']\n",
    "    return todas_paginas_incorreto\n",
    "\n",
    "todas_paginas_incorreto = criar_objetos_categoria(todas_paginas_incorreto)"
   ],
   "outputs": [],
   "metadata": {}
  },
  {
   "cell_type": "code",
   "execution_count": null,
   "source": [
    "def agregar_categorias_por_pagina(todas_paginas_incorreto):\n",
    "    # Dictionario que mapeia uma pageid para documento da pagina\n",
    "    agregado_paginas_incorreto = {}\n",
    "\n",
    "    for pagina_incorreto in todas_paginas_incorreto:\n",
    "        pageid_incorreto = pagina_incorreto['pageid']\n",
    "        if pageid_incorreto in agregado_paginas_incorreto:\n",
    "            existente = agregado_paginas_incorreto[pageid_incorreto]\n",
    "            existente['categories'].append(pagina_incorreto['category'])\n",
    "        else:\n",
    "            pagina_incorreto['categories'] = [pagina_incorreto['category']]\n",
    "            agregado_paginas_incorreto[pageid_incorreto] = pagina_incorreto\n",
    "        del pagina_incorreto['category']\n",
    "    \n",
    "    return agregado_paginas_incorreto\n",
    "\n",
    "agregado_paginas_incorreto = agregar_categorias_por_pagina(todas_paginas_incorreto)"
   ],
   "outputs": [],
   "metadata": {}
  },
  {
   "cell_type": "code",
   "execution_count": null,
   "source": [
    "# Insere as páginas corrigidas no mongo\n",
    "paginas_agregadas = list(agregado_paginas_incorreto.values())\n",
    "collection_correto.insert_many(paginas_agregadas)"
   ],
   "outputs": [],
   "metadata": {}
  },
  {
   "cell_type": "code",
   "execution_count": null,
   "source": [
    "# Conta páginas para ver o resultado\n",
    "print(collection_correto.count_documents({}))\n",
    "print(collection_incorreto.count_documents({}))"
   ],
   "outputs": [],
   "metadata": {}
  },
  {
   "cell_type": "markdown",
   "source": [
    "## Análise documentos download"
   ],
   "metadata": {}
  },
  {
   "cell_type": "code",
   "execution_count": null,
   "source": [
    "import seaborn as sns\n",
    "import pandas as pd"
   ],
   "outputs": [],
   "metadata": {}
  },
  {
   "cell_type": "markdown",
   "source": [
    "### Análise wikitext"
   ],
   "metadata": {}
  },
  {
   "cell_type": "code",
   "execution_count": null,
   "source": [
    "pcs = list(mongo_content.find({}))"
   ],
   "outputs": [],
   "metadata": {}
  },
  {
   "cell_type": "code",
   "execution_count": null,
   "source": [
    "lengths_wikitext = [len(pc['wikitext']) for pc in pcs]\n",
    "df = pd.DataFrame(lengths_wikitext, columns=['Length'])\n",
    "df.head()"
   ],
   "outputs": [],
   "metadata": {}
  },
  {
   "cell_type": "code",
   "execution_count": null,
   "source": [
    "sns.displot(df, x='Length', bins=20)"
   ],
   "outputs": [],
   "metadata": {}
  },
  {
   "cell_type": "code",
   "execution_count": null,
   "source": [
    "# Verificando se todas as páginas srealmente têm conteúdo\n",
    "df['Length'].describe()"
   ],
   "outputs": [],
   "metadata": {}
  },
  {
   "cell_type": "markdown",
   "source": [
    "## Fix downloaded text\n",
    "\n",
    "- It was stored in the documents the whole structure of the answer\n",
    "- It should store only the ext"
   ],
   "metadata": {}
  },
  {
   "cell_type": "code",
   "execution_count": null,
   "source": [
    "pcs = list(mongo_content.find({}))\n",
    "for pc in pcs:\n",
    "    mongo_content.update_one(\n",
    "        { 'pageid': pc['pageid'] },\n",
    "        { '$set': { 'text': pc['text']['parse']['text'] } }\n",
    "    )"
   ],
   "outputs": [],
   "metadata": {}
  },
  {
   "cell_type": "markdown",
   "source": [
    "### Análise text"
   ],
   "metadata": {}
  },
  {
   "cell_type": "code",
   "execution_count": null,
   "source": [
    "pcs = list(mongo_content.find({}))"
   ],
   "outputs": [],
   "metadata": {}
  },
  {
   "cell_type": "code",
   "execution_count": null,
   "source": [
    "lengths_text = [len(pc['text']) for pc in pcs]\n",
    "df = pd.DataFrame(lengths_text, columns=['Length'])\n",
    "df.head()"
   ],
   "outputs": [],
   "metadata": {}
  },
  {
   "cell_type": "code",
   "execution_count": null,
   "source": [
    "sns.displot(df, x='Length', bins=20)"
   ],
   "outputs": [],
   "metadata": {}
  },
  {
   "cell_type": "code",
   "execution_count": null,
   "source": [
    "# Verificando se todas as páginas srealmente têm conteúdo\n",
    "df['Length'].describe()"
   ],
   "outputs": [],
   "metadata": {}
  },
  {
   "cell_type": "code",
   "execution_count": 5,
   "source": [
    "from repository import nerds_viajantes as nerds_viajantes_repo\n",
    "import pandas as pd"
   ],
   "outputs": [],
   "metadata": {}
  },
  {
   "cell_type": "code",
   "execution_count": 2,
   "source": [
    "p = nerds_viajantes_repo.read_published()"
   ],
   "outputs": [],
   "metadata": {}
  },
  {
   "cell_type": "code",
   "execution_count": 6,
   "source": [
    "pd.DataFrame(nerds_viajantes_repo.execute_query(nerds_viajantes_repo.PUBLISHED_POSTS_QUERY))"
   ],
   "outputs": [
    {
     "output_type": "execute_result",
     "data": {
      "text/plain": [
       "          0                   1  \\\n",
       "0       725 2011-11-10 19:23:52   \n",
       "1        11 2012-01-21 12:00:01   \n",
       "2        29 2012-01-20 09:57:45   \n",
       "3        60 2012-02-24 12:16:22   \n",
       "4        69 2012-01-26 07:53:50   \n",
       "...     ...                 ...   \n",
       "1024  15244 2018-05-11 17:55:02   \n",
       "1025  15269 2018-06-12 16:15:34   \n",
       "1026  15324 2018-08-25 07:07:24   \n",
       "1027  15353 2018-09-29 11:05:50   \n",
       "1028  15389 2020-04-06 19:19:09   \n",
       "\n",
       "                                                      2  \\\n",
       "0     <strong>O Blog - Nerds Viajantes</strong>\\r\\n\\...   \n",
       "1     No nosso primeiro dia em <a href=\"www.nerdsvia...   \n",
       "2     O TripAdvisor publicou uma <a href=\"http://www...   \n",
       "3     Sexta-feira em <a href=\"http://www.nerdsviajan...   \n",
       "4     Viajar para a Índia é pode ser um sonho para u...   \n",
       "...                                                 ...   \n",
       "1024  Já está disponível o <strong>Papel de Parede d...   \n",
       "1025  O <strong>Papel de Parede de Junho de 2018</st...   \n",
       "1026  Disponibilizamos para nossos leitores o <stron...   \n",
       "1027  Antes tarde do que nunca! Disponibilizamos par...   \n",
       "1028  <!-- wp:paragraph -->\\n<p>Fomos convidados pel...   \n",
       "\n",
       "                                                      3  \\\n",
       "0                                            Quem Somos   \n",
       "1     Santiago - Museu de Arte Pré-Colombiana Fechad...   \n",
       "2                           TripAdvisor - Top 25 Hotéis   \n",
       "3                 Santiago - Restaurante Aquí Está Coco   \n",
       "4          Índia - Folha divulga dicas de sobrevivência   \n",
       "...                                                 ...   \n",
       "1024                    Papel de Parede de Maio de 2018   \n",
       "1025                   Papel de Parede de Junho de 2018   \n",
       "1026                  Papel de Parede de Agosto de 2018   \n",
       "1027                Papel de Parede de Setembro de 2018   \n",
       "1028      Catas Altas - Um Passeio Pela Cidade e Região   \n",
       "\n",
       "                                                      4                   5  6  \n",
       "0                                            quem-somos 2016-06-23 10:35:41  0  \n",
       "1     santiago-museu-de-arte-pre-colombiana-fechado-... 2013-04-19 16:41:23  1  \n",
       "2                             tripadvisor-top-25-hoteis 2012-12-11 09:15:21  0  \n",
       "3                   santiago-restaurante-aqui-esta-coco 2013-04-19 18:13:46  5  \n",
       "4                    india-folha-dicas-de-sobrevivencia 2012-10-04 21:53:27  0  \n",
       "...                                                 ...                 ... ..  \n",
       "1024                    papel-de-parede-de-maio-de-2018 2018-05-11 17:55:02  0  \n",
       "1025                   papel-de-parede-de-junho-de-2018 2018-07-04 19:36:38  0  \n",
       "1026                  papel-de-parede-de-agosto-de-2018 2018-09-28 19:47:14  0  \n",
       "1027                papel-de-parede-de-setembro-de-2018 2019-09-01 10:20:29  0  \n",
       "1028        catas-altas-um-passeio-pela-cidade-e-regiao 2020-04-06 19:21:08  0  \n",
       "\n",
       "[1029 rows x 7 columns]"
      ],
      "text/html": [
       "<div>\n",
       "<style scoped>\n",
       "    .dataframe tbody tr th:only-of-type {\n",
       "        vertical-align: middle;\n",
       "    }\n",
       "\n",
       "    .dataframe tbody tr th {\n",
       "        vertical-align: top;\n",
       "    }\n",
       "\n",
       "    .dataframe thead th {\n",
       "        text-align: right;\n",
       "    }\n",
       "</style>\n",
       "<table border=\"1\" class=\"dataframe\">\n",
       "  <thead>\n",
       "    <tr style=\"text-align: right;\">\n",
       "      <th></th>\n",
       "      <th>0</th>\n",
       "      <th>1</th>\n",
       "      <th>2</th>\n",
       "      <th>3</th>\n",
       "      <th>4</th>\n",
       "      <th>5</th>\n",
       "      <th>6</th>\n",
       "    </tr>\n",
       "  </thead>\n",
       "  <tbody>\n",
       "    <tr>\n",
       "      <th>0</th>\n",
       "      <td>725</td>\n",
       "      <td>2011-11-10 19:23:52</td>\n",
       "      <td>&lt;strong&gt;O Blog - Nerds Viajantes&lt;/strong&gt;\\r\\n\\...</td>\n",
       "      <td>Quem Somos</td>\n",
       "      <td>quem-somos</td>\n",
       "      <td>2016-06-23 10:35:41</td>\n",
       "      <td>0</td>\n",
       "    </tr>\n",
       "    <tr>\n",
       "      <th>1</th>\n",
       "      <td>11</td>\n",
       "      <td>2012-01-21 12:00:01</td>\n",
       "      <td>No nosso primeiro dia em &lt;a href=\"www.nerdsvia...</td>\n",
       "      <td>Santiago - Museu de Arte Pré-Colombiana Fechad...</td>\n",
       "      <td>santiago-museu-de-arte-pre-colombiana-fechado-...</td>\n",
       "      <td>2013-04-19 16:41:23</td>\n",
       "      <td>1</td>\n",
       "    </tr>\n",
       "    <tr>\n",
       "      <th>2</th>\n",
       "      <td>29</td>\n",
       "      <td>2012-01-20 09:57:45</td>\n",
       "      <td>O TripAdvisor publicou uma &lt;a href=\"http://www...</td>\n",
       "      <td>TripAdvisor - Top 25 Hotéis</td>\n",
       "      <td>tripadvisor-top-25-hoteis</td>\n",
       "      <td>2012-12-11 09:15:21</td>\n",
       "      <td>0</td>\n",
       "    </tr>\n",
       "    <tr>\n",
       "      <th>3</th>\n",
       "      <td>60</td>\n",
       "      <td>2012-02-24 12:16:22</td>\n",
       "      <td>Sexta-feira em &lt;a href=\"http://www.nerdsviajan...</td>\n",
       "      <td>Santiago - Restaurante Aquí Está Coco</td>\n",
       "      <td>santiago-restaurante-aqui-esta-coco</td>\n",
       "      <td>2013-04-19 18:13:46</td>\n",
       "      <td>5</td>\n",
       "    </tr>\n",
       "    <tr>\n",
       "      <th>4</th>\n",
       "      <td>69</td>\n",
       "      <td>2012-01-26 07:53:50</td>\n",
       "      <td>Viajar para a Índia é pode ser um sonho para u...</td>\n",
       "      <td>Índia - Folha divulga dicas de sobrevivência</td>\n",
       "      <td>india-folha-dicas-de-sobrevivencia</td>\n",
       "      <td>2012-10-04 21:53:27</td>\n",
       "      <td>0</td>\n",
       "    </tr>\n",
       "    <tr>\n",
       "      <th>...</th>\n",
       "      <td>...</td>\n",
       "      <td>...</td>\n",
       "      <td>...</td>\n",
       "      <td>...</td>\n",
       "      <td>...</td>\n",
       "      <td>...</td>\n",
       "      <td>...</td>\n",
       "    </tr>\n",
       "    <tr>\n",
       "      <th>1024</th>\n",
       "      <td>15244</td>\n",
       "      <td>2018-05-11 17:55:02</td>\n",
       "      <td>Já está disponível o &lt;strong&gt;Papel de Parede d...</td>\n",
       "      <td>Papel de Parede de Maio de 2018</td>\n",
       "      <td>papel-de-parede-de-maio-de-2018</td>\n",
       "      <td>2018-05-11 17:55:02</td>\n",
       "      <td>0</td>\n",
       "    </tr>\n",
       "    <tr>\n",
       "      <th>1025</th>\n",
       "      <td>15269</td>\n",
       "      <td>2018-06-12 16:15:34</td>\n",
       "      <td>O &lt;strong&gt;Papel de Parede de Junho de 2018&lt;/st...</td>\n",
       "      <td>Papel de Parede de Junho de 2018</td>\n",
       "      <td>papel-de-parede-de-junho-de-2018</td>\n",
       "      <td>2018-07-04 19:36:38</td>\n",
       "      <td>0</td>\n",
       "    </tr>\n",
       "    <tr>\n",
       "      <th>1026</th>\n",
       "      <td>15324</td>\n",
       "      <td>2018-08-25 07:07:24</td>\n",
       "      <td>Disponibilizamos para nossos leitores o &lt;stron...</td>\n",
       "      <td>Papel de Parede de Agosto de 2018</td>\n",
       "      <td>papel-de-parede-de-agosto-de-2018</td>\n",
       "      <td>2018-09-28 19:47:14</td>\n",
       "      <td>0</td>\n",
       "    </tr>\n",
       "    <tr>\n",
       "      <th>1027</th>\n",
       "      <td>15353</td>\n",
       "      <td>2018-09-29 11:05:50</td>\n",
       "      <td>Antes tarde do que nunca! Disponibilizamos par...</td>\n",
       "      <td>Papel de Parede de Setembro de 2018</td>\n",
       "      <td>papel-de-parede-de-setembro-de-2018</td>\n",
       "      <td>2019-09-01 10:20:29</td>\n",
       "      <td>0</td>\n",
       "    </tr>\n",
       "    <tr>\n",
       "      <th>1028</th>\n",
       "      <td>15389</td>\n",
       "      <td>2020-04-06 19:19:09</td>\n",
       "      <td>&lt;!-- wp:paragraph --&gt;\\n&lt;p&gt;Fomos convidados pel...</td>\n",
       "      <td>Catas Altas - Um Passeio Pela Cidade e Região</td>\n",
       "      <td>catas-altas-um-passeio-pela-cidade-e-regiao</td>\n",
       "      <td>2020-04-06 19:21:08</td>\n",
       "      <td>0</td>\n",
       "    </tr>\n",
       "  </tbody>\n",
       "</table>\n",
       "<p>1029 rows × 7 columns</p>\n",
       "</div>"
      ]
     },
     "metadata": {},
     "execution_count": 6
    }
   ],
   "metadata": {}
  }
 ]
}