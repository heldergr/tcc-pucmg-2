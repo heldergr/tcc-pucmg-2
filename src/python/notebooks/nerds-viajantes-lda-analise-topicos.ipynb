{
 "cells": [
  {
   "cell_type": "code",
   "execution_count": 1,
   "metadata": {},
   "outputs": [],
   "source": [
    "%reload_ext autoreload\n",
    "%autoreload 2"
   ]
  },
  {
   "cell_type": "code",
   "execution_count": 2,
   "metadata": {},
   "outputs": [],
   "source": [
    "from fonte_dados.fabrica import FabricaFonteDados, NERDS_VIAJANTES\n",
    "from treinamento.treinamento_lda import TreinamentoLda\n",
    "from repository.mongo_utils import get_pages_content_collection\n",
    "from repository.wikipedia import WikipediaRepo"
   ]
  },
  {
   "cell_type": "code",
   "execution_count": 22,
   "metadata": {},
   "outputs": [],
   "source": [
    "import re\n",
    "from collections import Counter"
   ]
  },
  {
   "cell_type": "code",
   "execution_count": 3,
   "metadata": {},
   "outputs": [],
   "source": [
    "wikipedia_repo = WikipediaRepo(collection=get_pages_content_collection())\n",
    "fabrica = FabricaFonteDados()"
   ]
  },
  {
   "cell_type": "code",
   "execution_count": 10,
   "metadata": {},
   "outputs": [],
   "source": [
    "origem = NERDS_VIAJANTES\n",
    "num_topics = 100"
   ]
  },
  {
   "cell_type": "markdown",
   "metadata": {},
   "source": [
    "## Carregando fonte de dados de origem"
   ]
  },
  {
   "cell_type": "code",
   "execution_count": 5,
   "metadata": {},
   "outputs": [],
   "source": [
    "fonte_dados_origem = fabrica.get_fonte_dados(origem)\n",
    "fonte_dados_origem.carregar_dados()\n",
    "documentos_origem = fonte_dados_origem.get_tokens()"
   ]
  },
  {
   "cell_type": "markdown",
   "metadata": {},
   "source": [
    "### Ajuste de modelo para base de treinamento de origem"
   ]
  },
  {
   "cell_type": "code",
   "execution_count": 6,
   "metadata": {},
   "outputs": [
    {
     "name": "stdout",
     "output_type": "stream",
     "text": [
      "Ajustando modelo com 100 topicos e 2 passes\n"
     ]
    }
   ],
   "source": [
    "treinamento_lda = TreinamentoLda(num_topics=num_topics, passes=2)\n",
    "resultado_lda = treinamento_lda.ajustar_modelo(documentos_origem)\n",
    "lda = resultado_lda.modelo_lda"
   ]
  },
  {
   "cell_type": "markdown",
   "metadata": {},
   "source": [
    "## Análise de tópicos"
   ]
  },
  {
   "cell_type": "markdown",
   "metadata": {},
   "source": [
    "### Visualização de top 10 tópicos e suas principais palavras"
   ]
  },
  {
   "cell_type": "code",
   "execution_count": 8,
   "metadata": {},
   "outputs": [
    {
     "data": {
      "text/plain": [
       "[(40,\n",
       "  '0.016*\"cas\" + 0.013*\"fot\" + 0.007*\"visit\" + 0.007*\"ver\" + 0.007*\"fotograf\" + 0.007*\"cheg\" + 0.006*\"vist\" + 0.006*\"faz\" + 0.006*\"par\" + 0.006*\"por\" + 0.005*\"del\" + 0.005*\"dia\" + 0.005*\"fic\" + 0.005*\"caminh\" + 0.005*\"local\" + 0.005*\"não\" + 0.005*\"ond\" + 0.005*\"bel\" + 0.004*\"segu\" + 0.004*\"cidad\"'),\n",
       " (12,\n",
       "  '0.054*\"jalap\" + 0.019*\"rio\" + 0.019*\"acamp\" + 0.014*\"passei\" + 0.010*\"cano\" + 0.009*\"cacho\" + 0.009*\"dur\" + 0.008*\"hor\" + 0.008*\"trilh\" + 0.007*\"pra\" + 0.007*\"algum\" + 0.007*\"ferv\" + 0.006*\"poi\" + 0.006*\"bem\" + 0.006*\"lei\" + 0.006*\"tom\" + 0.006*\"nov\" + 0.006*\"barrac\" + 0.006*\"banh\" + 0.006*\"rem\"'),\n",
       " (88,\n",
       "  '0.014*\"cervej\" + 0.009*\"fot\" + 0.007*\"visit\" + 0.007*\"ond\" + 0.006*\"parqu\" + 0.005*\"jalap\" + 0.005*\"par\" + 0.005*\"algum\" + 0.004*\"viag\" + 0.004*\"muit\" + 0.004*\"local\" + 0.004*\"espaç\" + 0.004*\"aind\" + 0.004*\"pass\" + 0.004*\"fotograf\" + 0.004*\"bel\" + 0.004*\"outr\" + 0.004*\"pod\" + 0.004*\"ser\" + 0.003*\"interess\"'),\n",
       " (3,\n",
       "  '0.016*\"fot\" + 0.011*\"trilh\" + 0.010*\"fotograf\" + 0.009*\"algum\" + 0.008*\"caminh\" + 0.008*\"fic\" + 0.007*\"expos\" + 0.007*\"parqu\" + 0.007*\"temp\" + 0.007*\"cacho\" + 0.006*\"par\" + 0.006*\"part\" + 0.006*\"faz\" + 0.006*\"pass\" + 0.006*\"rio\" + 0.006*\"bonit\" + 0.005*\"sol\" + 0.005*\"long\" + 0.005*\"outr\" + 0.005*\"ond\"'),\n",
       " (19,\n",
       "  '0.011*\"apresent\" + 0.010*\"bem\" + 0.008*\"conhec\" + 0.008*\"palc\" + 0.008*\"boi\" + 0.008*\"são\" + 0.008*\"danç\" + 0.008*\"fic\" + 0.007*\"fot\" + 0.007*\"viag\" + 0.007*\"deix\" + 0.006*\"viaj\" + 0.006*\"pert\" + 0.006*\"particip\" + 0.006*\"fotograf\" + 0.006*\"maranh\" + 0.006*\"blog\" + 0.006*\"joã\" + 0.006*\"ritm\" + 0.005*\"assist\"'),\n",
       " (73,\n",
       "  '0.053*\"hotel\" + 0.037*\"guarulh\" + 0.026*\"slavier\" + 0.026*\"executiv\" + 0.018*\"aeroport\" + 0.011*\"bem\" + 0.011*\"quart\" + 0.008*\"banh\" + 0.008*\"pass\" + 0.008*\"lug\" + 0.008*\"manhã\" + 0.008*\"oferec\" + 0.008*\"chocolat\" + 0.008*\"agradec\" + 0.008*\"chil\" + 0.007*\"boa\" + 0.007*\"ced\" + 0.007*\"com\" + 0.007*\"voo\" + 0.007*\"cam\"'),\n",
       " (22,\n",
       "  '0.008*\"fot\" + 0.006*\"hotel\" + 0.005*\"bem\" + 0.005*\"mus\" + 0.005*\"outr\" + 0.005*\"centr\" + 0.004*\"local\" + 0.004*\"viaj\" + 0.004*\"praç\" + 0.004*\"cidad\" + 0.004*\"curitib\" + 0.003*\"anj\" + 0.003*\"pass\" + 0.003*\"muit\" + 0.003*\"com\" + 0.003*\"pizz\" + 0.003*\"ediç\" + 0.003*\"encontr\" + 0.003*\"fic\" + 0.003*\"tirad\"'),\n",
       " (21,\n",
       "  '0.015*\"trilh\" + 0.015*\"dia\" + 0.012*\"caminh\" + 0.011*\"glaci\" + 0.011*\"cheg\" + 0.009*\"algum\" + 0.008*\"fot\" + 0.007*\"fic\" + 0.007*\"faz\" + 0.007*\"bonit\" + 0.007*\"vist\" + 0.007*\"ond\" + 0.007*\"passei\" + 0.007*\"volt\" + 0.007*\"sub\" + 0.006*\"temp\" + 0.006*\"ver\" + 0.006*\"lag\" + 0.006*\"muit\" + 0.006*\"hor\"'),\n",
       " (91,\n",
       "  '0.013*\"mus\" + 0.011*\"dia\" + 0.009*\"visit\" + 0.008*\"algum\" + 0.007*\"cas\" + 0.007*\"prai\" + 0.006*\"fic\" + 0.006*\"fot\" + 0.006*\"cidad\" + 0.006*\"pod\" + 0.006*\"doming\" + 0.006*\"pass\" + 0.005*\"temp\" + 0.005*\"caminh\" + 0.005*\"cheg\" + 0.005*\"prédi\" + 0.004*\"muit\" + 0.004*\"bonit\" + 0.004*\"cen\" + 0.004*\"est\"'),\n",
       " (55,\n",
       "  '0.010*\"cheg\" + 0.009*\"bem\" + 0.009*\"vulc\" + 0.009*\"trilh\" + 0.009*\"telefér\" + 0.009*\"fic\" + 0.007*\"tod\" + 0.007*\"mergulh\" + 0.006*\"sub\" + 0.006*\"ver\" + 0.006*\"bress\" + 0.005*\"lagun\" + 0.005*\"com\" + 0.005*\"pass\" + 0.005*\"viag\" + 0.005*\"pizz\" + 0.005*\"tartarug\" + 0.005*\"entr\" + 0.005*\"passei\" + 0.004*\"faz\"')]"
      ]
     },
     "execution_count": 8,
     "metadata": {},
     "output_type": "execute_result"
    }
   ],
   "source": [
    "\n",
    "lda.show_topics(num_topics=10, num_words=20)\n"
   ]
  },
  {
   "cell_type": "markdown",
   "metadata": {},
   "source": [
    "### Visualizar um tópico individualmente"
   ]
  },
  {
   "cell_type": "code",
   "execution_count": 9,
   "metadata": {},
   "outputs": [
    {
     "data": {
      "text/plain": [
       "[('vasso', 0.010624579),\n",
       " ('preg', 0.009564903),\n",
       " ('fot', 0.009415722),\n",
       " ('fic', 0.009386034),\n",
       " ('jalap', 0.008821247),\n",
       " ('macac', 0.008375668),\n",
       " ('mir', 0.008362633),\n",
       " ('par', 0.0075246436),\n",
       " ('visit', 0.007274737),\n",
       " ('cacho', 0.0064701424),\n",
       " ('algum', 0.006308056),\n",
       " ('outr', 0.0059783105),\n",
       " ('conhec', 0.0053330287),\n",
       " ('lad', 0.0047735428),\n",
       " ('rio', 0.004764907),\n",
       " ('bem', 0.004597163),\n",
       " ('pass', 0.0044109984),\n",
       " ('caminh', 0.0043976326),\n",
       " ('temp', 0.0043715695),\n",
       " ('faz', 0.0042403652)]"
      ]
     },
     "execution_count": 9,
     "metadata": {},
     "output_type": "execute_result"
    }
   ],
   "source": [
    "lda.show_topic(topicid=47, topn=20)"
   ]
  },
  {
   "cell_type": "markdown",
   "metadata": {},
   "source": [
    "## Análise das palavras que mais contribuem para os tópicos"
   ]
  },
  {
   "cell_type": "code",
   "execution_count": 38,
   "metadata": {},
   "outputs": [],
   "source": [
    "def extrair_palavras(descricao_palavra):\n",
    "    return re.findall('\\\".+?\\\"', descricao_palavra)"
   ]
  },
  {
   "cell_type": "code",
   "execution_count": 44,
   "metadata": {},
   "outputs": [],
   "source": [
    "\"\"\"\n",
    "Faz analise das top n palavras que mais contribuem para as definicoes dos topics. Se o parametros topn nao eh informado apenas a palavras que mais contribue sera \n",
    "considerada. Se for informado 3, por exemplo, as 3 palavras que mais contribuem para um topico serao consideradas.\n",
    "\n",
    "Retorno: tupla de 2 elementos onde o primeiro eh a lista de topicos com as topn palavras que mais contribuem e o segundo elemento eh um objeto counter que \n",
    "mostra as palavras que mais contribuem entre as topn dos topicos.\n",
    "\"\"\"\n",
    "def analisar_top_n_palavras_em_topicos(lda, num_topics, topn=1):\n",
    "    topicos = lda.show_topics(num_topics=num_topics, num_words=topn)\n",
    "    palavras_topicos = [extrair_palavras(p[1]) for p in topicos]\n",
    "    topn_palavras = [palavra for palavras_topico in palavras_topicos for palavra in palavras_topico]\n",
    "    print(f'len of top n palavras = {len(topn_palavras)}')\n",
    "    counter_topn_palavras = Counter(topn_palavras)\n",
    "    return (topicos, counter_topn_palavras.most_common())"
   ]
  },
  {
   "cell_type": "markdown",
   "metadata": {},
   "source": [
    "### Análise da primeira palavra que mais contribui para cada tópico"
   ]
  },
  {
   "cell_type": "code",
   "execution_count": 47,
   "metadata": {},
   "outputs": [
    {
     "name": "stdout",
     "output_type": "stream",
     "text": [
      "len of top n palavras = 100\n"
     ]
    }
   ],
   "source": [
    "analise_top1 = analisar_top_n_palavras_em_topicos(lda, num_topics=num_topics, topn=1)"
   ]
  },
  {
   "cell_type": "code",
   "execution_count": 48,
   "metadata": {},
   "outputs": [
    {
     "data": {
      "text/plain": [
       "[(0, '0.022*\"jalap\"'),\n",
       " (1, '0.008*\"caminh\"'),\n",
       " (2, '0.018*\"centr\"'),\n",
       " (3, '0.016*\"fot\"'),\n",
       " (4, '0.009*\"par\"'),\n",
       " (5, '0.011*\"fot\"'),\n",
       " (6, '0.028*\"fot\"'),\n",
       " (7, '0.101*\"jalap\"'),\n",
       " (8, '0.009*\"parqu\"'),\n",
       " (9, '0.013*\"parqu\"'),\n",
       " (10, '0.010*\"mus\"'),\n",
       " (11, '0.009*\"algum\"'),\n",
       " (12, '0.054*\"jalap\"'),\n",
       " (13, '0.011*\"passei\"'),\n",
       " (14, '0.024*\"alegr\"'),\n",
       " (15, '0.096*\"nev\"'),\n",
       " (16, '0.014*\"viag\"'),\n",
       " (17, '0.011*\"viag\"'),\n",
       " (18, '0.016*\"lan\"'),\n",
       " (19, '0.011*\"apresent\"')]"
      ]
     },
     "execution_count": 48,
     "metadata": {},
     "output_type": "execute_result"
    }
   ],
   "source": [
    "analise_top1[0][:20]"
   ]
  },
  {
   "cell_type": "code",
   "execution_count": 49,
   "metadata": {},
   "outputs": [
    {
     "name": "stdout",
     "output_type": "stream",
     "text": [
      "[('\"fot\"', 29), ('\"parqu\"', 6), ('\"dia\"', 5), ('\"jalap\"', 4), ('\"algum\"', 3), ('\"atacam\"', 3), ('\"hotel\"', 3), ('\"cervej\"', 3), ('\"caminh\"', 2), ('\"mus\"', 2), ('\"viag\"', 2), ('\"restaurant\"', 2), ('\"cas\"', 2), ('\"pod\"', 2), ('\"centr\"', 1), ('\"par\"', 1), ('\"passei\"', 1), ('\"alegr\"', 1), ('\"nev\"', 1), ('\"lan\"', 1), ('\"apresent\"', 1), ('\"trilh\"', 1), ('\"visit\"', 1), ('\"urs\"', 1), ('\"fotograf\"', 1), ('\"estr\"', 1), ('\"santiag\"', 1), ('\"lago\"', 1), ('\"vasso\"', 1), ('\"vulc\"', 1), ('\"cheg\"', 1), ('\"final\"', 1), ('\"cidad\"', 1), ('\"luí\"', 1), ('\"ônibu\"', 1), ('\"lag\"', 1), ('\"glaci\"', 1), ('\"ond\"', 1), ('\"sorvet\"', 1), ('\"islând\"', 1), ('\"praç\"', 1), ('\"igrej\"', 1), ('\"cat\"', 1), ('\"wanak\"', 1), ('\"sant\"', 1), ('\"bariloch\"', 1)]\n"
     ]
    }
   ],
   "source": [
    "print(analise_top1[1])"
   ]
  },
  {
   "cell_type": "markdown",
   "metadata": {},
   "source": [
    "### Análise das 2 palavras que mais contribuem para cada tópico"
   ]
  },
  {
   "cell_type": "code",
   "execution_count": 53,
   "metadata": {},
   "outputs": [
    {
     "name": "stdout",
     "output_type": "stream",
     "text": [
      "len of top n palavras = 200\n"
     ]
    }
   ],
   "source": [
    "analise_top2 = analisar_top_n_palavras_em_topicos(lda, num_topics=num_topics, topn=2)"
   ]
  },
  {
   "cell_type": "code",
   "execution_count": 54,
   "metadata": {},
   "outputs": [
    {
     "data": {
      "text/plain": [
       "[(0, '0.022*\"jalap\" + 0.015*\"sol\"'),\n",
       " (1, '0.008*\"caminh\" + 0.008*\"parqu\"'),\n",
       " (2, '0.018*\"centr\" + 0.017*\"cult\"'),\n",
       " (3, '0.016*\"fot\" + 0.011*\"trilh\"'),\n",
       " (4, '0.009*\"par\" + 0.009*\"fic\"'),\n",
       " (5, '0.011*\"fot\" + 0.008*\"parqu\"'),\n",
       " (6, '0.028*\"fot\" + 0.016*\"vitr\"'),\n",
       " (7, '0.101*\"jalap\" + 0.015*\"lev\"'),\n",
       " (8, '0.009*\"parqu\" + 0.007*\"fot\"'),\n",
       " (9, '0.013*\"parqu\" + 0.013*\"teatr\"'),\n",
       " (10, '0.010*\"mus\" + 0.009*\"cel\"'),\n",
       " (11, '0.009*\"algum\" + 0.009*\"dur\"'),\n",
       " (12, '0.054*\"jalap\" + 0.019*\"rio\"'),\n",
       " (13, '0.011*\"passei\" + 0.010*\"cheg\"'),\n",
       " (14, '0.024*\"alegr\" + 0.017*\"encontr\"'),\n",
       " (15, '0.096*\"nev\" + 0.089*\"vall\"'),\n",
       " (16, '0.014*\"viag\" + 0.009*\"visit\"'),\n",
       " (17, '0.011*\"viag\" + 0.010*\"fot\"'),\n",
       " (18, '0.016*\"lan\" + 0.013*\"fot\"'),\n",
       " (19, '0.011*\"apresent\" + 0.010*\"bem\"')]"
      ]
     },
     "execution_count": 54,
     "metadata": {},
     "output_type": "execute_result"
    }
   ],
   "source": [
    "analise_top2[0][:20]"
   ]
  },
  {
   "cell_type": "code",
   "execution_count": 55,
   "metadata": {},
   "outputs": [
    {
     "name": "stdout",
     "output_type": "stream",
     "text": [
      "[('\"fot\"', 41), ('\"parqu\"', 9), ('\"dia\"', 9), ('\"fic\"', 6), ('\"jalap\"', 5), ('\"caminh\"', 5), ('\"algum\"', 5), ('\"passei\"', 5), ('\"fotograf\"', 5), ('\"hotel\"', 5), ('\"trilh\"', 4), ('\"restaurant\"', 4), ('\"viag\"', 3), ('\"visit\"', 3), ('\"atacam\"', 3), ('\"sal\"', 3), ('\"urs\"', 3), ('\"cervej\"', 3), ('\"sol\"', 2), ('\"par\"', 2), ('\"mus\"', 2), ('\"rio\"', 2), ('\"cheg\"', 2), ('\"bem\"', 2), ('\"local\"', 2), ('\"aplic\"', 2), ('\"lag\"', 2), ('\"cas\"', 2), ('\"lago\"', 2), ('\"pod\"', 2), ('\"tir\"', 2), ('\"centr\"', 1), ('\"cult\"', 1), ('\"vitr\"', 1), ('\"lev\"', 1), ('\"teatr\"', 1), ('\"cel\"', 1), ('\"dur\"', 1), ('\"alegr\"', 1), ('\"encontr\"', 1), ('\"nev\"', 1), ('\"vall\"', 1), ('\"lan\"', 1), ('\"apresent\"', 1), ('\"outr\"', 1), ('\"ferv\"', 1), ('\"curitib\"', 1), ('\"rock\"', 1), ('\"prai\"', 1), ('\"estr\"', 1), ('\"seward\"', 1), ('\"santiag\"', 1), ('\"vasso\"', 1), ('\"preg\"', 1), ('\"pont\"', 1), ('\"vulc\"', 1), ('\"cinz\"', 1), ('\"histór\"', 1), ('\"expos\"', 1), ('\"lent\"', 1), ('\"final\"', 1), ('\"min\"', 1), ('\"escolh\"', 1), ('\"experiment\"', 1), ('\"cidad\"', 1), ('\"luí\"', 1), ('\"são\"', 1), ('\"ônibu\"', 1), ('\"guarulh\"', 1), ('\"glaci\"', 1), ('\"cent\"', 1), ('\"ond\"', 1), ('\"and\"', 1), ('\"sorvet\"', 1), ('\"islând\"', 1), ('\"praç\"', 1), ('\"igrej\"', 1), ('\"bairr\"', 1), ('\"cat\"', 1), ('\"alt\"', 1), ('\"wanak\"', 1), ('\"sant\"', 1), ('\"cam\"', 1), ('\"bariloch\"', 1)]\n"
     ]
    }
   ],
   "source": [
    "print(analise_top2[1])"
   ]
  },
  {
   "cell_type": "markdown",
   "metadata": {},
   "source": [
    "### Análise das 5 palavras que mais contribuem para cada tópico"
   ]
  },
  {
   "cell_type": "code",
   "execution_count": 56,
   "metadata": {},
   "outputs": [
    {
     "name": "stdout",
     "output_type": "stream",
     "text": [
      "len of top n palavras = 500\n"
     ]
    }
   ],
   "source": [
    "analise_top5 = analisar_top_n_palavras_em_topicos(lda, num_topics=num_topics, topn=5)"
   ]
  },
  {
   "cell_type": "code",
   "execution_count": 57,
   "metadata": {},
   "outputs": [
    {
     "data": {
      "text/plain": [
       "[(0,\n",
       "  '0.022*\"jalap\" + 0.015*\"sol\" + 0.015*\"fot\" + 0.014*\"viag\" + 0.010*\"viaj\"'),\n",
       " (1,\n",
       "  '0.008*\"caminh\" + 0.008*\"parqu\" + 0.007*\"fot\" + 0.007*\"atacam\" + 0.006*\"pass\"'),\n",
       " (2,\n",
       "  '0.018*\"centr\" + 0.017*\"cult\" + 0.013*\"visit\" + 0.012*\"cas\" + 0.011*\"gui\"'),\n",
       " (3,\n",
       "  '0.016*\"fot\" + 0.011*\"trilh\" + 0.010*\"fotograf\" + 0.009*\"algum\" + 0.008*\"caminh\"'),\n",
       " (4, '0.009*\"par\" + 0.009*\"fic\" + 0.008*\"outr\" + 0.007*\"bem\" + 0.007*\"algum\"'),\n",
       " (5,\n",
       "  '0.011*\"fot\" + 0.008*\"parqu\" + 0.007*\"algum\" + 0.006*\"visit\" + 0.006*\"cidad\"'),\n",
       " (6,\n",
       "  '0.028*\"fot\" + 0.016*\"vitr\" + 0.014*\"fotograf\" + 0.011*\"hotel\" + 0.009*\"resolv\"'),\n",
       " (7,\n",
       "  '0.101*\"jalap\" + 0.015*\"lev\" + 0.014*\"cacho\" + 0.013*\"trilh\" + 0.012*\"fot\"'),\n",
       " (8,\n",
       "  '0.009*\"parqu\" + 0.007*\"fot\" + 0.007*\"santiag\" + 0.007*\"barrac\" + 0.006*\"fic\"'),\n",
       " (9,\n",
       "  '0.013*\"parqu\" + 0.013*\"teatr\" + 0.011*\"visit\" + 0.010*\"cidad\" + 0.010*\"conhec\"'),\n",
       " (10,\n",
       "  '0.010*\"mus\" + 0.009*\"cel\" + 0.009*\"fot\" + 0.009*\"ano\" + 0.009*\"particip\"'),\n",
       " (11, '0.009*\"algum\" + 0.009*\"dur\" + 0.009*\"fot\" + 0.008*\"lag\" + 0.008*\"tod\"'),\n",
       " (12,\n",
       "  '0.054*\"jalap\" + 0.019*\"rio\" + 0.019*\"acamp\" + 0.014*\"passei\" + 0.010*\"cano\"'),\n",
       " (13,\n",
       "  '0.011*\"passei\" + 0.010*\"cheg\" + 0.010*\"lag\" + 0.009*\"barc\" + 0.009*\"fot\"'),\n",
       " (14,\n",
       "  '0.024*\"alegr\" + 0.017*\"encontr\" + 0.014*\"gaúch\" + 0.010*\"degust\" + 0.009*\"port\"'),\n",
       " (15,\n",
       "  '0.096*\"nev\" + 0.089*\"vall\" + 0.079*\"esqu\" + 0.045*\"ski\" + 0.039*\"resort\"'),\n",
       " (16,\n",
       "  '0.014*\"viag\" + 0.009*\"visit\" + 0.009*\"aqu\" + 0.008*\"cidad\" + 0.008*\"pod\"'),\n",
       " (17,\n",
       "  '0.011*\"viag\" + 0.010*\"fot\" + 0.009*\"passei\" + 0.007*\"par\" + 0.007*\"local\"'),\n",
       " (18,\n",
       "  '0.016*\"lan\" + 0.013*\"fot\" + 0.011*\"trech\" + 0.011*\"santiag\" + 0.009*\"caix\"'),\n",
       " (19,\n",
       "  '0.011*\"apresent\" + 0.010*\"bem\" + 0.008*\"conhec\" + 0.008*\"palc\" + 0.008*\"boi\"')]"
      ]
     },
     "execution_count": 57,
     "metadata": {},
     "output_type": "execute_result"
    }
   ],
   "source": [
    "analise_top5[0][:20]"
   ]
  },
  {
   "cell_type": "code",
   "execution_count": 58,
   "metadata": {},
   "outputs": [
    {
     "name": "stdout",
     "output_type": "stream",
     "text": [
      "[('\"fot\"', 56), ('\"fic\"', 20), ('\"visit\"', 17), ('\"fotograf\"', 16), ('\"dia\"', 15), ('\"parqu\"', 13), ('\"algum\"', 13), ('\"trilh\"', 12), ('\"cidad\"', 12), ('\"par\"', 11), ('\"passei\"', 11), ('\"jalap\"', 10), ('\"caminh\"', 10), ('\"bem\"', 8), ('\"restaurant\"', 7), ('\"viag\"', 6), ('\"cas\"', 6), ('\"hotel\"', 6), ('\"lag\"', 6), ('\"tir\"', 6), ('\"atacam\"', 5), ('\"pass\"', 5), ('\"outr\"', 5), ('\"cacho\"', 5), ('\"pod\"', 5), ('\"local\"', 5), ('\"sal\"', 5), ('\"urs\"', 5), ('\"cheg\"', 4), ('\"igrej\"', 4), ('\"sol\"', 3), ('\"centr\"', 3), ('\"santiag\"', 3), ('\"conhec\"', 3), ('\"mus\"', 3), ('\"faz\"', 3), ('\"estr\"', 3), ('\"min\"', 3), ('\"cervej\"', 3), ('\"viaj\"', 2), ('\"tod\"', 2), ('\"rio\"', 2), ('\"barc\"', 2), ('\"vall\"', 2), ('\"fl\"', 2), ('\"glaci\"', 2), ('\"aplic\"', 2), ('\"abert\"', 2), ('\"com\"', 2), ('\"lagun\"', 2), ('\"prai\"', 2), ('\"por\"', 2), ('\"milh\"', 2), ('\"lago\"', 2), ('\"revel\"', 2), ('\"pont\"', 2), ('\"vulc\"', 2), ('\"expos\"', 2), ('\"lent\"', 2), ('\"víde\"', 2), ('\"muit\"', 2), ('\"ônibu\"', 2), ('\"ond\"', 2), ('\"and\"', 2), ('\"praç\"', 2), ('\"sant\"', 2), ('\"bariloch\"', 2), ('\"cult\"', 1), ('\"gui\"', 1), ('\"vitr\"', 1), ('\"resolv\"', 1), ('\"lev\"', 1), ('\"barrac\"', 1), ('\"teatr\"', 1), ('\"cel\"', 1), ('\"ano\"', 1), ('\"particip\"', 1), ('\"dur\"', 1), ('\"acamp\"', 1), ('\"cano\"', 1), ('\"alegr\"', 1), ('\"encontr\"', 1), ('\"gaúch\"', 1), ('\"degust\"', 1), ('\"port\"', 1), ('\"nev\"', 1), ('\"esqu\"', 1), ('\"ski\"', 1), ('\"resort\"', 1), ('\"aqu\"', 1), ('\"lan\"', 1), ('\"trech\"', 1), ('\"caix\"', 1), ('\"apresent\"', 1), ('\"palc\"', 1), ('\"boi\"', 1), ('\"animal\"', 1), ('\"abraç\"', 1), ('\"bond\"', 1), ('\"ferv\"', 1), ('\"velh\"', 1), ('\"espírit\"', 1), ('\"dist\"', 1), ('\"curitib\"', 1), ('\"prat\"', 1), ('\"rock\"', 1), ('\"can\"', 1), ('\"punt\"', 1), ('\"tibet\"', 1), ('\"vinh\"', 1), ('\"ros\"', 1), ('\"cinderel\"', 1), ('\"ver\"', 1), ('\"hor\"', 1), ('\"seward\"', 1), ('\"vasso\"', 1), ('\"preg\"', 1), ('\"hostel\"', 1), ('\"cinz\"', 1), ('\"puert\"', 1), ('\"var\"', 1), ('\"histór\"', 1), ('\"interess\"', 1), ('\"estad\"', 1), ('\"telefér\"', 1), ('\"ser\"', 1), ('\"ilumin\"', 1), ('\"arcoiril\"', 1), ('\"final\"', 1), ('\"antoni\"', 1), ('\"chopp\"', 1), ('\"tirad\"', 1), ('\"escolh\"', 1), ('\"telefon\"', 1), ('\"endereç\"', 1), ('\"ambi\"', 1), ('\"nbsp\"', 1), ('\"post\"', 1), ('\"experiment\"', 1), ('\"luí\"', 1), ('\"são\"', 1), ('\"camp\"', 1), ('\"volt\"', 1), ('\"consegu\"', 1), ('\"guarulh\"', 1), ('\"slavier\"', 1), ('\"executiv\"', 1), ('\"aeroport\"', 1), ('\"routeburn\"', 1), ('\"cent\"', 1), ('\"natur\"', 1), ('\"banh\"', 1), ('\"espaç\"', 1), ('\"sorvet\"', 1), ('\"us\"', 1), ('\"islând\"', 1), ('\"dirig\"', 1), ('\"gaudí\"', 1), ('\"cerr\"', 1), ('\"liberdad\"', 1), ('\"decor\"', 1), ('\"temp\"', 1), ('\"bairr\"', 1), ('\"senh\"', 1), ('\"cont\"', 1), ('\"gost\"', 1), ('\"compos\"', 1), ('\"motiv\"', 1), ('\"cat\"', 1), ('\"alt\"', 1), ('\"geral\"', 1), ('\"wanak\"', 1), ('\"tre\"', 1), ('\"cam\"', 1), ('\"lucí\"', 1)]\n"
     ]
    }
   ],
   "source": [
    "print(analise_top5[1])"
   ]
  },
  {
   "cell_type": "markdown",
   "metadata": {},
   "source": [
    "### Análise das 20 palavras que mais contribuem para cada tópico"
   ]
  },
  {
   "cell_type": "code",
   "execution_count": 59,
   "metadata": {},
   "outputs": [
    {
     "name": "stdout",
     "output_type": "stream",
     "text": [
      "len of top n palavras = 2000\n"
     ]
    }
   ],
   "source": [
    "analise_top20 = analisar_top_n_palavras_em_topicos(lda, num_topics=num_topics, topn=20)"
   ]
  },
  {
   "cell_type": "code",
   "execution_count": null,
   "metadata": {},
   "outputs": [],
   "source": [
    "analise_top20[0][:20]"
   ]
  },
  {
   "cell_type": "code",
   "execution_count": 61,
   "metadata": {},
   "outputs": [
    {
     "name": "stdout",
     "output_type": "stream",
     "text": [
      "[('\"fot\"', 76), ('\"fic\"', 66), ('\"algum\"', 63), ('\"par\"', 50), ('\"faz\"', 45), ('\"visit\"', 44), ('\"dia\"', 43), ('\"pod\"', 40), ('\"bem\"', 38), ('\"cidad\"', 38), ('\"caminh\"', 37), ('\"cheg\"', 35), ('\"passei\"', 34), ('\"pass\"', 33), ('\"outr\"', 30), ('\"fotograf\"', 29), ('\"parqu\"', 28), ('\"local\"', 28), ('\"muit\"', 26), ('\"hor\"', 24), ('\"temp\"', 24), ('\"viag\"', 22), ('\"conhec\"', 22), ('\"ond\"', 21), ('\"trilh\"', 20), ('\"com\"', 20), ('\"tod\"', 19), ('\"ver\"', 16), ('\"restaurant\"', 16), ('\"jalap\"', 15), ('\"pont\"', 15), ('\"tir\"', 14), ('\"pouc\"', 13), ('\"lag\"', 13), ('\"part\"', 12), ('\"hotel\"', 12), ('\"sol\"', 11), ('\"expos\"', 11), ('\"cacho\"', 11), ('\"abert\"', 11), ('\"gost\"', 11), ('\"viaj\"', 10), ('\"cas\"', 10), ('\"vist\"', 10), ('\"ser\"', 10), ('\"estr\"', 10), ('\"centr\"', 9), ('\"rio\"', 9), ('\"bonit\"', 9), ('\"volt\"', 9), ('\"interess\"', 9), ('\"águ\"', 8), ('\"min\"', 8), ('\"revel\"', 8), ('\"sal\"', 8), ('\"atacam\"', 7), ('\"alt\"', 7), ('\"cerr\"', 7), ('\"são\"', 7), ('\"pra\"', 6), ('\"santiag\"', 6), ('\"bel\"', 6), ('\"cont\"', 6), ('\"igrej\"', 6), ('\"ônibu\"', 5), ('\"maranh\"', 5), ('\"histór\"', 5), ('\"ilumin\"', 5), ('\"sant\"', 5), ('\"experiment\"', 5), ('\"mar\"', 5), ('\"prai\"', 5), ('\"prat\"', 5), ('\"escolh\"', 5), ('\"urs\"', 5), ('\"lad\"', 5), ('\"ferv\"', 4), ('\"mund\"', 4), ('\"cor\"', 4), ('\"luz\"', 4), ('\"pret\"', 4), ('\"puert\"', 4), ('\"banh\"', 4), ('\"degust\"', 4), ('\"and\"', 4), ('\"deix\"', 4), ('\"glaci\"', 4), ('\"sub\"', 4), ('\"sup\"', 4), ('\"est\"', 4), ('\"reg\"', 4), ('\"lug\"', 4), ('\"form\"', 4), ('\"lago\"', 4), ('\"entr\"', 4), ('\"cen\"', 4), ('\"espaç\"', 4), ('\"gui\"', 3), ('\"long\"', 3), ('\"resolv\"', 3), ('\"iso\"', 3), ('\"grand\"', 3), ('\"nov\"', 3), ('\"serr\"', 3), ('\"lei\"', 3), ('\"carr\"', 3), ('\"mus\"', 3), ('\"dur\"', 3), ('\"barc\"', 3), ('\"áre\"', 3), ('\"encontr\"', 3), ('\"apresent\"', 3), ('\"fl\"', 3), ('\"praç\"', 3), ('\"tirad\"', 3), ('\"aind\"', 3), ('\"gent\"', 3), ('\"val\"', 3), ('\"dist\"', 3), ('\"focal\"', 3), ('\"opç\"', 3), ('\"boa\"', 3), ('\"lagun\"', 3), ('\"por\"', 3), ('\"fiz\"', 3), ('\"segu\"', 3), ('\"nbsp\"', 3), ('\"bariloch\"', 3), ('\"compos\"', 3), ('\"cervej\"', 3), ('\"pôr\"', 2), ('\"dun\"', 2), ('\"cult\"', 2), ('\"fest\"', 2), ('\"quin\"', 2), ('\"guim\"', 2), ('\"can\"', 2), ('\"punt\"', 2), ('\"canyon\"', 2), ('\"amp\"', 2), ('\"rock\"', 2), ('\"velh\"', 2), ('\"korub\"', 2), ('\"espírit\"', 2), ('\"barrac\"', 2), ('\"san\"', 2), ('\"estad\"', 2), ('\"prim\"', 2), ('\"ano\"', 2), ('\"particip\"', 2), ('\"chei\"', 2), ('\"var\"', 2), ('\"acamp\"', 2), ('\"cano\"', 2), ('\"vall\"', 2), ('\"aqu\"', 2), ('\"blogu\"', 2), ('\"trech\"', 2), ('\"ach\"', 2), ('\"trajet\"', 2), ('\"blog\"', 2), ('\"assist\"', 2), ('\"dic\"', 2), ('\"ambi\"', 2), ('\"curitib\"', 2), ('\"pizz\"', 2), ('\"pous\"', 2), ('\"aplic\"', 2), ('\"morr\"', 2), ('\"vinh\"', 2), ('\"quart\"', 2), ('\"tor\"', 2), ('\"jacu\"', 2), ('\"jog\"', 2), ('\"pais\"', 2), ('\"del\"', 2), ('\"melhor\"', 2), ('\"sobr\"', 2), ('\"milh\"', 2), ('\"film\"', 2), ('\"post\"', 2), ('\"lençol\"', 2), ('\"mir\"', 2), ('\"vulc\"', 2), ('\"nest\"', 2), ('\"lent\"', 2), ('\"rua\"', 2), ('\"filtr\"', 2), ('\"víde\"', 2), ('\"telefon\"', 2), ('\"acompanh\"', 2), ('\"palafit\"', 2), ('\"luí\"', 2), ('\"sorvet\"', 2), ('\"cat\"', 2), ('\"cent\"', 2), ('\"tour\"', 2), ('\"mai\"', 2), ('\"consegu\"', 2), ('\"cam\"', 2), ('\"montanh\"', 2), ('\"natur\"', 2), ('\"us\"', 2), ('\"câm\"', 2), ('\"geral\"', 2), ('\"mochil\"', 1), ('\"rit\"', 1), ('\"folclor\"', 1), ('\"festej\"', 1), ('\"popul\"', 1), ('\"vitr\"', 1), ('\"med\"', 1), ('\"lev\"', 1), ('\"dour\"', 1), ('\"capim\"', 1), ('\"teatr\"', 1), ('\"biciclet\"', 1), ('\"serviç\"', 1), ('\"map\"', 1), ('\"bicing\"', 1), ('\"cel\"', 1), ('\"event\"', 1), ('\"ufmg\"', 1), ('\"inscr\"', 1), ('\"lua\"', 1), ('\"cassil\"', 1), ('\"azulej\"', 1), ('\"poi\"', 1), ('\"tom\"', 1), ('\"rem\"', 1), ('\"alegr\"', 1), ('\"gaúch\"', 1), ('\"port\"', 1), ('\"chim\"', 1), ('\"tchêncontr\"', 1), ('\"guaíb\"', 1), ('\"direit\"', 1), ('\"depois\"', 1), ('\"glacy\"', 1), ('\"nev\"', 1), ('\"esqu\"', 1), ('\"ski\"', 1), ('\"resort\"', 1), ('\"pist\"', 1), ('\"aul\"', 1), ('\"estaçã\"', 1), ('\"aventur\"', 1), ('\"experi\"', 1), ('\"b4tcomm\"', 1), ('\"turistik\"', 1), ('\"gta\"', 1), ('\"segur\"', 1), ('\"lat\"', 1), ('\"aére\"', 1), ('\"convit\"', 1), ('\"através\"', 1), ('\"lan\"', 1), ('\"caix\"', 1), ('\"bord\"', 1), ('\"pag\"', 1), ('\"pacot\"', 1), ('\"lanch\"', 1), ('\"vo\"', 1), ('\"avi\"', 1), ('\"preç\"', 1), ('\"biscoit\"', 1), ('\"embarqu\"', 1), ('\"montevidéu\"', 1), ('\"havann\"', 1), ('\"gener\"', 1), ('\"palc\"', 1), ('\"boi\"', 1), ('\"danç\"', 1), ('\"pert\"', 1), ('\"joã\"', 1), ('\"ritm\"', 1), ('\"animal\"', 1), ('\"traful\"', 1), ('\"dentr\"', 1), ('\"grad\"', 1), ('\"anj\"', 1), ('\"ediç\"', 1), ('\"abraç\"', 1), ('\"açã\"', 1), ('\"hdr\"', 1), ('\"bond\"', 1), ('\"aparec\"', 1), ('\"cruz\"', 1), ('\"vag\"', 1), ('\"refresc\"', 1), ('\"gl\"', 1), ('\"toalh\"', 1), ('\"son\"', 1), ('\"cal\"', 1), ('\"férias\"', 1), ('\"cupcak\"', 1), ('\"knock\"', 1), ('\"trip\"', 1), ('\"rib\"', 1), ('\"crem\"', 1), ('\"carn\"', 1), ('\"serv\"', 1), ('\"reun\"', 1), ('\"casin\"', 1), ('\"hard\"', 1), ('\"merc\"', 1), ('\"tibet\"', 1), ('\"chin\"', 1), ('\"lhas\"', 1), ('\"dest\"', 1), ('\"vinícol\"', 1), ('\"flaming\"', 1), ('\"ros\"', 1), ('\"lla\"', 1), ('\"cinderel\"', 1), ('\"desfil\"', 1), ('\"am\"', 1), ('\"argentin\"', 1), ('\"person\"', 1), ('\"moment\"', 1), ('\"tard\"', 1), ('\"uyun\"', 1), ('\"noç\"', 1), ('\"não\"', 1), ('\"color\"', 1), ('\"planej\"', 1), ('\"ant\"', 1), ('\"seward\"', 1), ('\"highway\"', 1), ('\"projet\"', 1), ('\"alasc\"', 1), ('\"cinem\"', 1), ('\"belug\"', 1), ('\"arch\"', 1), ('\"tip\"', 1), ('\"vasso\"', 1), ('\"preg\"', 1), ('\"macac\"', 1), ('\"curs\"', 1), ('\"antig\"', 1), ('\"park\"', 1), ('\"hostel\"', 1), ('\"cinz\"', 1), ('\"osorn\"', 1), ('\"chilen\"', 1), ('\"llanquihu\"', 1), ('\"loj\"', 1), ('\"estanh\"', 1), ('\"peç\"', 1), ('\"basíl\"', 1), ('\"vau\"', 1), ('\"desafi\"', 1), ('\"atr\"', 1), ('\"telefér\"', 1), ('\"mergulh\"', 1), ('\"bress\"', 1), ('\"tartarug\"', 1), ('\"arcoiril\"', 1), ('\"hierb\"', 1), ('\"buen\"', 1), ('\"ayllu\"', 1), ('\"agênc\"', 1), ('\"recomend\"', 1), ('\"final\"', 1), ('\"antoni\"', 1), ('\"chopp\"', 1), ('\"rei\"', 1), ('\"hill\"', 1), ('\"crianç\"', 1), ('\"endereç\"', 1), ('\"agrad\"', 1), ('\"mes\"', 1), ('\"marin\"', 1), ('\"sobrem\"', 1), ('\"ped\"', 1), ('\"congr\"', 1), ('\"jant\"', 1), ('\"batat\"', 1), ('\"sit\"', 1), ('\"instagr\"', 1), ('\"compartilh\"', 1), ('\"cânion\"', 1), ('\"matern\"', 1), ('\"back\"', 1), ('\"produç\"', 1), ('\"artesan\"', 1), ('\"páti\"', 1), ('\"cordilh\"', 1), ('\"chax\"', 1), ('\"esqueç\"', 1), ('\"denal\"', 1), ('\"mckinley\"', 1), ('\"eielson\"', 1), ('\"riv\"', 1), ('\"visi\"', 1), ('\"camp\"', 1), ('\"profund\"', 1), ('\"começ\"', 1), ('\"roy\"', 1), ('\"guarulh\"', 1), ('\"slavier\"', 1), ('\"executiv\"', 1), ('\"aeroport\"', 1), ('\"manhã\"', 1), ('\"oferec\"', 1), ('\"chocolat\"', 1), ('\"agradec\"', 1), ('\"chil\"', 1), ('\"ced\"', 1), ('\"voo\"', 1), ('\"routeburn\"', 1), ('\"lak\"', 1), ('\"abrig\"', 1), ('\"fall\"', 1), ('\"café\"', 1), ('\"exit\"', 1), ('\"spray\"', 1), ('\"inform\"', 1), ('\"habitat\"', 1), ('\"ken\"', 1), ('\"fjord\"', 1), ('\"rang\"', 1), ('\"objet\"', 1), ('\"chap\"', 1), ('\"planet\"', 1), ('\"aless\"', 1), ('\"polariz\"', 1), ('\"cívic\"', 1), ('\"mulh\"', 1), ('\"hom\"', 1), ('\"fever\"', 1), ('\"islând\"', 1), ('\"dirig\"', 1), ('\"nó\"', 1), ('\"apen\"', 1), ('\"internet\"', 1), ('\"chip\"', 1), ('\"precis\"', 1), ('\"ring\"', 1), ('\"gaudí\"', 1), ('\"güell\"', 1), ('\"torr\"', 1), ('\"peg\"', 1), ('\"liberdad\"', 1), ('\"decor\"', 1), ('\"natal\"', 1), ('\"jardim\"', 1), ('\"bellav\"', 1), ('\"catedr\"', 1), ('\"bairr\"', 1), ('\"senh\"', 1), ('\"paril\"', 1), ('\"noss\"', 1), ('\"portugues\"', 1), ('\"vitór\"', 1), ('\"edifíci\"', 1), ('\"piedad\"', 1), ('\"gôndol\"', 1), ('\"cervezaant\"', 1), ('\"tulip\"', 1), ('\"cardápi\"', 1), ('\"consult\"', 1), ('\"doming\"', 1), ('\"prédi\"', 1), ('\"motiv\"', 1), ('\"imag\"', 1), ('\"linh\"', 1), ('\"princip\"', 1), ('\"pedr\"', 1), ('\"plan\"', 1), ('\"diret\"', 1), ('\"bar\"', 1), ('\"botec\"', 1), ('\"caraç\"', 1), ('\"santu\"', 1), ('\"wanak\"', 1), ('\"tre\"', 1), ('\"pur\"', 1), ('\"ligur\"', 1), ('\"mount\"', 1), ('\"bast\"', 1), ('\"aspiring\"', 1), ('\"zelând\"', 1), ('\"pared\"', 1), ('\"lucí\"', 1), ('\"almoç\"', 1), ('\"memor\"', 1), ('\"lo\"', 1), ('\"martín\"', 1), ('\"lanín\"', 1), ('\"set\"', 1)]\n"
     ]
    }
   ],
   "source": [
    "print(analise_top20[1])"
   ]
  }
 ],
 "metadata": {
  "interpreter": {
   "hash": "e40f5302c6d4b9de2141353283620edefcabae1dbe23ed7117377b1c1ce32e40"
  },
  "kernelspec": {
   "display_name": "Python 3.8.11 64-bit ('tcc-venv': venv)",
   "name": "python3"
  },
  "language_info": {
   "codemirror_mode": {
    "name": "ipython",
    "version": 3
   },
   "file_extension": ".py",
   "mimetype": "text/x-python",
   "name": "python",
   "nbconvert_exporter": "python",
   "pygments_lexer": "ipython3",
   "version": "3.8.11"
  },
  "orig_nbformat": 4
 },
 "nbformat": 4,
 "nbformat_minor": 2
}