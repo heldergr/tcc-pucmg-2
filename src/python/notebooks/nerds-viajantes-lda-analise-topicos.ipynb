{
 "cells": [
  {
   "cell_type": "code",
   "execution_count": 21,
   "metadata": {},
   "outputs": [],
   "source": [
    "%reload_ext autoreload\n",
    "%autoreload 2"
   ]
  },
  {
   "cell_type": "code",
   "execution_count": 28,
   "metadata": {},
   "outputs": [],
   "source": [
    "from fonte_dados.fabrica import FabricaFonteDados, NERDS_VIAJANTES\n",
    "from treinamento.treinamento_lda import TreinamentoLda\n",
    "from repository.mongo_utils import get_pages_content_collection\n",
    "from repository.wikipedia import WikipediaRepo"
   ]
  },
  {
   "cell_type": "code",
   "execution_count": 23,
   "metadata": {},
   "outputs": [],
   "source": [
    "wikipedia_repo = WikipediaRepo(collection=get_pages_content_collection())\n",
    "fabrica = FabricaFonteDados()"
   ]
  },
  {
   "cell_type": "code",
   "execution_count": 24,
   "metadata": {},
   "outputs": [],
   "source": [
    "origem = NERDS_VIAJANTES"
   ]
  },
  {
   "cell_type": "markdown",
   "metadata": {},
   "source": [
    "## Carregando fonte de dados de origem"
   ]
  },
  {
   "cell_type": "code",
   "execution_count": 25,
   "metadata": {},
   "outputs": [],
   "source": [
    "fonte_dados_origem = fabrica.get_fonte_dados(origem)\n",
    "fonte_dados_origem.carregar_dados()\n",
    "documentos_origem = fonte_dados_origem.get_tokens()"
   ]
  },
  {
   "cell_type": "markdown",
   "metadata": {},
   "source": [
    "### Ajuste de modelo para base de treinamento de origem"
   ]
  },
  {
   "cell_type": "code",
   "execution_count": 26,
   "metadata": {},
   "outputs": [
    {
     "name": "stdout",
     "output_type": "stream",
     "text": [
      "Ajustando modelo com 100 topicos e 2 passes\n"
     ]
    }
   ],
   "source": [
    "treinamento_lda = TreinamentoLda(num_topics=100, passes=2)\n",
    "resultado_lda = treinamento_lda.ajustar_modelo(documentos_origem)\n",
    "lda = resultado_lda.modelo_lda"
   ]
  },
  {
   "cell_type": "markdown",
   "metadata": {},
   "source": [
    "## Análise de tópicos"
   ]
  },
  {
   "cell_type": "code",
   "execution_count": 27,
   "metadata": {},
   "outputs": [
    {
     "data": {
      "text/plain": [
       "[(47,\n",
       "  '0.011*\"vasso\" + 0.010*\"preg\" + 0.009*\"fot\" + 0.009*\"fic\" + 0.009*\"jalap\" + 0.008*\"macac\" + 0.008*\"mir\" + 0.008*\"par\" + 0.007*\"visit\" + 0.006*\"cacho\" + 0.006*\"algum\" + 0.006*\"outr\" + 0.005*\"conhec\" + 0.005*\"lad\" + 0.005*\"rio\" + 0.005*\"bem\" + 0.004*\"pass\" + 0.004*\"caminh\" + 0.004*\"temp\" + 0.004*\"faz\"'),\n",
       " (92,\n",
       "  '0.008*\"fot\" + 0.007*\"algum\" + 0.006*\"estr\" + 0.006*\"par\" + 0.006*\"fic\" + 0.006*\"passei\" + 0.006*\"volt\" + 0.006*\"lag\" + 0.005*\"caminh\" + 0.005*\"faz\" + 0.004*\"ond\" + 0.004*\"outr\" + 0.004*\"reg\" + 0.004*\"palafit\" + 0.004*\"parqu\" + 0.004*\"visit\" + 0.004*\"tir\" + 0.004*\"cheg\" + 0.004*\"pont\" + 0.004*\"dia\"'),\n",
       " (15,\n",
       "  '0.096*\"nev\" + 0.089*\"vall\" + 0.079*\"esqu\" + 0.045*\"ski\" + 0.039*\"resort\" + 0.030*\"pist\" + 0.029*\"aul\" + 0.021*\"estaçã\" + 0.016*\"conhec\" + 0.015*\"aventur\" + 0.015*\"experi\" + 0.013*\"b4tcomm\" + 0.013*\"turistik\" + 0.013*\"gta\" + 0.013*\"segur\" + 0.012*\"lat\" + 0.012*\"santiag\" + 0.012*\"aére\" + 0.011*\"convit\" + 0.011*\"através\"'),\n",
       " (52,\n",
       "  '0.030*\"fot\" + 0.015*\"fotograf\" + 0.012*\"jalap\" + 0.009*\"local\" + 0.008*\"interess\" + 0.008*\"algum\" + 0.006*\"pod\" + 0.006*\"bem\" + 0.006*\"revel\" + 0.006*\"faz\" + 0.006*\"fic\" + 0.005*\"hor\" + 0.005*\"pouc\" + 0.005*\"cen\" + 0.005*\"cacho\" + 0.005*\"abert\" + 0.005*\"nest\" + 0.005*\"par\" + 0.005*\"focal\" + 0.005*\"basíl\"'),\n",
       " (82,\n",
       "  '0.019*\"dia\" + 0.009*\"fot\" + 0.009*\"praç\" + 0.007*\"cidad\" + 0.006*\"centr\" + 0.006*\"min\" + 0.006*\"conhec\" + 0.006*\"com\" + 0.005*\"visit\" + 0.005*\"histór\" + 0.005*\"cívic\" + 0.005*\"mulh\" + 0.005*\"santiag\" + 0.005*\"bem\" + 0.005*\"local\" + 0.005*\"cas\" + 0.005*\"bel\" + 0.005*\"hom\" + 0.004*\"fever\" + 0.004*\"pass\"'),\n",
       " (6,\n",
       "  '0.028*\"fot\" + 0.016*\"vitr\" + 0.014*\"fotograf\" + 0.011*\"hotel\" + 0.009*\"resolv\" + 0.009*\"luz\" + 0.009*\"ilumin\" + 0.008*\"faz\" + 0.008*\"med\" + 0.008*\"bem\" + 0.008*\"can\" + 0.008*\"punt\" + 0.008*\"hor\" + 0.007*\"pouc\" + 0.007*\"pod\" + 0.007*\"canyon\" + 0.007*\"amp\" + 0.007*\"iso\" + 0.007*\"rock\" + 0.007*\"grand\"'),\n",
       " (35,\n",
       "  '0.019*\"fot\" + 0.014*\"prai\" + 0.010*\"por\" + 0.008*\"faz\" + 0.008*\"ros\" + 0.007*\"caminh\" + 0.007*\"jacu\" + 0.006*\"jog\" + 0.006*\"fotograf\" + 0.006*\"pod\" + 0.006*\"pous\" + 0.006*\"mar\" + 0.005*\"ond\" + 0.005*\"fic\" + 0.005*\"algum\" + 0.005*\"pouc\" + 0.005*\"ser\" + 0.005*\"bonit\" + 0.005*\"mund\" + 0.005*\"tir\"'),\n",
       " (48,\n",
       "  '0.016*\"fot\" + 0.012*\"pont\" + 0.011*\"cidad\" + 0.010*\"centr\" + 0.007*\"igrej\" + 0.007*\"gost\" + 0.007*\"local\" + 0.006*\"algum\" + 0.006*\"faz\" + 0.006*\"fic\" + 0.005*\"resolv\" + 0.005*\"curs\" + 0.005*\"pass\" + 0.005*\"fotograf\" + 0.005*\"parqu\" + 0.005*\"antig\" + 0.005*\"entr\" + 0.005*\"visit\" + 0.004*\"park\" + 0.004*\"fl\"'),\n",
       " (36,\n",
       "  '0.020*\"fot\" + 0.009*\"lag\" + 0.009*\"fic\" + 0.009*\"algum\" + 0.007*\"tir\" + 0.007*\"faz\" + 0.007*\"cheg\" + 0.007*\"dia\" + 0.006*\"par\" + 0.006*\"pouc\" + 0.006*\"temp\" + 0.006*\"hor\" + 0.005*\"pod\" + 0.005*\"caminh\" + 0.005*\"outr\" + 0.005*\"fotograf\" + 0.005*\"tod\" + 0.005*\"hotel\" + 0.005*\"ver\" + 0.005*\"bonit\"'),\n",
       " (42,\n",
       "  '0.015*\"estr\" + 0.014*\"seward\" + 0.012*\"milh\" + 0.011*\"fot\" + 0.009*\"par\" + 0.009*\"fotograf\" + 0.008*\"algum\" + 0.007*\"pais\" + 0.007*\"highway\" + 0.007*\"projet\" + 0.007*\"alasc\" + 0.007*\"film\" + 0.006*\"cidad\" + 0.006*\"cinem\" + 0.006*\"pont\" + 0.006*\"pass\" + 0.006*\"temp\" + 0.005*\"pod\" + 0.005*\"dia\" + 0.005*\"belug\"')]"
      ]
     },
     "execution_count": 27,
     "metadata": {},
     "output_type": "execute_result"
    }
   ],
   "source": [
    "\n",
    "lda.show_topics(num_topics=10, num_words=5)\n"
   ]
  }
 ],
 "metadata": {
  "interpreter": {
   "hash": "e40f5302c6d4b9de2141353283620edefcabae1dbe23ed7117377b1c1ce32e40"
  },
  "kernelspec": {
   "display_name": "Python 3.8.10 64-bit ('tcc-venv': venv)",
   "name": "python3"
  },
  "language_info": {
   "codemirror_mode": {
    "name": "ipython",
    "version": 3
   },
   "file_extension": ".py",
   "mimetype": "text/x-python",
   "name": "python",
   "nbconvert_exporter": "python",
   "pygments_lexer": "ipython3",
   "version": "3.8.10"
  },
  "orig_nbformat": 4
 },
 "nbformat": 4,
 "nbformat_minor": 2
}