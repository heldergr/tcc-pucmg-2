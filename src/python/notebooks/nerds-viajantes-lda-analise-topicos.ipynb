{
 "cells": [
  {
   "cell_type": "code",
   "execution_count": 1,
   "source": [
    "%reload_ext autoreload\n",
    "%autoreload 2"
   ],
   "outputs": [],
   "metadata": {}
  },
  {
   "cell_type": "code",
   "execution_count": 8,
   "source": [
    "from explore.topicos_palavras import treinar_modelo, analisar_top_n_palavras_em_topicos, registrar_palavras_candidatas\n",
    "from fonte_dados.fabrica import FabricaFonteDados\n",
    "from treinamento.treinamento_lda import TreinamentoLda\n",
    "from util import constants"
   ],
   "outputs": [],
   "metadata": {}
  },
  {
   "cell_type": "code",
   "execution_count": 10,
   "source": [
    "num_topics=57"
   ],
   "outputs": [],
   "metadata": {}
  },
  {
   "cell_type": "code",
   "execution_count": 3,
   "source": [
    "lda_inicial = treinar_modelo(fonte_origem=constants.NERDS_VIAJANTES, num_topics=num_topics)\n",
    "# lda_limpeza_stopwords_especificas = treinar_modelo(fonte_origem=constants.NERDS_VIAJANTES, num_topics=57, limpar_stopwords_especificas=True)\n",
    "# lda_limpeza_verbos = treinar_modelo(fonte_origem=constants.NERDS_VIAJANTES, num_topics=57, limpar_stopwords_especificas=True, limpar_verbos=True)"
   ],
   "outputs": [
    {
     "output_type": "stream",
     "name": "stdout",
     "text": [
      "Ajustando modelo com 57 topicos e 2 passes\n"
     ]
    }
   ],
   "metadata": {}
  },
  {
   "cell_type": "markdown",
   "source": [
    "## Análise de tópicos"
   ],
   "metadata": {}
  },
  {
   "cell_type": "code",
   "execution_count": 4,
   "source": [
    "lda = lda_inicial"
   ],
   "outputs": [],
   "metadata": {}
  },
  {
   "cell_type": "markdown",
   "source": [
    "### Visualização de top 10 tópicos e suas principais palavras"
   ],
   "metadata": {}
  },
  {
   "cell_type": "code",
   "execution_count": 5,
   "source": [
    "\n",
    "lda.show_topics(num_topics=10, num_words=20)\n"
   ],
   "outputs": [
    {
     "output_type": "execute_result",
     "data": {
      "text/plain": [
       "[(42,\n",
       "  '0.012*\"dia\" + 0.011*\"fot\" + 0.008*\"animal\" + 0.007*\"fotograf\" + 0.006*\"fic\" + 0.006*\"cas\" + 0.006*\"cidad\" + 0.006*\"ano\" + 0.006*\"algum\" + 0.006*\"projet\" + 0.005*\"visit\" + 0.005*\"piedad\" + 0.005*\"par\" + 0.005*\"muit\" + 0.005*\"cinem\" + 0.005*\"film\" + 0.005*\"urs\" + 0.005*\"histór\" + 0.004*\"áre\" + 0.004*\"min\"'),\n",
       " (56,\n",
       "  '0.013*\"pod\" + 0.011*\"fotograf\" + 0.010*\"fot\" + 0.009*\"visit\" + 0.007*\"ser\" + 0.007*\"algum\" + 0.007*\"hor\" + 0.007*\"fic\" + 0.007*\"abert\" + 0.007*\"temp\" + 0.006*\"parqu\" + 0.006*\"cen\" + 0.006*\"dia\" + 0.006*\"pass\" + 0.006*\"caminh\" + 0.005*\"faz\" + 0.005*\"filtr\" + 0.005*\"polariz\" + 0.005*\"gost\" + 0.004*\"local\"'),\n",
       " (13,\n",
       "  '0.012*\"passei\" + 0.009*\"cheg\" + 0.009*\"parqu\" + 0.009*\"caminh\" + 0.008*\"lag\" + 0.008*\"ônibu\" + 0.007*\"visit\" + 0.007*\"part\" + 0.007*\"par\" + 0.007*\"barc\" + 0.007*\"hor\" + 0.007*\"fot\" + 0.006*\"algum\" + 0.006*\"volt\" + 0.006*\"ond\" + 0.006*\"dia\" + 0.006*\"fic\" + 0.005*\"áre\" + 0.005*\"trilh\" + 0.005*\"bem\"'),\n",
       " (1,\n",
       "  '0.008*\"caminh\" + 0.008*\"dia\" + 0.007*\"cheg\" + 0.007*\"fot\" + 0.006*\"ond\" + 0.006*\"algum\" + 0.006*\"pass\" + 0.006*\"fic\" + 0.005*\"hor\" + 0.005*\"parqu\" + 0.005*\"par\" + 0.005*\"trilh\" + 0.005*\"pod\" + 0.005*\"visit\" + 0.005*\"cidad\" + 0.005*\"outr\" + 0.005*\"temp\" + 0.005*\"fotograf\" + 0.004*\"águ\" + 0.004*\"muit\"'),\n",
       " (6,\n",
       "  '0.030*\"fot\" + 0.010*\"vulc\" + 0.009*\"revel\" + 0.008*\"fotograf\" + 0.008*\"hor\" + 0.008*\"dist\" + 0.007*\"bem\" + 0.007*\"telefér\" + 0.007*\"focal\" + 0.007*\"par\" + 0.007*\"faz\" + 0.006*\"crianç\" + 0.006*\"vist\" + 0.006*\"cheg\" + 0.006*\"muit\" + 0.006*\"parqu\" + 0.006*\"bonit\" + 0.005*\"expos\" + 0.005*\"fic\" + 0.005*\"dia\"'),\n",
       " (17,\n",
       "  '0.011*\"fot\" + 0.010*\"viag\" + 0.007*\"passei\" + 0.007*\"bem\" + 0.007*\"cidad\" + 0.006*\"faz\" + 0.006*\"cont\" + 0.006*\"del\" + 0.005*\"pous\" + 0.005*\"tod\" + 0.005*\"visit\" + 0.005*\"min\" + 0.005*\"pod\" + 0.005*\"tirad\" + 0.005*\"fic\" + 0.005*\"são\" + 0.005*\"hotel\" + 0.005*\"com\" + 0.005*\"par\" + 0.005*\"outr\"'),\n",
       " (5,\n",
       "  '0.014*\"cacho\" + 0.012*\"rio\" + 0.011*\"fot\" + 0.009*\"cor\" + 0.009*\"dia\" + 0.008*\"caminh\" + 0.008*\"cheg\" + 0.007*\"pouc\" + 0.007*\"pass\" + 0.007*\"cidad\" + 0.007*\"viag\" + 0.007*\"santiag\" + 0.006*\"local\" + 0.006*\"conhec\" + 0.006*\"intanc\" + 0.006*\"temp\" + 0.006*\"águ\" + 0.006*\"visit\" + 0.006*\"par\" + 0.005*\"algum\"'),\n",
       " (35,\n",
       "  '0.029*\"fot\" + 0.012*\"por\" + 0.008*\"faz\" + 0.007*\"jacu\" + 0.006*\"prai\" + 0.006*\"tir\" + 0.006*\"algum\" + 0.006*\"fic\" + 0.005*\"fotograf\" + 0.005*\"caminh\" + 0.005*\"nerd\" + 0.005*\"gost\" + 0.004*\"mar\" + 0.004*\"par\" + 0.004*\"pod\" + 0.004*\"ond\" + 0.004*\"jog\" + 0.004*\"trilh\" + 0.004*\"ser\" + 0.004*\"pouc\"'),\n",
       " (18,\n",
       "  '0.014*\"fot\" + 0.008*\"imag\" + 0.007*\"passei\" + 0.007*\"cas\" + 0.007*\"fic\" + 0.006*\"viag\" + 0.006*\"local\" + 0.006*\"visit\" + 0.006*\"centr\" + 0.006*\"blog\" + 0.006*\"víde\" + 0.005*\"assist\" + 0.005*\"pais\" + 0.005*\"tod\" + 0.005*\"viaj\" + 0.005*\"geodés\" + 0.004*\"algum\" + 0.004*\"mund\" + 0.004*\"cidad\" + 0.004*\"pod\"'),\n",
       " (53,\n",
       "  '0.031*\"fot\" + 0.016*\"igrej\" + 0.014*\"fotograf\" + 0.012*\"expos\" + 0.010*\"abert\" + 0.010*\"hor\" + 0.009*\"faz\" + 0.008*\"gost\" + 0.008*\"consegu\" + 0.008*\"iso\" + 0.007*\"cidad\" + 0.007*\"dist\" + 0.007*\"pod\" + 0.007*\"compos\" + 0.006*\"fic\" + 0.006*\"luz\" + 0.006*\"escolh\" + 0.006*\"focal\" + 0.006*\"long\" + 0.006*\"form\"')]"
      ]
     },
     "metadata": {},
     "execution_count": 5
    }
   ],
   "metadata": {}
  },
  {
   "cell_type": "markdown",
   "source": [
    "### Visualizar um tópico individualmente"
   ],
   "metadata": {}
  },
  {
   "cell_type": "code",
   "execution_count": 6,
   "source": [
    "lda.show_topic(topicid=47, topn=20)"
   ],
   "outputs": [
    {
     "output_type": "execute_result",
     "data": {
      "text/plain": [
       "[('fic', 0.010431321),\n",
       " ('dia', 0.008304008),\n",
       " ('prai', 0.007586121),\n",
       " ('hotel', 0.0072980127),\n",
       " ('cacho', 0.007278026),\n",
       " ('can', 0.0068523507),\n",
       " ('jalap', 0.00639148),\n",
       " ('punt', 0.0062131737),\n",
       " ('lad', 0.0054940777),\n",
       " ('rock', 0.005487181),\n",
       " ('cont', 0.0054145004),\n",
       " ('hard', 0.005262395),\n",
       " ('pass', 0.005232726),\n",
       " ('pod', 0.0049788887),\n",
       " ('par', 0.0049695703),\n",
       " ('qu', 0.00484641),\n",
       " ('casin', 0.0047980114),\n",
       " ('fot', 0.004639511),\n",
       " ('amp', 0.0046317554),\n",
       " ('visit', 0.0045629325)]"
      ]
     },
     "metadata": {},
     "execution_count": 6
    }
   ],
   "metadata": {}
  },
  {
   "cell_type": "markdown",
   "source": [
    "## Análise das palavras que mais contribuem para os tópicos"
   ],
   "metadata": {}
  },
  {
   "cell_type": "code",
   "execution_count": null,
   "source": [],
   "outputs": [],
   "metadata": {}
  },
  {
   "cell_type": "markdown",
   "source": [
    "### Análise da primeira palavra que mais contribui para cada tópico"
   ],
   "metadata": {}
  },
  {
   "cell_type": "code",
   "execution_count": 12,
   "source": [
    "analise_top1 = analisar_top_n_palavras_em_topicos(lda, num_topics=num_topics, topn=1)"
   ],
   "outputs": [
    {
     "output_type": "stream",
     "name": "stdout",
     "text": [
      "len of top n palavras = 57\n"
     ]
    }
   ],
   "metadata": {}
  },
  {
   "cell_type": "code",
   "execution_count": 13,
   "source": [
    "analise_top1[0][:20]"
   ],
   "outputs": [
    {
     "output_type": "execute_result",
     "data": {
      "text/plain": [
       "[(0, '0.014*\"fot\"'),\n",
       " (1, '0.008*\"caminh\"'),\n",
       " (2, '0.023*\"guim\"'),\n",
       " (3, '0.016*\"fot\"'),\n",
       " (4, '0.015*\"lag\"'),\n",
       " (5, '0.014*\"cacho\"'),\n",
       " (6, '0.030*\"fot\"'),\n",
       " (7, '0.023*\"jalap\"'),\n",
       " (8, '0.016*\"lucí\"'),\n",
       " (9, '0.013*\"cat\"'),\n",
       " (10, '0.020*\"fot\"'),\n",
       " (11, '0.013*\"restaurant\"'),\n",
       " (12, '0.014*\"igrej\"'),\n",
       " (13, '0.012*\"passei\"'),\n",
       " (14, '0.038*\"cervej\"'),\n",
       " (15, '0.080*\"nev\"'),\n",
       " (16, '0.010*\"visit\"'),\n",
       " (17, '0.011*\"fot\"'),\n",
       " (18, '0.014*\"fot\"'),\n",
       " (19, '0.022*\"sorvet\"')]"
      ]
     },
     "metadata": {},
     "execution_count": 13
    }
   ],
   "metadata": {}
  },
  {
   "cell_type": "code",
   "execution_count": 14,
   "source": [
    "print(analise_top1[1])"
   ],
   "outputs": [
    {
     "output_type": "stream",
     "name": "stdout",
     "text": [
      "[('\"fot\"', 21), ('\"restaurant\"', 3), ('\"jalap\"', 2), ('\"passei\"', 2), ('\"hotel\"', 2), ('\"dia\"', 2), ('\"parqu\"', 2), ('\"urs\"', 2), ('\"fic\"', 2), ('\"caminh\"', 1), ('\"guim\"', 1), ('\"lag\"', 1), ('\"cacho\"', 1), ('\"lucí\"', 1), ('\"cat\"', 1), ('\"igrej\"', 1), ('\"cervej\"', 1), ('\"nev\"', 1), ('\"visit\"', 1), ('\"sorvet\"', 1), ('\"bariloch\"', 1), ('\"trilh\"', 1), ('\"atacam\"', 1), ('\"prai\"', 1), ('\"lago\"', 1), ('\"estr\"', 1), ('\"vulc\"', 1), ('\"pod\"', 1)]\n"
     ]
    }
   ],
   "metadata": {}
  },
  {
   "cell_type": "markdown",
   "source": [
    "### Análise das 2 palavras que mais contribuem para cada tópico"
   ],
   "metadata": {}
  },
  {
   "cell_type": "code",
   "execution_count": 15,
   "source": [
    "analise_top2 = analisar_top_n_palavras_em_topicos(lda, num_topics=num_topics, topn=2)"
   ],
   "outputs": [
    {
     "output_type": "stream",
     "name": "stdout",
     "text": [
      "len of top n palavras = 114\n"
     ]
    }
   ],
   "metadata": {}
  },
  {
   "cell_type": "code",
   "execution_count": 16,
   "source": [
    "analise_top2[0][:20]"
   ],
   "outputs": [
    {
     "output_type": "execute_result",
     "data": {
      "text/plain": [
       "[(0, '0.014*\"fot\" + 0.012*\"algum\"'),\n",
       " (1, '0.008*\"caminh\" + 0.008*\"dia\"'),\n",
       " (2, '0.023*\"guim\" + 0.023*\"quin\"'),\n",
       " (3, '0.016*\"fot\" + 0.011*\"fotograf\"'),\n",
       " (4, '0.015*\"lag\" + 0.009*\"dia\"'),\n",
       " (5, '0.014*\"cacho\" + 0.012*\"rio\"'),\n",
       " (6, '0.030*\"fot\" + 0.010*\"vulc\"'),\n",
       " (7, '0.023*\"jalap\" + 0.013*\"pizz\"'),\n",
       " (8, '0.016*\"lucí\" + 0.014*\"cerr\"'),\n",
       " (9, '0.013*\"cat\" + 0.012*\"alt\"'),\n",
       " (10, '0.020*\"fot\" + 0.018*\"dia\"'),\n",
       " (11, '0.013*\"restaurant\" + 0.012*\"lag\"'),\n",
       " (12, '0.014*\"igrej\" + 0.010*\"jalap\"'),\n",
       " (13, '0.012*\"passei\" + 0.009*\"cheg\"'),\n",
       " (14, '0.038*\"cervej\" + 0.012*\"matern\"'),\n",
       " (15, '0.080*\"nev\" + 0.075*\"vall\"'),\n",
       " (16, '0.010*\"visit\" + 0.008*\"fot\"'),\n",
       " (17, '0.011*\"fot\" + 0.010*\"viag\"'),\n",
       " (18, '0.014*\"fot\" + 0.008*\"imag\"'),\n",
       " (19, '0.022*\"sorvet\" + 0.014*\"são\"')]"
      ]
     },
     "metadata": {},
     "execution_count": 16
    }
   ],
   "metadata": {}
  },
  {
   "cell_type": "code",
   "execution_count": 17,
   "source": [
    "print(analise_top2[1])"
   ],
   "outputs": [
    {
     "output_type": "stream",
     "name": "stdout",
     "text": [
      "[('\"fot\"', 26), ('\"dia\"', 10), ('\"fotograf\"', 6), ('\"fic\"', 4), ('\"jalap\"', 3), ('\"restaurant\"', 3), ('\"passei\"', 3), ('\"hotel\"', 3), ('\"cidad\"', 3), ('\"parqu\"', 3), ('\"algum\"', 2), ('\"lag\"', 2), ('\"vulc\"', 2), ('\"igrej\"', 2), ('\"trilh\"', 2), ('\"expos\"', 2), ('\"urs\"', 2), ('\"prai\"', 2), ('\"caminh\"', 1), ('\"guim\"', 1), ('\"quin\"', 1), ('\"cacho\"', 1), ('\"rio\"', 1), ('\"pizz\"', 1), ('\"lucí\"', 1), ('\"cerr\"', 1), ('\"cat\"', 1), ('\"alt\"', 1), ('\"cheg\"', 1), ('\"cervej\"', 1), ('\"matern\"', 1), ('\"nev\"', 1), ('\"vall\"', 1), ('\"visit\"', 1), ('\"viag\"', 1), ('\"imag\"', 1), ('\"sorvet\"', 1), ('\"são\"', 1), ('\"bariloch\"', 1), ('\"ativ\"', 1), ('\"par\"', 1), ('\"ferv\"', 1), ('\"merc\"', 1), ('\"atacam\"', 1), ('\"por\"', 1), ('\"centr\"', 1), ('\"lago\"', 1), ('\"lençol\"', 1), ('\"estr\"', 1), ('\"pont\"', 1), ('\"puert\"', 1), ('\"pod\"', 1)]\n"
     ]
    }
   ],
   "metadata": {}
  },
  {
   "cell_type": "markdown",
   "source": [
    "### Análise das 5 palavras que mais contribuem para cada tópico"
   ],
   "metadata": {}
  },
  {
   "cell_type": "code",
   "execution_count": 18,
   "source": [
    "analise_top5 = analisar_top_n_palavras_em_topicos(lda, num_topics=num_topics, topn=5)"
   ],
   "outputs": [
    {
     "output_type": "stream",
     "name": "stdout",
     "text": [
      "len of top n palavras = 285\n"
     ]
    }
   ],
   "metadata": {}
  },
  {
   "cell_type": "code",
   "execution_count": 19,
   "source": [
    "analise_top5[0][:20]"
   ],
   "outputs": [
    {
     "output_type": "execute_result",
     "data": {
      "text/plain": [
       "[(0,\n",
       "  '0.014*\"fot\" + 0.012*\"algum\" + 0.010*\"restaurant\" + 0.007*\"merc\" + 0.007*\"barrac\"'),\n",
       " (1,\n",
       "  '0.008*\"caminh\" + 0.008*\"dia\" + 0.007*\"cheg\" + 0.007*\"fot\" + 0.006*\"ond\"'),\n",
       " (2,\n",
       "  '0.023*\"guim\" + 0.023*\"quin\" + 0.022*\"cas\" + 0.022*\"viag\" + 0.020*\"chap\"'),\n",
       " (3,\n",
       "  '0.016*\"fot\" + 0.011*\"fotograf\" + 0.009*\"trilh\" + 0.008*\"parqu\" + 0.007*\"caminh\"'),\n",
       " (4, '0.015*\"lag\" + 0.009*\"dia\" + 0.008*\"algum\" + 0.008*\"fic\" + 0.008*\"par\"'),\n",
       " (5, '0.014*\"cacho\" + 0.012*\"rio\" + 0.011*\"fot\" + 0.009*\"cor\" + 0.009*\"dia\"'),\n",
       " (6,\n",
       "  '0.030*\"fot\" + 0.010*\"vulc\" + 0.009*\"revel\" + 0.008*\"fotograf\" + 0.008*\"hor\"'),\n",
       " (7,\n",
       "  '0.023*\"jalap\" + 0.013*\"pizz\" + 0.008*\"restaurant\" + 0.007*\"bem\" + 0.007*\"algum\"'),\n",
       " (8,\n",
       "  '0.016*\"lucí\" + 0.014*\"cerr\" + 0.012*\"santiag\" + 0.011*\"fot\" + 0.010*\"vist\"'),\n",
       " (9,\n",
       "  '0.013*\"cat\" + 0.012*\"alt\" + 0.010*\"dia\" + 0.009*\"cidad\" + 0.009*\"biciclet\"'),\n",
       " (10,\n",
       "  '0.020*\"fot\" + 0.018*\"dia\" + 0.012*\"sol\" + 0.008*\"par\" + 0.008*\"swakopmund\"'),\n",
       " (11,\n",
       "  '0.013*\"restaurant\" + 0.012*\"lag\" + 0.011*\"fot\" + 0.010*\"algum\" + 0.009*\"com\"'),\n",
       " (12,\n",
       "  '0.014*\"igrej\" + 0.010*\"jalap\" + 0.009*\"curs\" + 0.007*\"fot\" + 0.007*\"local\"'),\n",
       " (13,\n",
       "  '0.012*\"passei\" + 0.009*\"cheg\" + 0.009*\"parqu\" + 0.009*\"caminh\" + 0.008*\"lag\"'),\n",
       " (14,\n",
       "  '0.038*\"cervej\" + 0.012*\"matern\" + 0.012*\"ond\" + 0.011*\"visit\" + 0.010*\"back\"'),\n",
       " (15,\n",
       "  '0.080*\"nev\" + 0.075*\"vall\" + 0.071*\"esqu\" + 0.040*\"ski\" + 0.035*\"resort\"'),\n",
       " (16,\n",
       "  '0.010*\"visit\" + 0.008*\"fot\" + 0.007*\"outr\" + 0.007*\"algum\" + 0.007*\"local\"'),\n",
       " (17,\n",
       "  '0.011*\"fot\" + 0.010*\"viag\" + 0.007*\"passei\" + 0.007*\"bem\" + 0.007*\"cidad\"'),\n",
       " (18,\n",
       "  '0.014*\"fot\" + 0.008*\"imag\" + 0.007*\"passei\" + 0.007*\"cas\" + 0.007*\"fic\"'),\n",
       " (19,\n",
       "  '0.022*\"sorvet\" + 0.014*\"são\" + 0.009*\"bem\" + 0.008*\"luí\" + 0.008*\"conhec\"')]"
      ]
     },
     "metadata": {},
     "execution_count": 19
    }
   ],
   "metadata": {}
  },
  {
   "cell_type": "code",
   "execution_count": 20,
   "source": [
    "print(analise_top5[1])"
   ],
   "outputs": [
    {
     "output_type": "stream",
     "name": "stdout",
     "text": [
      "[('\"fot\"', 34), ('\"algum\"', 14), ('\"fic\"', 14), ('\"dia\"', 13), ('\"fotograf\"', 10), ('\"caminh\"', 8), ('\"parqu\"', 8), ('\"par\"', 7), ('\"passei\"', 7), ('\"restaurant\"', 6), ('\"lag\"', 5), ('\"jalap\"', 5), ('\"bem\"', 5), ('\"cidad\"', 5), ('\"ond\"', 4), ('\"trilh\"', 4), ('\"cacho\"', 4), ('\"local\"', 4), ('\"visit\"', 4), ('\"hotel\"', 4), ('\"prai\"', 4), ('\"pod\"', 4), ('\"cheg\"', 3), ('\"cas\"', 3), ('\"viag\"', 3), ('\"revel\"', 3), ('\"faz\"', 3), ('\"expos\"', 3), ('\"centr\"', 3), ('\"merc\"', 2), ('\"rio\"', 2), ('\"vulc\"', 2), ('\"hor\"', 2), ('\"sol\"', 2), ('\"igrej\"', 2), ('\"outr\"', 2), ('\"conhec\"', 2), ('\"glaci\"', 2), ('\"tod\"', 2), ('\"abert\"', 2), ('\"atacam\"', 2), ('\"sal\"', 2), ('\"urs\"', 2), ('\"pont\"', 2), ('\"ser\"', 2), ('\"barrac\"', 1), ('\"guim\"', 1), ('\"quin\"', 1), ('\"chap\"', 1), ('\"cor\"', 1), ('\"pizz\"', 1), ('\"lucí\"', 1), ('\"cerr\"', 1), ('\"santiag\"', 1), ('\"vist\"', 1), ('\"cat\"', 1), ('\"alt\"', 1), ('\"biciclet\"', 1), ('\"swakopmund\"', 1), ('\"com\"', 1), ('\"curs\"', 1), ('\"cervej\"', 1), ('\"matern\"', 1), ('\"back\"', 1), ('\"nev\"', 1), ('\"vall\"', 1), ('\"esqu\"', 1), ('\"ski\"', 1), ('\"resort\"', 1), ('\"imag\"', 1), ('\"sorvet\"', 1), ('\"são\"', 1), ('\"luí\"', 1), ('\"bariloch\"', 1), ('\"ativ\"', 1), ('\"ach\"', 1), ('\"fl\"', 1), ('\"ferv\"', 1), ('\"korub\"', 1), ('\"velh\"', 1), ('\"águ\"', 1), ('\"almoç\"', 1), ('\"barre\"', 1), ('\"viaj\"', 1), ('\"curitib\"', 1), ('\"mov\"', 1), ('\"temp\"', 1), ('\"praç\"', 1), ('\"por\"', 1), ('\"jacu\"', 1), ('\"tir\"', 1), ('\"histór\"', 1), ('\"ros\"', 1), ('\"camp\"', 1), ('\"profund\"', 1), ('\"animal\"', 1), ('\"lago\"', 1), ('\"lençol\"', 1), ('\"estr\"', 1), ('\"pass\"', 1), ('\"puert\"', 1), ('\"vitr\"', 1), ('\"hostel\"', 1), ('\"muit\"', 1)]\n"
     ]
    }
   ],
   "metadata": {}
  },
  {
   "cell_type": "markdown",
   "source": [
    "### Análise das 20 palavras que mais contribuem para cada tópico"
   ],
   "metadata": {}
  },
  {
   "cell_type": "code",
   "execution_count": 21,
   "source": [
    "analise_top20 = analisar_top_n_palavras_em_topicos(lda, num_topics=num_topics, topn=20)"
   ],
   "outputs": [
    {
     "output_type": "stream",
     "name": "stdout",
     "text": [
      "len of top n palavras = 1140\n"
     ]
    }
   ],
   "metadata": {}
  },
  {
   "cell_type": "code",
   "execution_count": 22,
   "source": [
    "analise_top20[0][:20]"
   ],
   "outputs": [
    {
     "output_type": "execute_result",
     "data": {
      "text/plain": [
       "[(0,\n",
       "  '0.014*\"fot\" + 0.012*\"algum\" + 0.010*\"restaurant\" + 0.007*\"merc\" + 0.007*\"barrac\" + 0.007*\"muit\" + 0.006*\"pass\" + 0.006*\"local\" + 0.006*\"fic\" + 0.006*\"dia\" + 0.006*\"experiment\" + 0.006*\"palafit\" + 0.006*\"mar\" + 0.006*\"bem\" + 0.005*\"faz\" + 0.005*\"frut\" + 0.005*\"par\" + 0.005*\"hor\" + 0.005*\"ser\" + 0.005*\"angelmó\"'),\n",
       " (1,\n",
       "  '0.008*\"caminh\" + 0.008*\"dia\" + 0.007*\"cheg\" + 0.007*\"fot\" + 0.006*\"ond\" + 0.006*\"algum\" + 0.006*\"pass\" + 0.006*\"fic\" + 0.005*\"hor\" + 0.005*\"parqu\" + 0.005*\"par\" + 0.005*\"trilh\" + 0.005*\"pod\" + 0.005*\"visit\" + 0.005*\"cidad\" + 0.005*\"outr\" + 0.005*\"temp\" + 0.005*\"fotograf\" + 0.004*\"águ\" + 0.004*\"muit\"'),\n",
       " (2,\n",
       "  '0.023*\"guim\" + 0.023*\"quin\" + 0.022*\"cas\" + 0.022*\"viag\" + 0.020*\"chap\" + 0.016*\"mir\" + 0.015*\"passei\" + 0.015*\"víde\" + 0.013*\"zuc\" + 0.013*\"viaj\" + 0.012*\"zig\" + 0.011*\"mund\" + 0.011*\"blog\" + 0.009*\"gui\" + 0.009*\"event\" + 0.009*\"particip\" + 0.008*\"divulg\" + 0.008*\"chapadablog\" + 0.008*\"ensai\" + 0.008*\"ess\"'),\n",
       " (3,\n",
       "  '0.016*\"fot\" + 0.011*\"fotograf\" + 0.009*\"trilh\" + 0.008*\"parqu\" + 0.007*\"caminh\" + 0.007*\"algum\" + 0.007*\"fic\" + 0.006*\"par\" + 0.006*\"bem\" + 0.006*\"faz\" + 0.006*\"part\" + 0.005*\"cheg\" + 0.005*\"cas\" + 0.005*\"pass\" + 0.005*\"com\" + 0.005*\"visit\" + 0.004*\"muit\" + 0.004*\"bel\" + 0.004*\"expos\" + 0.004*\"hor\"'),\n",
       " (4,\n",
       "  '0.015*\"lag\" + 0.009*\"dia\" + 0.008*\"algum\" + 0.008*\"fic\" + 0.008*\"par\" + 0.008*\"trilh\" + 0.007*\"caminh\" + 0.007*\"faz\" + 0.006*\"volt\" + 0.006*\"temp\" + 0.006*\"fot\" + 0.006*\"routeburn\" + 0.006*\"águ\" + 0.006*\"pod\" + 0.006*\"outr\" + 0.005*\"bem\" + 0.005*\"cheg\" + 0.005*\"passei\" + 0.005*\"pouc\" + 0.005*\"alt\"'),\n",
       " (5,\n",
       "  '0.014*\"cacho\" + 0.012*\"rio\" + 0.011*\"fot\" + 0.009*\"cor\" + 0.009*\"dia\" + 0.008*\"caminh\" + 0.008*\"cheg\" + 0.007*\"pouc\" + 0.007*\"pass\" + 0.007*\"cidad\" + 0.007*\"viag\" + 0.007*\"santiag\" + 0.006*\"local\" + 0.006*\"conhec\" + 0.006*\"intanc\" + 0.006*\"temp\" + 0.006*\"águ\" + 0.006*\"visit\" + 0.006*\"par\" + 0.005*\"algum\"'),\n",
       " (6,\n",
       "  '0.030*\"fot\" + 0.010*\"vulc\" + 0.009*\"revel\" + 0.008*\"fotograf\" + 0.008*\"hor\" + 0.008*\"dist\" + 0.007*\"bem\" + 0.007*\"telefér\" + 0.007*\"focal\" + 0.007*\"par\" + 0.007*\"faz\" + 0.006*\"crianç\" + 0.006*\"vist\" + 0.006*\"cheg\" + 0.006*\"muit\" + 0.006*\"parqu\" + 0.006*\"bonit\" + 0.005*\"expos\" + 0.005*\"fic\" + 0.005*\"dia\"'),\n",
       " (7,\n",
       "  '0.023*\"jalap\" + 0.013*\"pizz\" + 0.008*\"restaurant\" + 0.007*\"bem\" + 0.007*\"algum\" + 0.007*\"fot\" + 0.007*\"almoç\" + 0.006*\"faz\" + 0.006*\"escolh\" + 0.006*\"outr\" + 0.006*\"mes\" + 0.006*\"com\" + 0.006*\"viag\" + 0.006*\"parqu\" + 0.006*\"puert\" + 0.006*\"natal\" + 0.006*\"gost\" + 0.006*\"conhec\" + 0.006*\"cheg\" + 0.005*\"par\"'),\n",
       " (8,\n",
       "  '0.016*\"lucí\" + 0.014*\"cerr\" + 0.012*\"santiag\" + 0.011*\"fot\" + 0.010*\"vist\" + 0.010*\"sant\" + 0.009*\"cristób\" + 0.008*\"cidad\" + 0.008*\"sub\" + 0.007*\"fic\" + 0.007*\"everest\" + 0.007*\"parqu\" + 0.007*\"bel\" + 0.007*\"visit\" + 0.007*\"faz\" + 0.006*\"alt\" + 0.006*\"muit\" + 0.006*\"funicul\" + 0.006*\"par\" + 0.006*\"san\"'),\n",
       " (9,\n",
       "  '0.013*\"cat\" + 0.012*\"alt\" + 0.010*\"dia\" + 0.009*\"cidad\" + 0.009*\"biciclet\" + 0.008*\"min\" + 0.008*\"parqu\" + 0.008*\"local\" + 0.008*\"fic\" + 0.007*\"pod\" + 0.007*\"visit\" + 0.007*\"geral\" + 0.006*\"conhec\" + 0.006*\"hor\" + 0.006*\"estaçã\" + 0.005*\"bicing\" + 0.005*\"tában\" + 0.005*\"serviç\" + 0.005*\"tod\" + 0.005*\"cas\"'),\n",
       " (10,\n",
       "  '0.020*\"fot\" + 0.018*\"dia\" + 0.012*\"sol\" + 0.008*\"par\" + 0.008*\"swakopmund\" + 0.007*\"hor\" + 0.007*\"muit\" + 0.007*\"namíb\" + 0.007*\"cheg\" + 0.007*\"passei\" + 0.007*\"fund\" + 0.007*\"fic\" + 0.007*\"faz\" + 0.006*\"pass\" + 0.006*\"fiz\" + 0.006*\"algum\" + 0.006*\"etosh\" + 0.005*\"animal\" + 0.005*\"direç\" + 0.005*\"bem\"'),\n",
       " (11,\n",
       "  '0.013*\"restaurant\" + 0.012*\"lag\" + 0.011*\"fot\" + 0.010*\"algum\" + 0.009*\"com\" + 0.007*\"experiment\" + 0.007*\"prat\" + 0.007*\"faz\" + 0.007*\"fic\" + 0.007*\"part\" + 0.006*\"local\" + 0.006*\"muit\" + 0.006*\"parqu\" + 0.006*\"par\" + 0.005*\"tir\" + 0.005*\"cheg\" + 0.005*\"cassil\" + 0.005*\"outr\" + 0.005*\"ser\" + 0.005*\"caminh\"'),\n",
       " (12,\n",
       "  '0.014*\"igrej\" + 0.010*\"jalap\" + 0.009*\"curs\" + 0.007*\"fot\" + 0.007*\"local\" + 0.006*\"sit\" + 0.006*\"bem\" + 0.006*\"tod\" + 0.006*\"caminh\" + 0.006*\"algum\" + 0.005*\"cidad\" + 0.005*\"profes\" + 0.005*\"entr\" + 0.005*\"urs\" + 0.005*\"sant\" + 0.005*\"hor\" + 0.005*\"fotograf\" + 0.005*\"centr\" + 0.005*\"noss\" + 0.005*\"cheg\"'),\n",
       " (13,\n",
       "  '0.012*\"passei\" + 0.009*\"cheg\" + 0.009*\"parqu\" + 0.009*\"caminh\" + 0.008*\"lag\" + 0.008*\"ônibu\" + 0.007*\"visit\" + 0.007*\"part\" + 0.007*\"par\" + 0.007*\"barc\" + 0.007*\"hor\" + 0.007*\"fot\" + 0.006*\"algum\" + 0.006*\"volt\" + 0.006*\"ond\" + 0.006*\"dia\" + 0.006*\"fic\" + 0.005*\"áre\" + 0.005*\"trilh\" + 0.005*\"bem\"'),\n",
       " (14,\n",
       "  '0.038*\"cervej\" + 0.012*\"matern\" + 0.012*\"ond\" + 0.011*\"visit\" + 0.010*\"back\" + 0.008*\"muit\" + 0.008*\"local\" + 0.008*\"produç\" + 0.007*\"faz\" + 0.007*\"algum\" + 0.007*\"águ\" + 0.007*\"cacho\" + 0.007*\"tour\" + 0.007*\"par\" + 0.006*\"tod\" + 0.006*\"rótul\" + 0.006*\"bom\" + 0.005*\"pod\" + 0.005*\"nó\" + 0.005*\"experiment\"'),\n",
       " (15,\n",
       "  '0.080*\"nev\" + 0.075*\"vall\" + 0.071*\"esqu\" + 0.040*\"ski\" + 0.035*\"resort\" + 0.027*\"aul\" + 0.023*\"pist\" + 0.020*\"estaçã\" + 0.019*\"santiag\" + 0.015*\"experi\" + 0.015*\"aventur\" + 0.014*\"turistik\" + 0.014*\"conhec\" + 0.012*\"b4tcomm\" + 0.012*\"gta\" + 0.012*\"lat\" + 0.012*\"segur\" + 0.011*\"aére\" + 0.011*\"através\" + 0.011*\"convit\"'),\n",
       " (16,\n",
       "  '0.010*\"visit\" + 0.008*\"fot\" + 0.007*\"outr\" + 0.007*\"algum\" + 0.007*\"local\" + 0.006*\"com\" + 0.006*\"aqu\" + 0.006*\"viag\" + 0.006*\"pod\" + 0.006*\"and\" + 0.005*\"fic\" + 0.005*\"mus\" + 0.005*\"dia\" + 0.005*\"min\" + 0.005*\"cont\" + 0.005*\"ach\" + 0.005*\"hor\" + 0.004*\"viaj\" + 0.004*\"cidad\" + 0.004*\"espaç\"'),\n",
       " (17,\n",
       "  '0.011*\"fot\" + 0.010*\"viag\" + 0.007*\"passei\" + 0.007*\"bem\" + 0.007*\"cidad\" + 0.006*\"faz\" + 0.006*\"cont\" + 0.006*\"del\" + 0.005*\"pous\" + 0.005*\"tod\" + 0.005*\"visit\" + 0.005*\"min\" + 0.005*\"pod\" + 0.005*\"tirad\" + 0.005*\"fic\" + 0.005*\"são\" + 0.005*\"hotel\" + 0.005*\"com\" + 0.005*\"par\" + 0.005*\"outr\"'),\n",
       " (18,\n",
       "  '0.014*\"fot\" + 0.008*\"imag\" + 0.007*\"passei\" + 0.007*\"cas\" + 0.007*\"fic\" + 0.006*\"viag\" + 0.006*\"local\" + 0.006*\"visit\" + 0.006*\"centr\" + 0.006*\"blog\" + 0.006*\"víde\" + 0.005*\"assist\" + 0.005*\"pais\" + 0.005*\"tod\" + 0.005*\"viaj\" + 0.005*\"geodés\" + 0.004*\"algum\" + 0.004*\"mund\" + 0.004*\"cidad\" + 0.004*\"pod\"'),\n",
       " (19,\n",
       "  '0.022*\"sorvet\" + 0.014*\"são\" + 0.009*\"bem\" + 0.008*\"luí\" + 0.008*\"conhec\" + 0.007*\"pod\" + 0.007*\"prai\" + 0.007*\"apresent\" + 0.006*\"degust\" + 0.006*\"aless\" + 0.006*\"experiment\" + 0.006*\"maranh\" + 0.006*\"fot\" + 0.006*\"deix\" + 0.006*\"fic\" + 0.006*\"danç\" + 0.005*\"boi\" + 0.005*\"palc\" + 0.005*\"rod\" + 0.005*\"cidad\"')]"
      ]
     },
     "metadata": {},
     "execution_count": 22
    }
   ],
   "metadata": {}
  },
  {
   "cell_type": "code",
   "execution_count": 23,
   "source": [
    "print(analise_top20[1])"
   ],
   "outputs": [
    {
     "output_type": "stream",
     "name": "stdout",
     "text": [
      "[('\"fot\"', 50), ('\"fic\"', 44), ('\"par\"', 36), ('\"algum\"', 35), ('\"faz\"', 31), ('\"visit\"', 31), ('\"pod\"', 28), ('\"cidad\"', 27), ('\"bem\"', 26), ('\"cheg\"', 26), ('\"dia\"', 25), ('\"outr\"', 25), ('\"local\"', 23), ('\"hor\"', 21), ('\"caminh\"', 21), ('\"fotograf\"', 21), ('\"muit\"', 19), ('\"parqu\"', 19), ('\"passei\"', 19), ('\"pass\"', 17), ('\"viag\"', 15), ('\"com\"', 15), ('\"tod\"', 14), ('\"trilh\"', 13), ('\"ond\"', 12), ('\"temp\"', 12), ('\"conhec\"', 10), ('\"jalap\"', 9), ('\"tir\"', 9), ('\"restaurant\"', 8), ('\"águ\"', 8), ('\"cas\"', 8), ('\"gost\"', 8), ('\"ver\"', 8), ('\"viaj\"', 7), ('\"expos\"', 7), ('\"sol\"', 7), ('\"ser\"', 6), ('\"lag\"', 6), ('\"volt\"', 6), ('\"pouc\"', 6), ('\"cacho\"', 6), ('\"centr\"', 6), ('\"hotel\"', 6), ('\"rio\"', 5), ('\"revel\"', 5), ('\"vist\"', 5), ('\"min\"', 5), ('\"prai\"', 5), ('\"abert\"', 5), ('\"experiment\"', 4), ('\"part\"', 4), ('\"bel\"', 4), ('\"alt\"', 4), ('\"dist\"', 4), ('\"urs\"', 4), ('\"cont\"', 4), ('\"ach\"', 4), ('\"são\"', 4), ('\"estr\"', 4), ('\"interess\"', 4), ('\"pont\"', 4), ('\"mar\"', 3), ('\"blog\"', 3), ('\"santiag\"', 3), ('\"vulc\"', 3), ('\"focal\"', 3), ('\"bonit\"', 3), ('\"escolh\"', 3), ('\"sant\"', 3), ('\"prat\"', 3), ('\"áre\"', 3), ('\"ilumin\"', 3), ('\"compos\"', 3), ('\"atacam\"', 3), ('\"sal\"', 3), ('\"jog\"', 3), ('\"histór\"', 3), ('\"merc\"', 2), ('\"víde\"', 2), ('\"mund\"', 2), ('\"event\"', 2), ('\"particip\"', 2), ('\"almoç\"', 2), ('\"puert\"', 2), ('\"san\"', 2), ('\"estaçã\"', 2), ('\"fiz\"', 2), ('\"animal\"', 2), ('\"igrej\"', 2), ('\"barc\"', 2), ('\"cervej\"', 2), ('\"vall\"', 2), ('\"and\"', 2), ('\"mus\"', 2), ('\"del\"', 2), ('\"pous\"', 2), ('\"tirad\"', 2), ('\"pais\"', 2), ('\"maranh\"', 2), ('\"argentin\"', 2), ('\"glaci\"', 2), ('\"nerd\"', 2), ('\"fl\"', 2), ('\"luz\"', 2), ('\"iso\"', 2), ('\"pra\"', 2), ('\"prim\"', 2), ('\"curitib\"', 2), ('\"amp\"', 2), ('\"rock\"', 2), ('\"catedr\"', 2), ('\"long\"', 2), ('\"filtr\"', 2), ('\"lad\"', 2), ('\"qu\"', 2), ('\"objet\"', 2), ('\"aind\"', 2), ('\"resolv\"', 2), ('\"pret\"', 2), ('\"cen\"', 2), ('\"barrac\"', 1), ('\"palafit\"', 1), ('\"frut\"', 1), ('\"angelmó\"', 1), ('\"guim\"', 1), ('\"quin\"', 1), ('\"chap\"', 1), ('\"mir\"', 1), ('\"zuc\"', 1), ('\"zig\"', 1), ('\"gui\"', 1), ('\"divulg\"', 1), ('\"chapadablog\"', 1), ('\"ensai\"', 1), ('\"ess\"', 1), ('\"routeburn\"', 1), ('\"cor\"', 1), ('\"intanc\"', 1), ('\"telefér\"', 1), ('\"crianç\"', 1), ('\"pizz\"', 1), ('\"mes\"', 1), ('\"natal\"', 1), ('\"lucí\"', 1), ('\"cerr\"', 1), ('\"cristób\"', 1), ('\"sub\"', 1), ('\"everest\"', 1), ('\"funicul\"', 1), ('\"cat\"', 1), ('\"biciclet\"', 1), ('\"geral\"', 1), ('\"bicing\"', 1), ('\"tában\"', 1), ('\"serviç\"', 1), ('\"swakopmund\"', 1), ('\"namíb\"', 1), ('\"fund\"', 1), ('\"etosh\"', 1), ('\"direç\"', 1), ('\"cassil\"', 1), ('\"curs\"', 1), ('\"sit\"', 1), ('\"profes\"', 1), ('\"entr\"', 1), ('\"noss\"', 1), ('\"ônibu\"', 1), ('\"matern\"', 1), ('\"back\"', 1), ('\"produç\"', 1), ('\"tour\"', 1), ('\"rótul\"', 1), ('\"bom\"', 1), ('\"nó\"', 1), ('\"nev\"', 1), ('\"esqu\"', 1), ('\"ski\"', 1), ('\"resort\"', 1), ('\"aul\"', 1), ('\"pist\"', 1), ('\"experi\"', 1), ('\"aventur\"', 1), ('\"turistik\"', 1), ('\"b4tcomm\"', 1), ('\"gta\"', 1), ('\"lat\"', 1), ('\"segur\"', 1), ('\"aére\"', 1), ('\"através\"', 1), ('\"convit\"', 1), ('\"aqu\"', 1), ('\"espaç\"', 1), ('\"imag\"', 1), ('\"assist\"', 1), ('\"geodés\"', 1), ('\"sorvet\"', 1), ('\"luí\"', 1), ('\"apresent\"', 1), ('\"degust\"', 1), ('\"aless\"', 1), ('\"deix\"', 1), ('\"danç\"', 1), ('\"boi\"', 1), ('\"palc\"', 1), ('\"rod\"', 1), ('\"bariloch\"', 1), ('\"lo\"', 1), ('\"martín\"', 1), ('\"mergulh\"', 1), ('\"ativ\"', 1), ('\"tau\"', 1), ('\"brinc\"', 1), ('\"red\"', 1), ('\"oferec\"', 1), ('\"café\"', 1), ('\"pôr\"', 1), ('\"aparec\"', 1), ('\"ferv\"', 1), ('\"korub\"', 1), ('\"velh\"', 1), ('\"dun\"', 1), ('\"espírit\"', 1), ('\"lei\"', 1), ('\"acamp\"', 1), ('\"gl\"', 1), ('\"serr\"', 1), ('\"cano\"', 1), ('\"preguiç\"', 1), ('\"vinh\"', 1), ('\"mandacaru\"', 1), ('\"barre\"', 1), ('\"salt\"', 1), ('\"petrohué\"', 1), ('\"est\"', 1), ('\"blogu\"', 1), ('\"mov\"', 1), ('\"praç\"', 1), ('\"liberdad\"', 1), ('\"jardim\"', 1), ('\"carr\"', 1), ('\"val\"', 1), ('\"hierb\"', 1), ('\"por\"', 1), ('\"jacu\"', 1), ('\"iceberg\"', 1), ('\"upsal\"', 1), ('\"fumaç\"', 1), ('\"detalh\"', 1), ('\"bande\"', 1), ('\"ros\"', 1), ('\"pesc\"', 1), ('\"camp\"', 1), ('\"profund\"', 1), ('\"aplic\"', 1), ('\"mai\"', 1), ('\"sobr\"', 1), ('\"ano\"', 1), ('\"projet\"', 1), ('\"piedad\"', 1), ('\"cinem\"', 1), ('\"film\"', 1), ('\"poi\"', 1), ('\"lago\"', 1), ('\"lençol\"', 1), ('\"nbsp\"', 1), ('\"branc\"', 1), ('\"cent\"', 1), ('\"can\"', 1), ('\"punt\"', 1), ('\"hard\"', 1), ('\"casin\"', 1), ('\"park\"', 1), ('\"azulej\"', 1), ('\"loj\"', 1), ('\"estanh\"', 1), ('\"osorn\"', 1), ('\"var\"', 1), ('\"llanquihu\"', 1), ('\"calbuc\"', 1), ('\"flaming\"', 1), ('\"gent\"', 1), ('\"consegu\"', 1), ('\"form\"', 1), ('\"vitr\"', 1), ('\"estad\"', 1), ('\"vau\"', 1), ('\"hostel\"', 1), ('\"quart\"', 1), ('\"cam\"', 1), ('\"hosped\"', 1), ('\"sup\"', 1), ('\"polariz\"', 1)]\n"
     ]
    }
   ],
   "metadata": {}
  },
  {
   "cell_type": "markdown",
   "source": [
    "## Análise de remoção de palavras\n",
    "\n",
    "Este trabalho visa extrair as palavras de uma análise de topn daquelas que mais contribuem para o levantamento dos tópicos.\n",
    "\n",
    "Os passos são:\n",
    "\n",
    "- A quantidade de top palavras que definem um tópico escolhida foi 5\n",
    "    * Caso seja necessário podemos tentar com mais palavras\n",
    "- Gravar em um arquivo texto as palavras candidatas a remoção, ou seja, todas as que mais contribuem para a definição dos tópicos\n",
    "- Analisar visualmente e manter apenas as que desejamos remover para o tratamento, **removendo manualmente as que desejamos manter**\n",
    "    * Gravar a lista definitiva das palavras a serem desconsideradas em arquivo a parte\n",
    "    * Eu decidi manter nesta lista os verbos porque a funcionalidade específica para a remoção dos mesmos é opcional.\n",
    "    * Eu optei também por ignorar as palavras que só aparecem 1 vez\n",
    "- Usar este arquivo texto como entrada para remoção\n"
   ],
   "metadata": {}
  },
  {
   "cell_type": "code",
   "execution_count": 24,
   "source": [
    "executar_analise_candidatas_remocao = False\n",
    "if executar_analise_candidatas_remocao:\n",
    "    registrar_palavras_candidatas(analise_top5)"
   ],
   "outputs": [],
   "metadata": {}
  }
 ],
 "metadata": {
  "interpreter": {
   "hash": "e40f5302c6d4b9de2141353283620edefcabae1dbe23ed7117377b1c1ce32e40"
  },
  "kernelspec": {
   "name": "python3",
   "display_name": "Python 3.8.11 64-bit ('tcc-venv': venv)"
  },
  "language_info": {
   "codemirror_mode": {
    "name": "ipython",
    "version": 3
   },
   "file_extension": ".py",
   "mimetype": "text/x-python",
   "name": "python",
   "nbconvert_exporter": "python",
   "pygments_lexer": "ipython3",
   "version": "3.8.11"
  },
  "orig_nbformat": 4
 },
 "nbformat": 4,
 "nbformat_minor": 2
}