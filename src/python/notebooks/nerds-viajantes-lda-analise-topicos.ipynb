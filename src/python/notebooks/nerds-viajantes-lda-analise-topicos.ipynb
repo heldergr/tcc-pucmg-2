{
 "cells": [
  {
   "cell_type": "code",
   "execution_count": 1,
   "source": [
    "%reload_ext autoreload\n",
    "%autoreload 2"
   ],
   "outputs": [],
   "metadata": {}
  },
  {
   "cell_type": "code",
   "execution_count": 2,
   "source": [
    "from fonte_dados.fabrica import FabricaFonteDados, NERDS_VIAJANTES\n",
    "from treinamento.treinamento_lda import TreinamentoLda\n",
    "from repository.mongo_utils import get_pages_content_collection\n",
    "from repository.wikipedia import WikipediaRepo"
   ],
   "outputs": [],
   "metadata": {}
  },
  {
   "cell_type": "code",
   "execution_count": 3,
   "source": [
    "import re\n",
    "from collections import Counter"
   ],
   "outputs": [],
   "metadata": {}
  },
  {
   "cell_type": "code",
   "execution_count": 4,
   "source": [
    "wikipedia_repo = WikipediaRepo(collection=get_pages_content_collection())\n",
    "fabrica = FabricaFonteDados()"
   ],
   "outputs": [],
   "metadata": {}
  },
  {
   "cell_type": "code",
   "execution_count": 5,
   "source": [
    "origem = NERDS_VIAJANTES\n",
    "num_topics = 100"
   ],
   "outputs": [],
   "metadata": {}
  },
  {
   "cell_type": "markdown",
   "source": [
    "## Carregando fonte de dados de origem"
   ],
   "metadata": {}
  },
  {
   "cell_type": "code",
   "execution_count": 6,
   "source": [
    "fonte_dados_origem = fabrica.get_fonte_dados(origem)\n",
    "fonte_dados_origem.carregar_dados()\n",
    "documentos_origem = fonte_dados_origem.get_tokens()"
   ],
   "outputs": [],
   "metadata": {}
  },
  {
   "cell_type": "markdown",
   "source": [
    "### Ajuste de modelo para base de treinamento de origem"
   ],
   "metadata": {}
  },
  {
   "cell_type": "code",
   "execution_count": 7,
   "source": [
    "treinamento_lda = TreinamentoLda(num_topics=num_topics, passes=2)\n",
    "resultado_lda = treinamento_lda.ajustar_modelo(documentos_origem)\n",
    "lda = resultado_lda.modelo_lda"
   ],
   "outputs": [
    {
     "output_type": "stream",
     "name": "stdout",
     "text": [
      "Ajustando modelo com 100 topicos e 2 passes\n"
     ]
    }
   ],
   "metadata": {}
  },
  {
   "cell_type": "markdown",
   "source": [
    "## Análise de tópicos"
   ],
   "metadata": {}
  },
  {
   "cell_type": "markdown",
   "source": [
    "### Visualização de top 10 tópicos e suas principais palavras"
   ],
   "metadata": {}
  },
  {
   "cell_type": "code",
   "execution_count": 8,
   "source": [
    "\n",
    "lda.show_topics(num_topics=10, num_words=20)\n"
   ],
   "outputs": [
    {
     "output_type": "execute_result",
     "data": {
      "text/plain": [
       "[(47,\n",
       "  '0.011*\"vasso\" + 0.010*\"preg\" + 0.009*\"fot\" + 0.009*\"fic\" + 0.009*\"jalap\" + 0.008*\"macac\" + 0.008*\"mir\" + 0.008*\"par\" + 0.007*\"visit\" + 0.006*\"cacho\" + 0.006*\"algum\" + 0.006*\"outr\" + 0.005*\"conhec\" + 0.005*\"lad\" + 0.005*\"rio\" + 0.005*\"bem\" + 0.004*\"pass\" + 0.004*\"caminh\" + 0.004*\"temp\" + 0.004*\"faz\"'),\n",
       " (92,\n",
       "  '0.008*\"fot\" + 0.007*\"algum\" + 0.006*\"estr\" + 0.006*\"par\" + 0.006*\"fic\" + 0.006*\"passei\" + 0.006*\"volt\" + 0.006*\"lag\" + 0.005*\"caminh\" + 0.005*\"faz\" + 0.004*\"ond\" + 0.004*\"outr\" + 0.004*\"reg\" + 0.004*\"palafit\" + 0.004*\"parqu\" + 0.004*\"visit\" + 0.004*\"tir\" + 0.004*\"cheg\" + 0.004*\"pont\" + 0.004*\"dia\"'),\n",
       " (15,\n",
       "  '0.096*\"nev\" + 0.089*\"vall\" + 0.079*\"esqu\" + 0.045*\"ski\" + 0.039*\"resort\" + 0.030*\"pist\" + 0.029*\"aul\" + 0.021*\"estaçã\" + 0.016*\"conhec\" + 0.015*\"aventur\" + 0.015*\"experi\" + 0.013*\"b4tcomm\" + 0.013*\"turistik\" + 0.013*\"gta\" + 0.013*\"segur\" + 0.012*\"lat\" + 0.012*\"santiag\" + 0.012*\"aére\" + 0.011*\"convit\" + 0.011*\"através\"'),\n",
       " (52,\n",
       "  '0.030*\"fot\" + 0.015*\"fotograf\" + 0.012*\"jalap\" + 0.009*\"local\" + 0.008*\"interess\" + 0.008*\"algum\" + 0.006*\"pod\" + 0.006*\"bem\" + 0.006*\"revel\" + 0.006*\"faz\" + 0.006*\"fic\" + 0.005*\"hor\" + 0.005*\"pouc\" + 0.005*\"cen\" + 0.005*\"cacho\" + 0.005*\"abert\" + 0.005*\"nest\" + 0.005*\"par\" + 0.005*\"focal\" + 0.005*\"basíl\"'),\n",
       " (82,\n",
       "  '0.019*\"dia\" + 0.009*\"fot\" + 0.009*\"praç\" + 0.007*\"cidad\" + 0.006*\"centr\" + 0.006*\"min\" + 0.006*\"conhec\" + 0.006*\"com\" + 0.005*\"visit\" + 0.005*\"histór\" + 0.005*\"cívic\" + 0.005*\"mulh\" + 0.005*\"santiag\" + 0.005*\"bem\" + 0.005*\"local\" + 0.005*\"cas\" + 0.005*\"bel\" + 0.005*\"hom\" + 0.004*\"fever\" + 0.004*\"pass\"'),\n",
       " (6,\n",
       "  '0.028*\"fot\" + 0.016*\"vitr\" + 0.014*\"fotograf\" + 0.011*\"hotel\" + 0.009*\"resolv\" + 0.009*\"luz\" + 0.009*\"ilumin\" + 0.008*\"faz\" + 0.008*\"med\" + 0.008*\"bem\" + 0.008*\"can\" + 0.008*\"punt\" + 0.008*\"hor\" + 0.007*\"pouc\" + 0.007*\"pod\" + 0.007*\"canyon\" + 0.007*\"amp\" + 0.007*\"iso\" + 0.007*\"rock\" + 0.007*\"grand\"'),\n",
       " (35,\n",
       "  '0.019*\"fot\" + 0.014*\"prai\" + 0.010*\"por\" + 0.008*\"faz\" + 0.008*\"ros\" + 0.007*\"caminh\" + 0.007*\"jacu\" + 0.006*\"jog\" + 0.006*\"fotograf\" + 0.006*\"pod\" + 0.006*\"pous\" + 0.006*\"mar\" + 0.005*\"ond\" + 0.005*\"fic\" + 0.005*\"algum\" + 0.005*\"pouc\" + 0.005*\"ser\" + 0.005*\"bonit\" + 0.005*\"mund\" + 0.005*\"tir\"'),\n",
       " (48,\n",
       "  '0.016*\"fot\" + 0.012*\"pont\" + 0.011*\"cidad\" + 0.010*\"centr\" + 0.007*\"igrej\" + 0.007*\"gost\" + 0.007*\"local\" + 0.006*\"algum\" + 0.006*\"faz\" + 0.006*\"fic\" + 0.005*\"resolv\" + 0.005*\"curs\" + 0.005*\"pass\" + 0.005*\"fotograf\" + 0.005*\"parqu\" + 0.005*\"antig\" + 0.005*\"entr\" + 0.005*\"visit\" + 0.004*\"park\" + 0.004*\"fl\"'),\n",
       " (36,\n",
       "  '0.020*\"fot\" + 0.009*\"lag\" + 0.009*\"fic\" + 0.009*\"algum\" + 0.007*\"tir\" + 0.007*\"faz\" + 0.007*\"cheg\" + 0.007*\"dia\" + 0.006*\"par\" + 0.006*\"pouc\" + 0.006*\"temp\" + 0.006*\"hor\" + 0.005*\"pod\" + 0.005*\"caminh\" + 0.005*\"outr\" + 0.005*\"fotograf\" + 0.005*\"tod\" + 0.005*\"hotel\" + 0.005*\"ver\" + 0.005*\"bonit\"'),\n",
       " (42,\n",
       "  '0.015*\"estr\" + 0.014*\"seward\" + 0.012*\"milh\" + 0.011*\"fot\" + 0.009*\"par\" + 0.009*\"fotograf\" + 0.008*\"algum\" + 0.007*\"pais\" + 0.007*\"highway\" + 0.007*\"projet\" + 0.007*\"alasc\" + 0.007*\"film\" + 0.006*\"cidad\" + 0.006*\"cinem\" + 0.006*\"pont\" + 0.006*\"pass\" + 0.006*\"temp\" + 0.005*\"pod\" + 0.005*\"dia\" + 0.005*\"belug\"')]"
      ]
     },
     "metadata": {},
     "execution_count": 8
    }
   ],
   "metadata": {}
  },
  {
   "cell_type": "markdown",
   "source": [
    "### Visualizar um tópico individualmente"
   ],
   "metadata": {}
  },
  {
   "cell_type": "code",
   "execution_count": 9,
   "source": [
    "lda.show_topic(topicid=47, topn=20)"
   ],
   "outputs": [
    {
     "output_type": "execute_result",
     "data": {
      "text/plain": [
       "[('vasso', 0.010624579),\n",
       " ('preg', 0.009564903),\n",
       " ('fot', 0.009415722),\n",
       " ('fic', 0.009386034),\n",
       " ('jalap', 0.008821247),\n",
       " ('macac', 0.008375668),\n",
       " ('mir', 0.008362633),\n",
       " ('par', 0.0075246436),\n",
       " ('visit', 0.007274737),\n",
       " ('cacho', 0.0064701424),\n",
       " ('algum', 0.006308056),\n",
       " ('outr', 0.0059783105),\n",
       " ('conhec', 0.0053330287),\n",
       " ('lad', 0.0047735428),\n",
       " ('rio', 0.004764907),\n",
       " ('bem', 0.004597163),\n",
       " ('pass', 0.0044109984),\n",
       " ('caminh', 0.0043976326),\n",
       " ('temp', 0.0043715695),\n",
       " ('faz', 0.0042403652)]"
      ]
     },
     "metadata": {},
     "execution_count": 9
    }
   ],
   "metadata": {}
  },
  {
   "cell_type": "markdown",
   "source": [
    "## Análise das palavras que mais contribuem para os tópicos"
   ],
   "metadata": {}
  },
  {
   "cell_type": "code",
   "execution_count": 10,
   "source": [
    "def extrair_palavras(descricao_palavra):\n",
    "    return re.findall('\\\".+?\\\"', descricao_palavra)"
   ],
   "outputs": [],
   "metadata": {}
  },
  {
   "cell_type": "code",
   "execution_count": 11,
   "source": [
    "\"\"\"\n",
    "Faz analise das top n palavras que mais contribuem para as definicoes dos topics. Se o parametros topn nao eh informado apenas a palavras que mais contribue sera \n",
    "considerada. Se for informado 3, por exemplo, as 3 palavras que mais contribuem para um topico serao consideradas.\n",
    "\n",
    "Retorno: tupla de 2 elementos onde o primeiro eh a lista de topicos com as topn palavras que mais contribuem e o segundo elemento eh um objeto counter que \n",
    "mostra as palavras que mais contribuem entre as topn dos topicos.\n",
    "\"\"\"\n",
    "def analisar_top_n_palavras_em_topicos(lda, num_topics, topn=1):\n",
    "    topicos = lda.show_topics(num_topics=num_topics, num_words=topn)\n",
    "    palavras_topicos = [extrair_palavras(p[1]) for p in topicos]\n",
    "    topn_palavras = [palavra for palavras_topico in palavras_topicos for palavra in palavras_topico]\n",
    "    print(f'len of top n palavras = {len(topn_palavras)}')\n",
    "    counter_topn_palavras = Counter(topn_palavras)\n",
    "    return (topicos, counter_topn_palavras.most_common())"
   ],
   "outputs": [],
   "metadata": {}
  },
  {
   "cell_type": "markdown",
   "source": [
    "### Análise da primeira palavra que mais contribui para cada tópico"
   ],
   "metadata": {}
  },
  {
   "cell_type": "code",
   "execution_count": 12,
   "source": [
    "analise_top1 = analisar_top_n_palavras_em_topicos(lda, num_topics=num_topics, topn=1)"
   ],
   "outputs": [
    {
     "output_type": "stream",
     "name": "stdout",
     "text": [
      "len of top n palavras = 100\n"
     ]
    }
   ],
   "metadata": {}
  },
  {
   "cell_type": "code",
   "execution_count": 13,
   "source": [
    "analise_top1[0][:20]"
   ],
   "outputs": [
    {
     "output_type": "execute_result",
     "data": {
      "text/plain": [
       "[(0, '0.022*\"jalap\"'),\n",
       " (1, '0.008*\"caminh\"'),\n",
       " (2, '0.018*\"centr\"'),\n",
       " (3, '0.016*\"fot\"'),\n",
       " (4, '0.009*\"par\"'),\n",
       " (5, '0.011*\"fot\"'),\n",
       " (6, '0.028*\"fot\"'),\n",
       " (7, '0.101*\"jalap\"'),\n",
       " (8, '0.009*\"parqu\"'),\n",
       " (9, '0.013*\"parqu\"'),\n",
       " (10, '0.010*\"mus\"'),\n",
       " (11, '0.009*\"algum\"'),\n",
       " (12, '0.054*\"jalap\"'),\n",
       " (13, '0.011*\"passei\"'),\n",
       " (14, '0.024*\"alegr\"'),\n",
       " (15, '0.096*\"nev\"'),\n",
       " (16, '0.014*\"viag\"'),\n",
       " (17, '0.011*\"viag\"'),\n",
       " (18, '0.016*\"lan\"'),\n",
       " (19, '0.011*\"apresent\"')]"
      ]
     },
     "metadata": {},
     "execution_count": 13
    }
   ],
   "metadata": {}
  },
  {
   "cell_type": "code",
   "execution_count": 14,
   "source": [
    "print(analise_top1[1])"
   ],
   "outputs": [
    {
     "output_type": "stream",
     "name": "stdout",
     "text": [
      "[('\"fot\"', 29), ('\"parqu\"', 6), ('\"dia\"', 5), ('\"jalap\"', 4), ('\"algum\"', 3), ('\"atacam\"', 3), ('\"hotel\"', 3), ('\"cervej\"', 3), ('\"caminh\"', 2), ('\"mus\"', 2), ('\"viag\"', 2), ('\"restaurant\"', 2), ('\"cas\"', 2), ('\"pod\"', 2), ('\"centr\"', 1), ('\"par\"', 1), ('\"passei\"', 1), ('\"alegr\"', 1), ('\"nev\"', 1), ('\"lan\"', 1), ('\"apresent\"', 1), ('\"trilh\"', 1), ('\"visit\"', 1), ('\"urs\"', 1), ('\"fotograf\"', 1), ('\"estr\"', 1), ('\"santiag\"', 1), ('\"lago\"', 1), ('\"vasso\"', 1), ('\"vulc\"', 1), ('\"cheg\"', 1), ('\"final\"', 1), ('\"cidad\"', 1), ('\"luí\"', 1), ('\"ônibu\"', 1), ('\"lag\"', 1), ('\"glaci\"', 1), ('\"ond\"', 1), ('\"sorvet\"', 1), ('\"islând\"', 1), ('\"praç\"', 1), ('\"igrej\"', 1), ('\"cat\"', 1), ('\"wanak\"', 1), ('\"sant\"', 1), ('\"bariloch\"', 1)]\n"
     ]
    }
   ],
   "metadata": {}
  },
  {
   "cell_type": "markdown",
   "source": [
    "### Análise das 2 palavras que mais contribuem para cada tópico"
   ],
   "metadata": {}
  },
  {
   "cell_type": "code",
   "execution_count": 15,
   "source": [
    "analise_top2 = analisar_top_n_palavras_em_topicos(lda, num_topics=num_topics, topn=2)"
   ],
   "outputs": [
    {
     "output_type": "stream",
     "name": "stdout",
     "text": [
      "len of top n palavras = 200\n"
     ]
    }
   ],
   "metadata": {}
  },
  {
   "cell_type": "code",
   "execution_count": 16,
   "source": [
    "analise_top2[0][:20]"
   ],
   "outputs": [
    {
     "output_type": "execute_result",
     "data": {
      "text/plain": [
       "[(0, '0.022*\"jalap\" + 0.015*\"sol\"'),\n",
       " (1, '0.008*\"caminh\" + 0.008*\"parqu\"'),\n",
       " (2, '0.018*\"centr\" + 0.017*\"cult\"'),\n",
       " (3, '0.016*\"fot\" + 0.011*\"trilh\"'),\n",
       " (4, '0.009*\"par\" + 0.009*\"fic\"'),\n",
       " (5, '0.011*\"fot\" + 0.008*\"parqu\"'),\n",
       " (6, '0.028*\"fot\" + 0.016*\"vitr\"'),\n",
       " (7, '0.101*\"jalap\" + 0.015*\"lev\"'),\n",
       " (8, '0.009*\"parqu\" + 0.007*\"fot\"'),\n",
       " (9, '0.013*\"parqu\" + 0.013*\"teatr\"'),\n",
       " (10, '0.010*\"mus\" + 0.009*\"cel\"'),\n",
       " (11, '0.009*\"algum\" + 0.009*\"dur\"'),\n",
       " (12, '0.054*\"jalap\" + 0.019*\"rio\"'),\n",
       " (13, '0.011*\"passei\" + 0.010*\"cheg\"'),\n",
       " (14, '0.024*\"alegr\" + 0.017*\"encontr\"'),\n",
       " (15, '0.096*\"nev\" + 0.089*\"vall\"'),\n",
       " (16, '0.014*\"viag\" + 0.009*\"visit\"'),\n",
       " (17, '0.011*\"viag\" + 0.010*\"fot\"'),\n",
       " (18, '0.016*\"lan\" + 0.013*\"fot\"'),\n",
       " (19, '0.011*\"apresent\" + 0.010*\"bem\"')]"
      ]
     },
     "metadata": {},
     "execution_count": 16
    }
   ],
   "metadata": {}
  },
  {
   "cell_type": "code",
   "execution_count": 17,
   "source": [
    "print(analise_top2[1])"
   ],
   "outputs": [
    {
     "output_type": "stream",
     "name": "stdout",
     "text": [
      "[('\"fot\"', 41), ('\"parqu\"', 9), ('\"dia\"', 9), ('\"fic\"', 6), ('\"jalap\"', 5), ('\"caminh\"', 5), ('\"algum\"', 5), ('\"passei\"', 5), ('\"fotograf\"', 5), ('\"hotel\"', 5), ('\"trilh\"', 4), ('\"restaurant\"', 4), ('\"viag\"', 3), ('\"visit\"', 3), ('\"atacam\"', 3), ('\"sal\"', 3), ('\"urs\"', 3), ('\"cervej\"', 3), ('\"sol\"', 2), ('\"par\"', 2), ('\"mus\"', 2), ('\"rio\"', 2), ('\"cheg\"', 2), ('\"bem\"', 2), ('\"local\"', 2), ('\"aplic\"', 2), ('\"lag\"', 2), ('\"cas\"', 2), ('\"lago\"', 2), ('\"pod\"', 2), ('\"tir\"', 2), ('\"centr\"', 1), ('\"cult\"', 1), ('\"vitr\"', 1), ('\"lev\"', 1), ('\"teatr\"', 1), ('\"cel\"', 1), ('\"dur\"', 1), ('\"alegr\"', 1), ('\"encontr\"', 1), ('\"nev\"', 1), ('\"vall\"', 1), ('\"lan\"', 1), ('\"apresent\"', 1), ('\"outr\"', 1), ('\"ferv\"', 1), ('\"curitib\"', 1), ('\"rock\"', 1), ('\"prai\"', 1), ('\"estr\"', 1), ('\"seward\"', 1), ('\"santiag\"', 1), ('\"vasso\"', 1), ('\"preg\"', 1), ('\"pont\"', 1), ('\"vulc\"', 1), ('\"cinz\"', 1), ('\"histór\"', 1), ('\"expos\"', 1), ('\"lent\"', 1), ('\"final\"', 1), ('\"min\"', 1), ('\"escolh\"', 1), ('\"experiment\"', 1), ('\"cidad\"', 1), ('\"luí\"', 1), ('\"são\"', 1), ('\"ônibu\"', 1), ('\"guarulh\"', 1), ('\"glaci\"', 1), ('\"cent\"', 1), ('\"ond\"', 1), ('\"and\"', 1), ('\"sorvet\"', 1), ('\"islând\"', 1), ('\"praç\"', 1), ('\"igrej\"', 1), ('\"bairr\"', 1), ('\"cat\"', 1), ('\"alt\"', 1), ('\"wanak\"', 1), ('\"sant\"', 1), ('\"cam\"', 1), ('\"bariloch\"', 1)]\n"
     ]
    }
   ],
   "metadata": {}
  },
  {
   "cell_type": "markdown",
   "source": [
    "### Análise das 5 palavras que mais contribuem para cada tópico"
   ],
   "metadata": {}
  },
  {
   "cell_type": "code",
   "execution_count": 18,
   "source": [
    "analise_top5 = analisar_top_n_palavras_em_topicos(lda, num_topics=num_topics, topn=5)"
   ],
   "outputs": [
    {
     "output_type": "stream",
     "name": "stdout",
     "text": [
      "len of top n palavras = 500\n"
     ]
    }
   ],
   "metadata": {}
  },
  {
   "cell_type": "code",
   "execution_count": 19,
   "source": [
    "analise_top5[0][:20]"
   ],
   "outputs": [
    {
     "output_type": "execute_result",
     "data": {
      "text/plain": [
       "[(0,\n",
       "  '0.022*\"jalap\" + 0.015*\"sol\" + 0.015*\"fot\" + 0.014*\"viag\" + 0.010*\"viaj\"'),\n",
       " (1,\n",
       "  '0.008*\"caminh\" + 0.008*\"parqu\" + 0.007*\"fot\" + 0.007*\"atacam\" + 0.006*\"pass\"'),\n",
       " (2,\n",
       "  '0.018*\"centr\" + 0.017*\"cult\" + 0.013*\"visit\" + 0.012*\"cas\" + 0.011*\"gui\"'),\n",
       " (3,\n",
       "  '0.016*\"fot\" + 0.011*\"trilh\" + 0.010*\"fotograf\" + 0.009*\"algum\" + 0.008*\"caminh\"'),\n",
       " (4, '0.009*\"par\" + 0.009*\"fic\" + 0.008*\"outr\" + 0.007*\"bem\" + 0.007*\"algum\"'),\n",
       " (5,\n",
       "  '0.011*\"fot\" + 0.008*\"parqu\" + 0.007*\"algum\" + 0.006*\"visit\" + 0.006*\"cidad\"'),\n",
       " (6,\n",
       "  '0.028*\"fot\" + 0.016*\"vitr\" + 0.014*\"fotograf\" + 0.011*\"hotel\" + 0.009*\"resolv\"'),\n",
       " (7,\n",
       "  '0.101*\"jalap\" + 0.015*\"lev\" + 0.014*\"cacho\" + 0.013*\"trilh\" + 0.012*\"fot\"'),\n",
       " (8,\n",
       "  '0.009*\"parqu\" + 0.007*\"fot\" + 0.007*\"santiag\" + 0.007*\"barrac\" + 0.006*\"fic\"'),\n",
       " (9,\n",
       "  '0.013*\"parqu\" + 0.013*\"teatr\" + 0.011*\"visit\" + 0.010*\"cidad\" + 0.010*\"conhec\"'),\n",
       " (10,\n",
       "  '0.010*\"mus\" + 0.009*\"cel\" + 0.009*\"fot\" + 0.009*\"ano\" + 0.009*\"particip\"'),\n",
       " (11, '0.009*\"algum\" + 0.009*\"dur\" + 0.009*\"fot\" + 0.008*\"lag\" + 0.008*\"tod\"'),\n",
       " (12,\n",
       "  '0.054*\"jalap\" + 0.019*\"rio\" + 0.019*\"acamp\" + 0.014*\"passei\" + 0.010*\"cano\"'),\n",
       " (13,\n",
       "  '0.011*\"passei\" + 0.010*\"cheg\" + 0.010*\"lag\" + 0.009*\"barc\" + 0.009*\"fot\"'),\n",
       " (14,\n",
       "  '0.024*\"alegr\" + 0.017*\"encontr\" + 0.014*\"gaúch\" + 0.010*\"degust\" + 0.009*\"port\"'),\n",
       " (15,\n",
       "  '0.096*\"nev\" + 0.089*\"vall\" + 0.079*\"esqu\" + 0.045*\"ski\" + 0.039*\"resort\"'),\n",
       " (16,\n",
       "  '0.014*\"viag\" + 0.009*\"visit\" + 0.009*\"aqu\" + 0.008*\"cidad\" + 0.008*\"pod\"'),\n",
       " (17,\n",
       "  '0.011*\"viag\" + 0.010*\"fot\" + 0.009*\"passei\" + 0.007*\"par\" + 0.007*\"local\"'),\n",
       " (18,\n",
       "  '0.016*\"lan\" + 0.013*\"fot\" + 0.011*\"trech\" + 0.011*\"santiag\" + 0.009*\"caix\"'),\n",
       " (19,\n",
       "  '0.011*\"apresent\" + 0.010*\"bem\" + 0.008*\"conhec\" + 0.008*\"palc\" + 0.008*\"boi\"')]"
      ]
     },
     "metadata": {},
     "execution_count": 19
    }
   ],
   "metadata": {}
  },
  {
   "cell_type": "code",
   "execution_count": 20,
   "source": [
    "print(analise_top5[1])"
   ],
   "outputs": [
    {
     "output_type": "stream",
     "name": "stdout",
     "text": [
      "[('\"fot\"', 56), ('\"fic\"', 20), ('\"visit\"', 17), ('\"fotograf\"', 16), ('\"dia\"', 15), ('\"parqu\"', 13), ('\"algum\"', 13), ('\"trilh\"', 12), ('\"cidad\"', 12), ('\"par\"', 11), ('\"passei\"', 11), ('\"jalap\"', 10), ('\"caminh\"', 10), ('\"bem\"', 8), ('\"restaurant\"', 7), ('\"viag\"', 6), ('\"cas\"', 6), ('\"hotel\"', 6), ('\"lag\"', 6), ('\"tir\"', 6), ('\"atacam\"', 5), ('\"pass\"', 5), ('\"outr\"', 5), ('\"cacho\"', 5), ('\"pod\"', 5), ('\"local\"', 5), ('\"sal\"', 5), ('\"urs\"', 5), ('\"cheg\"', 4), ('\"igrej\"', 4), ('\"sol\"', 3), ('\"centr\"', 3), ('\"santiag\"', 3), ('\"conhec\"', 3), ('\"mus\"', 3), ('\"faz\"', 3), ('\"estr\"', 3), ('\"min\"', 3), ('\"cervej\"', 3), ('\"viaj\"', 2), ('\"tod\"', 2), ('\"rio\"', 2), ('\"barc\"', 2), ('\"vall\"', 2), ('\"fl\"', 2), ('\"glaci\"', 2), ('\"aplic\"', 2), ('\"abert\"', 2), ('\"com\"', 2), ('\"lagun\"', 2), ('\"prai\"', 2), ('\"por\"', 2), ('\"milh\"', 2), ('\"lago\"', 2), ('\"revel\"', 2), ('\"pont\"', 2), ('\"vulc\"', 2), ('\"expos\"', 2), ('\"lent\"', 2), ('\"víde\"', 2), ('\"muit\"', 2), ('\"ônibu\"', 2), ('\"ond\"', 2), ('\"and\"', 2), ('\"praç\"', 2), ('\"sant\"', 2), ('\"bariloch\"', 2), ('\"cult\"', 1), ('\"gui\"', 1), ('\"vitr\"', 1), ('\"resolv\"', 1), ('\"lev\"', 1), ('\"barrac\"', 1), ('\"teatr\"', 1), ('\"cel\"', 1), ('\"ano\"', 1), ('\"particip\"', 1), ('\"dur\"', 1), ('\"acamp\"', 1), ('\"cano\"', 1), ('\"alegr\"', 1), ('\"encontr\"', 1), ('\"gaúch\"', 1), ('\"degust\"', 1), ('\"port\"', 1), ('\"nev\"', 1), ('\"esqu\"', 1), ('\"ski\"', 1), ('\"resort\"', 1), ('\"aqu\"', 1), ('\"lan\"', 1), ('\"trech\"', 1), ('\"caix\"', 1), ('\"apresent\"', 1), ('\"palc\"', 1), ('\"boi\"', 1), ('\"animal\"', 1), ('\"abraç\"', 1), ('\"bond\"', 1), ('\"ferv\"', 1), ('\"velh\"', 1), ('\"espírit\"', 1), ('\"dist\"', 1), ('\"curitib\"', 1), ('\"prat\"', 1), ('\"rock\"', 1), ('\"can\"', 1), ('\"punt\"', 1), ('\"tibet\"', 1), ('\"vinh\"', 1), ('\"ros\"', 1), ('\"cinderel\"', 1), ('\"ver\"', 1), ('\"hor\"', 1), ('\"seward\"', 1), ('\"vasso\"', 1), ('\"preg\"', 1), ('\"hostel\"', 1), ('\"cinz\"', 1), ('\"puert\"', 1), ('\"var\"', 1), ('\"histór\"', 1), ('\"interess\"', 1), ('\"estad\"', 1), ('\"telefér\"', 1), ('\"ser\"', 1), ('\"ilumin\"', 1), ('\"arcoiril\"', 1), ('\"final\"', 1), ('\"antoni\"', 1), ('\"chopp\"', 1), ('\"tirad\"', 1), ('\"escolh\"', 1), ('\"telefon\"', 1), ('\"endereç\"', 1), ('\"ambi\"', 1), ('\"nbsp\"', 1), ('\"post\"', 1), ('\"experiment\"', 1), ('\"luí\"', 1), ('\"são\"', 1), ('\"camp\"', 1), ('\"volt\"', 1), ('\"consegu\"', 1), ('\"guarulh\"', 1), ('\"slavier\"', 1), ('\"executiv\"', 1), ('\"aeroport\"', 1), ('\"routeburn\"', 1), ('\"cent\"', 1), ('\"natur\"', 1), ('\"banh\"', 1), ('\"espaç\"', 1), ('\"sorvet\"', 1), ('\"us\"', 1), ('\"islând\"', 1), ('\"dirig\"', 1), ('\"gaudí\"', 1), ('\"cerr\"', 1), ('\"liberdad\"', 1), ('\"decor\"', 1), ('\"temp\"', 1), ('\"bairr\"', 1), ('\"senh\"', 1), ('\"cont\"', 1), ('\"gost\"', 1), ('\"compos\"', 1), ('\"motiv\"', 1), ('\"cat\"', 1), ('\"alt\"', 1), ('\"geral\"', 1), ('\"wanak\"', 1), ('\"tre\"', 1), ('\"cam\"', 1), ('\"lucí\"', 1)]\n"
     ]
    }
   ],
   "metadata": {}
  },
  {
   "cell_type": "markdown",
   "source": [
    "### Análise das 20 palavras que mais contribuem para cada tópico"
   ],
   "metadata": {}
  },
  {
   "cell_type": "code",
   "execution_count": 21,
   "source": [
    "analise_top20 = analisar_top_n_palavras_em_topicos(lda, num_topics=num_topics, topn=20)"
   ],
   "outputs": [
    {
     "output_type": "stream",
     "name": "stdout",
     "text": [
      "len of top n palavras = 2000\n"
     ]
    }
   ],
   "metadata": {}
  },
  {
   "cell_type": "code",
   "execution_count": null,
   "source": [
    "analise_top20[0][:20]"
   ],
   "outputs": [],
   "metadata": {}
  },
  {
   "cell_type": "code",
   "execution_count": null,
   "source": [
    "print(analise_top20[1])"
   ],
   "outputs": [],
   "metadata": {}
  },
  {
   "cell_type": "markdown",
   "source": [
    "## Análise de remoção de palavras\n",
    "\n",
    "Este trabalho visa extrair as palavras de uma análise de topn daquelas que mais contribuem para o levantamento dos tópicos.\n",
    "\n",
    "Os passos são:\n",
    "\n",
    "- A quantidade de top palavras que definem um tópico escolhida foi 5\n",
    "    * Caso seja necessário podemos tentar com mais palavras\n",
    "- Gravar em um arquivo texto as palavras candidatas a remoção, ou seja, todas as que mais contribuem para a definição dos tópicos\n",
    "- Analisar visualmente e manter apenas as que desejamos remover para o tratamento, **removendo manualmente as que desejamos manter**\n",
    "    * Gravar a lista definitiva das palavras a serem desconsideradas em arquivo a parte\n",
    "    * Eu decidi manter nesta lista os verbos porque a funcionalidade específica para a remoção dos mesmos é opcional.\n",
    "    * Eu optei também por ignorar as palavras que só aparecem 1 vez\n",
    "- Usar este arquivo texto como entrada para remoção\n"
   ],
   "metadata": {}
  },
  {
   "cell_type": "code",
   "execution_count": 29,
   "source": [
    "executar_analise_candidatas_remocao = True"
   ],
   "outputs": [],
   "metadata": {}
  },
  {
   "cell_type": "code",
   "execution_count": 30,
   "source": [
    "\"\"\"\n",
    "Recebe uma analise das topn palavras que mais contribuem para os topicos e extrai apenas os nomes das palavras.\n",
    "\"\"\"\n",
    "def extrair_palavras_candidatas(analise_topn):\n",
    "    palavras = [f'{p[0][1:-1]} - {p[1]}' for p in analise_topn[1]]\n",
    "    return palavras\n",
    "\n",
    "pasta_limpeza = '/home/helder/estudos/tcc-pucmg-2/src/python/notebooks/limpeza'\n",
    "arquivo_candidatas_remocao = f'{pasta_limpeza}/candidatas_remocao_nerds_viajantes.txt'\n",
    "\n",
    "def registrar_palavras_candidatas(analise_topn):\n",
    "    palavras_candidatas = extrair_palavras_candidatas(analise_topn)\n",
    "    with open(arquivo_candidatas_remocao, 'w') as f:\n",
    "        for palavra in palavras_candidatas:\n",
    "            f.write(f'{palavra}\\n')\n",
    "\n",
    "if executar_analise_candidatas_remocao:\n",
    "    registrar_palavras_candidatas(analise_top5)"
   ],
   "outputs": [],
   "metadata": {}
  }
 ],
 "metadata": {
  "interpreter": {
   "hash": "e40f5302c6d4b9de2141353283620edefcabae1dbe23ed7117377b1c1ce32e40"
  },
  "kernelspec": {
   "display_name": "Python 3.8.11 64-bit ('tcc-venv': venv)",
   "name": "python3"
  },
  "language_info": {
   "codemirror_mode": {
    "name": "ipython",
    "version": 3
   },
   "file_extension": ".py",
   "mimetype": "text/x-python",
   "name": "python",
   "nbconvert_exporter": "python",
   "pygments_lexer": "ipython3",
   "version": "3.8.11"
  },
  "orig_nbformat": 4
 },
 "nbformat": 4,
 "nbformat_minor": 2
}