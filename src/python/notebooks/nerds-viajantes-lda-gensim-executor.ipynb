{
 "cells": [
  {
   "cell_type": "code",
   "execution_count": 1,
   "source": [
    "%reload_ext autoreload\n",
    "%autoreload 2"
   ],
   "outputs": [],
   "metadata": {}
  },
  {
   "cell_type": "code",
   "execution_count": 2,
   "source": [
    "from main.especificacao_testes import EspecificacaoTestes\n",
    "from main.executor import ExecutorTreinamento\n",
    "from repository.resultado import ResultadoRepo"
   ],
   "outputs": [],
   "metadata": {}
  },
  {
   "cell_type": "markdown",
   "source": [
    "## Executar treinamento com código reusável\n",
    "\n",
    "- Prontos\n",
    "- A executar\n",
    "    * alpha-1_passes-2: 1815 segundos\n",
    "    * alpha-01_passes-2: 2203 segundos\n",
    "    * alpha-001_passes-2: 2238 segundos\n",
    "    * alpha-1_passes-10: 2599 segundos\n",
    "    * alpha-01_passes-10: 2950 segundos\n",
    "    * alpha-001_passes-10: 2756"
   ],
   "metadata": {}
  },
  {
   "cell_type": "code",
   "execution_count": 3,
   "source": [
    "deve_executar_treinamento = True"
   ],
   "outputs": [],
   "metadata": {}
  },
  {
   "cell_type": "code",
   "execution_count": null,
   "source": [
    "if deve_executar_treinamento:\n",
    "    filename = '/home/helder/estudos/tcc-pucmg-2/src/python/notebooks/main/especificacao_alpha-001_passes-10.yml'\n",
    "    especificacao_testes = EspecificacaoTestes(filename)\n",
    "    cenarios = especificacao_testes.get_testes()\n",
    "\n",
    "    executor = ExecutorTreinamento(cenarios)\n",
    "    resultado_df = executor.executar_treinamento()"
   ],
   "outputs": [],
   "metadata": {}
  },
  {
   "cell_type": "code",
   "execution_count": 5,
   "source": [
    "write_csv = False\n",
    "if write_csv:\n",
    "    resultado_df.to_csv('nerds-viajantes_wikipedia.csv', index=None)"
   ],
   "outputs": [],
   "metadata": {}
  },
  {
   "cell_type": "code",
   "execution_count": 6,
   "source": [
    "write_mongo = True\n",
    "if deve_executar_treinamento and write_mongo:\n",
    "    documentos = resultado_df.to_dict('records')\n",
    "    resultado_repo = ResultadoRepo()\n",
    "    resultado_repo.insert_many(documentos)\n",
    "    "
   ],
   "outputs": [],
   "metadata": {}
  },
  {
   "cell_type": "code",
   "execution_count": 7,
   "source": [
    "resultado_repo.count_resultados()"
   ],
   "outputs": [
    {
     "output_type": "execute_result",
     "data": {
      "text/plain": [
       "63504"
      ]
     },
     "metadata": {},
     "execution_count": 7
    }
   ],
   "metadata": {}
  }
 ],
 "metadata": {
  "interpreter": {
   "hash": "e40f5302c6d4b9de2141353283620edefcabae1dbe23ed7117377b1c1ce32e40"
  },
  "kernelspec": {
   "name": "python3",
   "display_name": "Python 3.8.11 64-bit ('tcc-venv': venv)"
  },
  "language_info": {
   "name": "python",
   "version": "3.8.11",
   "mimetype": "text/x-python",
   "codemirror_mode": {
    "name": "ipython",
    "version": 3
   },
   "pygments_lexer": "ipython3",
   "nbconvert_exporter": "python",
   "file_extension": ".py"
  },
  "orig_nbformat": 2
 },
 "nbformat": 4,
 "nbformat_minor": 2
}