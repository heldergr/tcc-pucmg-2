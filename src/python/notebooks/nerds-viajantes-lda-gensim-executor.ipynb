{
 "cells": [
  {
   "cell_type": "code",
   "execution_count": 1,
   "source": [
    "%reload_ext autoreload\n",
    "%autoreload 2"
   ],
   "outputs": [],
   "metadata": {}
  },
  {
   "cell_type": "code",
   "execution_count": 3,
   "source": [
    "from main.especificacao_testes import EspecificacaoTestes\n",
    "from main.executor import ExecutorTreinamento\n",
    "from repository.resultado import ResultadoRepo\n",
    "\n",
    "import numpy as np\n",
    "import pandas as pd\n",
    "from pymongo import MongoClient"
   ],
   "outputs": [],
   "metadata": {}
  },
  {
   "cell_type": "markdown",
   "source": [
    "## Executar treinamento com código reusável\n",
    "\n",
    "- Prontos\n",
    "    * especificacao_alpha-001_passes-2.yml"
   ],
   "metadata": {}
  },
  {
   "cell_type": "code",
   "execution_count": null,
   "source": [
    "deve_executar_treinamento = False"
   ],
   "outputs": [],
   "metadata": {}
  },
  {
   "cell_type": "code",
   "execution_count": 3,
   "source": [
    "if deve_executar_treinamento:\n",
    "    filename = '/home/helder/estudos/tcc-pucmg-2/src/python/notebooks/main/especificacao_alpha-1_passes-10.yml'\n",
    "    especificacao_testes = EspecificacaoTestes(filename)\n",
    "    cenarios = especificacao_testes.get_testes()\n",
    "\n",
    "    executor = ExecutorTreinamento(cenarios)\n",
    "    resultado_df = executor.executar_treinamento()"
   ],
   "outputs": [],
   "metadata": {}
  },
  {
   "cell_type": "code",
   "execution_count": 7,
   "source": [
    "write_csv = False\n",
    "if write_csv:\n",
    "    resultado_df.to_csv('nerds-viajantes_wikipedia.csv', index=None)"
   ],
   "outputs": [],
   "metadata": {}
  },
  {
   "cell_type": "code",
   "execution_count": 8,
   "source": [
    "write_mongo = True\n",
    "if deve_executar_treinamento and write_mongo:\n",
    "    documentos = resultado_df.to_dict('records')\n",
    "    resultado_repo = ResultadoRepo()\n",
    "    resultado_repo.insert_many(documentos)\n",
    "    "
   ],
   "outputs": [],
   "metadata": {}
  },
  {
   "cell_type": "code",
   "execution_count": 4,
   "source": [
    "mongo_client = MongoClient()\n",
    "db = mongo_client['tcc-pucmg']\n",
    "resultados_collection = db['resultados']"
   ],
   "outputs": [],
   "metadata": {}
  },
  {
   "cell_type": "code",
   "execution_count": 5,
   "source": [
    "resultados_collection.count_documents({})"
   ],
   "outputs": [
    {
     "output_type": "execute_result",
     "data": {
      "text/plain": [
       "63504"
      ]
     },
     "metadata": {},
     "execution_count": 5
    }
   ],
   "metadata": {}
  },
  {
   "cell_type": "code",
   "execution_count": 6,
   "source": [
    "resultados = list(resultados_collection.find({}))"
   ],
   "outputs": [],
   "metadata": {}
  },
  {
   "cell_type": "code",
   "execution_count": 10,
   "source": [
    "resultados_df = pd.DataFrame(resultados)"
   ],
   "outputs": [],
   "metadata": {}
  },
  {
   "cell_type": "code",
   "execution_count": 11,
   "source": [
    "resultados_df.to_csv('/home/helder/estudos/tcc-pucmg-2/data/saida/nerds-viajantes_wikipedia_7-num-topics_4-eta_3-alpha_2-passes.csv', index=False)"
   ],
   "outputs": [],
   "metadata": {}
  }
 ],
 "metadata": {
  "interpreter": {
   "hash": "e40f5302c6d4b9de2141353283620edefcabae1dbe23ed7117377b1c1ce32e40"
  },
  "kernelspec": {
   "display_name": "Python 3.8.10 64-bit ('tcc-venv': venv)",
   "name": "python3"
  },
  "language_info": {
   "name": "python",
   "version": ""
  },
  "orig_nbformat": 2
 },
 "nbformat": 4,
 "nbformat_minor": 2
}