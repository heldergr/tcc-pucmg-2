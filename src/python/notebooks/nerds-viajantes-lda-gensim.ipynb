{
 "cells": [
  {
   "cell_type": "markdown",
   "metadata": {},
   "source": [
    "# Treinamento Nerds Viajantes - LDA"
   ]
  },
  {
   "cell_type": "code",
   "execution_count": 17,
   "metadata": {},
   "outputs": [],
   "source": [
    "%reload_ext autoreload\n",
    "%autoreload 2"
   ]
  },
  {
   "cell_type": "code",
   "execution_count": 28,
   "metadata": {},
   "outputs": [],
   "source": [
    "# Modulos da propria aplicacao\n",
    "from limpeza import limpeza_posts, limpeza_texto\n",
    "from repository import nerds_viajantes\n",
    "from treinamento import dicionario, treinamento_lda"
   ]
  },
  {
   "cell_type": "markdown",
   "metadata": {},
   "source": [
    "## Trabalho com base de treinamento"
   ]
  },
  {
   "cell_type": "code",
   "execution_count": 3,
   "metadata": {},
   "outputs": [],
   "source": [
    "# Carregar posts\n",
    "published = nerds_viajantes.read_published()"
   ]
  },
  {
   "cell_type": "code",
   "execution_count": 4,
   "metadata": {},
   "outputs": [],
   "source": [
    "# Remove posts desnecessarios\n",
    "posts = limpeza_posts.limpar_posts(published)"
   ]
  },
  {
   "cell_type": "code",
   "execution_count": 5,
   "metadata": {},
   "outputs": [],
   "source": [
    "# Limpa texto e gera documentos para treinamento\n",
    "documentos = posts['content'].apply(limpeza_texto.limpar_texto)"
   ]
  },
  {
   "cell_type": "code",
   "execution_count": 27,
   "metadata": {},
   "outputs": [],
   "source": [
    "# Cria dicionario com dados da base de treinamento\n",
    "dicionario_treinamento = dicionario.criar(documentos)\n",
    "dicionario.salvar_como_texto(dicionario_treinamento)"
   ]
  },
  {
   "cell_type": "code",
   "execution_count": 29,
   "metadata": {},
   "outputs": [],
   "source": [
    "# Treina modelo com dicionario e documentos\n",
    "model_lda = treinamento_lda.ajustar_modelo(documentos, dicionario_treinamento)"
   ]
  },
  {
   "cell_type": "code",
   "execution_count": 33,
   "metadata": {},
   "outputs": [
    {
     "data": {
      "text/plain": [
       "[0.00022057103,\n",
       " 0.0002205708,\n",
       " 0.00022057042,\n",
       " 0.00022057176,\n",
       " 0.00022057089,\n",
       " 0.00022057076,\n",
       " 0.97797537,\n",
       " 0.00022057208,\n",
       " 0.00022056914,\n",
       " 0.019598352,\n",
       " 0.00022057048,\n",
       " 0.00022057202,\n",
       " 0.00022057019]"
      ]
     },
     "execution_count": 33,
     "metadata": {},
     "output_type": "execute_result"
    }
   ],
   "source": [
    "# Calculo de probabilidades para um documento aleatorio\n",
    "treinamento_lda.calcular_probabilidades_documento(documentos[20], dicionario_treinamento, model_lda)"
   ]
  }
 ],
 "metadata": {
  "kernelspec": {
   "display_name": "Python 3.7.3 64-bit ('tcc-env': venv)",
   "name": "python373jvsc74a57bd04143b9c6b9342c2726020891eca2bb8d0d6574ab18558731d58b7f9e44c9082d"
  },
  "language_info": {
   "codemirror_mode": {
    "name": "ipython",
    "version": 3
   },
   "file_extension": ".py",
   "mimetype": "text/x-python",
   "name": "python",
   "nbconvert_exporter": "python",
   "pygments_lexer": "ipython3",
   "version": "3.7.3"
  },
  "orig_nbformat": 2
 },
 "nbformat": 4,
 "nbformat_minor": 2
}