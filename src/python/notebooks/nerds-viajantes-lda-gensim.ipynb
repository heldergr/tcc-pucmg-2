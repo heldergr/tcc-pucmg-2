{
 "cells": [
  {
   "cell_type": "code",
   "execution_count": 7,
   "metadata": {},
   "outputs": [],
   "source": [
    "%reload_ext autoreload\n",
    "%autoreload 2"
   ]
  },
  {
   "cell_type": "code",
   "execution_count": 4,
   "metadata": {},
   "outputs": [],
   "source": [
    "# Modulos da propria aplicacao\n",
    "from fonte_dados.fabrica import FabricaFonteDados, NERDS_VIAJANTES, WIKIPEDIA\n",
    "from limpeza import limpeza_posts, limpeza_texto\n",
    "from repository import nerds_viajantes, wikipedia, mongo_utils\n",
    "from treinamento import dicionario, treinamento_lda\n",
    "from treinamento.treinamento_lda import TreinamentoLda\n",
    "\n",
    "from repository.mongo_utils import get_pages_content_collection\n",
    "from repository.wikipedia import WikipediaRepo\n",
    "from similarity.similarity import SimilarityCalculator\n",
    "\n",
    "import numpy as np\n",
    "import pandas as pd\n",
    "import time\n",
    "\n",
    "wikipedia_repo = WikipediaRepo(collection=get_pages_content_collection())"
   ]
  },
  {
   "cell_type": "code",
   "execution_count": 8,
   "metadata": {},
   "outputs": [],
   "source": [
    "fabrica = FabricaFonteDados()"
   ]
  },
  {
   "cell_type": "code",
   "execution_count": 7,
   "metadata": {},
   "outputs": [],
   "source": [
    "origem = NERDS_VIAJANTES\n",
    "destino = WIKIPEDIA"
   ]
  },
  {
   "cell_type": "markdown",
   "metadata": {},
   "source": [
    "## Trabalho com base de treinamento"
   ]
  },
  {
   "cell_type": "code",
   "execution_count": 9,
   "metadata": {},
   "outputs": [],
   "source": [
    "fonte_dados_origem = fabrica.get_fonte_dados(origem)\n",
    "fonte_dados_origem.carregar_dados()\n",
    "documentos_origem = fonte_dados_origem.get_tokens()"
   ]
  },
  {
   "cell_type": "markdown",
   "metadata": {},
   "source": [
    "### Ajuste de modelo para posts de base de treinamento (origem)"
   ]
  },
  {
   "cell_type": "code",
   "execution_count": 14,
   "metadata": {},
   "outputs": [
    {
     "name": "stdout",
     "output_type": "stream",
     "text": [
      "Ajustando modelo com 100 topicos e 2 passes\n"
     ]
    }
   ],
   "source": [
    "# Ajusta modelo LDA para os documentos de origem. O resultado gerado contem o dicionario, o corpus de dados e o modelo gerado\n",
    "treinamento_lda = TreinamentoLda(num_topics=100, passes=2)\n",
    "resultado_lda = treinamento_lda.ajustar_modelo(documentos_origem)"
   ]
  },
  {
   "cell_type": "markdown",
   "metadata": {},
   "source": [
    "### Definicao de probabilidades de topicos para documentos de origem"
   ]
  },
  {
   "cell_type": "code",
   "execution_count": 16,
   "metadata": {},
   "outputs": [
    {
     "data": {
      "text/plain": [
       "(378, 100)"
      ]
     },
     "execution_count": 16,
     "metadata": {},
     "output_type": "execute_result"
    }
   ],
   "source": [
    "probabilidades_topicos_origem = [treinamento_lda.calcular_probabilidades_documento(dnv, resultado_lda) for dnv in documentos_origem]\n",
    "np.array(probabilidades_topicos_origem).shape"
   ]
  },
  {
   "cell_type": "markdown",
   "metadata": {},
   "source": [
    "### Teste com classe"
   ]
  },
  {
   "cell_type": "markdown",
   "metadata": {},
   "source": [
    "## Trabalho com base de comparaçã (destino)"
   ]
  },
  {
   "cell_type": "code",
   "execution_count": 17,
   "metadata": {},
   "outputs": [],
   "source": [
    "fonte_dados_destino = fabrica.get_fonte_dados(destino)\n",
    "fonte_dados_destino.carregar_dados()\n",
    "documentos_destino = fonte_dados_destino.get_tokens()"
   ]
  },
  {
   "cell_type": "code",
   "execution_count": 18,
   "metadata": {},
   "outputs": [
    {
     "data": {
      "text/html": [
       "<div>\n",
       "<style scoped>\n",
       "    .dataframe tbody tr th:only-of-type {\n",
       "        vertical-align: middle;\n",
       "    }\n",
       "\n",
       "    .dataframe tbody tr th {\n",
       "        vertical-align: top;\n",
       "    }\n",
       "\n",
       "    .dataframe thead th {\n",
       "        text-align: right;\n",
       "    }\n",
       "</style>\n",
       "<table border=\"1\" class=\"dataframe\">\n",
       "  <thead>\n",
       "    <tr style=\"text-align: right;\">\n",
       "      <th></th>\n",
       "      <th>pageid</th>\n",
       "      <th>title</th>\n",
       "      <th>country</th>\n",
       "      <th>text_clean</th>\n",
       "      <th>tokens</th>\n",
       "      <th>n_tokens</th>\n",
       "    </tr>\n",
       "  </thead>\n",
       "  <tbody>\n",
       "    <tr>\n",
       "      <th>0</th>\n",
       "      <td>22911</td>\n",
       "      <td>Geografia da Argentina</td>\n",
       "      <td>Argentina</td>\n",
       "      <td>A Geografia da Argentina é um domínio de estud...</td>\n",
       "      <td>[geograf, argentin, domíni, estud, conhec, sob...</td>\n",
       "      <td>1163</td>\n",
       "    </tr>\n",
       "    <tr>\n",
       "      <th>1</th>\n",
       "      <td>1996157</td>\n",
       "      <td>Banco Namuncurá</td>\n",
       "      <td>Argentina</td>\n",
       "      <td>Banco Namuncurá (Banco Burdwood) e uma platafo...</td>\n",
       "      <td>[banc, namuncur, banc, burdwood, plataform, su...</td>\n",
       "      <td>37</td>\n",
       "    </tr>\n",
       "    <tr>\n",
       "      <th>2</th>\n",
       "      <td>1393635</td>\n",
       "      <td>Campo de gelo do sul da Patagónia</td>\n",
       "      <td>Argentina</td>\n",
       "      <td>O Campo de gelo do sul da Patagónia (em castel...</td>\n",
       "      <td>[camp, gel, sul, patagón, castelh, hiel, conti...</td>\n",
       "      <td>181</td>\n",
       "    </tr>\n",
       "    <tr>\n",
       "      <th>3</th>\n",
       "      <td>3425259</td>\n",
       "      <td>Cerro de la Gloria</td>\n",
       "      <td>Argentina</td>\n",
       "      <td>\\nPico  da Glória é um morro (cerro) próximo a...</td>\n",
       "      <td>[pic, glór, morr, cerr, próx, cidad, argentin,...</td>\n",
       "      <td>203</td>\n",
       "    </tr>\n",
       "    <tr>\n",
       "      <th>4</th>\n",
       "      <td>1753443</td>\n",
       "      <td>Chaco Austral</td>\n",
       "      <td>Argentina</td>\n",
       "      <td>Chaco Austral é uma das três principais divisõ...</td>\n",
       "      <td>[chac, austr, trê, princip, divis, chac, porç,...</td>\n",
       "      <td>62</td>\n",
       "    </tr>\n",
       "  </tbody>\n",
       "</table>\n",
       "</div>"
      ],
      "text/plain": [
       "    pageid                              title    country  \\\n",
       "0    22911             Geografia da Argentina  Argentina   \n",
       "1  1996157                    Banco Namuncurá  Argentina   \n",
       "2  1393635  Campo de gelo do sul da Patagónia  Argentina   \n",
       "3  3425259                 Cerro de la Gloria  Argentina   \n",
       "4  1753443                      Chaco Austral  Argentina   \n",
       "\n",
       "                                          text_clean  \\\n",
       "0  A Geografia da Argentina é um domínio de estud...   \n",
       "1  Banco Namuncurá (Banco Burdwood) e uma platafo...   \n",
       "2  O Campo de gelo do sul da Patagónia (em castel...   \n",
       "3  \\nPico  da Glória é um morro (cerro) próximo a...   \n",
       "4  Chaco Austral é uma das três principais divisõ...   \n",
       "\n",
       "                                              tokens  n_tokens  \n",
       "0  [geograf, argentin, domíni, estud, conhec, sob...      1163  \n",
       "1  [banc, namuncur, banc, burdwood, plataform, su...        37  \n",
       "2  [camp, gel, sul, patagón, castelh, hiel, conti...       181  \n",
       "3  [pic, glór, morr, cerr, próx, cidad, argentin,...       203  \n",
       "4  [chac, austr, trê, princip, divis, chac, porç,...        62  "
      ]
     },
     "execution_count": 18,
     "metadata": {},
     "output_type": "execute_result"
    }
   ],
   "source": [
    "fonte_dados_destino.get_dataframe().head()"
   ]
  },
  {
   "cell_type": "markdown",
   "metadata": {},
   "source": [
    "### Definicao de topicos para documentos de destino\n",
    "\n",
    "- Quantidade de documentos: 2252\n",
    "- Indice do maior documento: 123\n",
    "- Tamanho do maior documento: 10018 tokens\n",
    "- Tempo gasto para definir tópicos de maior documento: 0.02167201042175293 segundos\n",
    "- Tempo estimado para todos os documentos (com base no tempo do maior): 18.83 segundos\n",
    "    * Na verdade este valor variou muito, não é fixo, mas a maioria das vezes ficou em torno de 20 segundos"
   ]
  },
  {
   "cell_type": "code",
   "execution_count": 16,
   "metadata": {},
   "outputs": [],
   "source": [
    "# TODO: Remover\n",
    "def avaliar_tempos_definicao_topicos_wikipedia():\n",
    "    print(f'Quantidade de documentos: {len(documentos_wikipedia)}')\n",
    "\n",
    "    tamanhos = [len(d) for d in documentos_wikipedia]\n",
    "    indice_maior_documento = np.argmax(tamanhos)\n",
    "    print(f'Indice do maior documento: {indice_maior_documento}')\n",
    "    print(f'Tamanho do maior documento: {tamanhos[indice_maior_documento]} tokens')\n",
    "\n",
    "    maior_documento = documentos_wikipedia[indice_maior_documento]\n",
    "    start_time = time.time()\n",
    "    treinamento_lda.calcular_probabilidades_documento(maior_documento, lda_nerds_viajantes)\n",
    "    tempo_gasto_maior_documento = time.time() - start_time\n",
    "    print(f\"Tempo gasto na definicao dos topicos do maior documento: {tempo_gasto_maior_documento:.2f} segundos\")\n",
    "    print(f'Tempo estimado para todos documentos: {len(documentos_wikipedia) * tempo_gasto_maior_documento:.2f} segundos')\n",
    "\n",
    "# avaliar_tempos_definicao_topicos_wikipedia()"
   ]
  },
  {
   "cell_type": "markdown",
   "metadata": {},
   "source": [
    "### Calculo de probabilidade de topicos para documentos de destino"
   ]
  },
  {
   "cell_type": "code",
   "execution_count": 21,
   "metadata": {},
   "outputs": [
    {
     "name": "stdout",
     "output_type": "stream",
     "text": [
      "Tempo total gasto na definicao dos topicos: 6.57 segundos\n"
     ]
    }
   ],
   "source": [
    "start_time = time.time()\n",
    "probabilidades_topicos_destino = [\n",
    "    treinamento_lda.calcular_probabilidades_documento(dw, resultado_lda) for dw in documentos_destino]\n",
    "elapsed_time = time.time() - start_time\n",
    "print(f'Tempo total gasto na definicao dos topicos: {elapsed_time:.2f} segundos')"
   ]
  },
  {
   "cell_type": "markdown",
   "metadata": {},
   "source": [
    "## Calculo de semelhanca entre documentos de treinamento e comparação"
   ]
  },
  {
   "cell_type": "code",
   "execution_count": 24,
   "metadata": {},
   "outputs": [
    {
     "name": "stdout",
     "output_type": "stream",
     "text": [
      "Quantidade de documentos de origem: 378\n",
      "Tamanho do array de probabilidades de documentos de origem: 100\n",
      "Quantidade de documentos de destino: 2252\n",
      "Tamanho do array de probabilidades de documentos de destino: 100\n"
     ]
    }
   ],
   "source": [
    "print(f'Quantidade de documentos de origem: {len(probabilidades_topicos_origem)}')\n",
    "print(f'Tamanho do array de probabilidades de documentos de origem: {len(probabilidades_topicos_origem[0])}')\n",
    "print(f'Quantidade de documentos de destino: {len(probabilidades_topicos_destino)}')\n",
    "print(f'Tamanho do array de probabilidades de documentos de destino: {len(probabilidades_topicos_destino[0])}')"
   ]
  },
  {
   "cell_type": "markdown",
   "metadata": {},
   "source": [
    "### Problema encontrado\n",
    "\n",
    "Ao calcular as probabilidades que determinados documentos estejam em determinados tópicos vimos que poucos tópicos determinam um documento, independente de usarmos 13 ou 100 tópicos no modelo. Para calcular a matrix esparsa das similaridades eu acabei tendo que preencher um array com 0 em quase todas as posições para que não desse erro.\n",
    "Devemos estudar para ver se o modelo LDA é realmente a melhor abordagem neste caso ou se não temos muitos poucos documentos.\n",
    "\n",
    "Sem preencher com 0's os tópicos que não contribuiam para cada documento o que acontecia era que cada array de probabilidade por tópico de um documento tinha um tamanho diferente, o que dava erro ao criar a matrix esparsa, que espera que todos tenham a mesma quantidade de colunas, que no caso é a quantidade de tópicos.\n",
    "\n",
    "UPDATE: Este documento não mais representa um problema pois ao usar o método calcular_probabilidades_documento este já retorno exatamente a quantidade de tópicos utilizada no treinamento."
   ]
  },
  {
   "cell_type": "code",
   "execution_count": 25,
   "metadata": {},
   "outputs": [],
   "source": [
    "similarity_calculator = SimilarityCalculator(probabilidades_topicos_destino)"
   ]
  },
  {
   "cell_type": "markdown",
   "metadata": {},
   "source": [
    "### Calcula as documentos de comparação mais parecidos com os documentos de treinamento"
   ]
  },
  {
   "cell_type": "code",
   "execution_count": 26,
   "metadata": {},
   "outputs": [],
   "source": [
    "destinos_mais_parecidos = [similarity_calculator.get_most_similar_documents(pto) for pto in probabilidades_topicos_origem]"
   ]
  },
  {
   "cell_type": "markdown",
   "metadata": {},
   "source": [
    "## Análise específica - Nervs Viajantes versus Wikipedia"
   ]
  },
  {
   "cell_type": "markdown",
   "metadata": {},
   "source": [
    "### Uma análise de post específico (bariloche-cerro-tronador-e-cascada-los-alerces)\n",
    "\n",
    "Post escolhido do Nerds viajantes para analisar:\n",
    "\n",
    "- id: 1356\n",
    "- indice no array: 49\n",
    "- name: bariloche-cerro-tronador-e-cascada-los-alerces"
   ]
  },
  {
   "cell_type": "code",
   "execution_count": 21,
   "metadata": {},
   "outputs": [
    {
     "data": {
      "text/plain": [
       "name       bariloche-cerro-tronador-e-cascada-los-alerces\n",
       "title    Bariloche - Cerro Tronador e Cascada los Alerces\n",
       "Name: 49, dtype: object"
      ]
     },
     "execution_count": 21,
     "metadata": {},
     "output_type": "execute_result"
    }
   ],
   "source": [
    "indice_post_nv = 49\n",
    "posts.iloc[49][['name', 'title']]"
   ]
  },
  {
   "cell_type": "code",
   "execution_count": 30,
   "metadata": {},
   "outputs": [
    {
     "data": {
      "text/plain": [
       "[('dia', 0.014348166),\n",
       " ('visit', 0.011912983),\n",
       " ('lag', 0.009569725),\n",
       " ('algum', 0.009334474),\n",
       " ('pass', 0.009285997),\n",
       " ('temp', 0.008738895),\n",
       " ('fic', 0.007909209),\n",
       " ('estr', 0.007864787),\n",
       " ('par', 0.0073830336),\n",
       " ('ond', 0.007332809),\n",
       " ('parqu', 0.0067055314),\n",
       " ('cheg', 0.0066545513),\n",
       " ('cidad', 0.006438682),\n",
       " ('caminh', 0.0063042664),\n",
       " ('pod', 0.0061235996),\n",
       " ('fot', 0.0060603707),\n",
       " ('faz', 0.0060003907),\n",
       " ('pont', 0.005456806),\n",
       " ('vist', 0.0053889276),\n",
       " ('carr', 0.0053370255)]"
      ]
     },
     "execution_count": 30,
     "metadata": {},
     "output_type": "execute_result"
    }
   ],
   "source": [
    "bow_49 = lda_nerds_viajantes.corpus[49]\n",
    "topics = lda_nerds_viajantes.modelo_lda.get_document_topics(bow_49)\n",
    "\n",
    "\"\"\"\n",
    "Topicos identificados para documento 49: \n",
    "[(6, 0.23247316), (91, 0.7655891)]\n",
    "\"\"\"\n",
    "# topics\n",
    "\n",
    "# Visualizando topico 91, que contribui em 77%\n",
    "lda_nerds_viajantes.modelo_lda.show_topic(topicid=91, topn=20)"
   ]
  },
  {
   "cell_type": "code",
   "execution_count": 32,
   "metadata": {},
   "outputs": [
    {
     "name": "stdout",
     "output_type": "stream",
     "text": [
      "Tamanho do documento 49: 505\n",
      "Counter({'cerr': 16, 'tron': 11, 'volt': 9, 'mão': 9, 'casc': 7, 'pont': 7, 'par': 7, 'lag': 7, 'caminh': 7, 'únic': 7, 'parqu': 6, 'carr': 6, 'estr': 6, 'tir': 6, 'fot': 6, 'chuv': 6, 'temp': 5, 'visit': 5, 'fic': 5, 'peg': 5, 'pouc': 5, 'segu': 5, 'algum': 5, 'hor': 5, 'ida': 5, 'dur': 4, 'argentin': 4, 'lo': 4, 'alerc': 4, 'rio': 4, 'bariloch': 4, 'permit': 4, 'bas': 4, 'pod': 4, 'aproximad': 4, 'nacion': 3, 'pert': 3, 'tant': 3, 'direç': 3, 'faz': 3, 'mascard': 3, 'direit': 3, 'part': 3, 'estreit': 3, 'guarit': 3, 'entr': 3, 'banh': 3, 'mans': 3, 'vai': 3, 'cheg': 3, 'mir': 3, 'cor': 3, 'impression': 3, 'lad': 3, 'dupl': 3, 'conhec': 2, 'bel': 2, 'nahuel': 2, 'huap': 2, 'mont': 2, 'negr': 2, 'com': 2, 'metr': 2, 'quant': 2, 'local': 2, 'saím': 2, 'tom': 2, 'hotel': 2, 'dirig': 2, 'vir': 2, 'bem': 2, 'conserv': 2, 'quilômetr': 2, 'pes': 2, 'estrang': 2, 'adiant': 2, 'atr': 2, 'sobr': 2, 'sequ': 2, 'prim': 2, 'interess': 2, 'estacion': 2, 'qued': 2, 'bonit': 2, 'verd': 2, 'val': 2, 'qu': 2, 'aparec': 2, 'acompanh': 2, 'bom': 2, 'brinc': 2, 'uma': 2, 'muit': 2, 'desc': 2, 'ver': 2, 'lanchonet': 2, 'troll': 2, 'pass': 1, 'dedic': 1, 'natur': 1, 'depois': 1, 'lanín': 1, 'dentr': 1, 'atra': 1, 'cham': 1, 'atenç': 1, 'fronteir': 1, 'chil': 1, 'provínc': 1, '3550': 1, 'altur': 1, 'alt': 1, 'reg': 1, 'trekking': 1, 'dia': 1, 'dorm': 1, 'refúgi': 1, 'estrategic': 1, 'cidad': 1, 'sul': 1, 'café': 1, 'manhã': 1, 'reforç': 1, 'marg': 1, 'gutierr': 1, 'vill': 1, 'centr': 1, 'cívic': 1, 'ond': 1, '36km': 1, 'dest': 1, 'asfalt': 1, 'pag': 1, 'nest': 1, 'moment': 1, 'pens': 1, 'estratég': 1, 'dua': 1, 'um': 1, 'começ': 1, 'enquant': 1, 'er': 1, 'soment': 1, 'ent': 1, 'resolv': 1, 'avist': 1, 'vaqu': 1, 'vist': 1, 'atá': 1, '30km': 1, 'são': 1, '300': 1, 'passarel': 1, 'mad': 1, 'long': 1, 'pais': 1, 'pen': 1, 'ced': 1, 'ant': 1, 'adrotat': 1, 'group': 1, 'nbsp': 1, 'cont': 1, 'públic': 1, 'cas': 1, 'chá': 1, 'observ': 1, 'ser': 1, 'sair': 1, 'poi': 1, 'hav': 1, 'vár': 1, 'vam': 1, 'ultrapass': 1, 'regress': 1, '40km': 1, 'log': 1, 'saíd': 1, 'dess': 1, 'clar': 1, 'deix': 1, 'hipno': 1, 'infeliz': 1, 'nubl': 1, 'consegu': 1, 'pretend': 1, 'assim': 1, 'fiz': 1, 'registr': 1, 'após': 1, 'serpente': 1, 'bosqu': 1, 'árvor': 1, 'gost': 1, 'ininterrupt': 1, 'por': 1, 'chov': 1, 'minut': 1, 'nerd': 1, 'aqu': 1, 'quer': 1, 'daquel': 1, 'pedaç': 1, 'paraís': 1, 'falt': 1, 'esquerd': 1, 'sob': 1, 'ventisquer': 1, 'gel': 1, 'escur': 1, 'parec': 1, 'pedr': 1, 'guard': 1, 'termin': 1, 'menos': 1, 'enfraquec': 1, 'nad': 1, 'cois': 1, 'inclusiv': 1, 'delici': 1, 'tort': 1, 'frambo': 1, 'melhor': 1, 'pud': 1, 'aguac': 1, 'carinhos': 1, 'apelid': 1, 'emb': 1, 'debaix': 1, 'consolid': 1, 'apel': 1, 'diz': 1, 'boa': 1, 'cond': 1, 'trajet': 1, 'bast': 1, 'tranquil': 1, 'preç': 1, 'sit': 1, 'http': 1, 'www': 1, 'nahuelhuap': 1, 'gov': 1, 'circul': 1, 'steffen': 1, '________________________________________________________': 1, 'procur': 1, 'reserv': 1, 'agor': 1, 'booking': 1})\n"
     ]
    }
   ],
   "source": [
    "from collections import Counter\n",
    "print(f'Tamanho do documento 49: {len(documentos[49])}')\n",
    "print(Counter(documentos[49]))"
   ]
  },
  {
   "cell_type": "code",
   "execution_count": 28,
   "metadata": {},
   "outputs": [
    {
     "name": "stdout",
     "output_type": "stream",
     "text": [
      "Wikipedia mais parecido:                                               title         country\n",
      "1119                                    Rio Awatere   Nova Zelandia\n",
      "2185                                     Rio Innoko  Estados Unidos\n",
      "1109                                      Rio Arrow   Nova Zelandia\n",
      "1194                                 Albion (Texas)  Estados Unidos\n",
      "1258                                 Boston (Texas)  Estados Unidos\n",
      "1789  Parque Nacional e Reserva Gates of the Arctic  Estados Unidos\n",
      "1124                                    Rio Barrier   Nova Zelandia\n",
      "894                   Lista de atrações de Auckland   Nova Zelandia\n",
      "2188                                    Rio Nowitna  Estados Unidos\n",
      "1138                                   Rio Turakina   Nova Zelandia\n"
     ]
    }
   ],
   "source": [
    "paginas_wikipedia_mais_parecidas = wikipedia_mais_parecidos[indice_post_nv]\n",
    "print(f'Wikipedia mais parecido: {pages_df.iloc[paginas_wikipedia_mais_parecidas, [1, 2]]}')"
   ]
  },
  {
   "cell_type": "code",
   "execution_count": 37,
   "metadata": {},
   "outputs": [
    {
     "name": "stdout",
     "output_type": "stream",
     "text": [
      "Tamanho do documento Rio Awetere (1119): 35\n"
     ]
    },
    {
     "data": {
      "text/plain": [
       "[(6, 0.21784398), (53, 0.03848416), (87, 0.09624962), (91, 0.61537075)]"
      ]
     },
     "execution_count": 37,
     "metadata": {},
     "output_type": "execute_result"
    }
   ],
   "source": [
    "print(f'Tamanho do documento Rio Awetere (1119): {len(documentos_wikipedia[1119])}')\n",
    "corpus_rio_awetere = lda_nerds_viajantes.dicionario.doc2bow(documentos_wikipedia[1119])\n",
    "topics = lda_nerds_viajantes.modelo_lda.get_document_topics(corpus_rio_awetere)\n",
    "\"\"\"\n",
    "Topicos que mais contribuem para documento 1119:\n",
    "Veja que o 91 eh o que mais contribui, dai a semelhanca com o post da cascada los alerces\n",
    "[(6, 0.21784398), (53, 0.03848416), (87, 0.09624962), (91, 0.61537075)]\n",
    "\"\"\"\n",
    "print(topics)"
   ]
  },
  {
   "cell_type": "markdown",
   "metadata": {},
   "source": [
    "### Trabalho futuro\n",
    "\n",
    "- Considerar remocao de palavras que estao contribuindo muito para formacao de determinados topicos e poderiam ser inuteis.\n",
    "    * A palavra \"dia\", por exemplo, está aparecendo muito e parece pouco contribuir para a semelhança entre os documentos\n",
    "- Considerar a possibilidade de traduzir algumas palavras que aparecem muito, como cascada, por exemplo"
   ]
  },
  {
   "cell_type": "markdown",
   "metadata": {},
   "source": [
    "**Comentários sobre o resultado e trabalho futuro**\n",
    "\n",
    "- Todos os posts que vem como os mais parecidos são relacionados a rios\n",
    "- Os rios dos resultados são distribuídos entre os países Estados Unidos e Nova Zelândia mas curiosamente não Argentina\n",
    "    * Provavelmente eu não baixei os posts de rios da Argentina\n",
    "\n",
    "**Trabalho futuro**\n",
    "\n",
    "- Analisar qual tópico mais aparece para este post\n",
    "    * Analisar também do mais parecido na wikipedia\n",
    "- Analisar palavras que mais contribuem para os tópicos em questão"
   ]
  },
  {
   "cell_type": "markdown",
   "metadata": {},
   "source": [
    "### Análise com post específico\n",
    "\n",
    "- circuito-w-las-torres-del-paine\n",
    "    * id: 8218, indice: 256\n",
    "- el-chalten-trilha-para-laguna-torre\n",
    "    * id: 9829, indice: 290"
   ]
  },
  {
   "cell_type": "code",
   "execution_count": 194,
   "metadata": {},
   "outputs": [
    {
     "data": {
      "text/html": [
       "<div>\n",
       "<style scoped>\n",
       "    .dataframe tbody tr th:only-of-type {\n",
       "        vertical-align: middle;\n",
       "    }\n",
       "\n",
       "    .dataframe tbody tr th {\n",
       "        vertical-align: top;\n",
       "    }\n",
       "\n",
       "    .dataframe thead th {\n",
       "        text-align: right;\n",
       "    }\n",
       "</style>\n",
       "<table border=\"1\" class=\"dataframe\">\n",
       "  <thead>\n",
       "    <tr style=\"text-align: right;\">\n",
       "      <th></th>\n",
       "      <th>index</th>\n",
       "      <th>id</th>\n",
       "      <th>date</th>\n",
       "      <th>content</th>\n",
       "      <th>title</th>\n",
       "      <th>name</th>\n",
       "      <th>modified</th>\n",
       "      <th>comment_count</th>\n",
       "      <th>n_characters</th>\n",
       "    </tr>\n",
       "  </thead>\n",
       "  <tbody>\n",
       "    <tr>\n",
       "      <th>251</th>\n",
       "      <td>369</td>\n",
       "      <td>8092</td>\n",
       "      <td>2014-03-17 09:00:21</td>\n",
       "      <td>Há muito tempo eu sonhava e planejava visitar ...</td>\n",
       "      <td>Circuito W - A Chegada ao Parque Torres del Paine</td>\n",
       "      <td>circuito-w-chegada-parque-torres-del-paine</td>\n",
       "      <td>2014-03-17 21:28:42</td>\n",
       "      <td>23</td>\n",
       "      <td>20206</td>\n",
       "    </tr>\n",
       "    <tr>\n",
       "      <th>256</th>\n",
       "      <td>374</td>\n",
       "      <td>8218</td>\n",
       "      <td>2014-03-24 09:00:37</td>\n",
       "      <td>&lt;span style=\"line-height: 1.5em;\"&gt;O segundo di...</td>\n",
       "      <td>Circuito W - Las Torres del Paine</td>\n",
       "      <td>circuito-w-las-torres-del-paine</td>\n",
       "      <td>2014-09-03 07:58:53</td>\n",
       "      <td>25</td>\n",
       "      <td>31569</td>\n",
       "    </tr>\n",
       "    <tr>\n",
       "      <th>290</th>\n",
       "      <td>421</td>\n",
       "      <td>9829</td>\n",
       "      <td>2014-09-03 09:00:11</td>\n",
       "      <td>Depois de fazermos o &lt;a href=\"http://www.nerds...</td>\n",
       "      <td>El Chaltén - Trilha para Laguna Torre</td>\n",
       "      <td>el-chalten-trilha-para-laguna-torre</td>\n",
       "      <td>2014-10-21 22:23:34</td>\n",
       "      <td>21</td>\n",
       "      <td>23382</td>\n",
       "    </tr>\n",
       "    <tr>\n",
       "      <th>365</th>\n",
       "      <td>893</td>\n",
       "      <td>14612</td>\n",
       "      <td>2017-06-19 18:39:35</td>\n",
       "      <td>Uma das trilhas que fizemos em &lt;a href=\"http:/...</td>\n",
       "      <td>Vídeo - Episódio Laguna Torre</td>\n",
       "      <td>video-episodio-laguna-torre</td>\n",
       "      <td>2017-06-19 18:39:35</td>\n",
       "      <td>2</td>\n",
       "      <td>3803</td>\n",
       "    </tr>\n",
       "  </tbody>\n",
       "</table>\n",
       "</div>"
      ],
      "text/plain": [
       "     index     id                date  \\\n",
       "251    369   8092 2014-03-17 09:00:21   \n",
       "256    374   8218 2014-03-24 09:00:37   \n",
       "290    421   9829 2014-09-03 09:00:11   \n",
       "365    893  14612 2017-06-19 18:39:35   \n",
       "\n",
       "                                               content  \\\n",
       "251  Há muito tempo eu sonhava e planejava visitar ...   \n",
       "256  <span style=\"line-height: 1.5em;\">O segundo di...   \n",
       "290  Depois de fazermos o <a href=\"http://www.nerds...   \n",
       "365  Uma das trilhas que fizemos em <a href=\"http:/...   \n",
       "\n",
       "                                                 title  \\\n",
       "251  Circuito W - A Chegada ao Parque Torres del Paine   \n",
       "256                  Circuito W - Las Torres del Paine   \n",
       "290              El Chaltén - Trilha para Laguna Torre   \n",
       "365                      Vídeo - Episódio Laguna Torre   \n",
       "\n",
       "                                           name            modified  \\\n",
       "251  circuito-w-chegada-parque-torres-del-paine 2014-03-17 21:28:42   \n",
       "256             circuito-w-las-torres-del-paine 2014-09-03 07:58:53   \n",
       "290         el-chalten-trilha-para-laguna-torre 2014-10-21 22:23:34   \n",
       "365                 video-episodio-laguna-torre 2017-06-19 18:39:35   \n",
       "\n",
       "     comment_count  n_characters  \n",
       "251             23         20206  \n",
       "256             25         31569  \n",
       "290             21         23382  \n",
       "365              2          3803  "
      ]
     },
     "execution_count": 194,
     "metadata": {},
     "output_type": "execute_result"
    }
   ],
   "source": [
    "posts.reset_index(inplace=True)\n",
    "posts[posts['name'].str.contains('torre')]"
   ]
  },
  {
   "cell_type": "code",
   "execution_count": 202,
   "metadata": {},
   "outputs": [
    {
     "data": {
      "text/plain": [
       "name       puerto-natales-pizzaria-mesita-grande\n",
       "title    Puerto Natales - Pizzaria Mesita Grande\n",
       "Name: 257, dtype: object"
      ]
     },
     "execution_count": 202,
     "metadata": {},
     "output_type": "execute_result"
    }
   ],
   "source": [
    "indice_post_nv = 257\n",
    "posts.iloc[indice_post_nv][['name', 'title']]"
   ]
  },
  {
   "cell_type": "code",
   "execution_count": 203,
   "metadata": {},
   "outputs": [
    {
     "name": "stdout",
     "output_type": "stream",
     "text": [
      "Wikipedia mais parecido:                                                   title         country\n",
      "541                              Junção tripla do Chile           Chile\n",
      "830                                               Azapa           Chile\n",
      "333                                            Anillaco       Argentina\n",
      "231                               Frente País Solidário       Argentina\n",
      "1360                                         Lowcountry  Estados Unidos\n",
      "1390  Lista dos navios dos Estados Unidos afundados ...  Estados Unidos\n",
      "793                               Tamarugal (província)           Chile\n",
      "553                                     Alto del Carmen           Chile\n",
      "544                                      Quinta Vergara           Chile\n",
      "765                               Norte Grande do Chile           Chile\n"
     ]
    }
   ],
   "source": [
    "paginas_wikipedia_mais_parecidas = wikipedia_mais_parecidos[indice_post_nv]\n",
    "print(f'Wikipedia mais parecido: {pages_df.iloc[paginas_wikipedia_mais_parecidas, [1, 2]]}')"
   ]
  },
  {
   "cell_type": "markdown",
   "metadata": {},
   "source": [
    "### Análise de tópicos"
   ]
  },
  {
   "cell_type": "code",
   "execution_count": 215,
   "metadata": {},
   "outputs": [],
   "source": [
    "documento = documentos.values[indice_post_nv]\n",
    "bow = [lda_nerds_viajantes.dicionario.doc2bow(documento)]"
   ]
  },
  {
   "cell_type": "code",
   "execution_count": 218,
   "metadata": {},
   "outputs": [],
   "source": [
    "topics = lda_nerds_viajantes.modelo_lda.get_document_topics(bow)"
   ]
  },
  {
   "cell_type": "code",
   "execution_count": 219,
   "metadata": {},
   "outputs": [
    {
     "name": "stdout",
     "output_type": "stream",
     "text": [
      "[(20, 0.99302703)]\n"
     ]
    }
   ],
   "source": [
    "\"\"\"\n",
    "Resultado: Ha praticamente 100% de chance de o documento ser definido pelo topico 20\n",
    "\"\"\"\n",
    "for topic in topics:\n",
    "    print(topic)"
   ]
  },
  {
   "cell_type": "code",
   "execution_count": 224,
   "metadata": {},
   "outputs": [
    {
     "data": {
      "text/plain": [
       "'0.014*\"restaurant\" + 0.010*\"local\" + 0.008*\"visit\" + 0.008*\"conhec\" + 0.007*\"com\" + 0.007*\"maranh\" + 0.007*\"praç\" + 0.007*\"fot\" + 0.007*\"algum\" + 0.006*\"cidad\"'"
      ]
     },
     "execution_count": 224,
     "metadata": {},
     "output_type": "execute_result"
    }
   ],
   "source": [
    "lda_nerds_viajantes.modelo_lda.print_topic(20)"
   ]
  }
 ],
 "metadata": {
  "interpreter": {
   "hash": "e40f5302c6d4b9de2141353283620edefcabae1dbe23ed7117377b1c1ce32e40"
  },
  "kernelspec": {
   "display_name": "Python 3.8.10 64-bit ('tcc-venv': venv)",
   "name": "python3"
  },
  "language_info": {
   "codemirror_mode": {
    "name": "ipython",
    "version": 3
   },
   "file_extension": ".py",
   "mimetype": "text/x-python",
   "name": "python",
   "nbconvert_exporter": "python",
   "pygments_lexer": "ipython3",
   "version": "3.8.10"
  },
  "orig_nbformat": 2
 },
 "nbformat": 4,
 "nbformat_minor": 2
}