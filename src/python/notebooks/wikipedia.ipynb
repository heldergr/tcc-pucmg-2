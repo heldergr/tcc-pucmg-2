{
 "cells": [
  {
   "cell_type": "markdown",
   "metadata": {},
   "source": [
    "# Exploração - Wikipedia"
   ]
  },
  {
   "cell_type": "code",
   "execution_count": 3,
   "metadata": {},
   "outputs": [],
   "source": [
    "from repository.mongo_utils import get_pages_content_collection\n",
    "from repository.wikipedia import WikipediaRepo\n",
    "\n",
    "wikipedia_repo = WikipediaRepo(collection=get_pages_content_collection())"
   ]
  },
  {
   "cell_type": "code",
   "execution_count": 18,
   "metadata": {},
   "outputs": [],
   "source": [
    "import pandas as pd\n",
    "import numpy as np\n",
    "import seaborn as sns"
   ]
  },
  {
   "cell_type": "markdown",
   "metadata": {},
   "source": [
    "### Obter todas as páginsa"
   ]
  },
  {
   "cell_type": "code",
   "execution_count": 4,
   "metadata": {},
   "outputs": [],
   "source": [
    "pages = wikipedia_repo.find_all()"
   ]
  },
  {
   "cell_type": "code",
   "execution_count": 9,
   "metadata": {},
   "outputs": [
    {
     "data": {
      "text/html": [
       "<div>\n",
       "<style scoped>\n",
       "    .dataframe tbody tr th:only-of-type {\n",
       "        vertical-align: middle;\n",
       "    }\n",
       "\n",
       "    .dataframe tbody tr th {\n",
       "        vertical-align: top;\n",
       "    }\n",
       "\n",
       "    .dataframe thead th {\n",
       "        text-align: right;\n",
       "    }\n",
       "</style>\n",
       "<table border=\"1\" class=\"dataframe\">\n",
       "  <thead>\n",
       "    <tr style=\"text-align: right;\">\n",
       "      <th></th>\n",
       "      <th>pageid</th>\n",
       "      <th>title</th>\n",
       "      <th>country</th>\n",
       "      <th>text</th>\n",
       "    </tr>\n",
       "  </thead>\n",
       "  <tbody>\n",
       "    <tr>\n",
       "      <th>0</th>\n",
       "      <td>22911</td>\n",
       "      <td>Geografia da Argentina</td>\n",
       "      <td>Argentina</td>\n",
       "      <td>&lt;div class=\"mw-parser-output\"&gt;&lt;style data-mw-d...</td>\n",
       "    </tr>\n",
       "    <tr>\n",
       "      <th>1</th>\n",
       "      <td>1996157</td>\n",
       "      <td>Banco Namuncurá</td>\n",
       "      <td>Argentina</td>\n",
       "      <td>&lt;div class=\"mw-parser-output\"&gt;&lt;style data-mw-d...</td>\n",
       "    </tr>\n",
       "    <tr>\n",
       "      <th>2</th>\n",
       "      <td>1393635</td>\n",
       "      <td>Campo de gelo do sul da Patagónia</td>\n",
       "      <td>Argentina</td>\n",
       "      <td>&lt;div class=\"mw-parser-output\"&gt;&lt;style data-mw-d...</td>\n",
       "    </tr>\n",
       "    <tr>\n",
       "      <th>3</th>\n",
       "      <td>3425259</td>\n",
       "      <td>Cerro de la Gloria</td>\n",
       "      <td>Argentina</td>\n",
       "      <td>&lt;div class=\"mw-parser-output\"&gt;&lt;style data-mw-d...</td>\n",
       "    </tr>\n",
       "    <tr>\n",
       "      <th>4</th>\n",
       "      <td>1753443</td>\n",
       "      <td>Chaco Austral</td>\n",
       "      <td>Argentina</td>\n",
       "      <td>&lt;div class=\"mw-parser-output\"&gt;&lt;div style=\"righ...</td>\n",
       "    </tr>\n",
       "    <tr>\n",
       "      <th>...</th>\n",
       "      <td>...</td>\n",
       "      <td>...</td>\n",
       "      <td>...</td>\n",
       "      <td>...</td>\n",
       "    </tr>\n",
       "    <tr>\n",
       "      <th>2247</th>\n",
       "      <td>2195062</td>\n",
       "      <td>Batalhão Mariposa</td>\n",
       "      <td>Estados Unidos</td>\n",
       "      <td>&lt;div class=\"mw-parser-output\"&gt;&lt;p&gt;O &lt;b&gt;Batalhão...</td>\n",
       "    </tr>\n",
       "    <tr>\n",
       "      <th>2248</th>\n",
       "      <td>5583852</td>\n",
       "      <td>Gold Country</td>\n",
       "      <td>Estados Unidos</td>\n",
       "      <td>&lt;div class=\"mw-parser-output\"&gt;&lt;style data-mw-d...</td>\n",
       "    </tr>\n",
       "    <tr>\n",
       "      <th>2249</th>\n",
       "      <td>3495353</td>\n",
       "      <td>Guerras da Água na Califórnia</td>\n",
       "      <td>Estados Unidos</td>\n",
       "      <td>&lt;div class=\"mw-parser-output\"&gt;&lt;div class=\"thum...</td>\n",
       "    </tr>\n",
       "    <tr>\n",
       "      <th>2250</th>\n",
       "      <td>1165920</td>\n",
       "      <td>Rio American</td>\n",
       "      <td>Estados Unidos</td>\n",
       "      <td>&lt;div class=\"mw-parser-output\"&gt;&lt;style data-mw-d...</td>\n",
       "    </tr>\n",
       "    <tr>\n",
       "      <th>2251</th>\n",
       "      <td>5573745</td>\n",
       "      <td>Rubicon Trail</td>\n",
       "      <td>Estados Unidos</td>\n",
       "      <td>&lt;div class=\"mw-parser-output\"&gt;&lt;p&gt;&lt;b&gt;Rubicon Tr...</td>\n",
       "    </tr>\n",
       "  </tbody>\n",
       "</table>\n",
       "<p>2252 rows × 4 columns</p>\n",
       "</div>"
      ],
      "text/plain": [
       "       pageid  ...                                               text\n",
       "0       22911  ...  <div class=\"mw-parser-output\"><style data-mw-d...\n",
       "1     1996157  ...  <div class=\"mw-parser-output\"><style data-mw-d...\n",
       "2     1393635  ...  <div class=\"mw-parser-output\"><style data-mw-d...\n",
       "3     3425259  ...  <div class=\"mw-parser-output\"><style data-mw-d...\n",
       "4     1753443  ...  <div class=\"mw-parser-output\"><div style=\"righ...\n",
       "...       ...  ...                                                ...\n",
       "2247  2195062  ...  <div class=\"mw-parser-output\"><p>O <b>Batalhão...\n",
       "2248  5583852  ...  <div class=\"mw-parser-output\"><style data-mw-d...\n",
       "2249  3495353  ...  <div class=\"mw-parser-output\"><div class=\"thum...\n",
       "2250  1165920  ...  <div class=\"mw-parser-output\"><style data-mw-d...\n",
       "2251  5573745  ...  <div class=\"mw-parser-output\"><p><b>Rubicon Tr...\n",
       "\n",
       "[2252 rows x 4 columns]"
      ]
     },
     "execution_count": 9,
     "metadata": {},
     "output_type": "execute_result"
    }
   ],
   "source": [
    "pages_df = pd.DataFrame(pages)\n",
    "pages_df = pages_df.drop(['_id', 'ns', 'type', 'download', 'categories', 'wikitext'], axis='columns')\n",
    "pages_df.head()"
   ]
  },
  {
   "cell_type": "markdown",
   "metadata": {},
   "source": [
    "### Contagem de posts"
   ]
  },
  {
   "cell_type": "code",
   "execution_count": 10,
   "metadata": {},
   "outputs": [
    {
     "name": "stdout",
     "output_type": "stream",
     "text": [
      "Foram encontradas 2252 páginas com contéudo\n"
     ]
    }
   ],
   "source": [
    "print(f'Foram encontradas {len(pages_df)} páginas com contéudo')"
   ]
  },
  {
   "cell_type": "markdown",
   "metadata": {},
   "source": [
    "## Exploração antes da limpeza"
   ]
  },
  {
   "cell_type": "markdown",
   "metadata": {},
   "source": [
    "### Tamanho médio dos documentos"
   ]
  },
  {
   "cell_type": "code",
   "execution_count": 14,
   "metadata": {},
   "outputs": [],
   "source": [
    "def describe_lengths(lenghts):\n",
    "    print(\"Measures of Central Tendency\")\n",
    "    print(\"Mean =\", np.mean(lenghts))\n",
    "    print(\"Median =\", np.median(lenghts))\n",
    "    print(\"Measures of Dispersion\")\n",
    "    print(\"Minimum =\", np.amin(lenghts))\n",
    "    print(\"Maximum =\", np.amax(lenghts))\n",
    "    print(\"Range =\", np.ptp(lenghts))\n",
    "    print(\"Varience =\", np.var(lenghts))\n",
    "    print(\"Standard Deviation =\", np.std(lenghts))"
   ]
  },
  {
   "cell_type": "code",
   "execution_count": 19,
   "metadata": {},
   "outputs": [],
   "source": [
    "text_lengths = pages_df['text'].apply(len)\n",
    "pages_df['raw_length'] = text_lengths"
   ]
  },
  {
   "cell_type": "markdown",
   "metadata": {},
   "source": [
    "Algumas considerações\n",
    "\n",
    "- Tamanho mínimo de 799 incluindo tags html indica que pode haver documentos muito pequenos\n",
    "- Desvio padrão maior que a média indica que pode haver uma variação muito grande nos tamanhos dos documentos\n",
    "    * Verificar quantiles para ver a variação por quartis"
   ]
  },
  {
   "cell_type": "code",
   "execution_count": 15,
   "metadata": {},
   "outputs": [
    {
     "name": "stdout",
     "output_type": "stream",
     "text": [
      "Measures of Central Tendency\n",
      "Mean = 34514.03285968029\n",
      "Median = 30754.0\n",
      "Measures of Dispersion\n",
      "Minimum = 799\n",
      "Maximum = 753196\n",
      "Range = 752397\n",
      "Varience = 1405580144.044213\n",
      "Standard Deviation = 37491.067523401\n"
     ]
    }
   ],
   "source": [
    "describe_lengths(text_lengths)"
   ]
  },
  {
   "cell_type": "code",
   "execution_count": 17,
   "metadata": {},
   "outputs": [
    {
     "data": {
      "text/plain": [
       "array([   799.  ,  13731.25,  30754.  ,  41868.25,  60785.2 ,  82336.4 ,\n",
       "       753196.  ])"
      ]
     },
     "execution_count": 17,
     "metadata": {},
     "output_type": "execute_result"
    }
   ],
   "source": [
    "np.quantile(text_lengths, [0, 0.25, 0.5, 0.75, 0.9, 0.95, 1])"
   ]
  },
  {
   "cell_type": "markdown",
   "metadata": {},
   "source": [
    "#### Verificar distribuição de tamanhos de documentos"
   ]
  },
  {
   "cell_type": "code",
   "execution_count": 20,
   "metadata": {},
   "outputs": [
    {
     "data": {
      "text/plain": [
       "<seaborn.axisgrid.FacetGrid at 0x7fdde69095b0>"
      ]
     },
     "execution_count": 20,
     "metadata": {},
     "output_type": "execute_result"
    },
    {
     "data": {
      "image/png": "[encoded data removed]",
      "text/plain": [
       "<Figure size 360x360 with 1 Axes>"
      ]
     },
     "metadata": {
      "needs_background": "light"
     },
     "output_type": "display_data"
    }
   ],
   "source": [
    "sns.displot(pages_df, x='raw_length')"
   ]
  },
  {
   "cell_type": "code",
   "execution_count": 21,
   "metadata": {},
   "outputs": [
    {
     "data": {
      "text/plain": [
       "(69, 5)"
      ]
     },
     "execution_count": 21,
     "metadata": {},
     "output_type": "execute_result"
    }
   ],
   "source": [
    "# Analisar documentos acima de 100000 caracteres\n",
    "pages_df_acima_100k = pages_df[pages_df['raw_length'] >= 100000]\n",
    "pages_df_acima_100k.shape"
   ]
  },
  {
   "cell_type": "markdown",
   "metadata": {},
   "source": [
    "## Limpeza de dados"
   ]
  },
  {
   "cell_type": "code",
   "execution_count": 33,
   "metadata": {},
   "outputs": [],
   "source": [
    "from limpeza.limpeza_texto import remover_html_tags\n",
    "\n",
    "import re"
   ]
  },
  {
   "cell_type": "code",
   "execution_count": 31,
   "metadata": {},
   "outputs": [],
   "source": [
    "texts = pages_df['text'].values\n",
    "texto = texts[0] \n"
   ]
  },
  {
   "cell_type": "code",
   "execution_count": 95,
   "metadata": {},
   "outputs": [
    {
     "name": "stdout",
     "output_type": "stream",
     "text": [
      "Tamanho do texto : 29919/140685\n"
     ]
    }
   ],
   "source": [
    "t = remover_html_tags(texto)\n",
    "t = re.sub('body\\.skin\\-[a-z]+ ', '', t)\n",
    "t = re.sub('.mw\\-parser-[a-z]+ ', '', t)\n",
    "t = re.sub('t[hd]\\.mbox\\-[a-z]+[ ,]', '', t)\n",
    "t = re.sub('table\\.[acfiot]mbox,', '', t)\n",
    "t = re.sub('table\\.[acfiot]mbox\\-[a-z]+,', '', t)\n",
    "t = re.sub('\\.[ait]mbox[ ,]', '', t)\n",
    "t = re.sub('\\.mbox\\-[a-z]+[ ,]', '', t)\n",
    "t = re.sub('\\.tmbox\\.mbox\\-[a-z]+[ ,]', '', t)\n",
    "t = re.sub('\\.mediawiki ', '', t)\n",
    "t = re.sub('\\.compact-ambox[ ,]', '', t)\n",
    "\n",
    "print(f'Tamanho do texto : {len(t)}/{len(texto)}')\n"
   ]
  },
  {
   "cell_type": "code",
   "execution_count": 96,
   "metadata": {},
   "outputs": [
    {
     "data": {
      "text/plain": [
       "\"td.mbox-text{border:none;padding:0.25em 0.9em;width:100%}td.mbox-image{border:none;padding:2px 0 2px 0.9em;text-align:center}td.mbox-imageright{border:none;padding:2px 0.9em 2px 0;text-align:center}td.mbox-empty-cell,td.mbox-empty-cell,td.mbox-empty-cell,td.mbox-empty-cell,td.mbox-empty-cell{border:none;padding:0;width:1px}table.ambox{margin:0 10%;border:1px solid #C7C7C7;border-left:10px solid #93C9FF;background-color:#FAFAFA;box-sizing:border-box}table.ambox+table.ambox+table.ambox+table.ambox+table.ambox+table.ambox{margin-top:-1px}td.mbox-text{padding:0.25em 0.5em}td.mbox-image{padding:2px 0 2px 0.5em}td.mbox-imageright{padding:2px 0.5em 2px 0}table.ambox-notice{border-left:10px solid #93C9FF}table.ambox-speedy{border-left:10px solid #B60000;background-color:#FFEBEB}table.ambox-delete{border-left:10px solid #B60000}table.ambox-content{border-left:10px solid #FFB56B}table.ambox-style{border-left:10px solid #FFE411}table.ambox-move{border-left:10px solid #840084}table.ambox-protection{border-left:10px solid #C7C7C7}table.imbox{margin:4px 10%;border-collapse:collapse;border:3px solid #93C9FF;background-color:#FAFAFA;box-sizing:border-box}.imbox{margin:0 -0.5em;display:block}.imbox{margin:4px}table.imbox-notice{border:3px solid #93C9FF}table.imbox-speedy{border:3px solid #B60000;background-color:#FFEBEB}table.imbox-delete{border:3px solid #B60000}table.imbox-content{border:3px solid #FFB56B}table.imbox-style{border:3px solid #FFE411}table.imbox-move{border:3px solid #840084}table.imbox-protection{border:3px solid #C7C7C7}table.imbox-license{border:3px solid #C7C7C7;background-color:#FAFAFA}table.imbox-featured{border:3px solid #FFB56B}table.cmbox{margin:3px 10%;border-collapse:collapse;border:1px solid #C7C7C7;background-color:#C9E4FF;box-sizing:border-box}table.cmbox-notice{background-color:#C9E4FF}table.cmbox-speedy{margin-top:4px;margin-bottom:4px;border:4px solid #B60000;background-color:#FFEBEB}table.cmbox-delete{background-color:#FFEBEB}table.cmbox-content{background-color:#FFEDDA}table.cmbox-style{background-color:#FFFDE8}table.cmbox-move{background-color:#DFDFFF}table.cmbox-protection{background-color:#F2FFF2}table.ombox{margin:4px 10%;border-collapse:collapse;border:1px solid #C7C7C7;background-color:#F9F9FF;box-sizing:border-box}table.ombox-notice{border:1px solid #C7C7C7}table.ombox-speedy{border:2px solid #B60000;background-color:#FFEBEB}table.ombox-delete{border:2px solid #B60000}table.ombox-content{border:1px solid #FFB56B}table.ombox-style{border:1px solid #FFE411}table.ombox-move{border:1px solid #840084}table.ombox-protection{border:2px solid #C7C7C7}table.tmbox{margin:4px 10%;border-collapse:collapse;border:1px solid #655900;background-color:#FFEDDA;min-width:80%;box-sizing:border-box}.tmbox.tmbox.tmbox.tmbox.tmbox.mbox-small{min-width:0}.tmbox{margin:2px 0;width:100%}.tmbox.tmbox.tmbox.tmbox.tmbox.mbox-small{line-height:1.5em;font-size:100%}table.tmbox-speedy{border:2px solid #B60000;background-color:#FFEBEB}table.tmbox-delete{border:2px solid #B60000}table.tmbox-content{border:2px solid #FFB56B}table.tmbox-style{border:2px solid #FFE411}table.tmbox-move{border:2px solid #840084}table.tmbox-notice{border:1px solid #655900}table.dmbox,table.dmbox,table.dmbox,table.dmbox,table.dmbox{clear:both;margin:0.9em 1em;border-top:1px solid #C7C7C7;border-bottom:1px solid #C7C7C7;background-color:transparent}table.fmbox{clear:both;margin:0.2em 0;width:100%;border:1px solid #C7C7C7;background-color:#F9F9FF;box-sizing:border-box}table.fmbox-system{background-color:#F9F9FF}table.fmbox-warning{border:1px solid #8C4600;background-color:#FFEBEB}table.fmbox-editnotice{background-color:transparent}div.mw-warning-with-logexcerpt,div.mw-lag-warn-high,div.mw-cascadeprotectedwarning,div/**/#mw-protect-cascadeon,div.titleblacklist-warning,div.locked-warning,div.mw-warning-with-logexcerpt,div.mw-lag-warn-high,div.mw-cascadeprotectedwarning,div/**/#mw-protect-cascadeon,div.titleblacklist-warning,div.locked-warning,div.mw-warning-with-logexcerpt,div.mw-lag-warn-high,div.mw-cascadeprotectedwarning,div/**/#mw-protect-cascadeon,div.titleblacklist-warning,div.locked-warning,div.mw-warning-with-logexcerpt,div.mw-lag-warn-high,div.mw-cascadeprotectedwarning,div/**/#mw-protect-cascadeon,div.titleblacklist-warning,div.locked-warning,div.mw-warning-with-logexcerpt,div.mw-lag-warn-high,div.mw-cascadeprotectedwarning,div/**/#mw-protect-cascadeon,div.titleblacklist-warning,div.locked-warning{clear:both;margin:0.2em 0;border:1px solid #8C4600;background-color:#FFEBEB;padding:0.25em 0.9em;box-sizing:border-box}.mbox-small{clear:right;float:right;margin:4px 0 4px 1em;box-sizing:border-box;width:238px;font-size:88%;line-height:1.25em}.mbox-small-left,.mbox-small-left,.mbox-small-left,.mbox-small-left,.mbox-small-left{margin:4px 1em 4px 0;box-sizing:border-box;overflow:hidden;width:238px;border-collapse:collapse;font-size:88%;line-height:1.25em}table table table .mbox-empty-cell,table table table .mbox-empty-cell,table table table .mbox-empty-cell,table table table .mbox-empty-cell,table table table .mbox-empty-cell{display:none}table.ambox{border:none;border-collapse:collapse;background-color:transparent;margin:0 0 0 1.6em!important;padding:0!important;width:auto;display:block}table.mbox-small-left,table.mbox-small-left,table.mbox-small-left,table.mbox-small-left,table.mbox-small-left{font-size:100%;width:auto;margin:0}table table table table table .mbox-text{padding:0!important;margin:0!important}table .mbox-text-span,table .mbox-text-span,table .mbox-text-span,table .mbox-text-span,table .mbox-text-span{display:list-item;line-height:1.5em;list-style-type:square}.hide-when-compact,.hide-when-compact,.hide-when-compact,.hide-when-compact,.hide-when-compact{display:none}table .mbox-text-span{list-style-type:disc}.hide-when-compact{display:none}Este artigo ou secção contém uma lista de referências no fim do texto, mas as suas fontes não são claras porque não são  citadas no corpo do artigo, o que compromete a confiabilidade das informações. Ajude a melhorar este artigo inserindo citações no corpo do artigo.\\n\\n\\n\\nGeografia da Argentina\\n\\n\\n\\n\\n\\n\\n\\n\\n\\n\\nLocalização\\n\\n\\nContinente\\n\\nAmérica do Sul\\n\\n \\n\\n \\n\\nRegião\\n\\nAmérica Platina\\n\\n \\n\\n \\n\\nCoordenadas\\n\\n34° S 64° O\\n\\n \\n\\n \\n\\n \\n\\n \\n\\n \\n\\n \\n\\n \\n\\n \\n\\n \\n\\n \\n\\n \\n\\n \\n\\n \\n\\n\\n\\nÁrea\\n\\n\\nPosição\\n\\n8.º maior\\n\\n \\n\\n \\n\\nTotal\\n\\n2780407 km²\\n\\n \\n\\n \\n\\n \\n\\n \\n\\nTerra\\n\\n2736690 km²\\n\\n \\n\\n \\n\\nÁgua\\n\\n30200 km²\\n\\n \\n\\n \\n\\n \\n\\n \\n\\n \\n\\n \\n\\n \\n\\n \\n\\n \\n\\n \\n\\n \\n\\n\\n\\nFronteiras\\n\\n\\nTotal\\n\\n9861 km\\n\\n \\n\\n \\n\\nPaíses vizinhos\\n\\nBolívia: 832 kmBrasil: 1261 kmChile: 5308 kmParaguai: 1880 kmUruguai: 580 km\\n\\n \\n\\n \\n\\n \\n\\n \\n\\n \\n\\n \\n\\n \\n\\n \\n\\nLinha costeira\\n\\n4989 km\\n\\n \\n\\n \\n\\n \\n\\n \\n\\n \\n\\n \\n\\n \\n\\n \\n\\n \\n\\n\\n\\nReivindicações marítimas\\n\\n\\nMar territorial\\n\\n14 milhas\\n\\n \\n\\n \\n\\nZona contígua\\n\\n24 milhas\\n\\n \\n\\n \\n\\n \\n\\n \\n\\nZona econômica exclusiva\\n\\n200 milhas\\n\\n \\n\\n \\n\\nPlataforma continental\\n\\n200 milhas\\n\\n \\n\\n \\n\\n \\n\\n \\n\\n \\n\\n \\n\\n \\n\\n \\n\\n \\n\\n \\n\\n \\n\\n\\n\\nAltitudes extremas\\n\\n\\nPonto mais alto\\n\\nCerro Aconcagua 6960 m (localizado no extremo noroeste da província de Mendoza)\\n\\n \\n\\n \\n\\nPonto mais baixo\\n\\nLaguna del Carbon -105 m (localizado entre Puerto San Julian e Comandante Luis Piedra Buena na província de Santa Cruz)\\n\\n \\n\\n\\n&#160;\\n\\n\\n \\n\\n \\n\\nRelevo\\n\\nplanícies dos Pampas (centro-oeste), da Mesopotâmia (nordeste) e do Chaco (norte), separadas por um planalto; cordilheira dos Andes (oeste); mesetas escalonadas com depressões (sudeste).\\n\\n \\n\\n \\n\\nClima\\n\\nde montanha (noroeste, sudoeste e oeste), árido tropical (nordeste), árido frio (sudeste), temperado continental (sul), tropical (norte), subpolar (extremo sul).\\n\\n \\n\\n \\n\\nRecursos naturais\\n\\nplanícies férteis dos pampas, chumbo, zinco, estanho, cobre, minério de ferro, manganês, petróleo, urânio\\n\\n \\n\\n \\n\\n \\n\\n \\n\\n \\n\\n \\n\\n \\n\\n \\n\\n \\n\\n\\n\\nUso do solo\\n\\n\\nTerra arável\\n\\n10,03% (2005)\\n\\n \\n\\n \\n\\nCultivos permanentes\\n\\n0,36% (2005)\\n\\n \\n\\n \\n\\nTerra irrigada\\n\\n15500 km²\\n\\n \\n\\n \\n\\nOutros\\n\\n89,61% (2005)\\n\\n \\n\\n \\n\\n \\n\\n \\n\\n \\n\\n \\n\\n \\n\\n \\n\\n \\n\\n \\n\\n \\n\\n \\n\\n \\n\\n\\n\\n&#160;\\n\\n\\n \\n\\n \\n\\nPerigos naturais\\n\\náreas de San Miguel de Tucumán e Mendoza, nos Andes, sujeitas a sismos; pamperos são tempestades com ventos violentos que podem atingir as Pampas e o nordeste; grandes inundações\\n\\n \\n\\n \\n\\nProblemas ecológicos\\n\\nproblemas ambientais (urbanos e rurais) típicos de uma economia em industrialização, como a degradação dos solos, a desertificação, a poluição do ar e da água\\n\\n \\n\\n \\n\\n \\n\\n \\n\\n \\n\\n \\n\\n \\n\\n \\n\\n \\n\\n \\n\\n \\n\\n \\n\\n \\n\\n \\n\\n \\n\\n\\n \\n\\n \\n\\n \\n\\n \\n\\n \\n\\n \\n\\n \\n\\n \\n\\n \\n\\n \\n\\n \\n\\n \\n\\n \\n\\n \\n\\n \\n\\n \\n\\n \\n\\n \\n\\n \\n\\n \\n\\n\\n \\n\\n \\n\\n \\n\\n \\n\\n \\n\\n \\n\\n \\n\\n \\n\\n \\n\\n \\n\\n \\n\\n \\n\\n \\n\\n \\n\\n \\n\\n \\n\\n \\n\\n \\n\\n \\n\\n \\n\\n\\n \\n\\n \\n\\n \\n\\n \\n\\n \\n\\n \\n\\n \\n\\n \\n\\n \\n\\n \\n\\n \\n\\n \\n\\n \\n\\n \\n\\n \\n\\n \\n\\n \\n\\n \\n\\n \\n\\n \\n\\n\\n \\n\\n \\n\\n \\n\\n \\n\\n \\n\\n \\n\\n \\n\\n \\n\\n \\n\\n \\n\\n \\n\\n \\n\\n \\n\\n \\n\\n \\n\\n \\n\\n \\n\\n \\n\\n \\n\\n \\n\\n\\n \\n\\n \\n\\n \\n\\n \\n\\n \\n\\n \\n\\n \\n\\n \\n\\n \\n\\n \\n\\n \\n\\n \\n\\n \\n\\n \\n\\n \\n\\n \\n\\n \\n\\n \\n\\n \\n\\n \\n\\n\\n \\n\\n \\n\\n \\n\\n \\n\\n \\n\\n \\n\\n \\n\\n \\n\\n \\n\\n \\n\\n \\n\\n \\n\\n \\n\\n \\n\\n \\n\\n \\n\\n \\n\\n \\n\\n \\n\\n \\n\\n\\n \\n\\n \\n\\n \\n\\n \\n\\n \\n\\n \\n\\n \\n\\n \\n\\n \\n\\n \\n\\n \\n\\n \\n\\n \\n\\n \\n\\n \\n\\n \\n\\n \\n\\n \\n\\n \\n\\n \\n\\n\\n \\n\\n \\n\\n \\n\\n \\n\\n \\n\\n \\n\\n \\n\\n \\n\\n \\n\\n \\n\\n \\n\\n \\n\\n \\n\\n \\n\\n \\n\\n \\n\\n \\n\\n \\n\\n \\n\\n \\n\\n\\n \\n\\n \\n\\n \\n\\n \\n\\n \\n\\n \\n\\n \\n\\n \\n\\n \\n\\n \\n\\n \\n\\n \\n\\n \\n\\n \\n\\n \\n\\n \\n\\n \\n\\n \\n\\n \\n\\n \\n\\n\\n \\n\\n \\n\\n \\n\\n \\n\\n \\n\\n \\n\\n \\n\\n \\n\\n \\n\\n \\n\\n \\n\\n \\n\\n \\n\\n \\n\\n \\n\\n \\n\\n \\n\\n \\n\\n \\n\\n \\n\\n\\n \\n\\n \\n\\n \\n\\n \\n\\n \\n\\n \\n\\n \\n\\n \\n\\n \\n\\n \\n\\n \\n\\n \\n\\n \\n\\n \\n\\n \\n\\n \\n\\n \\n\\n \\n\\n \\n\\n \\n\\n\\n \\n\\n \\n\\n \\n\\n \\n\\n \\n\\n \\n\\n \\n\\n \\n\\n \\n\\n \\n\\n \\n\\n \\n\\n \\n\\n \\n\\n \\n\\n \\n\\n \\n\\n \\n\\n \\n\\n \\n\\n\\n \\n\\n \\n\\n \\n\\n \\n\\n \\n\\n \\n\\n \\n\\n \\n\\n \\n\\n \\n\\n \\n\\n \\n\\n \\n\\n \\n\\n \\n\\n \\n\\n \\n\\n \\n\\n \\n\\n \\n\\n\\n \\n\\n \\n\\n \\n\\n \\n\\n \\n\\n \\n\\n \\n\\n \\n\\n \\n\\n \\n\\n \\n\\n \\n\\n \\n\\n \\n\\n \\n\\n \\n\\n \\n\\n \\n\\n \\n\\n \\n\\n\\n \\n\\n \\n\\n \\n\\n \\n\\n \\n\\n \\n\\n \\n\\n \\n\\n \\n\\n \\n\\n \\n\\n \\n\\n \\n\\n \\n\\n \\n\\n \\n\\n \\n\\n \\n\\n \\n\\n \\n\\n\\n \\n\\n \\n\\n \\n\\n \\n\\n \\n\\n \\n\\n \\n\\n \\n\\n \\n\\n \\n\\n \\n\\n \\n\\n \\n\\n \\n\\n \\n\\n \\n\\n \\n\\n \\n\\n \\n\\n \\n\\n\\n\\n\\n\\nA Geografia da Argentina é um domínio de estudos e conhecimentos sobre todas as características geográficas do território argentino.\\nA Argentina pode ser dividida esquematicamente em quatro partes: as planícies férteis das Pampas na metade norte do país, que são o centro da riqueza agrícola da Argentina, o planalto da Patagónia na metade sul até à Terra do Fogo, por vezes plano, por vezes ondulado, a escarpada cordilheira dos Andes ao longo da fronteira ocidental com o Chile, cujo ponto mais elevado é o monte Aconcágua, com 6960 m de altitude e a planície do Chaco compartilhada com a Bolívia, o Paraguai e o Brasil.\\nOs rios principais são o Paraguai, o Bermejo, o Colorado, o Uruguai e o maior de todos: o Paraná. Os dois últimos juntam-se antes de desaguar no oceano Atlântico, formando o estuário do Rio da Prata. O clima argentino é em geral temperado, com os extremos a ir do subtropical a norte ao árido/sub-antártico no extremo sul.\\n\\nÍndice\\n\\n1 Geologia e relevo\\n2 Clima\\n3 Hidrografia\\n4 Vegetação\\n5 Fauna\\n6 Localização\\n7 Fronteiras\\n8 Hidrografia\\n9 Topografia\\n10 Meio ambiente\\n11 Outros dados\\n12 Regiões geográficas\\n13 Bibliografia\\n14 Ligações externas\\n\\n\\n\\nGeologia e relevo[editar | editar código-fonte]\\n  Mapa físico da Argentina.\\nO território argentino estende-se longitudinalmente entre a cordilheira dos Andes e o oceano Atlântico. Caracteriza-se pela variedade de paisagens físicas resultantes da transição entre as zonas planas do oeste e as planícies do leste.\\nA cordilheira dos Andes provém de movimentos orogênicos (fenômenos que determinam a formação de montanhas) do plioceno, no período quaternário. Avança pela Argentina com montanhas elevadas, que sustentam um vasto planalto semidesértico e cheio de depressões salinas, denominado Puna de Atacama, a três mil metros acima do nível do mar. Situam-se nessa região setentrional importantes maciços vulcânicos, entre os quais se destaca o Lulullaillaco, com 6.723m, um dos cumes mais altos do continente. Na direção leste, encontra-se a cordilheira Oriental, conjunto de serras elevadas, com neve eterna em seus picos mais altos, e em seguida situam-se as serras subandinas, que confinam com a província do Chaco.\\nEntre os Andes centrais, a oeste, e as serras de Córdoba e San Luis, a leste, abre-se um extenso vale, separado do território chileno pela cordilheira Principal, onde se encontram as maiores elevações, inclusive o ponto culminante de toda a América, o Aconcágua (6960 m), bem como os picos Mercedario (6770 m) e Tupungato (6550 m). Do paralelo 36 Sul em diante, na direção do sul, os Andes se estreitam e perdem altura. Seu prolongamento na Patagônia apresenta raras elevações acima de 3500m, como a do monte Mellizo, junto à Laguna Grande.\\nA leste dos Andes e ao norte da Patagônia, estende-se uma vasta planície de características variadas. Ao longo das bacias do Paraná e Paraguai, localiza-se o Chaco, região subtropical e arenosa, ligeiramente inclinada para sudeste. Em alguns pontos do nordeste (Misiones), afloram rochas arenitícas e basálticas pertencentes ao escudo pré-cambriano brasileiro. O resto da região se acha coberto por sedimentos de diversas épocas, como o loess (depósitos quaternários de origem glacial), rico em calcário. A leste do Chaco, entre os rios Paraná e Uruguai, localiza-se a planície da Mesopotâmia argentina, que não apresenta unidade morfológica nem geológica. O principal elemento de seu relevo é a meseta Misionera, na província de Misiones e nordeste de Corrientes.\\nEntre o sopé dos Andes e o oceano Atlântico, ao sul do rio Salado e ao norte do Colorado, situa-se o Pampa, em todos os aspectos a paisagem mais representativa da Argentina. A vasta planície pampeana caracteriza-se pela horizontalidade. Compreende em sua composição sedimentar diversas eras geológicas. Seus solos são muito ricos (loess e limos muito espessos). Embora bastante homogêneo em sua topografia, o Pampa apresenta áreas mais onduladas, ganha altura nas serras do Tandill e Ventana e, no vale do rio Salado, mergulha em depressão tectônica. Abaixo do rio Negro e do golfo de San Matías, entrando na Patagônia, já não se pode falar de planície, mas de mesetas em que se sobrepõem sedimentos secundários e terciários que foram igualados no fim da era glacial.\\n\\nClima[editar | editar código-fonte]\\nGrande parte do território argentino está situado na zona temperada do hemisfério sul. Verificam-se no país climas tropicais e subtropicais, áridos e frios, com combinações e contrastes diversos, resultantes das variações de altitude e outros fatores. Em quase todas as regiões da Argentina registram-se nevadas ocasionais, exceto no extremo norte, onde predomina um clima tropical. Nessa mesma área, os dias são quentes de outubro a março e frios e secos de abril a setembro.\\nMais amenos são os índices predominantes no Pampa, úmido e fresco em sua parte oriental, nas províncias de Buenos Aires e La Pampa. Os verões, embora intensos, em Mar del Plata não ultrapassam uma média superior a 21&#160;°C. Mais seco para o lado do oeste e Mendoza, o clima do Pampa, nessa faixa, tem suas chuvas de verão rapidamente evaporadas.\\nNas proximidades da cordilheira dos Andes, de noroeste até a serra do Payén, na província de Mendoza, verifica-se freqüente alternância de climas desértico e semi-árido, este com maior expressão nos pontos mais altos da própria cordilheira. De quatro mil metros para cima, as precipitações são escassas e as temperaturas muito baixas, entre neves eternas. Na parte meridional dos Andes as chuvas são bastante favorecidas pelos ventos úmidos do Pacífico, que vencem a barreira descomunal e chegam às províncias do sul. As condições de umidade e temperatura levam à formação de geleiras.\\nDe um modo geral a Patagônia é de clima seco e frio, com fortes e constantes ventos soprados do oeste. Mais ao sul, na Terra do Fogo, os ventos são ainda mais fortes, a chuva e a neve, quase permanentes, e a temperatura cai a níveis muito baixos.\\n\\nHidrografia[editar | editar código-fonte]\\nContam-se três redes hidrográficas em território argentino: a da vertente atlântica, que é a mais importante, a do Pacífico, na parte sul da cordilheira dos Andes, e as bacias endorréicas — ou internas — que ocupam um terço da superfície total do país.\\nDo lado do Atlântico, destaca-se o rio da Prata, nome que se dá ao estuário que é fruto do encontro dos rios Paraná e Uruguai com o oceano Atlântico. Tem mais de 300&#160;km de comprimento, largura que chega a 200&#160;km e descarga média de 23300 m3 por segundo, perdendo na América do Sul somente para a do Amazonas.\\nO rio Paraná é um dos 15 mais extensos do mundo e tem 1800&#160;km em terras argentinas, sendo mais de 400 navegáveis (até Santa Fé). Seus afluentes mais importantes são, na margem direita, o Paraguai, o Salado e o Carcarañá, e na margem esquerda o Iguaçu, com o qual, na confluência que é ao mesmo tempo argentina, brasileira e paraguaia, forma as famosas cataratas, num arco de quatro mil metros.\\nO rio Paraguai só tem um pequeno trecho argentino, de margem direita, na fronteira das províncias de Chaco e Formosa com o Paraguai, mas juntamente com seus afluentes Pilcomayo e Bermejo inunda as planícies da região na época das chuvas, criando lagunas e banhados. Já o rio Uruguai marca as fronteiras de Misiones, Corrientes e Entre Rios com o Brasil (Rio Grande do Sul) e o Uruguai. Na maior parte desse percurso é navegável.\\nMuitos dos rios da vertente atlântica que correm na Patagônia, ou se dirigem para essa região, têm poucos afluentes, com o traço peculiar de irem perdendo parte de suas águas à medida que avançam. Os principais são o Colorado, o Negro (formado pelo Neuquén e Limay), o Chubut, o Deseado e o Chico, este nas imediações da Terra do Fogo.\\nNo interior mais árido e plano são muitas as pequenas bacias hidrográficas que não chegam ao mar. No planalto de Atacama, de chuvas escassas e águas que provêm do degelo de altos picos da cordilheira, diversos rios têm curso intermitente ou desaparecem, quer nas lagoas, quer no meio de um dos numerosos salares, depósitos salinos comuns no oeste e, sobretudo noroeste do país. Das planícies do Chaco, só conseguem sair o Pilcomayo, o Teuco e o Bermejo, que terminam no rio Paraguai, ou o Corrientes, que mergulha no Paraná. Muitos dos rios de importância econômica nos Pampas, por se prestarem a obras de irrigação, esgotam-se sob a intensa evaporação ou absorção pelos solos arenosos.\\nMais ao sul, na província de Mendoza, há uma ampla bacia interna formada por rios e riachos que descem dos Andes e raramente chegam às províncias vizinhas de La Pampa e Neuquén. Por isso o lugar tem o nome de Desaguadero (Desaguadouro), mas outros há parecidos, nos planaltos patagônicos. A vertente do Pacífico também tem início no segmento dos Andes que passa por Mendoza, entre os meridianos 30ºW e 35ºW: são cursos de água pequenos que começam no alto da cordilheira, atravessando o estreito território do Chile.\\nBastante representativos da paisagem física argentina no sul dos Andes são os lagos e lagoas, mais de 400, alguns de grande beleza e interesse turístico, como o Nahuel Huapí, junto ao qual fica San Carlos de Bariloche, dentro de esplêndido parque nacional. Há ainda o Colhué Huapí e o Buenos Aires, na província de Chubut; na de Santa Cruz, o San Martín, o Argentino, o Cardiel, o Viedma; e, na Terra do Fogo, o Fagnano.\\n\\nVegetação[editar | editar código-fonte]\\n  A corticeira é a flor-símbolo da Argentina e Uruguai.\\nHá uma grande diversidade de flora e fauna no território argentino, diretamente determinada pelas correspondentes diferenças de clima, solo e outras condições materiais. No norte da Mesopotâmia argentina, quente e úmido, predominam as matas subtropicais, em que se identificam espécies como o cedro, o ipê, a erva-mate, o pinheiro, as longas samambaias, bambus e cipós. Junto ao leito dos rios, essa vegetação se estende até a parte sul da planície mesopotâmica.\\nNo Chaco, a paisagem mais constante é parecida com a do cerrado brasileiro, coberta de gramíneas e palmeiras esparsas. Destaca-se na parte mais chuvosa ou junto aos rios a ocorrência de quebracho, o principal item da exploração florestal do país, e outras madeiras úteis, como lapacho e urundaí. Áreas desérticas e semidesérticas encontram-se nos Andes, na Patagônia extra-andina e a sudoeste do Chaco. Paraíso das gramíneas, a região dos Pampas quase não tem árvores. No leste mais seco, chega a abrigar plantas especialmente adaptadas à aridez, compondo às vezes um matagal arbustivo intermitente.\\n\\nFauna[editar | editar código-fonte]\\nA fauna argentina apresenta muitas das espécies características da América do Sul, embora menos variada que nas regiões tropicais. Há grande quantidade de aves, répteis e roedores. Entre os mamíferos estão à onça-pintada, a suçuarana, o gato-dos-pampas. Há raposas em várias regiões e, na mata subtropical, o macaco guariba é bastante encontrado, bem como a doninha, a anta, o tamanduá-bandeira, o tatu, diversas espécies de cervo e, nas regiões andinas, a lhama, a alpaca, a vicunha e o guanaco.\\nA ordem dos roedores é bem representada, com capivaras e vários tipos de coelho. Os répteis incluem a jibóia e peçonhentas como a cobra-coral e a cascavel, além de jacarés e lagartos. São particularmente numerosas as espécies de aves, de muitos papagaios e poucas emas e gansos selvagens, garças, gaviões e, no alto dos Andes, o condor. No extremo sul do país, a fauna do litoral gelado conta com muitas das espécies peculiares a essa paisagem, como os pinguins, as focas, os lobos-marinhos.\\n\\nLocalização[editar | editar código-fonte]\\nLocalização - sul da América do Sul, com litorais no oceano Atlântico sul, entre o Chile e o Uruguai\\nCoordenadas geográficas - 34º 00' S, 64º 00' W\\nReferências cartográficas - América do Sul\\n\\nFronteiras[editar | editar código-fonte]\\nÁrea\\n\\ntotal - 2 766 890 km²\\nterra - 2 736 692&#160;km²\\nágua - 30 200&#160;km²\\nFronteiras terrestres\\n\\ntotal - 9665&#160;km\\npaíses fronteiriços\\nChile - 5150&#160;km\\nParaguai - 1880&#160;km\\nBrasil - 1224&#160;km\\nBolívia - 832&#160;km\\nUruguai - 579&#160;km\\nCosta - 4 989&#160;km\\n\\nHidrografia[editar | editar código-fonte]\\nReivindicações marítimas\\n\\nzona contígua - 24 milhas náuticas\\nplataforma continental - 200 milhas náuticas ou até à orla do talude continental\\nzona económica exclusiva - 200 milhas náuticas\\náguas territoriais - 12 milhas náuticas\\n\\n\\nTopografia[editar | editar código-fonte]\\nTerreno - ricas planícies das Pampas na metade norte, planalto plano a ondulado da Patagónia no sul, montanhas escarpadas dos Andes ao longo da fronteira ocidental\\nExtremos de elevação\\n\\nponto mais baixo: Laguna del Carbon - -105 m (situada entre Puerto San Julián e Comandante Luís Piedra Buena, na província de Santa Cruz)\\nponto mais elevado: Aconcágua - 6 960 m\\nMeio ambiente[editar | editar código-fonte]\\n  Mapa da Argentina com o território Antárctico.\\nPerigos naturais - áreas de San Miguel de Tucumán e Mendoza, nos Andes, sujeitas a sismos; pamperos são tempestades com ventos violentos que podem atingir as Pampas e o nordeste; grandes inundações\\nAmbiente - problemas atuais - problemas ambientais (urbanos e rurais) típicos de uma economia em industrialização, como a degradação dos solos, a desertificação, a poluição do ar e da água\\n\\nnota - a Argentina é líder mundial no estabelecimento voluntário de metas para a redução dos gases de estufa\\nAmbiente - acordos internacionais\\n\\né parte de\\nTratado da Antártida\\nAntártico - Protocolo Ambiental\\nBiodiversidade\\nMudanças Climáticas\\nDesertificação\\nEspécies Ameaçadas\\nModificação Ambiental\\nResíduos Perigosos\\nLei do Mar\\nDespejos Marinhos\\nBanimento de Testes Nucleares\\nProteção da Camada de Ozonio\\nPoluição Provocada por Navios\\nZonas Húmidas\\nCaça à Baleia\\nassinou mas não ratificou\\nMudanças Climáticas - Protocolo de Quioto\\nConservação da Vida Marinha\\nOutros dados[editar | editar código-fonte]\\nRecursos naturais - planícies férteis das Pampas, chumbo, zinco, estanho, cobre, minério de ferro, manganês, petróleo, urânio\\nUso da terra\\n\\nterra arável - 9%\\ncultivo permanente - 1%\\npastagens permanentes - 52%\\nflorestas - 19%\\noutros - 19% (estimativas de 1993)\\nTerra irrigada - 17 000&#160;km² (est. 1993)\\n\\nRegiões geográficas[editar | editar código-fonte]\\nA Argentina é usualmente dividida em sete regiões geográficas, de acordo com as características de clima e relevo de cada uma. São elas:\\n\\nNoroeste\\nChaco\\nMesopotâmia\\nCuyo\\nPampa\\nPatagônia\\nCordilheira dos Andes\\nBibliografia[editar | editar código-fonte]\\nNova Enciclopédia Barsa: Macropédia. São Paulo: Encyclopædia Britannica do Brasil Publicações, 1998. v. 2, p.&#160;7-9. ISBN 85-7026-443-7\\nLigações externas[editar | editar código-fonte]\\n«Argentina no WikiMapia»&#160;\\n«Argentina no Brasil Escola»&#160;\\n\\n\\n\\n\\n\\nArgentina\\n\\n\\nBandeira&#160;&#8226; Brasão&#160;&#8226; Hino&#160;&#8226;   Cinema&#160;&#8226;  Culinária&#160;&#8226; Cultura&#160;&#8226; Demografia&#160;&#8226;  Economia&#160;&#8226;  Forças&#160;Armadas&#160;&#8226; Geografia&#160;&#8226; História&#160;&#8226;   Portal&#160;&#8226; Política&#160;&#8226;    Subdivisões&#160;&#8226; Transportes&#160;&#8226; Turismo&#160;&#8226; Imagens\\n\\nvdeGeografia da América do SulElementos e características\\nCordilheira dos Andes\\nAltiplano andino\\nPlanalto das Guianas\\nPlanalto Brasileiro\\nPlanícies e Terras Baixas Amazônicas\\nPlanalto Atlântico\\nEstreito de Magalhães\\nDeserto do Atacama\\nAquífero Guarani\\nRio Orinoco\\nRio Amazonas\\nRio da Prata\\nBacia Platina\\nBacia Amazônica\\nAmazônia\\nCone Sul\\nPampas\\nPatagônia\\nChaco+Pantanal\\nAmérica Platina\\nAmérica Andina\\nNorte da América do Sul\\nCaribe sul-americano\\nGuianas\\nPontos extremos\\nPor país e territórioGeografia  geral\\nArgentina\\nBolívia\\nBrasil\\nChile\\nColômbia\\nEquador\\nGuiana\\nParaguai\\nPeru\\nSuriname\\nUruguai\\nVenezuela\\nGuiana Francesa\\nIlhas Geórgia do Sul e Sanduíche do Sul\\nIlhas Malvinas\\nRelevo\\nArgentina\\nBolívia\\nBrasil\\nChile\\nColômbia\\nEquador\\nGuiana\\nParaguai\\nPeru\\nSuriname\\nUruguai\\nVenezuela\\nGuiana Francesa\\nIlhas Geórgia do Sul e Sanduíche do Sul\\nIlhas Malvinas\\nHidrografia\\nArgentina\\nBolívia\\nBrasil\\nChile\\nColômbia\\nEquador\\nGuiana\\nParaguai\\nPeru\\nSuriname\\nUruguai\\nVenezuela\\nGuiana Francesa\\nIlhas Geórgia do Sul e Sanduíche do Sul\\nIlhas Malvinas\\nVegetação\\nArgentina\\nBolívia\\nBrasil\\nChile\\nColômbia\\nEquador\\nGuiana\\nParaguai\\nPeru\\nSuriname\\nUruguai\\nVenezuela\\nGuiana Francesa\\nIlhas Geórgia do Sul e Sanduíche do Sul\\nIlhas Malvinas\\nClima\\nArgentina\\nBolívia\\nBrasil\\nChile\\nColômbia\\nEquador\\nGuiana\\nParaguai\\nPeru\\nSuriname\\nUruguai\\nVenezuela\\nGuiana Francesa\\nIlhas Geórgia do Sul e Sanduíche do Sul\\nIlhas Malvinas\\nFronteiras\\nArgentina\\nBolívia\\nBrasil\\nChile\\nColômbia\\nEquador\\nGuiana\\nParaguai\\nPeru\\nSuriname\\nUruguai\\nVenezuela\\nGuiana Francesa\\nIlhas Geórgia do Sul e Sanduíche do Sul\\nIlhas Malvinas\\nFauna\\nArgentina\\nBolívia\\nBrasil\\nChile\\nColômbia\\nEquador\\nGuiana\\nParaguai\\nPeru\\nSuriname\\nUruguai\\nVenezuela\\nGuiana Francesa\\nIlhas Geórgia do Sul e Sanduíche do Sul\\nIlhas Malvinas\\nDemografia\\nArgentina\\nBolívia\\nBrasil\\nChile\\nColômbia\\nEquador\\nGuiana\\nParaguai\\nPeru\\nSuriname\\nUruguai\\nVenezuela\\nGuiana Francesa\\nIlhas Geórgia do Sul e Sanduíche do Sul\\nIlhas Malvinas\\nSubdivisões\\nArgentina\\nBolívia\\nBrasil\\nChile\\nColômbia\\nEquador\\nGuiana\\nParaguai\\nPeru\\nSuriname\\nUruguai\\nVenezuela\\nGuiana Francesa\\nIlhas Geórgia do Sul e Sanduíche do Sul\\nIlhas Malvinas\\n Portal América do Sul\\n Portal da geografia         \\nvdeGeografia da América do SulElementos e características\\nCordilheira dos Andes\\nAltiplano andino\\nPlanalto das Guianas\\nPlanalto Brasileiro\\nPlanícies e Terras Baixas Amazônicas\\nPlanalto Atlântico\\nEstreito de Magalhães\\nDeserto do Atacama\\nAquífero Guarani\\nRio Orinoco\\nRio Amazonas\\nRio da Prata\\nBacia Platina\\nBacia Amazônica\\nAmazônia\\nCone Sul\\nPampas\\nPatagônia\\nChaco+Pantanal\\nAmérica Platina\\nAmérica Andina\\nNorte da América do Sul\\nCaribe sul-americano\\nGuianas\\nPontos extremos\\nPor país e territórioGeografia  geral\\nArgentina\\nBolívia\\nBrasil\\nChile\\nColômbia\\nEquador\\nGuiana\\nParaguai\\nPeru\\nSuriname\\nUruguai\\nVenezuela\\nGuiana Francesa\\nIlhas Geórgia do Sul e Sanduíche do Sul\\nIlhas Malvinas\\nRelevo\\nArgentina\\nBolívia\\nBrasil\\nChile\\nColômbia\\nEquador\\nGuiana\\nParaguai\\nPeru\\nSuriname\\nUruguai\\nVenezuela\\nGuiana Francesa\\nIlhas Geórgia do Sul e Sanduíche do Sul\\nIlhas Malvinas\\nHidrografia\\nArgentina\\nBolívia\\nBrasil\\nChile\\nColômbia\\nEquador\\nGuiana\\nParaguai\\nPeru\\nSuriname\\nUruguai\\nVenezuela\\nGuiana Francesa\\nIlhas Geórgia do Sul e Sanduíche do Sul\\nIlhas Malvinas\\nVegetação\\nArgentina\\nBolívia\\nBrasil\\nChile\\nColômbia\\nEquador\\nGuiana\\nParaguai\\nPeru\\nSuriname\\nUruguai\\nVenezuela\\nGuiana Francesa\\nIlhas Geórgia do Sul e Sanduíche do Sul\\nIlhas Malvinas\\nClima\\nArgentina\\nBolívia\\nBrasil\\nChile\\nColômbia\\nEquador\\nGuiana\\nParaguai\\nPeru\\nSuriname\\nUruguai\\nVenezuela\\nGuiana Francesa\\nIlhas Geórgia do Sul e Sanduíche do Sul\\nIlhas Malvinas\\nFronteiras\\nArgentina\\nBolívia\\nBrasil\\nChile\\nColômbia\\nEquador\\nGuiana\\nParaguai\\nPeru\\nSuriname\\nUruguai\\nVenezuela\\nGuiana Francesa\\nIlhas Geórgia do Sul e Sanduíche do Sul\\nIlhas Malvinas\\nFauna\\nArgentina\\nBolívia\\nBrasil\\nChile\\nColômbia\\nEquador\\nGuiana\\nParaguai\\nPeru\\nSuriname\\nUruguai\\nVenezuela\\nGuiana Francesa\\nIlhas Geórgia do Sul e Sanduíche do Sul\\nIlhas Malvinas\\nDemografia\\nArgentina\\nBolívia\\nBrasil\\nChile\\nColômbia\\nEquador\\nGuiana\\nParaguai\\nPeru\\nSuriname\\nUruguai\\nVenezuela\\nGuiana Francesa\\nIlhas Geórgia do Sul e Sanduíche do Sul\\nIlhas Malvinas\\nSubdivisões\\nArgentina\\nBolívia\\nBrasil\\nChile\\nColômbia\\nEquador\\nGuiana\\nParaguai\\nPeru\\nSuriname\\nUruguai\\nVenezuela\\nGuiana Francesa\\nIlhas Geórgia do Sul e Sanduíche do Sul\\nIlhas Malvinas\\n Portal América do Sul\\n<!-- \\nNewPP limit report\\nParsed by mw1371\\nCached time: 20210601195424\\nCache expiry: 1814400\\nReduced expiry: false\\nComplications: []\\nCPU time usage: 1.268 seconds\\nReal time usage: 1.407 seconds\\nPreprocessor visited node count: 7053/1000000\\nPost‐expand include size: 101348/2097152 bytes\\nTemplate argument size: 16842/2097152 bytes\\nHighest expansion depth: 30/40\\nExpensive parser function count: 20/500\\nUnstrip recursion depth: 0/20\\nUnstrip post‐expand size: 25884/5000000 bytes\\nLua time usage: 0.538/10.000 seconds\\nLua memory usage: 3471143/52428800 bytes\\nNumber of Wikibase entities loaded: 0/400\\n-->\\n<!--\\nTransclusion expansion time report (%,ms,calls,template)\\n100.00% 1197.619      1 -total\\n 41.70%  499.402      1 Predefinição:Info/País/geografia_física\\n 40.28%  482.433      1 Predefinição:Info\\n 39.19%  469.403      1 Predefinição:Sem_notas\\n 36.56%  437.864      1 Predefinição:Ambox\\n 14.64%  175.343      1 Predefinição:ContaParams\\n 11.35%  135.950      1 Predefinição:Coor_dm\\n 11.09%  132.866      1 Predefinição:Coor_dms\\n  9.70%  116.155     41 Predefinição:Argvar\\n  7.59%   90.919      1 Predefinição:Portal3\\n-->\\n\\n<!-- Saved in parser cache with key ptwiki:pcache:idhash:22911-0!canonical and timestamp 20210601195423 and revision id 57944808. Serialized with JSON.\\n -->\\n\""
      ]
     },
     "execution_count": 96,
     "metadata": {},
     "output_type": "execute_result"
    }
   ],
   "source": [
    "# t = re.sub('td\\.mbox\\-text\\{[.]*\\}', '', t)\n",
    "# t = re.sub('\\.compact-ambox[ ,]', '', t)\n",
    "t"
   ]
  },
  {
   "cell_type": "code",
   "execution_count": 58,
   "metadata": {},
   "outputs": [
    {
     "data": {
      "text/plain": [
       "\"td.mbox-text{border:none;padding:0.25em 0.9em;width:100%}td.mbox-image{border:none;padding:2px 0 2px 0.9em;text-align:center}td.mbox-imageright{border:none;padding:2px 0.9em 2px 0;text-align:center}td.mbox-empty-cell,td.mbox-empty-cell,td.mbox-empty-cell,td.mbox-empty-cell,td.mbox-empty-cell{border:none;padding:0;width:1px}table.ambox{margin:0 10%;border:1px solid #C7C7C7;border-left:10px solid #93C9FF;background-color:#FAFAFA;box-sizing:border-box}table.ambox+table.ambox+table.ambox+table.ambox+table.ambox+table.ambox{margin-top:-1px}.ambox .ambox .ambox .ambox .ambox .ambox .ambox .ambox .ambox .ambox td.mbox-text{padding:0.25em 0.5em}.ambox .ambox .ambox .ambox .ambox td.mbox-image{padding:2px 0 2px 0.5em}.ambox .ambox .ambox .ambox .ambox td.mbox-imageright{padding:2px 0.5em 2px 0}table.ambox-notice,table.ambox-notice,table.ambox-notice,table.ambox-notice,table.ambox-notice{border-left:10px solid #93C9FF}table.ambox-speedy,table.ambox-speedy,table.ambox-speedy,table.ambox-speedy,table.ambox-speedy{border-left:10px solid #B60000;background-color:#FFEBEB}table.ambox-delete,table.ambox-delete,table.ambox-delete,table.ambox-delete,table.ambox-delete{border-left:10px solid #B60000}table.ambox-content,table.ambox-content,table.ambox-content,table.ambox-content,table.ambox-content{border-left:10px solid #FFB56B}table.ambox-style,table.ambox-style,table.ambox-style,table.ambox-style,table.ambox-style{border-left:10px solid #FFE411}table.ambox-move,table.ambox-move,table.ambox-move,table.ambox-move,table.ambox-move{border-left:10px solid #840084}table.ambox-protection,table.ambox-protection,table.ambox-protection,table.ambox-protection,table.ambox-protection{border-left:10px solid #C7C7C7}table.imbox,table.imbox,table.imbox,table.imbox,table.imbox{margin:4px 10%;border-collapse:collapse;border:3px solid #93C9FF;background-color:#FAFAFA;box-sizing:border-box}.imbox .mbox-text .imbox,.imbox .mbox-text .imbox,.imbox .mbox-text .imbox,.imbox .mbox-text .imbox,.imbox .mbox-text .imbox{margin:0 -0.5em;display:block}.mbox-inside .imbox,.mbox-inside .imbox,.mbox-inside .imbox,.mbox-inside .imbox,.mbox-inside .imbox{margin:4px}table.imbox-notice,table.imbox-notice,table.imbox-notice,table.imbox-notice,table.imbox-notice{border:3px solid #93C9FF}table.imbox-speedy,table.imbox-speedy,table.imbox-speedy,table.imbox-speedy,table.imbox-speedy{border:3px solid #B60000;background-color:#FFEBEB}table.imbox-delete,table.imbox-delete,table.imbox-delete,table.imbox-delete,table.imbox-delete{border:3px solid #B60000}table.imbox-content,table.imbox-content,table.imbox-content,table.imbox-content,table.imbox-content{border:3px solid #FFB56B}table.imbox-style,table.imbox-style,table.imbox-style,table.imbox-style,table.imbox-style{border:3px solid #FFE411}table.imbox-move,table.imbox-move,table.imbox-move,table.imbox-move,table.imbox-move{border:3px solid #840084}table.imbox-protection,table.imbox-protection,table.imbox-protection,table.imbox-protection,table.imbox-protection{border:3px solid #C7C7C7}table.imbox-license,table.imbox-license,table.imbox-license,table.imbox-license,table.imbox-license{border:3px solid #C7C7C7;background-color:#FAFAFA}table.imbox-featured,table.imbox-featured,table.imbox-featured,table.imbox-featured,table.imbox-featured{border:3px solid #FFB56B}table.cmbox,table.cmbox,table.cmbox,table.cmbox,table.cmbox{margin:3px 10%;border-collapse:collapse;border:1px solid #C7C7C7;background-color:#C9E4FF;box-sizing:border-box}table.cmbox-notice,table.cmbox-notice,table.cmbox-notice,table.cmbox-notice,table.cmbox-notice{background-color:#C9E4FF}table.cmbox-speedy,table.cmbox-speedy,table.cmbox-speedy,table.cmbox-speedy,table.cmbox-speedy{margin-top:4px;margin-bottom:4px;border:4px solid #B60000;background-color:#FFEBEB}table.cmbox-delete,table.cmbox-delete,table.cmbox-delete,table.cmbox-delete,table.cmbox-delete{background-color:#FFEBEB}table.cmbox-content,table.cmbox-content,table.cmbox-content,table.cmbox-content,table.cmbox-content{background-color:#FFEDDA}table.cmbox-style,table.cmbox-style,table.cmbox-style,table.cmbox-style,table.cmbox-style{background-color:#FFFDE8}table.cmbox-move,table.cmbox-move,table.cmbox-move,table.cmbox-move,table.cmbox-move{background-color:#DFDFFF}table.cmbox-protection,table.cmbox-protection,table.cmbox-protection,table.cmbox-protection,table.cmbox-protection{background-color:#F2FFF2}table.ombox,table.ombox,table.ombox,table.ombox,table.ombox{margin:4px 10%;border-collapse:collapse;border:1px solid #C7C7C7;background-color:#F9F9FF;box-sizing:border-box}table.ombox-notice,table.ombox-notice,table.ombox-notice,table.ombox-notice,table.ombox-notice{border:1px solid #C7C7C7}table.ombox-speedy,table.ombox-speedy,table.ombox-speedy,table.ombox-speedy,table.ombox-speedy{border:2px solid #B60000;background-color:#FFEBEB}table.ombox-delete,table.ombox-delete,table.ombox-delete,table.ombox-delete,table.ombox-delete{border:2px solid #B60000}table.ombox-content,table.ombox-content,table.ombox-content,table.ombox-content,table.ombox-content{border:1px solid #FFB56B}table.ombox-style,table.ombox-style,table.ombox-style,table.ombox-style,table.ombox-style{border:1px solid #FFE411}table.ombox-move,table.ombox-move,table.ombox-move,table.ombox-move,table.ombox-move{border:1px solid #840084}table.ombox-protection,table.ombox-protection,table.ombox-protection,table.ombox-protection,table.ombox-protection{border:2px solid #C7C7C7}table.tmbox,table.tmbox,table.tmbox,table.tmbox,table.tmbox{margin:4px 10%;border-collapse:collapse;border:1px solid #655900;background-color:#FFEDDA;min-width:80%;box-sizing:border-box}.tmbox.mbox-small,.tmbox.mbox-small,.tmbox.mbox-small,.tmbox.mbox-small,.tmbox.mbox-small{min-width:0}.mediawiki .mbox-inside .tmbox,.mediawiki .mbox-inside .tmbox,.mediawiki .mbox-inside .tmbox,.mediawiki .mbox-inside .tmbox,.mediawiki .mbox-inside .tmbox{margin:2px 0;width:100%}.mbox-inside .tmbox.mbox-small,.mbox-inside .tmbox.mbox-small,.mbox-inside .tmbox.mbox-small,.mbox-inside .tmbox.mbox-small,.mbox-inside .tmbox.mbox-small{line-height:1.5em;font-size:100%}table.tmbox-speedy,table.tmbox-speedy,table.tmbox-speedy,table.tmbox-speedy,table.tmbox-speedy{border:2px solid #B60000;background-color:#FFEBEB}table.tmbox-delete,table.tmbox-delete,table.tmbox-delete,table.tmbox-delete,table.tmbox-delete{border:2px solid #B60000}table.tmbox-content,table.tmbox-content,table.tmbox-content,table.tmbox-content,table.tmbox-content{border:2px solid #FFB56B}table.tmbox-style,table.tmbox-style,table.tmbox-style,table.tmbox-style,table.tmbox-style{border:2px solid #FFE411}table.tmbox-move,table.tmbox-move,table.tmbox-move,table.tmbox-move,table.tmbox-move{border:2px solid #840084}table.tmbox-protection,table.tmbox-notice,table.tmbox-protection,table.tmbox-notice,table.tmbox-protection,table.tmbox-notice,table.tmbox-protection,table.tmbox-notice,table.tmbox-protection,table.tmbox-notice{border:1px solid #655900}table.dmbox,table.dmbox,table.dmbox,table.dmbox,table.dmbox{clear:both;margin:0.9em 1em;border-top:1px solid #C7C7C7;border-bottom:1px solid #C7C7C7;background-color:transparent}table.fmbox,table.fmbox,table.fmbox,table.fmbox,table.fmbox{clear:both;margin:0.2em 0;width:100%;border:1px solid #C7C7C7;background-color:#F9F9FF;box-sizing:border-box}table.fmbox-system,table.fmbox-system,table.fmbox-system,table.fmbox-system,table.fmbox-system{background-color:#F9F9FF}table.fmbox-warning,table.fmbox-warning,table.fmbox-warning,table.fmbox-warning,table.fmbox-warning{border:1px solid #8C4600;background-color:#FFEBEB}table.fmbox-editnotice,table.fmbox-editnotice,table.fmbox-editnotice,table.fmbox-editnotice,table.fmbox-editnotice{background-color:transparent}div.mw-warning-with-logexcerpt,div.mw-lag-warn-high,div.mw-cascadeprotectedwarning,div/**/#mw-protect-cascadeon,div.titleblacklist-warning,div.locked-warning,div.mw-warning-with-logexcerpt,div.mw-lag-warn-high,div.mw-cascadeprotectedwarning,div/**/#mw-protect-cascadeon,div.titleblacklist-warning,div.locked-warning,div.mw-warning-with-logexcerpt,div.mw-lag-warn-high,div.mw-cascadeprotectedwarning,div/**/#mw-protect-cascadeon,div.titleblacklist-warning,div.locked-warning,div.mw-warning-with-logexcerpt,div.mw-lag-warn-high,div.mw-cascadeprotectedwarning,div/**/#mw-protect-cascadeon,div.titleblacklist-warning,div.locked-warning,div.mw-warning-with-logexcerpt,div.mw-lag-warn-high,div.mw-cascadeprotectedwarning,div/**/#mw-protect-cascadeon,div.titleblacklist-warning,div.locked-warning{clear:both;margin:0.2em 0;border:1px solid #8C4600;background-color:#FFEBEB;padding:0.25em 0.9em;box-sizing:border-box}.mbox-small,.mbox-small,.mbox-small,.mbox-small,.mbox-small{clear:right;float:right;margin:4px 0 4px 1em;box-sizing:border-box;width:238px;font-size:88%;line-height:1.25em}.mbox-small-left,.mbox-small-left,.mbox-small-left,.mbox-small-left,.mbox-small-left{margin:4px 1em 4px 0;box-sizing:border-box;overflow:hidden;width:238px;border-collapse:collapse;font-size:88%;line-height:1.25em}.compact-ambox table .mbox-image,.compact-ambox table .mbox-imageright,.compact-ambox table .mbox-empty-cell,.compact-ambox table .mbox-image,.compact-ambox table .mbox-imageright,.compact-ambox table .mbox-empty-cell,.compact-ambox table .mbox-image,.compact-ambox table .mbox-imageright,.compact-ambox table .mbox-empty-cell,.compact-ambox table .mbox-image,.compact-ambox table .mbox-imageright,.compact-ambox table .mbox-empty-cell,.compact-ambox table .mbox-image,.compact-ambox table .mbox-imageright,.compact-ambox table .mbox-empty-cell{display:none}.compact-ambox .compact-ambox .compact-ambox .compact-ambox .compact-ambox table.ambox{border:none;border-collapse:collapse;background-color:transparent;margin:0 0 0 1.6em!important;padding:0!important;width:auto;display:block}.compact-ambox table.mbox-small-left,.compact-ambox table.mbox-small-left,.compact-ambox table.mbox-small-left,.compact-ambox table.mbox-small-left,.compact-ambox table.mbox-small-left{font-size:100%;width:auto;margin:0}.compact-ambox table .mbox-text,.compact-ambox table .mbox-text,.compact-ambox table .mbox-text,.compact-ambox table .mbox-text,.compact-ambox table .mbox-text{padding:0!important;margin:0!important}.compact-ambox table .mbox-text-span,.compact-ambox table .mbox-text-span,.compact-ambox table .mbox-text-span,.compact-ambox table .mbox-text-span,.compact-ambox table .mbox-text-span{display:list-item;line-height:1.5em;list-style-type:square}.compact-ambox .hide-when-compact,.compact-ambox .hide-when-compact,.compact-ambox .hide-when-compact,.compact-ambox .hide-when-compact,.compact-ambox .hide-when-compact{display:none}.compact-ambox table .mbox-text-span{list-style-type:disc}.hide-when-compact{display:none}Este artigo ou secção contém uma lista de referências no fim do texto, mas as suas fontes não são claras porque não são  citadas no corpo do artigo, o que compromete a confiabilidade das informações. Ajude a melhorar este artigo inserindo citações no corpo do artigo.\\n\\n\\n\\nGeografia da Argentina\\n\\n\\n\\n\\n\\n\\n\\n\\n\\n\\nLocalização\\n\\n\\nContinente\\n\\nAmérica do Sul\\n\\n \\n\\n \\n\\nRegião\\n\\nAmérica Platina\\n\\n \\n\\n \\n\\nCoordenadas\\n\\n34° S 64° O\\n\\n \\n\\n \\n\\n \\n\\n \\n\\n \\n\\n \\n\\n \\n\\n \\n\\n \\n\\n \\n\\n \\n\\n \\n\\n \\n\\n\\n\\nÁrea\\n\\n\\nPosição\\n\\n8.º maior\\n\\n \\n\\n \\n\\nTotal\\n\\n2780407 km²\\n\\n \\n\\n \\n\\n \\n\\n \\n\\nTerra\\n\\n2736690 km²\\n\\n \\n\\n \\n\\nÁgua\\n\\n30200 km²\\n\\n \\n\\n \\n\\n \\n\\n \\n\\n \\n\\n \\n\\n \\n\\n \\n\\n \\n\\n \\n\\n \\n\\n\\n\\nFronteiras\\n\\n\\nTotal\\n\\n9861 km\\n\\n \\n\\n \\n\\nPaíses vizinhos\\n\\nBolívia: 832 kmBrasil: 1261 kmChile: 5308 kmParaguai: 1880 kmUruguai: 580 km\\n\\n \\n\\n \\n\\n \\n\\n \\n\\n \\n\\n \\n\\n \\n\\n \\n\\nLinha costeira\\n\\n4989 km\\n\\n \\n\\n \\n\\n \\n\\n \\n\\n \\n\\n \\n\\n \\n\\n \\n\\n \\n\\n\\n\\nReivindicações marítimas\\n\\n\\nMar territorial\\n\\n14 milhas\\n\\n \\n\\n \\n\\nZona contígua\\n\\n24 milhas\\n\\n \\n\\n \\n\\n \\n\\n \\n\\nZona econômica exclusiva\\n\\n200 milhas\\n\\n \\n\\n \\n\\nPlataforma continental\\n\\n200 milhas\\n\\n \\n\\n \\n\\n \\n\\n \\n\\n \\n\\n \\n\\n \\n\\n \\n\\n \\n\\n \\n\\n \\n\\n\\n\\nAltitudes extremas\\n\\n\\nPonto mais alto\\n\\nCerro Aconcagua 6960 m (localizado no extremo noroeste da província de Mendoza)\\n\\n \\n\\n \\n\\nPonto mais baixo\\n\\nLaguna del Carbon -105 m (localizado entre Puerto San Julian e Comandante Luis Piedra Buena na província de Santa Cruz)\\n\\n \\n\\n\\n&#160;\\n\\n\\n \\n\\n \\n\\nRelevo\\n\\nplanícies dos Pampas (centro-oeste), da Mesopotâmia (nordeste) e do Chaco (norte), separadas por um planalto; cordilheira dos Andes (oeste); mesetas escalonadas com depressões (sudeste).\\n\\n \\n\\n \\n\\nClima\\n\\nde montanha (noroeste, sudoeste e oeste), árido tropical (nordeste), árido frio (sudeste), temperado continental (sul), tropical (norte), subpolar (extremo sul).\\n\\n \\n\\n \\n\\nRecursos naturais\\n\\nplanícies férteis dos pampas, chumbo, zinco, estanho, cobre, minério de ferro, manganês, petróleo, urânio\\n\\n \\n\\n \\n\\n \\n\\n \\n\\n \\n\\n \\n\\n \\n\\n \\n\\n \\n\\n\\n\\nUso do solo\\n\\n\\nTerra arável\\n\\n10,03% (2005)\\n\\n \\n\\n \\n\\nCultivos permanentes\\n\\n0,36% (2005)\\n\\n \\n\\n \\n\\nTerra irrigada\\n\\n15500 km²\\n\\n \\n\\n \\n\\nOutros\\n\\n89,61% (2005)\\n\\n \\n\\n \\n\\n \\n\\n \\n\\n \\n\\n \\n\\n \\n\\n \\n\\n \\n\\n \\n\\n \\n\\n \\n\\n \\n\\n\\n\\n&#160;\\n\\n\\n \\n\\n \\n\\nPerigos naturais\\n\\náreas de San Miguel de Tucumán e Mendoza, nos Andes, sujeitas a sismos; pamperos são tempestades com ventos violentos que podem atingir as Pampas e o nordeste; grandes inundações\\n\\n \\n\\n \\n\\nProblemas ecológicos\\n\\nproblemas ambientais (urbanos e rurais) típicos de uma economia em industrialização, como a degradação dos solos, a desertificação, a poluição do ar e da água\\n\\n \\n\\n \\n\\n \\n\\n \\n\\n \\n\\n \\n\\n \\n\\n \\n\\n \\n\\n \\n\\n \\n\\n \\n\\n \\n\\n \\n\\n \\n\\n\\n \\n\\n \\n\\n \\n\\n \\n\\n \\n\\n \\n\\n \\n\\n \\n\\n \\n\\n \\n\\n \\n\\n \\n\\n \\n\\n \\n\\n \\n\\n \\n\\n \\n\\n \\n\\n \\n\\n \\n\\n\\n \\n\\n \\n\\n \\n\\n \\n\\n \\n\\n \\n\\n \\n\\n \\n\\n \\n\\n \\n\\n \\n\\n \\n\\n \\n\\n \\n\\n \\n\\n \\n\\n \\n\\n \\n\\n \\n\\n \\n\\n\\n \\n\\n \\n\\n \\n\\n \\n\\n \\n\\n \\n\\n \\n\\n \\n\\n \\n\\n \\n\\n \\n\\n \\n\\n \\n\\n \\n\\n \\n\\n \\n\\n \\n\\n \\n\\n \\n\\n \\n\\n\\n \\n\\n \\n\\n \\n\\n \\n\\n \\n\\n \\n\\n \\n\\n \\n\\n \\n\\n \\n\\n \\n\\n \\n\\n \\n\\n \\n\\n \\n\\n \\n\\n \\n\\n \\n\\n \\n\\n \\n\\n\\n \\n\\n \\n\\n \\n\\n \\n\\n \\n\\n \\n\\n \\n\\n \\n\\n \\n\\n \\n\\n \\n\\n \\n\\n \\n\\n \\n\\n \\n\\n \\n\\n \\n\\n \\n\\n \\n\\n \\n\\n\\n \\n\\n \\n\\n \\n\\n \\n\\n \\n\\n \\n\\n \\n\\n \\n\\n \\n\\n \\n\\n \\n\\n \\n\\n \\n\\n \\n\\n \\n\\n \\n\\n \\n\\n \\n\\n \\n\\n \\n\\n\\n \\n\\n \\n\\n \\n\\n \\n\\n \\n\\n \\n\\n \\n\\n \\n\\n \\n\\n \\n\\n \\n\\n \\n\\n \\n\\n \\n\\n \\n\\n \\n\\n \\n\\n \\n\\n \\n\\n \\n\\n\\n \\n\\n \\n\\n \\n\\n \\n\\n \\n\\n \\n\\n \\n\\n \\n\\n \\n\\n \\n\\n \\n\\n \\n\\n \\n\\n \\n\\n \\n\\n \\n\\n \\n\\n \\n\\n \\n\\n \\n\\n\\n \\n\\n \\n\\n \\n\\n \\n\\n \\n\\n \\n\\n \\n\\n \\n\\n \\n\\n \\n\\n \\n\\n \\n\\n \\n\\n \\n\\n \\n\\n \\n\\n \\n\\n \\n\\n \\n\\n \\n\\n\\n \\n\\n \\n\\n \\n\\n \\n\\n \\n\\n \\n\\n \\n\\n \\n\\n \\n\\n \\n\\n \\n\\n \\n\\n \\n\\n \\n\\n \\n\\n \\n\\n \\n\\n \\n\\n \\n\\n \\n\\n\\n \\n\\n \\n\\n \\n\\n \\n\\n \\n\\n \\n\\n \\n\\n \\n\\n \\n\\n \\n\\n \\n\\n \\n\\n \\n\\n \\n\\n \\n\\n \\n\\n \\n\\n \\n\\n \\n\\n \\n\\n\\n \\n\\n \\n\\n \\n\\n \\n\\n \\n\\n \\n\\n \\n\\n \\n\\n \\n\\n \\n\\n \\n\\n \\n\\n \\n\\n \\n\\n \\n\\n \\n\\n \\n\\n \\n\\n \\n\\n \\n\\n\\n \\n\\n \\n\\n \\n\\n \\n\\n \\n\\n \\n\\n \\n\\n \\n\\n \\n\\n \\n\\n \\n\\n \\n\\n \\n\\n \\n\\n \\n\\n \\n\\n \\n\\n \\n\\n \\n\\n \\n\\n\\n \\n\\n \\n\\n \\n\\n \\n\\n \\n\\n \\n\\n \\n\\n \\n\\n \\n\\n \\n\\n \\n\\n \\n\\n \\n\\n \\n\\n \\n\\n \\n\\n \\n\\n \\n\\n \\n\\n \\n\\n\\n \\n\\n \\n\\n \\n\\n \\n\\n \\n\\n \\n\\n \\n\\n \\n\\n \\n\\n \\n\\n \\n\\n \\n\\n \\n\\n \\n\\n \\n\\n \\n\\n \\n\\n \\n\\n \\n\\n \\n\\n\\n \\n\\n \\n\\n \\n\\n \\n\\n \\n\\n \\n\\n \\n\\n \\n\\n \\n\\n \\n\\n \\n\\n \\n\\n \\n\\n \\n\\n \\n\\n \\n\\n \\n\\n \\n\\n \\n\\n \\n\\n\\n\\n\\n\\nA Geografia da Argentina é um domínio de estudos e conhecimentos sobre todas as características geográficas do território argentino.\\nA Argentina pode ser dividida esquematicamente em quatro partes: as planícies férteis das Pampas na metade norte do país, que são o centro da riqueza agrícola da Argentina, o planalto da Patagónia na metade sul até à Terra do Fogo, por vezes plano, por vezes ondulado, a escarpada cordilheira dos Andes ao longo da fronteira ocidental com o Chile, cujo ponto mais elevado é o monte Aconcágua, com 6960 m de altitude e a planície do Chaco compartilhada com a Bolívia, o Paraguai e o Brasil.\\nOs rios principais são o Paraguai, o Bermejo, o Colorado, o Uruguai e o maior de todos: o Paraná. Os dois últimos juntam-se antes de desaguar no oceano Atlântico, formando o estuário do Rio da Prata. O clima argentino é em geral temperado, com os extremos a ir do subtropical a norte ao árido/sub-antártico no extremo sul.\\n\\nÍndice\\n\\n1 Geologia e relevo\\n2 Clima\\n3 Hidrografia\\n4 Vegetação\\n5 Fauna\\n6 Localização\\n7 Fronteiras\\n8 Hidrografia\\n9 Topografia\\n10 Meio ambiente\\n11 Outros dados\\n12 Regiões geográficas\\n13 Bibliografia\\n14 Ligações externas\\n\\n\\n\\nGeologia e relevo[editar | editar código-fonte]\\n  Mapa físico da Argentina.\\nO território argentino estende-se longitudinalmente entre a cordilheira dos Andes e o oceano Atlântico. Caracteriza-se pela variedade de paisagens físicas resultantes da transição entre as zonas planas do oeste e as planícies do leste.\\nA cordilheira dos Andes provém de movimentos orogênicos (fenômenos que determinam a formação de montanhas) do plioceno, no período quaternário. Avança pela Argentina com montanhas elevadas, que sustentam um vasto planalto semidesértico e cheio de depressões salinas, denominado Puna de Atacama, a três mil metros acima do nível do mar. Situam-se nessa região setentrional importantes maciços vulcânicos, entre os quais se destaca o Lulullaillaco, com 6.723m, um dos cumes mais altos do continente. Na direção leste, encontra-se a cordilheira Oriental, conjunto de serras elevadas, com neve eterna em seus picos mais altos, e em seguida situam-se as serras subandinas, que confinam com a província do Chaco.\\nEntre os Andes centrais, a oeste, e as serras de Córdoba e San Luis, a leste, abre-se um extenso vale, separado do território chileno pela cordilheira Principal, onde se encontram as maiores elevações, inclusive o ponto culminante de toda a América, o Aconcágua (6960 m), bem como os picos Mercedario (6770 m) e Tupungato (6550 m). Do paralelo 36 Sul em diante, na direção do sul, os Andes se estreitam e perdem altura. Seu prolongamento na Patagônia apresenta raras elevações acima de 3500m, como a do monte Mellizo, junto à Laguna Grande.\\nA leste dos Andes e ao norte da Patagônia, estende-se uma vasta planície de características variadas. Ao longo das bacias do Paraná e Paraguai, localiza-se o Chaco, região subtropical e arenosa, ligeiramente inclinada para sudeste. Em alguns pontos do nordeste (Misiones), afloram rochas arenitícas e basálticas pertencentes ao escudo pré-cambriano brasileiro. O resto da região se acha coberto por sedimentos de diversas épocas, como o loess (depósitos quaternários de origem glacial), rico em calcário. A leste do Chaco, entre os rios Paraná e Uruguai, localiza-se a planície da Mesopotâmia argentina, que não apresenta unidade morfológica nem geológica. O principal elemento de seu relevo é a meseta Misionera, na província de Misiones e nordeste de Corrientes.\\nEntre o sopé dos Andes e o oceano Atlântico, ao sul do rio Salado e ao norte do Colorado, situa-se o Pampa, em todos os aspectos a paisagem mais representativa da Argentina. A vasta planície pampeana caracteriza-se pela horizontalidade. Compreende em sua composição sedimentar diversas eras geológicas. Seus solos são muito ricos (loess e limos muito espessos). Embora bastante homogêneo em sua topografia, o Pampa apresenta áreas mais onduladas, ganha altura nas serras do Tandill e Ventana e, no vale do rio Salado, mergulha em depressão tectônica. Abaixo do rio Negro e do golfo de San Matías, entrando na Patagônia, já não se pode falar de planície, mas de mesetas em que se sobrepõem sedimentos secundários e terciários que foram igualados no fim da era glacial.\\n\\nClima[editar | editar código-fonte]\\nGrande parte do território argentino está situado na zona temperada do hemisfério sul. Verificam-se no país climas tropicais e subtropicais, áridos e frios, com combinações e contrastes diversos, resultantes das variações de altitude e outros fatores. Em quase todas as regiões da Argentina registram-se nevadas ocasionais, exceto no extremo norte, onde predomina um clima tropical. Nessa mesma área, os dias são quentes de outubro a março e frios e secos de abril a setembro.\\nMais amenos são os índices predominantes no Pampa, úmido e fresco em sua parte oriental, nas províncias de Buenos Aires e La Pampa. Os verões, embora intensos, em Mar del Plata não ultrapassam uma média superior a 21&#160;°C. Mais seco para o lado do oeste e Mendoza, o clima do Pampa, nessa faixa, tem suas chuvas de verão rapidamente evaporadas.\\nNas proximidades da cordilheira dos Andes, de noroeste até a serra do Payén, na província de Mendoza, verifica-se freqüente alternância de climas desértico e semi-árido, este com maior expressão nos pontos mais altos da própria cordilheira. De quatro mil metros para cima, as precipitações são escassas e as temperaturas muito baixas, entre neves eternas. Na parte meridional dos Andes as chuvas são bastante favorecidas pelos ventos úmidos do Pacífico, que vencem a barreira descomunal e chegam às províncias do sul. As condições de umidade e temperatura levam à formação de geleiras.\\nDe um modo geral a Patagônia é de clima seco e frio, com fortes e constantes ventos soprados do oeste. Mais ao sul, na Terra do Fogo, os ventos são ainda mais fortes, a chuva e a neve, quase permanentes, e a temperatura cai a níveis muito baixos.\\n\\nHidrografia[editar | editar código-fonte]\\nContam-se três redes hidrográficas em território argentino: a da vertente atlântica, que é a mais importante, a do Pacífico, na parte sul da cordilheira dos Andes, e as bacias endorréicas — ou internas — que ocupam um terço da superfície total do país.\\nDo lado do Atlântico, destaca-se o rio da Prata, nome que se dá ao estuário que é fruto do encontro dos rios Paraná e Uruguai com o oceano Atlântico. Tem mais de 300&#160;km de comprimento, largura que chega a 200&#160;km e descarga média de 23300 m3 por segundo, perdendo na América do Sul somente para a do Amazonas.\\nO rio Paraná é um dos 15 mais extensos do mundo e tem 1800&#160;km em terras argentinas, sendo mais de 400 navegáveis (até Santa Fé). Seus afluentes mais importantes são, na margem direita, o Paraguai, o Salado e o Carcarañá, e na margem esquerda o Iguaçu, com o qual, na confluência que é ao mesmo tempo argentina, brasileira e paraguaia, forma as famosas cataratas, num arco de quatro mil metros.\\nO rio Paraguai só tem um pequeno trecho argentino, de margem direita, na fronteira das províncias de Chaco e Formosa com o Paraguai, mas juntamente com seus afluentes Pilcomayo e Bermejo inunda as planícies da região na época das chuvas, criando lagunas e banhados. Já o rio Uruguai marca as fronteiras de Misiones, Corrientes e Entre Rios com o Brasil (Rio Grande do Sul) e o Uruguai. Na maior parte desse percurso é navegável.\\nMuitos dos rios da vertente atlântica que correm na Patagônia, ou se dirigem para essa região, têm poucos afluentes, com o traço peculiar de irem perdendo parte de suas águas à medida que avançam. Os principais são o Colorado, o Negro (formado pelo Neuquén e Limay), o Chubut, o Deseado e o Chico, este nas imediações da Terra do Fogo.\\nNo interior mais árido e plano são muitas as pequenas bacias hidrográficas que não chegam ao mar. No planalto de Atacama, de chuvas escassas e águas que provêm do degelo de altos picos da cordilheira, diversos rios têm curso intermitente ou desaparecem, quer nas lagoas, quer no meio de um dos numerosos salares, depósitos salinos comuns no oeste e, sobretudo noroeste do país. Das planícies do Chaco, só conseguem sair o Pilcomayo, o Teuco e o Bermejo, que terminam no rio Paraguai, ou o Corrientes, que mergulha no Paraná. Muitos dos rios de importância econômica nos Pampas, por se prestarem a obras de irrigação, esgotam-se sob a intensa evaporação ou absorção pelos solos arenosos.\\nMais ao sul, na província de Mendoza, há uma ampla bacia interna formada por rios e riachos que descem dos Andes e raramente chegam às províncias vizinhas de La Pampa e Neuquén. Por isso o lugar tem o nome de Desaguadero (Desaguadouro), mas outros há parecidos, nos planaltos patagônicos. A vertente do Pacífico também tem início no segmento dos Andes que passa por Mendoza, entre os meridianos 30ºW e 35ºW: são cursos de água pequenos que começam no alto da cordilheira, atravessando o estreito território do Chile.\\nBastante representativos da paisagem física argentina no sul dos Andes são os lagos e lagoas, mais de 400, alguns de grande beleza e interesse turístico, como o Nahuel Huapí, junto ao qual fica San Carlos de Bariloche, dentro de esplêndido parque nacional. Há ainda o Colhué Huapí e o Buenos Aires, na província de Chubut; na de Santa Cruz, o San Martín, o Argentino, o Cardiel, o Viedma; e, na Terra do Fogo, o Fagnano.\\n\\nVegetação[editar | editar código-fonte]\\n  A corticeira é a flor-símbolo da Argentina e Uruguai.\\nHá uma grande diversidade de flora e fauna no território argentino, diretamente determinada pelas correspondentes diferenças de clima, solo e outras condições materiais. No norte da Mesopotâmia argentina, quente e úmido, predominam as matas subtropicais, em que se identificam espécies como o cedro, o ipê, a erva-mate, o pinheiro, as longas samambaias, bambus e cipós. Junto ao leito dos rios, essa vegetação se estende até a parte sul da planície mesopotâmica.\\nNo Chaco, a paisagem mais constante é parecida com a do cerrado brasileiro, coberta de gramíneas e palmeiras esparsas. Destaca-se na parte mais chuvosa ou junto aos rios a ocorrência de quebracho, o principal item da exploração florestal do país, e outras madeiras úteis, como lapacho e urundaí. Áreas desérticas e semidesérticas encontram-se nos Andes, na Patagônia extra-andina e a sudoeste do Chaco. Paraíso das gramíneas, a região dos Pampas quase não tem árvores. No leste mais seco, chega a abrigar plantas especialmente adaptadas à aridez, compondo às vezes um matagal arbustivo intermitente.\\n\\nFauna[editar | editar código-fonte]\\nA fauna argentina apresenta muitas das espécies características da América do Sul, embora menos variada que nas regiões tropicais. Há grande quantidade de aves, répteis e roedores. Entre os mamíferos estão à onça-pintada, a suçuarana, o gato-dos-pampas. Há raposas em várias regiões e, na mata subtropical, o macaco guariba é bastante encontrado, bem como a doninha, a anta, o tamanduá-bandeira, o tatu, diversas espécies de cervo e, nas regiões andinas, a lhama, a alpaca, a vicunha e o guanaco.\\nA ordem dos roedores é bem representada, com capivaras e vários tipos de coelho. Os répteis incluem a jibóia e peçonhentas como a cobra-coral e a cascavel, além de jacarés e lagartos. São particularmente numerosas as espécies de aves, de muitos papagaios e poucas emas e gansos selvagens, garças, gaviões e, no alto dos Andes, o condor. No extremo sul do país, a fauna do litoral gelado conta com muitas das espécies peculiares a essa paisagem, como os pinguins, as focas, os lobos-marinhos.\\n\\nLocalização[editar | editar código-fonte]\\nLocalização - sul da América do Sul, com litorais no oceano Atlântico sul, entre o Chile e o Uruguai\\nCoordenadas geográficas - 34º 00' S, 64º 00' W\\nReferências cartográficas - América do Sul\\n\\nFronteiras[editar | editar código-fonte]\\nÁrea\\n\\ntotal - 2 766 890 km²\\nterra - 2 736 692&#160;km²\\nágua - 30 200&#160;km²\\nFronteiras terrestres\\n\\ntotal - 9665&#160;km\\npaíses fronteiriços\\nChile - 5150&#160;km\\nParaguai - 1880&#160;km\\nBrasil - 1224&#160;km\\nBolívia - 832&#160;km\\nUruguai - 579&#160;km\\nCosta - 4 989&#160;km\\n\\nHidrografia[editar | editar código-fonte]\\nReivindicações marítimas\\n\\nzona contígua - 24 milhas náuticas\\nplataforma continental - 200 milhas náuticas ou até à orla do talude continental\\nzona económica exclusiva - 200 milhas náuticas\\náguas territoriais - 12 milhas náuticas\\n\\n\\nTopografia[editar | editar código-fonte]\\nTerreno - ricas planícies das Pampas na metade norte, planalto plano a ondulado da Patagónia no sul, montanhas escarpadas dos Andes ao longo da fronteira ocidental\\nExtremos de elevação\\n\\nponto mais baixo: Laguna del Carbon - -105 m (situada entre Puerto San Julián e Comandante Luís Piedra Buena, na província de Santa Cruz)\\nponto mais elevado: Aconcágua - 6 960 m\\nMeio ambiente[editar | editar código-fonte]\\n  Mapa da Argentina com o território Antárctico.\\nPerigos naturais - áreas de San Miguel de Tucumán e Mendoza, nos Andes, sujeitas a sismos; pamperos são tempestades com ventos violentos que podem atingir as Pampas e o nordeste; grandes inundações\\nAmbiente - problemas atuais - problemas ambientais (urbanos e rurais) típicos de uma economia em industrialização, como a degradação dos solos, a desertificação, a poluição do ar e da água\\n\\nnota - a Argentina é líder mundial no estabelecimento voluntário de metas para a redução dos gases de estufa\\nAmbiente - acordos internacionais\\n\\né parte de\\nTratado da Antártida\\nAntártico - Protocolo Ambiental\\nBiodiversidade\\nMudanças Climáticas\\nDesertificação\\nEspécies Ameaçadas\\nModificação Ambiental\\nResíduos Perigosos\\nLei do Mar\\nDespejos Marinhos\\nBanimento de Testes Nucleares\\nProteção da Camada de Ozonio\\nPoluição Provocada por Navios\\nZonas Húmidas\\nCaça à Baleia\\nassinou mas não ratificou\\nMudanças Climáticas - Protocolo de Quioto\\nConservação da Vida Marinha\\nOutros dados[editar | editar código-fonte]\\nRecursos naturais - planícies férteis das Pampas, chumbo, zinco, estanho, cobre, minério de ferro, manganês, petróleo, urânio\\nUso da terra\\n\\nterra arável - 9%\\ncultivo permanente - 1%\\npastagens permanentes - 52%\\nflorestas - 19%\\noutros - 19% (estimativas de 1993)\\nTerra irrigada - 17 000&#160;km² (est. 1993)\\n\\nRegiões geográficas[editar | editar código-fonte]\\nA Argentina é usualmente dividida em sete regiões geográficas, de acordo com as características de clima e relevo de cada uma. São elas:\\n\\nNoroeste\\nChaco\\nMesopotâmia\\nCuyo\\nPampa\\nPatagônia\\nCordilheira dos Andes\\nBibliografia[editar | editar código-fonte]\\nNova Enciclopédia Barsa: Macropédia. São Paulo: Encyclopædia Britannica do Brasil Publicações, 1998. v. 2, p.&#160;7-9. ISBN 85-7026-443-7\\nLigações externas[editar | editar código-fonte]\\n«Argentina no WikiMapia»&#160;\\n«Argentina no Brasil Escola»&#160;\\n\\n\\n\\n\\n\\nArgentina\\n\\n\\nBandeira&#160;&#8226; Brasão&#160;&#8226; Hino&#160;&#8226;   Cinema&#160;&#8226;  Culinária&#160;&#8226; Cultura&#160;&#8226; Demografia&#160;&#8226;  Economia&#160;&#8226;  Forças&#160;Armadas&#160;&#8226; Geografia&#160;&#8226; História&#160;&#8226;   Portal&#160;&#8226; Política&#160;&#8226;    Subdivisões&#160;&#8226; Transportes&#160;&#8226; Turismo&#160;&#8226; Imagens\\n\\nvdeGeografia da América do SulElementos e características\\nCordilheira dos Andes\\nAltiplano andino\\nPlanalto das Guianas\\nPlanalto Brasileiro\\nPlanícies e Terras Baixas Amazônicas\\nPlanalto Atlântico\\nEstreito de Magalhães\\nDeserto do Atacama\\nAquífero Guarani\\nRio Orinoco\\nRio Amazonas\\nRio da Prata\\nBacia Platina\\nBacia Amazônica\\nAmazônia\\nCone Sul\\nPampas\\nPatagônia\\nChaco+Pantanal\\nAmérica Platina\\nAmérica Andina\\nNorte da América do Sul\\nCaribe sul-americano\\nGuianas\\nPontos extremos\\nPor país e territórioGeografia  geral\\nArgentina\\nBolívia\\nBrasil\\nChile\\nColômbia\\nEquador\\nGuiana\\nParaguai\\nPeru\\nSuriname\\nUruguai\\nVenezuela\\nGuiana Francesa\\nIlhas Geórgia do Sul e Sanduíche do Sul\\nIlhas Malvinas\\nRelevo\\nArgentina\\nBolívia\\nBrasil\\nChile\\nColômbia\\nEquador\\nGuiana\\nParaguai\\nPeru\\nSuriname\\nUruguai\\nVenezuela\\nGuiana Francesa\\nIlhas Geórgia do Sul e Sanduíche do Sul\\nIlhas Malvinas\\nHidrografia\\nArgentina\\nBolívia\\nBrasil\\nChile\\nColômbia\\nEquador\\nGuiana\\nParaguai\\nPeru\\nSuriname\\nUruguai\\nVenezuela\\nGuiana Francesa\\nIlhas Geórgia do Sul e Sanduíche do Sul\\nIlhas Malvinas\\nVegetação\\nArgentina\\nBolívia\\nBrasil\\nChile\\nColômbia\\nEquador\\nGuiana\\nParaguai\\nPeru\\nSuriname\\nUruguai\\nVenezuela\\nGuiana Francesa\\nIlhas Geórgia do Sul e Sanduíche do Sul\\nIlhas Malvinas\\nClima\\nArgentina\\nBolívia\\nBrasil\\nChile\\nColômbia\\nEquador\\nGuiana\\nParaguai\\nPeru\\nSuriname\\nUruguai\\nVenezuela\\nGuiana Francesa\\nIlhas Geórgia do Sul e Sanduíche do Sul\\nIlhas Malvinas\\nFronteiras\\nArgentina\\nBolívia\\nBrasil\\nChile\\nColômbia\\nEquador\\nGuiana\\nParaguai\\nPeru\\nSuriname\\nUruguai\\nVenezuela\\nGuiana Francesa\\nIlhas Geórgia do Sul e Sanduíche do Sul\\nIlhas Malvinas\\nFauna\\nArgentina\\nBolívia\\nBrasil\\nChile\\nColômbia\\nEquador\\nGuiana\\nParaguai\\nPeru\\nSuriname\\nUruguai\\nVenezuela\\nGuiana Francesa\\nIlhas Geórgia do Sul e Sanduíche do Sul\\nIlhas Malvinas\\nDemografia\\nArgentina\\nBolívia\\nBrasil\\nChile\\nColômbia\\nEquador\\nGuiana\\nParaguai\\nPeru\\nSuriname\\nUruguai\\nVenezuela\\nGuiana Francesa\\nIlhas Geórgia do Sul e Sanduíche do Sul\\nIlhas Malvinas\\nSubdivisões\\nArgentina\\nBolívia\\nBrasil\\nChile\\nColômbia\\nEquador\\nGuiana\\nParaguai\\nPeru\\nSuriname\\nUruguai\\nVenezuela\\nGuiana Francesa\\nIlhas Geórgia do Sul e Sanduíche do Sul\\nIlhas Malvinas\\n Portal América do Sul\\n Portal da geografia         \\nvdeGeografia da América do SulElementos e características\\nCordilheira dos Andes\\nAltiplano andino\\nPlanalto das Guianas\\nPlanalto Brasileiro\\nPlanícies e Terras Baixas Amazônicas\\nPlanalto Atlântico\\nEstreito de Magalhães\\nDeserto do Atacama\\nAquífero Guarani\\nRio Orinoco\\nRio Amazonas\\nRio da Prata\\nBacia Platina\\nBacia Amazônica\\nAmazônia\\nCone Sul\\nPampas\\nPatagônia\\nChaco+Pantanal\\nAmérica Platina\\nAmérica Andina\\nNorte da América do Sul\\nCaribe sul-americano\\nGuianas\\nPontos extremos\\nPor país e territórioGeografia  geral\\nArgentina\\nBolívia\\nBrasil\\nChile\\nColômbia\\nEquador\\nGuiana\\nParaguai\\nPeru\\nSuriname\\nUruguai\\nVenezuela\\nGuiana Francesa\\nIlhas Geórgia do Sul e Sanduíche do Sul\\nIlhas Malvinas\\nRelevo\\nArgentina\\nBolívia\\nBrasil\\nChile\\nColômbia\\nEquador\\nGuiana\\nParaguai\\nPeru\\nSuriname\\nUruguai\\nVenezuela\\nGuiana Francesa\\nIlhas Geórgia do Sul e Sanduíche do Sul\\nIlhas Malvinas\\nHidrografia\\nArgentina\\nBolívia\\nBrasil\\nChile\\nColômbia\\nEquador\\nGuiana\\nParaguai\\nPeru\\nSuriname\\nUruguai\\nVenezuela\\nGuiana Francesa\\nIlhas Geórgia do Sul e Sanduíche do Sul\\nIlhas Malvinas\\nVegetação\\nArgentina\\nBolívia\\nBrasil\\nChile\\nColômbia\\nEquador\\nGuiana\\nParaguai\\nPeru\\nSuriname\\nUruguai\\nVenezuela\\nGuiana Francesa\\nIlhas Geórgia do Sul e Sanduíche do Sul\\nIlhas Malvinas\\nClima\\nArgentina\\nBolívia\\nBrasil\\nChile\\nColômbia\\nEquador\\nGuiana\\nParaguai\\nPeru\\nSuriname\\nUruguai\\nVenezuela\\nGuiana Francesa\\nIlhas Geórgia do Sul e Sanduíche do Sul\\nIlhas Malvinas\\nFronteiras\\nArgentina\\nBolívia\\nBrasil\\nChile\\nColômbia\\nEquador\\nGuiana\\nParaguai\\nPeru\\nSuriname\\nUruguai\\nVenezuela\\nGuiana Francesa\\nIlhas Geórgia do Sul e Sanduíche do Sul\\nIlhas Malvinas\\nFauna\\nArgentina\\nBolívia\\nBrasil\\nChile\\nColômbia\\nEquador\\nGuiana\\nParaguai\\nPeru\\nSuriname\\nUruguai\\nVenezuela\\nGuiana Francesa\\nIlhas Geórgia do Sul e Sanduíche do Sul\\nIlhas Malvinas\\nDemografia\\nArgentina\\nBolívia\\nBrasil\\nChile\\nColômbia\\nEquador\\nGuiana\\nParaguai\\nPeru\\nSuriname\\nUruguai\\nVenezuela\\nGuiana Francesa\\nIlhas Geórgia do Sul e Sanduíche do Sul\\nIlhas Malvinas\\nSubdivisões\\nArgentina\\nBolívia\\nBrasil\\nChile\\nColômbia\\nEquador\\nGuiana\\nParaguai\\nPeru\\nSuriname\\nUruguai\\nVenezuela\\nGuiana Francesa\\nIlhas Geórgia do Sul e Sanduíche do Sul\\nIlhas Malvinas\\n Portal América do Sul\\n<!-- \\nNewPP limit report\\nParsed by mw1371\\nCached time: 20210601195424\\nCache expiry: 1814400\\nReduced expiry: false\\nComplications: []\\nCPU time usage: 1.268 seconds\\nReal time usage: 1.407 seconds\\nPreprocessor visited node count: 7053/1000000\\nPost‐expand include size: 101348/2097152 bytes\\nTemplate argument size: 16842/2097152 bytes\\nHighest expansion depth: 30/40\\nExpensive parser function count: 20/500\\nUnstrip recursion depth: 0/20\\nUnstrip post‐expand size: 25884/5000000 bytes\\nLua time usage: 0.538/10.000 seconds\\nLua memory usage: 3471143/52428800 bytes\\nNumber of Wikibase entities loaded: 0/400\\n-->\\n<!--\\nTransclusion expansion time report (%,ms,calls,template)\\n100.00% 1197.619      1 -total\\n 41.70%  499.402      1 Predefinição:Info/País/geografia_física\\n 40.28%  482.433      1 Predefinição:Info\\n 39.19%  469.403      1 Predefinição:Sem_notas\\n 36.56%  437.864      1 Predefinição:Ambox\\n 14.64%  175.343      1 Predefinição:ContaParams\\n 11.35%  135.950      1 Predefinição:Coor_dm\\n 11.09%  132.866      1 Predefinição:Coor_dms\\n  9.70%  116.155     41 Predefinição:Argvar\\n  7.59%   90.919      1 Predefinição:Portal3\\n-->\\n\\n<!-- Saved in parser cache with key ptwiki:pcache:idhash:22911-0!canonical and timestamp 20210601195423 and revision id 57944808. Serialized with JSON.\\n -->\\n\""
      ]
     },
     "execution_count": 58,
     "metadata": {},
     "output_type": "execute_result"
    }
   ],
   "source": [
    "t"
   ]
  }
 ],
 "metadata": {
  "interpreter": {
   "hash": "e40f5302c6d4b9de2141353283620edefcabae1dbe23ed7117377b1c1ce32e40"
  },
  "kernelspec": {
   "display_name": "Python 3.8.10 64-bit ('tcc-venv': venv)",
   "name": "python3"
  },
  "language_info": {
   "codemirror_mode": {
    "name": "ipython",
    "version": 3
   },
   "file_extension": ".py",
   "mimetype": "text/x-python",
   "name": "python",
   "nbconvert_exporter": "python",
   "pygments_lexer": "ipython3",
   "version": "3.8.10"
  },
  "orig_nbformat": 4
 },
 "nbformat": 4,
 "nbformat_minor": 2
}