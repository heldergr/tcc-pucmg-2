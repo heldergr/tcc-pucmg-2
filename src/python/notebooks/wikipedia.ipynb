{
 "cells": [
  {
   "cell_type": "markdown",
   "metadata": {},
   "source": [
    "# Exploração - Wikipedia"
   ]
  },
  {
   "cell_type": "code",
   "execution_count": 22,
   "metadata": {},
   "outputs": [],
   "source": [
    "from repository.mongo_utils import get_pages_content_collection\n",
    "from repository.wikipedia import WikipediaRepo\n",
    "\n",
    "wikipedia_repo = WikipediaRepo(collection=get_pages_content_collection())"
   ]
  },
  {
   "cell_type": "code",
   "execution_count": 23,
   "metadata": {},
   "outputs": [],
   "source": [
    "import pandas as pd\n",
    "import numpy as np\n",
    "import seaborn as sns"
   ]
  },
  {
   "cell_type": "markdown",
   "metadata": {},
   "source": [
    "### Obter todas as páginsa"
   ]
  },
  {
   "cell_type": "code",
   "execution_count": 24,
   "metadata": {},
   "outputs": [],
   "source": [
    "pages = wikipedia_repo.find_all()"
   ]
  },
  {
   "cell_type": "code",
   "execution_count": 25,
   "metadata": {},
   "outputs": [
    {
     "data": {
      "text/html": [
       "<div>\n",
       "<style scoped>\n",
       "    .dataframe tbody tr th:only-of-type {\n",
       "        vertical-align: middle;\n",
       "    }\n",
       "\n",
       "    .dataframe tbody tr th {\n",
       "        vertical-align: top;\n",
       "    }\n",
       "\n",
       "    .dataframe thead th {\n",
       "        text-align: right;\n",
       "    }\n",
       "</style>\n",
       "<table border=\"1\" class=\"dataframe\">\n",
       "  <thead>\n",
       "    <tr style=\"text-align: right;\">\n",
       "      <th></th>\n",
       "      <th>pageid</th>\n",
       "      <th>title</th>\n",
       "      <th>country</th>\n",
       "      <th>text</th>\n",
       "    </tr>\n",
       "  </thead>\n",
       "  <tbody>\n",
       "    <tr>\n",
       "      <th>0</th>\n",
       "      <td>22911</td>\n",
       "      <td>Geografia da Argentina</td>\n",
       "      <td>Argentina</td>\n",
       "      <td>&lt;div class=\"mw-parser-output\"&gt;&lt;style data-mw-d...</td>\n",
       "    </tr>\n",
       "    <tr>\n",
       "      <th>1</th>\n",
       "      <td>1996157</td>\n",
       "      <td>Banco Namuncurá</td>\n",
       "      <td>Argentina</td>\n",
       "      <td>&lt;div class=\"mw-parser-output\"&gt;&lt;style data-mw-d...</td>\n",
       "    </tr>\n",
       "    <tr>\n",
       "      <th>2</th>\n",
       "      <td>1393635</td>\n",
       "      <td>Campo de gelo do sul da Patagónia</td>\n",
       "      <td>Argentina</td>\n",
       "      <td>&lt;div class=\"mw-parser-output\"&gt;&lt;style data-mw-d...</td>\n",
       "    </tr>\n",
       "    <tr>\n",
       "      <th>3</th>\n",
       "      <td>3425259</td>\n",
       "      <td>Cerro de la Gloria</td>\n",
       "      <td>Argentina</td>\n",
       "      <td>&lt;div class=\"mw-parser-output\"&gt;&lt;style data-mw-d...</td>\n",
       "    </tr>\n",
       "    <tr>\n",
       "      <th>4</th>\n",
       "      <td>1753443</td>\n",
       "      <td>Chaco Austral</td>\n",
       "      <td>Argentina</td>\n",
       "      <td>&lt;div class=\"mw-parser-output\"&gt;&lt;div style=\"righ...</td>\n",
       "    </tr>\n",
       "  </tbody>\n",
       "</table>\n",
       "</div>"
      ],
      "text/plain": [
       "    pageid                              title    country  \\\n",
       "0    22911             Geografia da Argentina  Argentina   \n",
       "1  1996157                    Banco Namuncurá  Argentina   \n",
       "2  1393635  Campo de gelo do sul da Patagónia  Argentina   \n",
       "3  3425259                 Cerro de la Gloria  Argentina   \n",
       "4  1753443                      Chaco Austral  Argentina   \n",
       "\n",
       "                                                text  \n",
       "0  <div class=\"mw-parser-output\"><style data-mw-d...  \n",
       "1  <div class=\"mw-parser-output\"><style data-mw-d...  \n",
       "2  <div class=\"mw-parser-output\"><style data-mw-d...  \n",
       "3  <div class=\"mw-parser-output\"><style data-mw-d...  \n",
       "4  <div class=\"mw-parser-output\"><div style=\"righ...  "
      ]
     },
     "execution_count": 25,
     "metadata": {},
     "output_type": "execute_result"
    }
   ],
   "source": [
    "pages_df = pd.DataFrame(pages)\n",
    "pages_df = pages_df.drop(['_id', 'ns', 'type', 'download', 'categories', 'wikitext'], axis='columns')\n",
    "pages_df.head()"
   ]
  },
  {
   "cell_type": "markdown",
   "metadata": {},
   "source": [
    "### Contagem de posts"
   ]
  },
  {
   "cell_type": "code",
   "execution_count": 26,
   "metadata": {},
   "outputs": [
    {
     "name": "stdout",
     "output_type": "stream",
     "text": [
      "Foram encontradas 2252 páginas com contéudo\n"
     ]
    }
   ],
   "source": [
    "print(f'Foram encontradas {len(pages_df)} páginas com contéudo')"
   ]
  },
  {
   "cell_type": "markdown",
   "metadata": {},
   "source": [
    "## Exploração antes da limpeza"
   ]
  },
  {
   "cell_type": "markdown",
   "metadata": {},
   "source": [
    "### Tamanho médio dos documentos"
   ]
  },
  {
   "cell_type": "code",
   "execution_count": 27,
   "metadata": {},
   "outputs": [],
   "source": [
    "def describe_lengths(lenghts):\n",
    "    print(\"Measures of Central Tendency\")\n",
    "    print(\"Mean =\", np.mean(lenghts))\n",
    "    print(\"Median =\", np.median(lenghts))\n",
    "    print(\"Measures of Dispersion\")\n",
    "    print(\"Minimum =\", np.amin(lenghts))\n",
    "    print(\"Maximum =\", np.amax(lenghts))\n",
    "    print(\"Range =\", np.ptp(lenghts))\n",
    "    print(\"Varience =\", np.var(lenghts))\n",
    "    print(\"Standard Deviation =\", np.std(lenghts))"
   ]
  },
  {
   "cell_type": "code",
   "execution_count": 28,
   "metadata": {},
   "outputs": [],
   "source": [
    "text_lengths = pages_df['text'].apply(len)\n",
    "pages_df['raw_length'] = text_lengths"
   ]
  },
  {
   "cell_type": "markdown",
   "metadata": {},
   "source": [
    "Algumas considerações\n",
    "\n",
    "- Tamanho mínimo de 799 incluindo tags html indica que pode haver documentos muito pequenos\n",
    "- Desvio padrão maior que a média indica que pode haver uma variação muito grande nos tamanhos dos documentos\n",
    "    * Verificar quantiles para ver a variação por quartis"
   ]
  },
  {
   "cell_type": "code",
   "execution_count": 29,
   "metadata": {},
   "outputs": [
    {
     "name": "stdout",
     "output_type": "stream",
     "text": [
      "Measures of Central Tendency\n",
      "Mean = 34514.03285968029\n",
      "Median = 30754.0\n",
      "Measures of Dispersion\n",
      "Minimum = 799\n",
      "Maximum = 753196\n",
      "Range = 752397\n",
      "Varience = 1405580144.044213\n",
      "Standard Deviation = 37491.067523401\n"
     ]
    }
   ],
   "source": [
    "describe_lengths(text_lengths)"
   ]
  },
  {
   "cell_type": "code",
   "execution_count": 30,
   "metadata": {},
   "outputs": [
    {
     "data": {
      "text/plain": [
       "array([   799.  ,  13731.25,  30754.  ,  41868.25,  60785.2 ,  82336.4 ,\n",
       "       753196.  ])"
      ]
     },
     "execution_count": 30,
     "metadata": {},
     "output_type": "execute_result"
    }
   ],
   "source": [
    "np.quantile(text_lengths, [0, 0.25, 0.5, 0.75, 0.9, 0.95, 1])"
   ]
  },
  {
   "cell_type": "markdown",
   "metadata": {},
   "source": [
    "#### Verificar distribuição de tamanhos de documentos"
   ]
  },
  {
   "cell_type": "code",
   "execution_count": 31,
   "metadata": {},
   "outputs": [
    {
     "data": {
      "text/plain": [
       "<seaborn.axisgrid.FacetGrid at 0x7f2da2c369a0>"
      ]
     },
     "execution_count": 31,
     "metadata": {},
     "output_type": "execute_result"
    },
    {
     "data": {
      "image/png": "[encoded data removed]",
      "text/plain": [
       "<Figure size 360x360 with 1 Axes>"
      ]
     },
     "metadata": {
      "needs_background": "light"
     },
     "output_type": "display_data"
    }
   ],
   "source": [
    "sns.displot(pages_df, x='raw_length')"
   ]
  },
  {
   "cell_type": "code",
   "execution_count": 32,
   "metadata": {},
   "outputs": [
    {
     "data": {
      "text/plain": [
       "(69, 5)"
      ]
     },
     "execution_count": 32,
     "metadata": {},
     "output_type": "execute_result"
    }
   ],
   "source": [
    "# Analisar documentos acima de 100000 caracteres\n",
    "pages_df_acima_100k = pages_df[pages_df['raw_length'] >= 100000]\n",
    "pages_df_acima_100k.shape"
   ]
  },
  {
   "cell_type": "markdown",
   "metadata": {},
   "source": [
    "## Limpeza de dados"
   ]
  },
  {
   "cell_type": "code",
   "execution_count": 33,
   "metadata": {},
   "outputs": [],
   "source": [
    "from limpeza.limpeza_texto import remover_html_tags\n",
    "\n",
    "import re"
   ]
  },
  {
   "cell_type": "code",
   "execution_count": 38,
   "metadata": {},
   "outputs": [],
   "source": [
    "texts = pages_df['text'].values\n",
    "texto = texts[0] \n"
   ]
  },
  {
   "cell_type": "markdown",
   "metadata": {},
   "source": [
    "### Primeira  tentativa - removendo elementos individualmente"
   ]
  },
  {
   "cell_type": "code",
   "execution_count": 95,
   "metadata": {},
   "outputs": [
    {
     "name": "stdout",
     "output_type": "stream",
     "text": [
      "Tamanho do texto : 29919/140685\n"
     ]
    }
   ],
   "source": [
    "t = remover_html_tags(texto)\n",
    "t = re.sub('body\\.skin\\-[a-z]+ ', '', t)\n",
    "t = re.sub('.mw\\-parser-[a-z]+ ', '', t)\n",
    "t = re.sub('t[hd]\\.mbox\\-[a-z]+[ ,]', '', t)\n",
    "t = re.sub('table\\.[acfiot]mbox,', '', t)\n",
    "t = re.sub('table\\.[acfiot]mbox\\-[a-z]+,', '', t)\n",
    "t = re.sub('\\.[ait]mbox[ ,]', '', t)\n",
    "t = re.sub('\\.mbox\\-[a-z]+[ ,]', '', t)\n",
    "t = re.sub('\\.tmbox\\.mbox\\-[a-z]+[ ,]', '', t)\n",
    "t = re.sub('\\.mediawiki ', '', t)\n",
    "t = re.sub('\\.compact-ambox[ ,]', '', t)\n",
    "\n",
    "print(f'Tamanho do texto : {len(t)}/{len(texto)}')\n"
   ]
  },
  {
   "cell_type": "markdown",
   "metadata": {},
   "source": [
    "### Segunda tentativa\n",
    "\n",
    "- Peguei o conteúdo html, colei em um formatador externo e decidi tomar as seguintes ações\n",
    "    * Remover tag ```<scripts>``` e todo seu conteúdo interno"
   ]
  },
  {
   "cell_type": "code",
   "execution_count": null,
   "metadata": {},
   "outputs": [],
   "source": [
    "re"
   ]
  },
  {
   "cell_type": "code",
   "execution_count": 101,
   "metadata": {},
   "outputs": [],
   "source": [
    "# Pegando segundo texto, que tem tamanho 33027, mais perto da media\n",
    "# [len(t) for t in texts[:20]]\n",
    "\n",
    "texto = texts[3]"
   ]
  },
  {
   "cell_type": "code",
   "execution_count": 86,
   "metadata": {},
   "outputs": [
    {
     "name": "stdout",
     "output_type": "stream",
     "text": [
      "Tamanho do texto apos remocao de estilos: 7185/33027. Aproximadamente 21.75% mantido\n",
      "Tamanho do texto apos remocao conteudo: 3799/33027. Aproximadamente 11.50% mantido\n"
     ]
    }
   ],
   "source": [
    "t = re.sub('<style .*?style>', '', texto) # Removendo tag de estilos\n",
    "print(f'Tamanho do texto apos remocao de estilos: {len(t)}/{len(texto)}. Aproximadamente {(len(t)/len(texto)) * 100:.2f}% mantido')\n",
    "\n",
    "t = re.sub('\\n', '', t)\n",
    "t = re.sub('<table class=\"box-Sem_fontes.*?/table>', '', t)\n",
    "t = re.sub('<!--.*?-->', '', t) # Remover comentarios\n",
    "print(f'Tamanho do texto apos remocao conteudo: {len(t)}/{len(texto)}. Aproximadamente {(len(t)/len(texto)) * 100:.2f}% mantido')\n"
   ]
  },
  {
   "cell_type": "markdown",
   "metadata": {},
   "source": [
    "## Extração de parágrafos\n",
    "\n",
    "Após conseguir remover um pouco de texto na tentativa 2 anterior vamos extrair apenas textos de parágrafos e ver como fica o resultado. Um risco nesta abordagem é tirar conteúdos interessantes de tabelas ou listas mas deixar este problema de lado por enquanto.\n",
    "\n",
    "- **Vou ignorar inclusive a limpeza de texto feito previamente e ir direto aos parágrafos.**\n",
    "- **Avaliar possibilidade de pegar conteúdo <pre></pre>.**\n",
    "\n",
    "- Uma análise posterior de tamanho dos documentos deve ser feita\n",
    "- Deve-se remover tags html de dentro dos parágrafos pois estes podem conter elementos como links ou spans\n",
    "    * **Isto é bem resolvido pelo método getText() do BeautifulSoup quando aplicado ao elemento p**"
   ]
  },
  {
   "cell_type": "code",
   "execution_count": 88,
   "metadata": {},
   "outputs": [],
   "source": [
    "from bs4 import BeautifulSoup"
   ]
  },
  {
   "cell_type": "code",
   "execution_count": 102,
   "metadata": {},
   "outputs": [],
   "source": [
    "soup = BeautifulSoup(texto, 'html.parser')"
   ]
  },
  {
   "cell_type": "code",
   "execution_count": 103,
   "metadata": {},
   "outputs": [],
   "source": [
    "ps = soup.find_all('p')"
   ]
  },
  {
   "cell_type": "code",
   "execution_count": 104,
   "metadata": {},
   "outputs": [
    {
     "data": {
      "text/plain": [
       "['\\nPico  da Glória é um morro (cerro) próximo a cidade argentina de Mendoza, quase na divisa com o Chile. Seu nome original, “Monte Pilar” (Cerro del Pilar) foi transformado no atual  por decreto do poder Executivo no dia 30 de janeiro de 1913.  Sobre o monte há um monumento com o mesmo nome -  Morro da Glória -  em homenagem à vitória do exército do general José de San Martin, que atravessou a cordilheira dos Andes entre os dias 12 de janeiro e 8 de fevereiro de 1817, para vencer  tropas espanholas que resistiam à independência Argentina. Vencendo os espanhóis, San Martin acabou promovendo a independência do Peru e do Chile, mas, os revolucionários,  cuja liderança era disputada entre Montevidéu e Buenos Aires, acabou perdendo  o Alto Peru, atual Bolívia e a Banda Oriental, atual Uruguai, este último\\n']"
      ]
     },
     "execution_count": 104,
     "metadata": {},
     "output_type": "execute_result"
    }
   ],
   "source": [
    "[p.getText() for p in ps]"
   ]
  },
  {
   "cell_type": "code",
   "execution_count": 100,
   "metadata": {},
   "outputs": [
    {
     "data": {
      "text/html": [
       "<div>\n",
       "<style scoped>\n",
       "    .dataframe tbody tr th:only-of-type {\n",
       "        vertical-align: middle;\n",
       "    }\n",
       "\n",
       "    .dataframe tbody tr th {\n",
       "        vertical-align: top;\n",
       "    }\n",
       "\n",
       "    .dataframe thead th {\n",
       "        text-align: right;\n",
       "    }\n",
       "</style>\n",
       "<table border=\"1\" class=\"dataframe\">\n",
       "  <thead>\n",
       "    <tr style=\"text-align: right;\">\n",
       "      <th></th>\n",
       "      <th>pageid</th>\n",
       "      <th>title</th>\n",
       "      <th>country</th>\n",
       "      <th>text</th>\n",
       "      <th>raw_length</th>\n",
       "    </tr>\n",
       "  </thead>\n",
       "  <tbody>\n",
       "    <tr>\n",
       "      <th>0</th>\n",
       "      <td>22911</td>\n",
       "      <td>Geografia da Argentina</td>\n",
       "      <td>Argentina</td>\n",
       "      <td>&lt;div class=\"mw-parser-output\"&gt;&lt;style data-mw-d...</td>\n",
       "      <td>140685</td>\n",
       "    </tr>\n",
       "    <tr>\n",
       "      <th>1</th>\n",
       "      <td>1996157</td>\n",
       "      <td>Banco Namuncurá</td>\n",
       "      <td>Argentina</td>\n",
       "      <td>&lt;div class=\"mw-parser-output\"&gt;&lt;style data-mw-d...</td>\n",
       "      <td>33027</td>\n",
       "    </tr>\n",
       "    <tr>\n",
       "      <th>2</th>\n",
       "      <td>1393635</td>\n",
       "      <td>Campo de gelo do sul da Patagónia</td>\n",
       "      <td>Argentina</td>\n",
       "      <td>&lt;div class=\"mw-parser-output\"&gt;&lt;style data-mw-d...</td>\n",
       "      <td>46988</td>\n",
       "    </tr>\n",
       "    <tr>\n",
       "      <th>3</th>\n",
       "      <td>3425259</td>\n",
       "      <td>Cerro de la Gloria</td>\n",
       "      <td>Argentina</td>\n",
       "      <td>&lt;div class=\"mw-parser-output\"&gt;&lt;style data-mw-d...</td>\n",
       "      <td>34210</td>\n",
       "    </tr>\n",
       "    <tr>\n",
       "      <th>4</th>\n",
       "      <td>1753443</td>\n",
       "      <td>Chaco Austral</td>\n",
       "      <td>Argentina</td>\n",
       "      <td>&lt;div class=\"mw-parser-output\"&gt;&lt;div style=\"righ...</td>\n",
       "      <td>35169</td>\n",
       "    </tr>\n",
       "  </tbody>\n",
       "</table>\n",
       "</div>"
      ],
      "text/plain": [
       "    pageid                              title    country  \\\n",
       "0    22911             Geografia da Argentina  Argentina   \n",
       "1  1996157                    Banco Namuncurá  Argentina   \n",
       "2  1393635  Campo de gelo do sul da Patagónia  Argentina   \n",
       "3  3425259                 Cerro de la Gloria  Argentina   \n",
       "4  1753443                      Chaco Austral  Argentina   \n",
       "\n",
       "                                                text  raw_length  \n",
       "0  <div class=\"mw-parser-output\"><style data-mw-d...      140685  \n",
       "1  <div class=\"mw-parser-output\"><style data-mw-d...       33027  \n",
       "2  <div class=\"mw-parser-output\"><style data-mw-d...       46988  \n",
       "3  <div class=\"mw-parser-output\"><style data-mw-d...       34210  \n",
       "4  <div class=\"mw-parser-output\"><div style=\"righ...       35169  "
      ]
     },
     "execution_count": 100,
     "metadata": {},
     "output_type": "execute_result"
    }
   ],
   "source": [
    "pages_df.iloc[:5]"
   ]
  }
 ],
 "metadata": {
  "interpreter": {
   "hash": "e40f5302c6d4b9de2141353283620edefcabae1dbe23ed7117377b1c1ce32e40"
  },
  "kernelspec": {
   "display_name": "Python 3.8.10 64-bit ('tcc-venv': venv)",
   "name": "python3"
  },
  "language_info": {
   "codemirror_mode": {
    "name": "ipython",
    "version": 3
   },
   "file_extension": ".py",
   "mimetype": "text/x-python",
   "name": "python",
   "nbconvert_exporter": "python",
   "pygments_lexer": "ipython3",
   "version": "3.8.10"
  },
  "orig_nbformat": 4
 },
 "nbformat": 4,
 "nbformat_minor": 2
}