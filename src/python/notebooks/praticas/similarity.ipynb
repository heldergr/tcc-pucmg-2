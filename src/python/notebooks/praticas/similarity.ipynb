{
 "cells": [
  {
   "cell_type": "markdown",
   "metadata": {},
   "source": [
    "# LDA and Document Similarity\n",
    "\n",
    "* Referência: <https://www.kaggle.com/ktattan/lda-and-document-similarity>"
   ]
  },
  {
   "cell_type": "code",
   "execution_count": 1,
   "metadata": {},
   "outputs": [],
   "source": [
    "import pandas as pd\n",
    "import numpy as np\n",
    "import nltk\n",
    "from nltk.corpus import stopwords\n",
    "import gensim\n",
    "from gensim.models import LdaModel\n",
    "from gensim import models, corpora, similarities\n",
    "import re\n",
    "from nltk.stem.porter import PorterStemmer\n",
    "import time\n",
    "from nltk import FreqDist\n",
    "from scipy.stats import entropy\n",
    "import matplotlib.pyplot as plt\n",
    "import seaborn as sns\n",
    "sns.set_style(\"darkgrid\")"
   ]
  },
  {
   "cell_type": "code",
   "execution_count": 2,
   "metadata": {},
   "outputs": [
    {
     "data": {
      "text/html": [
       "<div>\n",
       "<style scoped>\n",
       "    .dataframe tbody tr th:only-of-type {\n",
       "        vertical-align: middle;\n",
       "    }\n",
       "\n",
       "    .dataframe tbody tr th {\n",
       "        vertical-align: top;\n",
       "    }\n",
       "\n",
       "    .dataframe thead th {\n",
       "        text-align: right;\n",
       "    }\n",
       "</style>\n",
       "<table border=\"1\" class=\"dataframe\">\n",
       "  <thead>\n",
       "    <tr style=\"text-align: right;\">\n",
       "      <th></th>\n",
       "      <th>uuid</th>\n",
       "      <th>author</th>\n",
       "      <th>title</th>\n",
       "      <th>text</th>\n",
       "      <th>language</th>\n",
       "      <th>site_url</th>\n",
       "      <th>country</th>\n",
       "    </tr>\n",
       "  </thead>\n",
       "  <tbody>\n",
       "    <tr>\n",
       "      <th>0</th>\n",
       "      <td>6d78d782d3c02230b2fb24c1b1232b969e162e34</td>\n",
       "      <td>Doug P.</td>\n",
       "      <td>WHAT bias? James O’Keefe wonders why these ‘jo...</td>\n",
       "      <td>Via Newsbusters : \\nAll three of the networks ...</td>\n",
       "      <td>english</td>\n",
       "      <td>twitchy.com</td>\n",
       "      <td>US</td>\n",
       "    </tr>\n",
       "    <tr>\n",
       "      <th>1</th>\n",
       "      <td>4f540523c3bf835039b9d16a9593213782127fa1</td>\n",
       "      <td>NaN</td>\n",
       "      <td>Paul Ryan: He's the Fiscal Policy Illiterate i...</td>\n",
       "      <td>License DMCA Ryan, Obama, McConnell, Reid, Pel...</td>\n",
       "      <td>english</td>\n",
       "      <td>opednews.com</td>\n",
       "      <td>US</td>\n",
       "    </tr>\n",
       "    <tr>\n",
       "      <th>2</th>\n",
       "      <td>413747da37851f6841c88fac36c7a2a3b6bfe3f4</td>\n",
       "      <td>Jhayla D. Tyson</td>\n",
       "      <td>7 Halloween Treats That Trick Children Into Cl...</td>\n",
       "      <td>It can be toilsome getting children into one c...</td>\n",
       "      <td>english</td>\n",
       "      <td>guardianlv.com</td>\n",
       "      <td>US</td>\n",
       "    </tr>\n",
       "    <tr>\n",
       "      <th>3</th>\n",
       "      <td>21257e74e7aad804fc1f8e4733531ba1bcef028b</td>\n",
       "      <td>The Doc</td>\n",
       "      <td>Report: Huma Abedin’s Emails On Weiner’s Lapto...</td>\n",
       "      <td>Tweet Home » Headlines » World News » Report: ...</td>\n",
       "      <td>english</td>\n",
       "      <td>silverdoctors.com</td>\n",
       "      <td>US</td>\n",
       "    </tr>\n",
       "    <tr>\n",
       "      <th>4</th>\n",
       "      <td>07d540c545b64717b7310caf94beb2c17d984f09</td>\n",
       "      <td>Don Wrightman</td>\n",
       "      <td>YouTube censoring videos – on censorship!</td>\n",
       "      <td>YouTube censoring videos – on censorship! shar...</td>\n",
       "      <td>english</td>\n",
       "      <td>newstarget.com</td>\n",
       "      <td>US</td>\n",
       "    </tr>\n",
       "  </tbody>\n",
       "</table>\n",
       "</div>"
      ],
      "text/plain": [
       "                                       uuid           author  \\\n",
       "0  6d78d782d3c02230b2fb24c1b1232b969e162e34          Doug P.   \n",
       "1  4f540523c3bf835039b9d16a9593213782127fa1              NaN   \n",
       "2  413747da37851f6841c88fac36c7a2a3b6bfe3f4  Jhayla D. Tyson   \n",
       "3  21257e74e7aad804fc1f8e4733531ba1bcef028b          The Doc   \n",
       "4  07d540c545b64717b7310caf94beb2c17d984f09    Don Wrightman   \n",
       "\n",
       "                                               title  \\\n",
       "0  WHAT bias? James O’Keefe wonders why these ‘jo...   \n",
       "1  Paul Ryan: He's the Fiscal Policy Illiterate i...   \n",
       "2  7 Halloween Treats That Trick Children Into Cl...   \n",
       "3  Report: Huma Abedin’s Emails On Weiner’s Lapto...   \n",
       "4          YouTube censoring videos – on censorship!   \n",
       "\n",
       "                                                text language  \\\n",
       "0  Via Newsbusters : \\nAll three of the networks ...  english   \n",
       "1  License DMCA Ryan, Obama, McConnell, Reid, Pel...  english   \n",
       "2  It can be toilsome getting children into one c...  english   \n",
       "3  Tweet Home » Headlines » World News » Report: ...  english   \n",
       "4  YouTube censoring videos – on censorship! shar...  english   \n",
       "\n",
       "            site_url country  \n",
       "0        twitchy.com      US  \n",
       "1       opednews.com      US  \n",
       "2     guardianlv.com      US  \n",
       "3  silverdoctors.com      US  \n",
       "4     newstarget.com      US  "
      ]
     },
     "execution_count": 2,
     "metadata": {},
     "output_type": "execute_result"
    }
   ],
   "source": [
    "df = pd.read_csv('fake.csv', usecols=['uuid','author','title','text','language','site_url','country'])\n",
    "df = df[df.language == 'english']\n",
    "df = df[df['text'].map(type) == str]\n",
    "df['title'].fillna(value=\"\", inplace=True)\n",
    "df.dropna(axis=0, inplace=True, subset=['text'])\n",
    "\n",
    "# shuffle the data\n",
    "df = df.sample(frac=1.0)\n",
    "df.reset_index(drop=True, inplace=True)\n",
    "df.head()"
   ]
  },
  {
   "cell_type": "code",
   "execution_count": 3,
   "metadata": {},
   "outputs": [],
   "source": [
    "def initial_clean(text):\n",
    "    text = re.sub(\"((\\S+)?(http(s)?)(\\S+))|((\\S+)?(www)(\\S+))|((\\S+)?(\\@)(\\S+)?)\", \" \", text)\n",
    "    text = re.sub(\"[^a-zA-Z ]\", \"\", text)\n",
    "    text = text.lower() # lower case the text\n",
    "    text = nltk.word_tokenize(text)\n",
    "    return text\n",
    "\n",
    "stop_words = stopwords.words('english')\n",
    "def remove_stop_words(text):\n",
    "    \"\"\"\n",
    "    Function that removes all stopwords from text\n",
    "    \"\"\"\n",
    "    return [word for word in text if word not in stop_words]\n",
    "\n",
    "stemmer = PorterStemmer()\n",
    "def stem_words(text):\n",
    "    \"\"\"\n",
    "    Function to stem words, so plural and singular are treated the same\n",
    "    \"\"\"\n",
    "    try:\n",
    "        text = [stemmer.stem(word) for word in text]\n",
    "        text = [word for word in text if len(word) > 1] # make sure we have no 1 letter words\n",
    "    except IndexError: # the word \"oed\" broke this, so needed try except\n",
    "        pass\n",
    "    return text\n",
    "\n",
    "def apply_all(text):\n",
    "    \"\"\"\n",
    "    This function applies all the functions above into one\n",
    "    \"\"\"\n",
    "    return stem_words(remove_stop_words(initial_clean(text)))"
   ]
  },
  {
   "cell_type": "code",
   "execution_count": 4,
   "metadata": {},
   "outputs": [],
   "source": [
    "# Run once\n",
    "# nltk.download('punkt')"
   ]
  },
  {
   "cell_type": "code",
   "execution_count": 5,
   "metadata": {},
   "outputs": [
    {
     "name": "stdout",
     "output_type": "stream",
     "text": [
      "Time to clean and tokenize 12357 articles: 1.9941986044247946 min\n"
     ]
    }
   ],
   "source": [
    "# clean text and title and create new column \"tokenized\"\n",
    "t1 = time.time()\n",
    "df['tokenized'] = df['text'].apply(apply_all) + df['title'].apply(apply_all)\n",
    "t2 = time.time()\n",
    "print(\"Time to clean and tokenize\", len(df), \"articles:\", (t2-t1)/60, \"min\")"
   ]
  },
  {
   "cell_type": "markdown",
   "metadata": {},
   "source": [
    "## Get word frequency"
   ]
  },
  {
   "cell_type": "code",
   "execution_count": 7,
   "metadata": {},
   "outputs": [
    {
     "data": {
      "text/plain": [
       "96280"
      ]
     },
     "execution_count": 7,
     "metadata": {},
     "output_type": "execute_result"
    }
   ],
   "source": [
    "# first get a list of all words\n",
    "all_words = [word for item in list(df['tokenized']) for word in item]\n",
    "# use nltk fdist to get a frequency distribution of all words\n",
    "fdist = FreqDist(all_words)\n",
    "len(fdist) # number of unique words"
   ]
  },
  {
   "cell_type": "markdown",
   "metadata": {},
   "source": [
    "\n",
    "k = 50,000 is too high, as the bottom words aren't even real words and are very rarely used (once in entire corpus)\n",
    "k = 15,000 is much more reasonable as these have been used at least 13 times in the corpus\n"
   ]
  },
  {
   "cell_type": "code",
   "execution_count": 9,
   "metadata": {},
   "outputs": [
    {
     "data": {
      "text/plain": [
       "[('mahabharata', 1),\n",
       " ('swill', 1),\n",
       " ('bwak', 1),\n",
       " ('shambala', 1),\n",
       " ('sabbah', 1),\n",
       " ('flotsam', 1),\n",
       " ('jetsam', 1),\n",
       " ('bibbl', 1),\n",
       " ('boohoosi', 1),\n",
       " ('doggon', 1)]"
      ]
     },
     "execution_count": 9,
     "metadata": {},
     "output_type": "execute_result"
    }
   ],
   "source": [
    "# choose k and visually inspect the bottom 10 words of the top k\n",
    "k = 50000\n",
    "top_k_words = fdist.most_common(k)\n",
    "top_k_words[-10:]"
   ]
  },
  {
   "cell_type": "code",
   "execution_count": 10,
   "metadata": {},
   "outputs": [
    {
     "data": {
      "text/plain": [
       "[('boll', 13),\n",
       " ('settlercoloni', 13),\n",
       " ('pratt', 13),\n",
       " ('functionari', 13),\n",
       " ('nomenklatura', 13),\n",
       " ('tum', 13),\n",
       " ('hua', 13),\n",
       " ('voucher', 13),\n",
       " ('masoud', 13),\n",
       " ('kickoff', 13)]"
      ]
     },
     "execution_count": 10,
     "metadata": {},
     "output_type": "execute_result"
    }
   ],
   "source": [
    "# choose k and visually inspect the bottom 10 words of the top k\n",
    "k = 15000\n",
    "top_k_words = fdist.most_common(k)\n",
    "top_k_words[-10:]"
   ]
  },
  {
   "cell_type": "code",
   "execution_count": 11,
   "metadata": {},
   "outputs": [],
   "source": [
    "# define a function only to keep words in the top k words\n",
    "top_k_words,_ = zip(*fdist.most_common(k))\n",
    "top_k_words = set(top_k_words)\n",
    "def keep_top_k_words(text):\n",
    "    return [word for word in text if word in top_k_words]"
   ]
  },
  {
   "cell_type": "code",
   "execution_count": 12,
   "metadata": {},
   "outputs": [],
   "source": [
    "df['tokenized'] = df['tokenized'].apply(keep_top_k_words)"
   ]
  },
  {
   "cell_type": "code",
   "execution_count": 13,
   "metadata": {},
   "outputs": [
    {
     "name": "stdout",
     "output_type": "stream",
     "text": [
      "length of list: 12357 \n",
      "average document length 345.66828518248764 \n",
      "minimum document length 0 \n",
      "maximum document length 11578\n"
     ]
    }
   ],
   "source": [
    "# document length\n",
    "df['doc_len'] = df['tokenized'].apply(lambda x: len(x))\n",
    "doc_lengths = list(df['doc_len'])\n",
    "df.drop(labels='doc_len', axis=1, inplace=True)\n",
    "\n",
    "print(\"length of list:\",len(doc_lengths),\n",
    "      \"\\naverage document length\", np.average(doc_lengths),\n",
    "      \"\\nminimum document length\", min(doc_lengths),\n",
    "      \"\\nmaximum document length\", max(doc_lengths))"
   ]
  },
  {
   "cell_type": "code",
   "execution_count": 14,
   "metadata": {},
   "outputs": [
    {
     "data": {
      "image/png": "[encoded data removed]",
      "text/plain": [
       "<Figure size 864x432 with 1 Axes>"
      ]
     },
     "metadata": {},
     "output_type": "display_data"
    }
   ],
   "source": [
    "# plot a histogram of document length\n",
    "num_bins = 1000\n",
    "fig, ax = plt.subplots(figsize=(12,6))\n",
    "# the histogram of the data\n",
    "# n, bins, patches = ax.hist(doc_lengths, num_bins, normed=1)\n",
    "n, bins, patches = ax.hist(doc_lengths, num_bins)\n",
    "ax.set_xlabel('Document Length (tokens)', fontsize=15)\n",
    "ax.set_ylabel('Normed Frequency', fontsize=15)\n",
    "ax.grid()\n",
    "ax.set_xticks(np.logspace(start=np.log10(50),stop=np.log10(2000),num=8, base=10.0))\n",
    "plt.xlim(0,2000)\n",
    "ax.plot([np.average(doc_lengths) for i in np.linspace(0.0,0.0035,100)], np.linspace(0.0,0.0035,100), '-',\n",
    "        label='average doc length')\n",
    "ax.legend()\n",
    "ax.grid()\n",
    "fig.tight_layout()\n",
    "plt.show()"
   ]
  },
  {
   "cell_type": "markdown",
   "metadata": {},
   "source": [
    "### Drop short articles\n",
    "\n",
    "LDA does not work very well on short documents, which we will explain later, so we will drop some of the shorter articles here before training the model.\n",
    "\n",
    "From the histogram above, droping all articles less than 40 tokens seems appropriate."
   ]
  },
  {
   "cell_type": "code",
   "execution_count": 15,
   "metadata": {},
   "outputs": [
    {
     "name": "stdout",
     "output_type": "stream",
     "text": [
      "Before cleaning and excluding short aticles, the dataframe has: 12357 articles\n",
      "After cleaning and excluding short aticles, the dataframe now has: 10812 articles\n"
     ]
    }
   ],
   "source": [
    "print(\"Before cleaning and excluding short aticles, the dataframe has:\", len(df), \"articles\")\n",
    "# only keep articles with more than 30 tokens, otherwise too short\n",
    "df = df[df['tokenized'].map(len) >= 40]\n",
    "# make sure all tokenized items are lists\n",
    "df = df[df['tokenized'].map(type) == list]\n",
    "df.reset_index(drop=True,inplace=True)\n",
    "print(\"After cleaning and excluding short aticles, the dataframe now has:\", len(df), \"articles\")"
   ]
  },
  {
   "cell_type": "markdown",
   "metadata": {},
   "source": [
    "### Split the corpus into training ant testing\n",
    "\n",
    "Here we will split the corpus into training and testing sets.\n",
    "\n",
    "The training set will be used to train the LDA model on, while the testing set will be used to retrieve similar articles later in our recommendation algorithm.\n",
    "\n",
    "The dataframe is already shuffled from the begining, so no need to do it again."
   ]
  },
  {
   "cell_type": "code",
   "execution_count": 16,
   "metadata": {},
   "outputs": [],
   "source": [
    "# create a mask of binary values\n",
    "msk = np.random.rand(len(df)) < 0.999\n",
    "\n",
    "train_df = df[msk]\n",
    "train_df.reset_index(drop=True,inplace=True)\n",
    "\n",
    "test_df = df[~msk]\n",
    "test_df.reset_index(drop=True,inplace=True)"
   ]
  },
  {
   "cell_type": "code",
   "execution_count": 17,
   "metadata": {},
   "outputs": [
    {
     "name": "stdout",
     "output_type": "stream",
     "text": [
      "10812 10800 12\n"
     ]
    }
   ],
   "source": [
    "print(len(df),len(train_df),len(test_df))"
   ]
  },
  {
   "cell_type": "code",
   "execution_count": 18,
   "metadata": {},
   "outputs": [],
   "source": [
    "def train_lda(data):\n",
    "    \"\"\"\n",
    "    This function trains the lda model\n",
    "    We setup parameters like number of topics, the chunksize to use in Hoffman method\n",
    "    We also do 2 passes of the data since this is a small dataset, so we want the distributions to stabilize\n",
    "    \"\"\"\n",
    "    num_topics = 100\n",
    "    chunksize = 300\n",
    "    dictionary = corpora.Dictionary(data['tokenized'])\n",
    "    corpus = [dictionary.doc2bow(doc) for doc in data['tokenized']]\n",
    "    t1 = time.time()\n",
    "    # low alpha means each document is only represented by a small number of topics, and vice versa\n",
    "    # low eta means each topic is only represented by a small number of words, and vice versa\n",
    "    lda = LdaModel(corpus=corpus, num_topics=num_topics, id2word=dictionary,\n",
    "                   alpha=1e-2, eta=0.5e-2, chunksize=chunksize, minimum_probability=0.0, passes=2)\n",
    "    t2 = time.time()\n",
    "    print(\"Time to train LDA model on \", len(df), \"articles: \", (t2-t1)/60, \"min\")\n",
    "    return dictionary,corpus,lda"
   ]
  },
  {
   "cell_type": "code",
   "execution_count": 19,
   "metadata": {},
   "outputs": [
    {
     "name": "stdout",
     "output_type": "stream",
     "text": [
      "Time to train LDA model on  10812 articles:  4.480972079435984 min\n"
     ]
    }
   ],
   "source": [
    "dictionary,corpus,lda = train_lda(train_df)"
   ]
  },
  {
   "cell_type": "markdown",
   "metadata": {},
   "source": [
    "### Let's inspect some topics!\n",
    "\n",
    "Bear in mind, when we see the words they may seem shortened. Recall this is because of our stemming function we previously implemented."
   ]
  },
  {
   "cell_type": "code",
   "execution_count": 20,
   "metadata": {},
   "outputs": [
    {
     "data": {
      "text/plain": [
       "[(47,\n",
       "  '0.047*\"judg\" + 0.039*\"charg\" + 0.032*\"feder\" + 0.023*\"court\" + 0.023*\"trial\" + 0.021*\"juri\" + 0.021*\"defend\" + 0.021*\"arrest\" + 0.021*\"case\" + 0.019*\"bundi\" + 0.017*\"guilti\" + 0.014*\"brown\" + 0.013*\"said\" + 0.013*\"jail\" + 0.012*\"govern\" + 0.012*\"sentenc\" + 0.012*\"andrew\" + 0.012*\"us\" + 0.012*\"convict\" + 0.011*\"nonviol\"'),\n",
       " (68,\n",
       "  '0.167*\"drug\" + 0.057*\"use\" + 0.045*\"marijuana\" + 0.033*\"cannabi\" + 0.025*\"alcohol\" + 0.024*\"hemp\" + 0.024*\"pill\" + 0.018*\"pharmaceut\" + 0.018*\"sale\" + 0.018*\"industri\" + 0.015*\"medic\" + 0.015*\"natur\" + 0.014*\"plant\" + 0.014*\"recreat\" + 0.013*\"proposit\" + 0.012*\"medicin\" + 0.011*\"pot\" + 0.011*\"dealer\" + 0.010*\"wade\" + 0.010*\"gram\"'),\n",
       " (7,\n",
       "  '0.065*\"email\" + 0.032*\"weiner\" + 0.031*\"abedin\" + 0.029*\"huma\" + 0.027*\"hillari\" + 0.024*\"clinton\" + 0.018*\"anthoni\" + 0.018*\"comput\" + 0.017*\"devic\" + 0.016*\"laptop\" + 0.015*\"new\" + 0.015*\"fbi\" + 0.013*\"aid\" + 0.013*\"would\" + 0.011*\"found\" + 0.010*\"could\" + 0.008*\"search\" + 0.008*\"elect\" + 0.008*\"news\" + 0.008*\"sourc\"'),\n",
       " (41,\n",
       "  '0.023*\"get\" + 0.019*\"make\" + 0.014*\"time\" + 0.013*\"like\" + 0.013*\"one\" + 0.012*\"look\" + 0.012*\"start\" + 0.012*\"take\" + 0.012*\"back\" + 0.010*\"could\" + 0.009*\"even\" + 0.009*\"day\" + 0.008*\"littl\" + 0.008*\"seem\" + 0.008*\"way\" + 0.008*\"around\" + 0.007*\"thing\" + 0.007*\"would\" + 0.007*\"hand\" + 0.007*\"much\"'),\n",
       " (19,\n",
       "  '0.048*\"govern\" + 0.037*\"feder\" + 0.035*\"law\" + 0.027*\"act\" + 0.026*\"public\" + 0.020*\"constitut\" + 0.018*\"rule\" + 0.017*\"violat\" + 0.015*\"right\" + 0.013*\"agenc\" + 0.013*\"use\" + 0.013*\"offici\" + 0.013*\"congress\" + 0.011*\"polici\" + 0.011*\"action\" + 0.011*\"amend\" + 0.010*\"execut\" + 0.010*\"protect\" + 0.010*\"enforc\" + 0.010*\"regul\"'),\n",
       " (33,\n",
       "  '0.061*\"film\" + 0.033*\"soldier\" + 0.026*\"prison\" + 0.021*\"journalist\" + 0.020*\"bomb\" + 0.018*\"wildlif\" + 0.016*\"propaganda\" + 0.015*\"war\" + 0.014*\"yemeni\" + 0.013*\"citi\" + 0.012*\"arctic\" + 0.011*\"filmmak\" + 0.010*\"govern\" + 0.010*\"strike\" + 0.010*\"ali\" + 0.009*\"fanat\" + 0.009*\"unarm\" + 0.009*\"peopl\" + 0.009*\"kissing\" + 0.008*\"first\"'),\n",
       " (32,\n",
       "  '0.048*\"war\" + 0.041*\"us\" + 0.016*\"state\" + 0.013*\"polici\" + 0.012*\"world\" + 0.012*\"nuclear\" + 0.012*\"syria\" + 0.011*\"would\" + 0.011*\"militari\" + 0.011*\"russia\" + 0.010*\"foreign\" + 0.009*\"unit\" + 0.009*\"american\" + 0.008*\"washington\" + 0.008*\"regim\" + 0.007*\"presid\" + 0.007*\"iraq\" + 0.007*\"weapon\" + 0.006*\"obama\" + 0.006*\"countri\"'),\n",
       " (12,\n",
       "  '0.029*\"food\" + 0.028*\"health\" + 0.018*\"effect\" + 0.017*\"product\" + 0.017*\"diseas\" + 0.016*\"chemic\" + 0.016*\"fat\" + 0.015*\"research\" + 0.012*\"studi\" + 0.012*\"risk\" + 0.011*\"sugar\" + 0.011*\"bodi\" + 0.010*\"found\" + 0.010*\"toxic\" + 0.010*\"heart\" + 0.010*\"level\" + 0.010*\"organ\" + 0.010*\"caus\" + 0.009*\"lead\" + 0.009*\"exposur\"'),\n",
       " (16,\n",
       "  '0.015*\"year\" + 0.011*\"popul\" + 0.009*\"number\" + 0.008*\"time\" + 0.007*\"increas\" + 0.007*\"could\" + 0.006*\"like\" + 0.006*\"one\" + 0.006*\"sinc\" + 0.005*\"point\" + 0.005*\"also\" + 0.005*\"new\" + 0.005*\"area\" + 0.005*\"may\" + 0.005*\"first\" + 0.005*\"rate\" + 0.005*\"high\" + 0.005*\"much\" + 0.005*\"dna\" + 0.004*\"level\"'),\n",
       " (51,\n",
       "  '0.063*\"daili\" + 0.046*\"halloween\" + 0.031*\"sheepl\" + 0.027*\"bbc\" + 0.023*\"deliv\" + 0.023*\"ghost\" + 0.023*\"goat\" + 0.022*\"encourag\" + 0.018*\"contribut\" + 0.018*\"bake\" + 0.018*\"break\" + 0.018*\"costum\" + 0.018*\"share\" + 0.017*\"republish\" + 0.017*\"analys\" + 0.017*\"villag\" + 0.017*\"detail\" + 0.017*\"click\" + 0.016*\"magic\" + 0.015*\"clown\"')]"
      ]
     },
     "execution_count": 20,
     "metadata": {},
     "output_type": "execute_result"
    }
   ],
   "source": [
    "# show_topics method shows the the top num_words contributing to num_topics number of random topics\n",
    "lda.show_topics(num_topics=10, num_words=20)"
   ]
  },
  {
   "cell_type": "code",
   "execution_count": 21,
   "metadata": {},
   "outputs": [
    {
     "data": {
      "text/plain": [
       "[('ban', 0.06262741),\n",
       " ('email', 0.02519272),\n",
       " ('address', 0.025054071),\n",
       " ('read', 0.022457285),\n",
       " ('san', 0.018383497),\n",
       " ('hostag', 0.017993664),\n",
       " ('protect', 0.01717557),\n",
       " ('use', 0.01706728),\n",
       " ('without', 0.016659858),\n",
       " ('permiss', 0.016399898),\n",
       " ('lawmak', 0.0154484995),\n",
       " ('person', 0.015001247),\n",
       " ('name', 0.014807583),\n",
       " ('inform', 0.013923693),\n",
       " ('join', 0.013520504),\n",
       " ('testimoni', 0.013192052),\n",
       " ('robert', 0.012953854),\n",
       " ('passeng', 0.012890632),\n",
       " ('list', 0.012764299),\n",
       " ('ca', 0.012344883)]"
      ]
     },
     "execution_count": 21,
     "metadata": {},
     "output_type": "execute_result"
    }
   ],
   "source": [
    "lda.show_topic(topicid=4, topn=20)"
   ]
  },
  {
   "cell_type": "code",
   "execution_count": 22,
   "metadata": {},
   "outputs": [
    {
     "data": {
      "text/plain": [
       "[('anonym', 0.13219243),\n",
       " ('poster', 0.05302402),\n",
       " ('harri', 0.048539516),\n",
       " ('homeless', 0.04765882),\n",
       " ('jay', 0.03965677),\n",
       " ('upcom', 0.029402023),\n",
       " ('jennif', 0.028924575),\n",
       " ('reid', 0.024947992),\n",
       " ('novel', 0.024605557),\n",
       " ('nj', 0.020882325),\n",
       " ('df', 0.01805531),\n",
       " ('version', 0.01796175),\n",
       " ('open', 0.017953299),\n",
       " ('pen', 0.016588999),\n",
       " ('feast', 0.016311832),\n",
       " ('shame', 0.015458529),\n",
       " ('convert', 0.015409925),\n",
       " ('shooter', 0.01484894),\n",
       " ('cafe', 0.014518989),\n",
       " ('pluto', 0.014109216)]"
      ]
     },
     "execution_count": 22,
     "metadata": {},
     "output_type": "execute_result"
    }
   ],
   "source": [
    "lda.show_topic(topicid=85, topn=20)"
   ]
  },
  {
   "cell_type": "code",
   "execution_count": 23,
   "metadata": {},
   "outputs": [
    {
     "data": {
      "text/plain": [
       "[('fbi', 0.055285357),\n",
       " ('investig', 0.047388505),\n",
       " ('clinton', 0.034900554),\n",
       " ('email', 0.031191142),\n",
       " ('comey', 0.027092544),\n",
       " ('hillari', 0.013266334),\n",
       " ('server', 0.011234359),\n",
       " ('director', 0.011167455),\n",
       " ('inform', 0.0109786065),\n",
       " ('depart', 0.010412746),\n",
       " ('case', 0.009162213),\n",
       " ('agent', 0.008755491),\n",
       " ('said', 0.008605521),\n",
       " ('justic', 0.008380274),\n",
       " ('reopen', 0.008008495),\n",
       " ('letter', 0.007999158),\n",
       " ('evid', 0.007165727),\n",
       " ('jame', 0.007159436),\n",
       " ('elect', 0.006942407),\n",
       " ('new', 0.0069152373)]"
      ]
     },
     "execution_count": 23,
     "metadata": {},
     "output_type": "execute_result"
    }
   ],
   "source": [
    "lda.show_topic(topicid=75, topn=20)"
   ]
  },
  {
   "cell_type": "code",
   "execution_count": 24,
   "metadata": {},
   "outputs": [
    {
     "data": {
      "text/plain": [
       "[('vote', 0.12853816),\n",
       " ('elect', 0.086759925),\n",
       " ('voter', 0.045396622),\n",
       " ('machin', 0.030234147),\n",
       " ('ballot', 0.028050065),\n",
       " ('fraud', 0.025358872),\n",
       " ('rig', 0.02404828),\n",
       " ('texa', 0.016406562),\n",
       " ('counti', 0.015033304),\n",
       " ('report', 0.012300792),\n",
       " ('state', 0.012028854),\n",
       " ('offici', 0.010299596),\n",
       " ('poll', 0.009062313),\n",
       " ('system', 0.008411603),\n",
       " ('cast', 0.008254662),\n",
       " ('us', 0.00727208),\n",
       " ('also', 0.0063810432),\n",
       " ('democrat', 0.0063014207),\n",
       " ('place', 0.00628778),\n",
       " ('steal', 0.0060754865)]"
      ]
     },
     "execution_count": 24,
     "metadata": {},
     "output_type": "execute_result"
    }
   ],
   "source": [
    "lda.show_topic(topicid=39, topn=20)"
   ]
  },
  {
   "cell_type": "markdown",
   "metadata": {},
   "source": [
    "What the about above means, is that topic 4 has top contributing words [\"judge\",\"case\",\"court\",...], which indicates the topic is about court cases. Topic 75 has top contributing words [\"god\",\"christian\",\"love\",...], which indicates the topic is about religion.\n",
    "\n",
    "Now, not only can we see the word contribution for each topic, but we can also visualise the topic contribution for each article."
   ]
  },
  {
   "cell_type": "code",
   "execution_count": 25,
   "metadata": {},
   "outputs": [
    {
     "name": "stdout",
     "output_type": "stream",
     "text": [
      "5595\n"
     ]
    }
   ],
   "source": [
    "# select and article at random from train_df\n",
    "random_article_index = np.random.randint(len(train_df))\n",
    "bow = dictionary.doc2bow(train_df.iloc[random_article_index,7])\n",
    "print(random_article_index)"
   ]
  },
  {
   "cell_type": "code",
   "execution_count": 26,
   "metadata": {},
   "outputs": [
    {
     "name": "stdout",
     "output_type": "stream",
     "text": [
      "License DMCA \n",
      "The following was originally published in The Nation \n",
      "The \"Blob\" -- the epithet Obama speechwriter Ben Rhodes used to scorn Washington's inbred, vainglorious, bipartisan foreign-policy elite -- is striking back. In a series of foreign policy reports designed to influence the incoming administration, Greg Jaffe of The Washington Post reveals , the Blob will publicly criticize Obama's \"reluctance\" to exercise America's military prowess and call for a more \"muscular,\" \"interventionist,\" assertive policy, from the South China Sea to the Russian border, but particularly in the Middle East. They are pumping for more war. \n",
      "The names are familiar -- former secretary of state Madeline Albright and former Bush national security adviser Stephen Hadley lead the Atlantic Council task force. Former Bill Clinton NSC adviser Brian Katulis and former Bush deputy secretary of defense Rudy deLeon are senior fellows at the Center for American Progress. The inescapable Martin Indyk heads a Brookings group of former top officials from Obama, Bush, and Clinton administrations. \n",
      "These are the apostles of American exceptionalism, from the neoconservatives who promoted the invasion of Iraq to the \"indispensable nation\" liberal interventionists who championed regime change in Libya. Virtually without exception, all supported Bush's invasion of Iraq, the most catastrophic foreign policy debacle since Vietnam. Virtually without exception, none were held accountable for that folly. \n",
      "The reports -- and the Blob -- share two conclusions. They censure Obama for excessive timidity. \"There's a widespread perception that not being active enough or recognizing the limits of American power has costs,\" the Post quotes Philip Gordon, a senior foreign-policy adviser to Obama until 2015. \"So the normal swing is to be more interventionist.\" - Advertisement - \n",
      "And all favor ramping up US military activity -- on the Russian borders, in the South China Sea, and particularly in the Middle East, promoting no-fly and safe zones in Syria, more special forces, more aggressive use of air power, more military aid, and a more integrated security partnership. The objective is not only to defeat ISIS and Al Qaeda and its offshoots militarily, but to create order in war torn Iraq, Syria, Yemen, Libya, and Somalia, as well as to counter Iran and Russia in the region. \n",
      "The Obama years demonstrate the dangers of \"restraint\"? Say what? The Obama administration is currently fighting wars in five countries and bombing seven. It toppled Gaddafi in Libya and left the country in chaos. Its regime change campaign in Syria ended in a brutal civil war. It backs the Saudi ravaging of Yemen. It helped spark a street coup in Ukraine, and moved military forces to the Russian border, reviving a new Cold War. It has bolstered US naval forces in the South China Sea as part of containing China. US Special Forces were active in more than 100 countries last year. Obama has signed off on more weapons sales and transfers than Bush. None of this has worked out very well, but neither did George W. Bush's \"damn the torpedoes\" policy. If Obama represents excessive restraint, may the gods save us from what comes next. \n",
      "The Blob still believes that America has the writ and the power to decide. We are \"indispensable,\" bearers of law and democracy at the end of a cruise missile. Our insurgents are by definition \"moderates.\" Our clients -- Israel, Egypt, Saudi Arabia, Jordan, Turkey, the United Arab Emirates, Oman, from military dictatorship to desert sheikdom -- have, in the words of the CAP Report, \"internal cohesion\" and domestic \"political legitimacy.\" Despite conflicting interests, they are allies against terror (even though some like Saudi Arabia provide significant funding for both the terrorists and the religious zealots that inspire them.) \n",
      "For the Blob, caution comes not in objective but in strategy. Only the most unhinged call for putting \"boots on the ground.\" This leads to a disconnect. They limit the military strategy -- to drones, air power, advisers, intelligence cooperation, military aid, training -- without trimming the objectives. It is hard to see this as anything other than a demented recipe for endless wars without victory. \n",
      "In this age of bitter partisanship, characterized by unrelenting Republican obstructionism in Congress and now Trump's stoking America's rancors, much attention has been paid to the dangers of division. But the utter failure of the center and the bipartisan elite has been neglected. In the Middle East and elsewhere, the Blob has driven us into one folly after another. Yet they still fill the highest offices and the most lavishly appointed think tanks. And they are still calling for more. - Advertisement - \n",
      "America's civilizing movements -- civil rights, women's, LGBT, the DREAMers -- have transformed this country. An emerging populist movement -- Occupy Wall Street, Bernie Sanders, the Fight for 15, fair-trade and financial-reform campaigns and more -- is on the march. Now we desperately need new thinking and a revived peace movement to take on the Blob and its endless wars. View Ratings | Rate It http://www.ourfuture.org \n",
      "Robert L. Borosage is the president of the Institute for America's Future and co-director of its sister organization, the Campaign for America's Future. The organizations were launched by 100 prominent Americans to challenge the rightward drift ( more... )\n"
     ]
    }
   ],
   "source": [
    "print(train_df.iloc[random_article_index,3])"
   ]
  },
  {
   "cell_type": "code",
   "execution_count": 27,
   "metadata": {},
   "outputs": [],
   "source": [
    "# get the topic contributions for the document chosen at random above\n",
    "doc_distribution = np.array([tup[1] for tup in lda.get_document_topics(bow=bow)])"
   ]
  },
  {
   "cell_type": "code",
   "execution_count": 28,
   "metadata": {},
   "outputs": [
    {
     "data": {
      "image/png": "[encoded data removed]",
      "text/plain": [
       "<Figure size 864x432 with 1 Axes>"
      ]
     },
     "metadata": {},
     "output_type": "display_data"
    }
   ],
   "source": [
    "# bar plot of topic distribution for this document\n",
    "fig, ax = plt.subplots(figsize=(12,6));\n",
    "# the histogram of the data\n",
    "patches = ax.bar(np.arange(len(doc_distribution)), doc_distribution)\n",
    "ax.set_xlabel('Topic ID', fontsize=15)\n",
    "ax.set_ylabel('Topic Contribution', fontsize=15)\n",
    "ax.set_title(\"Topic Distribution for Article \" + str(random_article_index), fontsize=20)\n",
    "ax.set_xticks(np.linspace(10,100,10))\n",
    "fig.tight_layout()\n",
    "plt.show()"
   ]
  },
  {
   "cell_type": "markdown",
   "metadata": {},
   "source": [
    "Ok, so clearly this document has various contributions from different topics. But what are these topics? Lets find out!"
   ]
  },
  {
   "cell_type": "code",
   "execution_count": 29,
   "metadata": {},
   "outputs": [
    {
     "name": "stdout",
     "output_type": "stream",
     "text": [
      "32 [('war', 0.04833637), ('us', 0.04138182), ('state', 0.016003054), ('polici', 0.012509651), ('world', 0.012421362), ('nuclear', 0.012388602), ('syria', 0.011807278), ('would', 0.011272053), ('militari', 0.011261839), ('russia', 0.01076452)] \n",
      "\n",
      "0 [('polit', 0.023031253), ('world', 0.010008777), ('elit', 0.009034221), ('peopl', 0.008348532), ('power', 0.0072337845), ('nation', 0.0070253992), ('class', 0.0064680106), ('global', 0.0059843664), ('social', 0.0059834667), ('econom', 0.005881782)] \n",
      "\n",
      "9 [('middl', 0.017179837), ('east', 0.0154223), ('us', 0.0122280745), ('greec', 0.012042175), ('earthquak', 0.011533306), ('itali', 0.01060119), ('said', 0.010109671), ('qatar', 0.010028264), ('alli', 0.009344928), ('central', 0.009121538)] \n",
      "\n",
      "21 [('russian', 0.03732718), ('russia', 0.03324933), ('militari', 0.03253107), ('nato', 0.02987676), ('missil', 0.020429213), ('forc', 0.01984132), ('us', 0.016194459), ('defens', 0.015727235), ('troop', 0.012386065), ('deploy', 0.011749328)] \n",
      "\n",
      "96 [('state', 0.023543058), ('former', 0.015307638), ('depart', 0.015024572), ('attorney', 0.01497836), ('gener', 0.014527853), ('hous', 0.013053773), ('offic', 0.012700755), ('chief', 0.012025486), ('member', 0.011836654), ('also', 0.00891032)] \n",
      "\n"
     ]
    }
   ],
   "source": [
    "# print the top 5 contributing topics and their words\n",
    "for i in doc_distribution.argsort()[-5:][::-1]:\n",
    "    print(i, lda.show_topic(topicid=i, topn=10), \"\\n\")"
   ]
  },
  {
   "cell_type": "markdown",
   "metadata": {},
   "source": [
    "## Similarity Queries and Unseen Data"
   ]
  },
  {
   "cell_type": "markdown",
   "metadata": {},
   "source": [
    "First, lets show how we can infer document topics for a new unseen article."
   ]
  },
  {
   "cell_type": "code",
   "execution_count": 30,
   "metadata": {},
   "outputs": [
    {
     "name": "stdout",
     "output_type": "stream",
     "text": [
      "0\n"
     ]
    }
   ],
   "source": [
    "# select and article at random from test_df\n",
    "random_article_index = np.random.randint(len(test_df))\n",
    "print(random_article_index)                                                                                                               "
   ]
  },
  {
   "cell_type": "markdown",
   "metadata": {},
   "source": [
    "Here's the important bit. In obtaining the BOW representation for this unseen article, gensim cleverly only considers words in the existing dictionary we used to train the model. So if there are new words in this article, they will not be considered when infering the topic distribution. This is good in that no errors arise for unseen words, but bad in that some words may be cut out, and therefore we could miss out on an accurate topic distribution for this article."
   ]
  },
  {
   "cell_type": "code",
   "execution_count": 31,
   "metadata": {},
   "outputs": [],
   "source": [
    "new_bow = dictionary.doc2bow(test_df.iloc[random_article_index,7])"
   ]
  },
  {
   "cell_type": "code",
   "execution_count": 32,
   "metadata": {},
   "outputs": [
    {
     "name": "stdout",
     "output_type": "stream",
     "text": [
      "Egypt: No gain without pain By Linda S. Heard Posted on November 2, 2016 by Linda S. Heard \n",
      "In order to understand why Egypt’s economic temperature has cooled it should be understood that this once stable country, with a healthy investment climate, was rocked by a mass public uprising resulting in its overthrow that was met with prolonged Brotherhood violence and the emergence of a terrorist group in northern Sinai. \n",
      "A tepid relationship with Western countries, which some perceive as having undermined the nation’s upward trajectory—or, at the very least, have done nothing to aid it—hasn’t helped. The Obama administration has been unsympathetic and the same could be said for many of America’s European allies, unlike Saudi Arabia and some Gulf states, which have given generously to keep Egypt’s economy afloat. \n",
      "Whereas other states hit by serial terrorist attacks have received offers of help, the downing of a Russian passenger jet almost exactly a year ago elicited a halt in British and European flights to the once thriving Red Sea resort town of Sharm El Sheikh and, in the case of Russia, to all Egyptian airports. This is unprecedented and has been interpreted by many Egyptians as having a political component. \n",
      "Add to that media scaremongering, giving the impression that the most populated Arab country isn’t safe, and it’s no wonder that Egypt’s tourist industry has been decimated or that the inflow of foreign currency has been reduced to a trickle. I must admit my surprise to read a recent article in the Huffington Post headed: “I traveled to Egypt, and yes it was safe.” \n",
      "“I realized that all of the people telling me that Egypt was unsafe hadn’t even been there,” writes Alyssa Ramos. She goes on to share what made her feel safe during her stay and why she believes people should go there. There is hope. Numerous countries have restored flights and most other are expected to do so very soon. \n",
      "Today, Egypt needs its friends more than ever. The currency is at a record low while experts predict a further devaluation. Indeed, it is so volatile that some countries have stopped trading in Egyptian pounds. The price of imported goods has skyrocketed and inflation is rampant. Illegal hoarding of staples such as sugar and rice has caused market shortages. \n",
      "The government has pleaded with ordinary people to accept a tightening of belts to reap rewards down the road. Many I’ve spoken with have displayed understanding; others are more impatient. Unsurprisingly, the Muslim Brotherhood is attempting to capitalize by whipping up the emotions of the poorest sectors. \n",
      "On the whole, Egyptians are tired; they know that social unrest will only make things worse as it has all over the map of the so-called Arab Spring to varying degrees. \n",
      "For several years, Egypt has resisted seeking an IMF loan, which invariably is granted with strings, but the current situation has warranted a new strategy; one that would encourage foreign investments. \n",
      "A $12 billion loan repayable in three years is currently on the table provided the country can secure $6 billion in bilateral financing, which it is well on the way to doing thanks to Saudi Arabia, China and the Group of 7 nations. IMF Director Christine Lagarde believes the board will approve Egypt’s request within weeks. \n",
      "The strings in this case will translate to greater austerity, higher fuel prices, and a flexible exchange rate. Not included are cuts to food subsidies, although those have long been mulled as they eat up 14 percent of the national budget and as things stand subsidized food items are accessible to all, including the Middle classes and the wealthy. If and when the subsidy system is dismantled for everyone, the government has given assurances that a safety net will be created for low-income families. \n",
      "President Abdel-Fattah El-Sissi ce \n",
      "This entry was posted in Commentary . Bookmark the\n"
     ]
    }
   ],
   "source": [
    "print(test_df.iloc[random_article_index,3])"
   ]
  },
  {
   "cell_type": "code",
   "execution_count": 33,
   "metadata": {},
   "outputs": [],
   "source": [
    "new_doc_distribution = np.array([tup[1] for tup in lda.get_document_topics(bow=new_bow)])"
   ]
  },
  {
   "cell_type": "markdown",
   "metadata": {},
   "source": [
    "Let's do the same visual analysis as before on this new unseen document"
   ]
  },
  {
   "cell_type": "code",
   "execution_count": 34,
   "metadata": {},
   "outputs": [
    {
     "data": {
      "image/png": "[encoded data removed]",
      "text/plain": [
       "<Figure size 864x432 with 1 Axes>"
      ]
     },
     "metadata": {},
     "output_type": "display_data"
    }
   ],
   "source": [
    "# bar plot of topic distribution for this document\n",
    "fig, ax = plt.subplots(figsize=(12,6));\n",
    "# the histogram of the data\n",
    "patches = ax.bar(np.arange(len(new_doc_distribution)), new_doc_distribution)\n",
    "ax.set_xlabel('Topic ID', fontsize=15)\n",
    "ax.set_ylabel('Topic Contribution', fontsize=15)\n",
    "ax.set_title(\"Topic Distribution for an Unseen Article\", fontsize=20)\n",
    "ax.set_xticks(np.linspace(10,100,10))\n",
    "fig.tight_layout()\n",
    "plt.show()"
   ]
  },
  {
   "cell_type": "code",
   "execution_count": 35,
   "metadata": {},
   "outputs": [
    {
     "name": "stdout",
     "output_type": "stream",
     "text": [
      "0 [('polit', 0.023031253), ('world', 0.010008777), ('elit', 0.009034221), ('peopl', 0.008348532), ('power', 0.0072337845), ('nation', 0.0070253992), ('class', 0.0064680106), ('global', 0.0059843664), ('social', 0.0059834667), ('econom', 0.005881782)] \n",
      "\n",
      "54 [('women', 0.031890992), ('men', 0.022253303), ('woman', 0.012305444), ('man', 0.009403228), ('one', 0.007044284), ('book', 0.0065635643), ('abus', 0.0057655065), ('time', 0.0052258424), ('femal', 0.005172934), ('male', 0.0049208743)] \n",
      "\n",
      "9 [('middl', 0.017179837), ('east', 0.0154223), ('us', 0.0122280745), ('greec', 0.012042175), ('earthquak', 0.011533306), ('itali', 0.01060119), ('said', 0.010109671), ('qatar', 0.010028264), ('alli', 0.009344928), ('central', 0.009121538)] \n",
      "\n",
      "65 [('countri', 0.021331394), ('develop', 0.02012183), ('western', 0.017964626), ('china', 0.01659136), ('region', 0.015453458), ('west', 0.014025875), ('eastern', 0.013111958), ('new', 0.011531341), ('european', 0.0110884), ('europ', 0.009968337)] \n",
      "\n",
      "76 [('elect', 0.026439294), ('american', 0.025496375), ('presid', 0.024566084), ('power', 0.01373689), ('polit', 0.010506436), ('peopl', 0.010424085), ('america', 0.010367107), ('media', 0.010045536), ('us', 0.009892915), ('georg', 0.009848)] \n",
      "\n"
     ]
    }
   ],
   "source": [
    "# print the top 8 contributing topics and their words\n",
    "for i in new_doc_distribution.argsort()[-5:][::-1]:\n",
    "    print(i, lda.show_topic(topicid=i, topn=10), \"\\n\")"
   ]
  },
  {
   "cell_type": "markdown",
   "metadata": {},
   "source": [
    "### Similarity query\n",
    "\n",
    "Ok, now that we have a topic distribution for a new unseen document, let's say we wanted to find the most similar documents in the corpus. We can do this by comparing the topic distribution of the new document to all the topic distributions of the documents in the corpus. We use the Jensen-Shannon distance metric to find the most similar documents.\n",
    "\n",
    "What the Jensen-Shannon distance tells us, is which documents are statisically \"closer\" (and therefore more similar), by comparing the divergence of their distributions. Jensen-Shannon is symmetric, unlike Kullback-Leibler on which the formula is based. This is good, because we want the similarity between documents A and B to be the same as the similarity between B and A."
   ]
  },
  {
   "cell_type": "markdown",
   "metadata": {},
   "source": [
    "The smaller the Jensen-Shannon Distance, the more similar two distributions are (and in our case, the more similar any 2 documents are)\n",
    "\n",
    "We can use the scipy implementation of entropy to do this. Entropy calculates the KL divergence.\n",
    "\n",
    "But first, we need to get all our LDA topic distributions into a dense matrix. This will enable fast and efficient computation.\n",
    "\n",
    "We will create a dense matrix, doc_topic_dist, of size M×K\n",
    "where M is the number of documents and K is the number of topics."
   ]
  },
  {
   "cell_type": "code",
   "execution_count": null,
   "metadata": {},
   "outputs": [],
   "source": [
    "# we need to use nested list comprehension here\n",
    "# this may take 1-2 minutes...\n",
    "doc_topic_dist = np.array([[tup[1] for tup in lst] for lst in lda[corpus]])\n"
   ]
  },
  {
   "cell_type": "code",
   "execution_count": 37,
   "metadata": {},
   "outputs": [],
   "source": [
    "# Esta implementacao foi feita com uma versao antiga do scipy que comparava entradas do entropy usando len\n",
    "# mas a versao nova usa shape e isso da erro nesta implementacao. Por este motivo foi\n",
    "# feita a implementacao usando o metodo shannon_distance do scipy.spatial.distance\n",
    "def jensen_shannon(query, matrix):\n",
    "    \"\"\"\n",
    "    This function implements a Jensen-Shannon similarity\n",
    "    between the input query (an LDA topic distribution for a document)\n",
    "    and the entire corpus of topic distributions.\n",
    "    It returns an array of length M where M is the number of documents in the corpus\n",
    "    \"\"\"\n",
    "    # lets keep with the p,q notation above\n",
    "    p = query[None,:].T # take transpose\n",
    "    q = matrix.T # transpose matrix\n",
    "    m = 0.5*(p + q)\n",
    "    return np.sqrt(0.5*(entropy(p,m) + entropy(q,m)))"
   ]
  },
  {
   "cell_type": "code",
   "execution_count": 38,
   "metadata": {},
   "outputs": [],
   "source": [
    "from scipy.spatial import distance\n",
    "def jensen_shannon2(query, matrix):\n",
    "    sim=[distance.jensenshannon(data,query) for data in matrix]\n",
    "    return np.array(sim)"
   ]
  },
  {
   "cell_type": "markdown",
   "metadata": {},
   "source": [
    "Let's compare the new unseen document, to the corpus, and see which articles are most similar."
   ]
  },
  {
   "cell_type": "code",
   "execution_count": 39,
   "metadata": {},
   "outputs": [],
   "source": [
    "def get_most_similar_documents(query,matrix,k=10):\n",
    "    \"\"\"\n",
    "    This function implements the Jensen-Shannon distance above\n",
    "    and retruns the top k indices of the smallest jensen shannon distances\n",
    "    \"\"\"\n",
    "    sims = jensen_shannon2(query,matrix) # list of jensen shannon distances\n",
    "    return sims.argsort()[:k] # the top k positional index of the smallest Jensen Shannon distances"
   ]
  },
  {
   "cell_type": "markdown",
   "metadata": {},
   "source": [
    "Query time + most similar documents... at last!\n",
    "\n",
    "Ok, let's be 100% clear about what we are doing here.\n",
    "\n",
    "We are comparing the new unseen document above to the entire corpus of ~10k documents to find which one is most similar to the new document.\n",
    "\n",
    "How are we doing that? Well, we have the new documents LDA topic distribution in stored as varibale new_doc_distribution, and we have the entire corpus of documents topic distributions stored in the dense matrix doc_topic_dist. So now, we pass each row of doc_topic_dist through the Jensen-Shannon function above as the Q distribution, while the P distribution remains static as new_doc_distribution. Then we get the smallest distances and their corresponding index in the array, which we can pass to the train_df dataframe to print out the most similar documents."
   ]
  },
  {
   "cell_type": "code",
   "execution_count": 40,
   "metadata": {},
   "outputs": [],
   "source": [
    "# this is surprisingly fast\n",
    "most_sim_ids = get_most_similar_documents(new_doc_distribution,doc_topic_dist)"
   ]
  },
  {
   "cell_type": "code",
   "execution_count": 41,
   "metadata": {},
   "outputs": [
    {
     "data": {
      "text/plain": [
       "60      Re: The Velocity Of Money In The U.S. Falls To...\n",
       "1497    Egypt and Saudi Arabia’s Disagreements as a Re...\n",
       "2048    Re: Camden, New Jersey: One Of Hundreds Of U.S...\n",
       "2513    Obama’s “Swang Trip” to Europe is No Reason fo...\n",
       "2790    Starchitects in the City: Vanity Fair and Gent...\n",
       "4246        Ethanol Mandates Mean Big Profits for Big Oil\n",
       "4716    Women won't earn the same as men for another t...\n",
       "5257    Macedonian Media: Ruling Party About To Win Ov...\n",
       "6689    29 Years Ago, Thomas Sankara, the African Che ...\n",
       "7569    BRICS do not lack mortar: What detractors shou...\n",
       "Name: title, dtype: object"
      ]
     },
     "execution_count": 41,
     "metadata": {},
     "output_type": "execute_result"
    }
   ],
   "source": [
    "most_similar_df = train_df[train_df.index.isin(most_sim_ids)]\n",
    "most_similar_df['title']"
   ]
  },
  {
   "cell_type": "code",
   "execution_count": null,
   "metadata": {},
   "outputs": [],
   "source": []
  },
  {
   "cell_type": "code",
   "execution_count": 42,
   "metadata": {},
   "outputs": [],
   "source": [
    "# this is surprisingly fast\n",
    "# most_sim_ids = get_most_similar_documents(new_doc_distribution,doc_topic_dist)\n",
    "# jensen_shannon(new_doc_distribution, doc_topic_dist)\n",
    "p = new_doc_distribution[None,:].T # 100,1\n",
    "q = doc_topic_dist.T # 100,10795\n",
    "m = 0.5*(p+q) # 100, 10795"
   ]
  },
  {
   "cell_type": "markdown",
   "metadata": {},
   "source": [
    "### Análise de erro"
   ]
  }
 ],
 "metadata": {
  "interpreter": {
   "hash": "e40f5302c6d4b9de2141353283620edefcabae1dbe23ed7117377b1c1ce32e40"
  },
  "kernelspec": {
   "display_name": "Python 3.8.10 64-bit ('tcc-venv': venv)",
   "name": "python3"
  },
  "language_info": {
   "name": "python",
   "version": ""
  },
  "metadata": {
   "interpreter": {
    "hash": "e40f5302c6d4b9de2141353283620edefcabae1dbe23ed7117377b1c1ce32e40"
   }
  },
  "orig_nbformat": 2
 },
 "nbformat": 4,
 "nbformat_minor": 2
}