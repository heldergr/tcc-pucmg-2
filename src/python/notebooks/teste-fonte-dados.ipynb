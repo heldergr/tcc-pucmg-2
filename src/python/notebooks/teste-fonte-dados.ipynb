{
 "cells": [
  {
   "cell_type": "code",
   "execution_count": 25,
   "metadata": {},
   "outputs": [],
   "source": [
    "%reload_ext autoreload\n",
    "%autoreload 2"
   ]
  },
  {
   "cell_type": "markdown",
   "metadata": {},
   "source": [
    "# Teste de carga de diferentes fontes de dados"
   ]
  },
  {
   "cell_type": "markdown",
   "metadata": {},
   "source": [
    "## Nerds Viajantes"
   ]
  },
  {
   "cell_type": "code",
   "execution_count": 36,
   "metadata": {},
   "outputs": [],
   "source": [
    "from fonte_dados.nerds_viajantes import NerdsViajantes"
   ]
  },
  {
   "cell_type": "code",
   "execution_count": 42,
   "metadata": {},
   "outputs": [
    {
     "data": {
      "text/html": [
       "<div>\n",
       "<style scoped>\n",
       "    .dataframe tbody tr th:only-of-type {\n",
       "        vertical-align: middle;\n",
       "    }\n",
       "\n",
       "    .dataframe tbody tr th {\n",
       "        vertical-align: top;\n",
       "    }\n",
       "\n",
       "    .dataframe thead th {\n",
       "        text-align: right;\n",
       "    }\n",
       "</style>\n",
       "<table border=\"1\" class=\"dataframe\">\n",
       "  <thead>\n",
       "    <tr style=\"text-align: right;\">\n",
       "      <th></th>\n",
       "      <th>id_documento</th>\n",
       "      <th>documento</th>\n",
       "      <th>titulo</th>\n",
       "      <th>nome</th>\n",
       "      <th>n_characters</th>\n",
       "      <th>tokens</th>\n",
       "      <th>n_tokens</th>\n",
       "    </tr>\n",
       "  </thead>\n",
       "  <tbody>\n",
       "    <tr>\n",
       "      <th>0</th>\n",
       "      <td>11</td>\n",
       "      <td>No nosso primeiro dia em &lt;a href=\"www.nerdsvia...</td>\n",
       "      <td>Santiago - Museu de Arte Pré-Colombiana Fechad...</td>\n",
       "      <td>santiago-museu-de-arte-pre-colombiana-fechado-...</td>\n",
       "      <td>3420</td>\n",
       "      <td>[prim, dia, santiag, tent, visit, mus, art, pr...</td>\n",
       "      <td>204</td>\n",
       "    </tr>\n",
       "    <tr>\n",
       "      <th>1</th>\n",
       "      <td>60</td>\n",
       "      <td>Sexta-feira em &lt;a href=\"http://www.nerdsviajan...</td>\n",
       "      <td>Santiago - Restaurante Aquí Está Coco</td>\n",
       "      <td>santiago-restaurante-aqui-esta-coco</td>\n",
       "      <td>5775</td>\n",
       "      <td>[sext, feir, santiag, ped, restaurant, bacan, ...</td>\n",
       "      <td>197</td>\n",
       "    </tr>\n",
       "    <tr>\n",
       "      <th>2</th>\n",
       "      <td>111</td>\n",
       "      <td>O Palacio de la Moneda, ou somente La Moneda é...</td>\n",
       "      <td>Santiago - Palacio de la Moneda</td>\n",
       "      <td>santiago-palacio-de-la-moneda</td>\n",
       "      <td>4852</td>\n",
       "      <td>[palaci, moned, soment, moned, sed, govern, ch...</td>\n",
       "      <td>154</td>\n",
       "    </tr>\n",
       "    <tr>\n",
       "      <th>3</th>\n",
       "      <td>134</td>\n",
       "      <td>Inauguramos hoje a seção &lt;a href=\"http://www.n...</td>\n",
       "      <td>Revelando a Foto - Frutillar</td>\n",
       "      <td>revelando-a-foto-frutillar</td>\n",
       "      <td>2353</td>\n",
       "      <td>[inaugur, hoj, seç, revel, fot, tod, seman, po...</td>\n",
       "      <td>119</td>\n",
       "    </tr>\n",
       "    <tr>\n",
       "      <th>4</th>\n",
       "      <td>167</td>\n",
       "      <td>O &lt;a href=\"http://www.nerdsviajantes.com/categ...</td>\n",
       "      <td>Revelando a Foto - Monument Valley</td>\n",
       "      <td>revelando-a-foto-monument-valley</td>\n",
       "      <td>2047</td>\n",
       "      <td>[monument, valley, reg, est, unid, fic, dentr,...</td>\n",
       "      <td>113</td>\n",
       "    </tr>\n",
       "  </tbody>\n",
       "</table>\n",
       "</div>"
      ],
      "text/plain": [
       "   id_documento  ... n_tokens\n",
       "0            11  ...      204\n",
       "1            60  ...      197\n",
       "2           111  ...      154\n",
       "3           134  ...      119\n",
       "4           167  ...      113\n",
       "\n",
       "[5 rows x 7 columns]"
      ]
     },
     "execution_count": 42,
     "metadata": {},
     "output_type": "execute_result"
    }
   ],
   "source": [
    "nerds_viajantes = NerdsViajantes(carregar_previamente=False)\n",
    "nerds_viajantes.carregar_dados()"
   ]
  },
  {
   "cell_type": "code",
   "execution_count": null,
   "metadata": {},
   "outputs": [],
   "source": [
    "nerds_viajantes.get_dataframe().head()"
   ]
  },
  {
   "cell_type": "code",
   "execution_count": null,
   "metadata": {},
   "outputs": [],
   "source": [
    "nerds_viajantes.get_tokens()"
   ]
  },
  {
   "cell_type": "code",
   "execution_count": null,
   "metadata": {},
   "outputs": [],
   "source": [
    "nerds_viajantes.get_ntokens()"
   ]
  },
  {
   "cell_type": "markdown",
   "metadata": {},
   "source": [
    "## Wikipedia"
   ]
  },
  {
   "cell_type": "code",
   "execution_count": 48,
   "metadata": {},
   "outputs": [],
   "source": [
    "from fonte_dados.wikipedia import Wikipedia"
   ]
  },
  {
   "cell_type": "code",
   "execution_count": 57,
   "metadata": {},
   "outputs": [],
   "source": [
    "wikipedia = Wikipedia(carregar_previamente=False)\n",
    "wikipedia.carregar_dados()"
   ]
  },
  {
   "cell_type": "code",
   "execution_count": 58,
   "metadata": {},
   "outputs": [
    {
     "data": {
      "text/html": [
       "<div>\n",
       "<style scoped>\n",
       "    .dataframe tbody tr th:only-of-type {\n",
       "        vertical-align: middle;\n",
       "    }\n",
       "\n",
       "    .dataframe tbody tr th {\n",
       "        vertical-align: top;\n",
       "    }\n",
       "\n",
       "    .dataframe thead th {\n",
       "        text-align: right;\n",
       "    }\n",
       "</style>\n",
       "<table border=\"1\" class=\"dataframe\">\n",
       "  <thead>\n",
       "    <tr style=\"text-align: right;\">\n",
       "      <th></th>\n",
       "      <th>id_documento</th>\n",
       "      <th>titulo</th>\n",
       "      <th>country</th>\n",
       "      <th>documento</th>\n",
       "      <th>tokens</th>\n",
       "      <th>n_tokens</th>\n",
       "      <th>nome</th>\n",
       "    </tr>\n",
       "  </thead>\n",
       "  <tbody>\n",
       "    <tr>\n",
       "      <th>0</th>\n",
       "      <td>22911</td>\n",
       "      <td>Geografia da Argentina</td>\n",
       "      <td>Argentina</td>\n",
       "      <td>A Geografia da Argentina é um domínio de estud...</td>\n",
       "      <td>[geograf, argentin, domíni, estud, conhec, sob...</td>\n",
       "      <td>1163</td>\n",
       "      <td>Geografia da Argentina</td>\n",
       "    </tr>\n",
       "    <tr>\n",
       "      <th>1</th>\n",
       "      <td>1996157</td>\n",
       "      <td>Banco Namuncurá</td>\n",
       "      <td>Argentina</td>\n",
       "      <td>Banco Namuncurá (Banco Burdwood) e uma platafo...</td>\n",
       "      <td>[banc, namuncur, banc, burdwood, plataform, su...</td>\n",
       "      <td>37</td>\n",
       "      <td>Banco Namuncurá</td>\n",
       "    </tr>\n",
       "    <tr>\n",
       "      <th>2</th>\n",
       "      <td>1393635</td>\n",
       "      <td>Campo de gelo do sul da Patagónia</td>\n",
       "      <td>Argentina</td>\n",
       "      <td>O Campo de gelo do sul da Patagónia (em castel...</td>\n",
       "      <td>[camp, gel, sul, patagón, castelh, hiel, conti...</td>\n",
       "      <td>181</td>\n",
       "      <td>Campo de gelo do sul da Patagónia</td>\n",
       "    </tr>\n",
       "    <tr>\n",
       "      <th>3</th>\n",
       "      <td>3425259</td>\n",
       "      <td>Cerro de la Gloria</td>\n",
       "      <td>Argentina</td>\n",
       "      <td>\\nPico  da Glória é um morro (cerro) próximo a...</td>\n",
       "      <td>[pic, glór, morr, cerr, próx, cidad, argentin,...</td>\n",
       "      <td>203</td>\n",
       "      <td>Cerro de la Gloria</td>\n",
       "    </tr>\n",
       "    <tr>\n",
       "      <th>4</th>\n",
       "      <td>1753443</td>\n",
       "      <td>Chaco Austral</td>\n",
       "      <td>Argentina</td>\n",
       "      <td>Chaco Austral é uma das três principais divisõ...</td>\n",
       "      <td>[chac, austr, trê, princip, divis, chac, porç,...</td>\n",
       "      <td>62</td>\n",
       "      <td>Chaco Austral</td>\n",
       "    </tr>\n",
       "  </tbody>\n",
       "</table>\n",
       "</div>"
      ],
      "text/plain": [
       "   id_documento  ...                               nome\n",
       "0         22911  ...             Geografia da Argentina\n",
       "1       1996157  ...                    Banco Namuncurá\n",
       "2       1393635  ...  Campo de gelo do sul da Patagónia\n",
       "3       3425259  ...                 Cerro de la Gloria\n",
       "4       1753443  ...                      Chaco Austral\n",
       "\n",
       "[5 rows x 7 columns]"
      ]
     },
     "execution_count": 58,
     "metadata": {},
     "output_type": "execute_result"
    }
   ],
   "source": [
    "wikipedia.get_dataframe().head()"
   ]
  },
  {
   "cell_type": "code",
   "execution_count": 55,
   "metadata": {},
   "outputs": [
    {
     "data": {
      "text/plain": [
       "0       [geograf, argentin, domíni, estud, conhec, sob...\n",
       "1       [banc, namuncur, banc, burdwood, plataform, su...\n",
       "2       [camp, gel, sul, patagón, castelh, hiel, conti...\n",
       "3       [pic, glór, morr, cerr, próx, cidad, argentin,...\n",
       "4       [chac, austr, trê, princip, divis, chac, porç,...\n",
       "                              ...                        \n",
       "2247    [batalh, marip, grup, mercen, lut, control, yo...\n",
       "2248    [gold, country, conhec, moth, lod, country, re...\n",
       "2249    [guerr, águ, califórn, séri, conflit, cidad, l...\n",
       "2250    [rio, american, ingl, american, riv, río, lo, ...\n",
       "2251    [rubicon, trail, rot, milh, extens, cerc, send...\n",
       "Name: tokens, Length: 2252, dtype: object"
      ]
     },
     "execution_count": 55,
     "metadata": {},
     "output_type": "execute_result"
    }
   ],
   "source": [
    "wikipedia.get_tokens()"
   ]
  },
  {
   "cell_type": "code",
   "execution_count": 56,
   "metadata": {},
   "outputs": [
    {
     "data": {
      "text/plain": [
       "0       1163\n",
       "1         37\n",
       "2        181\n",
       "3        203\n",
       "4         62\n",
       "        ... \n",
       "2247      26\n",
       "2248     233\n",
       "2249    1365\n",
       "2250      49\n",
       "2251     166\n",
       "Name: n_tokens, Length: 2252, dtype: int64"
      ]
     },
     "execution_count": 56,
     "metadata": {},
     "output_type": "execute_result"
    }
   ],
   "source": [
    "wikipedia.get_ntokens()"
   ]
  }
 ],
 "metadata": {
  "interpreter": {
   "hash": "e40f5302c6d4b9de2141353283620edefcabae1dbe23ed7117377b1c1ce32e40"
  },
  "kernelspec": {
   "display_name": "Python 3.8.10 64-bit ('tcc-venv': venv)",
   "name": "python3"
  },
  "language_info": {
   "codemirror_mode": {
    "name": "ipython",
    "version": 3
   },
   "file_extension": ".py",
   "mimetype": "text/x-python",
   "name": "python",
   "nbconvert_exporter": "python",
   "pygments_lexer": "ipython3",
   "version": "3.8.10"
  },
  "orig_nbformat": 4
 },
 "nbformat": 4,
 "nbformat_minor": 2
}