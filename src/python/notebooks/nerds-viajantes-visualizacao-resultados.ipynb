{
    "cells": [
        {
            "cell_type": "code",
            "execution_count": 1,
            "source": [
                "%reload_ext autoreload\n",
                "%autoreload 2"
            ],
            "outputs": [],
            "metadata": {}
        },
        {
            "cell_type": "markdown",
            "source": [
                "## Imports"
            ],
            "metadata": {}
        },
        {
            "cell_type": "code",
            "execution_count": 2,
            "source": [
                "from fonte_dados.fabrica import FabricaFonteDados\n",
                "from repository.resultado import ResultadoRepo\n",
                "from resultados import resultados_explorer\n",
                "from resultados import topico_dominante\n",
                "from treinamento.treinamento_lda import TreinamentoLda\n",
                "from util.constants import NERDS_VIAJANTES, WIKIPEDIA\n",
                "\n",
                "import numpy as np\n",
                "import pandas as pd"
            ],
            "outputs": [],
            "metadata": {}
        },
        {
            "cell_type": "markdown",
            "source": [
                "## Carregamento de dados para treinamento"
            ],
            "metadata": {}
        },
        {
            "cell_type": "code",
            "execution_count": 3,
            "source": [
                "fabrica = FabricaFonteDados()\n",
                "num_topics = 57\n",
                "passes = 2\n",
                "fonte_dados = fabrica.get_fonte_dados(NERDS_VIAJANTES)\n",
                "fonte_dados.carregar_dados()\n",
                "ners_viajantes = fonte_dados\n",
                "documentos = fonte_dados.get_tokens()\n",
                "\n",
                "wikipedia = fabrica.get_fonte_dados(WIKIPEDIA)\n",
                "wikipedia.carregar_dados()"
            ],
            "outputs": [],
            "metadata": {}
        },
        {
            "cell_type": "markdown",
            "source": [
                "## Executa treinamento de modelo"
            ],
            "metadata": {}
        },
        {
            "cell_type": "code",
            "execution_count": null,
            "source": [
                "treinamento_lda = TreinamentoLda(num_topics=num_topics, passes=passes)\n",
                "resultado_lda = treinamento_lda.ajustar_modelo(documentos, alpha=0.01, eta=0.01)\n",
                "lda_model = resultado_lda.modelo_lda\n",
                "corpus = resultado_lda.corpus\n",
                "\n",
                "# lda_model.print_topics()"
            ],
            "outputs": [
                {
                    "output_type": "stream",
                    "name": "stdout",
                    "text": [
                        "Ajustando modelo com 57 topicos e 2 passes\n"
                    ]
                }
            ],
            "metadata": {}
        },
        {
            "cell_type": "markdown",
            "source": [
                "## Análise de tópicos"
            ],
            "metadata": {}
        },
        {
            "cell_type": "markdown",
            "source": [
                "### Tópicos dominantes e seu percentual de contribuição em cada documento\n",
                "\n",
                "Em modelos LDA, cada documento é composto de múltiplos tópicos mas tipicamente apenas um tópico é dominante. O código a seguir extrai este tópico dominante para cada texto e mostra o peso do tópico e suas palavras chave formatados."
            ],
            "metadata": {}
        },
        {
            "cell_type": "code",
            "execution_count": null,
            "source": [
                "df_topic_sents_keywords = topico_dominante.format_topics_sentences(ldamodel=lda_model, corpus=resultado_lda.corpus, texts=documentos)\n",
                "\n",
                "# Format\n",
                "df_dominant_topic = df_topic_sents_keywords.reset_index()\n",
                "df_dominant_topic.columns = ['Document_No', 'Dominant_Topic', 'Topic_Perc_Contrib', 'Keywords', 'Text']\n",
                "df_dominant_topic.head(10)"
            ],
            "outputs": [
                {
                    "output_type": "execute_result",
                    "data": {
                        "text/plain": [
                            "   Document_No  Dominant_Topic  Topic_Perc_Contrib  \\\n",
                            "0            0            19.0              0.9949   \n",
                            "1            1             6.0              0.9947   \n",
                            "2            2             8.0              0.9924   \n",
                            "3            3            55.0              0.4061   \n",
                            "4            4            30.0              0.9891   \n",
                            "5            5             1.0              0.9958   \n",
                            "6            6            54.0              0.8293   \n",
                            "7            7             4.0              0.9936   \n",
                            "8            8            17.0              0.9967   \n",
                            "9            9             8.0              0.9113   \n",
                            "\n",
                            "                                            Keywords  \\\n",
                            "0  bonit, temp, cidad, vist, cervej, aind, pra, g...   \n",
                            "1  congr, cidad, ambi, marin, noss, opç, cad, blo...   \n",
                            "2  glaci, temp, pouc, lag, seward, vist, pais, ai...   \n",
                            "3  câm, cidad, loj, estanh, cen, expos, são, peç,...   \n",
                            "4  parqu, ônibu, temp, montanh, expos, fiz, cent,...   \n",
                            "5  sorvet, cidad, aind, histór, mund, uma, pouc, ...   \n",
                            "6  routeburn, track, hut, mus, pais, câm, porqu, ...   \n",
                            "7  argentin, prat, boa, bariloch, cord, cidad, ma...   \n",
                            "8  lag, parqu, barc, águ, bonit, cacho, pouc, táb...   \n",
                            "9  glaci, temp, pouc, lag, seward, vist, pais, ai...   \n",
                            "\n",
                            "                                                Text  \n",
                            "0  [santiag, mus, art, pré, colombi, vár, mes, pe...  \n",
                            "1  [santiag, bacan, dentr, opç, divers, blog, aqu...  \n",
                            "2  [palaci, moned, soment, moned, chilen, santiag...  \n",
                            "3  [hoj, seç, seman, câm, ent, últ, chil, argenti...  \n",
                            "4  [monument, valley, unid, dentr, indígen, trib,...  \n",
                            "5  [cristób, 880m, nível, 280m, nível, santiag, s...  \n",
                            "6  [frutill, cidad, bel, alemã, não, muse, alemán...  \n",
                            "7  [qu, país, boa, sempr, argentin, buen, air, de...  \n",
                            "8  [lag, andin, petrohué, antecipad, lug, bellav,...  \n",
                            "9  [catedr, metropolit, santiag, atr, religi, pop...  "
                        ],
                        "text/html": [
                            "<div>\n",
                            "<style scoped>\n",
                            "    .dataframe tbody tr th:only-of-type {\n",
                            "        vertical-align: middle;\n",
                            "    }\n",
                            "\n",
                            "    .dataframe tbody tr th {\n",
                            "        vertical-align: top;\n",
                            "    }\n",
                            "\n",
                            "    .dataframe thead th {\n",
                            "        text-align: right;\n",
                            "    }\n",
                            "</style>\n",
                            "<table border=\"1\" class=\"dataframe\">\n",
                            "  <thead>\n",
                            "    <tr style=\"text-align: right;\">\n",
                            "      <th></th>\n",
                            "      <th>Document_No</th>\n",
                            "      <th>Dominant_Topic</th>\n",
                            "      <th>Topic_Perc_Contrib</th>\n",
                            "      <th>Keywords</th>\n",
                            "      <th>Text</th>\n",
                            "    </tr>\n",
                            "  </thead>\n",
                            "  <tbody>\n",
                            "    <tr>\n",
                            "      <th>0</th>\n",
                            "      <td>0</td>\n",
                            "      <td>19.0</td>\n",
                            "      <td>0.9949</td>\n",
                            "      <td>bonit, temp, cidad, vist, cervej, aind, pra, g...</td>\n",
                            "      <td>[santiag, mus, art, pré, colombi, vár, mes, pe...</td>\n",
                            "    </tr>\n",
                            "    <tr>\n",
                            "      <th>1</th>\n",
                            "      <td>1</td>\n",
                            "      <td>6.0</td>\n",
                            "      <td>0.9947</td>\n",
                            "      <td>congr, cidad, ambi, marin, noss, opç, cad, blo...</td>\n",
                            "      <td>[santiag, bacan, dentr, opç, divers, blog, aqu...</td>\n",
                            "    </tr>\n",
                            "    <tr>\n",
                            "      <th>2</th>\n",
                            "      <td>2</td>\n",
                            "      <td>8.0</td>\n",
                            "      <td>0.9924</td>\n",
                            "      <td>glaci, temp, pouc, lag, seward, vist, pais, ai...</td>\n",
                            "      <td>[palaci, moned, soment, moned, chilen, santiag...</td>\n",
                            "    </tr>\n",
                            "    <tr>\n",
                            "      <th>3</th>\n",
                            "      <td>3</td>\n",
                            "      <td>55.0</td>\n",
                            "      <td>0.4061</td>\n",
                            "      <td>câm, cidad, loj, estanh, cen, expos, são, peç,...</td>\n",
                            "      <td>[hoj, seç, seman, câm, ent, últ, chil, argenti...</td>\n",
                            "    </tr>\n",
                            "    <tr>\n",
                            "      <th>4</th>\n",
                            "      <td>4</td>\n",
                            "      <td>30.0</td>\n",
                            "      <td>0.9891</td>\n",
                            "      <td>parqu, ônibu, temp, montanh, expos, fiz, cent,...</td>\n",
                            "      <td>[monument, valley, unid, dentr, indígen, trib,...</td>\n",
                            "    </tr>\n",
                            "    <tr>\n",
                            "      <th>5</th>\n",
                            "      <td>5</td>\n",
                            "      <td>1.0</td>\n",
                            "      <td>0.9958</td>\n",
                            "      <td>sorvet, cidad, aind, histór, mund, uma, pouc, ...</td>\n",
                            "      <td>[cristób, 880m, nível, 280m, nível, santiag, s...</td>\n",
                            "    </tr>\n",
                            "    <tr>\n",
                            "      <th>6</th>\n",
                            "      <td>6</td>\n",
                            "      <td>54.0</td>\n",
                            "      <td>0.8293</td>\n",
                            "      <td>routeburn, track, hut, mus, pais, câm, porqu, ...</td>\n",
                            "      <td>[frutill, cidad, bel, alemã, não, muse, alemán...</td>\n",
                            "    </tr>\n",
                            "    <tr>\n",
                            "      <th>7</th>\n",
                            "      <td>7</td>\n",
                            "      <td>4.0</td>\n",
                            "      <td>0.9936</td>\n",
                            "      <td>argentin, prat, boa, bariloch, cord, cidad, ma...</td>\n",
                            "      <td>[qu, país, boa, sempr, argentin, buen, air, de...</td>\n",
                            "    </tr>\n",
                            "    <tr>\n",
                            "      <th>8</th>\n",
                            "      <td>8</td>\n",
                            "      <td>17.0</td>\n",
                            "      <td>0.9967</td>\n",
                            "      <td>lag, parqu, barc, águ, bonit, cacho, pouc, táb...</td>\n",
                            "      <td>[lag, andin, petrohué, antecipad, lug, bellav,...</td>\n",
                            "    </tr>\n",
                            "    <tr>\n",
                            "      <th>9</th>\n",
                            "      <td>9</td>\n",
                            "      <td>8.0</td>\n",
                            "      <td>0.9113</td>\n",
                            "      <td>glaci, temp, pouc, lag, seward, vist, pais, ai...</td>\n",
                            "      <td>[catedr, metropolit, santiag, atr, religi, pop...</td>\n",
                            "    </tr>\n",
                            "  </tbody>\n",
                            "</table>\n",
                            "</div>"
                        ]
                    },
                    "metadata": {},
                    "execution_count": 5
                }
            ],
            "metadata": {}
        },
        {
            "cell_type": "markdown",
            "source": [
                "### O texto mais significativo de cada tópico\n",
                "\n",
                "Algumas vezes queremos obter exemplos de textos que melhor representam um dado tópico. O código a seguir exibe as sentenças mais significativas para cada tópico\n",
                "do treinamento."
            ],
            "metadata": {}
        },
        {
            "cell_type": "code",
            "execution_count": null,
            "source": [
                "sent_topics_sorteddf_mallet = topico_dominante.get_most_significant_sentences(df_topic_sents_keywords)\n",
                "sent_topics_sorteddf_mallet.head(20)"
            ],
            "outputs": [
                {
                    "output_type": "execute_result",
                    "data": {
                        "text/plain": [
                            "    Topic_Num  Topic_Perc_Contrib  \\\n",
                            "0         0.0              0.9943   \n",
                            "1         1.0              0.9974   \n",
                            "2         2.0              0.7644   \n",
                            "3         3.0              0.9978   \n",
                            "4         4.0              0.9936   \n",
                            "5         5.0              0.9974   \n",
                            "6         6.0              0.9947   \n",
                            "7         7.0              0.9984   \n",
                            "8         8.0              0.9978   \n",
                            "9         9.0              0.9951   \n",
                            "10       10.0              0.9957   \n",
                            "11       11.0              0.9975   \n",
                            "12       12.0              0.9940   \n",
                            "13       13.0              0.9964   \n",
                            "14       14.0              0.9967   \n",
                            "15       15.0              0.9964   \n",
                            "16       16.0              0.9957   \n",
                            "17       17.0              0.9975   \n",
                            "18       18.0              0.9944   \n",
                            "19       19.0              0.9983   \n",
                            "\n",
                            "                                                                   Keywords  \\\n",
                            "0           urs, iso, boa, câm, parqu, cinderel, moment, voad, voo, cordilh   \n",
                            "1            sorvet, cidad, aind, histór, mund, uma, pouc, pesso, são, temp   \n",
                            "2     alt, geral, caraç, cidad, santu, igrej, santiag, parqu, matriz, ônibu   \n",
                            "3               prai, bonit, mari, cidad, igrej, pouc, praç, rua, vist, fiz   \n",
                            "4    argentin, prat, boa, bariloch, cord, cidad, mas, afinal, portugu, jauj   \n",
                            "5         lago, lençol, maranh, cervej, cidad, parqu, águ, aind, temp, chei   \n",
                            "6                 congr, cidad, ambi, marin, noss, opç, cad, blog, sit, bel   \n",
                            "7          glaci, temp, quilômetr, pouc, lad, barc, chuv, lag, bonit, jalap   \n",
                            "8          glaci, temp, pouc, lag, seward, vist, pais, aind, montanh, bonit   \n",
                            "9         animal, temp, vist, selv, expos, macr, long, lad, lag, yellowston   \n",
                            "10       refúgi, temp, parqu, cidad, lad, bonit, pain, previs, circuit, pra   \n",
                            "11              atacam, jacu, vulc, nerd, geis, áre, ayllu, lei, vist, aind   \n",
                            "12           fl, farof, cadáv, cacho, inhotim, orc, opç, show, prat, compos   \n",
                            "13           mund, pra, blog, brasíl, blogu, temp, prai, fiz, colecion, dua   \n",
                            "14  calafat, circuit, glaci, pain, natal, caburé, puert, ônibu, trech, barc   \n",
                            "15           tirad, jalap, são, praç, rei, blogu, joã, fiz, bariloch, cidad   \n",
                            "16               jalap, cacho, águ, korub, velh, pra, temp, lei, expos, dun   \n",
                            "17             lag, parqu, barc, águ, bonit, cacho, pouc, tában, vulc, pais   \n",
                            "18           igrej, são, cidad, histór, sant, luí, maranh, joã, alt, azulej   \n",
                            "19          bonit, temp, cidad, vist, cervej, aind, pra, grand, pouc, glaci   \n",
                            "\n",
                            "                                                                                    Representative Text  \n",
                            "0   [selv, intenç, denal, nation, park, parqu, alasc, aind, parqu, animal, inclusiv, urs, espéci, gr...  \n",
                            "1   [boa, gulose, princip, sorvet, sempr, sorvet, bel, horizont, cidad, dentr, sorvet, aless, uma, i...  \n",
                            "2   [rapid, santiag, vall, estaçã, esqu, montanh, passe, princip, cidad, ônibu, hop, hop, off, final...  \n",
                            "3   [noss, fern, noronh, tour, apes, bacan, poi, noronh, fim, agênc, caminhon, 4x4, depois, turist, ...  \n",
                            "4   [qu, país, boa, sempr, argentin, buen, air, depois, bariloch, cidad, boa, bariloch, jauj, cardáp...  \n",
                            "5   [lençol, maranh, antig, junh, 2012, promoç, aére, bom, são, luí, maranh, lençol, maranh, lago, c...  \n",
                            "6   [santiag, bacan, dentr, opç, divers, blog, aquí, blog, destemper, diss, mes, mes, varand, ótim, ...  \n",
                            "7   [sul, argentin, chil, contém, dezen, glaci, uma, boa, barc, lag, argentin, nest, glaci, upsal, s...  \n",
                            "8   [patagôn, calafat, dest, estânc, dentr, opç, cristin, apes, rebanh, ovelh, porqu, dentr, áre, pa...  \n",
                            "9   [yellowston, nation, park, parqu, nacion, unid, selv, sempr, chanc, animal, talv, bich, princip,...  \n",
                            "10  [març, meteorolog, previs, meteorológ, útil, nó, sempr, uma, previs, meteorológ, gent, conf, wea...  \n",
                            "11  [atacam, fam, divers, atr, planíci, montanh, vulc, lago, águ, águ, pequen, águ, fri, geotérm, ge...  \n",
                            "12  [bariloch, experi, gastronôm, incr, depois, passe, catedr, bariloch, rua, palaci, vim, atenç, ne...  \n",
                            "13  [dua, gent, blogu, ótim, dua, encontrobsb, blogu, brasíl, abril, 2015, mal, sealbag, bag, person...  \n",
                            "14  [patagôn, fiz, atr, calafat, chaltén, pain, noss, calafat, cidad, ônibu, calafat, lad, chilen, c...  \n",
                            "15  [gent, não, vej, problem, niss, contr, vár, sugir, compos, ângul, opç, ediç, são, joã, rei, tira...  \n",
                            "16  [hoj, vou, técn, sim, espec, pret, branc, qualqu, pesso, comec, prova, nom, ansel, ad, pret, bra...  \n",
                            "17  [martín, parqu, nacion, lanín, barc, lag, parqu, agênc, pacot, além, parqu, incluí, catamarán, j...  \n",
                            "18  [igrej, igrej, noss, senh, vitór, catedr, são, luí, maranh, histór, cidad, igrej, turís, fach, i...  \n",
                            "19  [uma, chaltén, lagun, tre, lago, fitz, roy, lug, vist, pert, bonit, fort, temp, cad, trech, prin...  "
                        ],
                        "text/html": [
                            "<div>\n",
                            "<style scoped>\n",
                            "    .dataframe tbody tr th:only-of-type {\n",
                            "        vertical-align: middle;\n",
                            "    }\n",
                            "\n",
                            "    .dataframe tbody tr th {\n",
                            "        vertical-align: top;\n",
                            "    }\n",
                            "\n",
                            "    .dataframe thead th {\n",
                            "        text-align: right;\n",
                            "    }\n",
                            "</style>\n",
                            "<table border=\"1\" class=\"dataframe\">\n",
                            "  <thead>\n",
                            "    <tr style=\"text-align: right;\">\n",
                            "      <th></th>\n",
                            "      <th>Topic_Num</th>\n",
                            "      <th>Topic_Perc_Contrib</th>\n",
                            "      <th>Keywords</th>\n",
                            "      <th>Representative Text</th>\n",
                            "    </tr>\n",
                            "  </thead>\n",
                            "  <tbody>\n",
                            "    <tr>\n",
                            "      <th>0</th>\n",
                            "      <td>0.0</td>\n",
                            "      <td>0.9943</td>\n",
                            "      <td>urs, iso, boa, câm, parqu, cinderel, moment, voad, voo, cordilh</td>\n",
                            "      <td>[selv, intenç, denal, nation, park, parqu, alasc, aind, parqu, animal, inclusiv, urs, espéci, gr...</td>\n",
                            "    </tr>\n",
                            "    <tr>\n",
                            "      <th>1</th>\n",
                            "      <td>1.0</td>\n",
                            "      <td>0.9974</td>\n",
                            "      <td>sorvet, cidad, aind, histór, mund, uma, pouc, pesso, são, temp</td>\n",
                            "      <td>[boa, gulose, princip, sorvet, sempr, sorvet, bel, horizont, cidad, dentr, sorvet, aless, uma, i...</td>\n",
                            "    </tr>\n",
                            "    <tr>\n",
                            "      <th>2</th>\n",
                            "      <td>2.0</td>\n",
                            "      <td>0.7644</td>\n",
                            "      <td>alt, geral, caraç, cidad, santu, igrej, santiag, parqu, matriz, ônibu</td>\n",
                            "      <td>[rapid, santiag, vall, estaçã, esqu, montanh, passe, princip, cidad, ônibu, hop, hop, off, final...</td>\n",
                            "    </tr>\n",
                            "    <tr>\n",
                            "      <th>3</th>\n",
                            "      <td>3.0</td>\n",
                            "      <td>0.9978</td>\n",
                            "      <td>prai, bonit, mari, cidad, igrej, pouc, praç, rua, vist, fiz</td>\n",
                            "      <td>[noss, fern, noronh, tour, apes, bacan, poi, noronh, fim, agênc, caminhon, 4x4, depois, turist, ...</td>\n",
                            "    </tr>\n",
                            "    <tr>\n",
                            "      <th>4</th>\n",
                            "      <td>4.0</td>\n",
                            "      <td>0.9936</td>\n",
                            "      <td>argentin, prat, boa, bariloch, cord, cidad, mas, afinal, portugu, jauj</td>\n",
                            "      <td>[qu, país, boa, sempr, argentin, buen, air, depois, bariloch, cidad, boa, bariloch, jauj, cardáp...</td>\n",
                            "    </tr>\n",
                            "    <tr>\n",
                            "      <th>5</th>\n",
                            "      <td>5.0</td>\n",
                            "      <td>0.9974</td>\n",
                            "      <td>lago, lençol, maranh, cervej, cidad, parqu, águ, aind, temp, chei</td>\n",
                            "      <td>[lençol, maranh, antig, junh, 2012, promoç, aére, bom, são, luí, maranh, lençol, maranh, lago, c...</td>\n",
                            "    </tr>\n",
                            "    <tr>\n",
                            "      <th>6</th>\n",
                            "      <td>6.0</td>\n",
                            "      <td>0.9947</td>\n",
                            "      <td>congr, cidad, ambi, marin, noss, opç, cad, blog, sit, bel</td>\n",
                            "      <td>[santiag, bacan, dentr, opç, divers, blog, aquí, blog, destemper, diss, mes, mes, varand, ótim, ...</td>\n",
                            "    </tr>\n",
                            "    <tr>\n",
                            "      <th>7</th>\n",
                            "      <td>7.0</td>\n",
                            "      <td>0.9984</td>\n",
                            "      <td>glaci, temp, quilômetr, pouc, lad, barc, chuv, lag, bonit, jalap</td>\n",
                            "      <td>[sul, argentin, chil, contém, dezen, glaci, uma, boa, barc, lag, argentin, nest, glaci, upsal, s...</td>\n",
                            "    </tr>\n",
                            "    <tr>\n",
                            "      <th>8</th>\n",
                            "      <td>8.0</td>\n",
                            "      <td>0.9978</td>\n",
                            "      <td>glaci, temp, pouc, lag, seward, vist, pais, aind, montanh, bonit</td>\n",
                            "      <td>[patagôn, calafat, dest, estânc, dentr, opç, cristin, apes, rebanh, ovelh, porqu, dentr, áre, pa...</td>\n",
                            "    </tr>\n",
                            "    <tr>\n",
                            "      <th>9</th>\n",
                            "      <td>9.0</td>\n",
                            "      <td>0.9951</td>\n",
                            "      <td>animal, temp, vist, selv, expos, macr, long, lad, lag, yellowston</td>\n",
                            "      <td>[yellowston, nation, park, parqu, nacion, unid, selv, sempr, chanc, animal, talv, bich, princip,...</td>\n",
                            "    </tr>\n",
                            "    <tr>\n",
                            "      <th>10</th>\n",
                            "      <td>10.0</td>\n",
                            "      <td>0.9957</td>\n",
                            "      <td>refúgi, temp, parqu, cidad, lad, bonit, pain, previs, circuit, pra</td>\n",
                            "      <td>[març, meteorolog, previs, meteorológ, útil, nó, sempr, uma, previs, meteorológ, gent, conf, wea...</td>\n",
                            "    </tr>\n",
                            "    <tr>\n",
                            "      <th>11</th>\n",
                            "      <td>11.0</td>\n",
                            "      <td>0.9975</td>\n",
                            "      <td>atacam, jacu, vulc, nerd, geis, áre, ayllu, lei, vist, aind</td>\n",
                            "      <td>[atacam, fam, divers, atr, planíci, montanh, vulc, lago, águ, águ, pequen, águ, fri, geotérm, ge...</td>\n",
                            "    </tr>\n",
                            "    <tr>\n",
                            "      <th>12</th>\n",
                            "      <td>12.0</td>\n",
                            "      <td>0.9940</td>\n",
                            "      <td>fl, farof, cadáv, cacho, inhotim, orc, opç, show, prat, compos</td>\n",
                            "      <td>[bariloch, experi, gastronôm, incr, depois, passe, catedr, bariloch, rua, palaci, vim, atenç, ne...</td>\n",
                            "    </tr>\n",
                            "    <tr>\n",
                            "      <th>13</th>\n",
                            "      <td>13.0</td>\n",
                            "      <td>0.9964</td>\n",
                            "      <td>mund, pra, blog, brasíl, blogu, temp, prai, fiz, colecion, dua</td>\n",
                            "      <td>[dua, gent, blogu, ótim, dua, encontrobsb, blogu, brasíl, abril, 2015, mal, sealbag, bag, person...</td>\n",
                            "    </tr>\n",
                            "    <tr>\n",
                            "      <th>14</th>\n",
                            "      <td>14.0</td>\n",
                            "      <td>0.9967</td>\n",
                            "      <td>calafat, circuit, glaci, pain, natal, caburé, puert, ônibu, trech, barc</td>\n",
                            "      <td>[patagôn, fiz, atr, calafat, chaltén, pain, noss, calafat, cidad, ônibu, calafat, lad, chilen, c...</td>\n",
                            "    </tr>\n",
                            "    <tr>\n",
                            "      <th>15</th>\n",
                            "      <td>15.0</td>\n",
                            "      <td>0.9964</td>\n",
                            "      <td>tirad, jalap, são, praç, rei, blogu, joã, fiz, bariloch, cidad</td>\n",
                            "      <td>[gent, não, vej, problem, niss, contr, vár, sugir, compos, ângul, opç, ediç, são, joã, rei, tira...</td>\n",
                            "    </tr>\n",
                            "    <tr>\n",
                            "      <th>16</th>\n",
                            "      <td>16.0</td>\n",
                            "      <td>0.9957</td>\n",
                            "      <td>jalap, cacho, águ, korub, velh, pra, temp, lei, expos, dun</td>\n",
                            "      <td>[hoj, vou, técn, sim, espec, pret, branc, qualqu, pesso, comec, prova, nom, ansel, ad, pret, bra...</td>\n",
                            "    </tr>\n",
                            "    <tr>\n",
                            "      <th>17</th>\n",
                            "      <td>17.0</td>\n",
                            "      <td>0.9975</td>\n",
                            "      <td>lag, parqu, barc, águ, bonit, cacho, pouc, tában, vulc, pais</td>\n",
                            "      <td>[martín, parqu, nacion, lanín, barc, lag, parqu, agênc, pacot, além, parqu, incluí, catamarán, j...</td>\n",
                            "    </tr>\n",
                            "    <tr>\n",
                            "      <th>18</th>\n",
                            "      <td>18.0</td>\n",
                            "      <td>0.9944</td>\n",
                            "      <td>igrej, são, cidad, histór, sant, luí, maranh, joã, alt, azulej</td>\n",
                            "      <td>[igrej, igrej, noss, senh, vitór, catedr, são, luí, maranh, histór, cidad, igrej, turís, fach, i...</td>\n",
                            "    </tr>\n",
                            "    <tr>\n",
                            "      <th>19</th>\n",
                            "      <td>19.0</td>\n",
                            "      <td>0.9983</td>\n",
                            "      <td>bonit, temp, cidad, vist, cervej, aind, pra, grand, pouc, glaci</td>\n",
                            "      <td>[uma, chaltén, lagun, tre, lago, fitz, roy, lug, vist, pert, bonit, fort, temp, cad, trech, prin...</td>\n",
                            "    </tr>\n",
                            "  </tbody>\n",
                            "</table>\n",
                            "</div>"
                        ]
                    },
                    "metadata": {},
                    "execution_count": 6
                }
            ],
            "metadata": {}
        },
        {
            "cell_type": "markdown",
            "source": [
                "## Carregamento de resultados de execução"
            ],
            "metadata": {}
        },
        {
            "cell_type": "code",
            "execution_count": null,
            "source": [
                "resultados = resultados_explorer.find_all_resultados()"
            ],
            "outputs": [],
            "metadata": {}
        },
        {
            "cell_type": "code",
            "execution_count": null,
            "source": [
                "resultados.head()"
            ],
            "outputs": [
                {
                    "output_type": "execute_result",
                    "data": {
                        "text/plain": [
                            "                        _id                           id_cenario  \\\n",
                            "0  60ff30d62d746456b8fb66b7  NERDS_VIAJANTES-WIKIPEDIA-57_topics   \n",
                            "1  60ff30d62d746456b8fb66b8  NERDS_VIAJANTES-WIKIPEDIA-57_topics   \n",
                            "2  60ff30d62d746456b8fb66b9  NERDS_VIAJANTES-WIKIPEDIA-57_topics   \n",
                            "3  60ff30d62d746456b8fb66ba  NERDS_VIAJANTES-WIKIPEDIA-57_topics   \n",
                            "4  60ff30d62d746456b8fb66bb  NERDS_VIAJANTES-WIKIPEDIA-57_topics   \n",
                            "\n",
                            "      fonte_origem  id_documento_origem  \\\n",
                            "0  NERDS_VIAJANTES                   11   \n",
                            "1  NERDS_VIAJANTES                   60   \n",
                            "2  NERDS_VIAJANTES                  111   \n",
                            "3  NERDS_VIAJANTES                  134   \n",
                            "4  NERDS_VIAJANTES                  167   \n",
                            "\n",
                            "                                        titulo_documento_origem fonte_destino  \\\n",
                            "0  Santiago - Museu de Arte Pré-Colombiana Fechado para Reforma     WIKIPEDIA   \n",
                            "1                         Santiago - Restaurante Aquí Está Coco     WIKIPEDIA   \n",
                            "2                               Santiago - Palacio de la Moneda     WIKIPEDIA   \n",
                            "3                                  Revelando a Foto - Frutillar     WIKIPEDIA   \n",
                            "4                            Revelando a Foto - Monument Valley     WIKIPEDIA   \n",
                            "\n",
                            "   id_documento_destino                  titulo_documento_destino  \\\n",
                            "0                583521  Parque Municipal Américo Renné Giannetti   \n",
                            "1               5948192                             Monte Gareloi   \n",
                            "2                788767                           Antelope Canyon   \n",
                            "3               2267833                                Llanquihue   \n",
                            "4               3031496                      Quebrada das Conchas   \n",
                            "\n",
                            "   distancia_destino  num_topics  passes    eta  alpha cenario_wp  \n",
                            "0           0.119204          57       2  0.005    1.0       full  \n",
                            "1           0.145067          57       2  0.005    1.0       full  \n",
                            "2           0.135925          57       2  0.005    1.0       full  \n",
                            "3           0.083628          57       2  0.005    1.0       full  \n",
                            "4           0.112021          57       2  0.005    1.0       full  "
                        ],
                        "text/html": [
                            "<div>\n",
                            "<style scoped>\n",
                            "    .dataframe tbody tr th:only-of-type {\n",
                            "        vertical-align: middle;\n",
                            "    }\n",
                            "\n",
                            "    .dataframe tbody tr th {\n",
                            "        vertical-align: top;\n",
                            "    }\n",
                            "\n",
                            "    .dataframe thead th {\n",
                            "        text-align: right;\n",
                            "    }\n",
                            "</style>\n",
                            "<table border=\"1\" class=\"dataframe\">\n",
                            "  <thead>\n",
                            "    <tr style=\"text-align: right;\">\n",
                            "      <th></th>\n",
                            "      <th>_id</th>\n",
                            "      <th>id_cenario</th>\n",
                            "      <th>fonte_origem</th>\n",
                            "      <th>id_documento_origem</th>\n",
                            "      <th>titulo_documento_origem</th>\n",
                            "      <th>fonte_destino</th>\n",
                            "      <th>id_documento_destino</th>\n",
                            "      <th>titulo_documento_destino</th>\n",
                            "      <th>distancia_destino</th>\n",
                            "      <th>num_topics</th>\n",
                            "      <th>passes</th>\n",
                            "      <th>eta</th>\n",
                            "      <th>alpha</th>\n",
                            "      <th>cenario_wp</th>\n",
                            "    </tr>\n",
                            "  </thead>\n",
                            "  <tbody>\n",
                            "    <tr>\n",
                            "      <th>0</th>\n",
                            "      <td>60ff30d62d746456b8fb66b7</td>\n",
                            "      <td>NERDS_VIAJANTES-WIKIPEDIA-57_topics</td>\n",
                            "      <td>NERDS_VIAJANTES</td>\n",
                            "      <td>11</td>\n",
                            "      <td>Santiago - Museu de Arte Pré-Colombiana Fechado para Reforma</td>\n",
                            "      <td>WIKIPEDIA</td>\n",
                            "      <td>583521</td>\n",
                            "      <td>Parque Municipal Américo Renné Giannetti</td>\n",
                            "      <td>0.119204</td>\n",
                            "      <td>57</td>\n",
                            "      <td>2</td>\n",
                            "      <td>0.005</td>\n",
                            "      <td>1.0</td>\n",
                            "      <td>full</td>\n",
                            "    </tr>\n",
                            "    <tr>\n",
                            "      <th>1</th>\n",
                            "      <td>60ff30d62d746456b8fb66b8</td>\n",
                            "      <td>NERDS_VIAJANTES-WIKIPEDIA-57_topics</td>\n",
                            "      <td>NERDS_VIAJANTES</td>\n",
                            "      <td>60</td>\n",
                            "      <td>Santiago - Restaurante Aquí Está Coco</td>\n",
                            "      <td>WIKIPEDIA</td>\n",
                            "      <td>5948192</td>\n",
                            "      <td>Monte Gareloi</td>\n",
                            "      <td>0.145067</td>\n",
                            "      <td>57</td>\n",
                            "      <td>2</td>\n",
                            "      <td>0.005</td>\n",
                            "      <td>1.0</td>\n",
                            "      <td>full</td>\n",
                            "    </tr>\n",
                            "    <tr>\n",
                            "      <th>2</th>\n",
                            "      <td>60ff30d62d746456b8fb66b9</td>\n",
                            "      <td>NERDS_VIAJANTES-WIKIPEDIA-57_topics</td>\n",
                            "      <td>NERDS_VIAJANTES</td>\n",
                            "      <td>111</td>\n",
                            "      <td>Santiago - Palacio de la Moneda</td>\n",
                            "      <td>WIKIPEDIA</td>\n",
                            "      <td>788767</td>\n",
                            "      <td>Antelope Canyon</td>\n",
                            "      <td>0.135925</td>\n",
                            "      <td>57</td>\n",
                            "      <td>2</td>\n",
                            "      <td>0.005</td>\n",
                            "      <td>1.0</td>\n",
                            "      <td>full</td>\n",
                            "    </tr>\n",
                            "    <tr>\n",
                            "      <th>3</th>\n",
                            "      <td>60ff30d62d746456b8fb66ba</td>\n",
                            "      <td>NERDS_VIAJANTES-WIKIPEDIA-57_topics</td>\n",
                            "      <td>NERDS_VIAJANTES</td>\n",
                            "      <td>134</td>\n",
                            "      <td>Revelando a Foto - Frutillar</td>\n",
                            "      <td>WIKIPEDIA</td>\n",
                            "      <td>2267833</td>\n",
                            "      <td>Llanquihue</td>\n",
                            "      <td>0.083628</td>\n",
                            "      <td>57</td>\n",
                            "      <td>2</td>\n",
                            "      <td>0.005</td>\n",
                            "      <td>1.0</td>\n",
                            "      <td>full</td>\n",
                            "    </tr>\n",
                            "    <tr>\n",
                            "      <th>4</th>\n",
                            "      <td>60ff30d62d746456b8fb66bb</td>\n",
                            "      <td>NERDS_VIAJANTES-WIKIPEDIA-57_topics</td>\n",
                            "      <td>NERDS_VIAJANTES</td>\n",
                            "      <td>167</td>\n",
                            "      <td>Revelando a Foto - Monument Valley</td>\n",
                            "      <td>WIKIPEDIA</td>\n",
                            "      <td>3031496</td>\n",
                            "      <td>Quebrada das Conchas</td>\n",
                            "      <td>0.112021</td>\n",
                            "      <td>57</td>\n",
                            "      <td>2</td>\n",
                            "      <td>0.005</td>\n",
                            "      <td>1.0</td>\n",
                            "      <td>full</td>\n",
                            "    </tr>\n",
                            "  </tbody>\n",
                            "</table>\n",
                            "</div>"
                        ]
                    },
                    "metadata": {},
                    "execution_count": 8
                }
            ],
            "metadata": {}
        },
        {
            "cell_type": "markdown",
            "source": [
                "## Comportamento da variação da semelhança por parâmetros"
            ],
            "metadata": {}
        },
        {
            "cell_type": "markdown",
            "source": [
                "### Média e desvio padrão por conjunto de páginas"
            ],
            "metadata": {}
        },
        {
            "cell_type": "code",
            "execution_count": null,
            "source": [
                "resultados.groupby(['cenario_wp'])['distancia_destino'].agg([np.mean, np.std]).reset_index()"
            ],
            "outputs": [
                {
                    "output_type": "execute_result",
                    "data": {
                        "text/plain": [
                            "  cenario_wp      mean       std\n",
                            "0       full  0.244593  0.169004\n",
                            "1      gte42  0.293772  0.196154"
                        ],
                        "text/html": [
                            "<div>\n",
                            "<style scoped>\n",
                            "    .dataframe tbody tr th:only-of-type {\n",
                            "        vertical-align: middle;\n",
                            "    }\n",
                            "\n",
                            "    .dataframe tbody tr th {\n",
                            "        vertical-align: top;\n",
                            "    }\n",
                            "\n",
                            "    .dataframe thead th {\n",
                            "        text-align: right;\n",
                            "    }\n",
                            "</style>\n",
                            "<table border=\"1\" class=\"dataframe\">\n",
                            "  <thead>\n",
                            "    <tr style=\"text-align: right;\">\n",
                            "      <th></th>\n",
                            "      <th>cenario_wp</th>\n",
                            "      <th>mean</th>\n",
                            "      <th>std</th>\n",
                            "    </tr>\n",
                            "  </thead>\n",
                            "  <tbody>\n",
                            "    <tr>\n",
                            "      <th>0</th>\n",
                            "      <td>full</td>\n",
                            "      <td>0.244593</td>\n",
                            "      <td>0.169004</td>\n",
                            "    </tr>\n",
                            "    <tr>\n",
                            "      <th>1</th>\n",
                            "      <td>gte42</td>\n",
                            "      <td>0.293772</td>\n",
                            "      <td>0.196154</td>\n",
                            "    </tr>\n",
                            "  </tbody>\n",
                            "</table>\n",
                            "</div>"
                        ]
                    },
                    "metadata": {},
                    "execution_count": 9
                }
            ],
            "metadata": {}
        },
        {
            "cell_type": "code",
            "execution_count": null,
            "source": [
                "resultados.groupby(['num_topics'])['distancia_destino'].agg([np.mean, np.std]).reset_index()"
            ],
            "outputs": [
                {
                    "output_type": "execute_result",
                    "data": {
                        "text/plain": [
                            "   num_topics      mean       std\n",
                            "0          22  0.234775  0.161470\n",
                            "1          39  0.266610  0.173423\n",
                            "2          45  0.270563  0.178036\n",
                            "3          57  0.276523  0.184559\n",
                            "4          67  0.285299  0.187543\n",
                            "5          72  0.279334  0.191407\n",
                            "6         101  0.271173  0.208681"
                        ],
                        "text/html": [
                            "<div>\n",
                            "<style scoped>\n",
                            "    .dataframe tbody tr th:only-of-type {\n",
                            "        vertical-align: middle;\n",
                            "    }\n",
                            "\n",
                            "    .dataframe tbody tr th {\n",
                            "        vertical-align: top;\n",
                            "    }\n",
                            "\n",
                            "    .dataframe thead th {\n",
                            "        text-align: right;\n",
                            "    }\n",
                            "</style>\n",
                            "<table border=\"1\" class=\"dataframe\">\n",
                            "  <thead>\n",
                            "    <tr style=\"text-align: right;\">\n",
                            "      <th></th>\n",
                            "      <th>num_topics</th>\n",
                            "      <th>mean</th>\n",
                            "      <th>std</th>\n",
                            "    </tr>\n",
                            "  </thead>\n",
                            "  <tbody>\n",
                            "    <tr>\n",
                            "      <th>0</th>\n",
                            "      <td>22</td>\n",
                            "      <td>0.234775</td>\n",
                            "      <td>0.161470</td>\n",
                            "    </tr>\n",
                            "    <tr>\n",
                            "      <th>1</th>\n",
                            "      <td>39</td>\n",
                            "      <td>0.266610</td>\n",
                            "      <td>0.173423</td>\n",
                            "    </tr>\n",
                            "    <tr>\n",
                            "      <th>2</th>\n",
                            "      <td>45</td>\n",
                            "      <td>0.270563</td>\n",
                            "      <td>0.178036</td>\n",
                            "    </tr>\n",
                            "    <tr>\n",
                            "      <th>3</th>\n",
                            "      <td>57</td>\n",
                            "      <td>0.276523</td>\n",
                            "      <td>0.184559</td>\n",
                            "    </tr>\n",
                            "    <tr>\n",
                            "      <th>4</th>\n",
                            "      <td>67</td>\n",
                            "      <td>0.285299</td>\n",
                            "      <td>0.187543</td>\n",
                            "    </tr>\n",
                            "    <tr>\n",
                            "      <th>5</th>\n",
                            "      <td>72</td>\n",
                            "      <td>0.279334</td>\n",
                            "      <td>0.191407</td>\n",
                            "    </tr>\n",
                            "    <tr>\n",
                            "      <th>6</th>\n",
                            "      <td>101</td>\n",
                            "      <td>0.271173</td>\n",
                            "      <td>0.208681</td>\n",
                            "    </tr>\n",
                            "  </tbody>\n",
                            "</table>\n",
                            "</div>"
                        ]
                    },
                    "metadata": {},
                    "execution_count": 10
                }
            ],
            "metadata": {}
        },
        {
            "cell_type": "code",
            "execution_count": null,
            "source": [
                "resultados.groupby(['alpha'])['distancia_destino'].agg([np.mean, np.std]).reset_index()"
            ],
            "outputs": [
                {
                    "output_type": "execute_result",
                    "data": {
                        "text/plain": [
                            "   alpha      mean       std\n",
                            "0   0.01  0.299975  0.202525\n",
                            "1   0.10  0.327551  0.181500\n",
                            "2   1.00  0.180020  0.126922"
                        ],
                        "text/html": [
                            "<div>\n",
                            "<style scoped>\n",
                            "    .dataframe tbody tr th:only-of-type {\n",
                            "        vertical-align: middle;\n",
                            "    }\n",
                            "\n",
                            "    .dataframe tbody tr th {\n",
                            "        vertical-align: top;\n",
                            "    }\n",
                            "\n",
                            "    .dataframe thead th {\n",
                            "        text-align: right;\n",
                            "    }\n",
                            "</style>\n",
                            "<table border=\"1\" class=\"dataframe\">\n",
                            "  <thead>\n",
                            "    <tr style=\"text-align: right;\">\n",
                            "      <th></th>\n",
                            "      <th>alpha</th>\n",
                            "      <th>mean</th>\n",
                            "      <th>std</th>\n",
                            "    </tr>\n",
                            "  </thead>\n",
                            "  <tbody>\n",
                            "    <tr>\n",
                            "      <th>0</th>\n",
                            "      <td>0.01</td>\n",
                            "      <td>0.299975</td>\n",
                            "      <td>0.202525</td>\n",
                            "    </tr>\n",
                            "    <tr>\n",
                            "      <th>1</th>\n",
                            "      <td>0.10</td>\n",
                            "      <td>0.327551</td>\n",
                            "      <td>0.181500</td>\n",
                            "    </tr>\n",
                            "    <tr>\n",
                            "      <th>2</th>\n",
                            "      <td>1.00</td>\n",
                            "      <td>0.180020</td>\n",
                            "      <td>0.126922</td>\n",
                            "    </tr>\n",
                            "  </tbody>\n",
                            "</table>\n",
                            "</div>"
                        ]
                    },
                    "metadata": {},
                    "execution_count": 11
                }
            ],
            "metadata": {}
        },
        {
            "cell_type": "code",
            "execution_count": null,
            "source": [
                "resultados.groupby(['eta'])['distancia_destino'].agg([np.mean, np.std]).reset_index()"
            ],
            "outputs": [
                {
                    "output_type": "execute_result",
                    "data": {
                        "text/plain": [
                            "     eta      mean       std\n",
                            "0  0.005  0.379512  0.150678\n",
                            "1  0.050  0.371781  0.150373\n",
                            "2  0.500  0.205030  0.152114\n",
                            "3  1.000  0.120406  0.138177"
                        ],
                        "text/html": [
                            "<div>\n",
                            "<style scoped>\n",
                            "    .dataframe tbody tr th:only-of-type {\n",
                            "        vertical-align: middle;\n",
                            "    }\n",
                            "\n",
                            "    .dataframe tbody tr th {\n",
                            "        vertical-align: top;\n",
                            "    }\n",
                            "\n",
                            "    .dataframe thead th {\n",
                            "        text-align: right;\n",
                            "    }\n",
                            "</style>\n",
                            "<table border=\"1\" class=\"dataframe\">\n",
                            "  <thead>\n",
                            "    <tr style=\"text-align: right;\">\n",
                            "      <th></th>\n",
                            "      <th>eta</th>\n",
                            "      <th>mean</th>\n",
                            "      <th>std</th>\n",
                            "    </tr>\n",
                            "  </thead>\n",
                            "  <tbody>\n",
                            "    <tr>\n",
                            "      <th>0</th>\n",
                            "      <td>0.005</td>\n",
                            "      <td>0.379512</td>\n",
                            "      <td>0.150678</td>\n",
                            "    </tr>\n",
                            "    <tr>\n",
                            "      <th>1</th>\n",
                            "      <td>0.050</td>\n",
                            "      <td>0.371781</td>\n",
                            "      <td>0.150373</td>\n",
                            "    </tr>\n",
                            "    <tr>\n",
                            "      <th>2</th>\n",
                            "      <td>0.500</td>\n",
                            "      <td>0.205030</td>\n",
                            "      <td>0.152114</td>\n",
                            "    </tr>\n",
                            "    <tr>\n",
                            "      <th>3</th>\n",
                            "      <td>1.000</td>\n",
                            "      <td>0.120406</td>\n",
                            "      <td>0.138177</td>\n",
                            "    </tr>\n",
                            "  </tbody>\n",
                            "</table>\n",
                            "</div>"
                        ]
                    },
                    "metadata": {},
                    "execution_count": 12
                }
            ],
            "metadata": {}
        },
        {
            "cell_type": "code",
            "execution_count": null,
            "source": [
                "resultados.groupby(['passes'])['distancia_destino'].agg([np.mean, np.std]).reset_index()"
            ],
            "outputs": [
                {
                    "output_type": "execute_result",
                    "data": {
                        "text/plain": [
                            "   passes      mean       std\n",
                            "0       2  0.265562  0.186465\n",
                            "1      10  0.272802  0.182900"
                        ],
                        "text/html": [
                            "<div>\n",
                            "<style scoped>\n",
                            "    .dataframe tbody tr th:only-of-type {\n",
                            "        vertical-align: middle;\n",
                            "    }\n",
                            "\n",
                            "    .dataframe tbody tr th {\n",
                            "        vertical-align: top;\n",
                            "    }\n",
                            "\n",
                            "    .dataframe thead th {\n",
                            "        text-align: right;\n",
                            "    }\n",
                            "</style>\n",
                            "<table border=\"1\" class=\"dataframe\">\n",
                            "  <thead>\n",
                            "    <tr style=\"text-align: right;\">\n",
                            "      <th></th>\n",
                            "      <th>passes</th>\n",
                            "      <th>mean</th>\n",
                            "      <th>std</th>\n",
                            "    </tr>\n",
                            "  </thead>\n",
                            "  <tbody>\n",
                            "    <tr>\n",
                            "      <th>0</th>\n",
                            "      <td>2</td>\n",
                            "      <td>0.265562</td>\n",
                            "      <td>0.186465</td>\n",
                            "    </tr>\n",
                            "    <tr>\n",
                            "      <th>1</th>\n",
                            "      <td>10</td>\n",
                            "      <td>0.272802</td>\n",
                            "      <td>0.182900</td>\n",
                            "    </tr>\n",
                            "  </tbody>\n",
                            "</table>\n",
                            "</div>"
                        ]
                    },
                    "metadata": {},
                    "execution_count": 13
                }
            ],
            "metadata": {}
        },
        {
            "cell_type": "markdown",
            "source": [
                "### Distribuição de distâncias por conjunto de páginas"
            ],
            "metadata": {}
        },
        {
            "cell_type": "code",
            "execution_count": null,
            "source": [
                "import seaborn as sns\n",
                "sns.set_theme()\n",
                "\n",
                "resultados_explorer.distribuicao_distancias(resultados)"
            ],
            "outputs": [
                {
                    "output_type": "display_data",
                    "data": {
                        "text/plain": [
                            "<Figure size 508.925x360 with 1 Axes>"
                        ],
                        "image/png": "[encoded data removed]"
                    },
                    "metadata": {}
                }
            ],
            "metadata": {}
        },
        {
            "cell_type": "code",
            "execution_count": null,
            "source": [
                "resultados_explorer.distribuicao_distancias(resultados, hue='alpha')"
            ],
            "outputs": [
                {
                    "output_type": "display_data",
                    "data": {
                        "text/plain": [
                            "<Figure size 495.975x360 with 1 Axes>"
                        ],
                        "image/png": "[encoded data removed]"
                    },
                    "metadata": {}
                }
            ],
            "metadata": {}
        },
        {
            "cell_type": "code",
            "execution_count": null,
            "source": [
                "resultados_explorer.distribuicao_distancias(resultados, hue='eta')"
            ],
            "outputs": [
                {
                    "output_type": "display_data",
                    "data": {
                        "text/plain": [
                            "<Figure size 502.85x360 with 1 Axes>"
                        ],
                        "image/png": "[encoded data removed]"
                    },
                    "metadata": {}
                }
            ],
            "metadata": {}
        },
        {
            "cell_type": "code",
            "execution_count": null,
            "source": [
                "resultados_explorer.distribuicao_distancias(resultados, hue='passes')"
            ],
            "outputs": [
                {
                    "output_type": "display_data",
                    "data": {
                        "text/plain": [
                            "<Figure size 485.6x360 with 1 Axes>"
                        ],
                        "image/png": "[encoded data removed]"
                    },
                    "metadata": {}
                }
            ],
            "metadata": {}
        },
        {
            "cell_type": "markdown",
            "source": [
                "## Variação da quantidade de documentos recomendados por documento de origem"
            ],
            "metadata": {}
        },
        {
            "cell_type": "code",
            "execution_count": null,
            "source": [
                "grouped_origem = resultados.groupby('id_documento_origem')\n",
                "grouped_origem = grouped_origem.agg({'id_documento_destino': 'nunique'}).reset_index().sort_values(by='id_documento_destino')\n",
                "grouped_origem"
            ],
            "outputs": [
                {
                    "output_type": "execute_result",
                    "data": {
                        "text/plain": [
                            "     id_documento_origem  id_documento_destino\n",
                            "228                 7923                    43\n",
                            "200                 7131                    45\n",
                            "234                 8116                    46\n",
                            "199                 7108                    48\n",
                            "235                 8146                    51\n",
                            "..                   ...                   ...\n",
                            "250                 8896                   157\n",
                            "159                 5641                   158\n",
                            "4                    134                   158\n",
                            "120                 3721                   158\n",
                            "186                 6798                   168\n",
                            "\n",
                            "[378 rows x 2 columns]"
                        ],
                        "text/html": [
                            "<div>\n",
                            "<style scoped>\n",
                            "    .dataframe tbody tr th:only-of-type {\n",
                            "        vertical-align: middle;\n",
                            "    }\n",
                            "\n",
                            "    .dataframe tbody tr th {\n",
                            "        vertical-align: top;\n",
                            "    }\n",
                            "\n",
                            "    .dataframe thead th {\n",
                            "        text-align: right;\n",
                            "    }\n",
                            "</style>\n",
                            "<table border=\"1\" class=\"dataframe\">\n",
                            "  <thead>\n",
                            "    <tr style=\"text-align: right;\">\n",
                            "      <th></th>\n",
                            "      <th>id_documento_origem</th>\n",
                            "      <th>id_documento_destino</th>\n",
                            "    </tr>\n",
                            "  </thead>\n",
                            "  <tbody>\n",
                            "    <tr>\n",
                            "      <th>228</th>\n",
                            "      <td>7923</td>\n",
                            "      <td>43</td>\n",
                            "    </tr>\n",
                            "    <tr>\n",
                            "      <th>200</th>\n",
                            "      <td>7131</td>\n",
                            "      <td>45</td>\n",
                            "    </tr>\n",
                            "    <tr>\n",
                            "      <th>234</th>\n",
                            "      <td>8116</td>\n",
                            "      <td>46</td>\n",
                            "    </tr>\n",
                            "    <tr>\n",
                            "      <th>199</th>\n",
                            "      <td>7108</td>\n",
                            "      <td>48</td>\n",
                            "    </tr>\n",
                            "    <tr>\n",
                            "      <th>235</th>\n",
                            "      <td>8146</td>\n",
                            "      <td>51</td>\n",
                            "    </tr>\n",
                            "    <tr>\n",
                            "      <th>...</th>\n",
                            "      <td>...</td>\n",
                            "      <td>...</td>\n",
                            "    </tr>\n",
                            "    <tr>\n",
                            "      <th>250</th>\n",
                            "      <td>8896</td>\n",
                            "      <td>157</td>\n",
                            "    </tr>\n",
                            "    <tr>\n",
                            "      <th>159</th>\n",
                            "      <td>5641</td>\n",
                            "      <td>158</td>\n",
                            "    </tr>\n",
                            "    <tr>\n",
                            "      <th>4</th>\n",
                            "      <td>134</td>\n",
                            "      <td>158</td>\n",
                            "    </tr>\n",
                            "    <tr>\n",
                            "      <th>120</th>\n",
                            "      <td>3721</td>\n",
                            "      <td>158</td>\n",
                            "    </tr>\n",
                            "    <tr>\n",
                            "      <th>186</th>\n",
                            "      <td>6798</td>\n",
                            "      <td>168</td>\n",
                            "    </tr>\n",
                            "  </tbody>\n",
                            "</table>\n",
                            "<p>378 rows × 2 columns</p>\n",
                            "</div>"
                        ]
                    },
                    "metadata": {},
                    "execution_count": 18
                }
            ],
            "metadata": {}
        },
        {
            "cell_type": "code",
            "execution_count": null,
            "source": [
                "ax = sns.displot(grouped_origem, x='id_documento_destino', kind='hist', aspect=1.2, kde=True)\n",
                "ax.set(xlabel='Documentos distintos recomendados por origem', ylabel='Frequência', \n",
                "        title='Quantidade documentos distintos recomendados por origem')"
            ],
            "outputs": [
                {
                    "output_type": "execute_result",
                    "data": {
                        "text/plain": [
                            "<seaborn.axisgrid.FacetGrid at 0x7fb24335fee0>"
                        ]
                    },
                    "metadata": {},
                    "execution_count": 19
                },
                {
                    "output_type": "display_data",
                    "data": {
                        "text/plain": [
                            "<Figure size 432x360 with 1 Axes>"
                        ],
                        "image/png": "[encoded data removed]"
                    },
                    "metadata": {}
                }
            ],
            "metadata": {}
        },
        {
            "cell_type": "code",
            "execution_count": null,
            "source": [
                "resultados_explorer.destinos_distintos_por_parametro(resultados, 'num_topics', 7)"
            ],
            "outputs": [
                {
                    "output_type": "execute_result",
                    "data": {
                        "text/plain": [
                            "      id_documento_origem  num_topics  id_documento_destino  possiveis\n",
                            "1100                 5599          39                     4       48.0\n",
                            "2534                14565          22                     7       48.0\n",
                            "1102                 5599          57                     7       48.0\n",
                            "2535                14565          39                     8       48.0\n",
                            "2451                13988          39                     8       48.0\n",
                            "...                   ...         ...                   ...        ...\n",
                            "2049                10475          72                    36       48.0\n",
                            "1753                 8896          57                    36       48.0\n",
                            "2029                10399         101                    36       48.0\n",
                            "2592                14946          45                    37       48.0\n",
                            "1754                 8896          67                    38       48.0\n",
                            "\n",
                            "[2646 rows x 4 columns]"
                        ],
                        "text/html": [
                            "<div>\n",
                            "<style scoped>\n",
                            "    .dataframe tbody tr th:only-of-type {\n",
                            "        vertical-align: middle;\n",
                            "    }\n",
                            "\n",
                            "    .dataframe tbody tr th {\n",
                            "        vertical-align: top;\n",
                            "    }\n",
                            "\n",
                            "    .dataframe thead th {\n",
                            "        text-align: right;\n",
                            "    }\n",
                            "</style>\n",
                            "<table border=\"1\" class=\"dataframe\">\n",
                            "  <thead>\n",
                            "    <tr style=\"text-align: right;\">\n",
                            "      <th></th>\n",
                            "      <th>id_documento_origem</th>\n",
                            "      <th>num_topics</th>\n",
                            "      <th>id_documento_destino</th>\n",
                            "      <th>possiveis</th>\n",
                            "    </tr>\n",
                            "  </thead>\n",
                            "  <tbody>\n",
                            "    <tr>\n",
                            "      <th>1100</th>\n",
                            "      <td>5599</td>\n",
                            "      <td>39</td>\n",
                            "      <td>4</td>\n",
                            "      <td>48.0</td>\n",
                            "    </tr>\n",
                            "    <tr>\n",
                            "      <th>2534</th>\n",
                            "      <td>14565</td>\n",
                            "      <td>22</td>\n",
                            "      <td>7</td>\n",
                            "      <td>48.0</td>\n",
                            "    </tr>\n",
                            "    <tr>\n",
                            "      <th>1102</th>\n",
                            "      <td>5599</td>\n",
                            "      <td>57</td>\n",
                            "      <td>7</td>\n",
                            "      <td>48.0</td>\n",
                            "    </tr>\n",
                            "    <tr>\n",
                            "      <th>2535</th>\n",
                            "      <td>14565</td>\n",
                            "      <td>39</td>\n",
                            "      <td>8</td>\n",
                            "      <td>48.0</td>\n",
                            "    </tr>\n",
                            "    <tr>\n",
                            "      <th>2451</th>\n",
                            "      <td>13988</td>\n",
                            "      <td>39</td>\n",
                            "      <td>8</td>\n",
                            "      <td>48.0</td>\n",
                            "    </tr>\n",
                            "    <tr>\n",
                            "      <th>...</th>\n",
                            "      <td>...</td>\n",
                            "      <td>...</td>\n",
                            "      <td>...</td>\n",
                            "      <td>...</td>\n",
                            "    </tr>\n",
                            "    <tr>\n",
                            "      <th>2049</th>\n",
                            "      <td>10475</td>\n",
                            "      <td>72</td>\n",
                            "      <td>36</td>\n",
                            "      <td>48.0</td>\n",
                            "    </tr>\n",
                            "    <tr>\n",
                            "      <th>1753</th>\n",
                            "      <td>8896</td>\n",
                            "      <td>57</td>\n",
                            "      <td>36</td>\n",
                            "      <td>48.0</td>\n",
                            "    </tr>\n",
                            "    <tr>\n",
                            "      <th>2029</th>\n",
                            "      <td>10399</td>\n",
                            "      <td>101</td>\n",
                            "      <td>36</td>\n",
                            "      <td>48.0</td>\n",
                            "    </tr>\n",
                            "    <tr>\n",
                            "      <th>2592</th>\n",
                            "      <td>14946</td>\n",
                            "      <td>45</td>\n",
                            "      <td>37</td>\n",
                            "      <td>48.0</td>\n",
                            "    </tr>\n",
                            "    <tr>\n",
                            "      <th>1754</th>\n",
                            "      <td>8896</td>\n",
                            "      <td>67</td>\n",
                            "      <td>38</td>\n",
                            "      <td>48.0</td>\n",
                            "    </tr>\n",
                            "  </tbody>\n",
                            "</table>\n",
                            "<p>2646 rows × 4 columns</p>\n",
                            "</div>"
                        ]
                    },
                    "metadata": {},
                    "execution_count": 21
                }
            ],
            "metadata": {}
        },
        {
            "cell_type": "code",
            "execution_count": null,
            "source": [
                "resultados_explorer.destinos_distintos_por_parametro(resultados, 'alpha', 3)"
            ],
            "outputs": [
                {
                    "output_type": "execute_result",
                    "data": {
                        "text/plain": [
                            "      id_documento_origem  alpha  id_documento_destino  possiveis\n",
                            "473                  5599   1.00                     5      112.0\n",
                            "1037                13617   1.00                     8      112.0\n",
                            "1022                13360   1.00                     9      112.0\n",
                            "1019                13356   1.00                    10      112.0\n",
                            "1133                15389   1.00                    11      112.0\n",
                            "...                   ...    ...                   ...        ...\n",
                            "751                  8896   0.10                    76      112.0\n",
                            "547                  6637   0.10                    76      112.0\n",
                            "1110                14946   0.01                    77      112.0\n",
                            "750                  8896   0.01                    77      112.0\n",
                            "559                  6798   0.10                    77      112.0\n",
                            "\n",
                            "[1134 rows x 4 columns]"
                        ],
                        "text/html": [
                            "<div>\n",
                            "<style scoped>\n",
                            "    .dataframe tbody tr th:only-of-type {\n",
                            "        vertical-align: middle;\n",
                            "    }\n",
                            "\n",
                            "    .dataframe tbody tr th {\n",
                            "        vertical-align: top;\n",
                            "    }\n",
                            "\n",
                            "    .dataframe thead th {\n",
                            "        text-align: right;\n",
                            "    }\n",
                            "</style>\n",
                            "<table border=\"1\" class=\"dataframe\">\n",
                            "  <thead>\n",
                            "    <tr style=\"text-align: right;\">\n",
                            "      <th></th>\n",
                            "      <th>id_documento_origem</th>\n",
                            "      <th>alpha</th>\n",
                            "      <th>id_documento_destino</th>\n",
                            "      <th>possiveis</th>\n",
                            "    </tr>\n",
                            "  </thead>\n",
                            "  <tbody>\n",
                            "    <tr>\n",
                            "      <th>473</th>\n",
                            "      <td>5599</td>\n",
                            "      <td>1.00</td>\n",
                            "      <td>5</td>\n",
                            "      <td>112.0</td>\n",
                            "    </tr>\n",
                            "    <tr>\n",
                            "      <th>1037</th>\n",
                            "      <td>13617</td>\n",
                            "      <td>1.00</td>\n",
                            "      <td>8</td>\n",
                            "      <td>112.0</td>\n",
                            "    </tr>\n",
                            "    <tr>\n",
                            "      <th>1022</th>\n",
                            "      <td>13360</td>\n",
                            "      <td>1.00</td>\n",
                            "      <td>9</td>\n",
                            "      <td>112.0</td>\n",
                            "    </tr>\n",
                            "    <tr>\n",
                            "      <th>1019</th>\n",
                            "      <td>13356</td>\n",
                            "      <td>1.00</td>\n",
                            "      <td>10</td>\n",
                            "      <td>112.0</td>\n",
                            "    </tr>\n",
                            "    <tr>\n",
                            "      <th>1133</th>\n",
                            "      <td>15389</td>\n",
                            "      <td>1.00</td>\n",
                            "      <td>11</td>\n",
                            "      <td>112.0</td>\n",
                            "    </tr>\n",
                            "    <tr>\n",
                            "      <th>...</th>\n",
                            "      <td>...</td>\n",
                            "      <td>...</td>\n",
                            "      <td>...</td>\n",
                            "      <td>...</td>\n",
                            "    </tr>\n",
                            "    <tr>\n",
                            "      <th>751</th>\n",
                            "      <td>8896</td>\n",
                            "      <td>0.10</td>\n",
                            "      <td>76</td>\n",
                            "      <td>112.0</td>\n",
                            "    </tr>\n",
                            "    <tr>\n",
                            "      <th>547</th>\n",
                            "      <td>6637</td>\n",
                            "      <td>0.10</td>\n",
                            "      <td>76</td>\n",
                            "      <td>112.0</td>\n",
                            "    </tr>\n",
                            "    <tr>\n",
                            "      <th>1110</th>\n",
                            "      <td>14946</td>\n",
                            "      <td>0.01</td>\n",
                            "      <td>77</td>\n",
                            "      <td>112.0</td>\n",
                            "    </tr>\n",
                            "    <tr>\n",
                            "      <th>750</th>\n",
                            "      <td>8896</td>\n",
                            "      <td>0.01</td>\n",
                            "      <td>77</td>\n",
                            "      <td>112.0</td>\n",
                            "    </tr>\n",
                            "    <tr>\n",
                            "      <th>559</th>\n",
                            "      <td>6798</td>\n",
                            "      <td>0.10</td>\n",
                            "      <td>77</td>\n",
                            "      <td>112.0</td>\n",
                            "    </tr>\n",
                            "  </tbody>\n",
                            "</table>\n",
                            "<p>1134 rows × 4 columns</p>\n",
                            "</div>"
                        ]
                    },
                    "metadata": {},
                    "execution_count": 22
                }
            ],
            "metadata": {}
        },
        {
            "cell_type": "code",
            "execution_count": null,
            "source": [
                "resultados_explorer.destinos_distintos_por_parametro(resultados, 'eta', 4)"
            ],
            "outputs": [
                {
                    "output_type": "execute_result",
                    "data": {
                        "text/plain": [
                            "      id_documento_origem    eta  id_documento_destino  possiveis\n",
                            "448                  3339  0.005                    15       84.0\n",
                            "1508                15389  0.005                    15       84.0\n",
                            "629                  5599  0.050                    15       84.0\n",
                            "815                  7185  1.000                    16       84.0\n",
                            "1389                13870  0.050                    16       84.0\n",
                            "...                   ...    ...                   ...        ...\n",
                            "1000                 8896  0.005                    57       84.0\n",
                            "744                  6798  0.005                    58       84.0\n",
                            "1003                 8896  1.000                    58       84.0\n",
                            "1482                14946  0.500                    59       84.0\n",
                            "636                  5641  0.005                    61       84.0\n",
                            "\n",
                            "[1512 rows x 4 columns]"
                        ],
                        "text/html": [
                            "<div>\n",
                            "<style scoped>\n",
                            "    .dataframe tbody tr th:only-of-type {\n",
                            "        vertical-align: middle;\n",
                            "    }\n",
                            "\n",
                            "    .dataframe tbody tr th {\n",
                            "        vertical-align: top;\n",
                            "    }\n",
                            "\n",
                            "    .dataframe thead th {\n",
                            "        text-align: right;\n",
                            "    }\n",
                            "</style>\n",
                            "<table border=\"1\" class=\"dataframe\">\n",
                            "  <thead>\n",
                            "    <tr style=\"text-align: right;\">\n",
                            "      <th></th>\n",
                            "      <th>id_documento_origem</th>\n",
                            "      <th>eta</th>\n",
                            "      <th>id_documento_destino</th>\n",
                            "      <th>possiveis</th>\n",
                            "    </tr>\n",
                            "  </thead>\n",
                            "  <tbody>\n",
                            "    <tr>\n",
                            "      <th>448</th>\n",
                            "      <td>3339</td>\n",
                            "      <td>0.005</td>\n",
                            "      <td>15</td>\n",
                            "      <td>84.0</td>\n",
                            "    </tr>\n",
                            "    <tr>\n",
                            "      <th>1508</th>\n",
                            "      <td>15389</td>\n",
                            "      <td>0.005</td>\n",
                            "      <td>15</td>\n",
                            "      <td>84.0</td>\n",
                            "    </tr>\n",
                            "    <tr>\n",
                            "      <th>629</th>\n",
                            "      <td>5599</td>\n",
                            "      <td>0.050</td>\n",
                            "      <td>15</td>\n",
                            "      <td>84.0</td>\n",
                            "    </tr>\n",
                            "    <tr>\n",
                            "      <th>815</th>\n",
                            "      <td>7185</td>\n",
                            "      <td>1.000</td>\n",
                            "      <td>16</td>\n",
                            "      <td>84.0</td>\n",
                            "    </tr>\n",
                            "    <tr>\n",
                            "      <th>1389</th>\n",
                            "      <td>13870</td>\n",
                            "      <td>0.050</td>\n",
                            "      <td>16</td>\n",
                            "      <td>84.0</td>\n",
                            "    </tr>\n",
                            "    <tr>\n",
                            "      <th>...</th>\n",
                            "      <td>...</td>\n",
                            "      <td>...</td>\n",
                            "      <td>...</td>\n",
                            "      <td>...</td>\n",
                            "    </tr>\n",
                            "    <tr>\n",
                            "      <th>1000</th>\n",
                            "      <td>8896</td>\n",
                            "      <td>0.005</td>\n",
                            "      <td>57</td>\n",
                            "      <td>84.0</td>\n",
                            "    </tr>\n",
                            "    <tr>\n",
                            "      <th>744</th>\n",
                            "      <td>6798</td>\n",
                            "      <td>0.005</td>\n",
                            "      <td>58</td>\n",
                            "      <td>84.0</td>\n",
                            "    </tr>\n",
                            "    <tr>\n",
                            "      <th>1003</th>\n",
                            "      <td>8896</td>\n",
                            "      <td>1.000</td>\n",
                            "      <td>58</td>\n",
                            "      <td>84.0</td>\n",
                            "    </tr>\n",
                            "    <tr>\n",
                            "      <th>1482</th>\n",
                            "      <td>14946</td>\n",
                            "      <td>0.500</td>\n",
                            "      <td>59</td>\n",
                            "      <td>84.0</td>\n",
                            "    </tr>\n",
                            "    <tr>\n",
                            "      <th>636</th>\n",
                            "      <td>5641</td>\n",
                            "      <td>0.005</td>\n",
                            "      <td>61</td>\n",
                            "      <td>84.0</td>\n",
                            "    </tr>\n",
                            "  </tbody>\n",
                            "</table>\n",
                            "<p>1512 rows × 4 columns</p>\n",
                            "</div>"
                        ]
                    },
                    "metadata": {},
                    "execution_count": 23
                }
            ],
            "metadata": {}
        },
        {
            "cell_type": "code",
            "execution_count": null,
            "source": [
                "resultados_explorer.destinos_distintos_por_parametro(resultados, 'passes', 2)"
            ],
            "outputs": [
                {
                    "output_type": "execute_result",
                    "data": {
                        "text/plain": [
                            "     id_documento_origem  passes  id_documento_destino  possiveis\n",
                            "314                 5599       2                    26      168.0\n",
                            "457                 7923      10                    27      168.0\n",
                            "401                 7131      10                    27      168.0\n",
                            "399                 7108      10                    29      168.0\n",
                            "469                 8116      10                    30      168.0\n",
                            "..                   ...     ...                   ...        ...\n",
                            "371                 6766      10                    94      168.0\n",
                            "373                 6798      10                    95      168.0\n",
                            "463                 8018      10                    96      168.0\n",
                            "500                 8896       2                   100      168.0\n",
                            "223                 3326      10                   102      168.0\n",
                            "\n",
                            "[756 rows x 4 columns]"
                        ],
                        "text/html": [
                            "<div>\n",
                            "<style scoped>\n",
                            "    .dataframe tbody tr th:only-of-type {\n",
                            "        vertical-align: middle;\n",
                            "    }\n",
                            "\n",
                            "    .dataframe tbody tr th {\n",
                            "        vertical-align: top;\n",
                            "    }\n",
                            "\n",
                            "    .dataframe thead th {\n",
                            "        text-align: right;\n",
                            "    }\n",
                            "</style>\n",
                            "<table border=\"1\" class=\"dataframe\">\n",
                            "  <thead>\n",
                            "    <tr style=\"text-align: right;\">\n",
                            "      <th></th>\n",
                            "      <th>id_documento_origem</th>\n",
                            "      <th>passes</th>\n",
                            "      <th>id_documento_destino</th>\n",
                            "      <th>possiveis</th>\n",
                            "    </tr>\n",
                            "  </thead>\n",
                            "  <tbody>\n",
                            "    <tr>\n",
                            "      <th>314</th>\n",
                            "      <td>5599</td>\n",
                            "      <td>2</td>\n",
                            "      <td>26</td>\n",
                            "      <td>168.0</td>\n",
                            "    </tr>\n",
                            "    <tr>\n",
                            "      <th>457</th>\n",
                            "      <td>7923</td>\n",
                            "      <td>10</td>\n",
                            "      <td>27</td>\n",
                            "      <td>168.0</td>\n",
                            "    </tr>\n",
                            "    <tr>\n",
                            "      <th>401</th>\n",
                            "      <td>7131</td>\n",
                            "      <td>10</td>\n",
                            "      <td>27</td>\n",
                            "      <td>168.0</td>\n",
                            "    </tr>\n",
                            "    <tr>\n",
                            "      <th>399</th>\n",
                            "      <td>7108</td>\n",
                            "      <td>10</td>\n",
                            "      <td>29</td>\n",
                            "      <td>168.0</td>\n",
                            "    </tr>\n",
                            "    <tr>\n",
                            "      <th>469</th>\n",
                            "      <td>8116</td>\n",
                            "      <td>10</td>\n",
                            "      <td>30</td>\n",
                            "      <td>168.0</td>\n",
                            "    </tr>\n",
                            "    <tr>\n",
                            "      <th>...</th>\n",
                            "      <td>...</td>\n",
                            "      <td>...</td>\n",
                            "      <td>...</td>\n",
                            "      <td>...</td>\n",
                            "    </tr>\n",
                            "    <tr>\n",
                            "      <th>371</th>\n",
                            "      <td>6766</td>\n",
                            "      <td>10</td>\n",
                            "      <td>94</td>\n",
                            "      <td>168.0</td>\n",
                            "    </tr>\n",
                            "    <tr>\n",
                            "      <th>373</th>\n",
                            "      <td>6798</td>\n",
                            "      <td>10</td>\n",
                            "      <td>95</td>\n",
                            "      <td>168.0</td>\n",
                            "    </tr>\n",
                            "    <tr>\n",
                            "      <th>463</th>\n",
                            "      <td>8018</td>\n",
                            "      <td>10</td>\n",
                            "      <td>96</td>\n",
                            "      <td>168.0</td>\n",
                            "    </tr>\n",
                            "    <tr>\n",
                            "      <th>500</th>\n",
                            "      <td>8896</td>\n",
                            "      <td>2</td>\n",
                            "      <td>100</td>\n",
                            "      <td>168.0</td>\n",
                            "    </tr>\n",
                            "    <tr>\n",
                            "      <th>223</th>\n",
                            "      <td>3326</td>\n",
                            "      <td>10</td>\n",
                            "      <td>102</td>\n",
                            "      <td>168.0</td>\n",
                            "    </tr>\n",
                            "  </tbody>\n",
                            "</table>\n",
                            "<p>756 rows × 4 columns</p>\n",
                            "</div>"
                        ]
                    },
                    "metadata": {},
                    "execution_count": 24
                }
            ],
            "metadata": {}
        },
        {
            "cell_type": "code",
            "execution_count": null,
            "source": [
                "resultados_explorer.destinos_distintos_por_parametro(resultados, 'cenario_wp', 2)"
            ],
            "outputs": [
                {
                    "output_type": "execute_result",
                    "data": {
                        "text/plain": [
                            "     id_documento_origem cenario_wp  id_documento_destino  possiveis\n",
                            "469                 8116      gte42                    21      168.0\n",
                            "401                 7131      gte42                    21      168.0\n",
                            "457                 7923      gte42                    24      168.0\n",
                            "421                 7344      gte42                    24      168.0\n",
                            "399                 7108      gte42                    25      168.0\n",
                            "..                   ...        ...                   ...        ...\n",
                            "300                 5232       full                   118      168.0\n",
                            "296                 5093       full                   118      168.0\n",
                            "222                 3326       full                   120      168.0\n",
                            "482                 8377       full                   122      168.0\n",
                            "372                 6798       full                   125      168.0\n",
                            "\n",
                            "[756 rows x 4 columns]"
                        ],
                        "text/html": [
                            "<div>\n",
                            "<style scoped>\n",
                            "    .dataframe tbody tr th:only-of-type {\n",
                            "        vertical-align: middle;\n",
                            "    }\n",
                            "\n",
                            "    .dataframe tbody tr th {\n",
                            "        vertical-align: top;\n",
                            "    }\n",
                            "\n",
                            "    .dataframe thead th {\n",
                            "        text-align: right;\n",
                            "    }\n",
                            "</style>\n",
                            "<table border=\"1\" class=\"dataframe\">\n",
                            "  <thead>\n",
                            "    <tr style=\"text-align: right;\">\n",
                            "      <th></th>\n",
                            "      <th>id_documento_origem</th>\n",
                            "      <th>cenario_wp</th>\n",
                            "      <th>id_documento_destino</th>\n",
                            "      <th>possiveis</th>\n",
                            "    </tr>\n",
                            "  </thead>\n",
                            "  <tbody>\n",
                            "    <tr>\n",
                            "      <th>469</th>\n",
                            "      <td>8116</td>\n",
                            "      <td>gte42</td>\n",
                            "      <td>21</td>\n",
                            "      <td>168.0</td>\n",
                            "    </tr>\n",
                            "    <tr>\n",
                            "      <th>401</th>\n",
                            "      <td>7131</td>\n",
                            "      <td>gte42</td>\n",
                            "      <td>21</td>\n",
                            "      <td>168.0</td>\n",
                            "    </tr>\n",
                            "    <tr>\n",
                            "      <th>457</th>\n",
                            "      <td>7923</td>\n",
                            "      <td>gte42</td>\n",
                            "      <td>24</td>\n",
                            "      <td>168.0</td>\n",
                            "    </tr>\n",
                            "    <tr>\n",
                            "      <th>421</th>\n",
                            "      <td>7344</td>\n",
                            "      <td>gte42</td>\n",
                            "      <td>24</td>\n",
                            "      <td>168.0</td>\n",
                            "    </tr>\n",
                            "    <tr>\n",
                            "      <th>399</th>\n",
                            "      <td>7108</td>\n",
                            "      <td>gte42</td>\n",
                            "      <td>25</td>\n",
                            "      <td>168.0</td>\n",
                            "    </tr>\n",
                            "    <tr>\n",
                            "      <th>...</th>\n",
                            "      <td>...</td>\n",
                            "      <td>...</td>\n",
                            "      <td>...</td>\n",
                            "      <td>...</td>\n",
                            "    </tr>\n",
                            "    <tr>\n",
                            "      <th>300</th>\n",
                            "      <td>5232</td>\n",
                            "      <td>full</td>\n",
                            "      <td>118</td>\n",
                            "      <td>168.0</td>\n",
                            "    </tr>\n",
                            "    <tr>\n",
                            "      <th>296</th>\n",
                            "      <td>5093</td>\n",
                            "      <td>full</td>\n",
                            "      <td>118</td>\n",
                            "      <td>168.0</td>\n",
                            "    </tr>\n",
                            "    <tr>\n",
                            "      <th>222</th>\n",
                            "      <td>3326</td>\n",
                            "      <td>full</td>\n",
                            "      <td>120</td>\n",
                            "      <td>168.0</td>\n",
                            "    </tr>\n",
                            "    <tr>\n",
                            "      <th>482</th>\n",
                            "      <td>8377</td>\n",
                            "      <td>full</td>\n",
                            "      <td>122</td>\n",
                            "      <td>168.0</td>\n",
                            "    </tr>\n",
                            "    <tr>\n",
                            "      <th>372</th>\n",
                            "      <td>6798</td>\n",
                            "      <td>full</td>\n",
                            "      <td>125</td>\n",
                            "      <td>168.0</td>\n",
                            "    </tr>\n",
                            "  </tbody>\n",
                            "</table>\n",
                            "<p>756 rows × 4 columns</p>\n",
                            "</div>"
                        ]
                    },
                    "metadata": {},
                    "execution_count": 25
                }
            ],
            "metadata": {}
        },
        {
            "cell_type": "code",
            "execution_count": null,
            "source": [
                "resultados_explorer.distribuicao_distintos_destino_por_parametro(resultados, 'num_topics')"
            ],
            "outputs": [
                {
                    "output_type": "display_data",
                    "data": {
                        "text/plain": [
                            "<Figure size 509.675x360 with 1 Axes>"
                        ],
                        "image/png": "[encoded data removed]"
                    },
                    "metadata": {}
                }
            ],
            "metadata": {}
        },
        {
            "cell_type": "code",
            "execution_count": null,
            "source": [
                "resultados_explorer.distribuicao_distintos_destino_por_parametro(resultados, 'alpha')"
            ],
            "outputs": [
                {
                    "output_type": "display_data",
                    "data": {
                        "text/plain": [
                            "<Figure size 495.975x360 with 1 Axes>"
                        ],
                        "image/png": "[encoded data removed]"
                    },
                    "metadata": {}
                }
            ],
            "metadata": {}
        },
        {
            "cell_type": "code",
            "execution_count": null,
            "source": [
                "resultados_explorer.distribuicao_distintos_destino_por_parametro(resultados, 'eta')"
            ],
            "outputs": [
                {
                    "output_type": "display_data",
                    "data": {
                        "text/plain": [
                            "<Figure size 502.85x360 with 1 Axes>"
                        ],
                        "image/png": "[encoded data removed]"
                    },
                    "metadata": {}
                }
            ],
            "metadata": {}
        },
        {
            "cell_type": "code",
            "execution_count": null,
            "source": [
                "resultados_explorer.distribuicao_distintos_destino_por_parametro(resultados, 'passes')"
            ],
            "outputs": [
                {
                    "output_type": "display_data",
                    "data": {
                        "text/plain": [
                            "<Figure size 485.6x360 with 1 Axes>"
                        ],
                        "image/png": "[encoded data removed]"
                    },
                    "metadata": {}
                }
            ],
            "metadata": {}
        },
        {
            "cell_type": "code",
            "execution_count": null,
            "source": [
                "resultados_explorer.distribuicao_distintos_destino_por_parametro(resultados, 'cenario_wp')"
            ],
            "outputs": [
                {
                    "output_type": "display_data",
                    "data": {
                        "text/plain": [
                            "<Figure size 508.925x360 with 1 Axes>"
                        ],
                        "image/png": "[encoded data removed]"
                    },
                    "metadata": {}
                }
            ],
            "metadata": {}
        },
        {
            "cell_type": "markdown",
            "source": [
                "## Análise de conteúdo das recomendações"
            ],
            "metadata": {}
        },
        {
            "cell_type": "markdown",
            "source": [
                "### Carregamento de dados"
            ],
            "metadata": {}
        },
        {
            "cell_type": "code",
            "execution_count": null,
            "source": [
                "posts_df = fonte_dados.get_dataframe()\n",
                "posts_df.head(2)"
            ],
            "outputs": [],
            "metadata": {}
        },
        {
            "cell_type": "code",
            "execution_count": null,
            "source": [
                "paginas_df = wikipedia.get_dataframe()\n",
                "paginas_df.head(2)"
            ],
            "outputs": [],
            "metadata": {}
        },
        {
            "cell_type": "code",
            "execution_count": null,
            "source": [
                "resultados_info = resultados_explorer.adicionar_informacoes_posts(resultados, posts_df, paginas_df)"
            ],
            "outputs": [
                {
                    "output_type": "execute_result",
                    "data": {
                        "text/plain": [
                            "(127008, 16)"
                        ]
                    },
                    "metadata": {},
                    "execution_count": 99
                }
            ],
            "metadata": {}
        },
        {
            "cell_type": "markdown",
            "source": [
                "### Mais recomendados para posts individuais de origem"
            ],
            "metadata": {}
        },
        {
            "cell_type": "code",
            "execution_count": null,
            "source": [
                "# 5599: Denali, destaque por ter poucas recomendações nos parâmetros num_topics e alplha\n",
                "resultados_explorer.obter_topn_recomendacoes_por_post(resultados_info, 5599, 10)"
            ],
            "outputs": [
                {
                    "output_type": "execute_result",
                    "data": {
                        "text/plain": [
                            "titulo_documento_origem                                 id_documento_destino  titulo_documento_destino                     \n",
                            "Alasca - Visitando o Denali National Park and Preserve  1403174               Parque Nacional e Reserva de Denali              119\n",
                            "                                                        445474                Monte Denali                                      46\n",
                            "                                                        60879                 Parque Nacional de Yosemite                       41\n",
                            "                                                        365443                Parque Nacional de Yellowstone                    17\n",
                            "                                                        2726929               Dalton Highway                                     8\n",
                            "                                                        4365725               Ilhas ABC (Alasca)                                 6\n",
                            "                                                        1634725               Cerro Catedral                                     5\n",
                            "                                                        2178065               Parque Nacional Lihué Calel                        5\n",
                            "                                                        3657526               Abbeville (Luisiana)                               5\n",
                            "                                                        2179404               Lista de parques nacionais dos Estados Unidos      4\n",
                            "dtype: int64"
                        ]
                    },
                    "metadata": {},
                    "execution_count": 193
                }
            ],
            "metadata": {}
        },
        {
            "cell_type": "code",
            "execution_count": null,
            "source": [
                "# 5599: 3339, destaque por ter poucas recomendações no parâmetro eta\n",
                "resultados_explorer.obter_topn_recomendacoes_por_post(resultados_info, 3339, 10)"
            ],
            "outputs": [
                {
                    "output_type": "execute_result",
                    "data": {
                        "text/plain": [
                            "titulo_documento_origem            id_documento_destino  titulo_documento_destino                               \n",
                            "Lençóis Maranhenses - Lagoa Verde  64980                 Reserva da Biosfera do Cinturão Verde de São Paulo         86\n",
                            "                                   6415856               Reserva Lagoa São Paulo                                    35\n",
                            "                                   5168411               Lagoa Dom Helvécio                                         20\n",
                            "                                   3504316               Área de Proteção Ambiental das Reentrâncias Maranhenses    13\n",
                            "                                   150576                Parque Nacional dos Lençóis Maranhenses                     9\n",
                            "                                   5773296               Campo de Perizes                                            8\n",
                            "                                   5307670               Balsora                                                     8\n",
                            "                                   1647492               Old Faithful                                                7\n",
                            "                                   1634725               Cerro Catedral                                              6\n",
                            "                                   4083287               Kathleen (Geórgia)                                          6\n",
                            "dtype: int64"
                        ]
                    },
                    "metadata": {},
                    "execution_count": 190
                }
            ],
            "metadata": {}
        },
        {
            "cell_type": "code",
            "execution_count": null,
            "source": [
                "# Analisando o que menos variou no geral\n",
                "# id_documento_origem: 7923, quantidade de destinos_distintos: 43\n",
                "resultados_explorer.obter_topn_recomendacoes_por_post(resultados_info, 7923, 10)"
            ],
            "outputs": [
                {
                    "output_type": "execute_result",
                    "data": {
                        "text/plain": [
                            "titulo_documento_origem  id_documento_destino  titulo_documento_destino                               \n",
                            "Jalapão - Alimentação    5760839               Política Nacional de Resíduos Sólidos                      62\n",
                            "                         4053915               Horseshoe Bend (Arizona)                                   32\n",
                            "                         2267850               Portal:Nova Zelândia/Colabore                              32\n",
                            "                         5264442               Monumento Natural das Árvores Fossilizadas do Tocantins    26\n",
                            "                         1971079               Projeto Cerrado Verde                                      26\n",
                            "                         5798789               Comissão de Negociação de Futuros de Commodities           17\n",
                            "                         220009                The Frighteners                                            14\n",
                            "                         5769507               Chapada das Mangabeiras                                    10\n",
                            "                         2396720               Área de Proteção Ambiental Ilha do Bananal/Cantão           9\n",
                            "                         515635                Região integrada de desenvolvimento                         8\n",
                            "dtype: int64"
                        ]
                    },
                    "metadata": {},
                    "execution_count": 189
                }
            ],
            "metadata": {}
        },
        {
            "cell_type": "code",
            "execution_count": null,
            "source": [
                "# Post que teve maior diversidade de documentos recomendados\n",
                "# id_documento_origem: 6798, 168 recomendações diferentes\n",
                "resultados_explorer.obter_topn_recomendacoes_por_post(resultados_info, 6798, 10)"
            ],
            "outputs": [
                {
                    "output_type": "execute_result",
                    "data": {
                        "text/plain": [
                            "titulo_documento_origem               id_documento_destino  titulo_documento_destino                 \n",
                            "Revelando a Foto - Detalhes em Caeté  176677                Bible Belt                                   8\n",
                            "                                      5882895               Praça Nauro Machado                          7\n",
                            "                                      2302257               Chonchi                                      6\n",
                            "                                      1083980               Rakahanga                                    5\n",
                            "                                      617632                Reserva Biológica Poço das Antas             5\n",
                            "                                      1753565               Atlas do Desenvolvimento Humano do Brasil    5\n",
                            "                                      5219782               Bosque Boa Vista                             5\n",
                            "                                      20267                 ISO 3166-2:BR                                5\n",
                            "                                      2179778               Rio Merced                                   4\n",
                            "                                      588018                Monte Fitz Roy                               4\n",
                            "dtype: int64"
                        ]
                    },
                    "metadata": {},
                    "execution_count": 188
                }
            ],
            "metadata": {}
        },
        {
            "cell_type": "code",
            "execution_count": null,
            "source": [
                "# Post que teve maior diversidade de documentos recomendados\n",
                "# id_documento_origem: 3721, 158 recomendações diferentes\n",
                "resultados_explorer.obter_topn_recomendacoes_por_post(resultados_info, 3721, 10)"
            ],
            "outputs": [
                {
                    "output_type": "execute_result",
                    "data": {
                        "text/plain": [
                            "titulo_documento_origem         id_documento_destino  titulo_documento_destino              \n",
                            "Revelando a Foto - Mount Moran  3176960               ISO 3166-2:NZ                             16\n",
                            "                                4394501               Rio Mendoza                               12\n",
                            "                                3322761               Channeled Scabland                         9\n",
                            "                                2979863               Acidente na mina de Pike River em 2010     9\n",
                            "                                1664923               Furacão John (1994)                        8\n",
                            "                                2495188               Point Barrow                               6\n",
                            "                                1422272               Castelo da Cinderela                       6\n",
                            "                                3290659               Alabama Central                            5\n",
                            "                                3481644               Parlamento da Nova Zelândia                5\n",
                            "                                3984678               Comitê de Atividades Antiamericanas        5\n",
                            "dtype: int64"
                        ]
                    },
                    "metadata": {},
                    "execution_count": 186
                }
            ],
            "metadata": {}
        },
        {
            "cell_type": "code",
            "execution_count": null,
            "source": [
                "# O documento com id 14565 foi o que teve menor variacao com apenas 22 topicos sendo utilizados. Vamos ver o comportamento\n",
                "resultados_explorer.obter_topn_recomendacoes_por_post(resultados_info, 14565, 10)"
            ],
            "outputs": [
                {
                    "output_type": "execute_result",
                    "data": {
                        "text/plain": [
                            "titulo_documento_origem            id_documento_destino  titulo_documento_destino     \n",
                            "Vídeo - Episódio Salar de Atacama  2437928               Osorno (vulcão)                  54\n",
                            "                                   1628545               Salar de Atacama                 51\n",
                            "                                   199176                Gêiseres de Tatio                37\n",
                            "                                   6294453               Vulcão Peña Blanca               20\n",
                            "                                   234193                San Pedro de Atacama             20\n",
                            "                                   408691                Puna atacamenha                  19\n",
                            "                                   131072                Lascar (vulcão)                  11\n",
                            "                                   2823485               Vale do Salinas                   9\n",
                            "                                   1634725               Cerro Catedral                    6\n",
                            "                                   5079095               Montanhas Rochosas Canadianas     6\n",
                            "dtype: int64"
                        ]
                    },
                    "metadata": {},
                    "execution_count": 187
                }
            ],
            "metadata": {}
        },
        {
            "cell_type": "markdown",
            "source": [
                "### Analisando as 20 combinações de recomendações mais e menos frequentes"
            ],
            "metadata": {}
        },
        {
            "cell_type": "code",
            "execution_count": null,
            "source": [
                "resultados_info.groupby(['id_documento_origem', 'titulo_documento_origem', 'id_documento_destino', 'titulo_documento_destino']).size().sort_values(ascending=False).iloc[:20,]"
            ],
            "outputs": [
                {
                    "output_type": "execute_result",
                    "data": {
                        "text/plain": [
                            "id_documento_origem  titulo_documento_origem                                       id_documento_destino  titulo_documento_destino                                 \n",
                            "13870                Vídeo - Episódio Valle Nevado Ski Resort                      1634725               Cerro Catedral                                               159\n",
                            "582                  Santiago - Cerro Santa Lucía                                  2927559               Cerro Santa Lucía                                            127\n",
                            "5599                 Alasca - Visitando o Denali National Park and Preserve        1403174               Parque Nacional e Reserva de Denali                          119\n",
                            "9652                 Praia do Rosa - Trilha para o Mirante do Canto Sul            1953845               Território organizado dos Estados Unidos                     106\n",
                            "13583                Valle Nevado Ski Resort - Minha Experiência com o Esqui       1634725               Cerro Catedral                                               100\n",
                            "14103                Punta Cana - Hard Rock Hotel & Casino Punta Cana              1152952               American Academy of Arts and Letters                         100\n",
                            "1748                 Região dos Lagos Chilenos - Roteiro Volta ao Lago Llanquihue  2267833               Llanquihue                                                    99\n",
                            "4120                 Revelando a Foto - Horseshoe Bend                             4053915               Horseshoe Bend (Arizona)                                      96\n",
                            "6460                 Revelando a Foto - Zabriskie Point                            1172526               Zabriskie Point                                               94\n",
                            "9123                 Revelando a Foto - Pescador na Praia Vermelha                 1953845               Território organizado dos Estados Unidos                      93\n",
                            "6212                 Alasca - Vida Selvagem no Denali National Park and Preserve   1403174               Parque Nacional e Reserva de Denali                           93\n",
                            "7723                 El Calafate - Passeio de Barco por Todos Los Glaciares        2192702               Glaciar Upsala                                                92\n",
                            "15389                Catas Altas - Um Passeio Pela Cidade e Região                 845543                Reserva Particular do Patrimônio Natural Santuário Caraça     90\n",
                            "4588                 Revelando a Foto - Especial de Natal                          1422272               Castelo da Cinderela                                          89\n",
                            "3339                 Lençóis Maranhenses - Lagoa Verde                             64980                 Reserva da Biosfera do Cinturão Verde de São Paulo            86\n",
                            "3428                 Lençóis Maranhenses - Post Índice                             64980                 Reserva da Biosfera do Cinturão Verde de São Paulo            85\n",
                            "14090                Hard Rock Hotel & Casino Punta Cana - Suíte Caribe            1152952               American Academy of Arts and Letters                          84\n",
                            "9483                 Praia do Rosa - Trilha para a Praia Vermelha                  1953845               Território organizado dos Estados Unidos                      81\n",
                            "663                  Frutillar - Um Pedaço da Alemanha no Chile                    570874                Frutillar                                                     80\n",
                            "14278                Vídeo - Episódio Hard Rock Hotel & Casino Punta Cana          1152952               American Academy of Arts and Letters                          79\n",
                            "dtype: int64"
                        ]
                    },
                    "metadata": {},
                    "execution_count": 175
                }
            ],
            "metadata": {}
        },
        {
            "cell_type": "code",
            "execution_count": null,
            "source": [
                "resultados_info.groupby(['id_documento_origem', 'titulo_documento_origem', 'id_documento_destino', 'titulo_documento_destino']).size().sort_values(ascending=True).iloc[:20,]"
            ],
            "outputs": [
                {
                    "output_type": "execute_result",
                    "data": {
                        "text/plain": [
                            "id_documento_origem  titulo_documento_origem                        id_documento_destino  titulo_documento_destino                 \n",
                            "15389                Catas Altas - Um Passeio Pela Cidade e Região  6601506               Parque Estadual de Grão Mogol                1\n",
                            "3448                 Revelando a Foto - Dia das Crianças            2895968               Lista de vencedoras do Miss USA              1\n",
                            "9409                 Revelando a Foto - Flores no Epcot             2661198               Lista de rios dos Estados Unidos             1\n",
                            "                                                                    2643539               Rio Anatoki                                  1\n",
                            "3448                 Revelando a Foto - Dia das Crianças            3157366               25.º Distrito Congressional da Califórnia    1\n",
                            "9409                 Revelando a Foto - Flores no Epcot             2643359               Rio Allen                                    1\n",
                            "                                                                    2639918               Rio Ahuriri                                  1\n",
                            "3448                 Revelando a Foto - Dia das Crianças            3372811               Hawke's Bay                                  1\n",
                            "9409                 Revelando a Foto - Flores no Epcot             2436792               Parque Nacional Vicente Pérez Rosales        1\n",
                            "3448                 Revelando a Foto - Dia das Crianças            3519035               Pico Pikes                                   1\n",
                            "                                                                    3524490               Tanaga                                       1\n",
                            "9409                 Revelando a Foto - Flores no Epcot             2422488               Alicanto                                     1\n",
                            "                                                                    2380532               Ilhas Bounty                                 1\n",
                            "3448                 Revelando a Foto - Dia das Crianças            3652241               Parque Estadual Delta do Jacuí               1\n",
                            "                                                                    3804992               Rio Big (Costa Oeste)                        1\n",
                            "9409                 Revelando a Foto - Flores no Epcot             2274600               Títulos e estatísticas da MLS                1\n",
                            "3448                 Revelando a Foto - Dia das Crianças            3916993               Cabo Farewell (Nova Zelândia)                1\n",
                            "9409                 Revelando a Foto - Flores no Epcot             2264361               Futaleufú                                    1\n",
                            "3448                 Revelando a Foto - Dia das Crianças            5490666               Estação Ecológica de Santa Bárbara           1\n",
                            "                                                                    5411980               Antillanca (grupo vulcânico)                 1\n",
                            "dtype: int64"
                        ]
                    },
                    "metadata": {},
                    "execution_count": 176
                }
            ],
            "metadata": {}
        },
        {
            "cell_type": "code",
            "execution_count": null,
            "source": [
                "resultados_info.groupby(['id_documento_origem', 'titulo_documento_origem', 'id_documento_destino', 'titulo_documento_destino', 'num_topics']).size().sort_values(ascending=False).iloc[:20,]"
            ],
            "outputs": [
                {
                    "output_type": "execute_result",
                    "data": {
                        "text/plain": [
                            "id_documento_origem  titulo_documento_origem                                      id_documento_destino  titulo_documento_destino                       num_topics\n",
                            "5599                 Alasca - Visitando o Denali National Park and Preserve       1403174               Parque Nacional e Reserva de Denali            39            34\n",
                            "6212                 Alasca - Vida Selvagem no Denali National Park and Preserve  1403174               Parque Nacional e Reserva de Denali            39            31\n",
                            "663                  Frutillar - Um Pedaço da Alemanha no Chile                   570874                Frutillar                                      57            29\n",
                            "4120                 Revelando a Foto - Horseshoe Bend                            4053915               Horseshoe Bend (Arizona)                       57            28\n",
                            "582                  Santiago - Cerro Santa Lucía                                 2927559               Cerro Santa Lucía                              67            28\n",
                            "6212                 Alasca - Vida Selvagem no Denali National Park and Preserve  1403174               Parque Nacional e Reserva de Denali            45            27\n",
                            "5599                 Alasca - Visitando o Denali National Park and Preserve       1403174               Parque Nacional e Reserva de Denali            45            27\n",
                            "13870                Vídeo - Episódio Valle Nevado Ski Resort                     1634725               Cerro Catedral                                 39            26\n",
                            "                                                                                                                                                       67            26\n",
                            "7723                 El Calafate - Passeio de Barco por Todos Los Glaciares       2192702               Glaciar Upsala                                 67            26\n",
                            "1356                 Bariloche - Cerro Tronador e Cascada los Alerces             1403174               Parque Nacional e Reserva de Denali            39            26\n",
                            "9483                 Praia do Rosa - Trilha para a Praia Vermelha                 1953845               Território organizado dos Estados Unidos       72            26\n",
                            "9652                 Praia do Rosa - Trilha para o Mirante do Canto Sul           1953845               Território organizado dos Estados Unidos       45            25\n",
                            "9174                 Santa Catarina na Bagagem e a Praia do Rosa                  1953845               Território organizado dos Estados Unidos       45            25\n",
                            "13870                Vídeo - Episódio Valle Nevado Ski Resort                     1634725               Cerro Catedral                                 57            25\n",
                            "9123                 Revelando a Foto - Pescador na Praia Vermelha                1953845               Território organizado dos Estados Unidos       45            25\n",
                            "13870                Vídeo - Episódio Valle Nevado Ski Resort                     1634725               Cerro Catedral                                 45            24\n",
                            "4022                 Belo Horizonte - Memorial Minas Gerais - Vale                5964481               Institutos históricos e geográficos do Brasil  22            24\n",
                            "1356                 Bariloche - Cerro Tronador e Cascada los Alerces             1403174               Parque Nacional e Reserva de Denali            45            24\n",
                            "4588                 Revelando a Foto - Especial de Natal                         1422272               Castelo da Cinderela                           57            24\n",
                            "dtype: int64"
                        ]
                    },
                    "metadata": {},
                    "execution_count": 177
                }
            ],
            "metadata": {}
        },
        {
            "cell_type": "code",
            "execution_count": null,
            "source": [
                "resultados_info.groupby(['id_documento_origem', 'titulo_documento_origem', 'id_documento_destino', 'titulo_documento_destino', 'alpha']).size().sort_values(ascending=False).iloc[:20,]"
            ],
            "outputs": [
                {
                    "output_type": "execute_result",
                    "data": {
                        "text/plain": [
                            "id_documento_origem  titulo_documento_origem                                       id_documento_destino  titulo_documento_destino              alpha\n",
                            "13360                Parque Estadual do Rio Preto - O Que Fazer?                   341897                Parque Estadual da Serra do Cabral    1.00     70\n",
                            "13870                Vídeo - Episódio Valle Nevado Ski Resort                      1634725               Cerro Catedral                        1.00     63\n",
                            "582                  Santiago - Cerro Santa Lucía                                  2927559               Cerro Santa Lucía                     0.10     61\n",
                            "14612                Vídeo - Episódio Laguna Torre                                 588018                Monte Fitz Roy                        1.00     56\n",
                            "14090                Hard Rock Hotel & Casino Punta Cana - Suíte Caribe            1152952               American Academy of Arts and Letters  1.00     56\n",
                            "14103                Punta Cana - Hard Rock Hotel & Casino Punta Cana              1152952               American Academy of Arts and Letters  1.00     54\n",
                            "5599                 Alasca - Visitando o Denali National Park and Preserve        1403174               Parque Nacional e Reserva de Denali   0.10     53\n",
                            "13870                Vídeo - Episódio Valle Nevado Ski Resort                      1634725               Cerro Catedral                        0.10     53\n",
                            "11883                Alasca - Roteiro                                              445474                Monte Denali                          1.00     53\n",
                            "13617                Parque Estadual do Rio Preto - Trilha do Cerrado              341897                Parque Estadual da Serra do Cabral    1.00     52\n",
                            "13583                Valle Nevado Ski Resort - Minha Experiência com o Esqui       1634725               Cerro Catedral                        1.00     52\n",
                            "504                  Puerto Varas - Verão, Calor e Vulcões                         2437928               Osorno (vulcão)                       1.00     52\n",
                            "582                  Santiago - Cerro Santa Lucía                                  2927559               Cerro Santa Lucía                     0.01     52\n",
                            "14598                Vídeo - Episódio Laguna de Los Tres                           588018                Monte Fitz Roy                        1.00     50\n",
                            "1748                 Região dos Lagos Chilenos - Roteiro Volta ao Lago Llanquihue  2267833               Llanquihue                            0.10     50\n",
                            "6460                 Revelando a Foto - Zabriskie Point                            1172526               Zabriskie Point                       0.10     48\n",
                            "3993                 Dicas - Como se Comportar em Habitats de Ursos                6321766               Grande Ecossistema de Yellowstone     1.00     48\n",
                            "13936                Atacama e Salar de Uyuni - Roteiro                            5800981               Corredor do Atacama                   1.00     47\n",
                            "13356                Parque Estadual do Rio Preto - Como Planejar sua Viagem       341897                Parque Estadual da Serra do Cabral    1.00     46\n",
                            "1071                 Vulcão Osorno - Subindo o Vulcão                              2437928               Osorno (vulcão)                       1.00     46\n",
                            "dtype: int64"
                        ]
                    },
                    "metadata": {},
                    "execution_count": 178
                }
            ],
            "metadata": {}
        },
        {
            "cell_type": "code",
            "execution_count": null,
            "source": [
                "resultados_info.groupby(['id_documento_origem', 'titulo_documento_origem', 'id_documento_destino', 'titulo_documento_destino', 'eta']).size().sort_values(ascending=False).iloc[:20,]"
            ],
            "outputs": [
                {
                    "output_type": "execute_result",
                    "data": {
                        "text/plain": [
                            "id_documento_origem  titulo_documento_origem                                  id_documento_destino  titulo_documento_destino                            eta  \n",
                            "13870                Vídeo - Episódio Valle Nevado Ski Resort                 1634725               Cerro Catedral                                      0.050    62\n",
                            "                                                                                                                                                        0.005    51\n",
                            "3428                 Lençóis Maranhenses - Post Índice                        64980                 Reserva da Biosfera do Cinturão Verde de São Paulo  0.005    50\n",
                            "3339                 Lençóis Maranhenses - Lagoa Verde                        64980                 Reserva da Biosfera do Cinturão Verde de São Paulo  0.005    47\n",
                            "5599                 Alasca - Visitando o Denali National Park and Preserve   1403174               Parque Nacional e Reserva de Denali                 0.050    43\n",
                            "2994                 Lençóis Maranhenses - Lagoa dos Peixes                   64980                 Reserva da Biosfera do Cinturão Verde de São Paulo  0.005    41\n",
                            "13583                Valle Nevado Ski Resort - Minha Experiência com o Esqui  1634725               Cerro Catedral                                      0.005    41\n",
                            "582                  Santiago - Cerro Santa Lucía                             2927559               Cerro Santa Lucía                                   0.050    41\n",
                            "9652                 Praia do Rosa - Trilha para o Mirante do Canto Sul       1953845               Território organizado dos Estados Unidos            0.050    41\n",
                            "504                  Puerto Varas - Verão, Calor e Vulcões                    2437928               Osorno (vulcão)                                     0.005    40\n",
                            "3401                 Cardosa - Flutuação no Rio Formiga                       64980                 Reserva da Biosfera do Cinturão Verde de São Paulo  0.005    40\n",
                            "582                  Santiago - Cerro Santa Lucía                             2927559               Cerro Santa Lucía                                   0.500    40\n",
                            "3339                 Lençóis Maranhenses - Lagoa Verde                        64980                 Reserva da Biosfera do Cinturão Verde de São Paulo  0.050    39\n",
                            "7723                 El Calafate - Passeio de Barco por Todos Los Glaciares   2192702               Glaciar Upsala                                      0.005    38\n",
                            "2611                 Revelando a Foto - Lençóis Maranhenses                   64980                 Reserva da Biosfera do Cinturão Verde de São Paulo  0.005    38\n",
                            "1071                 Vulcão Osorno - Subindo o Vulcão                         2437928               Osorno (vulcão)                                     0.005    38\n",
                            "4120                 Revelando a Foto - Horseshoe Bend                        4053915               Horseshoe Bend (Arizona)                            0.005    37\n",
                            "2994                 Lençóis Maranhenses - Lagoa dos Peixes                   64980                 Reserva da Biosfera do Cinturão Verde de São Paulo  0.050    37\n",
                            "4120                 Revelando a Foto - Horseshoe Bend                        4053915               Horseshoe Bend (Arizona)                            0.050    37\n",
                            "582                  Santiago - Cerro Santa Lucía                             2927559               Cerro Santa Lucía                                   0.005    36\n",
                            "dtype: int64"
                        ]
                    },
                    "metadata": {},
                    "execution_count": 179
                }
            ],
            "metadata": {}
        },
        {
            "cell_type": "code",
            "execution_count": null,
            "source": [
                "resultados_info.groupby(['id_documento_origem', 'titulo_documento_origem', 'id_documento_destino', 'titulo_documento_destino', 'passes']).size().sort_values(ascending=False).iloc[:20,]"
            ],
            "outputs": [
                {
                    "output_type": "execute_result",
                    "data": {
                        "text/plain": [
                            "id_documento_origem  titulo_documento_origem                                            id_documento_destino  titulo_documento_destino                                   passes\n",
                            "13870                Vídeo - Episódio Valle Nevado Ski Resort                           1634725               Cerro Catedral                                             10        87\n",
                            "14103                Punta Cana - Hard Rock Hotel & Casino Punta Cana                   1152952               American Academy of Arts and Letters                       10        74\n",
                            "13870                Vídeo - Episódio Valle Nevado Ski Resort                           1634725               Cerro Catedral                                             2         72\n",
                            "14090                Hard Rock Hotel & Casino Punta Cana - Suíte Caribe                 1152952               American Academy of Arts and Letters                       10        66\n",
                            "582                  Santiago - Cerro Santa Lucía                                       2927559               Cerro Santa Lucía                                          10        65\n",
                            "5599                 Alasca - Visitando o Denali National Park and Preserve             1403174               Parque Nacional e Reserva de Denali                        2         64\n",
                            "14278                Vídeo - Episódio Hard Rock Hotel & Casino Punta Cana               1152952               American Academy of Arts and Letters                       10        63\n",
                            "1748                 Região dos Lagos Chilenos - Roteiro Volta ao Lago Llanquihue       2267833               Llanquihue                                                 10        63\n",
                            "9652                 Praia do Rosa - Trilha para o Mirante do Canto Sul                 1953845               Território organizado dos Estados Unidos                   10        63\n",
                            "13583                Valle Nevado Ski Resort - Minha Experiência com o Esqui            1634725               Cerro Catedral                                             10        63\n",
                            "582                  Santiago - Cerro Santa Lucía                                       2927559               Cerro Santa Lucía                                          2         62\n",
                            "14191                Vídeo - Episódio Music Lab no Hard Rock Hotel & Casino Punta Cana  1152952               American Academy of Arts and Letters                       10        62\n",
                            "7723                 El Calafate - Passeio de Barco por Todos Los Glaciares             2192702               Glaciar Upsala                                             10        58\n",
                            "5599                 Alasca - Visitando o Denali National Park and Preserve             1403174               Parque Nacional e Reserva de Denali                        10        55\n",
                            "3428                 Lençóis Maranhenses - Post Índice                                  64980                 Reserva da Biosfera do Cinturão Verde de São Paulo         10        55\n",
                            "4120                 Revelando a Foto - Horseshoe Bend                                  4053915               Horseshoe Bend (Arizona)                                   10        54\n",
                            "6460                 Revelando a Foto - Zabriskie Point                                 1172526               Zabriskie Point                                            2         54\n",
                            "15389                Catas Altas - Um Passeio Pela Cidade e Região                      845543                Reserva Particular do Patrimônio Natural Santuário Caraça  10        53\n",
                            "6212                 Alasca - Vida Selvagem no Denali National Park and Preserve        1403174               Parque Nacional e Reserva de Denali                        10        53\n",
                            "8944                 Jalapão - Capim Dourado                                            5760839               Política Nacional de Resíduos Sólidos                      10        53\n",
                            "dtype: int64"
                        ]
                    },
                    "metadata": {},
                    "execution_count": 180
                }
            ],
            "metadata": {}
        },
        {
            "cell_type": "code",
            "execution_count": null,
            "source": [
                "resultados_info.groupby(['id_documento_origem', 'titulo_documento_origem', 'id_documento_destino', 'titulo_documento_destino', 'cenario_wp']).size().sort_values(ascending=False).iloc[:20,]"
            ],
            "outputs": [
                {
                    "output_type": "execute_result",
                    "data": {
                        "text/plain": [
                            "id_documento_origem  titulo_documento_origem                                       id_documento_destino  titulo_documento_destino                                   cenario_wp\n",
                            "13870                Vídeo - Episódio Valle Nevado Ski Resort                      1634725               Cerro Catedral                                             gte42         100\n",
                            "582                  Santiago - Cerro Santa Lucía                                  2927559               Cerro Santa Lucía                                          gte42          77\n",
                            "2469                 Revelando a Foto - Antelope Canyon                            788767                Antelope Canyon                                            full           69\n",
                            "5599                 Alasca - Visitando o Denali National Park and Preserve        1403174               Parque Nacional e Reserva de Denali                        gte42          68\n",
                            "1748                 Região dos Lagos Chilenos - Roteiro Volta ao Lago Llanquihue  2267833               Llanquihue                                                 gte42          62\n",
                            "14103                Punta Cana - Hard Rock Hotel & Casino Punta Cana              1152952               American Academy of Arts and Letters                       gte42          62\n",
                            "6460                 Revelando a Foto - Zabriskie Point                            1172526               Zabriskie Point                                            gte42          61\n",
                            "14069                Atacama - Salar de Atacama                                    1628545               Salar de Atacama                                           full           61\n",
                            "13583                Valle Nevado Ski Resort - Minha Experiência com o Esqui       1634725               Cerro Catedral                                             gte42          61\n",
                            "15389                Catas Altas - Um Passeio Pela Cidade e Região                 845543                Reserva Particular do Patrimônio Natural Santuário Caraça  gte42          61\n",
                            "9652                 Praia do Rosa - Trilha para o Mirante do Canto Sul            1953845               Território organizado dos Estados Unidos                   gte42          60\n",
                            "13870                Vídeo - Episódio Valle Nevado Ski Resort                      1634725               Cerro Catedral                                             full           59\n",
                            "4120                 Revelando a Foto - Horseshoe Bend                             4053915               Horseshoe Bend (Arizona)                                   gte42          58\n",
                            "7723                 El Calafate - Passeio de Barco por Todos Los Glaciares        2192702               Glaciar Upsala                                             gte42          57\n",
                            "6212                 Alasca - Vida Selvagem no Denali National Park and Preserve   1403174               Parque Nacional e Reserva de Denali                        gte42          57\n",
                            "4588                 Revelando a Foto - Especial de Natal                          1422272               Castelo da Cinderela                                       gte42          54\n",
                            "3428                 Lençóis Maranhenses - Post Índice                             64980                 Reserva da Biosfera do Cinturão Verde de São Paulo         gte42          53\n",
                            "3339                 Lençóis Maranhenses - Lagoa Verde                             64980                 Reserva da Biosfera do Cinturão Verde de São Paulo         gte42          53\n",
                            "9123                 Revelando a Foto - Pescador na Praia Vermelha                 1953845               Território organizado dos Estados Unidos                   gte42          53\n",
                            "8944                 Jalapão - Capim Dourado                                       5760839               Política Nacional de Resíduos Sólidos                      gte42          52\n",
                            "dtype: int64"
                        ]
                    },
                    "metadata": {},
                    "execution_count": 181
                }
            ],
            "metadata": {}
        },
        {
            "cell_type": "markdown",
            "source": [
                "### Análise geral por recomendado"
            ],
            "metadata": {}
        },
        {
            "cell_type": "code",
            "execution_count": null,
            "source": [
                "# resultados_info.groupby(['id_documento_destino', 'titulo_documento_destino']).size().sort_values(ascending=False).iloc[:20,]\n",
                "origem_destino_distintos = resultados_info[['id_documento_destino', 'titulo_documento_destino', 'id_documento_origem', 'titulo_documento_origem']].drop_duplicates()"
            ],
            "outputs": [],
            "metadata": {}
        },
        {
            "cell_type": "code",
            "execution_count": null,
            "source": [
                "posts_distintos_origem_por_destino = origem_destino_distintos.groupby(['id_documento_destino', 'titulo_documento_destino']).size()"
            ],
            "outputs": [],
            "metadata": {}
        },
        {
            "cell_type": "code",
            "execution_count": null,
            "source": [
                "\"\"\"\n",
                "Paginas da wikipedia que foram recomendadas para mais posts de origem distintos.\n",
                "\"\"\"\n",
                "posts_distintos_origem_por_destino.sort_values(ascending=False)[:20, ]"
            ],
            "outputs": [
                {
                    "output_type": "execute_result",
                    "data": {
                        "text/plain": [
                            "id_documento_destino  titulo_documento_destino                          \n",
                            "4053915               Horseshoe Bend (Arizona)                              174\n",
                            "3176960               ISO 3166-2:NZ                                         149\n",
                            "1393890               Glaciar Taku                                          148\n",
                            "2960687               Lista de premiações especiais do Miss USA             140\n",
                            "1422272               Castelo da Cinderela                                  138\n",
                            "588018                Monte Fitz Roy                                        130\n",
                            "1403174               Parque Nacional e Reserva de Denali                   130\n",
                            "3237051               ISO 3166-2:CL                                         120\n",
                            "2192702               Glaciar Upsala                                        120\n",
                            "5661481               Lago Yellowstone                                      117\n",
                            "2895572               Praça Pedro II (São Luís)                             116\n",
                            "3067469               Área de Estatística Combinada                         100\n",
                            "1393635               Campo de gelo do sul da Patagónia                      99\n",
                            "2979863               Acidente na mina de Pike River em 2010                 98\n",
                            "84263                 Wikipédia:Lista de predefinições/Esboços/Geografia     98\n",
                            "3366116               Lago Ranco                                             94\n",
                            "3458521               Geographic Names Information System                    94\n",
                            "4256390               Lowcountry                                             93\n",
                            "2203643               Deserto de Chihuahua                                   93\n",
                            "4394501               Rio Mendoza                                            92\n",
                            "dtype: int64"
                        ]
                    },
                    "metadata": {},
                    "execution_count": 206
                }
            ],
            "metadata": {}
        },
        {
            "cell_type": "code",
            "execution_count": null,
            "source": [
                "posts_distintos_origem_por_destino.sort_values(ascending=False).hist()"
            ],
            "outputs": [
                {
                    "output_type": "execute_result",
                    "data": {
                        "text/plain": [
                            "<AxesSubplot:>"
                        ]
                    },
                    "metadata": {},
                    "execution_count": 224
                },
                {
                    "output_type": "display_data",
                    "data": {
                        "text/plain": [
                            "<Figure size 432x288 with 1 Axes>"
                        ],
                        "image/png": "[encoded data removed]"
                    },
                    "metadata": {}
                }
            ],
            "metadata": {}
        },
        {
            "cell_type": "code",
            "execution_count": null,
            "source": [
                "\"\"\"\n",
                "Analise de posts para os quais Horseshoe Bend (Arizona) foi recomendado como mais semelhante (id: 4053915)\n",
                "\n",
                "174 origem distintos, 1511 recomendações no total\n",
                "\n",
                "ESTE É UM EXCELENTE CANDIDATO A ENTENDER A SEMELHANÇA POR CAUSA DOS POSTS CERTEIROS NO INICIO E OS 8 DO JALAPAO EM SEGUIDA\n",
                "\"\"\"\n",
                "resultados_explorer.obter_topn_posts_por_recomendado(resultados_info, 4053915, 10)"
            ],
            "outputs": [
                {
                    "output_type": "stream",
                    "name": "stdout",
                    "text": [
                        "(1511, 16)\n"
                    ]
                },
                {
                    "output_type": "execute_result",
                    "data": {
                        "text/plain": [
                            "id_documento_origem  titulo_documento_origem          \n",
                            "4120                 Revelando a Foto - Horseshoe Bend    96\n",
                            "7412                 Revelando a Foto - Lake Powell       49\n",
                            "6863                 Jalapão - Cânion Sussuapara          34\n",
                            "7911                 Jalapão - Transporte                 33\n",
                            "7923                 Jalapão - Alimentação                32\n",
                            "7108                 Jalapão - Fervedouro da Glorinha     32\n",
                            "7185                 Jalapão - Cachoeira da Formiga       32\n",
                            "6823                 Jalapão - O que vem por aí           31\n",
                            "8116                 Jalapão - O que Levar?               31\n",
                            "8146                 Jalapão - Acampamento Korubo         31\n",
                            "dtype: int64"
                        ]
                    },
                    "metadata": {},
                    "execution_count": 291
                }
            ],
            "metadata": {}
        },
        {
            "cell_type": "code",
            "execution_count": null,
            "source": [
                "\"\"\"\n",
                "Analise de posts para os quais a página Campo de Gelo Sul da Patagonia foi recomendado como mais semelhante (id: 1393635)\n",
                "\n",
                "99 origem distintos, 390 recomendações no total\n",
                "\"\"\"\n",
                "resultados_explorer.obter_topn_posts_por_recomendado(resultados_info, 1393635, 10)"
            ],
            "outputs": [
                {
                    "output_type": "stream",
                    "name": "stdout",
                    "text": [
                        "(390, 16)\n"
                    ]
                },
                {
                    "output_type": "execute_result",
                    "data": {
                        "text/plain": [
                            "id_documento_origem  titulo_documento_origem                                    \n",
                            "4152                 Kenai Fjords National Park - Trilha para o Harding Icefield    21\n",
                            "7723                 El Calafate - Passeio de Barco por Todos Los Glaciares          9\n",
                            "3772                 Kenai Fjords National Park - Passeio de Barco no Alasca         9\n",
                            "3756                 Kenai Fjords National Park - Trilha do Exit Glacier             9\n",
                            "15034                Cachoeira da Maçã, Bela Surpresa da Cabeça de Boi               8\n",
                            "2421                 Revelando a Foto - Barco no Lago Espejo Chico                   8\n",
                            "2137                 Do Chile a Argentina sob Cinzas Vulcânicas                      8\n",
                            "7560                 El Calafate - Tour ao Glaciar Perito Moreno                     8\n",
                            "11254                El Calafate - Estancia Cristina                                 7\n",
                            "9079                 Circuito W - Lago e Glaciar Grey                                7\n",
                            "dtype: int64"
                        ]
                    },
                    "metadata": {},
                    "execution_count": 290
                }
            ],
            "metadata": {}
        },
        {
            "cell_type": "code",
            "execution_count": null,
            "source": [
                "# Fit Roy\n",
                "resultados_explorer.obter_topn_posts_por_recomendado(resultados_info, 588018, 10)"
            ],
            "outputs": [
                {
                    "output_type": "stream",
                    "name": "stdout",
                    "text": [
                        "(1348, 16)\n"
                    ]
                },
                {
                    "output_type": "execute_result",
                    "data": {
                        "text/plain": [
                            "id_documento_origem  titulo_documento_origem                              \n",
                            "14612                Vídeo - Episódio Laguna Torre                            77\n",
                            "14598                Vídeo - Episódio Laguna de Los Tres                      74\n",
                            "10340                El Chalten - Trilha para a Loma del Pliegue Tumbado      68\n",
                            "10948                Revelando a Foto - Laguna de Los Tres                    64\n",
                            "12287                El Chaltén - Volta à Laguna de los Tres                  51\n",
                            "9829                 El Chaltén - Trilha para Laguna Torre                    45\n",
                            "10141                El Chaltén - Trilha para Laguna de los Tres              40\n",
                            "7544                 Revelando a Foto - Patagônia sem Filtro                  38\n",
                            "12362                El Chalten - Trilha para a Laguna del Diablo             36\n",
                            "13282                Belo Horizonte - Visita ao Pátio Cervejeiro da Backer    35\n",
                            "dtype: int64"
                        ]
                    },
                    "metadata": {},
                    "execution_count": 215
                }
            ],
            "metadata": {}
        },
        {
            "cell_type": "code",
            "execution_count": null,
            "source": [
                "# 1403174 Parque Nacional e Reserva de Denali\n",
                "resultados_explorer.obter_topn_posts_por_recomendado(resultados_info, 1403174, 10)"
            ],
            "outputs": [
                {
                    "output_type": "stream",
                    "name": "stdout",
                    "text": [
                        "(1119, 16)\n"
                    ]
                },
                {
                    "output_type": "execute_result",
                    "data": {
                        "text/plain": [
                            "id_documento_origem  titulo_documento_origem                                       \n",
                            "5599                 Alasca - Visitando o Denali National Park and Preserve            119\n",
                            "6212                 Alasca - Vida Selvagem no Denali National Park and Preserve        93\n",
                            "1356                 Bariloche - Cerro Tronador e Cascada los Alerces                   54\n",
                            "1772                 Revelando a Foto - Parque das Aves                                 38\n",
                            "768                  Parque Nacional Lanín - Passeando entre Lagos e o Vulcão Lanín     37\n",
                            "5945                 De Anchorage ao Denali - Dirigindo pela Alaska Highway 3           31\n",
                            "12563                Islândia - Como Organizar uma Viagem de Campervan                  29\n",
                            "13583                Valle Nevado Ski Resort - Minha Experiência com o Esqui            28\n",
                            "392                  Revelando a Foto - Arches National Park                            27\n",
                            "1020                 Barcelona - Parc Güell                                             23\n",
                            "dtype: int64"
                        ]
                    },
                    "metadata": {},
                    "execution_count": 216
                }
            ],
            "metadata": {}
        },
        {
            "cell_type": "code",
            "execution_count": null,
            "source": [
                "# 5661481 Lago Yellowstone\n",
                "resultados_explorer.obter_topn_posts_por_recomendado(resultados_info, 5661481, 10)"
            ],
            "outputs": [
                {
                    "output_type": "stream",
                    "name": "stdout",
                    "text": [
                        "(443, 16)\n"
                    ]
                },
                {
                    "output_type": "execute_result",
                    "data": {
                        "text/plain": [
                            "id_documento_origem  titulo_documento_origem                                     \n",
                            "11322                Revelando a Foto - Reflexos no Barco                            12\n",
                            "9059                 Revelando a Foto - Inspiration Point no Bryce Canyon            12\n",
                            "1357                 Rota dos Sete Lagos - De Bariloche a San Martín de los Andes    10\n",
                            "2313                 Revelando a Foto - Parque Nacional Lanín                        10\n",
                            "972                  Revelando a Foto - Lago Meliquina                               10\n",
                            "7564                 Revelando a Foto - Riacho do Glaciar Huemul                      9\n",
                            "9079                 Circuito W - Lago e Glaciar Grey                                 9\n",
                            "10009                El Chaltén - Trilha para o Chorrillo del Salto                   7\n",
                            "8459                 Revelando a Foto - Rio de Las Vueltas                            6\n",
                            "11119                Revelando a Foto - Trekking no Glaciar Perito Moreno             6\n",
                            "dtype: int64"
                        ]
                    },
                    "metadata": {},
                    "execution_count": 217
                }
            ],
            "metadata": {}
        },
        {
            "cell_type": "code",
            "execution_count": null,
            "source": [
                "# 2203643 Deserto de Chihuahua\n",
                "resultados_explorer.obter_topn_posts_por_recomendado(resultados_info, 2203643, 10)"
            ],
            "outputs": [
                {
                    "output_type": "stream",
                    "name": "stdout",
                    "text": [
                        "(247, 16)\n"
                    ]
                },
                {
                    "output_type": "execute_result",
                    "data": {
                        "text/plain": [
                            "id_documento_origem  titulo_documento_origem                            \n",
                            "3290                 Atins - O Famoso Camarão da Luzia                      19\n",
                            "9829                 El Chaltén - Trilha para Laguna Torre                  10\n",
                            "12287                El Chaltén - Volta à Laguna de los Tres                10\n",
                            "10141                El Chaltén - Trilha para Laguna de los Tres            10\n",
                            "10340                El Chalten - Trilha para a Loma del Pliegue Tumbado     9\n",
                            "14598                Vídeo - Episódio Laguna de Los Tres                     8\n",
                            "14612                Vídeo - Episódio Laguna Torre                           8\n",
                            "12609                Quando ir para a Islândia                               7\n",
                            "1960                 Chile - Não Durma no Voo                                7\n",
                            "10948                Revelando a Foto - Laguna de Los Tres                   6\n",
                            "dtype: int64"
                        ]
                    },
                    "metadata": {},
                    "execution_count": 218
                }
            ],
            "metadata": {}
        },
        {
            "cell_type": "markdown",
            "source": [
                "## Explicação da semelhança"
            ],
            "metadata": {}
        },
        {
            "cell_type": "code",
            "execution_count": null,
            "source": [
                "def get_tokens_documentos(df, ids_docs):\n",
                "    return df[df['id_documento'].isin(ids_docs)]['tokens']"
            ],
            "outputs": [],
            "metadata": {}
        },
        {
            "cell_type": "markdown",
            "source": [
                "Alvos:\n",
                "- Destino horseshoe bend: 4053915\n",
                "- Origens\n",
                "    * 4120 (Revelando a Foto - Horseshoe Bend)\n",
                "    * 7412 (Revelando a Foto - Lake Powell)\n",
                "    * 6863 (Jalapão - Cânion Sussuapara)\n",
                "    * 7911 (Jalapão - Transporte)"
            ],
            "metadata": {}
        },
        {
            "cell_type": "code",
            "execution_count": null,
            "source": [
                "tokens_origens = get_tokens_documentos(posts_df, [4120, 7412, 6863, 7911, 7923, 7108, 7185, 6823, 8116, 8146]).to_numpy()\n",
                "corpus_horseshoe = [resultado_lda.dicionario.doc2bow(d) for d in tokens_origens]\n",
                "print('Topicos dominantes dos documentos de origem')\n",
                "topico_dominante.print_topn_topics(lda_model, corpus_horseshoe)\n",
                "\n",
                "print('Topicos dominantes dos documentos de destino')\n",
                "tokens_destinos = get_tokens_documentos(paginas_df, [4053915]).to_numpy()\n",
                "corpus_destino = [resultado_lda.dicionario.doc2bow(d) for d in tokens_destinos]\n",
                "topico_dominante.print_topn_topics(lda_model, corpus_destino)"
            ],
            "outputs": [
                {
                    "output_type": "stream",
                    "name": "stdout",
                    "text": [
                        "Topicos dominantes dos documentos de origem\n",
                        "['16 = 0.9357', '25 = 0.0576', '0 = 0.0001', '1 = 0.0001', '2 = 0.0001']\n",
                        "['16 = 0.9919', '0 = 0.0001', '1 = 0.0001', '2 = 0.0001', '3 = 0.0001']\n",
                        "['16 = 0.9957', '0 = 0.0001', '1 = 0.0001', '2 = 0.0001', '3 = 0.0001']\n",
                        "['16 = 0.9949', '0 = 0.0001', '1 = 0.0001', '2 = 0.0001', '3 = 0.0001']\n",
                        "['16 = 0.9950', '0 = 0.0001', '1 = 0.0001', '2 = 0.0001', '3 = 0.0001']\n",
                        "['29 = 0.6962', '16 = 0.2232', '56 = 0.0739', '0 = 0.0001', '1 = 0.0001']\n",
                        "['16 = 0.9953', '0 = 0.0001', '1 = 0.0001', '2 = 0.0001', '3 = 0.0001']\n",
                        "['16 = 0.9952', '0 = 0.0001', '1 = 0.0001', '2 = 0.0001', '3 = 0.0001']\n",
                        "['16 = 0.9944', '0 = 0.0001', '1 = 0.0001', '2 = 0.0001', '3 = 0.0001']\n",
                        "['16 = 0.6336', '53 = 0.3612', '0 = 0.0001', '1 = 0.0001', '2 = 0.0001']\n",
                        "Topicos dominantes dos documentos de destino\n",
                        "['16 = 0.4912', '29 = 0.1190', '19 = 0.1015', '20 = 0.0756', '52 = 0.0586']\n"
                    ]
                }
            ],
            "metadata": {}
        },
        {
            "cell_type": "code",
            "execution_count": null,
            "source": [
                "topico_dominante.print_words_by_topic(lda_model, [16, 29])"
            ],
            "outputs": [
                {
                    "output_type": "stream",
                    "name": "stdout",
                    "text": [
                        "['jalap = 0.1216', 'cacho = 0.0302', 'águ = 0.0170', 'korub = 0.0168', 'velh = 0.0149', 'pra = 0.0140', 'temp = 0.0133', 'lei = 0.0125', 'expos = 0.0118', 'dun = 0.0109']\n",
                        "['vall = 0.0314', 'esqu = 0.0204', 'cidad = 0.0146', 'tr = 0.0141', 'lagun = 0.0123', 'aul = 0.0103', 'fiz = 0.0098', 'ski = 0.0092', 'pouc = 0.0089', 'santiag = 0.0088']\n"
                    ]
                }
            ],
            "metadata": {}
        },
        {
            "cell_type": "markdown",
            "source": [
                "### Análise topicos palavras Laguna Verde\n",
                "\n",
                "- Origem: 3339 (Lençois Maranhenses - Laguna Verde)\n",
                "- Destinos:\n",
                "    * 64980 (Reserva da Biosfera do Cinturão Verde de São Paulo) 86\n",
                "    * 6415856 (Reserva Lagoa São Paulo) 35\n",
                "    * 5168411 (Lagoa Dom Helvécio) 20\n",
                "    * 3504316 Área de Proteção Ambiental das Reentrâncias Maranhenses) 13\n",
                "    * 150576 (Parque Nacional dos Lençóis Maranhenses) 9"
            ],
            "metadata": {}
        },
        {
            "cell_type": "code",
            "execution_count": null,
            "source": [
                "tokens_origens = get_tokens_documentos(posts_df, [3339]).to_numpy()\n",
                "corpus_horseshoe = [resultado_lda.dicionario.doc2bow(d) for d in tokens_origens]\n",
                "print('Topicos dominantes dos documentos de origem')\n",
                "topico_dominante.print_topn_topics(lda_model, corpus_horseshoe)\n",
                "\n",
                "print('Topicos dominantes dos documentos de destino')\n",
                "tokens_destinos = get_tokens_documentos(paginas_df, [64980, 6415856, 5168411, 3504316, 150576]).to_numpy()\n",
                "corpus_destino = [resultado_lda.dicionario.doc2bow(d) for d in tokens_destinos]\n",
                "topico_dominante.print_topn_topics(lda_model, corpus_destino)"
            ],
            "outputs": [
                {
                    "output_type": "stream",
                    "name": "stdout",
                    "text": [
                        "Topicos dominantes dos documentos de origem\n",
                        "['23 = 0.9969', '0 = 0.0001', '1 = 0.0001', '2 = 0.0001', '3 = 0.0001']\n",
                        "Topicos dominantes dos documentos de destino\n",
                        "['5 = 0.1444', '48 = 0.1266', '1 = 0.1034', '56 = 0.0746', '47 = 0.0629']\n",
                        "['1 = 0.3183', '23 = 0.3118', '3 = 0.2009', '47 = 0.1232', '7 = 0.0327']\n",
                        "['1 = 0.1432', '23 = 0.1187', '48 = 0.1097', '5 = 0.0999', '32 = 0.0934']\n",
                        "['48 = 0.2409', '5 = 0.1652', '25 = 0.0726', '17 = 0.0638', '23 = 0.0561']\n",
                        "['48 = 0.3250', '23 = 0.1634', '7 = 0.1089', '32 = 0.0857', '30 = 0.0781']\n"
                    ]
                }
            ],
            "metadata": {}
        },
        {
            "cell_type": "code",
            "execution_count": null,
            "source": [
                "topico_dominante.print_words_by_topic(lda_model, [23, 0, 1])"
            ],
            "outputs": [
                {
                    "output_type": "stream",
                    "name": "stdout",
                    "text": [
                        "['lago = 0.0629', 'verd = 0.0171', 'águ = 0.0166', 'prat = 0.0150', 'pouc = 0.0146', 'lençol = 0.0141', 'gent = 0.0127', 'barre = 0.0126', 'cidad = 0.0113', 'maranh = 0.0112']\n",
                        "['urs = 0.0228', 'iso = 0.0163', 'boa = 0.0153', 'câm = 0.0152', 'parqu = 0.0136', 'cinderel = 0.0109', 'moment = 0.0101', 'voad = 0.0098', 'voo = 0.0096', 'cordilh = 0.0088']\n",
                        "['sorvet = 0.0164', 'cidad = 0.0127', 'aind = 0.0094', 'histór = 0.0062', 'mund = 0.0062', 'uma = 0.0061', 'pouc = 0.0059', 'pesso = 0.0057', 'são = 0.0056', 'temp = 0.0055']\n"
                    ]
                }
            ],
            "metadata": {}
        }
    ],
    "metadata": {
        "orig_nbformat": 4,
        "language_info": {
            "name": "python",
            "version": "3.8.11",
            "mimetype": "text/x-python",
            "codemirror_mode": {
                "name": "ipython",
                "version": 3
            },
            "pygments_lexer": "ipython3",
            "nbconvert_exporter": "python",
            "file_extension": ".py"
        },
        "kernelspec": {
            "name": "python3",
            "display_name": "Python 3.8.11 64-bit ('tcc-venv': venv)"
        },
        "interpreter": {
            "hash": "e40f5302c6d4b9de2141353283620edefcabae1dbe23ed7117377b1c1ce32e40"
        }
    },
    "nbformat": 4,
    "nbformat_minor": 2
}