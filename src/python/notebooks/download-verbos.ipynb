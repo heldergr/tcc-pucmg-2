{
 "cells": [
  {
   "cell_type": "code",
   "execution_count": 37,
   "metadata": {},
   "outputs": [],
   "source": [
    "import pandas as pd\n",
    "import requests\n",
    "from bs4 import BeautifulSoup\n",
    "import time\n",
    "from pymongo import MongoClient\n",
    "import nltk"
   ]
  },
  {
   "cell_type": "code",
   "execution_count": 33,
   "metadata": {},
   "outputs": [],
   "source": [
    "url_base = 'https://www.conjugacao.com.br/verbos-populares'\n",
    "urls_paginas = [url_base] + [f'{url_base}/{i}/' for i in range(2, 51)]"
   ]
  },
  {
   "cell_type": "code",
   "execution_count": 35,
   "metadata": {},
   "outputs": [],
   "source": [
    "def get_verbos_pagina(url_pagina):\n",
    "    print(f'Buscando verbos da pagina {url_pagina}')\n",
    "    # Espera 5 segundos antes de buscar a proxima pagina\n",
    "    time.sleep(5)\n",
    "    page = requests.get(url_pagina)\n",
    "    if page.status_code == 200:\n",
    "        soap = BeautifulSoup(page.text, 'html.parser')\n",
    "        div_content = soap.find('div', {'id': 'content'})\n",
    "        lis = div_content.findChildren('li')\n",
    "        verbos_pagina = [li.getText() for li in lis]\n",
    "        return verbos_pagina\n",
    "    else:\n",
    "        return []"
   ]
  },
  {
   "cell_type": "code",
   "execution_count": 36,
   "metadata": {},
   "outputs": [
    {
     "name": "stdout",
     "output_type": "stream",
     "text": [
      "Buscando verbos da pagina https://www.conjugacao.com.br/verbos-populares\n",
      "Buscando verbos da pagina https://www.conjugacao.com.br/verbos-populares/2/\n",
      "Buscando verbos da pagina https://www.conjugacao.com.br/verbos-populares/3/\n",
      "Buscando verbos da pagina https://www.conjugacao.com.br/verbos-populares/4/\n",
      "Buscando verbos da pagina https://www.conjugacao.com.br/verbos-populares/5/\n",
      "Buscando verbos da pagina https://www.conjugacao.com.br/verbos-populares/6/\n",
      "Buscando verbos da pagina https://www.conjugacao.com.br/verbos-populares/7/\n",
      "Buscando verbos da pagina https://www.conjugacao.com.br/verbos-populares/8/\n",
      "Buscando verbos da pagina https://www.conjugacao.com.br/verbos-populares/9/\n",
      "Buscando verbos da pagina https://www.conjugacao.com.br/verbos-populares/10/\n",
      "Buscando verbos da pagina https://www.conjugacao.com.br/verbos-populares/11/\n",
      "Buscando verbos da pagina https://www.conjugacao.com.br/verbos-populares/12/\n",
      "Buscando verbos da pagina https://www.conjugacao.com.br/verbos-populares/13/\n",
      "Buscando verbos da pagina https://www.conjugacao.com.br/verbos-populares/14/\n",
      "Buscando verbos da pagina https://www.conjugacao.com.br/verbos-populares/15/\n",
      "Buscando verbos da pagina https://www.conjugacao.com.br/verbos-populares/16/\n",
      "Buscando verbos da pagina https://www.conjugacao.com.br/verbos-populares/17/\n",
      "Buscando verbos da pagina https://www.conjugacao.com.br/verbos-populares/18/\n",
      "Buscando verbos da pagina https://www.conjugacao.com.br/verbos-populares/19/\n",
      "Buscando verbos da pagina https://www.conjugacao.com.br/verbos-populares/20/\n",
      "Buscando verbos da pagina https://www.conjugacao.com.br/verbos-populares/21/\n",
      "Buscando verbos da pagina https://www.conjugacao.com.br/verbos-populares/22/\n",
      "Buscando verbos da pagina https://www.conjugacao.com.br/verbos-populares/23/\n",
      "Buscando verbos da pagina https://www.conjugacao.com.br/verbos-populares/24/\n",
      "Buscando verbos da pagina https://www.conjugacao.com.br/verbos-populares/25/\n",
      "Buscando verbos da pagina https://www.conjugacao.com.br/verbos-populares/26/\n",
      "Buscando verbos da pagina https://www.conjugacao.com.br/verbos-populares/27/\n",
      "Buscando verbos da pagina https://www.conjugacao.com.br/verbos-populares/28/\n",
      "Buscando verbos da pagina https://www.conjugacao.com.br/verbos-populares/29/\n",
      "Buscando verbos da pagina https://www.conjugacao.com.br/verbos-populares/30/\n",
      "Buscando verbos da pagina https://www.conjugacao.com.br/verbos-populares/31/\n",
      "Buscando verbos da pagina https://www.conjugacao.com.br/verbos-populares/32/\n",
      "Buscando verbos da pagina https://www.conjugacao.com.br/verbos-populares/33/\n",
      "Buscando verbos da pagina https://www.conjugacao.com.br/verbos-populares/34/\n",
      "Buscando verbos da pagina https://www.conjugacao.com.br/verbos-populares/35/\n",
      "Buscando verbos da pagina https://www.conjugacao.com.br/verbos-populares/36/\n",
      "Buscando verbos da pagina https://www.conjugacao.com.br/verbos-populares/37/\n",
      "Buscando verbos da pagina https://www.conjugacao.com.br/verbos-populares/38/\n",
      "Buscando verbos da pagina https://www.conjugacao.com.br/verbos-populares/39/\n",
      "Buscando verbos da pagina https://www.conjugacao.com.br/verbos-populares/40/\n",
      "Buscando verbos da pagina https://www.conjugacao.com.br/verbos-populares/41/\n",
      "Buscando verbos da pagina https://www.conjugacao.com.br/verbos-populares/42/\n",
      "Buscando verbos da pagina https://www.conjugacao.com.br/verbos-populares/43/\n",
      "Buscando verbos da pagina https://www.conjugacao.com.br/verbos-populares/44/\n",
      "Buscando verbos da pagina https://www.conjugacao.com.br/verbos-populares/45/\n",
      "Buscando verbos da pagina https://www.conjugacao.com.br/verbos-populares/46/\n",
      "Buscando verbos da pagina https://www.conjugacao.com.br/verbos-populares/47/\n",
      "Buscando verbos da pagina https://www.conjugacao.com.br/verbos-populares/48/\n",
      "Buscando verbos da pagina https://www.conjugacao.com.br/verbos-populares/49/\n",
      "Buscando verbos da pagina https://www.conjugacao.com.br/verbos-populares/50/\n"
     ]
    }
   ],
   "source": [
    "verbos_por_paginas = [get_verbos_pagina(url) for url in urls_paginas]"
   ]
  },
  {
   "cell_type": "code",
   "execution_count": 44,
   "metadata": {},
   "outputs": [],
   "source": [
    "todos_verbos = [verbo for verbos_pagina in verbos_por_paginas for verbo in verbos_pagina]"
   ]
  },
  {
   "cell_type": "code",
   "execution_count": 45,
   "metadata": {},
   "outputs": [
    {
     "data": {
      "text/plain": [
       "5000"
      ]
     },
     "execution_count": 45,
     "metadata": {},
     "output_type": "execute_result"
    }
   ],
   "source": [
    "len(todos_verbos)"
   ]
  },
  {
   "cell_type": "code",
   "execution_count": 41,
   "metadata": {},
   "outputs": [],
   "source": [
    "def get_collection_verbos():\n",
    "    client = MongoClient()\n",
    "    tcc_pucmg_db = client['tcc-pucmg']\n",
    "    return tcc_pucmg_db.verbos"
   ]
  },
  {
   "cell_type": "code",
   "execution_count": 42,
   "metadata": {},
   "outputs": [],
   "source": [
    "stemmer = nltk.stem.RSLPStemmer()\n",
    "verbos = get_collection_verbos()"
   ]
  },
  {
   "cell_type": "code",
   "execution_count": 43,
   "metadata": {},
   "outputs": [],
   "source": [
    "def criar_documento(verbo):\n",
    "    return {\n",
    "        'verbo': verbo,\n",
    "        'verbo_stemmed': stemmer.stem(verbo)\n",
    "    }"
   ]
  },
  {
   "cell_type": "code",
   "execution_count": 46,
   "metadata": {},
   "outputs": [],
   "source": [
    "documentos_verbos = [criar_documento(v) for v in todos_verbos]"
   ]
  },
  {
   "cell_type": "code",
   "execution_count": 47,
   "metadata": {},
   "outputs": [
    {
     "data": {
      "text/plain": [
       "<pymongo.results.InsertManyResult at 0x7fa0953eaa40>"
      ]
     },
     "execution_count": 47,
     "metadata": {},
     "output_type": "execute_result"
    }
   ],
   "source": [
    "verbos.insert_many(documentos_verbos)"
   ]
  }
 ],
 "metadata": {
  "interpreter": {
   "hash": "e40f5302c6d4b9de2141353283620edefcabae1dbe23ed7117377b1c1ce32e40"
  },
  "kernelspec": {
   "display_name": "Python 3.8.10 64-bit ('tcc-venv': venv)",
   "name": "python3"
  },
  "language_info": {
   "codemirror_mode": {
    "name": "ipython",
    "version": 3
   },
   "file_extension": ".py",
   "mimetype": "text/x-python",
   "name": "python",
   "nbconvert_exporter": "python",
   "pygments_lexer": "ipython3",
   "version": "3.8.10"
  },
  "orig_nbformat": 4
 },
 "nbformat": 4,
 "nbformat_minor": 2
}