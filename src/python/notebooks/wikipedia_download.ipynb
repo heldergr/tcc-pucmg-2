{
 "metadata": {
  "language_info": {
   "codemirror_mode": {
    "name": "ipython",
    "version": 3
   },
   "file_extension": ".py",
   "mimetype": "text/x-python",
   "name": "python",
   "nbconvert_exporter": "python",
   "pygments_lexer": "ipython3",
   "version": "3.8.11"
  },
  "orig_nbformat": 2,
  "kernelspec": {
   "name": "python3",
   "display_name": "Python 3.8.11 64-bit ('tcc-venv': venv)"
  },
  "interpreter": {
   "hash": "e40f5302c6d4b9de2141353283620edefcabae1dbe23ed7117377b1c1ce32e40"
  }
 },
 "nbformat": 4,
 "nbformat_minor": 2,
 "cells": [
  {
   "cell_type": "code",
   "execution_count": 5,
   "source": [
    "%reload_ext autoreload\n",
    "%autoreload 2"
   ],
   "outputs": [],
   "metadata": {}
  },
  {
   "cell_type": "markdown",
   "source": [
    "# Wikipedia\n",
    "\n",
    "Este é o notebook orquestrador de download de páginas da Wikipedia. É um controller que usa os serviços da classe WikipediaDownloader."
   ],
   "metadata": {}
  },
  {
   "cell_type": "code",
   "execution_count": 7,
   "source": [
    "from coleta.corretor_paginas_wikipedia import CorretorEstruturaCategorias\n",
    "from coleta.wikipedia import CategoriaCollector, PaginaCollector, WikipediaDownloader\n",
    "\n",
    "wikipedia_downloader = WikipediaDownloader()\n",
    "pagina_collector = PaginaCollector(collection_paginas='pages_brasil', collection_paginas_conteudo='pages_content_brasil')\n",
    "categoria_collector = CategoriaCollector(collection_categorias='categories_brasil', pagina_collector=pagina_collector)\n",
    "country = 'Brasil'"
   ],
   "outputs": [],
   "metadata": {}
  },
  {
   "cell_type": "markdown",
   "source": [
    "## Definir categoria raiz\n",
    "\n",
    "Em nosso caso de estudo a categoria raiz sera Geografia do Brasil. Abaixo esta o documento correspondente, obtido atraves de procura feita \n",
    "no resultado da consulta de category_members da categoria \"Categoria:Brasil\"."
   ],
   "metadata": {}
  },
  {
   "cell_type": "code",
   "execution_count": null,
   "source": [
    "is_adicionar_categoria_raiz = True\n",
    "if is_adicionar_categoria_raiz:\n",
    "    categoria_geografia_brasil = {'pageid': 15122,\n",
    "    'ns': 14,\n",
    "    'title': 'Categoria:Geografia do Brasil',\n",
    "    'type': 'subcat', \n",
    "    'country': 'Brasil'}\n",
    "    categoria_collector.add_categories_for_check([categoria_geografia_brasil])"
   ],
   "outputs": [],
   "metadata": {}
  },
  {
   "cell_type": "markdown",
   "source": [
    "## Iteração de download de categorias\n",
    "\n",
    "- Categories status\n",
    "    * Check: waiting for someone to check if it has to be downloaded\n",
    "    * Waiting: waiting for dowload\n",
    "    * Skeep: skeep download of this category\n",
    "    * Done: downloaded"
   ],
   "metadata": {}
  },
  {
   "cell_type": "markdown",
   "source": [
    "### Passo 1 - Procurar categorias candidatas a download"
   ],
   "metadata": {}
  },
  {
   "cell_type": "code",
   "execution_count": null,
   "source": [
    "categorias_candidatas_para_download = categoria_collector.get_categories_for_check()\n",
    "print(len(categorias_candidatas_para_download))"
   ],
   "outputs": [],
   "metadata": {}
  },
  {
   "cell_type": "code",
   "execution_count": null,
   "source": [
    "for ccpd in categorias_candidatas_para_download[180:]:\n",
    "    print(f'{ccpd[\"pageid\"]} - {ccpd[\"title\"]}')"
   ],
   "outputs": [],
   "metadata": {}
  },
  {
   "cell_type": "markdown",
   "source": [
    "### Passo 2 - Selecionar para download e skeep"
   ],
   "metadata": {}
  },
  {
   "cell_type": "code",
   "execution_count": null,
   "source": [
    "categorias_selecionadas_para_download = [3478723, 3475853, 3475855, 3478726, 583532, 6216184]\n",
    "if len(categorias_selecionadas_para_download) > 0:\n",
    "    categoria_collector.set_categories_for_download(categorias_selecionadas_para_download)"
   ],
   "outputs": [],
   "metadata": {}
  },
  {
   "cell_type": "code",
   "execution_count": null,
   "source": [
    "categorias_selecionadas_para_skeep = []\n",
    "if len(categorias_selecionadas_para_skeep) > 0:\n",
    "    categoria_collector.set_categories_for_skeep(categorias_selecionadas_para_skeep)"
   ],
   "outputs": [],
   "metadata": {}
  },
  {
   "cell_type": "markdown",
   "source": [
    "### Passo 3 - Fazer download de selecionadas"
   ],
   "metadata": {}
  },
  {
   "cell_type": "code",
   "execution_count": null,
   "source": [
    "categorias_para_download = categoria_collector.get_categories_for_download()\n",
    "print(f'{len(categorias_para_download)} categorias recuperadas para download...')\n",
    "for cpd in categorias_para_download:\n",
    "    categoria_collector.download_category_tree(cpd, cpd['country'])"
   ],
   "outputs": [],
   "metadata": {}
  },
  {
   "cell_type": "markdown",
   "source": [
    "## Corrigir estrutura de categorias\n",
    "\n",
    "- Deve ser executado após o download de todas as categorias_para_download\n",
    "- É necessário porque  várias paginas sao referenciadas por mais de uma categoria e por isso sao inseridas duas vezes por cada categoria. Para evitar de \n",
    "ficar verificando se uma pagina foi incluida ou nao no download da categoria, preferi fazer o donwload mais de uma vez e corrigir tudo de uma vez apos o download."
   ],
   "metadata": {}
  },
  {
   "cell_type": "code",
   "execution_count": 3,
   "source": [
    "# corretor_estrutura_categorias = CorretorEstruturaCategorias(collection_name_incorreto='pages_brasil_incorreto', collection_name_correto='pages_brasil')\n",
    "# corretor_estrutura_categorias.corrigir_categorias()"
   ],
   "outputs": [],
   "metadata": {}
  },
  {
   "cell_type": "markdown",
   "source": [
    "## Download de páginas (wikitext)\n",
    "\n",
    "- Pages status (wikitext)\n",
    "    * Waiting: waiting for download\n",
    "    * Done: Download done"
   ],
   "metadata": {}
  },
  {
   "cell_type": "code",
   "execution_count": 4,
   "source": [
    "# Executar apenas uma vez\n",
    "# pagina_collector.set_pages_for_wikitext_download()"
   ],
   "outputs": [],
   "metadata": {}
  },
  {
   "cell_type": "code",
   "execution_count": null,
   "source": [
    "pagina_collector.run_wikitext_download(100)"
   ],
   "outputs": [],
   "metadata": {}
  },
  {
   "cell_type": "code",
   "execution_count": 26,
   "source": [
    "pagina_collector.show_download_statistics()"
   ],
   "outputs": [
    {
     "output_type": "stream",
     "name": "stdout",
     "text": [
      "Page text download counts: [{'_id': 'Done', 'total': 764}]\n"
     ]
    }
   ],
   "metadata": {}
  },
  {
   "cell_type": "markdown",
   "source": [
    "## Download de páginas (text)\n",
    "\n",
    "- Pages status (text)\n",
    "    * Waiting: waiting for download\n",
    "    * Donw: Download done"
   ],
   "metadata": {}
  },
  {
   "cell_type": "code",
   "execution_count": 31,
   "source": [
    "# Executar apenas uma vez\n",
    "# pagina_collector.set_pages_for_text_download()"
   ],
   "outputs": [],
   "metadata": {}
  },
  {
   "cell_type": "code",
   "execution_count": null,
   "source": [
    "pagina_collector.run_text_download(110)"
   ],
   "outputs": [],
   "metadata": {}
  },
  {
   "cell_type": "code",
   "execution_count": 46,
   "source": [
    "pagina_collector.show_text_download_statistics()"
   ],
   "outputs": [
    {
     "output_type": "stream",
     "name": "stdout",
     "text": [
      "Page text download counts: [{'_id': 'Done', 'total': 764}]\n"
     ]
    }
   ],
   "metadata": {}
  }
 ]
}