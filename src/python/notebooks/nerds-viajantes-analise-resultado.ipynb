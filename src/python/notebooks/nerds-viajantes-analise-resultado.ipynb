{
    "cells": [
        {
            "cell_type": "markdown",
            "source": [
                "# Análise de resultados"
            ],
            "metadata": {}
        },
        {
            "cell_type": "code",
            "execution_count": 21,
            "source": [
                "from explore.resultado import ResultadoExplorer\n",
                "from util import constants\n",
                "\n",
                "resultado_explorer = ResultadoExplorer()"
            ],
            "outputs": [],
            "metadata": {}
        },
        {
            "cell_type": "code",
            "execution_count": 13,
            "source": [],
            "outputs": [],
            "metadata": {}
        },
        {
            "cell_type": "code",
            "execution_count": 14,
            "source": [
                "todos_resultados = resultado_explorer.find_all()\n"
            ],
            "outputs": [],
            "metadata": {}
        },
        {
            "cell_type": "code",
            "execution_count": 15,
            "source": [
                "todos_resultados.head(5)"
            ],
            "outputs": [
                {
                    "output_type": "execute_result",
                    "data": {
                        "text/plain": [
                            "   id_documento_origem                            titulo_documento_origem  \\\n",
                            "0                   11  Santiago - Museu de Arte Pré-Colombiana Fechad...   \n",
                            "1                   60              Santiago - Restaurante Aquí Está Coco   \n",
                            "2                  111                    Santiago - Palacio de la Moneda   \n",
                            "3                  134                       Revelando a Foto - Frutillar   \n",
                            "4                  167                 Revelando a Foto - Monument Valley   \n",
                            "\n",
                            "   id_documento_destino titulo_documento_destino  distancia_destino  \\\n",
                            "0               5309070        Alexander (Texas)           0.278568   \n",
                            "1               2336490  Barber Motorsports Park           0.388272   \n",
                            "2               5412010      Casablanca (vulcão)           0.341040   \n",
                            "3                532625          Aldea Brasilera           0.413302   \n",
                            "4               1448829     El Capitan (Arizona)           0.347342   \n",
                            "\n",
                            "                                    id_cenario     fonte_origem fonte_destino  \n",
                            "0  lda_NERDS_VIAJANTES_WIKIPEDIA_numtopics-100  NERDS_VIAJANTES     WIKIPEDIA  \n",
                            "1  lda_NERDS_VIAJANTES_WIKIPEDIA_numtopics-100  NERDS_VIAJANTES     WIKIPEDIA  \n",
                            "2  lda_NERDS_VIAJANTES_WIKIPEDIA_numtopics-100  NERDS_VIAJANTES     WIKIPEDIA  \n",
                            "3  lda_NERDS_VIAJANTES_WIKIPEDIA_numtopics-100  NERDS_VIAJANTES     WIKIPEDIA  \n",
                            "4  lda_NERDS_VIAJANTES_WIKIPEDIA_numtopics-100  NERDS_VIAJANTES     WIKIPEDIA  "
                        ],
                        "text/html": [
                            "<div>\n",
                            "<style scoped>\n",
                            "    .dataframe tbody tr th:only-of-type {\n",
                            "        vertical-align: middle;\n",
                            "    }\n",
                            "\n",
                            "    .dataframe tbody tr th {\n",
                            "        vertical-align: top;\n",
                            "    }\n",
                            "\n",
                            "    .dataframe thead th {\n",
                            "        text-align: right;\n",
                            "    }\n",
                            "</style>\n",
                            "<table border=\"1\" class=\"dataframe\">\n",
                            "  <thead>\n",
                            "    <tr style=\"text-align: right;\">\n",
                            "      <th></th>\n",
                            "      <th>id_documento_origem</th>\n",
                            "      <th>titulo_documento_origem</th>\n",
                            "      <th>id_documento_destino</th>\n",
                            "      <th>titulo_documento_destino</th>\n",
                            "      <th>distancia_destino</th>\n",
                            "      <th>id_cenario</th>\n",
                            "      <th>fonte_origem</th>\n",
                            "      <th>fonte_destino</th>\n",
                            "    </tr>\n",
                            "  </thead>\n",
                            "  <tbody>\n",
                            "    <tr>\n",
                            "      <th>0</th>\n",
                            "      <td>11</td>\n",
                            "      <td>Santiago - Museu de Arte Pré-Colombiana Fechad...</td>\n",
                            "      <td>5309070</td>\n",
                            "      <td>Alexander (Texas)</td>\n",
                            "      <td>0.278568</td>\n",
                            "      <td>lda_NERDS_VIAJANTES_WIKIPEDIA_numtopics-100</td>\n",
                            "      <td>NERDS_VIAJANTES</td>\n",
                            "      <td>WIKIPEDIA</td>\n",
                            "    </tr>\n",
                            "    <tr>\n",
                            "      <th>1</th>\n",
                            "      <td>60</td>\n",
                            "      <td>Santiago - Restaurante Aquí Está Coco</td>\n",
                            "      <td>2336490</td>\n",
                            "      <td>Barber Motorsports Park</td>\n",
                            "      <td>0.388272</td>\n",
                            "      <td>lda_NERDS_VIAJANTES_WIKIPEDIA_numtopics-100</td>\n",
                            "      <td>NERDS_VIAJANTES</td>\n",
                            "      <td>WIKIPEDIA</td>\n",
                            "    </tr>\n",
                            "    <tr>\n",
                            "      <th>2</th>\n",
                            "      <td>111</td>\n",
                            "      <td>Santiago - Palacio de la Moneda</td>\n",
                            "      <td>5412010</td>\n",
                            "      <td>Casablanca (vulcão)</td>\n",
                            "      <td>0.341040</td>\n",
                            "      <td>lda_NERDS_VIAJANTES_WIKIPEDIA_numtopics-100</td>\n",
                            "      <td>NERDS_VIAJANTES</td>\n",
                            "      <td>WIKIPEDIA</td>\n",
                            "    </tr>\n",
                            "    <tr>\n",
                            "      <th>3</th>\n",
                            "      <td>134</td>\n",
                            "      <td>Revelando a Foto - Frutillar</td>\n",
                            "      <td>532625</td>\n",
                            "      <td>Aldea Brasilera</td>\n",
                            "      <td>0.413302</td>\n",
                            "      <td>lda_NERDS_VIAJANTES_WIKIPEDIA_numtopics-100</td>\n",
                            "      <td>NERDS_VIAJANTES</td>\n",
                            "      <td>WIKIPEDIA</td>\n",
                            "    </tr>\n",
                            "    <tr>\n",
                            "      <th>4</th>\n",
                            "      <td>167</td>\n",
                            "      <td>Revelando a Foto - Monument Valley</td>\n",
                            "      <td>1448829</td>\n",
                            "      <td>El Capitan (Arizona)</td>\n",
                            "      <td>0.347342</td>\n",
                            "      <td>lda_NERDS_VIAJANTES_WIKIPEDIA_numtopics-100</td>\n",
                            "      <td>NERDS_VIAJANTES</td>\n",
                            "      <td>WIKIPEDIA</td>\n",
                            "    </tr>\n",
                            "  </tbody>\n",
                            "</table>\n",
                            "</div>"
                        ]
                    },
                    "metadata": {},
                    "execution_count": 15
                }
            ],
            "metadata": {}
        },
        {
            "cell_type": "markdown",
            "source": [
                "## Análise estatística das distâncias entre os documentos mais próximos de acordo com o cenário"
            ],
            "metadata": {}
        },
        {
            "cell_type": "code",
            "execution_count": 20,
            "source": [
                "todos_resultados[['id_cenario', 'distancia_destino']].groupby('id_cenario').describe().reset_index()"
            ],
            "outputs": [
                {
                    "output_type": "execute_result",
                    "data": {
                        "text/plain": [
                            "                                    id_cenario distancia_destino           \\\n",
                            "                                                           count     mean   \n",
                            "0  lda_NERDS_VIAJANTES_WIKIPEDIA_numtopics-100             378.0  0.44836   \n",
                            "\n",
                            "                                                             \n",
                            "        std      min      25%       50%       75%       max  \n",
                            "0  0.132413  0.06444  0.34358  0.463742  0.560945  0.768947  "
                        ],
                        "text/html": [
                            "<div>\n",
                            "<style scoped>\n",
                            "    .dataframe tbody tr th:only-of-type {\n",
                            "        vertical-align: middle;\n",
                            "    }\n",
                            "\n",
                            "    .dataframe tbody tr th {\n",
                            "        vertical-align: top;\n",
                            "    }\n",
                            "\n",
                            "    .dataframe thead tr th {\n",
                            "        text-align: left;\n",
                            "    }\n",
                            "</style>\n",
                            "<table border=\"1\" class=\"dataframe\">\n",
                            "  <thead>\n",
                            "    <tr>\n",
                            "      <th></th>\n",
                            "      <th>id_cenario</th>\n",
                            "      <th colspan=\"8\" halign=\"left\">distancia_destino</th>\n",
                            "    </tr>\n",
                            "    <tr>\n",
                            "      <th></th>\n",
                            "      <th></th>\n",
                            "      <th>count</th>\n",
                            "      <th>mean</th>\n",
                            "      <th>std</th>\n",
                            "      <th>min</th>\n",
                            "      <th>25%</th>\n",
                            "      <th>50%</th>\n",
                            "      <th>75%</th>\n",
                            "      <th>max</th>\n",
                            "    </tr>\n",
                            "  </thead>\n",
                            "  <tbody>\n",
                            "    <tr>\n",
                            "      <th>0</th>\n",
                            "      <td>lda_NERDS_VIAJANTES_WIKIPEDIA_numtopics-100</td>\n",
                            "      <td>378.0</td>\n",
                            "      <td>0.44836</td>\n",
                            "      <td>0.132413</td>\n",
                            "      <td>0.06444</td>\n",
                            "      <td>0.34358</td>\n",
                            "      <td>0.463742</td>\n",
                            "      <td>0.560945</td>\n",
                            "      <td>0.768947</td>\n",
                            "    </tr>\n",
                            "  </tbody>\n",
                            "</table>\n",
                            "</div>"
                        ]
                    },
                    "metadata": {},
                    "execution_count": 20
                }
            ],
            "metadata": {}
        },
        {
            "cell_type": "markdown",
            "source": [
                "## Semelhanças para um determinado documento de origem"
            ],
            "metadata": {}
        },
        {
            "cell_type": "code",
            "execution_count": null,
            "source": [
                "fonte_origem = 'NERDS'"
            ],
            "outputs": [],
            "metadata": {}
        }
    ],
    "metadata": {
        "orig_nbformat": 4,
        "language_info": {
            "name": "python"
        }
    },
    "nbformat": 4,
    "nbformat_minor": 2
}