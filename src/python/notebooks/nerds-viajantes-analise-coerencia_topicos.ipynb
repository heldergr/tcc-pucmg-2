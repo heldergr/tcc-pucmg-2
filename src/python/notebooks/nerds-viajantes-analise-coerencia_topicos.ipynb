{
    "cells": [
        {
            "cell_type": "code",
            "execution_count": 1,
            "source": [
                "%reload_ext autoreload\n",
                "%autoreload 2"
            ],
            "outputs": [],
            "metadata": {}
        },
        {
            "cell_type": "code",
            "execution_count": 2,
            "source": [
                "from fonte_dados.fabrica import FabricaFonteDados\n",
                "from treinamento.coerencia import CalculadorCoerencia\n",
                "from util import constants\n",
                "\n",
                "fabrica = FabricaFonteDados()"
            ],
            "outputs": [],
            "metadata": {}
        },
        {
            "cell_type": "markdown",
            "source": [
                "# Análise de coerência de quantidade de tópicos"
            ],
            "metadata": {}
        },
        {
            "cell_type": "code",
            "execution_count": 3,
            "source": [
                "fonte_dados_origem = fabrica.get_fonte_dados(constants.NERDS_VIAJANTES)\n",
                "fonte_dados_origem.carregar_dados()"
            ],
            "outputs": [],
            "metadata": {}
        },
        {
            "cell_type": "code",
            "execution_count": 7,
            "source": [
                "topicos_from = 5\n",
                "topicos_to = 120"
            ],
            "outputs": [],
            "metadata": {}
        },
        {
            "cell_type": "code",
            "execution_count": null,
            "source": [
                "calculador_coerencia = CalculadorCoerencia(fonte_dados_origem)\n",
                "coerencias = calculador_coerencia.calcular_coerencias(topicos_from, topicos_to, debug=True)\n",
                "coerencias.to_csv(f'/home/helder/estudos/tcc-pucmg-2/src/python/notebooks/treinamento/coerencias_{topicos_from}-to-{topicos_to}.csv')"
            ],
            "outputs": [],
            "metadata": {}
        }
    ],
    "metadata": {
        "orig_nbformat": 4,
        "language_info": {
            "name": "python"
        }
    },
    "nbformat": 4,
    "nbformat_minor": 2
}