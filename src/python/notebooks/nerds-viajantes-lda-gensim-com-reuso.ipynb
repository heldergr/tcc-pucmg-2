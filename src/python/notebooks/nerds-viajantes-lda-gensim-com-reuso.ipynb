{
 "cells": [
  {
   "cell_type": "code",
   "execution_count": null,
   "source": [
    "%reload_ext autoreload\n",
    "%autoreload 2"
   ],
   "outputs": [],
   "metadata": {}
  },
  {
   "cell_type": "code",
   "execution_count": null,
   "source": [
    "from main import executor\n",
    "from fonte_dados.fabrica import FabricaFonteDados\n",
    "from similarity.similarity import SimilarityCalculator\n",
    "from treinamento import treinamento_lda\n",
    "from treinamento.treinamento_lda import TreinamentoLda\n",
    "from util import constants\n",
    "\n",
    "import numpy as np\n",
    "import pandas as pd\n",
    "import time"
   ],
   "outputs": [],
   "metadata": {}
  },
  {
   "cell_type": "code",
   "execution_count": null,
   "source": [
    "fabrica = FabricaFonteDados()"
   ],
   "outputs": [],
   "metadata": {}
  },
  {
   "cell_type": "code",
   "execution_count": null,
   "source": [
    "origem = constants.NERDS_VIAJANTES\n",
    "destino = constants.WIKIPEDIA"
   ],
   "outputs": [],
   "metadata": {}
  },
  {
   "cell_type": "markdown",
   "source": [
    "## Executar treinamento com código reusável"
   ],
   "metadata": {}
  },
  {
   "cell_type": "code",
   "execution_count": null,
   "source": [
    "resultado_df = executor.executar_treinamento(fonte_origem=origem, fonte_destino=destino, num_topics=100)"
   ],
   "outputs": [],
   "metadata": {}
  },
  {
   "cell_type": "markdown",
   "source": [
    "## Trabalho com base de treinamento"
   ],
   "metadata": {}
  },
  {
   "cell_type": "code",
   "execution_count": null,
   "source": [
    "fonte_dados_origem = fabrica.get_fonte_dados(origem)\n",
    "fonte_dados_origem.carregar_dados()\n",
    "documentos_origem = fonte_dados_origem.get_tokens()"
   ],
   "outputs": [],
   "metadata": {}
  },
  {
   "cell_type": "code",
   "execution_count": null,
   "source": [
    "fonte_dados_origem.get_dataframe().head()"
   ],
   "outputs": [],
   "metadata": {}
  },
  {
   "cell_type": "markdown",
   "source": [
    "### Ajuste de modelo para posts de base de treinamento (origem)"
   ],
   "metadata": {}
  },
  {
   "cell_type": "code",
   "execution_count": null,
   "source": [
    "# Ajusta modelo LDA para os documentos de origem. O resultado gerado contem o dicionario, o corpus de dados e o modelo gerado\n",
    "treinamento_lda = TreinamentoLda(num_topics=100, passes=2)\n",
    "resultado_lda = treinamento_lda.ajustar_modelo(documentos_origem)"
   ],
   "outputs": [],
   "metadata": {}
  },
  {
   "cell_type": "code",
   "execution_count": null,
   "source": [
    "resultado_lda"
   ],
   "outputs": [],
   "metadata": {}
  },
  {
   "cell_type": "markdown",
   "source": [
    "### Definicao de probabilidades de topicos para documentos de origem"
   ],
   "metadata": {}
  },
  {
   "cell_type": "code",
   "execution_count": null,
   "source": [
    "probabilidades_topicos_origem = [treinamento_lda.calcular_probabilidades_documento(dnv, resultado_lda) for dnv in documentos_origem]\n",
    "np.array(probabilidades_topicos_origem).shape"
   ],
   "outputs": [],
   "metadata": {}
  },
  {
   "cell_type": "markdown",
   "source": [
    "### Teste com classe"
   ],
   "metadata": {}
  },
  {
   "cell_type": "markdown",
   "source": [
    "## Trabalho com base de comparação (destino)"
   ],
   "metadata": {}
  },
  {
   "cell_type": "code",
   "execution_count": null,
   "source": [
    "fonte_dados_destino = fabrica.get_fonte_dados(destino)\n",
    "fonte_dados_destino.carregar_dados()\n",
    "documentos_destino = fonte_dados_destino.get_tokens()"
   ],
   "outputs": [],
   "metadata": {}
  },
  {
   "cell_type": "code",
   "execution_count": null,
   "source": [
    "fonte_dados_destino.get_dataframe().head()"
   ],
   "outputs": [],
   "metadata": {}
  },
  {
   "cell_type": "markdown",
   "source": [
    "### Definicao de topicos para documentos de destino\n",
    "\n",
    "- Quantidade de documentos: 2252\n",
    "- Indice do maior documento: 123\n",
    "- Tamanho do maior documento: 10018 tokens\n",
    "- Tempo gasto para definir tópicos de maior documento: 0.02167201042175293 segundos\n",
    "- Tempo estimado para todos os documentos (com base no tempo do maior): 18.83 segundos\n",
    "    * Na verdade este valor variou muito, não é fixo, mas a maioria das vezes ficou em torno de 20 segundos"
   ],
   "metadata": {}
  },
  {
   "cell_type": "code",
   "execution_count": null,
   "source": [
    "# TODO: Remover\n",
    "def avaliar_tempos_definicao_topicos_wikipedia():\n",
    "    print(f'Quantidade de documentos: {len(documentos_wikipedia)}')\n",
    "\n",
    "    tamanhos = [len(d) for d in documentos_wikipedia]\n",
    "    indice_maior_documento = np.argmax(tamanhos)\n",
    "    print(f'Indice do maior documento: {indice_maior_documento}')\n",
    "    print(f'Tamanho do maior documento: {tamanhos[indice_maior_documento]} tokens')\n",
    "\n",
    "    maior_documento = documentos_wikipedia[indice_maior_documento]\n",
    "    start_time = time.time()\n",
    "    treinamento_lda.calcular_probabilidades_documento(maior_documento, lda_nerds_viajantes)\n",
    "    tempo_gasto_maior_documento = time.time() - start_time\n",
    "    print(f\"Tempo gasto na definicao dos topicos do maior documento: {tempo_gasto_maior_documento:.2f} segundos\")\n",
    "    print(f'Tempo estimado para todos documentos: {len(documentos_wikipedia) * tempo_gasto_maior_documento:.2f} segundos')\n",
    "\n",
    "# avaliar_tempos_definicao_topicos_wikipedia()"
   ],
   "outputs": [],
   "metadata": {}
  },
  {
   "cell_type": "markdown",
   "source": [
    "### Calculo de probabilidade de topicos para documentos de destino"
   ],
   "metadata": {}
  },
  {
   "cell_type": "code",
   "execution_count": null,
   "source": [
    "start_time = time.time()\n",
    "probabilidades_topicos_destino = [\n",
    "    treinamento_lda.calcular_probabilidades_documento(dw, resultado_lda) for dw in documentos_destino]\n",
    "elapsed_time = time.time() - start_time\n",
    "print(f'Tempo total gasto na definicao dos topicos: {elapsed_time:.2f} segundos')"
   ],
   "outputs": [],
   "metadata": {}
  },
  {
   "cell_type": "markdown",
   "source": [
    "## Calculo de semelhanca entre documentos de treinamento e comparação"
   ],
   "metadata": {}
  },
  {
   "cell_type": "code",
   "execution_count": null,
   "source": [
    "print(f'Quantidade de documentos de origem: {len(probabilidades_topicos_origem)}')\n",
    "print(f'Tamanho do array de probabilidades de documentos de origem: {len(probabilidades_topicos_origem[0])}')\n",
    "print(f'Quantidade de documentos de destino: {len(probabilidades_topicos_destino)}')\n",
    "print(f'Tamanho do array de probabilidades de documentos de destino: {len(probabilidades_topicos_destino[0])}')"
   ],
   "outputs": [],
   "metadata": {}
  },
  {
   "cell_type": "markdown",
   "source": [
    "### Problema encontrado\n",
    "\n",
    "Ao calcular as probabilidades que determinados documentos estejam em determinados tópicos vimos que poucos tópicos determinam um documento, independente de usarmos 13 ou 100 tópicos no modelo. Para calcular a matrix esparsa das similaridades eu acabei tendo que preencher um array com 0 em quase todas as posições para que não desse erro.\n",
    "Devemos estudar para ver se o modelo LDA é realmente a melhor abordagem neste caso ou se não temos muitos poucos documentos.\n",
    "\n",
    "Sem preencher com 0's os tópicos que não contribuiam para cada documento o que acontecia era que cada array de probabilidade por tópico de um documento tinha um tamanho diferente, o que dava erro ao criar a matrix esparsa, que espera que todos tenham a mesma quantidade de colunas, que no caso é a quantidade de tópicos.\n",
    "\n",
    "UPDATE: Este documento não mais representa um problema pois ao usar o método calcular_probabilidades_documento este já retorno exatamente a quantidade de tópicos utilizada no treinamento."
   ],
   "metadata": {}
  },
  {
   "cell_type": "code",
   "execution_count": null,
   "source": [
    "similarity_calculator = SimilarityCalculator(probabilidades_topicos_destino)"
   ],
   "outputs": [],
   "metadata": {}
  },
  {
   "cell_type": "markdown",
   "source": [
    "### Calcula as documentos de comparação mais parecidos com os documentos de treinamento"
   ],
   "metadata": {}
  },
  {
   "cell_type": "code",
   "execution_count": null,
   "source": [
    "destinos_mais_parecidos = [similarity_calculator.get_most_similar_documents(pto) for pto in probabilidades_topicos_origem]\n",
    "destino_mais_parecido = [dmp[0] for dmp in destinos_mais_parecidos]"
   ],
   "outputs": [],
   "metadata": {}
  },
  {
   "cell_type": "code",
   "execution_count": null,
   "source": [
    "print(destinos_mais_parecidos[:5])\n",
    "print(destino_mais_parecido[:5])"
   ],
   "outputs": [],
   "metadata": {}
  },
  {
   "cell_type": "markdown",
   "source": [
    "## Montagem de resultado"
   ],
   "metadata": {}
  },
  {
   "cell_type": "code",
   "execution_count": null,
   "source": [
    "destino_df = fonte_dados_destino.get_dataframe()\n",
    "\n",
    "titulos_destino = destino_df['titulo'].values\n",
    "titulos_mais_parecidos = [titulos_destino[dmp] for dmp in destino_mais_parecido]\n",
    "\n",
    "ids_documentos_destino = destino_df['id_documento'].values\n",
    "ids_documentos_mais_parecidos = [ids_documentos_destino[dmp] for dmp in destino_mais_parecido]\n",
    "\n",
    "print(titulos_mais_parecidos[:10])\n",
    "print(len(titulos_mais_parecidos))\n",
    "\n",
    "print(ids_documentos_mais_parecidos[:10])\n",
    "print(len(ids_documentos_mais_parecidos))"
   ],
   "outputs": [],
   "metadata": {}
  },
  {
   "cell_type": "code",
   "execution_count": null,
   "source": [
    "resultado_df = pd.DataFrame(data = {\n",
    "    'id_documento_origem': fonte_dados_origem.get_dataframe()['id_documento'].values,\n",
    "    'titulo_documento_origem': fonte_dados_origem.get_dataframe()['titulo'].values,\n",
    "    'id_documento_destino': ids_documentos_mais_parecidos,\n",
    "    'titulo_documento_destino': titulos_mais_parecidos\n",
    "})\n",
    "resultado_df.head()"
   ],
   "outputs": [],
   "metadata": {}
  },
  {
   "cell_type": "markdown",
   "source": [
    "## Análise específica - Nervs Viajantes versus Wikipedia"
   ],
   "metadata": {}
  },
  {
   "cell_type": "markdown",
   "source": [
    "### Uma análise de post específico (bariloche-cerro-tronador-e-cascada-los-alerces)\n",
    "\n",
    "Post escolhido do Nerds viajantes para analisar:\n",
    "\n",
    "- id: 1356\n",
    "- indice no array: 49\n",
    "- name: bariloche-cerro-tronador-e-cascada-los-alerces"
   ],
   "metadata": {}
  },
  {
   "cell_type": "code",
   "execution_count": null,
   "source": [
    "indice_post_nv = 49\n",
    "posts.iloc[49][['name', 'title']]"
   ],
   "outputs": [],
   "metadata": {}
  },
  {
   "cell_type": "code",
   "execution_count": null,
   "source": [
    "bow_49 = lda_nerds_viajantes.corpus[49]\n",
    "topics = lda_nerds_viajantes.modelo_lda.get_document_topics(bow_49)\n",
    "\n",
    "\"\"\"\n",
    "Topicos identificados para documento 49: \n",
    "[(6, 0.23247316), (91, 0.7655891)]\n",
    "\"\"\"\n",
    "# topics\n",
    "\n",
    "# Visualizando topico 91, que contribui em 77%\n",
    "lda_nerds_viajantes.modelo_lda.show_topic(topicid=91, topn=20)"
   ],
   "outputs": [],
   "metadata": {}
  },
  {
   "cell_type": "code",
   "execution_count": null,
   "source": [
    "from collections import Counter\n",
    "print(f'Tamanho do documento 49: {len(documentos[49])}')\n",
    "print(Counter(documentos[49]))"
   ],
   "outputs": [],
   "metadata": {}
  },
  {
   "cell_type": "code",
   "execution_count": null,
   "source": [
    "paginas_wikipedia_mais_parecidas = wikipedia_mais_parecidos[indice_post_nv]\n",
    "print(f'Wikipedia mais parecido: {pages_df.iloc[paginas_wikipedia_mais_parecidas, [1, 2]]}')"
   ],
   "outputs": [],
   "metadata": {}
  },
  {
   "cell_type": "code",
   "execution_count": null,
   "source": [
    "print(f'Tamanho do documento Rio Awetere (1119): {len(documentos_wikipedia[1119])}')\n",
    "corpus_rio_awetere = lda_nerds_viajantes.dicionario.doc2bow(documentos_wikipedia[1119])\n",
    "topics = lda_nerds_viajantes.modelo_lda.get_document_topics(corpus_rio_awetere)\n",
    "\"\"\"\n",
    "Topicos que mais contribuem para documento 1119:\n",
    "Veja que o 91 eh o que mais contribui, dai a semelhanca com o post da cascada los alerces\n",
    "[(6, 0.21784398), (53, 0.03848416), (87, 0.09624962), (91, 0.61537075)]\n",
    "\"\"\"\n",
    "print(topics)"
   ],
   "outputs": [],
   "metadata": {}
  },
  {
   "cell_type": "markdown",
   "source": [
    "### Trabalho futuro\n",
    "\n",
    "- Considerar remocao de palavras que estao contribuindo muito para formacao de determinados topicos e poderiam ser inuteis.\n",
    "    * A palavra \"dia\", por exemplo, está aparecendo muito e parece pouco contribuir para a semelhança entre os documentos\n",
    "- Considerar a possibilidade de traduzir algumas palavras que aparecem muito, como cascada, por exemplo"
   ],
   "metadata": {}
  },
  {
   "cell_type": "markdown",
   "source": [
    "**Comentários sobre o resultado e trabalho futuro**\n",
    "\n",
    "- Todos os posts que vem como os mais parecidos são relacionados a rios\n",
    "- Os rios dos resultados são distribuídos entre os países Estados Unidos e Nova Zelândia mas curiosamente não Argentina\n",
    "    * Provavelmente eu não baixei os posts de rios da Argentina\n",
    "\n",
    "**Trabalho futuro**\n",
    "\n",
    "- Analisar qual tópico mais aparece para este post\n",
    "    * Analisar também do mais parecido na wikipedia\n",
    "- Analisar palavras que mais contribuem para os tópicos em questão"
   ],
   "metadata": {}
  },
  {
   "cell_type": "markdown",
   "source": [
    "### Análise com post específico\n",
    "\n",
    "- circuito-w-las-torres-del-paine\n",
    "    * id: 8218, indice: 256\n",
    "- el-chalten-trilha-para-laguna-torre\n",
    "    * id: 9829, indice: 290"
   ],
   "metadata": {}
  },
  {
   "cell_type": "code",
   "execution_count": null,
   "source": [
    "posts.reset_index(inplace=True)\n",
    "posts[posts['name'].str.contains('torre')]"
   ],
   "outputs": [],
   "metadata": {}
  },
  {
   "cell_type": "code",
   "execution_count": null,
   "source": [
    "indice_post_nv = 257\n",
    "posts.iloc[indice_post_nv][['name', 'title']]"
   ],
   "outputs": [],
   "metadata": {}
  },
  {
   "cell_type": "code",
   "execution_count": null,
   "source": [
    "paginas_wikipedia_mais_parecidas = wikipedia_mais_parecidos[indice_post_nv]\n",
    "print(f'Wikipedia mais parecido: {pages_df.iloc[paginas_wikipedia_mais_parecidas, [1, 2]]}')"
   ],
   "outputs": [],
   "metadata": {}
  },
  {
   "cell_type": "markdown",
   "source": [
    "### Análise de tópicos"
   ],
   "metadata": {}
  },
  {
   "cell_type": "code",
   "execution_count": null,
   "source": [
    "documento = documentos.values[indice_post_nv]\n",
    "bow = [lda_nerds_viajantes.dicionario.doc2bow(documento)]"
   ],
   "outputs": [],
   "metadata": {}
  },
  {
   "cell_type": "code",
   "execution_count": null,
   "source": [
    "topics = lda_nerds_viajantes.modelo_lda.get_document_topics(bow)"
   ],
   "outputs": [],
   "metadata": {}
  },
  {
   "cell_type": "code",
   "execution_count": null,
   "source": [
    "\"\"\"\n",
    "Resultado: Ha praticamente 100% de chance de o documento ser definido pelo topico 20\n",
    "\"\"\"\n",
    "for topic in topics:\n",
    "    print(topic)"
   ],
   "outputs": [],
   "metadata": {}
  },
  {
   "cell_type": "code",
   "execution_count": null,
   "source": [
    "lda_nerds_viajantes.modelo_lda.print_topic(20)"
   ],
   "outputs": [],
   "metadata": {}
  }
 ],
 "metadata": {
  "interpreter": {
   "hash": "e40f5302c6d4b9de2141353283620edefcabae1dbe23ed7117377b1c1ce32e40"
  },
  "kernelspec": {
   "display_name": "Python 3.8.10 64-bit ('tcc-venv': venv)",
   "name": "python3"
  },
  "language_info": {
   "name": "python",
   "version": ""
  },
  "orig_nbformat": 2
 },
 "nbformat": 4,
 "nbformat_minor": 2
}