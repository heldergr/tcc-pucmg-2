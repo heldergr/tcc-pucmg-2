{
    "cells": [
        {
            "cell_type": "code",
            "execution_count": 1,
            "source": [
                "from fonte_dados.fabrica import FabricaFonteDados\n",
                "from util import constants\n",
                "\n",
                "from collections import Counter"
            ],
            "outputs": [],
            "metadata": {}
        },
        {
            "cell_type": "code",
            "execution_count": 2,
            "source": [
                "fabrica = FabricaFonteDados()\n",
                "fonte_de_dados = fabrica.get_fonte_dados(constants.NERDS_VIAJANTES)"
            ],
            "outputs": [],
            "metadata": {}
        },
        {
            "cell_type": "code",
            "execution_count": null,
            "source": [
                "fonte_de_dados.carregar_dados()"
            ],
            "outputs": [],
            "metadata": {}
        },
        {
            "cell_type": "code",
            "execution_count": 6,
            "source": [
                "todas_palavras = [palavra for palavras_documento in fonte_de_dados.get_tokens() for palavra in palavras_documento]\n",
                "Counter(todas_palavras).most_common(50)"
            ],
            "outputs": [
                {
                    "output_type": "execute_result",
                    "data": {
                        "text/plain": [
                            "[('passei', 560),\n",
                            " ('parqu', 557),\n",
                            " ('cidad', 534),\n",
                            " ('temp', 484),\n",
                            " ('pouc', 422),\n",
                            " ('lag', 364),\n",
                            " ('jalap', 361),\n",
                            " ('águ', 353),\n",
                            " ('aind', 350),\n",
                            " ('bonit', 348),\n",
                            " ('vist', 338),\n",
                            " ('bel', 322),\n",
                            " ('pra', 297),\n",
                            " ('lug', 297),\n",
                            " ('fiz', 296),\n",
                            " ('áre', 276),\n",
                            " ('expos', 273),\n",
                            " ('lad', 268),\n",
                            " ('cacho', 253),\n",
                            " ('pais', 246),\n",
                            " ('qu', 245),\n",
                            " ('grand', 242),\n",
                            " ('glaci', 232),\n",
                            " ('próx', 228),\n",
                            " ('alt', 223),\n",
                            " ('não', 219),\n",
                            " ('depois', 213),\n",
                            " ('são', 210),\n",
                            " ('pesso', 206),\n",
                            " ('barc', 206),\n",
                            " ('bom', 206),\n",
                            " ('uma', 198),\n",
                            " ('nest', 198),\n",
                            " ('boa', 198),\n",
                            " ('cen', 196),\n",
                            " ('gent', 196),\n",
                            " ('mas', 195),\n",
                            " ('dentr', 189),\n",
                            " ('pert', 186),\n",
                            " ('montanh', 186),\n",
                            " ('mei', 185),\n",
                            " ('princip', 181),\n",
                            " ('sempr', 180),\n",
                            " ('opç', 179),\n",
                            " ('porqu', 177),\n",
                            " ('long', 173),\n",
                            " ('ônibu', 171),\n",
                            " ('prai', 169),\n",
                            " ('igrej', 167),\n",
                            " ('poi', 167)]"
                        ]
                    },
                    "metadata": {},
                    "execution_count": 6
                }
            ],
            "metadata": {}
        }
    ],
    "metadata": {
        "orig_nbformat": 4,
        "language_info": {
            "name": "python"
        }
    },
    "nbformat": 4,
    "nbformat_minor": 2
}