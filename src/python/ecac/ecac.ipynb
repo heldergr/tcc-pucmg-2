{
 "cells": [
  {
   "cell_type": "code",
   "execution_count": 40,
   "metadata": {},
   "outputs": [],
   "source": [
    "import pandas as pd"
   ]
  },
  {
   "cell_type": "code",
   "execution_count": 41,
   "metadata": {},
   "outputs": [],
   "source": [
    "from pymongo import MongoClient\n",
    "\n",
    "client = MongoClient()\n",
    "db = client.ecac\n",
    "logs_ecac = db.logs_ecac"
   ]
  },
  {
   "cell_type": "code",
   "execution_count": 42,
   "metadata": {},
   "outputs": [],
   "source": [
    "path = '/home/helder/estudos/tcc-pucmg-2/src/python/ecac/CAVFiltro-20210628.txt'\n",
    "cols = ['DATAHORA', 'IP', 'TIPO', 'TIPONI', 'NI', 'EMISSOR', 'IDUSUARIO', 'TIPONIPAPEL', 'NIPAPEL', 'PAPELATUAL', \n",
    "    'ULTIMOSERVICO', 'CODERRO', 'URL', 'IDSESSAO', 'DRF_REPRESENTADO', 'DRF_REPRESENTANTE', 'SISTEMA']\n",
    "df = pd.read_csv(path, delimiter='\\t', header=None)\n",
    "df.columns = cols"
   ]
  },
  {
   "cell_type": "code",
   "execution_count": 43,
   "metadata": {},
   "outputs": [],
   "source": [
    "dicts = df.T.to_dict().values()\n",
    "log_list = [d for d in dicts]"
   ]
  },
  {
   "cell_type": "code",
   "execution_count": 44,
   "metadata": {},
   "outputs": [
    {
     "data": {
      "text/plain": [
       "<pymongo.results.InsertManyResult at 0x7fad656d8b00>"
      ]
     },
     "execution_count": 44,
     "metadata": {},
     "output_type": "execute_result"
    }
   ],
   "source": [
    "logs_ecac.insert_many(log_list)"
   ]
  },
  {
   "cell_type": "code",
   "execution_count": 49,
   "metadata": {},
   "outputs": [
    {
     "data": {
      "text/html": [
       "<div>\n",
       "<style scoped>\n",
       "    .dataframe tbody tr th:only-of-type {\n",
       "        vertical-align: middle;\n",
       "    }\n",
       "\n",
       "    .dataframe tbody tr th {\n",
       "        vertical-align: top;\n",
       "    }\n",
       "\n",
       "    .dataframe thead th {\n",
       "        text-align: right;\n",
       "    }\n",
       "</style>\n",
       "<table border=\"1\" class=\"dataframe\">\n",
       "  <thead>\n",
       "    <tr style=\"text-align: right;\">\n",
       "      <th></th>\n",
       "      <th>DATAHORA</th>\n",
       "      <th>IP</th>\n",
       "      <th>TIPO</th>\n",
       "      <th>TIPONI</th>\n",
       "      <th>NI</th>\n",
       "      <th>EMISSOR</th>\n",
       "      <th>IDUSUARIO</th>\n",
       "      <th>TIPONIPAPEL</th>\n",
       "      <th>NIPAPEL</th>\n",
       "      <th>PAPELATUAL</th>\n",
       "      <th>ULTIMOSERVICO</th>\n",
       "      <th>CODERRO</th>\n",
       "      <th>URL</th>\n",
       "      <th>IDSESSAO</th>\n",
       "      <th>DRF_REPRESENTADO</th>\n",
       "      <th>DRF_REPRESENTANTE</th>\n",
       "      <th>SISTEMA</th>\n",
       "    </tr>\n",
       "  </thead>\n",
       "  <tbody>\n",
       "    <tr>\n",
       "      <th>2</th>\n",
       "      <td>20210628 08:02:25</td>\n",
       "      <td>10.43.7.107</td>\n",
       "      <td>13.0</td>\n",
       "      <td>1.0</td>\n",
       "      <td>5.136947e+09</td>\n",
       "      <td>Autoridade Certificadora  SERPRORFBv5 - Hom</td>\n",
       "      <td>20AE E98B 8844 132C CEE8 18AD</td>\n",
       "      <td>1.0</td>\n",
       "      <td>5.136947e+09</td>\n",
       "      <td>1.0</td>\n",
       "      <td>NaN</td>\n",
       "      <td>10</td>\n",
       "      <td>/eprocessocontribuinte/assets/js/jquery.min.js</td>\n",
       "      <td>1ae25dabf82c7a7e3233e2f3629f7b6b9c3b1f347c6203...</td>\n",
       "      <td>910100.0</td>\n",
       "      <td>910100.0</td>\n",
       "      <td>51.0</td>\n",
       "    </tr>\n",
       "    <tr>\n",
       "      <th>3</th>\n",
       "      <td>20210628 08:02:25</td>\n",
       "      <td>10.43.7.107</td>\n",
       "      <td>13.0</td>\n",
       "      <td>1.0</td>\n",
       "      <td>5.136947e+09</td>\n",
       "      <td>Autoridade Certificadora  SERPRORFBv5 - Hom</td>\n",
       "      <td>20AE E98B 8844 132C CEE8 18AD</td>\n",
       "      <td>1.0</td>\n",
       "      <td>5.136947e+09</td>\n",
       "      <td>1.0</td>\n",
       "      <td>NaN</td>\n",
       "      <td>10</td>\n",
       "      <td>/eprocessocontribuinte/assets/js/jquery.spin.js</td>\n",
       "      <td>1ae25dabf82c7a7e3233e2f3629f7b6b9c3b1f347c6203...</td>\n",
       "      <td>910100.0</td>\n",
       "      <td>910100.0</td>\n",
       "      <td>51.0</td>\n",
       "    </tr>\n",
       "  </tbody>\n",
       "</table>\n",
       "</div>"
      ],
      "text/plain": [
       "            DATAHORA           IP  TIPO  TIPONI            NI  \\\n",
       "2  20210628 08:02:25  10.43.7.107  13.0     1.0  5.136947e+09   \n",
       "3  20210628 08:02:25  10.43.7.107  13.0     1.0  5.136947e+09   \n",
       "\n",
       "                                       EMISSOR                      IDUSUARIO  \\\n",
       "2  Autoridade Certificadora  SERPRORFBv5 - Hom  20AE E98B 8844 132C CEE8 18AD   \n",
       "3  Autoridade Certificadora  SERPRORFBv5 - Hom  20AE E98B 8844 132C CEE8 18AD   \n",
       "\n",
       "   TIPONIPAPEL       NIPAPEL  PAPELATUAL  ULTIMOSERVICO  CODERRO  \\\n",
       "2          1.0  5.136947e+09         1.0            NaN       10   \n",
       "3          1.0  5.136947e+09         1.0            NaN       10   \n",
       "\n",
       "                                               URL  \\\n",
       "2   /eprocessocontribuinte/assets/js/jquery.min.js   \n",
       "3  /eprocessocontribuinte/assets/js/jquery.spin.js   \n",
       "\n",
       "                                            IDSESSAO  DRF_REPRESENTADO  \\\n",
       "2  1ae25dabf82c7a7e3233e2f3629f7b6b9c3b1f347c6203...          910100.0   \n",
       "3  1ae25dabf82c7a7e3233e2f3629f7b6b9c3b1f347c6203...          910100.0   \n",
       "\n",
       "   DRF_REPRESENTANTE  SISTEMA  \n",
       "2           910100.0     51.0  \n",
       "3           910100.0     51.0  "
      ]
     },
     "execution_count": 49,
     "metadata": {},
     "output_type": "execute_result"
    }
   ],
   "source": [
    "df[df['URL'].str.contains('^.*jquery.*$')]"
   ]
  },
  {
   "cell_type": "code",
   "execution_count": 51,
   "metadata": {},
   "outputs": [
    {
     "data": {
      "text/html": [
       "<div>\n",
       "<style scoped>\n",
       "    .dataframe tbody tr th:only-of-type {\n",
       "        vertical-align: middle;\n",
       "    }\n",
       "\n",
       "    .dataframe tbody tr th {\n",
       "        vertical-align: top;\n",
       "    }\n",
       "\n",
       "    .dataframe thead th {\n",
       "        text-align: right;\n",
       "    }\n",
       "</style>\n",
       "<table border=\"1\" class=\"dataframe\">\n",
       "  <thead>\n",
       "    <tr style=\"text-align: right;\">\n",
       "      <th></th>\n",
       "      <th></th>\n",
       "      <th>Total</th>\n",
       "    </tr>\n",
       "    <tr>\n",
       "      <th>IP</th>\n",
       "      <th>URL</th>\n",
       "      <th></th>\n",
       "    </tr>\n",
       "  </thead>\n",
       "  <tbody>\n",
       "    <tr>\n",
       "      <th rowspan=\"9\" valign=\"top\">10.43.7.107</th>\n",
       "      <th>/eprocessocontribuinte</th>\n",
       "      <td>1</td>\n",
       "    </tr>\n",
       "    <tr>\n",
       "      <th>/eprocessocontribuinte/</th>\n",
       "      <td>2</td>\n",
       "    </tr>\n",
       "    <tr>\n",
       "      <th>/eprocessocontribuinte/assets/js/assinador-serpro/is.min.js</th>\n",
       "      <td>1</td>\n",
       "    </tr>\n",
       "    <tr>\n",
       "      <th>/eprocessocontribuinte/assets/js/assinador-serpro/serpro-signer-client.js</th>\n",
       "      <td>1</td>\n",
       "    </tr>\n",
       "    <tr>\n",
       "      <th>/eprocessocontribuinte/assets/js/assinador-serpro/serpro-signer-promise.js</th>\n",
       "      <td>1</td>\n",
       "    </tr>\n",
       "    <tr>\n",
       "      <th>/eprocessocontribuinte/assets/js/jquery.min.js</th>\n",
       "      <td>1</td>\n",
       "    </tr>\n",
       "    <tr>\n",
       "      <th>/eprocessocontribuinte/assets/js/jquery.spin.js</th>\n",
       "      <td>1</td>\n",
       "    </tr>\n",
       "    <tr>\n",
       "      <th>/eprocessocontribuinte/inline.a501d381073d2451e4ac.bundle.js</th>\n",
       "      <td>1</td>\n",
       "    </tr>\n",
       "    <tr>\n",
       "      <th>/eprocessocontribuinte/scripts.e3c3f0d654f67cad9988.bundle.js</th>\n",
       "      <td>1</td>\n",
       "    </tr>\n",
       "  </tbody>\n",
       "</table>\n",
       "</div>"
      ],
      "text/plain": [
       "                                                                Total\n",
       "IP          URL                                                      \n",
       "10.43.7.107 /eprocessocontribuinte                                  1\n",
       "            /eprocessocontribuinte/                                 2\n",
       "            /eprocessocontribuinte/assets/js/assinador-serp...      1\n",
       "            /eprocessocontribuinte/assets/js/assinador-serp...      1\n",
       "            /eprocessocontribuinte/assets/js/assinador-serp...      1\n",
       "            /eprocessocontribuinte/assets/js/jquery.min.js          1\n",
       "            /eprocessocontribuinte/assets/js/jquery.spin.js         1\n",
       "            /eprocessocontribuinte/inline.a501d381073d2451e...      1\n",
       "            /eprocessocontribuinte/scripts.e3c3f0d654f67cad...      1"
      ]
     },
     "execution_count": 51,
     "metadata": {},
     "output_type": "execute_result"
    }
   ],
   "source": [
    "df.groupby(['IP', 'URL']).agg(Total=('DATAHORA', 'count'))"
   ]
  },
  {
   "cell_type": "code",
   "execution_count": 58,
   "metadata": {},
   "outputs": [
    {
     "data": {
      "text/plain": [
       "[{'_id': ['10.43.7.107', '/eprocessocontribuinte/'], 'Total': 2},\n",
       " {'_id': ['10.43.7.107',\n",
       "   '/eprocessocontribuinte/assets/js/assinador-serpro/is.min.js'],\n",
       "  'Total': 1},\n",
       " {'_id': ['10.43.7.107',\n",
       "   '/eprocessocontribuinte/assets/js/assinador-serpro/serpro-signer-client.js'],\n",
       "  'Total': 1},\n",
       " {'_id': ['10.43.7.107',\n",
       "   '/eprocessocontribuinte/inline.a501d381073d2451e4ac.bundle.js'],\n",
       "  'Total': 1},\n",
       " {'_id': ['10.43.7.107',\n",
       "   '/eprocessocontribuinte/scripts.e3c3f0d654f67cad9988.bundle.js'],\n",
       "  'Total': 1},\n",
       " {'_id': ['10.43.7.107', '/eprocessocontribuinte/assets/js/jquery.spin.js'],\n",
       "  'Total': 1},\n",
       " {'_id': ['10.43.7.107',\n",
       "   '/eprocessocontribuinte/assets/js/assinador-serpro/serpro-signer-promise.js'],\n",
       "  'Total': 1},\n",
       " {'_id': ['10.43.7.107', '/eprocessocontribuinte'], 'Total': 1},\n",
       " {'_id': ['10.43.7.107', '/eprocessocontribuinte/assets/js/jquery.min.js'],\n",
       "  'Total': 1}]"
      ]
     },
     "execution_count": 58,
     "metadata": {},
     "output_type": "execute_result"
    }
   ],
   "source": [
    "list(logs_ecac.aggregate( \n",
    "    [ \n",
    "        { '$match': { 'IP': '10.43.7.107'} },\n",
    "        { '$group': { '_id': ['$IP', '$URL'], 'Total': { '$sum': 1 } } },\n",
    "        { '$sort': { 'Total': -1 } }\n",
    "    ] \n",
    "))"
   ]
  }
 ],
 "metadata": {
  "interpreter": {
   "hash": "e40f5302c6d4b9de2141353283620edefcabae1dbe23ed7117377b1c1ce32e40"
  },
  "kernelspec": {
   "display_name": "Python 3.8.10 64-bit ('tcc-venv': venv)",
   "name": "python3"
  },
  "language_info": {
   "codemirror_mode": {
    "name": "ipython",
    "version": 3
   },
   "file_extension": ".py",
   "mimetype": "text/x-python",
   "name": "python",
   "nbconvert_exporter": "python",
   "pygments_lexer": "ipython3",
   "version": "3.8.10"
  },
  "orig_nbformat": 4
 },
 "nbformat": 4,
 "nbformat_minor": 2
}