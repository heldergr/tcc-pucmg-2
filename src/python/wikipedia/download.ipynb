{
 "metadata": {
  "language_info": {
   "codemirror_mode": {
    "name": "ipython",
    "version": 3
   },
   "file_extension": ".py",
   "mimetype": "text/x-python",
   "name": "python",
   "nbconvert_exporter": "python",
   "pygments_lexer": "ipython3",
   "version": "3.8.10"
  },
  "orig_nbformat": 2,
  "kernelspec": {
   "name": "python3",
   "display_name": "Python 3",
   "language": "python"
  }
 },
 "nbformat": 4,
 "nbformat_minor": 2,
 "cells": [
  {
   "source": [
    "# Wikipedia"
   ],
   "cell_type": "markdown",
   "metadata": {}
  },
  {
   "cell_type": "code",
   "execution_count": 1,
   "metadata": {},
   "outputs": [],
   "source": [
    "from urllib.parse import urlencode\n",
    "import requests\n",
    "from pymongo import MongoClient\n",
    "import time\n",
    "import pandas as pd"
   ]
  },
  {
   "source": [
    "## MongoDB Setup"
   ],
   "cell_type": "markdown",
   "metadata": {}
  },
  {
   "cell_type": "code",
   "execution_count": 2,
   "metadata": {},
   "outputs": [],
   "source": [
    "# Creates client with default server and port\n",
    "client = MongoClient()\n",
    "\n",
    "# Get database \"wikipedia\"\n",
    "db = client.wikipedia\n",
    "\n",
    "# Get references to *pages* and *categories* collections\n",
    "mongo_pages = db.pages\n",
    "mongo_categories = db.categories"
   ]
  },
  {
   "source": [
    "## Download categories and pages from Wikipedia"
   ],
   "cell_type": "markdown",
   "metadata": {}
  },
  {
   "cell_type": "code",
   "execution_count": 3,
   "metadata": {},
   "outputs": [],
   "source": [
    "# https://pt.wikipedia.org/w/api.php?action=query&format=json&list=categorymembers&cmtitle=Category%3AArgentina&cmlimit=200\n",
    "url_base = 'https://pt.wikipedia.org/w/api.php'\n",
    "f = { \n",
    "    'action': 'query',\n",
    "    'format': 'json',\n",
    "    'list': 'categorymembers',\n",
    "     'cmlimit': '200',\n",
    "     'cmprop': 'ids|title|type'\n",
    "}\n",
    "def parameters_category_members(cmtitle = None, cmpageid = -1):\n",
    "    fc = f.copy()\n",
    "    if cmpageid != -1:\n",
    "        fc['cmpageid'] = cmpageid\n",
    "    else:\n",
    "        fc['cmtitle'] = cmtitle\n",
    "    return fc\n",
    "\n",
    "def get_url(parameters):\n",
    "    return f'{url_base}{parameters}'\n",
    "\n",
    "def get_url_category(cmtitle):\n",
    "    parameters_argentina = parameters_category_members('Category:Argentina')\n",
    "    return get_url(urlencode(parameters_argentina))\n",
    "\n",
    "def get_category(cmtitle = None, cmpageid = -1):\n",
    "    params_category = parameters_category_members(cmtitle, cmpageid)\n",
    "    category_r = requests.get(url_base, params=params_category)\n",
    "    category_content = []\n",
    "    if category_r.status_code == 200:\n",
    "        category_content = category_r.json()\n",
    "    return category_content\n",
    "\n",
    "def get_category_members(cmtitle = None, cmpageid = -1):\n",
    "    return get_category(cmtitle=cmtitle, cmpageid=cmpageid)['query']['categorymembers']"
   ]
  },
  {
   "source": [
    "## Insert and retrieve data from MongoDB\n",
    "\n",
    "- Categories status\n",
    "    * Check: waiting for someone to check if it has to be downloaded\n",
    "    * Waiting: waiting for dowload\n",
    "    * Skeep: skeep download of this category\n",
    "    * Done: downloaded\n",
    "- Pages status\n",
    "    * Waiting: waiting for download"
   ],
   "cell_type": "markdown",
   "metadata": {}
  },
  {
   "cell_type": "code",
   "execution_count": 4,
   "metadata": {},
   "outputs": [],
   "source": [
    "def get_categories_for_download():\n",
    "    waiting_criteria = { 'download': 'Waiting' }\n",
    "    return list(mongo_categories.find(waiting_criteria))\n",
    "\n",
    "def add_categories_for_check(categories_for_check):\n",
    "    add_categories_for_status(categories_for_check, 'Check')\n",
    "\n",
    "def add_category_for_download(pageid):\n",
    "    mongo_categories.update_one(\n",
    "        { \"pageid\": pageid },\n",
    "        { \"$set\": { 'download': 'Waiting' } }\n",
    "    )\n",
    "\n",
    "def set_category_done(pageid):\n",
    "    mongo_categories.update_one(\n",
    "        { \"pageid\": pageid },\n",
    "        { \"$set\": { 'download': 'Done' } }\n",
    "    )\n",
    "\n",
    "def set_category_skeep(pageid):\n",
    "    set_category_status(pageid, category_status='Skeep')\n",
    "\n",
    "def set_category_status(pageid, category_status):\n",
    "    mongo_categories.update_one(\n",
    "        { \"pageid\": pageid },\n",
    "        { \"$set\": { 'download': category_status } }\n",
    "    )\n",
    "\n",
    "def add_categories_for_status(categories_for_status, status):\n",
    "    if len(categories_for_status) > 0:\n",
    "        for category_for_status in categories_for_status:\n",
    "            category_for_status['download'] = status\n",
    "        mongo_categories.insert_many(categories_for_status)\n",
    "    \n",
    "def category_exists(cmpageid):\n",
    "    return mongo_categories.count_documents({'pageid': cmpageid}) > 0"
   ]
  },
  {
   "source": [
    "## Algorithm"
   ],
   "cell_type": "markdown",
   "metadata": {}
  },
  {
   "cell_type": "code",
   "execution_count": 10,
   "metadata": {},
   "outputs": [],
   "source": [
    "def insert_pages(pages, cmpageid, cmtitle):\n",
    "    if len(pages) > 0:\n",
    "        for page in pages:\n",
    "            page['category_id'] = cmpageid\n",
    "            page['category_title'] = cmtitle\n",
    "            page['download'] = 'Waiting'\n",
    "        mongo_pages.insert_many(pages)\n",
    "\n",
    "def download_subcategories(subcategories):\n",
    "    if len(subcategories) > 0:\n",
    "        for subcategory in subcategories:\n",
    "            download_category_tree(subcategory)\n",
    "\n",
    "def download_category_tree(category, country):\n",
    "    # Sleep for 1 second before starting download one category tree\n",
    "    time.sleep(1)\n",
    "\n",
    "    cmpageid = category['pageid']\n",
    "    cmtitle = category[\"title\"]\n",
    "    print(f'Retrieving pages for category {cmtitle} [{cmpageid}]')\n",
    "    \n",
    "    members = get_category_members(cmpageid=cmpageid)\n",
    "    pages = [m for m in members if m['type'] == 'page']\n",
    "    for p in pages:\n",
    "        p['country'] = country\n",
    "    insert_pages(pages, cmpageid, cmtitle)\n",
    "    subcats = [m for m in members if m['type'] == 'subcat']\n",
    "    for s in subcats:\n",
    "        s['parent'] = cmpageid\n",
    "        s['country'] = country\n",
    "    subcats_for_check = [s for s in subcats if not category_exists(s['pageid'])]\n",
    "    add_categories_for_check(subcats_for_check)\n",
    "    set_category_done(cmpageid)"
   ]
  },
  {
   "source": [
    "### Inicializa todas as subcategorias da principal *Argentina*"
   ],
   "cell_type": "markdown",
   "metadata": {}
  },
  {
   "cell_type": "code",
   "execution_count": 5,
   "metadata": {},
   "outputs": [],
   "source": [
    "members_categories_argentina = get_category_members(cmtitle='Category:Argentina')\n",
    "pages_argentina = [m for m in members_categories_argentina if m['type'] == 'page']\n",
    "subcategories_argentina = [m for m in members_categories_argentina if m['type'] == 'subcat']\n",
    "# add_categories_for_check(subcategories_argentina)"
   ]
  },
  {
   "source": [
    "### Inicializa todas as subcategorias da principal Chile"
   ],
   "cell_type": "markdown",
   "metadata": {}
  },
  {
   "cell_type": "code",
   "execution_count": 8,
   "metadata": {},
   "outputs": [],
   "source": [
    "members_categories_chile = get_category_members(cmtitle='Category:Chile')\n",
    "for mcc in members_categories_chile:\n",
    "    mcc['country'] = 'Chile'\n",
    "subcategories_chile = [m for m in members_categories_chile if m['type'] == 'subcat']\n",
    "# add_categories_for_check(subcategories_chile)"
   ]
  },
  {
   "source": [
    "### Inicializa todas as subcategorias da Nova Zelândia"
   ],
   "cell_type": "markdown",
   "metadata": {}
  },
  {
   "cell_type": "code",
   "execution_count": 46,
   "metadata": {},
   "outputs": [],
   "source": [
    "members_categories_nz = get_category_members(cmtitle='Categoria:Nova_Zelândia')\n",
    "for mcnz in members_categories_nz:\n",
    "    mcnz['country'] = 'Nova Zelandia'\n",
    "subcategories_nz = [m for m in members_categories_nz if m['type'] == 'subcat']\n",
    "# add_categories_for_check(subcategories_nz)"
   ]
  },
  {
   "source": [
    "### Inicializa todas as subcategorias dos Estados Unidos"
   ],
   "cell_type": "markdown",
   "metadata": {}
  },
  {
   "cell_type": "code",
   "execution_count": 16,
   "metadata": {},
   "outputs": [],
   "source": [
    "# Categoria:Estados_Unidos\n",
    "members_categories_usa = get_category_members(cmtitle='Categoria:Estados_Unidos')\n",
    "for mcusa in members_categories_usa:\n",
    "    mcusa['country'] = 'Estados Unidos'\n",
    "subcategories_usa = [m for m in members_categories_usa if m['type'] == 'subcat']\n",
    "add_categories_for_check(subcategories_usa)"
   ]
  },
  {
   "source": [
    "### Marca categorias para download"
   ],
   "cell_type": "markdown",
   "metadata": {}
  },
  {
   "cell_type": "code",
   "execution_count": 120,
   "metadata": {},
   "outputs": [],
   "source": [
    "ids = [5568913, 5600226, 2976735, 3229009, 3228959, 5543207, 206176,3228965, 1935902,3266151,  3572256, 3544176, 1715183, 4852814, 4814502, 2178241,5580178, 3472896,  4814499, 5577558, 2201392]\n",
    "for id in ids:\n",
    "    add_category_for_download(pageid=id)"
   ]
  },
  {
   "source": [
    "### Executa download das páginas das categorias marcadas para Download"
   ],
   "cell_type": "markdown",
   "metadata": {}
  },
  {
   "cell_type": "code",
   "execution_count": 121,
   "metadata": {},
   "outputs": [
    {
     "output_type": "stream",
     "name": "stdout",
     "text": [
      "21 categoria(s) marcadas para download\n",
      "Retrieving pages for category Categoria:Corpos de água do Alasca [5568913]\n",
      "Retrieving pages for category Categoria:Arquipélagos do Alasca [5600226]\n",
      "Retrieving pages for category Categoria:Baías do Alasca [2976735]\n",
      "Retrieving pages for category Categoria:Cabos do Alasca [3229009]\n",
      "Retrieving pages for category Categoria:Estreitos do Alasca [3228959]\n",
      "Retrieving pages for category Categoria:Golfos e baías do Alasca [5543207]\n",
      "Retrieving pages for category Categoria:Ilhas do Alasca [206176]\n",
      "Retrieving pages for category Categoria:Penínsulas do Alasca [3228965]\n",
      "Retrieving pages for category Categoria:Rios do Alasca [1935902]\n",
      "Retrieving pages for category Categoria:Vulcões do Alasca [3266151]\n",
      "Retrieving pages for category Categoria:California Trail [3572256]\n",
      "Retrieving pages for category Categoria:Oregon Trail [3544176]\n",
      "Retrieving pages for category Categoria:Vale da Morte [1715183]\n",
      "Retrieving pages for category Categoria:Parque Nacional da Sequoia [4852814]\n",
      "Retrieving pages for category Categoria:Parque Nacional do Vale da Morte [4814502]\n",
      "Retrieving pages for category Categoria:Parque Nacional de Yosemite [2178241]\n",
      "Retrieving pages for category Categoria:Parque Nacional de Canyonlands [5580178]\n",
      "Retrieving pages for category Categoria:Parque Nacional de Yellowstone [3472896]\n",
      "Retrieving pages for category Categoria:Deserto de Mojave [4814499]\n",
      "Retrieving pages for category Categoria:Afluentes do rio Colorado [5577558]\n",
      "Retrieving pages for category Categoria:Sierra Nevada [2201392]\n"
     ]
    }
   ],
   "source": [
    "# Busca categorias marcadas para download\n",
    "categories_for_download = get_categories_for_download()\n",
    "print(f'{len(categories_for_download)} categoria(s) marcadas para download')\n",
    "\n",
    "# Faz download de cada categoria\n",
    "for c in categories_for_download:\n",
    "    download_category_tree(c, 'Estados Unidos')"
   ]
  },
  {
   "source": [
    "### Analisar categorias para Check"
   ],
   "cell_type": "markdown",
   "metadata": {}
  },
  {
   "cell_type": "code",
   "execution_count": 122,
   "metadata": {},
   "outputs": [],
   "source": [
    "for_skeep = []\n",
    "if (len(for_skeep) > 0):\n",
    "    for sk in for_skeep:\n",
    "        set_category_skeep(sk)\n",
    "\n",
    "for_check = list(mongo_categories.find({ 'download': 'Check', 'country': 'Estados Unidos'}))\n",
    "\n",
    "# usa = [5577536, 3203291, 2403918, 2671885, 4914662, 4400845, 3439705, 4149018,2739967, 4133805, 2739980, 5589663, 4133798]\n",
    "usa_4_check = [(fc['pageid'], fc['title']) for fc in for_check]"
   ]
  },
  {
   "cell_type": "code",
   "execution_count": 19,
   "metadata": {},
   "outputs": [],
   "source": [
    "usa = [3003786, 2966383, 2511655, 2541119, 3166610]"
   ]
  },
  {
   "source": [
    "### Backup do que já foi feito download"
   ],
   "cell_type": "markdown",
   "metadata": {}
  },
  {
   "cell_type": "code",
   "execution_count": 131,
   "metadata": {},
   "outputs": [],
   "source": [
    "# Categorias\n",
    "categories = list(mongo_categories.find())\n",
    "categories_df = pd.DataFrame(categories)\n",
    "categories_df.to_csv('categories.csv')"
   ]
  },
  {
   "cell_type": "code",
   "execution_count": 132,
   "metadata": {},
   "outputs": [],
   "source": [
    "pages = list(mongo_pages.find())\n",
    "pages_df = pd.DataFrame(pages)\n",
    "pages_df.to_csv('pages.csv')"
   ]
  },
  {
   "cell_type": "code",
   "execution_count": 61,
   "metadata": {},
   "outputs": [
    {
     "output_type": "execute_result",
     "data": {
      "text/plain": [
       "(498, 8)"
      ]
     },
     "metadata": {},
     "execution_count": 61
    }
   ],
   "source": [
    "pages_df.shape"
   ]
  },
  {
   "source": [
    "### Verificar categorias e páginas sem country"
   ],
   "cell_type": "markdown",
   "metadata": {}
  },
  {
   "cell_type": "code",
   "execution_count": 37,
   "metadata": {},
   "outputs": [
    {
     "output_type": "stream",
     "name": "stdout",
     "text": [
      "0 pages found with no country\n0 categories found with no country\n"
     ]
    }
   ],
   "source": [
    "# Pages\n",
    "pages_no_country = list(db.pages.find({\"country\": {\"$exists\": False }}))\n",
    "print(f'{len(pages_no_country)} pages found with no country')\n",
    "\n",
    "# Categories\n",
    "categories_no_country = list(db.categories.find({\"country\": {\"$exists\": False }}))\n",
    "print(f'{len(categories_no_country)} categories found with no country')"
   ]
  },
  {
   "source": [
    "### Corrigir categorias e paginas dos Estados Unidos marcadas como Nova Zelandia"
   ],
   "cell_type": "markdown",
   "metadata": {}
  },
  {
   "cell_type": "code",
   "execution_count": 26,
   "metadata": {},
   "outputs": [],
   "source": [
    "nz = list(mongo_categories.find({ 'country': 'Nova Zelandia'}))\n",
    "\n",
    "nz_with_usa = [c for c in nz if \"Estados Unidos\" in c['title']]\n",
    "for cat_fix in nz_with_usa:\n",
    "    mongo_categories.update_one(\n",
    "        { '_id': cat_fix['_id']},\n",
    "        { '$set': { 'country': 'Estados Unidos'}}\n",
    "    )"
   ]
  },
  {
   "cell_type": "code",
   "execution_count": 41,
   "metadata": {},
   "outputs": [],
   "source": [
    "nz = list(mongo_pages.find({ 'country': 'Nova Zelandia'}))\n",
    "nz_with_usa = [c for c in nz if \"Estados Unidos\" in c['title']]\n",
    "\n",
    "for pag_fix in nz_with_usa:\n",
    "    mongo_pages.update_one(\n",
    "        { '_id': pag_fix['_id']},\n",
    "        { '$set': { 'country': 'Estados Unidos'}}\n",
    "    )"
   ]
  },
  {
   "cell_type": "code",
   "execution_count": 129,
   "metadata": {},
   "outputs": [],
   "source": [
    "nz = list(mongo_pages.find({ 'country': 'Nova Zelandia'}))\n",
    "nz_with_usa = [c for c in nz if \"Estados Unidos\" in c['category_title']]\n",
    "\n",
    "for pag_fix in nz_with_usa:\n",
    "    mongo_pages.update_one(\n",
    "        { '_id': pag_fix['_id']},\n",
    "        { '$set': { 'country': 'Estados Unidos'}}\n",
    "    )"
   ]
  }
 ]
}