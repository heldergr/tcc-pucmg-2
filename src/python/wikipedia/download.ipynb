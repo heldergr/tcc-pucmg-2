{
 "metadata": {
  "language_info": {
   "codemirror_mode": {
    "name": "ipython",
    "version": 3
   },
   "file_extension": ".py",
   "mimetype": "text/x-python",
   "name": "python",
   "nbconvert_exporter": "python",
   "pygments_lexer": "ipython3",
   "version": "3.8.10"
  },
  "orig_nbformat": 2,
  "kernelspec": {
   "name": "python3",
   "display_name": "Python 3.8.10 64-bit ('tcc-venv': venv)"
  },
  "interpreter": {
   "hash": "e40f5302c6d4b9de2141353283620edefcabae1dbe23ed7117377b1c1ce32e40"
  }
 },
 "nbformat": 4,
 "nbformat_minor": 2,
 "cells": [
  {
   "source": [
    "# Wikipedia"
   ],
   "cell_type": "markdown",
   "metadata": {}
  },
  {
   "cell_type": "code",
   "execution_count": 1,
   "metadata": {},
   "outputs": [],
   "source": [
    "from urllib.parse import urlencode\n",
    "import requests\n",
    "from pymongo import MongoClient\n",
    "import time\n",
    "import pandas as pd"
   ]
  },
  {
   "source": [
    "## MongoDB Setup"
   ],
   "cell_type": "markdown",
   "metadata": {}
  },
  {
   "cell_type": "code",
   "execution_count": 2,
   "metadata": {},
   "outputs": [],
   "source": [
    "# Creates client with default server and port\n",
    "client = MongoClient()\n",
    "\n",
    "# Get database \"wikipedia\"\n",
    "db = client.wikipedia\n",
    "\n",
    "# Get references to *pages* and *categories* collections\n",
    "mongo_pages = db.pages\n",
    "mongo_categories = db.categories\n",
    "mongo_content = db.pages_content"
   ]
  },
  {
   "source": [
    "## Download categories and pages from Wikipedia"
   ],
   "cell_type": "markdown",
   "metadata": {}
  },
  {
   "cell_type": "code",
   "execution_count": 3,
   "metadata": {},
   "outputs": [],
   "source": [
    "# https://pt.wikipedia.org/w/api.php?action=query&format=json&list=categorymembers&cmtitle=Category%3AArgentina&cmlimit=200\n",
    "url_base = 'https://pt.wikipedia.org/w/api.php'\n",
    "f = { \n",
    "    'action': 'query',\n",
    "    'format': 'json',\n",
    "    'list': 'categorymembers',\n",
    "     'cmlimit': '200',\n",
    "     'cmprop': 'ids|title|type'\n",
    "}\n",
    "def parameters_category_members(cmtitle = None, cmpageid = -1):\n",
    "    fc = f.copy()\n",
    "    if cmpageid != -1:\n",
    "        fc['cmpageid'] = cmpageid\n",
    "    else:\n",
    "        fc['cmtitle'] = cmtitle\n",
    "    return fc\n",
    "\n",
    "def get_url(parameters):\n",
    "    return f'{url_base}{parameters}'\n",
    "\n",
    "def get_url_category(cmtitle):\n",
    "    parameters_argentina = parameters_category_members('Category:Argentina')\n",
    "    return get_url(urlencode(parameters_argentina))\n",
    "\n",
    "def get_category(cmtitle = None, cmpageid = -1):\n",
    "    params_category = parameters_category_members(cmtitle, cmpageid)\n",
    "    category_r = requests.get(url_base, params=params_category)\n",
    "    category_content = []\n",
    "    if category_r.status_code == 200:\n",
    "        category_content = category_r.json()\n",
    "    return category_content\n",
    "\n",
    "def get_category_members(cmtitle = None, cmpageid = -1):\n",
    "    return get_category(cmtitle=cmtitle, cmpageid=cmpageid)['query']['categorymembers']"
   ]
  },
  {
   "source": [
    "## Insert and retrieve data from MongoDB\n",
    "\n",
    "- Categories status\n",
    "    * Check: waiting for someone to check if it has to be downloaded\n",
    "    * Waiting: waiting for dowload\n",
    "    * Skeep: skeep download of this category\n",
    "    * Done: downloaded\n",
    "- Pages status\n",
    "    * Waiting: waiting for download"
   ],
   "cell_type": "markdown",
   "metadata": {}
  },
  {
   "cell_type": "code",
   "execution_count": 28,
   "metadata": {},
   "outputs": [],
   "source": [
    "def get_categories_for_download():\n",
    "    waiting_criteria = { 'download': 'Waiting' }\n",
    "    return list(mongo_categories.find(waiting_criteria))\n",
    "\n",
    "def add_categories_for_check(categories_for_check):\n",
    "    add_categories_for_status(categories_for_check, 'Check')\n",
    "\n",
    "def add_category_for_download(pageid):\n",
    "    mongo_categories.update_one(\n",
    "        { \"pageid\": pageid },\n",
    "        { \"$set\": { 'download': 'Waiting' } }\n",
    "    )\n",
    "\n",
    "def set_category_done(pageid):\n",
    "    mongo_categories.update_one(\n",
    "        { \"pageid\": pageid },\n",
    "        { \"$set\": { 'download': 'Done' } }\n",
    "    )\n",
    "\n",
    "def set_category_skeep(pageid):\n",
    "    set_category_status(pageid, category_status='Skeep')\n",
    "\n",
    "def set_category_status(pageid, category_status):\n",
    "    mongo_categories.update_one(\n",
    "        { \"pageid\": pageid },\n",
    "        { \"$set\": { 'download': category_status } }\n",
    "    )\n",
    "\n",
    "def add_categories_for_status(categories_for_status, status):\n",
    "    if len(categories_for_status) > 0:\n",
    "        for category_for_status in categories_for_status:\n",
    "            category_for_status['download'] = status\n",
    "        mongo_categories.insert_many(categories_for_status)\n",
    "    \n",
    "def category_exists(cmpageid):\n",
    "    return mongo_categories.count_documents({'pageid': cmpageid}) > 0"
   ]
  },
  {
   "source": [
    "## Algorithm"
   ],
   "cell_type": "markdown",
   "metadata": {}
  },
  {
   "cell_type": "code",
   "execution_count": 29,
   "metadata": {},
   "outputs": [],
   "source": [
    "def insert_pages(pages, cmpageid, cmtitle):\n",
    "    if len(pages) > 0:\n",
    "        for page in pages:\n",
    "            page['category_id'] = cmpageid\n",
    "            page['category_title'] = cmtitle\n",
    "            page['download'] = 'Waiting'\n",
    "        mongo_pages.insert_many(pages)\n",
    "\n",
    "def download_subcategories(subcategories):\n",
    "    if len(subcategories) > 0:\n",
    "        for subcategory in subcategories:\n",
    "            download_category_tree(subcategory)\n",
    "\n",
    "def download_category_tree(category, country):\n",
    "    # Sleep for 1 second before starting download one category tree\n",
    "    time.sleep(1)\n",
    "\n",
    "    cmpageid = category['pageid']\n",
    "    cmtitle = category[\"title\"]\n",
    "    print(f'Retrieving pages for category {cmtitle} [{cmpageid}]')\n",
    "    \n",
    "    members = get_category_members(cmpageid=cmpageid)\n",
    "    pages = [m for m in members if m['type'] == 'page']\n",
    "    for p in pages:\n",
    "        p['country'] = country\n",
    "    insert_pages(pages, cmpageid, cmtitle)\n",
    "    subcats = [m for m in members if m['type'] == 'subcat']\n",
    "    for s in subcats:\n",
    "        s['parent'] = cmpageid\n",
    "        s['country'] = country\n",
    "    subcats_for_check = [s for s in subcats if not category_exists(s['pageid'])]\n",
    "    add_categories_for_check(subcats_for_check)\n",
    "    set_category_done(cmpageid)"
   ]
  },
  {
   "source": [
    "### Inicializa todas as subcategorias da principal *Argentina*"
   ],
   "cell_type": "markdown",
   "metadata": {}
  },
  {
   "cell_type": "code",
   "execution_count": 5,
   "metadata": {},
   "outputs": [],
   "source": [
    "members_categories_argentina = get_category_members(cmtitle='Category:Argentina')\n",
    "pages_argentina = [m for m in members_categories_argentina if m['type'] == 'page']\n",
    "subcategories_argentina = [m for m in members_categories_argentina if m['type'] == 'subcat']\n",
    "# add_categories_for_check(subcategories_argentina)"
   ]
  },
  {
   "source": [
    "### Inicializa todas as subcategorias da principal Chile"
   ],
   "cell_type": "markdown",
   "metadata": {}
  },
  {
   "cell_type": "code",
   "execution_count": 8,
   "metadata": {},
   "outputs": [],
   "source": [
    "members_categories_chile = get_category_members(cmtitle='Category:Chile')\n",
    "for mcc in members_categories_chile:\n",
    "    mcc['country'] = 'Chile'\n",
    "subcategories_chile = [m for m in members_categories_chile if m['type'] == 'subcat']\n",
    "# add_categories_for_check(subcategories_chile)"
   ]
  },
  {
   "source": [
    "### Inicializa todas as subcategorias da Nova Zelândia"
   ],
   "cell_type": "markdown",
   "metadata": {}
  },
  {
   "cell_type": "code",
   "execution_count": 46,
   "metadata": {},
   "outputs": [],
   "source": [
    "members_categories_nz = get_category_members(cmtitle='Categoria:Nova_Zelândia')\n",
    "for mcnz in members_categories_nz:\n",
    "    mcnz['country'] = 'Nova Zelandia'\n",
    "subcategories_nz = [m for m in members_categories_nz if m['type'] == 'subcat']\n",
    "# add_categories_for_check(subcategories_nz)"
   ]
  },
  {
   "source": [
    "### Inicializa todas as subcategorias dos Estados Unidos"
   ],
   "cell_type": "markdown",
   "metadata": {}
  },
  {
   "cell_type": "code",
   "execution_count": 16,
   "metadata": {},
   "outputs": [],
   "source": [
    "# Categoria:Estados_Unidos\n",
    "members_categories_usa = get_category_members(cmtitle='Categoria:Estados_Unidos')\n",
    "for mcusa in members_categories_usa:\n",
    "    mcusa['country'] = 'Estados Unidos'\n",
    "subcategories_usa = [m for m in members_categories_usa if m['type'] == 'subcat']\n",
    "add_categories_for_check(subcategories_usa)"
   ]
  },
  {
   "source": [
    "### Marca categorias para download"
   ],
   "cell_type": "markdown",
   "metadata": {}
  },
  {
   "cell_type": "code",
   "execution_count": 120,
   "metadata": {},
   "outputs": [],
   "source": [
    "ids = [5568913, 5600226, 2976735, 3229009, 3228959, 5543207, 206176,3228965, 1935902,3266151,  3572256, 3544176, 1715183, 4852814, 4814502, 2178241,5580178, 3472896,  4814499, 5577558, 2201392]\n",
    "for id in ids:\n",
    "    add_category_for_download(pageid=id)"
   ]
  },
  {
   "source": [
    "### Executa download das páginas das categorias marcadas para Download"
   ],
   "cell_type": "markdown",
   "metadata": {}
  },
  {
   "cell_type": "code",
   "execution_count": 121,
   "metadata": {},
   "outputs": [
    {
     "output_type": "stream",
     "name": "stdout",
     "text": [
      "21 categoria(s) marcadas para download\n",
      "Retrieving pages for category Categoria:Corpos de água do Alasca [5568913]\n",
      "Retrieving pages for category Categoria:Arquipélagos do Alasca [5600226]\n",
      "Retrieving pages for category Categoria:Baías do Alasca [2976735]\n",
      "Retrieving pages for category Categoria:Cabos do Alasca [3229009]\n",
      "Retrieving pages for category Categoria:Estreitos do Alasca [3228959]\n",
      "Retrieving pages for category Categoria:Golfos e baías do Alasca [5543207]\n",
      "Retrieving pages for category Categoria:Ilhas do Alasca [206176]\n",
      "Retrieving pages for category Categoria:Penínsulas do Alasca [3228965]\n",
      "Retrieving pages for category Categoria:Rios do Alasca [1935902]\n",
      "Retrieving pages for category Categoria:Vulcões do Alasca [3266151]\n",
      "Retrieving pages for category Categoria:California Trail [3572256]\n",
      "Retrieving pages for category Categoria:Oregon Trail [3544176]\n",
      "Retrieving pages for category Categoria:Vale da Morte [1715183]\n",
      "Retrieving pages for category Categoria:Parque Nacional da Sequoia [4852814]\n",
      "Retrieving pages for category Categoria:Parque Nacional do Vale da Morte [4814502]\n",
      "Retrieving pages for category Categoria:Parque Nacional de Yosemite [2178241]\n",
      "Retrieving pages for category Categoria:Parque Nacional de Canyonlands [5580178]\n",
      "Retrieving pages for category Categoria:Parque Nacional de Yellowstone [3472896]\n",
      "Retrieving pages for category Categoria:Deserto de Mojave [4814499]\n",
      "Retrieving pages for category Categoria:Afluentes do rio Colorado [5577558]\n",
      "Retrieving pages for category Categoria:Sierra Nevada [2201392]\n"
     ]
    }
   ],
   "source": [
    "# Busca categorias marcadas para download\n",
    "categories_for_download = get_categories_for_download()\n",
    "print(f'{len(categories_for_download)} categoria(s) marcadas para download')\n",
    "\n",
    "# Faz download de cada categoria\n",
    "for c in categories_for_download:\n",
    "    download_category_tree(c, 'Estados Unidos')"
   ]
  },
  {
   "source": [
    "### Analisar categorias para Check"
   ],
   "cell_type": "markdown",
   "metadata": {}
  },
  {
   "cell_type": "code",
   "execution_count": 122,
   "metadata": {},
   "outputs": [],
   "source": [
    "for_skeep = []\n",
    "if (len(for_skeep) > 0):\n",
    "    for sk in for_skeep:\n",
    "        set_category_skeep(sk)\n",
    "\n",
    "for_check = list(mongo_categories.find({ 'download': 'Check', 'country': 'Estados Unidos'}))\n",
    "\n",
    "# usa = [5577536, 3203291, 2403918, 2671885, 4914662, 4400845, 3439705, 4149018,2739967, 4133805, 2739980, 5589663, 4133798]\n",
    "usa_4_check = [(fc['pageid'], fc['title']) for fc in for_check]"
   ]
  },
  {
   "cell_type": "code",
   "execution_count": 19,
   "metadata": {},
   "outputs": [],
   "source": [
    "usa = [3003786, 2966383, 2511655, 2541119, 3166610]"
   ]
  },
  {
   "source": [
    "### Backup do que já foi feito download"
   ],
   "cell_type": "markdown",
   "metadata": {}
  },
  {
   "cell_type": "code",
   "execution_count": 131,
   "metadata": {},
   "outputs": [],
   "source": [
    "# Categorias\n",
    "categories = list(mongo_categories.find())\n",
    "categories_df = pd.DataFrame(categories)\n",
    "categories_df.to_csv('categories.csv')"
   ]
  },
  {
   "cell_type": "code",
   "execution_count": 132,
   "metadata": {},
   "outputs": [],
   "source": [
    "pages = list(mongo_pages.find())\n",
    "pages_df = pd.DataFrame(pages)\n",
    "pages_df.to_csv('pages.csv')"
   ]
  },
  {
   "cell_type": "code",
   "execution_count": 61,
   "metadata": {},
   "outputs": [
    {
     "output_type": "execute_result",
     "data": {
      "text/plain": [
       "(498, 8)"
      ]
     },
     "metadata": {},
     "execution_count": 61
    }
   ],
   "source": [
    "pages_df.shape"
   ]
  },
  {
   "source": [
    "### Verificar categorias e páginas sem country"
   ],
   "cell_type": "markdown",
   "metadata": {}
  },
  {
   "cell_type": "code",
   "execution_count": 37,
   "metadata": {},
   "outputs": [
    {
     "output_type": "stream",
     "name": "stdout",
     "text": [
      "0 pages found with no country\n0 categories found with no country\n"
     ]
    }
   ],
   "source": [
    "# Pages\n",
    "pages_no_country = list(db.pages.find({\"country\": {\"$exists\": False }}))\n",
    "print(f'{len(pages_no_country)} pages found with no country')\n",
    "\n",
    "# Categories\n",
    "categories_no_country = list(db.categories.find({\"country\": {\"$exists\": False }}))\n",
    "print(f'{len(categories_no_country)} categories found with no country')"
   ]
  },
  {
   "source": [
    "### Corrigir categorias e paginas dos Estados Unidos marcadas como Nova Zelandia"
   ],
   "cell_type": "markdown",
   "metadata": {}
  },
  {
   "cell_type": "code",
   "execution_count": 26,
   "metadata": {},
   "outputs": [],
   "source": [
    "nz = list(mongo_categories.find({ 'country': 'Nova Zelandia'}))\n",
    "\n",
    "nz_with_usa = [c for c in nz if \"Estados Unidos\" in c['title']]\n",
    "for cat_fix in nz_with_usa:\n",
    "    mongo_categories.update_one(\n",
    "        { '_id': cat_fix['_id']},\n",
    "        { '$set': { 'country': 'Estados Unidos'}}\n",
    "    )"
   ]
  },
  {
   "cell_type": "code",
   "execution_count": 41,
   "metadata": {},
   "outputs": [],
   "source": [
    "nz = list(mongo_pages.find({ 'country': 'Nova Zelandia'}))\n",
    "nz_with_usa = [c for c in nz if \"Estados Unidos\" in c['title']]\n",
    "\n",
    "for pag_fix in nz_with_usa:\n",
    "    mongo_pages.update_one(\n",
    "        { '_id': pag_fix['_id']},\n",
    "        { '$set': { 'country': 'Estados Unidos'}}\n",
    "    )"
   ]
  },
  {
   "cell_type": "code",
   "execution_count": 129,
   "metadata": {},
   "outputs": [],
   "source": [
    "nz = list(mongo_pages.find({ 'country': 'Nova Zelandia'}))\n",
    "nz_with_usa = [c for c in nz if \"Estados Unidos\" in c['category_title']]\n",
    "\n",
    "for pag_fix in nz_with_usa:\n",
    "    mongo_pages.update_one(\n",
    "        { '_id': pag_fix['_id']},\n",
    "        { '$set': { 'country': 'Estados Unidos'}}\n",
    "    )"
   ]
  },
  {
   "source": [
    "## Download de páginas"
   ],
   "cell_type": "markdown",
   "metadata": {}
  },
  {
   "cell_type": "code",
   "execution_count": 65,
   "metadata": {},
   "outputs": [],
   "source": [
    "url_base = 'https://pt.wikipedia.org/w/api.php'\n",
    "\n",
    "def get_pages_for_download(limite=100):\n",
    "    return list(mongo_pages.find({ 'download': 'Waiting' }).limit(limite))\n",
    "\n",
    "def get_pages_for_text_download(limite=100):\n",
    "    return list(mongo_content.find({ 'download_text': 'Waiting' }).limit(limite))\n",
    "\n",
    "def get_pages_downloads_counts():\n",
    "    return list(mongo_pages.aggregate([\n",
    "        { '$group': { '_id': '$download', 'total': { '$sum': 1 } } }\n",
    "    ]))\n",
    "\n",
    "def get_pages_text_downloads_counts():\n",
    "    return list(mongo_pages.aggregate([\n",
    "        { '$group': { '_id': '$download_text', 'total': { '$sum': 1 } } }\n",
    "    ]))\n",
    "\n",
    "# https://en.wikipedia.org/w/api.php?action=parse&format=json&pageid=3276454&prop=wikitext&formatversion=2\n",
    "f_page = { \n",
    "    'action': 'parse',\n",
    "    'format': 'json',\n",
    "    'formatversion': '2'\n",
    "}\n",
    "\n",
    "def parameters_wikitext(pageid):\n",
    "    fc = f_page.copy()\n",
    "    fc['pageid'] = pageid\n",
    "    fc['prop'] = 'wikitext'\n",
    "    return fc\n",
    "\n",
    "def parameters_text(pageid):\n",
    "    fc = f_page.copy()\n",
    "    fc['pageid'] = pageid\n",
    "    fc['prop'] = 'text'\n",
    "    return fc\n",
    "\n",
    "def get_wikitext(pageid):\n",
    "    params_wikitext = parameters_wikitext(pageid)\n",
    "    wikitext_r = requests.get(url_base, params=params_wikitext)\n",
    "    wikitext_content = {}\n",
    "    if wikitext_r.status_code == 200:\n",
    "        wikitext_content = wikitext_r.json()\n",
    "    else:\n",
    "        print(f'Erro ao fazer download de wikitext de pagina {pageid}')\n",
    "    return wikitext_content\n",
    "\n",
    "def get_text(pageid):\n",
    "    params_text = parameters_text(pageid)\n",
    "    text_r = requests.get(url_base, params=params_text)\n",
    "    text_content = {}\n",
    "    if text_r.status_code == 200:\n",
    "       text_content = text_r.json()\n",
    "    else:\n",
    "        print(f'Erro ao fazer download de text de pagina {pageid}')\n",
    "    return text_content\n",
    "\n",
    "def copy_page_with_wikitext(page):\n",
    "    p_wikitext = page.copy()\n",
    "    p_wikitext['wikitext'] = get_wikitext(page['pageid'])['parse']['wikitext']\n",
    "    return p_wikitext\n",
    "\n",
    "# get_pages_for_download()[0]"
   ]
  },
  {
   "source": [
    "### Download page wikitexts"
   ],
   "cell_type": "markdown",
   "metadata": {}
  },
  {
   "cell_type": "code",
   "execution_count": 5,
   "metadata": {
    "tags": [
     "outputPrepend"
    ]
   },
   "outputs": [
    {
     "output_type": "stream",
     "name": "stdout",
     "text": [
      "ntes Uinta) downloaded successfuly (445 of 737)\n",
      "Page [4202100](Cordilheira Wasatch) downloaded successfuly (446 of 737)\n",
      "Page [344031](Parque Nacional do Grand Canyon) downloaded successfuly (447 of 737)\n",
      "Page [1749897](Cordilheira do Alasca) downloaded successfuly (448 of 737)\n",
      "Page [4201510](Cordilheira Aleutiana) downloaded successfuly (449 of 737)\n",
      "Page [5700682](Montanhas Chigmit) downloaded successfuly (450 of 737)\n",
      "Page [5949882](Montes Chugach) downloaded successfuly (451 of 737)\n",
      "Page [1749927](Montanhas Costeiras) downloaded successfuly (452 of 737)\n",
      "Page [2457040](Montes Kenai) downloaded successfuly (453 of 737)\n",
      "Page [4300385](Montanhas de Santo Elias) downloaded successfuly (454 of 737)\n",
      "Page [2557819](Montes Wrangell) downloaded successfuly (455 of 737)\n",
      "Page [196346](Black Hills) downloaded successfuly (456 of 737)\n",
      "Page [3501598](Cordilheira Wyoming) downloaded successfuly (457 of 737)\n",
      "Page [2852043](Cordilheira Teton) downloaded successfuly (458 of 737)\n",
      "Page [3544078](Cordilheira Wind River) downloaded successfuly (459 of 737)\n",
      "Page [1405936](Glaciar Columbia) downloaded successfuly (460 of 737)\n",
      "Page [6379071](Geleira Margerie) downloaded successfuly (461 of 737)\n",
      "Page [1403118](Glaciar Mendenhall) downloaded successfuly (462 of 737)\n",
      "Page [1393890](Glaciar Taku) downloaded successfuly (463 of 737)\n",
      "Page [2553106](Monte Blackburn) downloaded successfuly (464 of 737)\n",
      "Page [3692051](Monte Cleveland) downloaded successfuly (465 of 737)\n",
      "Page [165788](Cold Bay (vulcão)) downloaded successfuly (466 of 737)\n",
      "Page [445474](Monte Denali) downloaded successfuly (467 of 737)\n",
      "Page [1743557](Monte Fairweather) downloaded successfuly (468 of 737)\n",
      "Page [1749938](Monte Foraker) downloaded successfuly (469 of 737)\n",
      "Page [5948192](Monte Gareloi) downloaded successfuly (470 of 737)\n",
      "Page [3105440](Monte Hayes) downloaded successfuly (471 of 737)\n",
      "Page [5924603](Monte Hubbard) downloaded successfuly (472 of 737)\n",
      "Page [4627849](Monte Marcus Baker) downloaded successfuly (473 of 737)\n",
      "Page [2003768](Novarupta) downloaded successfuly (474 of 737)\n",
      "Page [6309888](Monte Okmok) downloaded successfuly (475 of 737)\n",
      "Page [3524644](Monte Sanford) downloaded successfuly (476 of 737)\n",
      "Page [721991](Monte Santo Elias) downloaded successfuly (477 of 737)\n",
      "Page [3460416](Monte Shishaldin) downloaded successfuly (478 of 737)\n",
      "Page [2458091](Monte Spurr) downloaded successfuly (479 of 737)\n",
      "Page [3524490](Tanaga) downloaded successfuly (480 of 737)\n",
      "Page [4295761](Monte Torbert) downloaded successfuly (481 of 737)\n",
      "Page [4870775](Monte Vancouver) downloaded successfuly (482 of 737)\n",
      "Page [2647628](Monte Vsevidof) downloaded successfuly (483 of 737)\n",
      "Page [1394052](Campo de gelo de Juneau) downloaded successfuly (484 of 737)\n",
      "Page [1157604](Golfo do Alasca) downloaded successfuly (485 of 737)\n",
      "Page [90694](Mar de Beaufort) downloaded successfuly (486 of 737)\n",
      "Page [4365725](Ilhas ABC (Alasca)) downloaded successfuly (487 of 737)\n",
      "Page [3223854](Arquipélago Kodiak) downloaded successfuly (488 of 737)\n",
      "Page [1985902](Ilhas Pribilof) downloaded successfuly (489 of 737)\n",
      "Page [2466486](Baía de Bristol) downloaded successfuly (490 of 737)\n",
      "Page [4365702](Baía dos Glaciares) downloaded successfuly (491 of 737)\n",
      "Page [4282978](Baía Kuskokwim) downloaded successfuly (492 of 737)\n",
      "Page [3002903](Baía Lituya) downloaded successfuly (493 of 737)\n",
      "Page [4002391](Cabo Lisburne) downloaded successfuly (494 of 737)\n",
      "Page [2495188](Point Barrow) downloaded successfuly (495 of 737)\n",
      "Page [4188914](Point Hope (Alasca)) downloaded successfuly (496 of 737)\n",
      "Page [1853457](Cabo Príncipe de Gales) downloaded successfuly (497 of 737)\n",
      "Page [2976388](Passagem Amchitka) downloaded successfuly (498 of 737)\n",
      "Page [3228957](Canal de Behm) downloaded successfuly (499 of 737)\n",
      "Page [41426](Estreito de Bering) downloaded successfuly (500 of 737)\n",
      "Page [4365718](Estreito de Chatham) downloaded successfuly (501 of 737)\n",
      "Page [5951909](Estreito de Clarence) downloaded successfuly (502 of 737)\n",
      "Page [1613126](Entrada Dixon) downloaded successfuly (503 of 737)\n",
      "Page [4365713](Estreito Icy) downloaded successfuly (504 of 737)\n",
      "Page [1613337](Passagem Interior) downloaded successfuly (505 of 737)\n",
      "Page [1157622](Passagem do Noroeste) downloaded successfuly (506 of 737)\n",
      "Page [2401981](Estreito de Shelikhov) downloaded successfuly (507 of 737)\n",
      "Page [5948194](Passagem Tanaga) downloaded successfuly (508 of 737)\n",
      "Page [3527606](Golfo de Kotzebue) downloaded successfuly (509 of 737)\n",
      "Page [863661](Ilha Adak) downloaded successfuly (510 of 737)\n",
      "Page [1790056](Ilha Admiralty) downloaded successfuly (511 of 737)\n",
      "Page [5186837](Afognak) downloaded successfuly (512 of 737)\n",
      "Page [2476216](Ilha Akutan) downloaded successfuly (513 of 737)\n",
      "Page [2916131](Ilha Amaknak) downloaded successfuly (514 of 737)\n",
      "Page [2945672](Ilha Amatignak) downloaded successfuly (515 of 737)\n",
      "Page [2756369](Ilha Annette) downloaded successfuly (516 of 737)\n",
      "Page [2204516](Ilha Atka) downloaded successfuly (517 of 737)\n",
      "Page [206172](Ilha Baranof) downloaded successfuly (518 of 737)\n",
      "Page [2916589](Ilha Buldir (Alasca)) downloaded successfuly (519 of 737)\n",
      "Page [2206407](Ilha Chichagof) downloaded successfuly (520 of 737)\n",
      "Page [2402074](Ilha Dall) downloaded successfuly (521 of 737)\n",
      "Page [4362504](Ilhas Delarof) downloaded successfuly (522 of 737)\n",
      "Page [1696125](Ilhas Diomedes) downloaded successfuly (523 of 737)\n",
      "Page [1696137](Diomedes Menor) downloaded successfuly (524 of 737)\n",
      "Page [2756485](Ilha Gravina) downloaded successfuly (525 of 737)\n",
      "Page [2756436](Ilhas Gravina) downloaded successfuly (526 of 737)\n",
      "Page [1750328](Ilha Herbert) downloaded successfuly (527 of 737)\n",
      "Page [2947077](Ilha Amak) downloaded successfuly (528 of 737)\n",
      "Page [2916585](Ilha Buldir) downloaded successfuly (529 of 737)\n",
      "Page [6282226](Ilha Nelson (Alasca)) downloaded successfuly (530 of 737)\n",
      "Page [2916564](Ilha Otter (Alasca)) downloaded successfuly (531 of 737)\n",
      "Page [2087109](Ilhas Fox) downloaded successfuly (532 of 737)\n",
      "Page [3776749](Ilha Khvostof) downloaded successfuly (533 of 737)\n",
      "Page [2307274](Kiska) downloaded successfuly (534 of 737)\n",
      "Page [638932](Ilha Kodiak) downloaded successfuly (535 of 737)\n",
      "Page [3226828](Ilha Kupreanof) downloaded successfuly (536 of 737)\n",
      "Page [3222838](Ilha Montague (Alasca)) downloaded successfuly (537 of 737)\n",
      "Page [2457354](Ilha Nunivak) downloaded successfuly (538 of 737)\n",
      "Page [2531298](Ilha do Príncipe de Gales (Alasca)) downloaded successfuly (539 of 737)\n",
      "Page [4035245](Ilha do Rei) downloaded successfuly (540 of 737)\n",
      "Page [3225924](Ilha Revillagigedo) downloaded successfuly (541 of 737)\n",
      "Page [2245244](Ilha de São Lourenço) downloaded successfuly (542 of 737)\n",
      "Page [4364886](Ilha de São Mateus) downloaded successfuly (543 of 737)\n",
      "Page [2328060](Ilha de São Paulo (Alasca)) downloaded successfuly (544 of 737)\n",
      "Page [4365604](Ilhas Semidi) downloaded successfuly (545 of 737)\n",
      "Page [3776753](Ilha Semisopochnoi) downloaded successfuly (546 of 737)\n",
      "Page [2489209](Ilha Sledge) downloaded successfuly (547 of 737)\n",
      "Page [4365610](Ilha Sutwik) downloaded successfuly (548 of 737)\n",
      "Page [4269672](Ilha Umnak) downloaded successfuly (549 of 737)\n",
      "Page [2253757](Ilha Unalaska) downloaded successfuly (550 of 737)\n",
      "Page [2476315](Ilha Unalga) downloaded successfuly (551 of 737)\n",
      "Page [3224069](Ilha Unimak) downloaded successfuly (552 of 737)\n",
      "Page [6282093](Ilha Yunaska) downloaded successfuly (553 of 737)\n",
      "Page [1749909](Península do Alasca) downloaded successfuly (554 of 737)\n",
      "Page [2456142](Península de Baldwin) downloaded successfuly (555 of 737)\n",
      "Page [2456545](Península de Kenai) downloaded successfuly (556 of 737)\n",
      "Page [4167321](Península de Lisburne) downloaded successfuly (557 of 737)\n",
      "Page [1853451](Península de Seward) downloaded successfuly (558 of 737)\n",
      "Page [1935905](Rio Innoko) downloaded successfuly (559 of 737)\n",
      "Page [1935901](Rio Kuskokwim) downloaded successfuly (560 of 737)\n",
      "Page [2677123](Rio Nenana) downloaded successfuly (561 of 737)\n",
      "Page [6375728](Rio Nowitna) downloaded successfuly (562 of 737)\n",
      "Page [2671574](Rio Tanana) downloaded successfuly (563 of 737)\n",
      "Page [73712](Rio Yukon) downloaded successfuly (564 of 737)\n",
      "Page [2553106](Monte Blackburn) downloaded successfuly (565 of 737)\n",
      "Page [3692051](Monte Cleveland) downloaded successfuly (566 of 737)\n",
      "Page [165788](Cold Bay (vulcão)) downloaded successfuly (567 of 737)\n",
      "Page [5948192](Monte Gareloi) downloaded successfuly (568 of 737)\n",
      "Page [5951368](Vulcão Makushin) downloaded successfuly (569 of 737)\n",
      "Page [2003768](Novarupta) downloaded successfuly (570 of 737)\n",
      "Page [6309888](Monte Okmok) downloaded successfuly (571 of 737)\n",
      "Page [2120719](Monte Redoubt) downloaded successfuly (572 of 737)\n",
      "Page [3524644](Monte Sanford) downloaded successfuly (573 of 737)\n",
      "Page [3460416](Monte Shishaldin) downloaded successfuly (574 of 737)\n",
      "Page [2458091](Monte Spurr) downloaded successfuly (575 of 737)\n",
      "Page [3524490](Tanaga) downloaded successfuly (576 of 737)\n",
      "Page [2647628](Monte Vsevidof) downloaded successfuly (577 of 737)\n",
      "Page [3572255](California Trail) downloaded successfuly (578 of 737)\n",
      "Page [6025665](Caravana Donner) downloaded successfuly (579 of 737)\n",
      "Page [3681008](Independence Rock (Wyoming)) downloaded successfuly (580 of 737)\n",
      "Page [3550857](South Pass) downloaded successfuly (581 of 737)\n",
      "Page [4443743](Grupo Bartleson-Bidwell) downloaded successfuly (582 of 737)\n",
      "Page [3573484](Rio Blackfoot (Idaho)) downloaded successfuly (583 of 737)\n",
      "Page [1867668](Trilha Bozeman) downloaded successfuly (584 of 737)\n",
      "Page [3648137](Fort Astoria) downloaded successfuly (585 of 737)\n",
      "Page [3546212](Fort Kearny) downloaded successfuly (586 of 737)\n",
      "Page [3681008](Independence Rock (Wyoming)) downloaded successfuly (587 of 737)\n",
      "Page [3917707](Montanhas Blue (Oregon)) downloaded successfuly (588 of 737)\n",
      "Page [3546927](Mullan Road) downloaded successfuly (589 of 737)\n",
      "Page [3273627](Oregon Trail) downloaded successfuly (590 of 737)\n",
      "Page [3917731](Passo Lolo (Oregon)) downloaded successfuly (591 of 737)\n",
      "Page [3848113](Peoria Party) downloaded successfuly (592 of 737)\n",
      "Page [3550857](South Pass) downloaded successfuly (593 of 737)\n",
      "Page [3678933](Robert Stuart (explorador)) downloaded successfuly (594 of 737)\n",
      "Page [3848141](Elijah White) downloaded successfuly (595 of 737)\n",
      "Page [107023](Vale da Morte) downloaded successfuly (596 of 737)\n",
      "Page [4570981](Greed) downloaded successfuly (597 of 737)\n",
      "Page [1406895](Parque Nacional do Vale da Morte) downloaded successfuly (598 of 737)\n",
      "Page [1633474](Rochas deslizantes de Racetrack Playa) downloaded successfuly (599 of 737)\n",
      "Page [5796208](Bacia de Badwater) downloaded successfuly (600 of 737)\n",
      "Page [1172526](Zabriskie Point) downloaded successfuly (601 of 737)\n",
      "Page [1488470](Parque Nacional da Sequoia) downloaded successfuly (602 of 737)\n",
      "Page [6252450](Above Diamond) downloaded successfuly (603 of 737)\n",
      "Page [420561](General Sherman (árvore)) downloaded successfuly (604 of 737)\n",
      "Page [5228187](Illacme tobini) downloaded successfuly (605 of 737)\n",
      "Page [659259](Monte Whitney) downloaded successfuly (606 of 737)\n",
      "Page [6253200](Presidente (árvore)) downloaded successfuly (607 of 737)\n",
      "Page [1406895](Parque Nacional do Vale da Morte) downloaded successfuly (608 of 737)\n",
      "Page [5796208](Bacia de Badwater) downloaded successfuly (609 of 737)\n",
      "Page [60879](Parque Nacional de Yosemite) downloaded successfuly (610 of 737)\n",
      "Page [3050056](Predefinição:Quedas de água do Vale de Yosemite) downloaded successfuly (611 of 737)\n",
      "Page [1946070](Árvore Wawona) downloaded successfuly (612 of 737)\n",
      "Page [2178109](Bridalveil Fall) downloaded successfuly (613 of 737)\n",
      "Page [2179289](Cataratas de Yosemite) downloaded successfuly (614 of 737)\n",
      "Page [2194660](Cathedral Range) downloaded successfuly (615 of 737)\n",
      "Page [2186300](Charles Leander Weed) downloaded successfuly (616 of 737)\n",
      "Page [2195065](Chefe Tenaya) downloaded successfuly (617 of 737)\n",
      "Page [2178815](Chilnualna Falls) downloaded successfuly (618 of 737)\n",
      "Page [2194300](Clark Range) downloaded successfuly (619 of 737)\n",
      "Page [4497558](Clouds Rest) downloaded successfuly (620 of 737)\n",
      "Page [2190461](Dana Meadows) downloaded successfuly (621 of 737)\n",
      "Page [2179425](El Capitan) downloaded successfuly (622 of 737)\n",
      "Page [2194632](Galen Clark) downloaded successfuly (623 of 737)\n",
      "Page [2186578](Glaciar Lyell) downloaded successfuly (624 of 737)\n",
      "Page [2189034](Glaciar Merced) downloaded successfuly (625 of 737)\n",
      "Page [2187940](Glacier Point) downloaded successfuly (626 of 737)\n",
      "Page [2178246](Half Dome) downloaded successfuly (627 of 737)\n",
      "Page [2192337](Illilouette Fall) downloaded successfuly (628 of 737)\n",
      "Page [2180401](James Mason Hutchings) downloaded successfuly (629 of 737)\n",
      "Page [2181796](James Savage) downloaded successfuly (630 of 737)\n",
      "Page [2180410](Josiah Whitney) downloaded successfuly (631 of 737)\n",
      "Page [2192356](Lehamite Falls) downloaded successfuly (632 of 737)\n",
      "Page [2189017](Mariposa Grove) downloaded successfuly (633 of 737)\n",
      "Page [2189012](Merced Grove) downloaded successfuly (634 of 737)\n",
      "Page [2180374](Miwok) downloaded successfuly (635 of 737)\n",
      "Page [2185205](Monte Conness) downloaded successfuly (636 of 737)\n",
      "Page [2182613](Monte Dana) downloaded successfuly (637 of 737)\n",
      "Page [2185199](Monte Gibbs) downloaded successfuly (638 of 737)\n",
      "Page [2182647](Monte Lyell) downloaded successfuly (639 of 737)\n",
      "Page [2179320](Nevada Fall) downloaded successfuly (640 of 737)\n",
      "Page [2178254](North Dome) downloaded successfuly (641 of 737)\n",
      "Page [2194692](Pacific Crest Trail) downloaded successfuly (642 of 737)\n",
      "Page [2180351](Paiutes) downloaded successfuly (643 of 737)\n",
      "Page [2179778](Rio Merced) downloaded successfuly (644 of 737)\n",
      "Page [2190472](Passo Tioga) downloaded successfuly (645 of 737)\n",
      "Page [2194284](Ribbon Falls) downloaded successfuly (646 of 737)\n",
      "Page [2181238](Rio Tuolumne) downloaded successfuly (647 of 737)\n",
      "Page [2180420](Robert Underwood Johnson) downloaded successfuly (648 of 737)\n",
      "Page [2194272](Royal Arch Cascade) downloaded successfuly (649 of 737)\n",
      "Page [2100406](Sentinel Dome) downloaded successfuly (650 of 737)\n",
      "Page [2194263](Sentinel Fall) downloaded successfuly (651 of 737)\n",
      "Page [2194256](Silver Strand Falls) downloaded successfuly (652 of 737)\n",
      "Page [2194241](Snow Creek Falls) downloaded successfuly (653 of 737)\n",
      "Page [2194231](Staircase Falls) downloaded successfuly (654 of 737)\n",
      "Page [2195073](The Discovery of the Yosemite) downloaded successfuly (655 of 737)\n",
      "Page [2181858](Thomas Ayres) downloaded successfuly (656 of 737)\n",
      "Page [2194220](Tueeulala Falls) downloaded successfuly (657 of 737)\n",
      "Page [2195056](Tunnel View) downloaded successfuly (658 of 737)\n",
      "Page [2188994](Tuolumne Grove) downloaded successfuly (659 of 737)\n",
      "Page [2190456](Tuolumne Meadows) downloaded successfuly (660 of 737)\n",
      "Page [2185219](Vale de Hetch Hetchy) downloaded successfuly (661 of 737)\n",
      "Page [2178063](Vale de Yosemite) downloaded successfuly (662 of 737)\n",
      "Page [2178846](Vernal Fall) downloaded successfuly (663 of 737)\n",
      "Page [2194207](Wapama Falls) downloaded successfuly (664 of 737)\n",
      "Page [2194184](Waterwheel Falls) downloaded successfuly (665 of 737)\n",
      "Page [2195061](Wawona) downloaded successfuly (666 of 737)\n",
      "Page [2186322](Wildcat Falls) downloaded successfuly (667 of 737)\n",
      "Page [1488438](Parque Nacional de Canyonlands) downloaded successfuly (668 of 737)\n",
      "Page [3863293](Blue John Canyon) downloaded successfuly (669 of 737)\n",
      "Page [365443](Parque Nacional de Yellowstone) downloaded successfuly (670 of 737)\n",
      "Page [4621861](Thomas Dale Brock) downloaded successfuly (671 of 737)\n",
      "Page [1052969](Caldeira de Yellowstone) downloaded successfuly (672 of 737)\n",
      "Page [6432703](Dólar de prata do Parque Nacional de Yellowstone) downloaded successfuly (673 of 737)\n",
      "Page [3475348](Rio Gallatin) downloaded successfuly (674 of 737)\n",
      "Page [6321766](Grande Ecossistema de Yellowstone) downloaded successfuly (675 of 737)\n",
      "Page [6443766](Grande Primavera Prismática) downloaded successfuly (676 of 737)\n",
      "Page [3472894](Lago Isa) downloaded successfuly (677 of 737)\n",
      "Page [5661481](Lago Yellowstone) downloaded successfuly (678 of 737)\n",
      "Page [5622754](Mystic Falls (cachoeira)) downloaded successfuly (679 of 737)\n",
      "Page [1647492](Old Faithful) downloaded successfuly (680 of 737)\n",
      "Page [6110441](Yellowstone (série de televisão)) downloaded successfuly (681 of 737)\n",
      "Page [371442](Deserto de Mojave) downloaded successfuly (682 of 737)\n",
      "Page [4142510](Cactus Springs (Condado de Clark, Nevada)) downloaded successfuly (683 of 737)\n",
      "Page [5085932](Mimulus rupicola) downloaded successfuly (684 of 737)\n",
      "Page [1689530](Rio Gila) downloaded successfuly (685 of 737)\n",
      "Page [2582725](Rio Little Colorado) downloaded successfuly (686 of 737)\n",
      "Page [648753](Serra Nevada (Estados Unidos)) downloaded successfuly (687 of 737)\n",
      "Page [2195062](Batalhão Mariposa) downloaded successfuly (688 of 737)\n",
      "Page [2178109](Bridalveil Fall) downloaded successfuly (689 of 737)\n",
      "Page [2179289](Cataratas de Yosemite) downloaded successfuly (690 of 737)\n",
      "Page [2194660](Cathedral Range) downloaded successfuly (691 of 737)\n",
      "Page [2195065](Chefe Tenaya) downloaded successfuly (692 of 737)\n",
      "Page [2194300](Clark Range) downloaded successfuly (693 of 737)\n",
      "Page [4497558](Clouds Rest) downloaded successfuly (694 of 737)\n",
      "Page [2190461](Dana Meadows) downloaded successfuly (695 of 737)\n",
      "Page [2179425](El Capitan) downloaded successfuly (696 of 737)\n",
      "Page [2186578](Glaciar Lyell) downloaded successfuly (697 of 737)\n",
      "Page [2189034](Glaciar Merced) downloaded successfuly (698 of 737)\n",
      "Page [2187940](Glacier Point) downloaded successfuly (699 of 737)\n",
      "Page [5583852](Gold Country) downloaded successfuly (700 of 737)\n",
      "Page [3495353](Guerras da Água na Califórnia) downloaded successfuly (701 of 737)\n",
      "Page [2178246](Half Dome) downloaded successfuly (702 of 737)\n",
      "Page [2192337](Illilouette Fall) downloaded successfuly (703 of 737)\n",
      "Page [2181796](James Savage) downloaded successfuly (704 of 737)\n",
      "Page [2194709](Kuna Crest) downloaded successfuly (705 of 737)\n",
      "Page [2192356](Lehamite Falls) downloaded successfuly (706 of 737)\n",
      "Page [2189017](Mariposa Grove) downloaded successfuly (707 of 737)\n",
      "Page [2189012](Merced Grove) downloaded successfuly (708 of 737)\n",
      "Page [2180374](Miwok) downloaded successfuly (709 of 737)\n",
      "Page [2185205](Monte Conness) downloaded successfuly (710 of 737)\n",
      "Page [2182613](Monte Dana) downloaded successfuly (711 of 737)\n",
      "Page [2185199](Monte Gibbs) downloaded successfuly (712 of 737)\n",
      "Page [2182647](Monte Lyell) downloaded successfuly (713 of 737)\n",
      "Page [659259](Monte Whitney) downloaded successfuly (714 of 737)\n",
      "Page [2179320](Nevada Fall) downloaded successfuly (715 of 737)\n",
      "Page [2178254](North Dome) downloaded successfuly (716 of 737)\n",
      "Page [2194692](Pacific Crest Trail) downloaded successfuly (717 of 737)\n",
      "Page [2180351](Paiutes) downloaded successfuly (718 of 737)\n",
      "Page [2190472](Passo Tioga) downloaded successfuly (719 of 737)\n",
      "Page [2194284](Ribbon Falls) downloaded successfuly (720 of 737)\n",
      "Page [1165920](Rio American) downloaded successfuly (721 of 737)\n",
      "Page [2179778](Rio Merced) downloaded successfuly (722 of 737)\n",
      "Page [2181238](Rio Tuolumne) downloaded successfuly (723 of 737)\n",
      "Page [2194272](Royal Arch Cascade) downloaded successfuly (724 of 737)\n",
      "Page [5573745](Rubicon Trail) downloaded successfuly (725 of 737)\n",
      "Page [2194263](Sentinel Fall) downloaded successfuly (726 of 737)\n",
      "Page [2194256](Silver Strand Falls) downloaded successfuly (727 of 737)\n",
      "Page [2194241](Snow Creek Falls) downloaded successfuly (728 of 737)\n",
      "Page [2194231](Staircase Falls) downloaded successfuly (729 of 737)\n",
      "Page [2194220](Tueeulala Falls) downloaded successfuly (730 of 737)\n",
      "Page [2195056](Tunnel View) downloaded successfuly (731 of 737)\n",
      "Page [2188994](Tuolumne Grove) downloaded successfuly (732 of 737)\n",
      "Page [2190456](Tuolumne Meadows) downloaded successfuly (733 of 737)\n",
      "Page [1268551](Vale Central) downloaded successfuly (734 of 737)\n",
      "Page [2185219](Vale de Hetch Hetchy) downloaded successfuly (735 of 737)\n",
      "Page [2178063](Vale de Yosemite) downloaded successfuly (736 of 737)\n",
      "Page [2178846](Vernal Fall) downloaded successfuly (737 of 737)\n"
     ]
    }
   ],
   "source": [
    "def run_wikitext_download(amount_wikitext):\n",
    "    pages_for_wikitext_download = get_pages_for_download(amount_wikitext)\n",
    "    current = 1\n",
    "    for page in pages_for_wikitext_download:\n",
    "        page_wikitext = copy_page_with_wikitext(page)\n",
    "        del page_wikitext['_id']\n",
    "        mongo_content.insert_one(page_wikitext)\n",
    "        mongo_pages.update_many(\n",
    "            { 'pageid': page['pageid'] },\n",
    "            { '$set': { 'download': 'Done' }}\n",
    "        )\n",
    "        print(f'Page [{page[\"pageid\"]}]({page[\"title\"]}) downloaded successfuly ({current} of {amount_wikitext})')\n",
    "        current = current + 1\n",
    "        time.sleep(2)\n",
    "\n",
    "# run_wikitext_download(100)"
   ]
  },
  {
   "cell_type": "code",
   "execution_count": 26,
   "metadata": {},
   "outputs": [],
   "source": [
    "def show_download_statistics():\n",
    "    pdc = get_pages_downloads_counts()\n",
    "    print(f'Page download counts: {pdc}')\n",
    "    pages_wikitext_counts = mongo_content.count_documents({})\n",
    "    print(f'Pages with wikitext: {pages_wikitext_counts}')\n",
    "# show_download_statistics()"
   ]
  },
  {
   "source": [
    "### Download page texts"
   ],
   "cell_type": "markdown",
   "metadata": {}
  },
  {
   "cell_type": "code",
   "execution_count": 66,
   "metadata": {},
   "outputs": [],
   "source": [
    "def set_pages_for_text_download():\n",
    "    mongo_pages.update_many(\n",
    "        { 'download': 'Done' },\n",
    "        { '$set': { 'download_text': 'Waiting' } }\n",
    "    )\n",
    "set_pages_for_text_download()"
   ]
  },
  {
   "cell_type": "code",
   "execution_count": 90,
   "metadata": {},
   "outputs": [],
   "source": [
    "def run_text_download(amount_text):\n",
    "    current = 1\n",
    "    pages_text = mongo_pages.find({ 'download_text': 'Waiting' }).limit(amount_text)\n",
    "\n",
    "    for pc in pages_text:\n",
    "        pageid = pc['pageid']\n",
    "        text = get_text(pageid)\n",
    "        mongo_content.update_one(\n",
    "            { 'pageid': pageid },\n",
    "            { '$set': { 'text': text } }\n",
    "        )\n",
    "        mongo_pages.update_one(\n",
    "            { 'pageid': pageid },\n",
    "            { '$set': { 'download_text': 'Done' } }\n",
    "        )\n",
    "        print(f'Page text [{pc[\"pageid\"]}]({pc[\"title\"]}) downloaded successfuly ({current} of {amount_text})')\n",
    "        current = current + 1\n",
    "        time.sleep(2)"
   ]
  },
  {
   "cell_type": "code",
   "execution_count": 70,
   "metadata": {},
   "outputs": [],
   "source": [
    "def show_text_download_statistics():\n",
    "    pdc = get_pages_text_downloads_counts()\n",
    "    print(f'Page text download counts: {pdc}')"
   ]
  },
  {
   "cell_type": "code",
   "execution_count": 96,
   "metadata": {
    "tags": [
     "outputPrepend"
    ]
   },
   "outputs": [
    {
     "output_type": "stream",
     "name": "stdout",
     "text": [
      " [1356940](Lazy Mountain) downloaded successfuly (31 of 303)\n",
      "Page text [1356937](Levelock) downloaded successfuly (32 of 303)\n",
      "Page text [1356934](Lime Village) downloaded successfuly (33 of 303)\n",
      "Page text [1356930](Livengood) downloaded successfuly (34 of 303)\n",
      "Page text [1356927](Lowell Point) downloaded successfuly (35 of 303)\n",
      "Page text [1356924](Lower Kalskag) downloaded successfuly (36 of 303)\n",
      "Page text [1356921](Lutak) downloaded successfuly (37 of 303)\n",
      "Page text [1356912](Manley Hot Springs) downloaded successfuly (38 of 303)\n",
      "Page text [1356909](Manokotak) downloaded successfuly (39 of 303)\n",
      "Page text [1356906](Marshall (Alasca)) downloaded successfuly (40 of 303)\n",
      "Page text [1385249](McCarthy (Alasca)) downloaded successfuly (41 of 303)\n",
      "Page text [1356918](McGrath (Alasca)) downloaded successfuly (42 of 303)\n",
      "Page text [1356915](McKinley Park) downloaded successfuly (43 of 303)\n",
      "Page text [1356902](Meadow Lakes) downloaded successfuly (44 of 303)\n",
      "Page text [1356899](Mekoryuk) downloaded successfuly (45 of 303)\n",
      "Page text [1356896](Mendeltna) downloaded successfuly (46 of 303)\n",
      "Page text [1356892](Mentasta Lake) downloaded successfuly (47 of 303)\n",
      "Page text [1356889](Metlakatla) downloaded successfuly (48 of 303)\n",
      "Page text [1356886](Meyers Chuck) downloaded successfuly (49 of 303)\n",
      "Page text [1356883](Miller Landing) downloaded successfuly (50 of 303)\n",
      "Page text [1356880](Minto (Alasca)) downloaded successfuly (51 of 303)\n",
      "Page text [1356877](Moose Creek) downloaded successfuly (52 of 303)\n",
      "Page text [1356874](Moose Pass) downloaded successfuly (53 of 303)\n",
      "Page text [1356871](Mosquito Lake) downloaded successfuly (54 of 303)\n",
      "Page text [1356868](Mountain Village (Alasca)) downloaded successfuly (55 of 303)\n",
      "Page text [1356864](Mud Bay) downloaded successfuly (56 of 303)\n",
      "Page text [148916](Naknek (Alasca)) downloaded successfuly (57 of 303)\n",
      "Page text [1356861](Nanwalek (Alasca)) downloaded successfuly (58 of 303)\n",
      "Page text [1356858](Napakiak (Alasca)) downloaded successfuly (59 of 303)\n",
      "Page text [1356855](Napaskiak (Alasca)) downloaded successfuly (60 of 303)\n",
      "Page text [1356852](Naukati Bay (Alasca)) downloaded successfuly (61 of 303)\n",
      "Page text [1356849](Nelchina (Alasca)) downloaded successfuly (62 of 303)\n",
      "Page text [1356846](Nelson Lagoon (Alasca)) downloaded successfuly (63 of 303)\n",
      "Page text [1356843](Nenana (Alasca)) downloaded successfuly (64 of 303)\n",
      "Page text [1356840](New Allakaket (Alasca)) downloaded successfuly (65 of 303)\n",
      "Page text [1356834](New Stuyahok) downloaded successfuly (66 of 303)\n",
      "Page text [1356837](Newhalen) downloaded successfuly (67 of 303)\n",
      "Page text [788767](Antelope Canyon) downloaded successfuly (68 of 303)\n",
      "Page text [3921078](Cânion do Diabo) downloaded successfuly (69 of 303)\n",
      "Page text [5454298](Montes Pinaleño) downloaded successfuly (70 of 303)\n",
      "Page text [4598192](Montanhas de Santa Catalina) downloaded successfuly (71 of 303)\n",
      "Page text [4844107](Serra de Santa Rita) downloaded successfuly (72 of 303)\n",
      "Page text [4844252](Serra Branca (Arizona)) downloaded successfuly (73 of 303)\n",
      "Page text [2203643](Deserto de Chihuahua) downloaded successfuly (74 of 303)\n",
      "Page text [1448839](Deserto Pintado (Estados Unidos)) downloaded successfuly (75 of 303)\n",
      "Page text [3053752](Deserto de Lechuguilla) downloaded successfuly (76 of 303)\n",
      "Page text [3053696](Deserto de Tule (Arizona)) downloaded successfuly (77 of 303)\n",
      "Page text [3623925](Imperial Valley) downloaded successfuly (78 of 303)\n",
      "Page text [74387](Rio Colorado) downloaded successfuly (79 of 303)\n",
      "Page text [892570](Represa Hoover) downloaded successfuly (80 of 303)\n",
      "Page text [840672](Cordilheira das Cascatas) downloaded successfuly (81 of 303)\n",
      "Page text [2194660](Cathedral Range) downloaded successfuly (82 of 303)\n",
      "Page text [2194300](Clark Range) downloaded successfuly (83 of 303)\n",
      "Page text [2826046](Montanhas Diablo) downloaded successfuly (84 of 303)\n",
      "Page text [2579783](Montes Klamath) downloaded successfuly (85 of 303)\n",
      "Page text [5671364](Montes San Jacinto) downloaded successfuly (86 of 303)\n",
      "Page text [648753](Serra Nevada (Estados Unidos)) downloaded successfuly (87 of 303)\n",
      "Page text [2179425](El Capitan) downloaded successfuly (88 of 303)\n",
      "Page text [2178246](Half Dome) downloaded successfuly (89 of 303)\n",
      "Page text [2186578](Glaciar Lyell) downloaded successfuly (90 of 303)\n",
      "Page text [2189034](Glaciar Merced) downloaded successfuly (91 of 303)\n",
      "Page text [3408958](Monte Baden-Powell) downloaded successfuly (92 of 303)\n",
      "Page text [3887831](Monte Burnham) downloaded successfuly (93 of 303)\n",
      "Page text [4497558](Clouds Rest) downloaded successfuly (94 of 303)\n",
      "Page text [2185205](Monte Conness) downloaded successfuly (95 of 303)\n",
      "Page text [2182613](Monte Dana) downloaded successfuly (96 of 303)\n",
      "Page text [2185199](Monte Gibbs) downloaded successfuly (97 of 303)\n",
      "Page text [2194709](Kuna Crest) downloaded successfuly (98 of 303)\n",
      "Page text [2182647](Monte Lyell) downloaded successfuly (99 of 303)\n",
      "Page text [4326452](Monte Diablo) downloaded successfuly (100 of 303)\n",
      "Page text [3515840](Pico Montgomery) downloaded successfuly (101 of 303)\n",
      "Page text [4414059](Mount Lee) downloaded successfuly (102 of 303)\n",
      "Page text [2178254](North Dome) downloaded successfuly (103 of 303)\n",
      "Page text [5089080](Pico Lassen) downloaded successfuly (104 of 303)\n",
      "Page text [5671343](Pico San Jacinto) downloaded successfuly (105 of 303)\n",
      "Page text [1842345](Montanhas Santa Ana) downloaded successfuly (106 of 303)\n",
      "Page text [1870654](Monte Shasta) downloaded successfuly (107 of 303)\n",
      "Page text [659259](Monte Whitney) downloaded successfuly (108 of 303)\n",
      "Page text [3050056](Predefinição:Quedas de água do Vale de Yosemite) downloaded successfuly (109 of 303)\n",
      "Page text [2178109](Bridalveil Fall) downloaded successfuly (110 of 303)\n",
      "Page text [2179289](Cataratas de Yosemite) downloaded successfuly (111 of 303)\n",
      "Page text [2178815](Chilnualna Falls) downloaded successfuly (112 of 303)\n",
      "Page text [2192337](Illilouette Fall) downloaded successfuly (113 of 303)\n",
      "Page text [2192356](Lehamite Falls) downloaded successfuly (114 of 303)\n",
      "Page text [1522513](McWay Falls) downloaded successfuly (115 of 303)\n",
      "Page text [2179320](Nevada Fall) downloaded successfuly (116 of 303)\n",
      "Page text [2194284](Ribbon Falls) downloaded successfuly (117 of 303)\n",
      "Page text [2194272](Royal Arch Cascade) downloaded successfuly (118 of 303)\n",
      "Page text [2194263](Sentinel Fall) downloaded successfuly (119 of 303)\n",
      "Page text [2194256](Silver Strand Falls) downloaded successfuly (120 of 303)\n",
      "Page text [2194241](Snow Creek Falls) downloaded successfuly (121 of 303)\n",
      "Page text [2194231](Staircase Falls) downloaded successfuly (122 of 303)\n",
      "Page text [2194220](Tueeulala Falls) downloaded successfuly (123 of 303)\n",
      "Page text [2178846](Vernal Fall) downloaded successfuly (124 of 303)\n",
      "Page text [2194207](Wapama Falls) downloaded successfuly (125 of 303)\n",
      "Page text [2194184](Waterwheel Falls) downloaded successfuly (126 of 303)\n",
      "Page text [2186322](Wildcat Falls) downloaded successfuly (127 of 303)\n",
      "Page text [2520912](Floresta Nacional Los Padres) downloaded successfuly (128 of 303)\n",
      "Page text [520570](Kelso (Califórnia)) downloaded successfuly (129 of 303)\n",
      "Page text [3863293](Blue John Canyon) downloaded successfuly (130 of 303)\n",
      "Page text [4202100](Cordilheira Wasatch) downloaded successfuly (131 of 303)\n",
      "Page text [1749897](Cordilheira do Alasca) downloaded successfuly (132 of 303)\n",
      "Page text [4201510](Cordilheira Aleutiana) downloaded successfuly (133 of 303)\n",
      "Page text [5700682](Montanhas Chigmit) downloaded successfuly (134 of 303)\n",
      "Page text [5949882](Montes Chugach) downloaded successfuly (135 of 303)\n",
      "Page text [1749927](Montanhas Costeiras) downloaded successfuly (136 of 303)\n",
      "Page text [2457040](Montes Kenai) downloaded successfuly (137 of 303)\n",
      "Page text [4300385](Montanhas de Santo Elias) downloaded successfuly (138 of 303)\n",
      "Page text [2557819](Montes Wrangell) downloaded successfuly (139 of 303)\n",
      "Page text [196346](Black Hills) downloaded successfuly (140 of 303)\n",
      "Page text [1405936](Glaciar Columbia) downloaded successfuly (141 of 303)\n",
      "Page text [6379071](Geleira Margerie) downloaded successfuly (142 of 303)\n",
      "Page text [1403118](Glaciar Mendenhall) downloaded successfuly (143 of 303)\n",
      "Page text [1393890](Glaciar Taku) downloaded successfuly (144 of 303)\n",
      "Page text [2553106](Monte Blackburn) downloaded successfuly (145 of 303)\n",
      "Page text [3692051](Monte Cleveland) downloaded successfuly (146 of 303)\n",
      "Page text [165788](Cold Bay (vulcão)) downloaded successfuly (147 of 303)\n",
      "Page text [445474](Monte Denali) downloaded successfuly (148 of 303)\n",
      "Page text [1743557](Monte Fairweather) downloaded successfuly (149 of 303)\n",
      "Page text [1749938](Monte Foraker) downloaded successfuly (150 of 303)\n",
      "Page text [5948192](Monte Gareloi) downloaded successfuly (151 of 303)\n",
      "Page text [3105440](Monte Hayes) downloaded successfuly (152 of 303)\n",
      "Page text [5924603](Monte Hubbard) downloaded successfuly (153 of 303)\n",
      "Page text [4627849](Monte Marcus Baker) downloaded successfuly (154 of 303)\n",
      "Page text [6309888](Monte Okmok) downloaded successfuly (155 of 303)\n",
      "Page text [3524644](Monte Sanford) downloaded successfuly (156 of 303)\n",
      "Page text [721991](Monte Santo Elias) downloaded successfuly (157 of 303)\n",
      "Page text [3460416](Monte Shishaldin) downloaded successfuly (158 of 303)\n",
      "Page text [2458091](Monte Spurr) downloaded successfuly (159 of 303)\n",
      "Page text [3524490](Tanaga) downloaded successfuly (160 of 303)\n",
      "Page text [4295761](Monte Torbert) downloaded successfuly (161 of 303)\n",
      "Page text [4870775](Monte Vancouver) downloaded successfuly (162 of 303)\n",
      "Page text [2647628](Monte Vsevidof) downloaded successfuly (163 of 303)\n",
      "Page text [1394052](Campo de gelo de Juneau) downloaded successfuly (164 of 303)\n",
      "Page text [1157604](Golfo do Alasca) downloaded successfuly (165 of 303)\n",
      "Page text [90694](Mar de Beaufort) downloaded successfuly (166 of 303)\n",
      "Page text [4365725](Ilhas ABC (Alasca)) downloaded successfuly (167 of 303)\n",
      "Page text [3223854](Arquipélago Kodiak) downloaded successfuly (168 of 303)\n",
      "Page text [1985902](Ilhas Pribilof) downloaded successfuly (169 of 303)\n",
      "Page text [2466486](Baía de Bristol) downloaded successfuly (170 of 303)\n",
      "Page text [4365702](Baía dos Glaciares) downloaded successfuly (171 of 303)\n",
      "Page text [4282978](Baía Kuskokwim) downloaded successfuly (172 of 303)\n",
      "Page text [3002903](Baía Lituya) downloaded successfuly (173 of 303)\n",
      "Page text [4002391](Cabo Lisburne) downloaded successfuly (174 of 303)\n",
      "Page text [2495188](Point Barrow) downloaded successfuly (175 of 303)\n",
      "Page text [4188914](Point Hope (Alasca)) downloaded successfuly (176 of 303)\n",
      "Page text [1853457](Cabo Príncipe de Gales) downloaded successfuly (177 of 303)\n",
      "Page text [2976388](Passagem Amchitka) downloaded successfuly (178 of 303)\n",
      "Page text [3228957](Canal de Behm) downloaded successfuly (179 of 303)\n",
      "Page text [41426](Estreito de Bering) downloaded successfuly (180 of 303)\n",
      "Page text [4365718](Estreito de Chatham) downloaded successfuly (181 of 303)\n",
      "Page text [5951909](Estreito de Clarence) downloaded successfuly (182 of 303)\n",
      "Page text [1613126](Entrada Dixon) downloaded successfuly (183 of 303)\n",
      "Page text [4365713](Estreito Icy) downloaded successfuly (184 of 303)\n",
      "Page text [1613337](Passagem Interior) downloaded successfuly (185 of 303)\n",
      "Page text [1157622](Passagem do Noroeste) downloaded successfuly (186 of 303)\n",
      "Page text [2401981](Estreito de Shelikhov) downloaded successfuly (187 of 303)\n",
      "Page text [5948194](Passagem Tanaga) downloaded successfuly (188 of 303)\n",
      "Page text [3527606](Golfo de Kotzebue) downloaded successfuly (189 of 303)\n",
      "Page text [863661](Ilha Adak) downloaded successfuly (190 of 303)\n",
      "Page text [1790056](Ilha Admiralty) downloaded successfuly (191 of 303)\n",
      "Page text [5186837](Afognak) downloaded successfuly (192 of 303)\n",
      "Page text [2476216](Ilha Akutan) downloaded successfuly (193 of 303)\n",
      "Page text [2916131](Ilha Amaknak) downloaded successfuly (194 of 303)\n",
      "Page text [2945672](Ilha Amatignak) downloaded successfuly (195 of 303)\n",
      "Page text [2756369](Ilha Annette) downloaded successfuly (196 of 303)\n",
      "Page text [2204516](Ilha Atka) downloaded successfuly (197 of 303)\n",
      "Page text [206172](Ilha Baranof) downloaded successfuly (198 of 303)\n",
      "Page text [2916589](Ilha Buldir (Alasca)) downloaded successfuly (199 of 303)\n",
      "Page text [2206407](Ilha Chichagof) downloaded successfuly (200 of 303)\n",
      "Page text [2402074](Ilha Dall) downloaded successfuly (201 of 303)\n",
      "Page text [4362504](Ilhas Delarof) downloaded successfuly (202 of 303)\n",
      "Page text [1696125](Ilhas Diomedes) downloaded successfuly (203 of 303)\n",
      "Page text [1696137](Diomedes Menor) downloaded successfuly (204 of 303)\n",
      "Page text [2756485](Ilha Gravina) downloaded successfuly (205 of 303)\n",
      "Page text [2756436](Ilhas Gravina) downloaded successfuly (206 of 303)\n",
      "Page text [1750328](Ilha Herbert) downloaded successfuly (207 of 303)\n",
      "Page text [2947077](Ilha Amak) downloaded successfuly (208 of 303)\n",
      "Page text [2916585](Ilha Buldir) downloaded successfuly (209 of 303)\n",
      "Page text [6282226](Ilha Nelson (Alasca)) downloaded successfuly (210 of 303)\n",
      "Page text [2916564](Ilha Otter (Alasca)) downloaded successfuly (211 of 303)\n",
      "Page text [2087109](Ilhas Fox) downloaded successfuly (212 of 303)\n",
      "Page text [3776749](Ilha Khvostof) downloaded successfuly (213 of 303)\n",
      "Page text [2307274](Kiska) downloaded successfuly (214 of 303)\n",
      "Page text [638932](Ilha Kodiak) downloaded successfuly (215 of 303)\n",
      "Page text [3226828](Ilha Kupreanof) downloaded successfuly (216 of 303)\n",
      "Page text [3222838](Ilha Montague (Alasca)) downloaded successfuly (217 of 303)\n",
      "Page text [2457354](Ilha Nunivak) downloaded successfuly (218 of 303)\n",
      "Page text [2531298](Ilha do Príncipe de Gales (Alasca)) downloaded successfuly (219 of 303)\n",
      "Page text [4035245](Ilha do Rei) downloaded successfuly (220 of 303)\n",
      "Page text [3225924](Ilha Revillagigedo) downloaded successfuly (221 of 303)\n",
      "Page text [2245244](Ilha de São Lourenço) downloaded successfuly (222 of 303)\n",
      "Page text [4364886](Ilha de São Mateus) downloaded successfuly (223 of 303)\n",
      "Page text [2328060](Ilha de São Paulo (Alasca)) downloaded successfuly (224 of 303)\n",
      "Page text [4365604](Ilhas Semidi) downloaded successfuly (225 of 303)\n",
      "Page text [3776753](Ilha Semisopochnoi) downloaded successfuly (226 of 303)\n",
      "Page text [2489209](Ilha Sledge) downloaded successfuly (227 of 303)\n",
      "Page text [4365610](Ilha Sutwik) downloaded successfuly (228 of 303)\n",
      "Page text [4269672](Ilha Umnak) downloaded successfuly (229 of 303)\n",
      "Page text [2253757](Ilha Unalaska) downloaded successfuly (230 of 303)\n",
      "Page text [2476315](Ilha Unalga) downloaded successfuly (231 of 303)\n",
      "Page text [3224069](Ilha Unimak) downloaded successfuly (232 of 303)\n",
      "Page text [6282093](Ilha Yunaska) downloaded successfuly (233 of 303)\n",
      "Page text [1749909](Península do Alasca) downloaded successfuly (234 of 303)\n",
      "Page text [2456142](Península de Baldwin) downloaded successfuly (235 of 303)\n",
      "Page text [2456545](Península de Kenai) downloaded successfuly (236 of 303)\n",
      "Page text [1935905](Rio Innoko) downloaded successfuly (237 of 303)\n",
      "Page text [1935901](Rio Kuskokwim) downloaded successfuly (238 of 303)\n",
      "Page text [2677123](Rio Nenana) downloaded successfuly (239 of 303)\n",
      "Page text [6375728](Rio Nowitna) downloaded successfuly (240 of 303)\n",
      "Page text [2671574](Rio Tanana) downloaded successfuly (241 of 303)\n",
      "Page text [73712](Rio Yukon) downloaded successfuly (242 of 303)\n",
      "Page text [5951368](Vulcão Makushin) downloaded successfuly (243 of 303)\n",
      "Page text [2120719](Monte Redoubt) downloaded successfuly (244 of 303)\n",
      "Page text [3572255](California Trail) downloaded successfuly (245 of 303)\n",
      "Page text [6025665](Caravana Donner) downloaded successfuly (246 of 303)\n",
      "Page text [3681008](Independence Rock (Wyoming)) downloaded successfuly (247 of 303)\n",
      "Page text [3550857](South Pass) downloaded successfuly (248 of 303)\n",
      "Page text [4443743](Grupo Bartleson-Bidwell) downloaded successfuly (249 of 303)\n",
      "Page text [3573484](Rio Blackfoot (Idaho)) downloaded successfuly (250 of 303)\n",
      "Page text [1867668](Trilha Bozeman) downloaded successfuly (251 of 303)\n",
      "Page text [3648137](Fort Astoria) downloaded successfuly (252 of 303)\n",
      "Page text [3546212](Fort Kearny) downloaded successfuly (253 of 303)\n",
      "Page text [3917707](Montanhas Blue (Oregon)) downloaded successfuly (254 of 303)\n",
      "Page text [3546927](Mullan Road) downloaded successfuly (255 of 303)\n",
      "Page text [3273627](Oregon Trail) downloaded successfuly (256 of 303)\n",
      "Page text [3917731](Passo Lolo (Oregon)) downloaded successfuly (257 of 303)\n",
      "Page text [3848113](Peoria Party) downloaded successfuly (258 of 303)\n",
      "Page text [3678933](Robert Stuart (explorador)) downloaded successfuly (259 of 303)\n",
      "Page text [3848141](Elijah White) downloaded successfuly (260 of 303)\n",
      "Page text [4570981](Greed) downloaded successfuly (261 of 303)\n",
      "Page text [1633474](Rochas deslizantes de Racetrack Playa) downloaded successfuly (262 of 303)\n",
      "Page text [5796208](Bacia de Badwater) downloaded successfuly (263 of 303)\n",
      "Page text [6252450](Above Diamond) downloaded successfuly (264 of 303)\n",
      "Page text [420561](General Sherman (árvore)) downloaded successfuly (265 of 303)\n",
      "Page text [5228187](Illacme tobini) downloaded successfuly (266 of 303)\n",
      "Page text [6253200](Presidente (árvore)) downloaded successfuly (267 of 303)\n",
      "Page text [1946070](Árvore Wawona) downloaded successfuly (268 of 303)\n",
      "Page text [2186300](Charles Leander Weed) downloaded successfuly (269 of 303)\n",
      "Page text [2195065](Chefe Tenaya) downloaded successfuly (270 of 303)\n",
      "Page text [2194632](Galen Clark) downloaded successfuly (271 of 303)\n",
      "Page text [2180401](James Mason Hutchings) downloaded successfuly (272 of 303)\n",
      "Page text [2181796](James Savage) downloaded successfuly (273 of 303)\n",
      "Page text [2180410](Josiah Whitney) downloaded successfuly (274 of 303)\n",
      "Page text [2180374](Miwok) downloaded successfuly (275 of 303)\n",
      "Page text [2194692](Pacific Crest Trail) downloaded successfuly (276 of 303)\n",
      "Page text [2180351](Paiutes) downloaded successfuly (277 of 303)\n",
      "Page text [2179778](Rio Merced) downloaded successfuly (278 of 303)\n",
      "Page text [2190472](Passo Tioga) downloaded successfuly (279 of 303)\n",
      "Page text [2181238](Rio Tuolumne) downloaded successfuly (280 of 303)\n",
      "Page text [2180420](Robert Underwood Johnson) downloaded successfuly (281 of 303)\n",
      "Page text [2100406](Sentinel Dome) downloaded successfuly (282 of 303)\n",
      "Page text [2195073](The Discovery of the Yosemite) downloaded successfuly (283 of 303)\n",
      "Page text [2181858](Thomas Ayres) downloaded successfuly (284 of 303)\n",
      "Page text [2195061](Wawona) downloaded successfuly (285 of 303)\n",
      "Page text [1488438](Parque Nacional de Canyonlands) downloaded successfuly (286 of 303)\n",
      "Page text [4621861](Thomas Dale Brock) downloaded successfuly (287 of 303)\n",
      "Page text [1052969](Caldeira de Yellowstone) downloaded successfuly (288 of 303)\n",
      "Page text [6432703](Dólar de prata do Parque Nacional de Yellowstone) downloaded successfuly (289 of 303)\n",
      "Page text [3475348](Rio Gallatin) downloaded successfuly (290 of 303)\n",
      "Page text [6443766](Grande Primavera Prismática) downloaded successfuly (291 of 303)\n",
      "Page text [3472894](Lago Isa) downloaded successfuly (292 of 303)\n",
      "Page text [5661481](Lago Yellowstone) downloaded successfuly (293 of 303)\n",
      "Page text [1647492](Old Faithful) downloaded successfuly (294 of 303)\n",
      "Page text [6110441](Yellowstone (série de televisão)) downloaded successfuly (295 of 303)\n",
      "Page text [4142510](Cactus Springs (Condado de Clark, Nevada)) downloaded successfuly (296 of 303)\n",
      "Page text [5085932](Mimulus rupicola) downloaded successfuly (297 of 303)\n",
      "Page text [1689530](Rio Gila) downloaded successfuly (298 of 303)\n",
      "Page text [2195062](Batalhão Mariposa) downloaded successfuly (299 of 303)\n",
      "Page text [5583852](Gold Country) downloaded successfuly (300 of 303)\n",
      "Page text [3495353](Guerras da Água na Califórnia) downloaded successfuly (301 of 303)\n",
      "Page text [1165920](Rio American) downloaded successfuly (302 of 303)\n",
      "Page text [5573745](Rubicon Trail) downloaded successfuly (303 of 303)\n",
      "Page text download counts: [{'_id': 'Done', 'total': 2252}]\n"
     ]
    }
   ],
   "source": [
    "run_text_download(303)\n",
    "show_text_download_statistics()"
   ]
  },
  {
   "cell_type": "code",
   "execution_count": 19,
   "metadata": {},
   "outputs": [
    {
     "output_type": "stream",
     "name": "stdout",
     "text": [
      "2252 3097\n"
     ]
    }
   ],
   "source": [
    "pcs = list(mongo_content.aggregate(\n",
    "    [ \n",
    "        { '$group': { '_id': '$pageid', 'total': { '$sum': 1 } } }\n",
    "    ]\n",
    "))"
   ]
  },
  {
   "cell_type": "code",
   "execution_count": 24,
   "metadata": {},
   "outputs": [],
   "source": [
    "dobrado = [p for p in pcs if p['total'] > 1]\n"
   ]
  },
  {
   "cell_type": "code",
   "execution_count": 42,
   "metadata": {},
   "outputs": [
    {
     "output_type": "stream",
     "name": "stdout",
     "text": [
      "We have downloaded 2252 distinct pages\n"
     ]
    }
   ],
   "source": [
    "def find_distinct_pages():\n",
    "    return list(mongo_pages.aggregate(\n",
    "        [ \n",
    "            { '$group': { '_id': '$pageid', 'total': { '$sum': 1 } } },\n",
    "            { '$sort': { 'total': -1 }}\n",
    "        ]\n",
    "    ))\n",
    "\n",
    "def count_distinct_pages():\n",
    "    return len(find_distinct_pages())\n",
    "\n",
    "print(f'We have downloaded {count_distinct_pages()} distinct pages')"
   ]
  },
  {
   "cell_type": "code",
   "execution_count": 39,
   "metadata": {},
   "outputs": [
    {
     "output_type": "execute_result",
     "data": {
      "text/plain": [
       "[{'_id': ObjectId('60b3743cf25e4f45f45ff669'),\n",
       "  'pageid': 158914,\n",
       "  'ns': 0,\n",
       "  'title': 'Ojos del Salado',\n",
       "  'type': 'page',\n",
       "  'category_id': 575725,\n",
       "  'category_title': 'Categoria:Montanhas da Argentina',\n",
       "  'download': 'Done',\n",
       "  'country': 'Argentina'},\n",
       " {'_id': ObjectId('60b3743ff25e4f45f45ff683'),\n",
       "  'pageid': 158914,\n",
       "  'ns': 0,\n",
       "  'title': 'Ojos del Salado',\n",
       "  'type': 'page',\n",
       "  'category_id': 1134166,\n",
       "  'category_title': 'Categoria:Vulcões da Argentina',\n",
       "  'download': 'Waiting',\n",
       "  'country': 'Argentina'},\n",
       " {'_id': ObjectId('60bca1e26b45e1b4a9a89aee'),\n",
       "  'pageid': 158914,\n",
       "  'ns': 0,\n",
       "  'title': 'Ojos del Salado',\n",
       "  'type': 'page',\n",
       "  'country': 'Chile',\n",
       "  'category_id': 5302400,\n",
       "  'category_title': 'Categoria:Pontos extremos do Chile',\n",
       "  'download': 'Waiting'},\n",
       " {'_id': ObjectId('60bca4fd6b45e1b4a9a89ca2'),\n",
       "  'pageid': 158914,\n",
       "  'ns': 0,\n",
       "  'title': 'Ojos del Salado',\n",
       "  'type': 'page',\n",
       "  'country': 'Chile',\n",
       "  'category_id': 737679,\n",
       "  'category_title': 'Categoria:Montanhas do Chile',\n",
       "  'download': 'Waiting'},\n",
       " {'_id': ObjectId('60bca5036b45e1b4a9a89cd0'),\n",
       "  'pageid': 158914,\n",
       "  'ns': 0,\n",
       "  'title': 'Ojos del Salado',\n",
       "  'type': 'page',\n",
       "  'country': 'Chile',\n",
       "  'category_id': 1134119,\n",
       "  'category_title': 'Categoria:Vulcões do Chile',\n",
       "  'download': 'Waiting'}]"
      ]
     },
     "metadata": {},
     "execution_count": 39
    }
   ],
   "source": [
    "list(mongo_pages.find({ 'pageid': 158914 }))"
   ]
  },
  {
   "cell_type": "code",
   "execution_count": 31,
   "metadata": {},
   "outputs": [
    {
     "output_type": "execute_result",
     "data": {
      "text/plain": [
       "{'_id': 237330, 'total': 2}"
      ]
     },
     "metadata": {},
     "execution_count": 31
    }
   ],
   "source": [
    "pages_dobrado = [p for p in pcs if p['total'] > 1]\n",
    "pages_dobrado[0]"
   ]
  },
  {
   "cell_type": "code",
   "execution_count": 33,
   "metadata": {},
   "outputs": [
    {
     "output_type": "execute_result",
     "data": {
      "text/plain": [
       "[{'_id': ObjectId('60bca3806b45e1b4a9a89b25'),\n",
       "  'pageid': 237330,\n",
       "  'ns': 0,\n",
       "  'title': 'Cauquenes (província)',\n",
       "  'type': 'page',\n",
       "  'country': 'Chile',\n",
       "  'category_id': 913225,\n",
       "  'category_title': 'Categoria:!Esboços sobre geografia do Chile',\n",
       "  'download': 'Done'},\n",
       " {'_id': ObjectId('60bca4f56b45e1b4a9a89c2e'),\n",
       "  'pageid': 237330,\n",
       "  'ns': 0,\n",
       "  'title': 'Cauquenes (província)',\n",
       "  'type': 'page',\n",
       "  'country': 'Chile',\n",
       "  'category_id': 232966,\n",
       "  'category_title': 'Categoria:Províncias do Chile',\n",
       "  'download': 'Waiting'}]"
      ]
     },
     "metadata": {},
     "execution_count": 33
    }
   ],
   "source": [
    "list(mongo_pages.find({'pageid': 237330}))"
   ]
  },
  {
   "source": [
    "## Correção collection pages\n",
    "\n",
    "- Problema: a mesma página tinha sido baixada mais de uma vez porque era referenciada por várias coleções\n",
    "- Solução\n",
    "    * Renomear collection pages para pages_incorreto (feito no mongo shell)\n",
    "    * Recriar a collection pages com estrutura correta\n",
    "        * A categoria agora será um objeto com id e título ao invés de estes valores estarem soltos na páginas. Assim ficará melhor estuturado\n",
    "        * O objeto da página terá uma collection de categorias. Cada página lida da estrutura antiga terá na nova collection um array com as categorias que a referenciam\n",
    "    * Renomear pages_content para pages_content incorreto"
   ],
   "cell_type": "markdown",
   "metadata": {}
  },
  {
   "cell_type": "code",
   "execution_count": 3,
   "metadata": {},
   "outputs": [],
   "source": [
    "mongo_pages_incorreto = db.pages_incorreto"
   ]
  },
  {
   "cell_type": "code",
   "execution_count": 4,
   "metadata": {},
   "outputs": [],
   "source": [
    "# Obtem todas paginas de collection incorreta\n",
    "todas_paginas_incorreto = list(mongo_pages_incorreto.find({}))"
   ]
  },
  {
   "cell_type": "code",
   "execution_count": 5,
   "metadata": {},
   "outputs": [],
   "source": [
    "# Corrigir categoria das paginas incorretas. Cria objeto para categoria e coloca id e titulo\n",
    "for pagina_incorreto in todas_paginas_incorreto:\n",
    "    category = {\n",
    "        'category_id': pagina_incorreto['category_id'],\n",
    "        'category_title': pagina_incorreto['category_title']\n",
    "    }\n",
    "    pagina_incorreto['category'] = category\n",
    "    del pagina_incorreto['category_id']\n",
    "    del pagina_incorreto['category_title']"
   ]
  },
  {
   "cell_type": "code",
   "execution_count": 6,
   "metadata": {},
   "outputs": [],
   "source": [
    "# Dictionario que mapeia uma pageid para documento da pagina\n",
    "agregado_paginas_incorreto = {}\n",
    "\n",
    "for pagina_incorreto in todas_paginas_incorreto:\n",
    "    pageid_incorreto = pagina_incorreto['pageid']\n",
    "    if pageid_incorreto in agregado_paginas_incorreto:\n",
    "        existente = agregado_paginas_incorreto[pageid_incorreto]\n",
    "        existente['categories'].append(pagina_incorreto['category'])\n",
    "    else:\n",
    "        pagina_incorreto['categories'] = [pagina_incorreto['category']]\n",
    "        agregado_paginas_incorreto[pageid_incorreto] = pagina_incorreto\n",
    "    del pagina_incorreto['category']\n"
   ]
  },
  {
   "cell_type": "code",
   "execution_count": 22,
   "metadata": {},
   "outputs": [
    {
     "output_type": "execute_result",
     "data": {
      "text/plain": [
       "<pymongo.results.InsertManyResult at 0x7f02915ba5c0>"
      ]
     },
     "metadata": {},
     "execution_count": 22
    }
   ],
   "source": [
    "# Insere as páginas corrigidas no mongo\n",
    "paginas_agregadas = list(agregado_paginas_incorreto.values())\n",
    "mongo_pages.insert_many(paginas_agregadas)"
   ]
  },
  {
   "cell_type": "code",
   "execution_count": 23,
   "metadata": {},
   "outputs": [
    {
     "output_type": "execute_result",
     "data": {
      "text/plain": [
       "2252"
      ]
     },
     "metadata": {},
     "execution_count": 23
    }
   ],
   "source": [
    "# Conta páginas para ver o resultado\n",
    "mongo_pages.count_documents({})"
   ]
  },
  {
   "cell_type": "code",
   "execution_count": 24,
   "metadata": {},
   "outputs": [
    {
     "output_type": "execute_result",
     "data": {
      "text/plain": [
       "<pymongo.results.UpdateResult at 0x7f0290d696c0>"
      ]
     },
     "metadata": {},
     "execution_count": 24
    }
   ],
   "source": [
    "# Marcar todas as páginas na collection de pages para refazer download\n",
    "mongo_pages.update_many(\n",
    "    {},\n",
    "    { '$set': { 'download': 'Waiting' } }\n",
    ")"
   ]
  },
  {
   "cell_type": "code",
   "execution_count": 25,
   "metadata": {},
   "outputs": [],
   "source": [
    "# Referencia para collection com conteudo incorreto\n",
    "mongo_content_incorreto = db.pages_content_incorreto"
   ]
  },
  {
   "cell_type": "code",
   "execution_count": 35,
   "metadata": {},
   "outputs": [],
   "source": [
    "def fix_wikitext_download(amount_wikitext):\n",
    "    pages_for_wikitext_download = get_pages_for_download(amount_wikitext)\n",
    "    current = 1\n",
    "\n",
    "    for page in pages_for_wikitext_download:\n",
    "        # Verifica se esta ja foi baixada antes\n",
    "        found_wikitext = False\n",
    "        pages_wikitext_incorreto = mongo_content_incorreto.find({'pageid': page['pageid']})\n",
    "\n",
    "        for pwi in pages_wikitext_incorreto:\n",
    "            wikitext_incorreto = pwi.get('wikitext')\n",
    "            if wikitext_incorreto:\n",
    "                page['wikitext'] = wikitext_incorreto\n",
    "                mongo_content.insert_one(page)\n",
    "                found_wikitext = True\n",
    "                mongo_pages.update_one(\n",
    "                    { 'pageid': page['pageid'] },\n",
    "                    { '$set': { 'download': 'Done' }}\n",
    "                )\n",
    "                break\n",
    "\n",
    "        if found_wikitext:\n",
    "            print(f'Page [{page[\"pageid\"]}]({page[\"title\"]}) Fixed successfuly ({current} of {amount_wikitext})')\n",
    "        else:\n",
    "            print(f'Page [{page[\"pageid\"]}]({page[\"title\"]}) has not been downloaded yet')\n",
    "\n",
    "        current = current + 1"
   ]
  },
  {
   "cell_type": "code",
   "execution_count": 51,
   "metadata": {
    "tags": []
   },
   "outputs": [
    {
     "output_type": "stream",
     "name": "stdout",
     "text": [
      "Page [3648137](Fort Astoria) Fixed successfuly (1 of 52)\n",
      "Page [3546212](Fort Kearny) Fixed successfuly (2 of 52)\n",
      "Page [3917707](Montanhas Blue (Oregon)) Fixed successfuly (3 of 52)\n",
      "Page [3546927](Mullan Road) Fixed successfuly (4 of 52)\n",
      "Page [3273627](Oregon Trail) Fixed successfuly (5 of 52)\n",
      "Page [3917731](Passo Lolo (Oregon)) Fixed successfuly (6 of 52)\n",
      "Page [3848113](Peoria Party) Fixed successfuly (7 of 52)\n",
      "Page [3678933](Robert Stuart (explorador)) Fixed successfuly (8 of 52)\n",
      "Page [3848141](Elijah White) Fixed successfuly (9 of 52)\n",
      "Page [4570981](Greed) Fixed successfuly (10 of 52)\n",
      "Page [1633474](Rochas deslizantes de Racetrack Playa) Fixed successfuly (11 of 52)\n",
      "Page [5796208](Bacia de Badwater) Fixed successfuly (12 of 52)\n",
      "Page [6252450](Above Diamond) Fixed successfuly (13 of 52)\n",
      "Page [420561](General Sherman (árvore)) Fixed successfuly (14 of 52)\n",
      "Page [5228187](Illacme tobini) Fixed successfuly (15 of 52)\n",
      "Page [6253200](Presidente (árvore)) Fixed successfuly (16 of 52)\n",
      "Page [1946070](Árvore Wawona) Fixed successfuly (17 of 52)\n",
      "Page [2186300](Charles Leander Weed) Fixed successfuly (18 of 52)\n",
      "Page [2195065](Chefe Tenaya) Fixed successfuly (19 of 52)\n",
      "Page [2194632](Galen Clark) Fixed successfuly (20 of 52)\n",
      "Page [2180401](James Mason Hutchings) Fixed successfuly (21 of 52)\n",
      "Page [2181796](James Savage) Fixed successfuly (22 of 52)\n",
      "Page [2180410](Josiah Whitney) Fixed successfuly (23 of 52)\n",
      "Page [2180374](Miwok) Fixed successfuly (24 of 52)\n",
      "Page [2194692](Pacific Crest Trail) Fixed successfuly (25 of 52)\n",
      "Page [2180351](Paiutes) Fixed successfuly (26 of 52)\n",
      "Page [2179778](Rio Merced) Fixed successfuly (27 of 52)\n",
      "Page [2190472](Passo Tioga) Fixed successfuly (28 of 52)\n",
      "Page [2181238](Rio Tuolumne) Fixed successfuly (29 of 52)\n",
      "Page [2180420](Robert Underwood Johnson) Fixed successfuly (30 of 52)\n",
      "Page [2100406](Sentinel Dome) Fixed successfuly (31 of 52)\n",
      "Page [2195073](The Discovery of the Yosemite) Fixed successfuly (32 of 52)\n",
      "Page [2181858](Thomas Ayres) Fixed successfuly (33 of 52)\n",
      "Page [2195061](Wawona) Fixed successfuly (34 of 52)\n",
      "Page [1488438](Parque Nacional de Canyonlands) Fixed successfuly (35 of 52)\n",
      "Page [4621861](Thomas Dale Brock) Fixed successfuly (36 of 52)\n",
      "Page [1052969](Caldeira de Yellowstone) Fixed successfuly (37 of 52)\n",
      "Page [6432703](Dólar de prata do Parque Nacional de Yellowstone) Fixed successfuly (38 of 52)\n",
      "Page [3475348](Rio Gallatin) Fixed successfuly (39 of 52)\n",
      "Page [6443766](Grande Primavera Prismática) Fixed successfuly (40 of 52)\n",
      "Page [3472894](Lago Isa) Fixed successfuly (41 of 52)\n",
      "Page [5661481](Lago Yellowstone) Fixed successfuly (42 of 52)\n",
      "Page [1647492](Old Faithful) Fixed successfuly (43 of 52)\n",
      "Page [6110441](Yellowstone (série de televisão)) Fixed successfuly (44 of 52)\n",
      "Page [4142510](Cactus Springs (Condado de Clark, Nevada)) Fixed successfuly (45 of 52)\n",
      "Page [5085932](Mimulus rupicola) Fixed successfuly (46 of 52)\n",
      "Page [1689530](Rio Gila) Fixed successfuly (47 of 52)\n",
      "Page [2195062](Batalhão Mariposa) Fixed successfuly (48 of 52)\n",
      "Page [5583852](Gold Country) Fixed successfuly (49 of 52)\n",
      "Page [3495353](Guerras da Água na Califórnia) Fixed successfuly (50 of 52)\n",
      "Page [1165920](Rio American) Fixed successfuly (51 of 52)\n",
      "Page [5573745](Rubicon Trail) Fixed successfuly (52 of 52)\n",
      "Page download counts: [{'_id': 'Done', 'total': 2252}]\n",
      "Pages with wikitext: 2252\n"
     ]
    }
   ],
   "source": [
    "fix_wikitext_download(52)\n",
    "show_download_statistics()"
   ]
  },
  {
   "source": [
    "## Análise documentos download"
   ],
   "cell_type": "markdown",
   "metadata": {}
  },
  {
   "cell_type": "code",
   "execution_count": 54,
   "metadata": {},
   "outputs": [],
   "source": [
    "import seaborn as sns\n",
    "import pandas as pd"
   ]
  },
  {
   "source": [
    "### Análise wikitext"
   ],
   "cell_type": "markdown",
   "metadata": {}
  },
  {
   "cell_type": "code",
   "execution_count": 49,
   "metadata": {},
   "outputs": [],
   "source": [
    "pcs = list(mongo_content.find({}))"
   ]
  },
  {
   "cell_type": "code",
   "execution_count": 52,
   "metadata": {},
   "outputs": [],
   "source": [
    "lengths_wikitext = [len(pc['wikitext']) for pc in pcs]\n",
    "df = pd.DataFrame(lengths_wikitext, columns=['Length'])\n",
    "df.head()"
   ]
  },
  {
   "cell_type": "code",
   "execution_count": 59,
   "metadata": {},
   "outputs": [
    {
     "output_type": "execute_result",
     "data": {
      "text/plain": [
       "<seaborn.axisgrid.FacetGrid at 0x7f0257e9e820>"
      ]
     },
     "metadata": {},
     "execution_count": 59
    },
    {
     "output_type": "display_data",
     "data": {
      "text/plain": "<Figure size 360x360 with 1 Axes>",
      "image/svg+xml": "<?xml version=\"1.0\" encoding=\"utf-8\" standalone=\"no\"?>\n<!DOCTYPE svg PUBLIC \"-//W3C//DTD SVG 1.1//EN\"\n  \"http://www.w3.org/Graphics/SVG/1.1/DTD/svg11.dtd\">\n<svg height=\"352.15625pt\" version=\"1.1\" viewBox=\"0 0 352.553125 352.15625\" width=\"352.553125pt\" xmlns=\"http://www.w3.org/2000/svg\" xmlns:xlink=\"http://www.w3.org/1999/xlink\">\n <metadata>\n  <rdf:RDF xmlns:cc=\"http://creativecommons.org/ns#\" xmlns:dc=\"http://purl.org/dc/elements/1.1/\" xmlns:rdf=\"http://www.w3.org/1999/02/22-rdf-syntax-ns#\">\n   <cc:Work>\n    <dc:type rdf:resource=\"http://purl.org/dc/dcmitype/StillImage\"/>\n    <dc:date>2021-06-14T07:29:32.594138</dc:date>\n    <dc:format>image/svg+xml</dc:format>\n    <dc:creator>\n     <cc:Agent>\n      <dc:title>Matplotlib v3.4.2, https://matplotlib.org/</dc:title>\n     </cc:Agent>\n    </dc:creator>\n   </cc:Work>\n  </rdf:RDF>\n </metadata>\n <defs>\n  <style type=\"text/css\">*{stroke-linecap:butt;stroke-linejoin:round;}</style>\n </defs>\n <g id=\"figure_1\">\n  <g id=\"patch_1\">\n   <path d=\"M 0 352.15625 \nL 352.553125 352.15625 \nL 352.553125 0 \nL 0 0 \nz\n\" style=\"fill:none;\"/>\n  </g>\n  <g id=\"axes_1\">\n   <g id=\"patch_2\">\n    <path d=\"M 53.328125 314.6 \nL 345.353125 314.6 \nL 345.353125 7.2 \nL 53.328125 7.2 \nz\n\" style=\"fill:#ffffff;\"/>\n   </g>\n   <g id=\"patch_3\">\n    <path clip-path=\"url(#p16d050c520)\" d=\"M 66.601989 314.6 \nL 79.875852 314.6 \nL 79.875852 21.838095 \nL 66.601989 21.838095 \nz\n\" style=\"fill:#1f77b4;fill-opacity:0.75;stroke:#000000;stroke-linejoin:miter;\"/>\n   </g>\n   <g id=\"patch_4\">\n    <path clip-path=\"url(#p16d050c520)\" d=\"M 79.875852 314.6 \nL 93.149716 314.6 \nL 93.149716 300.989902 \nL 79.875852 300.989902 \nz\n\" style=\"fill:#1f77b4;fill-opacity:0.75;stroke:#000000;stroke-linejoin:miter;\"/>\n   </g>\n   <g id=\"patch_5\">\n    <path clip-path=\"url(#p16d050c520)\" d=\"M 93.149716 314.6 \nL 106.42358 314.6 \nL 106.42358 310.256352 \nL 93.149716 310.256352 \nz\n\" style=\"fill:#1f77b4;fill-opacity:0.75;stroke:#000000;stroke-linejoin:miter;\"/>\n   </g>\n   <g id=\"patch_6\">\n    <path clip-path=\"url(#p16d050c520)\" d=\"M 106.42358 314.6 \nL 119.697443 314.6 \nL 119.697443 311.704234 \nL 106.42358 311.704234 \nz\n\" style=\"fill:#1f77b4;fill-opacity:0.75;stroke:#000000;stroke-linejoin:miter;\"/>\n   </g>\n   <g id=\"patch_7\">\n    <path clip-path=\"url(#p16d050c520)\" d=\"M 119.697443 314.6 \nL 132.971307 314.6 \nL 132.971307 313.007329 \nL 119.697443 313.007329 \nz\n\" style=\"fill:#1f77b4;fill-opacity:0.75;stroke:#000000;stroke-linejoin:miter;\"/>\n   </g>\n   <g id=\"patch_8\">\n    <path clip-path=\"url(#p16d050c520)\" d=\"M 132.971307 314.6 \nL 146.24517 314.6 \nL 146.24517 313.73127 \nL 132.971307 313.73127 \nz\n\" style=\"fill:#1f77b4;fill-opacity:0.75;stroke:#000000;stroke-linejoin:miter;\"/>\n   </g>\n   <g id=\"patch_9\">\n    <path clip-path=\"url(#p16d050c520)\" d=\"M 146.24517 314.6 \nL 159.519034 314.6 \nL 159.519034 314.020847 \nL 146.24517 314.020847 \nz\n\" style=\"fill:#1f77b4;fill-opacity:0.75;stroke:#000000;stroke-linejoin:miter;\"/>\n   </g>\n   <g id=\"patch_10\">\n    <path clip-path=\"url(#p16d050c520)\" d=\"M 159.519034 314.6 \nL 172.792898 314.6 \nL 172.792898 314.165635 \nL 159.519034 314.165635 \nz\n\" style=\"fill:#1f77b4;fill-opacity:0.75;stroke:#000000;stroke-linejoin:miter;\"/>\n   </g>\n   <g id=\"patch_11\">\n    <path clip-path=\"url(#p16d050c520)\" d=\"M 172.792898 314.6 \nL 186.066761 314.6 \nL 186.066761 314.455212 \nL 172.792898 314.455212 \nz\n\" style=\"fill:#1f77b4;fill-opacity:0.75;stroke:#000000;stroke-linejoin:miter;\"/>\n   </g>\n   <g id=\"patch_12\">\n    <path clip-path=\"url(#p16d050c520)\" d=\"M 186.066761 314.6 \nL 199.340625 314.6 \nL 199.340625 314.310423 \nL 186.066761 314.310423 \nz\n\" style=\"fill:#1f77b4;fill-opacity:0.75;stroke:#000000;stroke-linejoin:miter;\"/>\n   </g>\n   <g id=\"patch_13\">\n    <path clip-path=\"url(#p16d050c520)\" d=\"M 199.340625 314.6 \nL 212.614489 314.6 \nL 212.614489 314.6 \nL 199.340625 314.6 \nz\n\" style=\"fill:#1f77b4;fill-opacity:0.75;stroke:#000000;stroke-linejoin:miter;\"/>\n   </g>\n   <g id=\"patch_14\">\n    <path clip-path=\"url(#p16d050c520)\" d=\"M 212.614489 314.6 \nL 225.888352 314.6 \nL 225.888352 314.6 \nL 212.614489 314.6 \nz\n\" style=\"fill:#1f77b4;fill-opacity:0.75;stroke:#000000;stroke-linejoin:miter;\"/>\n   </g>\n   <g id=\"patch_15\">\n    <path clip-path=\"url(#p16d050c520)\" d=\"M 225.888352 314.6 \nL 239.162216 314.6 \nL 239.162216 314.310423 \nL 225.888352 314.310423 \nz\n\" style=\"fill:#1f77b4;fill-opacity:0.75;stroke:#000000;stroke-linejoin:miter;\"/>\n   </g>\n   <g id=\"patch_16\">\n    <path clip-path=\"url(#p16d050c520)\" d=\"M 239.162216 314.6 \nL 252.43608 314.6 \nL 252.43608 314.455212 \nL 239.162216 314.455212 \nz\n\" style=\"fill:#1f77b4;fill-opacity:0.75;stroke:#000000;stroke-linejoin:miter;\"/>\n   </g>\n   <g id=\"patch_17\">\n    <path clip-path=\"url(#p16d050c520)\" d=\"M 252.43608 314.6 \nL 265.709943 314.6 \nL 265.709943 314.6 \nL 252.43608 314.6 \nz\n\" style=\"fill:#1f77b4;fill-opacity:0.75;stroke:#000000;stroke-linejoin:miter;\"/>\n   </g>\n   <g id=\"patch_18\">\n    <path clip-path=\"url(#p16d050c520)\" d=\"M 265.709943 314.6 \nL 278.983807 314.6 \nL 278.983807 314.455212 \nL 265.709943 314.455212 \nz\n\" style=\"fill:#1f77b4;fill-opacity:0.75;stroke:#000000;stroke-linejoin:miter;\"/>\n   </g>\n   <g id=\"patch_19\">\n    <path clip-path=\"url(#p16d050c520)\" d=\"M 278.983807 314.6 \nL 292.25767 314.6 \nL 292.25767 314.455212 \nL 278.983807 314.455212 \nz\n\" style=\"fill:#1f77b4;fill-opacity:0.75;stroke:#000000;stroke-linejoin:miter;\"/>\n   </g>\n   <g id=\"patch_20\">\n    <path clip-path=\"url(#p16d050c520)\" d=\"M 292.25767 314.6 \nL 305.531534 314.6 \nL 305.531534 314.455212 \nL 292.25767 314.455212 \nz\n\" style=\"fill:#1f77b4;fill-opacity:0.75;stroke:#000000;stroke-linejoin:miter;\"/>\n   </g>\n   <g id=\"patch_21\">\n    <path clip-path=\"url(#p16d050c520)\" d=\"M 305.531534 314.6 \nL 318.805398 314.6 \nL 318.805398 314.6 \nL 305.531534 314.6 \nz\n\" style=\"fill:#1f77b4;fill-opacity:0.75;stroke:#000000;stroke-linejoin:miter;\"/>\n   </g>\n   <g id=\"patch_22\">\n    <path clip-path=\"url(#p16d050c520)\" d=\"M 318.805398 314.6 \nL 332.079261 314.6 \nL 332.079261 314.455212 \nL 318.805398 314.455212 \nz\n\" style=\"fill:#1f77b4;fill-opacity:0.75;stroke:#000000;stroke-linejoin:miter;\"/>\n   </g>\n   <g id=\"matplotlib.axis_1\">\n    <g id=\"xtick_1\">\n     <g id=\"line2d_1\">\n      <defs>\n       <path d=\"M 0 0 \nL 0 3.5 \n\" id=\"mf6e4d89411\" style=\"stroke:#000000;stroke-width:0.8;\"/>\n      </defs>\n      <g>\n       <use style=\"stroke:#000000;stroke-width:0.8;\" x=\"66.410085\" xlink:href=\"#mf6e4d89411\" y=\"314.6\"/>\n      </g>\n     </g>\n     <g id=\"text_1\">\n      <!-- 0 -->\n      <g transform=\"translate(63.228835 329.198437)scale(0.1 -0.1)\">\n       <defs>\n        <path d=\"M 2034 4250 \nQ 1547 4250 1301 3770 \nQ 1056 3291 1056 2328 \nQ 1056 1369 1301 889 \nQ 1547 409 2034 409 \nQ 2525 409 2770 889 \nQ 3016 1369 3016 2328 \nQ 3016 3291 2770 3770 \nQ 2525 4250 2034 4250 \nz\nM 2034 4750 \nQ 2819 4750 3233 4129 \nQ 3647 3509 3647 2328 \nQ 3647 1150 3233 529 \nQ 2819 -91 2034 -91 \nQ 1250 -91 836 529 \nQ 422 1150 422 2328 \nQ 422 3509 836 4129 \nQ 1250 4750 2034 4750 \nz\n\" id=\"DejaVuSans-30\" transform=\"scale(0.015625)\"/>\n       </defs>\n       <use xlink:href=\"#DejaVuSans-30\"/>\n      </g>\n     </g>\n    </g>\n    <g id=\"xtick_2\">\n     <g id=\"line2d_2\">\n      <g>\n       <use style=\"stroke:#000000;stroke-width:0.8;\" x=\"101.62184\" xlink:href=\"#mf6e4d89411\" y=\"314.6\"/>\n      </g>\n     </g>\n     <g id=\"text_2\">\n      <!-- 20000 -->\n      <g transform=\"translate(85.71559 329.198437)scale(0.1 -0.1)\">\n       <defs>\n        <path d=\"M 1228 531 \nL 3431 531 \nL 3431 0 \nL 469 0 \nL 469 531 \nQ 828 903 1448 1529 \nQ 2069 2156 2228 2338 \nQ 2531 2678 2651 2914 \nQ 2772 3150 2772 3378 \nQ 2772 3750 2511 3984 \nQ 2250 4219 1831 4219 \nQ 1534 4219 1204 4116 \nQ 875 4013 500 3803 \nL 500 4441 \nQ 881 4594 1212 4672 \nQ 1544 4750 1819 4750 \nQ 2544 4750 2975 4387 \nQ 3406 4025 3406 3419 \nQ 3406 3131 3298 2873 \nQ 3191 2616 2906 2266 \nQ 2828 2175 2409 1742 \nQ 1991 1309 1228 531 \nz\n\" id=\"DejaVuSans-32\" transform=\"scale(0.015625)\"/>\n       </defs>\n       <use xlink:href=\"#DejaVuSans-32\"/>\n       <use x=\"63.623047\" xlink:href=\"#DejaVuSans-30\"/>\n       <use x=\"127.246094\" xlink:href=\"#DejaVuSans-30\"/>\n       <use x=\"190.869141\" xlink:href=\"#DejaVuSans-30\"/>\n       <use x=\"254.492188\" xlink:href=\"#DejaVuSans-30\"/>\n      </g>\n     </g>\n    </g>\n    <g id=\"xtick_3\">\n     <g id=\"line2d_3\">\n      <g>\n       <use style=\"stroke:#000000;stroke-width:0.8;\" x=\"136.833596\" xlink:href=\"#mf6e4d89411\" y=\"314.6\"/>\n      </g>\n     </g>\n     <g id=\"text_3\">\n      <!-- 40000 -->\n      <g transform=\"translate(120.927346 329.198437)scale(0.1 -0.1)\">\n       <defs>\n        <path d=\"M 2419 4116 \nL 825 1625 \nL 2419 1625 \nL 2419 4116 \nz\nM 2253 4666 \nL 3047 4666 \nL 3047 1625 \nL 3713 1625 \nL 3713 1100 \nL 3047 1100 \nL 3047 0 \nL 2419 0 \nL 2419 1100 \nL 313 1100 \nL 313 1709 \nL 2253 4666 \nz\n\" id=\"DejaVuSans-34\" transform=\"scale(0.015625)\"/>\n       </defs>\n       <use xlink:href=\"#DejaVuSans-34\"/>\n       <use x=\"63.623047\" xlink:href=\"#DejaVuSans-30\"/>\n       <use x=\"127.246094\" xlink:href=\"#DejaVuSans-30\"/>\n       <use x=\"190.869141\" xlink:href=\"#DejaVuSans-30\"/>\n       <use x=\"254.492188\" xlink:href=\"#DejaVuSans-30\"/>\n      </g>\n     </g>\n    </g>\n    <g id=\"xtick_4\">\n     <g id=\"line2d_4\">\n      <g>\n       <use style=\"stroke:#000000;stroke-width:0.8;\" x=\"172.045352\" xlink:href=\"#mf6e4d89411\" y=\"314.6\"/>\n      </g>\n     </g>\n     <g id=\"text_4\">\n      <!-- 60000 -->\n      <g transform=\"translate(156.139102 329.198437)scale(0.1 -0.1)\">\n       <defs>\n        <path d=\"M 2113 2584 \nQ 1688 2584 1439 2293 \nQ 1191 2003 1191 1497 \nQ 1191 994 1439 701 \nQ 1688 409 2113 409 \nQ 2538 409 2786 701 \nQ 3034 994 3034 1497 \nQ 3034 2003 2786 2293 \nQ 2538 2584 2113 2584 \nz\nM 3366 4563 \nL 3366 3988 \nQ 3128 4100 2886 4159 \nQ 2644 4219 2406 4219 \nQ 1781 4219 1451 3797 \nQ 1122 3375 1075 2522 \nQ 1259 2794 1537 2939 \nQ 1816 3084 2150 3084 \nQ 2853 3084 3261 2657 \nQ 3669 2231 3669 1497 \nQ 3669 778 3244 343 \nQ 2819 -91 2113 -91 \nQ 1303 -91 875 529 \nQ 447 1150 447 2328 \nQ 447 3434 972 4092 \nQ 1497 4750 2381 4750 \nQ 2619 4750 2861 4703 \nQ 3103 4656 3366 4563 \nz\n\" id=\"DejaVuSans-36\" transform=\"scale(0.015625)\"/>\n       </defs>\n       <use xlink:href=\"#DejaVuSans-36\"/>\n       <use x=\"63.623047\" xlink:href=\"#DejaVuSans-30\"/>\n       <use x=\"127.246094\" xlink:href=\"#DejaVuSans-30\"/>\n       <use x=\"190.869141\" xlink:href=\"#DejaVuSans-30\"/>\n       <use x=\"254.492188\" xlink:href=\"#DejaVuSans-30\"/>\n      </g>\n     </g>\n    </g>\n    <g id=\"xtick_5\">\n     <g id=\"line2d_5\">\n      <g>\n       <use style=\"stroke:#000000;stroke-width:0.8;\" x=\"207.257108\" xlink:href=\"#mf6e4d89411\" y=\"314.6\"/>\n      </g>\n     </g>\n     <g id=\"text_5\">\n      <!-- 80000 -->\n      <g transform=\"translate(191.350858 329.198437)scale(0.1 -0.1)\">\n       <defs>\n        <path d=\"M 2034 2216 \nQ 1584 2216 1326 1975 \nQ 1069 1734 1069 1313 \nQ 1069 891 1326 650 \nQ 1584 409 2034 409 \nQ 2484 409 2743 651 \nQ 3003 894 3003 1313 \nQ 3003 1734 2745 1975 \nQ 2488 2216 2034 2216 \nz\nM 1403 2484 \nQ 997 2584 770 2862 \nQ 544 3141 544 3541 \nQ 544 4100 942 4425 \nQ 1341 4750 2034 4750 \nQ 2731 4750 3128 4425 \nQ 3525 4100 3525 3541 \nQ 3525 3141 3298 2862 \nQ 3072 2584 2669 2484 \nQ 3125 2378 3379 2068 \nQ 3634 1759 3634 1313 \nQ 3634 634 3220 271 \nQ 2806 -91 2034 -91 \nQ 1263 -91 848 271 \nQ 434 634 434 1313 \nQ 434 1759 690 2068 \nQ 947 2378 1403 2484 \nz\nM 1172 3481 \nQ 1172 3119 1398 2916 \nQ 1625 2713 2034 2713 \nQ 2441 2713 2670 2916 \nQ 2900 3119 2900 3481 \nQ 2900 3844 2670 4047 \nQ 2441 4250 2034 4250 \nQ 1625 4250 1398 4047 \nQ 1172 3844 1172 3481 \nz\n\" id=\"DejaVuSans-38\" transform=\"scale(0.015625)\"/>\n       </defs>\n       <use xlink:href=\"#DejaVuSans-38\"/>\n       <use x=\"63.623047\" xlink:href=\"#DejaVuSans-30\"/>\n       <use x=\"127.246094\" xlink:href=\"#DejaVuSans-30\"/>\n       <use x=\"190.869141\" xlink:href=\"#DejaVuSans-30\"/>\n       <use x=\"254.492188\" xlink:href=\"#DejaVuSans-30\"/>\n      </g>\n     </g>\n    </g>\n    <g id=\"xtick_6\">\n     <g id=\"line2d_6\">\n      <g>\n       <use style=\"stroke:#000000;stroke-width:0.8;\" x=\"242.468864\" xlink:href=\"#mf6e4d89411\" y=\"314.6\"/>\n      </g>\n     </g>\n     <g id=\"text_6\">\n      <!-- 100000 -->\n      <g transform=\"translate(223.381364 329.198437)scale(0.1 -0.1)\">\n       <defs>\n        <path d=\"M 794 531 \nL 1825 531 \nL 1825 4091 \nL 703 3866 \nL 703 4441 \nL 1819 4666 \nL 2450 4666 \nL 2450 531 \nL 3481 531 \nL 3481 0 \nL 794 0 \nL 794 531 \nz\n\" id=\"DejaVuSans-31\" transform=\"scale(0.015625)\"/>\n       </defs>\n       <use xlink:href=\"#DejaVuSans-31\"/>\n       <use x=\"63.623047\" xlink:href=\"#DejaVuSans-30\"/>\n       <use x=\"127.246094\" xlink:href=\"#DejaVuSans-30\"/>\n       <use x=\"190.869141\" xlink:href=\"#DejaVuSans-30\"/>\n       <use x=\"254.492188\" xlink:href=\"#DejaVuSans-30\"/>\n       <use x=\"318.115234\" xlink:href=\"#DejaVuSans-30\"/>\n      </g>\n     </g>\n    </g>\n    <g id=\"xtick_7\">\n     <g id=\"line2d_7\">\n      <g>\n       <use style=\"stroke:#000000;stroke-width:0.8;\" x=\"277.68062\" xlink:href=\"#mf6e4d89411\" y=\"314.6\"/>\n      </g>\n     </g>\n     <g id=\"text_7\">\n      <!-- 120000 -->\n      <g transform=\"translate(258.59312 329.198437)scale(0.1 -0.1)\">\n       <use xlink:href=\"#DejaVuSans-31\"/>\n       <use x=\"63.623047\" xlink:href=\"#DejaVuSans-32\"/>\n       <use x=\"127.246094\" xlink:href=\"#DejaVuSans-30\"/>\n       <use x=\"190.869141\" xlink:href=\"#DejaVuSans-30\"/>\n       <use x=\"254.492188\" xlink:href=\"#DejaVuSans-30\"/>\n       <use x=\"318.115234\" xlink:href=\"#DejaVuSans-30\"/>\n      </g>\n     </g>\n    </g>\n    <g id=\"xtick_8\">\n     <g id=\"line2d_8\">\n      <g>\n       <use style=\"stroke:#000000;stroke-width:0.8;\" x=\"312.892376\" xlink:href=\"#mf6e4d89411\" y=\"314.6\"/>\n      </g>\n     </g>\n     <g id=\"text_8\">\n      <!-- 140000 -->\n      <g transform=\"translate(293.804876 329.198437)scale(0.1 -0.1)\">\n       <use xlink:href=\"#DejaVuSans-31\"/>\n       <use x=\"63.623047\" xlink:href=\"#DejaVuSans-34\"/>\n       <use x=\"127.246094\" xlink:href=\"#DejaVuSans-30\"/>\n       <use x=\"190.869141\" xlink:href=\"#DejaVuSans-30\"/>\n       <use x=\"254.492188\" xlink:href=\"#DejaVuSans-30\"/>\n       <use x=\"318.115234\" xlink:href=\"#DejaVuSans-30\"/>\n      </g>\n     </g>\n    </g>\n    <g id=\"text_9\">\n     <!-- Length -->\n     <g transform=\"translate(182.09375 342.876562)scale(0.1 -0.1)\">\n      <defs>\n       <path d=\"M 628 4666 \nL 1259 4666 \nL 1259 531 \nL 3531 531 \nL 3531 0 \nL 628 0 \nL 628 4666 \nz\n\" id=\"DejaVuSans-4c\" transform=\"scale(0.015625)\"/>\n       <path d=\"M 3597 1894 \nL 3597 1613 \nL 953 1613 \nQ 991 1019 1311 708 \nQ 1631 397 2203 397 \nQ 2534 397 2845 478 \nQ 3156 559 3463 722 \nL 3463 178 \nQ 3153 47 2828 -22 \nQ 2503 -91 2169 -91 \nQ 1331 -91 842 396 \nQ 353 884 353 1716 \nQ 353 2575 817 3079 \nQ 1281 3584 2069 3584 \nQ 2775 3584 3186 3129 \nQ 3597 2675 3597 1894 \nz\nM 3022 2063 \nQ 3016 2534 2758 2815 \nQ 2500 3097 2075 3097 \nQ 1594 3097 1305 2825 \nQ 1016 2553 972 2059 \nL 3022 2063 \nz\n\" id=\"DejaVuSans-65\" transform=\"scale(0.015625)\"/>\n       <path d=\"M 3513 2113 \nL 3513 0 \nL 2938 0 \nL 2938 2094 \nQ 2938 2591 2744 2837 \nQ 2550 3084 2163 3084 \nQ 1697 3084 1428 2787 \nQ 1159 2491 1159 1978 \nL 1159 0 \nL 581 0 \nL 581 3500 \nL 1159 3500 \nL 1159 2956 \nQ 1366 3272 1645 3428 \nQ 1925 3584 2291 3584 \nQ 2894 3584 3203 3211 \nQ 3513 2838 3513 2113 \nz\n\" id=\"DejaVuSans-6e\" transform=\"scale(0.015625)\"/>\n       <path d=\"M 2906 1791 \nQ 2906 2416 2648 2759 \nQ 2391 3103 1925 3103 \nQ 1463 3103 1205 2759 \nQ 947 2416 947 1791 \nQ 947 1169 1205 825 \nQ 1463 481 1925 481 \nQ 2391 481 2648 825 \nQ 2906 1169 2906 1791 \nz\nM 3481 434 \nQ 3481 -459 3084 -895 \nQ 2688 -1331 1869 -1331 \nQ 1566 -1331 1297 -1286 \nQ 1028 -1241 775 -1147 \nL 775 -588 \nQ 1028 -725 1275 -790 \nQ 1522 -856 1778 -856 \nQ 2344 -856 2625 -561 \nQ 2906 -266 2906 331 \nL 2906 616 \nQ 2728 306 2450 153 \nQ 2172 0 1784 0 \nQ 1141 0 747 490 \nQ 353 981 353 1791 \nQ 353 2603 747 3093 \nQ 1141 3584 1784 3584 \nQ 2172 3584 2450 3431 \nQ 2728 3278 2906 2969 \nL 2906 3500 \nL 3481 3500 \nL 3481 434 \nz\n\" id=\"DejaVuSans-67\" transform=\"scale(0.015625)\"/>\n       <path d=\"M 1172 4494 \nL 1172 3500 \nL 2356 3500 \nL 2356 3053 \nL 1172 3053 \nL 1172 1153 \nQ 1172 725 1289 603 \nQ 1406 481 1766 481 \nL 2356 481 \nL 2356 0 \nL 1766 0 \nQ 1100 0 847 248 \nQ 594 497 594 1153 \nL 594 3053 \nL 172 3053 \nL 172 3500 \nL 594 3500 \nL 594 4494 \nL 1172 4494 \nz\n\" id=\"DejaVuSans-74\" transform=\"scale(0.015625)\"/>\n       <path d=\"M 3513 2113 \nL 3513 0 \nL 2938 0 \nL 2938 2094 \nQ 2938 2591 2744 2837 \nQ 2550 3084 2163 3084 \nQ 1697 3084 1428 2787 \nQ 1159 2491 1159 1978 \nL 1159 0 \nL 581 0 \nL 581 4863 \nL 1159 4863 \nL 1159 2956 \nQ 1366 3272 1645 3428 \nQ 1925 3584 2291 3584 \nQ 2894 3584 3203 3211 \nQ 3513 2838 3513 2113 \nz\n\" id=\"DejaVuSans-68\" transform=\"scale(0.015625)\"/>\n      </defs>\n      <use xlink:href=\"#DejaVuSans-4c\"/>\n      <use x=\"53.962891\" xlink:href=\"#DejaVuSans-65\"/>\n      <use x=\"115.486328\" xlink:href=\"#DejaVuSans-6e\"/>\n      <use x=\"178.865234\" xlink:href=\"#DejaVuSans-67\"/>\n      <use x=\"242.341797\" xlink:href=\"#DejaVuSans-74\"/>\n      <use x=\"281.550781\" xlink:href=\"#DejaVuSans-68\"/>\n     </g>\n    </g>\n   </g>\n   <g id=\"matplotlib.axis_2\">\n    <g id=\"ytick_1\">\n     <g id=\"line2d_9\">\n      <defs>\n       <path d=\"M 0 0 \nL -3.5 0 \n\" id=\"m9a5deefc14\" style=\"stroke:#000000;stroke-width:0.8;\"/>\n      </defs>\n      <g>\n       <use style=\"stroke:#000000;stroke-width:0.8;\" x=\"53.328125\" xlink:href=\"#m9a5deefc14\" y=\"314.6\"/>\n      </g>\n     </g>\n     <g id=\"text_10\">\n      <!-- 0 -->\n      <g transform=\"translate(39.965625 318.399219)scale(0.1 -0.1)\">\n       <use xlink:href=\"#DejaVuSans-30\"/>\n      </g>\n     </g>\n    </g>\n    <g id=\"ytick_2\">\n     <g id=\"line2d_10\">\n      <g>\n       <use style=\"stroke:#000000;stroke-width:0.8;\" x=\"53.328125\" xlink:href=\"#m9a5deefc14\" y=\"278.40293\"/>\n      </g>\n     </g>\n     <g id=\"text_11\">\n      <!-- 250 -->\n      <g transform=\"translate(27.240625 282.202148)scale(0.1 -0.1)\">\n       <defs>\n        <path d=\"M 691 4666 \nL 3169 4666 \nL 3169 4134 \nL 1269 4134 \nL 1269 2991 \nQ 1406 3038 1543 3061 \nQ 1681 3084 1819 3084 \nQ 2600 3084 3056 2656 \nQ 3513 2228 3513 1497 \nQ 3513 744 3044 326 \nQ 2575 -91 1722 -91 \nQ 1428 -91 1123 -41 \nQ 819 9 494 109 \nL 494 744 \nQ 775 591 1075 516 \nQ 1375 441 1709 441 \nQ 2250 441 2565 725 \nQ 2881 1009 2881 1497 \nQ 2881 1984 2565 2268 \nQ 2250 2553 1709 2553 \nQ 1456 2553 1204 2497 \nQ 953 2441 691 2322 \nL 691 4666 \nz\n\" id=\"DejaVuSans-35\" transform=\"scale(0.015625)\"/>\n       </defs>\n       <use xlink:href=\"#DejaVuSans-32\"/>\n       <use x=\"63.623047\" xlink:href=\"#DejaVuSans-35\"/>\n       <use x=\"127.246094\" xlink:href=\"#DejaVuSans-30\"/>\n      </g>\n     </g>\n    </g>\n    <g id=\"ytick_3\">\n     <g id=\"line2d_11\">\n      <g>\n       <use style=\"stroke:#000000;stroke-width:0.8;\" x=\"53.328125\" xlink:href=\"#m9a5deefc14\" y=\"242.205859\"/>\n      </g>\n     </g>\n     <g id=\"text_12\">\n      <!-- 500 -->\n      <g transform=\"translate(27.240625 246.005078)scale(0.1 -0.1)\">\n       <use xlink:href=\"#DejaVuSans-35\"/>\n       <use x=\"63.623047\" xlink:href=\"#DejaVuSans-30\"/>\n       <use x=\"127.246094\" xlink:href=\"#DejaVuSans-30\"/>\n      </g>\n     </g>\n    </g>\n    <g id=\"ytick_4\">\n     <g id=\"line2d_12\">\n      <g>\n       <use style=\"stroke:#000000;stroke-width:0.8;\" x=\"53.328125\" xlink:href=\"#m9a5deefc14\" y=\"206.008789\"/>\n      </g>\n     </g>\n     <g id=\"text_13\">\n      <!-- 750 -->\n      <g transform=\"translate(27.240625 209.808008)scale(0.1 -0.1)\">\n       <defs>\n        <path d=\"M 525 4666 \nL 3525 4666 \nL 3525 4397 \nL 1831 0 \nL 1172 0 \nL 2766 4134 \nL 525 4134 \nL 525 4666 \nz\n\" id=\"DejaVuSans-37\" transform=\"scale(0.015625)\"/>\n       </defs>\n       <use xlink:href=\"#DejaVuSans-37\"/>\n       <use x=\"63.623047\" xlink:href=\"#DejaVuSans-35\"/>\n       <use x=\"127.246094\" xlink:href=\"#DejaVuSans-30\"/>\n      </g>\n     </g>\n    </g>\n    <g id=\"ytick_5\">\n     <g id=\"line2d_13\">\n      <g>\n       <use style=\"stroke:#000000;stroke-width:0.8;\" x=\"53.328125\" xlink:href=\"#m9a5deefc14\" y=\"169.811719\"/>\n      </g>\n     </g>\n     <g id=\"text_14\">\n      <!-- 1000 -->\n      <g transform=\"translate(20.878125 173.610937)scale(0.1 -0.1)\">\n       <use xlink:href=\"#DejaVuSans-31\"/>\n       <use x=\"63.623047\" xlink:href=\"#DejaVuSans-30\"/>\n       <use x=\"127.246094\" xlink:href=\"#DejaVuSans-30\"/>\n       <use x=\"190.869141\" xlink:href=\"#DejaVuSans-30\"/>\n      </g>\n     </g>\n    </g>\n    <g id=\"ytick_6\">\n     <g id=\"line2d_14\">\n      <g>\n       <use style=\"stroke:#000000;stroke-width:0.8;\" x=\"53.328125\" xlink:href=\"#m9a5deefc14\" y=\"133.614648\"/>\n      </g>\n     </g>\n     <g id=\"text_15\">\n      <!-- 1250 -->\n      <g transform=\"translate(20.878125 137.413867)scale(0.1 -0.1)\">\n       <use xlink:href=\"#DejaVuSans-31\"/>\n       <use x=\"63.623047\" xlink:href=\"#DejaVuSans-32\"/>\n       <use x=\"127.246094\" xlink:href=\"#DejaVuSans-35\"/>\n       <use x=\"190.869141\" xlink:href=\"#DejaVuSans-30\"/>\n      </g>\n     </g>\n    </g>\n    <g id=\"ytick_7\">\n     <g id=\"line2d_15\">\n      <g>\n       <use style=\"stroke:#000000;stroke-width:0.8;\" x=\"53.328125\" xlink:href=\"#m9a5deefc14\" y=\"97.417578\"/>\n      </g>\n     </g>\n     <g id=\"text_16\">\n      <!-- 1500 -->\n      <g transform=\"translate(20.878125 101.216797)scale(0.1 -0.1)\">\n       <use xlink:href=\"#DejaVuSans-31\"/>\n       <use x=\"63.623047\" xlink:href=\"#DejaVuSans-35\"/>\n       <use x=\"127.246094\" xlink:href=\"#DejaVuSans-30\"/>\n       <use x=\"190.869141\" xlink:href=\"#DejaVuSans-30\"/>\n      </g>\n     </g>\n    </g>\n    <g id=\"ytick_8\">\n     <g id=\"line2d_16\">\n      <g>\n       <use style=\"stroke:#000000;stroke-width:0.8;\" x=\"53.328125\" xlink:href=\"#m9a5deefc14\" y=\"61.220508\"/>\n      </g>\n     </g>\n     <g id=\"text_17\">\n      <!-- 1750 -->\n      <g transform=\"translate(20.878125 65.019726)scale(0.1 -0.1)\">\n       <use xlink:href=\"#DejaVuSans-31\"/>\n       <use x=\"63.623047\" xlink:href=\"#DejaVuSans-37\"/>\n       <use x=\"127.246094\" xlink:href=\"#DejaVuSans-35\"/>\n       <use x=\"190.869141\" xlink:href=\"#DejaVuSans-30\"/>\n      </g>\n     </g>\n    </g>\n    <g id=\"ytick_9\">\n     <g id=\"line2d_17\">\n      <g>\n       <use style=\"stroke:#000000;stroke-width:0.8;\" x=\"53.328125\" xlink:href=\"#m9a5deefc14\" y=\"25.023437\"/>\n      </g>\n     </g>\n     <g id=\"text_18\">\n      <!-- 2000 -->\n      <g transform=\"translate(20.878125 28.822656)scale(0.1 -0.1)\">\n       <use xlink:href=\"#DejaVuSans-32\"/>\n       <use x=\"63.623047\" xlink:href=\"#DejaVuSans-30\"/>\n       <use x=\"127.246094\" xlink:href=\"#DejaVuSans-30\"/>\n       <use x=\"190.869141\" xlink:href=\"#DejaVuSans-30\"/>\n      </g>\n     </g>\n    </g>\n    <g id=\"text_19\">\n     <!-- Count -->\n     <g transform=\"translate(14.798438 175.748437)rotate(-90)scale(0.1 -0.1)\">\n      <defs>\n       <path d=\"M 4122 4306 \nL 4122 3641 \nQ 3803 3938 3442 4084 \nQ 3081 4231 2675 4231 \nQ 1875 4231 1450 3742 \nQ 1025 3253 1025 2328 \nQ 1025 1406 1450 917 \nQ 1875 428 2675 428 \nQ 3081 428 3442 575 \nQ 3803 722 4122 1019 \nL 4122 359 \nQ 3791 134 3420 21 \nQ 3050 -91 2638 -91 \nQ 1578 -91 968 557 \nQ 359 1206 359 2328 \nQ 359 3453 968 4101 \nQ 1578 4750 2638 4750 \nQ 3056 4750 3426 4639 \nQ 3797 4528 4122 4306 \nz\n\" id=\"DejaVuSans-43\" transform=\"scale(0.015625)\"/>\n       <path d=\"M 1959 3097 \nQ 1497 3097 1228 2736 \nQ 959 2375 959 1747 \nQ 959 1119 1226 758 \nQ 1494 397 1959 397 \nQ 2419 397 2687 759 \nQ 2956 1122 2956 1747 \nQ 2956 2369 2687 2733 \nQ 2419 3097 1959 3097 \nz\nM 1959 3584 \nQ 2709 3584 3137 3096 \nQ 3566 2609 3566 1747 \nQ 3566 888 3137 398 \nQ 2709 -91 1959 -91 \nQ 1206 -91 779 398 \nQ 353 888 353 1747 \nQ 353 2609 779 3096 \nQ 1206 3584 1959 3584 \nz\n\" id=\"DejaVuSans-6f\" transform=\"scale(0.015625)\"/>\n       <path d=\"M 544 1381 \nL 544 3500 \nL 1119 3500 \nL 1119 1403 \nQ 1119 906 1312 657 \nQ 1506 409 1894 409 \nQ 2359 409 2629 706 \nQ 2900 1003 2900 1516 \nL 2900 3500 \nL 3475 3500 \nL 3475 0 \nL 2900 0 \nL 2900 538 \nQ 2691 219 2414 64 \nQ 2138 -91 1772 -91 \nQ 1169 -91 856 284 \nQ 544 659 544 1381 \nz\nM 1991 3584 \nL 1991 3584 \nz\n\" id=\"DejaVuSans-75\" transform=\"scale(0.015625)\"/>\n      </defs>\n      <use xlink:href=\"#DejaVuSans-43\"/>\n      <use x=\"69.824219\" xlink:href=\"#DejaVuSans-6f\"/>\n      <use x=\"131.005859\" xlink:href=\"#DejaVuSans-75\"/>\n      <use x=\"194.384766\" xlink:href=\"#DejaVuSans-6e\"/>\n      <use x=\"257.763672\" xlink:href=\"#DejaVuSans-74\"/>\n     </g>\n    </g>\n   </g>\n   <g id=\"patch_23\">\n    <path d=\"M 53.328125 314.6 \nL 53.328125 7.2 \n\" style=\"fill:none;stroke:#000000;stroke-linecap:square;stroke-linejoin:miter;stroke-width:0.8;\"/>\n   </g>\n   <g id=\"patch_24\">\n    <path d=\"M 53.328125 314.6 \nL 345.353125 314.6 \n\" style=\"fill:none;stroke:#000000;stroke-linecap:square;stroke-linejoin:miter;stroke-width:0.8;\"/>\n   </g>\n  </g>\n </g>\n <defs>\n  <clipPath id=\"p16d050c520\">\n   <rect height=\"307.4\" width=\"292.025\" x=\"53.328125\" y=\"7.2\"/>\n  </clipPath>\n </defs>\n</svg>\n",
      "image/png": "[encoded data removed]"
     },
     "metadata": {
      "needs_background": "light"
     }
    }
   ],
   "source": [
    "sns.displot(df, x='Length', bins=20)"
   ]
  },
  {
   "cell_type": "code",
   "execution_count": 60,
   "metadata": {},
   "outputs": [
    {
     "output_type": "execute_result",
     "data": {
      "text/plain": [
       "count      2200.000000\n",
       "mean       3700.394545\n",
       "std        8867.133667\n",
       "min         109.000000\n",
       "25%         920.750000\n",
       "50%        1760.500000\n",
       "75%        3165.500000\n",
       "max      150898.000000\n",
       "Name: Length, dtype: float64"
      ]
     },
     "metadata": {},
     "execution_count": 60
    }
   ],
   "source": [
    "# Verificando se todas as páginas srealmente têm conteúdo\n",
    "df['Length'].describe()"
   ]
  },
  {
   "source": [
    "## Fix downloaded text\n",
    "\n",
    "- It was stored in the documents the whole structure of the answer\n",
    "- It should store only the ext"
   ],
   "cell_type": "markdown",
   "metadata": {}
  },
  {
   "cell_type": "code",
   "execution_count": 109,
   "metadata": {},
   "outputs": [],
   "source": [
    "pcs = list(mongo_content.find({}))\n",
    "for pc in pcs:\n",
    "    mongo_content.update_one(\n",
    "        { 'pageid': pc['pageid'] },\n",
    "        { '$set': { 'text': pc['text']['parse']['text'] } }\n",
    "    )"
   ]
  },
  {
   "source": [
    "### Análise text"
   ],
   "cell_type": "markdown",
   "metadata": {}
  },
  {
   "cell_type": "code",
   "execution_count": 110,
   "metadata": {},
   "outputs": [],
   "source": [
    "pcs = list(mongo_content.find({}))"
   ]
  },
  {
   "cell_type": "code",
   "execution_count": 111,
   "metadata": {},
   "outputs": [
    {
     "output_type": "execute_result",
     "data": {
      "text/plain": [
       "   Length\n",
       "0  140685\n",
       "1   33027\n",
       "2   46988\n",
       "3   34210\n",
       "4   35169"
      ],
      "text/html": "<div>\n<style scoped>\n    .dataframe tbody tr th:only-of-type {\n        vertical-align: middle;\n    }\n\n    .dataframe tbody tr th {\n        vertical-align: top;\n    }\n\n    .dataframe thead th {\n        text-align: right;\n    }\n</style>\n<table border=\"1\" class=\"dataframe\">\n  <thead>\n    <tr style=\"text-align: right;\">\n      <th></th>\n      <th>Length</th>\n    </tr>\n  </thead>\n  <tbody>\n    <tr>\n      <th>0</th>\n      <td>140685</td>\n    </tr>\n    <tr>\n      <th>1</th>\n      <td>33027</td>\n    </tr>\n    <tr>\n      <th>2</th>\n      <td>46988</td>\n    </tr>\n    <tr>\n      <th>3</th>\n      <td>34210</td>\n    </tr>\n    <tr>\n      <th>4</th>\n      <td>35169</td>\n    </tr>\n  </tbody>\n</table>\n</div>"
     },
     "metadata": {},
     "execution_count": 111
    }
   ],
   "source": [
    "lengths_text = [len(pc['text']) for pc in pcs]\n",
    "df = pd.DataFrame(lengths_text, columns=['Length'])\n",
    "df.head()"
   ]
  },
  {
   "cell_type": "code",
   "execution_count": 112,
   "metadata": {},
   "outputs": [
    {
     "output_type": "execute_result",
     "data": {
      "text/plain": [
       "<seaborn.axisgrid.FacetGrid at 0x7f023bb24f40>"
      ]
     },
     "metadata": {},
     "execution_count": 112
    },
    {
     "output_type": "display_data",
     "data": {
      "text/plain": "<Figure size 360x360 with 1 Axes>",
      "image/svg+xml": "<?xml version=\"1.0\" encoding=\"utf-8\" standalone=\"no\"?>\n<!DOCTYPE svg PUBLIC \"-//W3C//DTD SVG 1.1//EN\"\n  \"http://www.w3.org/Graphics/SVG/1.1/DTD/svg11.dtd\">\n<svg height=\"352.15625pt\" version=\"1.1\" viewBox=\"0 0 352.678125 352.15625\" width=\"352.678125pt\" xmlns=\"http://www.w3.org/2000/svg\" xmlns:xlink=\"http://www.w3.org/1999/xlink\">\n <metadata>\n  <rdf:RDF xmlns:cc=\"http://creativecommons.org/ns#\" xmlns:dc=\"http://purl.org/dc/elements/1.1/\" xmlns:rdf=\"http://www.w3.org/1999/02/22-rdf-syntax-ns#\">\n   <cc:Work>\n    <dc:type rdf:resource=\"http://purl.org/dc/dcmitype/StillImage\"/>\n    <dc:date>2021-06-14T12:06:29.703358</dc:date>\n    <dc:format>image/svg+xml</dc:format>\n    <dc:creator>\n     <cc:Agent>\n      <dc:title>Matplotlib v3.4.2, https://matplotlib.org/</dc:title>\n     </cc:Agent>\n    </dc:creator>\n   </cc:Work>\n  </rdf:RDF>\n </metadata>\n <defs>\n  <style type=\"text/css\">*{stroke-linecap:butt;stroke-linejoin:round;}</style>\n </defs>\n <g id=\"figure_1\">\n  <g id=\"patch_1\">\n   <path d=\"M -0 352.15625 \nL 352.678125 352.15625 \nL 352.678125 0 \nL -0 0 \nz\n\" style=\"fill:none;\"/>\n  </g>\n  <g id=\"axes_1\">\n   <g id=\"patch_2\">\n    <path d=\"M 53.328125 314.6 \nL 345.478125 314.6 \nL 345.478125 7.2 \nL 53.328125 7.2 \nz\n\" style=\"fill:#ffffff;\"/>\n   </g>\n   <g id=\"patch_3\">\n    <path clip-path=\"url(#pb5df2e783b)\" d=\"M 66.60767 314.6 \nL 79.887216 314.6 \nL 79.887216 21.838095 \nL 66.60767 21.838095 \nz\n\" style=\"fill:#1f77b4;fill-opacity:0.75;stroke:#000000;stroke-linejoin:miter;\"/>\n   </g>\n   <g id=\"patch_4\">\n    <path clip-path=\"url(#pb5df2e783b)\" d=\"M 79.887216 314.6 \nL 93.166761 314.6 \nL 93.166761 209.530167 \nL 79.887216 209.530167 \nz\n\" style=\"fill:#1f77b4;fill-opacity:0.75;stroke:#000000;stroke-linejoin:miter;\"/>\n   </g>\n   <g id=\"patch_5\">\n    <path clip-path=\"url(#pb5df2e783b)\" d=\"M 93.166761 314.6 \nL 106.446307 314.6 \nL 106.446307 297.056922 \nL 93.166761 297.056922 \nz\n\" style=\"fill:#1f77b4;fill-opacity:0.75;stroke:#000000;stroke-linejoin:miter;\"/>\n   </g>\n   <g id=\"patch_6\">\n    <path clip-path=\"url(#pb5df2e783b)\" d=\"M 106.446307 314.6 \nL 119.725852 314.6 \nL 119.725852 310.261389 \nL 106.446307 310.261389 \nz\n\" style=\"fill:#1f77b4;fill-opacity:0.75;stroke:#000000;stroke-linejoin:miter;\"/>\n   </g>\n   <g id=\"patch_7\">\n    <path clip-path=\"url(#pb5df2e783b)\" d=\"M 119.725852 314.6 \nL 133.005398 314.6 \nL 133.005398 312.147742 \nL 119.725852 312.147742 \nz\n\" style=\"fill:#1f77b4;fill-opacity:0.75;stroke:#000000;stroke-linejoin:miter;\"/>\n   </g>\n   <g id=\"patch_8\">\n    <path clip-path=\"url(#pb5df2e783b)\" d=\"M 133.005398 314.6 \nL 146.284943 314.6 \nL 146.284943 313.468189 \nL 133.005398 313.468189 \nz\n\" style=\"fill:#1f77b4;fill-opacity:0.75;stroke:#000000;stroke-linejoin:miter;\"/>\n   </g>\n   <g id=\"patch_9\">\n    <path clip-path=\"url(#pb5df2e783b)\" d=\"M 146.284943 314.6 \nL 159.564489 314.6 \nL 159.564489 314.411365 \nL 146.284943 314.411365 \nz\n\" style=\"fill:#1f77b4;fill-opacity:0.75;stroke:#000000;stroke-linejoin:miter;\"/>\n   </g>\n   <g id=\"patch_10\">\n    <path clip-path=\"url(#pb5df2e783b)\" d=\"M 159.564489 314.6 \nL 172.844034 314.6 \nL 172.844034 314.411365 \nL 159.564489 314.411365 \nz\n\" style=\"fill:#1f77b4;fill-opacity:0.75;stroke:#000000;stroke-linejoin:miter;\"/>\n   </g>\n   <g id=\"patch_11\">\n    <path clip-path=\"url(#pb5df2e783b)\" d=\"M 172.844034 314.6 \nL 186.12358 314.6 \nL 186.12358 314.411365 \nL 172.844034 314.411365 \nz\n\" style=\"fill:#1f77b4;fill-opacity:0.75;stroke:#000000;stroke-linejoin:miter;\"/>\n   </g>\n   <g id=\"patch_12\">\n    <path clip-path=\"url(#pb5df2e783b)\" d=\"M 186.12358 314.6 \nL 199.403125 314.6 \nL 199.403125 314.411365 \nL 186.12358 314.411365 \nz\n\" style=\"fill:#1f77b4;fill-opacity:0.75;stroke:#000000;stroke-linejoin:miter;\"/>\n   </g>\n   <g id=\"patch_13\">\n    <path clip-path=\"url(#pb5df2e783b)\" d=\"M 199.403125 314.6 \nL 212.68267 314.6 \nL 212.68267 314.6 \nL 199.403125 314.6 \nz\n\" style=\"fill:#1f77b4;fill-opacity:0.75;stroke:#000000;stroke-linejoin:miter;\"/>\n   </g>\n   <g id=\"patch_14\">\n    <path clip-path=\"url(#pb5df2e783b)\" d=\"M 212.68267 314.6 \nL 225.962216 314.6 \nL 225.962216 314.6 \nL 212.68267 314.6 \nz\n\" style=\"fill:#1f77b4;fill-opacity:0.75;stroke:#000000;stroke-linejoin:miter;\"/>\n   </g>\n   <g id=\"patch_15\">\n    <path clip-path=\"url(#pb5df2e783b)\" d=\"M 225.962216 314.6 \nL 239.241761 314.6 \nL 239.241761 314.411365 \nL 225.962216 314.411365 \nz\n\" style=\"fill:#1f77b4;fill-opacity:0.75;stroke:#000000;stroke-linejoin:miter;\"/>\n   </g>\n   <g id=\"patch_16\">\n    <path clip-path=\"url(#pb5df2e783b)\" d=\"M 239.241761 314.6 \nL 252.521307 314.6 \nL 252.521307 314.6 \nL 239.241761 314.6 \nz\n\" style=\"fill:#1f77b4;fill-opacity:0.75;stroke:#000000;stroke-linejoin:miter;\"/>\n   </g>\n   <g id=\"patch_17\">\n    <path clip-path=\"url(#pb5df2e783b)\" d=\"M 252.521307 314.6 \nL 265.800852 314.6 \nL 265.800852 314.411365 \nL 252.521307 314.411365 \nz\n\" style=\"fill:#1f77b4;fill-opacity:0.75;stroke:#000000;stroke-linejoin:miter;\"/>\n   </g>\n   <g id=\"patch_18\">\n    <path clip-path=\"url(#pb5df2e783b)\" d=\"M 265.800852 314.6 \nL 279.080398 314.6 \nL 279.080398 314.411365 \nL 265.800852 314.411365 \nz\n\" style=\"fill:#1f77b4;fill-opacity:0.75;stroke:#000000;stroke-linejoin:miter;\"/>\n   </g>\n   <g id=\"patch_19\">\n    <path clip-path=\"url(#pb5df2e783b)\" d=\"M 279.080398 314.6 \nL 292.359943 314.6 \nL 292.359943 314.6 \nL 279.080398 314.6 \nz\n\" style=\"fill:#1f77b4;fill-opacity:0.75;stroke:#000000;stroke-linejoin:miter;\"/>\n   </g>\n   <g id=\"patch_20\">\n    <path clip-path=\"url(#pb5df2e783b)\" d=\"M 292.359943 314.6 \nL 305.639489 314.6 \nL 305.639489 314.6 \nL 292.359943 314.6 \nz\n\" style=\"fill:#1f77b4;fill-opacity:0.75;stroke:#000000;stroke-linejoin:miter;\"/>\n   </g>\n   <g id=\"patch_21\">\n    <path clip-path=\"url(#pb5df2e783b)\" d=\"M 305.639489 314.6 \nL 318.919034 314.6 \nL 318.919034 314.6 \nL 305.639489 314.6 \nz\n\" style=\"fill:#1f77b4;fill-opacity:0.75;stroke:#000000;stroke-linejoin:miter;\"/>\n   </g>\n   <g id=\"patch_22\">\n    <path clip-path=\"url(#pb5df2e783b)\" d=\"M 318.919034 314.6 \nL 332.19858 314.6 \nL 332.19858 314.411365 \nL 318.919034 314.411365 \nz\n\" style=\"fill:#1f77b4;fill-opacity:0.75;stroke:#000000;stroke-linejoin:miter;\"/>\n   </g>\n   <g id=\"matplotlib.axis_1\">\n    <g id=\"xtick_1\">\n     <g id=\"line2d_1\">\n      <defs>\n       <path d=\"M 0 0 \nL 0 3.5 \n\" id=\"mae1cbf834f\" style=\"stroke:#000000;stroke-width:0.8;\"/>\n      </defs>\n      <g>\n       <use style=\"stroke:#000000;stroke-width:0.8;\" x=\"66.325629\" xlink:href=\"#mae1cbf834f\" y=\"314.6\"/>\n      </g>\n     </g>\n     <g id=\"text_1\">\n      <!-- 0 -->\n      <g transform=\"translate(63.144379 329.198437)scale(0.1 -0.1)\">\n       <defs>\n        <path d=\"M 2034 4250 \nQ 1547 4250 1301 3770 \nQ 1056 3291 1056 2328 \nQ 1056 1369 1301 889 \nQ 1547 409 2034 409 \nQ 2525 409 2770 889 \nQ 3016 1369 3016 2328 \nQ 3016 3291 2770 3770 \nQ 2525 4250 2034 4250 \nz\nM 2034 4750 \nQ 2819 4750 3233 4129 \nQ 3647 3509 3647 2328 \nQ 3647 1150 3233 529 \nQ 2819 -91 2034 -91 \nQ 1250 -91 836 529 \nQ 422 1150 422 2328 \nQ 422 3509 836 4129 \nQ 1250 4750 2034 4750 \nz\n\" id=\"DejaVuSans-30\" transform=\"scale(0.015625)\"/>\n       </defs>\n       <use xlink:href=\"#DejaVuSans-30\"/>\n      </g>\n     </g>\n    </g>\n    <g id=\"xtick_2\">\n     <g id=\"line2d_2\">\n      <g>\n       <use style=\"stroke:#000000;stroke-width:0.8;\" x=\"101.624934\" xlink:href=\"#mae1cbf834f\" y=\"314.6\"/>\n      </g>\n     </g>\n     <g id=\"text_2\">\n      <!-- 100000 -->\n      <g transform=\"translate(82.537434 329.198437)scale(0.1 -0.1)\">\n       <defs>\n        <path d=\"M 794 531 \nL 1825 531 \nL 1825 4091 \nL 703 3866 \nL 703 4441 \nL 1819 4666 \nL 2450 4666 \nL 2450 531 \nL 3481 531 \nL 3481 0 \nL 794 0 \nL 794 531 \nz\n\" id=\"DejaVuSans-31\" transform=\"scale(0.015625)\"/>\n       </defs>\n       <use xlink:href=\"#DejaVuSans-31\"/>\n       <use x=\"63.623047\" xlink:href=\"#DejaVuSans-30\"/>\n       <use x=\"127.246094\" xlink:href=\"#DejaVuSans-30\"/>\n       <use x=\"190.869141\" xlink:href=\"#DejaVuSans-30\"/>\n       <use x=\"254.492188\" xlink:href=\"#DejaVuSans-30\"/>\n       <use x=\"318.115234\" xlink:href=\"#DejaVuSans-30\"/>\n      </g>\n     </g>\n    </g>\n    <g id=\"xtick_3\">\n     <g id=\"line2d_3\">\n      <g>\n       <use style=\"stroke:#000000;stroke-width:0.8;\" x=\"136.924238\" xlink:href=\"#mae1cbf834f\" y=\"314.6\"/>\n      </g>\n     </g>\n     <g id=\"text_3\">\n      <!-- 200000 -->\n      <g transform=\"translate(117.836738 329.198437)scale(0.1 -0.1)\">\n       <defs>\n        <path d=\"M 1228 531 \nL 3431 531 \nL 3431 0 \nL 469 0 \nL 469 531 \nQ 828 903 1448 1529 \nQ 2069 2156 2228 2338 \nQ 2531 2678 2651 2914 \nQ 2772 3150 2772 3378 \nQ 2772 3750 2511 3984 \nQ 2250 4219 1831 4219 \nQ 1534 4219 1204 4116 \nQ 875 4013 500 3803 \nL 500 4441 \nQ 881 4594 1212 4672 \nQ 1544 4750 1819 4750 \nQ 2544 4750 2975 4387 \nQ 3406 4025 3406 3419 \nQ 3406 3131 3298 2873 \nQ 3191 2616 2906 2266 \nQ 2828 2175 2409 1742 \nQ 1991 1309 1228 531 \nz\n\" id=\"DejaVuSans-32\" transform=\"scale(0.015625)\"/>\n       </defs>\n       <use xlink:href=\"#DejaVuSans-32\"/>\n       <use x=\"63.623047\" xlink:href=\"#DejaVuSans-30\"/>\n       <use x=\"127.246094\" xlink:href=\"#DejaVuSans-30\"/>\n       <use x=\"190.869141\" xlink:href=\"#DejaVuSans-30\"/>\n       <use x=\"254.492188\" xlink:href=\"#DejaVuSans-30\"/>\n       <use x=\"318.115234\" xlink:href=\"#DejaVuSans-30\"/>\n      </g>\n     </g>\n    </g>\n    <g id=\"xtick_4\">\n     <g id=\"line2d_4\">\n      <g>\n       <use style=\"stroke:#000000;stroke-width:0.8;\" x=\"172.223543\" xlink:href=\"#mae1cbf834f\" y=\"314.6\"/>\n      </g>\n     </g>\n     <g id=\"text_4\">\n      <!-- 300000 -->\n      <g transform=\"translate(153.136043 329.198437)scale(0.1 -0.1)\">\n       <defs>\n        <path d=\"M 2597 2516 \nQ 3050 2419 3304 2112 \nQ 3559 1806 3559 1356 \nQ 3559 666 3084 287 \nQ 2609 -91 1734 -91 \nQ 1441 -91 1130 -33 \nQ 819 25 488 141 \nL 488 750 \nQ 750 597 1062 519 \nQ 1375 441 1716 441 \nQ 2309 441 2620 675 \nQ 2931 909 2931 1356 \nQ 2931 1769 2642 2001 \nQ 2353 2234 1838 2234 \nL 1294 2234 \nL 1294 2753 \nL 1863 2753 \nQ 2328 2753 2575 2939 \nQ 2822 3125 2822 3475 \nQ 2822 3834 2567 4026 \nQ 2313 4219 1838 4219 \nQ 1578 4219 1281 4162 \nQ 984 4106 628 3988 \nL 628 4550 \nQ 988 4650 1302 4700 \nQ 1616 4750 1894 4750 \nQ 2613 4750 3031 4423 \nQ 3450 4097 3450 3541 \nQ 3450 3153 3228 2886 \nQ 3006 2619 2597 2516 \nz\n\" id=\"DejaVuSans-33\" transform=\"scale(0.015625)\"/>\n       </defs>\n       <use xlink:href=\"#DejaVuSans-33\"/>\n       <use x=\"63.623047\" xlink:href=\"#DejaVuSans-30\"/>\n       <use x=\"127.246094\" xlink:href=\"#DejaVuSans-30\"/>\n       <use x=\"190.869141\" xlink:href=\"#DejaVuSans-30\"/>\n       <use x=\"254.492188\" xlink:href=\"#DejaVuSans-30\"/>\n       <use x=\"318.115234\" xlink:href=\"#DejaVuSans-30\"/>\n      </g>\n     </g>\n    </g>\n    <g id=\"xtick_5\">\n     <g id=\"line2d_5\">\n      <g>\n       <use style=\"stroke:#000000;stroke-width:0.8;\" x=\"207.522848\" xlink:href=\"#mae1cbf834f\" y=\"314.6\"/>\n      </g>\n     </g>\n     <g id=\"text_5\">\n      <!-- 400000 -->\n      <g transform=\"translate(188.435348 329.198437)scale(0.1 -0.1)\">\n       <defs>\n        <path d=\"M 2419 4116 \nL 825 1625 \nL 2419 1625 \nL 2419 4116 \nz\nM 2253 4666 \nL 3047 4666 \nL 3047 1625 \nL 3713 1625 \nL 3713 1100 \nL 3047 1100 \nL 3047 0 \nL 2419 0 \nL 2419 1100 \nL 313 1100 \nL 313 1709 \nL 2253 4666 \nz\n\" id=\"DejaVuSans-34\" transform=\"scale(0.015625)\"/>\n       </defs>\n       <use xlink:href=\"#DejaVuSans-34\"/>\n       <use x=\"63.623047\" xlink:href=\"#DejaVuSans-30\"/>\n       <use x=\"127.246094\" xlink:href=\"#DejaVuSans-30\"/>\n       <use x=\"190.869141\" xlink:href=\"#DejaVuSans-30\"/>\n       <use x=\"254.492188\" xlink:href=\"#DejaVuSans-30\"/>\n       <use x=\"318.115234\" xlink:href=\"#DejaVuSans-30\"/>\n      </g>\n     </g>\n    </g>\n    <g id=\"xtick_6\">\n     <g id=\"line2d_6\">\n      <g>\n       <use style=\"stroke:#000000;stroke-width:0.8;\" x=\"242.822152\" xlink:href=\"#mae1cbf834f\" y=\"314.6\"/>\n      </g>\n     </g>\n     <g id=\"text_6\">\n      <!-- 500000 -->\n      <g transform=\"translate(223.734652 329.198437)scale(0.1 -0.1)\">\n       <defs>\n        <path d=\"M 691 4666 \nL 3169 4666 \nL 3169 4134 \nL 1269 4134 \nL 1269 2991 \nQ 1406 3038 1543 3061 \nQ 1681 3084 1819 3084 \nQ 2600 3084 3056 2656 \nQ 3513 2228 3513 1497 \nQ 3513 744 3044 326 \nQ 2575 -91 1722 -91 \nQ 1428 -91 1123 -41 \nQ 819 9 494 109 \nL 494 744 \nQ 775 591 1075 516 \nQ 1375 441 1709 441 \nQ 2250 441 2565 725 \nQ 2881 1009 2881 1497 \nQ 2881 1984 2565 2268 \nQ 2250 2553 1709 2553 \nQ 1456 2553 1204 2497 \nQ 953 2441 691 2322 \nL 691 4666 \nz\n\" id=\"DejaVuSans-35\" transform=\"scale(0.015625)\"/>\n       </defs>\n       <use xlink:href=\"#DejaVuSans-35\"/>\n       <use x=\"63.623047\" xlink:href=\"#DejaVuSans-30\"/>\n       <use x=\"127.246094\" xlink:href=\"#DejaVuSans-30\"/>\n       <use x=\"190.869141\" xlink:href=\"#DejaVuSans-30\"/>\n       <use x=\"254.492188\" xlink:href=\"#DejaVuSans-30\"/>\n       <use x=\"318.115234\" xlink:href=\"#DejaVuSans-30\"/>\n      </g>\n     </g>\n    </g>\n    <g id=\"xtick_7\">\n     <g id=\"line2d_7\">\n      <g>\n       <use style=\"stroke:#000000;stroke-width:0.8;\" x=\"278.121457\" xlink:href=\"#mae1cbf834f\" y=\"314.6\"/>\n      </g>\n     </g>\n     <g id=\"text_7\">\n      <!-- 600000 -->\n      <g transform=\"translate(259.033957 329.198437)scale(0.1 -0.1)\">\n       <defs>\n        <path d=\"M 2113 2584 \nQ 1688 2584 1439 2293 \nQ 1191 2003 1191 1497 \nQ 1191 994 1439 701 \nQ 1688 409 2113 409 \nQ 2538 409 2786 701 \nQ 3034 994 3034 1497 \nQ 3034 2003 2786 2293 \nQ 2538 2584 2113 2584 \nz\nM 3366 4563 \nL 3366 3988 \nQ 3128 4100 2886 4159 \nQ 2644 4219 2406 4219 \nQ 1781 4219 1451 3797 \nQ 1122 3375 1075 2522 \nQ 1259 2794 1537 2939 \nQ 1816 3084 2150 3084 \nQ 2853 3084 3261 2657 \nQ 3669 2231 3669 1497 \nQ 3669 778 3244 343 \nQ 2819 -91 2113 -91 \nQ 1303 -91 875 529 \nQ 447 1150 447 2328 \nQ 447 3434 972 4092 \nQ 1497 4750 2381 4750 \nQ 2619 4750 2861 4703 \nQ 3103 4656 3366 4563 \nz\n\" id=\"DejaVuSans-36\" transform=\"scale(0.015625)\"/>\n       </defs>\n       <use xlink:href=\"#DejaVuSans-36\"/>\n       <use x=\"63.623047\" xlink:href=\"#DejaVuSans-30\"/>\n       <use x=\"127.246094\" xlink:href=\"#DejaVuSans-30\"/>\n       <use x=\"190.869141\" xlink:href=\"#DejaVuSans-30\"/>\n       <use x=\"254.492188\" xlink:href=\"#DejaVuSans-30\"/>\n       <use x=\"318.115234\" xlink:href=\"#DejaVuSans-30\"/>\n      </g>\n     </g>\n    </g>\n    <g id=\"xtick_8\">\n     <g id=\"line2d_8\">\n      <g>\n       <use style=\"stroke:#000000;stroke-width:0.8;\" x=\"313.420761\" xlink:href=\"#mae1cbf834f\" y=\"314.6\"/>\n      </g>\n     </g>\n     <g id=\"text_8\">\n      <!-- 700000 -->\n      <g transform=\"translate(294.333261 329.198437)scale(0.1 -0.1)\">\n       <defs>\n        <path d=\"M 525 4666 \nL 3525 4666 \nL 3525 4397 \nL 1831 0 \nL 1172 0 \nL 2766 4134 \nL 525 4134 \nL 525 4666 \nz\n\" id=\"DejaVuSans-37\" transform=\"scale(0.015625)\"/>\n       </defs>\n       <use xlink:href=\"#DejaVuSans-37\"/>\n       <use x=\"63.623047\" xlink:href=\"#DejaVuSans-30\"/>\n       <use x=\"127.246094\" xlink:href=\"#DejaVuSans-30\"/>\n       <use x=\"190.869141\" xlink:href=\"#DejaVuSans-30\"/>\n       <use x=\"254.492188\" xlink:href=\"#DejaVuSans-30\"/>\n       <use x=\"318.115234\" xlink:href=\"#DejaVuSans-30\"/>\n      </g>\n     </g>\n    </g>\n    <g id=\"text_9\">\n     <!-- Length -->\n     <g transform=\"translate(182.15625 342.876562)scale(0.1 -0.1)\">\n      <defs>\n       <path d=\"M 628 4666 \nL 1259 4666 \nL 1259 531 \nL 3531 531 \nL 3531 0 \nL 628 0 \nL 628 4666 \nz\n\" id=\"DejaVuSans-4c\" transform=\"scale(0.015625)\"/>\n       <path d=\"M 3597 1894 \nL 3597 1613 \nL 953 1613 \nQ 991 1019 1311 708 \nQ 1631 397 2203 397 \nQ 2534 397 2845 478 \nQ 3156 559 3463 722 \nL 3463 178 \nQ 3153 47 2828 -22 \nQ 2503 -91 2169 -91 \nQ 1331 -91 842 396 \nQ 353 884 353 1716 \nQ 353 2575 817 3079 \nQ 1281 3584 2069 3584 \nQ 2775 3584 3186 3129 \nQ 3597 2675 3597 1894 \nz\nM 3022 2063 \nQ 3016 2534 2758 2815 \nQ 2500 3097 2075 3097 \nQ 1594 3097 1305 2825 \nQ 1016 2553 972 2059 \nL 3022 2063 \nz\n\" id=\"DejaVuSans-65\" transform=\"scale(0.015625)\"/>\n       <path d=\"M 3513 2113 \nL 3513 0 \nL 2938 0 \nL 2938 2094 \nQ 2938 2591 2744 2837 \nQ 2550 3084 2163 3084 \nQ 1697 3084 1428 2787 \nQ 1159 2491 1159 1978 \nL 1159 0 \nL 581 0 \nL 581 3500 \nL 1159 3500 \nL 1159 2956 \nQ 1366 3272 1645 3428 \nQ 1925 3584 2291 3584 \nQ 2894 3584 3203 3211 \nQ 3513 2838 3513 2113 \nz\n\" id=\"DejaVuSans-6e\" transform=\"scale(0.015625)\"/>\n       <path d=\"M 2906 1791 \nQ 2906 2416 2648 2759 \nQ 2391 3103 1925 3103 \nQ 1463 3103 1205 2759 \nQ 947 2416 947 1791 \nQ 947 1169 1205 825 \nQ 1463 481 1925 481 \nQ 2391 481 2648 825 \nQ 2906 1169 2906 1791 \nz\nM 3481 434 \nQ 3481 -459 3084 -895 \nQ 2688 -1331 1869 -1331 \nQ 1566 -1331 1297 -1286 \nQ 1028 -1241 775 -1147 \nL 775 -588 \nQ 1028 -725 1275 -790 \nQ 1522 -856 1778 -856 \nQ 2344 -856 2625 -561 \nQ 2906 -266 2906 331 \nL 2906 616 \nQ 2728 306 2450 153 \nQ 2172 0 1784 0 \nQ 1141 0 747 490 \nQ 353 981 353 1791 \nQ 353 2603 747 3093 \nQ 1141 3584 1784 3584 \nQ 2172 3584 2450 3431 \nQ 2728 3278 2906 2969 \nL 2906 3500 \nL 3481 3500 \nL 3481 434 \nz\n\" id=\"DejaVuSans-67\" transform=\"scale(0.015625)\"/>\n       <path d=\"M 1172 4494 \nL 1172 3500 \nL 2356 3500 \nL 2356 3053 \nL 1172 3053 \nL 1172 1153 \nQ 1172 725 1289 603 \nQ 1406 481 1766 481 \nL 2356 481 \nL 2356 0 \nL 1766 0 \nQ 1100 0 847 248 \nQ 594 497 594 1153 \nL 594 3053 \nL 172 3053 \nL 172 3500 \nL 594 3500 \nL 594 4494 \nL 1172 4494 \nz\n\" id=\"DejaVuSans-74\" transform=\"scale(0.015625)\"/>\n       <path d=\"M 3513 2113 \nL 3513 0 \nL 2938 0 \nL 2938 2094 \nQ 2938 2591 2744 2837 \nQ 2550 3084 2163 3084 \nQ 1697 3084 1428 2787 \nQ 1159 2491 1159 1978 \nL 1159 0 \nL 581 0 \nL 581 4863 \nL 1159 4863 \nL 1159 2956 \nQ 1366 3272 1645 3428 \nQ 1925 3584 2291 3584 \nQ 2894 3584 3203 3211 \nQ 3513 2838 3513 2113 \nz\n\" id=\"DejaVuSans-68\" transform=\"scale(0.015625)\"/>\n      </defs>\n      <use xlink:href=\"#DejaVuSans-4c\"/>\n      <use x=\"53.962891\" xlink:href=\"#DejaVuSans-65\"/>\n      <use x=\"115.486328\" xlink:href=\"#DejaVuSans-6e\"/>\n      <use x=\"178.865234\" xlink:href=\"#DejaVuSans-67\"/>\n      <use x=\"242.341797\" xlink:href=\"#DejaVuSans-74\"/>\n      <use x=\"281.550781\" xlink:href=\"#DejaVuSans-68\"/>\n     </g>\n    </g>\n   </g>\n   <g id=\"matplotlib.axis_2\">\n    <g id=\"ytick_1\">\n     <g id=\"line2d_9\">\n      <defs>\n       <path d=\"M 0 0 \nL -3.5 0 \n\" id=\"mc3f4822c92\" style=\"stroke:#000000;stroke-width:0.8;\"/>\n      </defs>\n      <g>\n       <use style=\"stroke:#000000;stroke-width:0.8;\" x=\"53.328125\" xlink:href=\"#mc3f4822c92\" y=\"314.6\"/>\n      </g>\n     </g>\n     <g id=\"text_10\">\n      <!-- 0 -->\n      <g transform=\"translate(39.965625 318.399219)scale(0.1 -0.1)\">\n       <use xlink:href=\"#DejaVuSans-30\"/>\n      </g>\n     </g>\n    </g>\n    <g id=\"ytick_2\">\n     <g id=\"line2d_10\">\n      <g>\n       <use style=\"stroke:#000000;stroke-width:0.8;\" x=\"53.328125\" xlink:href=\"#mc3f4822c92\" y=\"276.87295\"/>\n      </g>\n     </g>\n     <g id=\"text_11\">\n      <!-- 200 -->\n      <g transform=\"translate(27.240625 280.672169)scale(0.1 -0.1)\">\n       <use xlink:href=\"#DejaVuSans-32\"/>\n       <use x=\"63.623047\" xlink:href=\"#DejaVuSans-30\"/>\n       <use x=\"127.246094\" xlink:href=\"#DejaVuSans-30\"/>\n      </g>\n     </g>\n    </g>\n    <g id=\"ytick_3\">\n     <g id=\"line2d_11\">\n      <g>\n       <use style=\"stroke:#000000;stroke-width:0.8;\" x=\"53.328125\" xlink:href=\"#mc3f4822c92\" y=\"239.145901\"/>\n      </g>\n     </g>\n     <g id=\"text_12\">\n      <!-- 400 -->\n      <g transform=\"translate(27.240625 242.94512)scale(0.1 -0.1)\">\n       <use xlink:href=\"#DejaVuSans-34\"/>\n       <use x=\"63.623047\" xlink:href=\"#DejaVuSans-30\"/>\n       <use x=\"127.246094\" xlink:href=\"#DejaVuSans-30\"/>\n      </g>\n     </g>\n    </g>\n    <g id=\"ytick_4\">\n     <g id=\"line2d_12\">\n      <g>\n       <use style=\"stroke:#000000;stroke-width:0.8;\" x=\"53.328125\" xlink:href=\"#mc3f4822c92\" y=\"201.418851\"/>\n      </g>\n     </g>\n     <g id=\"text_13\">\n      <!-- 600 -->\n      <g transform=\"translate(27.240625 205.21807)scale(0.1 -0.1)\">\n       <use xlink:href=\"#DejaVuSans-36\"/>\n       <use x=\"63.623047\" xlink:href=\"#DejaVuSans-30\"/>\n       <use x=\"127.246094\" xlink:href=\"#DejaVuSans-30\"/>\n      </g>\n     </g>\n    </g>\n    <g id=\"ytick_5\">\n     <g id=\"line2d_13\">\n      <g>\n       <use style=\"stroke:#000000;stroke-width:0.8;\" x=\"53.328125\" xlink:href=\"#mc3f4822c92\" y=\"163.691802\"/>\n      </g>\n     </g>\n     <g id=\"text_14\">\n      <!-- 800 -->\n      <g transform=\"translate(27.240625 167.49102)scale(0.1 -0.1)\">\n       <defs>\n        <path d=\"M 2034 2216 \nQ 1584 2216 1326 1975 \nQ 1069 1734 1069 1313 \nQ 1069 891 1326 650 \nQ 1584 409 2034 409 \nQ 2484 409 2743 651 \nQ 3003 894 3003 1313 \nQ 3003 1734 2745 1975 \nQ 2488 2216 2034 2216 \nz\nM 1403 2484 \nQ 997 2584 770 2862 \nQ 544 3141 544 3541 \nQ 544 4100 942 4425 \nQ 1341 4750 2034 4750 \nQ 2731 4750 3128 4425 \nQ 3525 4100 3525 3541 \nQ 3525 3141 3298 2862 \nQ 3072 2584 2669 2484 \nQ 3125 2378 3379 2068 \nQ 3634 1759 3634 1313 \nQ 3634 634 3220 271 \nQ 2806 -91 2034 -91 \nQ 1263 -91 848 271 \nQ 434 634 434 1313 \nQ 434 1759 690 2068 \nQ 947 2378 1403 2484 \nz\nM 1172 3481 \nQ 1172 3119 1398 2916 \nQ 1625 2713 2034 2713 \nQ 2441 2713 2670 2916 \nQ 2900 3119 2900 3481 \nQ 2900 3844 2670 4047 \nQ 2441 4250 2034 4250 \nQ 1625 4250 1398 4047 \nQ 1172 3844 1172 3481 \nz\n\" id=\"DejaVuSans-38\" transform=\"scale(0.015625)\"/>\n       </defs>\n       <use xlink:href=\"#DejaVuSans-38\"/>\n       <use x=\"63.623047\" xlink:href=\"#DejaVuSans-30\"/>\n       <use x=\"127.246094\" xlink:href=\"#DejaVuSans-30\"/>\n      </g>\n     </g>\n    </g>\n    <g id=\"ytick_6\">\n     <g id=\"line2d_14\">\n      <g>\n       <use style=\"stroke:#000000;stroke-width:0.8;\" x=\"53.328125\" xlink:href=\"#mc3f4822c92\" y=\"125.964752\"/>\n      </g>\n     </g>\n     <g id=\"text_15\">\n      <!-- 1000 -->\n      <g transform=\"translate(20.878125 129.763971)scale(0.1 -0.1)\">\n       <use xlink:href=\"#DejaVuSans-31\"/>\n       <use x=\"63.623047\" xlink:href=\"#DejaVuSans-30\"/>\n       <use x=\"127.246094\" xlink:href=\"#DejaVuSans-30\"/>\n       <use x=\"190.869141\" xlink:href=\"#DejaVuSans-30\"/>\n      </g>\n     </g>\n    </g>\n    <g id=\"ytick_7\">\n     <g id=\"line2d_15\">\n      <g>\n       <use style=\"stroke:#000000;stroke-width:0.8;\" x=\"53.328125\" xlink:href=\"#mc3f4822c92\" y=\"88.237703\"/>\n      </g>\n     </g>\n     <g id=\"text_16\">\n      <!-- 1200 -->\n      <g transform=\"translate(20.878125 92.036921)scale(0.1 -0.1)\">\n       <use xlink:href=\"#DejaVuSans-31\"/>\n       <use x=\"63.623047\" xlink:href=\"#DejaVuSans-32\"/>\n       <use x=\"127.246094\" xlink:href=\"#DejaVuSans-30\"/>\n       <use x=\"190.869141\" xlink:href=\"#DejaVuSans-30\"/>\n      </g>\n     </g>\n    </g>\n    <g id=\"ytick_8\">\n     <g id=\"line2d_16\">\n      <g>\n       <use style=\"stroke:#000000;stroke-width:0.8;\" x=\"53.328125\" xlink:href=\"#mc3f4822c92\" y=\"50.510653\"/>\n      </g>\n     </g>\n     <g id=\"text_17\">\n      <!-- 1400 -->\n      <g transform=\"translate(20.878125 54.309872)scale(0.1 -0.1)\">\n       <use xlink:href=\"#DejaVuSans-31\"/>\n       <use x=\"63.623047\" xlink:href=\"#DejaVuSans-34\"/>\n       <use x=\"127.246094\" xlink:href=\"#DejaVuSans-30\"/>\n       <use x=\"190.869141\" xlink:href=\"#DejaVuSans-30\"/>\n      </g>\n     </g>\n    </g>\n    <g id=\"ytick_9\">\n     <g id=\"line2d_17\">\n      <g>\n       <use style=\"stroke:#000000;stroke-width:0.8;\" x=\"53.328125\" xlink:href=\"#mc3f4822c92\" y=\"12.783603\"/>\n      </g>\n     </g>\n     <g id=\"text_18\">\n      <!-- 1600 -->\n      <g transform=\"translate(20.878125 16.582822)scale(0.1 -0.1)\">\n       <use xlink:href=\"#DejaVuSans-31\"/>\n       <use x=\"63.623047\" xlink:href=\"#DejaVuSans-36\"/>\n       <use x=\"127.246094\" xlink:href=\"#DejaVuSans-30\"/>\n       <use x=\"190.869141\" xlink:href=\"#DejaVuSans-30\"/>\n      </g>\n     </g>\n    </g>\n    <g id=\"text_19\">\n     <!-- Count -->\n     <g transform=\"translate(14.798438 175.748437)rotate(-90)scale(0.1 -0.1)\">\n      <defs>\n       <path d=\"M 4122 4306 \nL 4122 3641 \nQ 3803 3938 3442 4084 \nQ 3081 4231 2675 4231 \nQ 1875 4231 1450 3742 \nQ 1025 3253 1025 2328 \nQ 1025 1406 1450 917 \nQ 1875 428 2675 428 \nQ 3081 428 3442 575 \nQ 3803 722 4122 1019 \nL 4122 359 \nQ 3791 134 3420 21 \nQ 3050 -91 2638 -91 \nQ 1578 -91 968 557 \nQ 359 1206 359 2328 \nQ 359 3453 968 4101 \nQ 1578 4750 2638 4750 \nQ 3056 4750 3426 4639 \nQ 3797 4528 4122 4306 \nz\n\" id=\"DejaVuSans-43\" transform=\"scale(0.015625)\"/>\n       <path d=\"M 1959 3097 \nQ 1497 3097 1228 2736 \nQ 959 2375 959 1747 \nQ 959 1119 1226 758 \nQ 1494 397 1959 397 \nQ 2419 397 2687 759 \nQ 2956 1122 2956 1747 \nQ 2956 2369 2687 2733 \nQ 2419 3097 1959 3097 \nz\nM 1959 3584 \nQ 2709 3584 3137 3096 \nQ 3566 2609 3566 1747 \nQ 3566 888 3137 398 \nQ 2709 -91 1959 -91 \nQ 1206 -91 779 398 \nQ 353 888 353 1747 \nQ 353 2609 779 3096 \nQ 1206 3584 1959 3584 \nz\n\" id=\"DejaVuSans-6f\" transform=\"scale(0.015625)\"/>\n       <path d=\"M 544 1381 \nL 544 3500 \nL 1119 3500 \nL 1119 1403 \nQ 1119 906 1312 657 \nQ 1506 409 1894 409 \nQ 2359 409 2629 706 \nQ 2900 1003 2900 1516 \nL 2900 3500 \nL 3475 3500 \nL 3475 0 \nL 2900 0 \nL 2900 538 \nQ 2691 219 2414 64 \nQ 2138 -91 1772 -91 \nQ 1169 -91 856 284 \nQ 544 659 544 1381 \nz\nM 1991 3584 \nL 1991 3584 \nz\n\" id=\"DejaVuSans-75\" transform=\"scale(0.015625)\"/>\n      </defs>\n      <use xlink:href=\"#DejaVuSans-43\"/>\n      <use x=\"69.824219\" xlink:href=\"#DejaVuSans-6f\"/>\n      <use x=\"131.005859\" xlink:href=\"#DejaVuSans-75\"/>\n      <use x=\"194.384766\" xlink:href=\"#DejaVuSans-6e\"/>\n      <use x=\"257.763672\" xlink:href=\"#DejaVuSans-74\"/>\n     </g>\n    </g>\n   </g>\n   <g id=\"patch_23\">\n    <path d=\"M 53.328125 314.6 \nL 53.328125 7.2 \n\" style=\"fill:none;stroke:#000000;stroke-linecap:square;stroke-linejoin:miter;stroke-width:0.8;\"/>\n   </g>\n   <g id=\"patch_24\">\n    <path d=\"M 53.328125 314.6 \nL 345.478125 314.6 \n\" style=\"fill:none;stroke:#000000;stroke-linecap:square;stroke-linejoin:miter;stroke-width:0.8;\"/>\n   </g>\n  </g>\n </g>\n <defs>\n  <clipPath id=\"pb5df2e783b\">\n   <rect height=\"307.4\" width=\"292.15\" x=\"53.328125\" y=\"7.2\"/>\n  </clipPath>\n </defs>\n</svg>\n",
      "image/png": "[encoded data removed]"
     },
     "metadata": {
      "needs_background": "light"
     }
    }
   ],
   "source": [
    "sns.displot(df, x='Length', bins=20)"
   ]
  },
  {
   "cell_type": "code",
   "execution_count": 113,
   "metadata": {},
   "outputs": [
    {
     "output_type": "execute_result",
     "data": {
      "text/plain": [
       "count      2252.000000\n",
       "mean      34514.032860\n",
       "std       37499.394246\n",
       "min         799.000000\n",
       "25%       13731.250000\n",
       "50%       30754.000000\n",
       "75%       41868.250000\n",
       "max      753196.000000\n",
       "Name: Length, dtype: float64"
      ]
     },
     "metadata": {},
     "execution_count": 113
    }
   ],
   "source": [
    "# Verificando se todas as páginas srealmente têm conteúdo\n",
    "df['Length'].describe()"
   ]
  }
 ]
}