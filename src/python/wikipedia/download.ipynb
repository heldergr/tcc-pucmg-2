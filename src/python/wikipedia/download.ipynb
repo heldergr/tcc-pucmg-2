{
 "metadata": {
  "language_info": {
   "codemirror_mode": {
    "name": "ipython",
    "version": 3
   },
   "file_extension": ".py",
   "mimetype": "text/x-python",
   "name": "python",
   "nbconvert_exporter": "python",
   "pygments_lexer": "ipython3",
   "version": "3.8.10"
  },
  "orig_nbformat": 2,
  "kernelspec": {
   "name": "python3",
   "display_name": "Python 3",
   "language": "python"
  }
 },
 "nbformat": 4,
 "nbformat_minor": 2,
 "cells": [
  {
   "source": [
    "# Wikipedia"
   ],
   "cell_type": "markdown",
   "metadata": {}
  },
  {
   "cell_type": "code",
   "execution_count": 1,
   "metadata": {},
   "outputs": [],
   "source": [
    "from urllib.parse import urlencode\n",
    "import requests\n",
    "from pymongo import MongoClient\n",
    "import time\n",
    "import pandas as pd"
   ]
  },
  {
   "source": [
    "## MongoDB Setup"
   ],
   "cell_type": "markdown",
   "metadata": {}
  },
  {
   "cell_type": "code",
   "execution_count": 2,
   "metadata": {},
   "outputs": [],
   "source": [
    "# Creates client with default server and port\n",
    "client = MongoClient()\n",
    "\n",
    "# Get database \"wikipedia\"\n",
    "db = client.wikipedia\n",
    "\n",
    "# Get references to *pages* and *categories* collections\n",
    "mongo_pages = db.pages\n",
    "mongo_categories = db.categories\n",
    "mongo_content = db.pages_content"
   ]
  },
  {
   "source": [
    "## Download categories and pages from Wikipedia"
   ],
   "cell_type": "markdown",
   "metadata": {}
  },
  {
   "cell_type": "code",
   "execution_count": 3,
   "metadata": {},
   "outputs": [],
   "source": [
    "# https://pt.wikipedia.org/w/api.php?action=query&format=json&list=categorymembers&cmtitle=Category%3AArgentina&cmlimit=200\n",
    "url_base = 'https://pt.wikipedia.org/w/api.php'\n",
    "f = { \n",
    "    'action': 'query',\n",
    "    'format': 'json',\n",
    "    'list': 'categorymembers',\n",
    "     'cmlimit': '200',\n",
    "     'cmprop': 'ids|title|type'\n",
    "}\n",
    "def parameters_category_members(cmtitle = None, cmpageid = -1):\n",
    "    fc = f.copy()\n",
    "    if cmpageid != -1:\n",
    "        fc['cmpageid'] = cmpageid\n",
    "    else:\n",
    "        fc['cmtitle'] = cmtitle\n",
    "    return fc\n",
    "\n",
    "def get_url(parameters):\n",
    "    return f'{url_base}{parameters}'\n",
    "\n",
    "def get_url_category(cmtitle):\n",
    "    parameters_argentina = parameters_category_members('Category:Argentina')\n",
    "    return get_url(urlencode(parameters_argentina))\n",
    "\n",
    "def get_category(cmtitle = None, cmpageid = -1):\n",
    "    params_category = parameters_category_members(cmtitle, cmpageid)\n",
    "    category_r = requests.get(url_base, params=params_category)\n",
    "    category_content = []\n",
    "    if category_r.status_code == 200:\n",
    "        category_content = category_r.json()\n",
    "    return category_content\n",
    "\n",
    "def get_category_members(cmtitle = None, cmpageid = -1):\n",
    "    return get_category(cmtitle=cmtitle, cmpageid=cmpageid)['query']['categorymembers']"
   ]
  },
  {
   "source": [
    "## Insert and retrieve data from MongoDB\n",
    "\n",
    "- Categories status\n",
    "    * Check: waiting for someone to check if it has to be downloaded\n",
    "    * Waiting: waiting for dowload\n",
    "    * Skeep: skeep download of this category\n",
    "    * Done: downloaded\n",
    "- Pages status\n",
    "    * Waiting: waiting for download"
   ],
   "cell_type": "markdown",
   "metadata": {}
  },
  {
   "cell_type": "code",
   "execution_count": 4,
   "metadata": {},
   "outputs": [],
   "source": [
    "def get_categories_for_download():\n",
    "    waiting_criteria = { 'download': 'Waiting' }\n",
    "    return list(mongo_categories.find(waiting_criteria))\n",
    "\n",
    "def add_categories_for_check(categories_for_check):\n",
    "    add_categories_for_status(categories_for_check, 'Check')\n",
    "\n",
    "def add_category_for_download(pageid):\n",
    "    mongo_categories.update_one(\n",
    "        { \"pageid\": pageid },\n",
    "        { \"$set\": { 'download': 'Waiting' } }\n",
    "    )\n",
    "\n",
    "def set_category_done(pageid):\n",
    "    mongo_categories.update_one(\n",
    "        { \"pageid\": pageid },\n",
    "        { \"$set\": { 'download': 'Done' } }\n",
    "    )\n",
    "\n",
    "def set_category_skeep(pageid):\n",
    "    set_category_status(pageid, category_status='Skeep')\n",
    "\n",
    "def set_category_status(pageid, category_status):\n",
    "    mongo_categories.update_one(\n",
    "        { \"pageid\": pageid },\n",
    "        { \"$set\": { 'download': category_status } }\n",
    "    )\n",
    "\n",
    "def add_categories_for_status(categories_for_status, status):\n",
    "    if len(categories_for_status) > 0:\n",
    "        for category_for_status in categories_for_status:\n",
    "            category_for_status['download'] = status\n",
    "        mongo_categories.insert_many(categories_for_status)\n",
    "    \n",
    "def category_exists(cmpageid):\n",
    "    return mongo_categories.count_documents({'pageid': cmpageid}) > 0"
   ]
  },
  {
   "source": [
    "## Algorithm"
   ],
   "cell_type": "markdown",
   "metadata": {}
  },
  {
   "cell_type": "code",
   "execution_count": 10,
   "metadata": {},
   "outputs": [],
   "source": [
    "def insert_pages(pages, cmpageid, cmtitle):\n",
    "    if len(pages) > 0:\n",
    "        for page in pages:\n",
    "            page['category_id'] = cmpageid\n",
    "            page['category_title'] = cmtitle\n",
    "            page['download'] = 'Waiting'\n",
    "        mongo_pages.insert_many(pages)\n",
    "\n",
    "def download_subcategories(subcategories):\n",
    "    if len(subcategories) > 0:\n",
    "        for subcategory in subcategories:\n",
    "            download_category_tree(subcategory)\n",
    "\n",
    "def download_category_tree(category, country):\n",
    "    # Sleep for 1 second before starting download one category tree\n",
    "    time.sleep(1)\n",
    "\n",
    "    cmpageid = category['pageid']\n",
    "    cmtitle = category[\"title\"]\n",
    "    print(f'Retrieving pages for category {cmtitle} [{cmpageid}]')\n",
    "    \n",
    "    members = get_category_members(cmpageid=cmpageid)\n",
    "    pages = [m for m in members if m['type'] == 'page']\n",
    "    for p in pages:\n",
    "        p['country'] = country\n",
    "    insert_pages(pages, cmpageid, cmtitle)\n",
    "    subcats = [m for m in members if m['type'] == 'subcat']\n",
    "    for s in subcats:\n",
    "        s['parent'] = cmpageid\n",
    "        s['country'] = country\n",
    "    subcats_for_check = [s for s in subcats if not category_exists(s['pageid'])]\n",
    "    add_categories_for_check(subcats_for_check)\n",
    "    set_category_done(cmpageid)"
   ]
  },
  {
   "source": [
    "### Inicializa todas as subcategorias da principal *Argentina*"
   ],
   "cell_type": "markdown",
   "metadata": {}
  },
  {
   "cell_type": "code",
   "execution_count": 5,
   "metadata": {},
   "outputs": [],
   "source": [
    "members_categories_argentina = get_category_members(cmtitle='Category:Argentina')\n",
    "pages_argentina = [m for m in members_categories_argentina if m['type'] == 'page']\n",
    "subcategories_argentina = [m for m in members_categories_argentina if m['type'] == 'subcat']\n",
    "# add_categories_for_check(subcategories_argentina)"
   ]
  },
  {
   "source": [
    "### Inicializa todas as subcategorias da principal Chile"
   ],
   "cell_type": "markdown",
   "metadata": {}
  },
  {
   "cell_type": "code",
   "execution_count": 8,
   "metadata": {},
   "outputs": [],
   "source": [
    "members_categories_chile = get_category_members(cmtitle='Category:Chile')\n",
    "for mcc in members_categories_chile:\n",
    "    mcc['country'] = 'Chile'\n",
    "subcategories_chile = [m for m in members_categories_chile if m['type'] == 'subcat']\n",
    "# add_categories_for_check(subcategories_chile)"
   ]
  },
  {
   "source": [
    "### Inicializa todas as subcategorias da Nova Zelândia"
   ],
   "cell_type": "markdown",
   "metadata": {}
  },
  {
   "cell_type": "code",
   "execution_count": 46,
   "metadata": {},
   "outputs": [],
   "source": [
    "members_categories_nz = get_category_members(cmtitle='Categoria:Nova_Zelândia')\n",
    "for mcnz in members_categories_nz:\n",
    "    mcnz['country'] = 'Nova Zelandia'\n",
    "subcategories_nz = [m for m in members_categories_nz if m['type'] == 'subcat']\n",
    "# add_categories_for_check(subcategories_nz)"
   ]
  },
  {
   "source": [
    "### Inicializa todas as subcategorias dos Estados Unidos"
   ],
   "cell_type": "markdown",
   "metadata": {}
  },
  {
   "cell_type": "code",
   "execution_count": 16,
   "metadata": {},
   "outputs": [],
   "source": [
    "# Categoria:Estados_Unidos\n",
    "members_categories_usa = get_category_members(cmtitle='Categoria:Estados_Unidos')\n",
    "for mcusa in members_categories_usa:\n",
    "    mcusa['country'] = 'Estados Unidos'\n",
    "subcategories_usa = [m for m in members_categories_usa if m['type'] == 'subcat']\n",
    "add_categories_for_check(subcategories_usa)"
   ]
  },
  {
   "source": [
    "### Marca categorias para download"
   ],
   "cell_type": "markdown",
   "metadata": {}
  },
  {
   "cell_type": "code",
   "execution_count": 120,
   "metadata": {},
   "outputs": [],
   "source": [
    "ids = [5568913, 5600226, 2976735, 3229009, 3228959, 5543207, 206176,3228965, 1935902,3266151,  3572256, 3544176, 1715183, 4852814, 4814502, 2178241,5580178, 3472896,  4814499, 5577558, 2201392]\n",
    "for id in ids:\n",
    "    add_category_for_download(pageid=id)"
   ]
  },
  {
   "source": [
    "### Executa download das páginas das categorias marcadas para Download"
   ],
   "cell_type": "markdown",
   "metadata": {}
  },
  {
   "cell_type": "code",
   "execution_count": 121,
   "metadata": {},
   "outputs": [
    {
     "output_type": "stream",
     "name": "stdout",
     "text": [
      "21 categoria(s) marcadas para download\n",
      "Retrieving pages for category Categoria:Corpos de água do Alasca [5568913]\n",
      "Retrieving pages for category Categoria:Arquipélagos do Alasca [5600226]\n",
      "Retrieving pages for category Categoria:Baías do Alasca [2976735]\n",
      "Retrieving pages for category Categoria:Cabos do Alasca [3229009]\n",
      "Retrieving pages for category Categoria:Estreitos do Alasca [3228959]\n",
      "Retrieving pages for category Categoria:Golfos e baías do Alasca [5543207]\n",
      "Retrieving pages for category Categoria:Ilhas do Alasca [206176]\n",
      "Retrieving pages for category Categoria:Penínsulas do Alasca [3228965]\n",
      "Retrieving pages for category Categoria:Rios do Alasca [1935902]\n",
      "Retrieving pages for category Categoria:Vulcões do Alasca [3266151]\n",
      "Retrieving pages for category Categoria:California Trail [3572256]\n",
      "Retrieving pages for category Categoria:Oregon Trail [3544176]\n",
      "Retrieving pages for category Categoria:Vale da Morte [1715183]\n",
      "Retrieving pages for category Categoria:Parque Nacional da Sequoia [4852814]\n",
      "Retrieving pages for category Categoria:Parque Nacional do Vale da Morte [4814502]\n",
      "Retrieving pages for category Categoria:Parque Nacional de Yosemite [2178241]\n",
      "Retrieving pages for category Categoria:Parque Nacional de Canyonlands [5580178]\n",
      "Retrieving pages for category Categoria:Parque Nacional de Yellowstone [3472896]\n",
      "Retrieving pages for category Categoria:Deserto de Mojave [4814499]\n",
      "Retrieving pages for category Categoria:Afluentes do rio Colorado [5577558]\n",
      "Retrieving pages for category Categoria:Sierra Nevada [2201392]\n"
     ]
    }
   ],
   "source": [
    "# Busca categorias marcadas para download\n",
    "categories_for_download = get_categories_for_download()\n",
    "print(f'{len(categories_for_download)} categoria(s) marcadas para download')\n",
    "\n",
    "# Faz download de cada categoria\n",
    "for c in categories_for_download:\n",
    "    download_category_tree(c, 'Estados Unidos')"
   ]
  },
  {
   "source": [
    "### Analisar categorias para Check"
   ],
   "cell_type": "markdown",
   "metadata": {}
  },
  {
   "cell_type": "code",
   "execution_count": 122,
   "metadata": {},
   "outputs": [],
   "source": [
    "for_skeep = []\n",
    "if (len(for_skeep) > 0):\n",
    "    for sk in for_skeep:\n",
    "        set_category_skeep(sk)\n",
    "\n",
    "for_check = list(mongo_categories.find({ 'download': 'Check', 'country': 'Estados Unidos'}))\n",
    "\n",
    "# usa = [5577536, 3203291, 2403918, 2671885, 4914662, 4400845, 3439705, 4149018,2739967, 4133805, 2739980, 5589663, 4133798]\n",
    "usa_4_check = [(fc['pageid'], fc['title']) for fc in for_check]"
   ]
  },
  {
   "cell_type": "code",
   "execution_count": 19,
   "metadata": {},
   "outputs": [],
   "source": [
    "usa = [3003786, 2966383, 2511655, 2541119, 3166610]"
   ]
  },
  {
   "source": [
    "### Backup do que já foi feito download"
   ],
   "cell_type": "markdown",
   "metadata": {}
  },
  {
   "cell_type": "code",
   "execution_count": 131,
   "metadata": {},
   "outputs": [],
   "source": [
    "# Categorias\n",
    "categories = list(mongo_categories.find())\n",
    "categories_df = pd.DataFrame(categories)\n",
    "categories_df.to_csv('categories.csv')"
   ]
  },
  {
   "cell_type": "code",
   "execution_count": 132,
   "metadata": {},
   "outputs": [],
   "source": [
    "pages = list(mongo_pages.find())\n",
    "pages_df = pd.DataFrame(pages)\n",
    "pages_df.to_csv('pages.csv')"
   ]
  },
  {
   "cell_type": "code",
   "execution_count": 61,
   "metadata": {},
   "outputs": [
    {
     "output_type": "execute_result",
     "data": {
      "text/plain": [
       "(498, 8)"
      ]
     },
     "metadata": {},
     "execution_count": 61
    }
   ],
   "source": [
    "pages_df.shape"
   ]
  },
  {
   "source": [
    "### Verificar categorias e páginas sem country"
   ],
   "cell_type": "markdown",
   "metadata": {}
  },
  {
   "cell_type": "code",
   "execution_count": 37,
   "metadata": {},
   "outputs": [
    {
     "output_type": "stream",
     "name": "stdout",
     "text": [
      "0 pages found with no country\n0 categories found with no country\n"
     ]
    }
   ],
   "source": [
    "# Pages\n",
    "pages_no_country = list(db.pages.find({\"country\": {\"$exists\": False }}))\n",
    "print(f'{len(pages_no_country)} pages found with no country')\n",
    "\n",
    "# Categories\n",
    "categories_no_country = list(db.categories.find({\"country\": {\"$exists\": False }}))\n",
    "print(f'{len(categories_no_country)} categories found with no country')"
   ]
  },
  {
   "source": [
    "### Corrigir categorias e paginas dos Estados Unidos marcadas como Nova Zelandia"
   ],
   "cell_type": "markdown",
   "metadata": {}
  },
  {
   "cell_type": "code",
   "execution_count": 26,
   "metadata": {},
   "outputs": [],
   "source": [
    "nz = list(mongo_categories.find({ 'country': 'Nova Zelandia'}))\n",
    "\n",
    "nz_with_usa = [c for c in nz if \"Estados Unidos\" in c['title']]\n",
    "for cat_fix in nz_with_usa:\n",
    "    mongo_categories.update_one(\n",
    "        { '_id': cat_fix['_id']},\n",
    "        { '$set': { 'country': 'Estados Unidos'}}\n",
    "    )"
   ]
  },
  {
   "cell_type": "code",
   "execution_count": 41,
   "metadata": {},
   "outputs": [],
   "source": [
    "nz = list(mongo_pages.find({ 'country': 'Nova Zelandia'}))\n",
    "nz_with_usa = [c for c in nz if \"Estados Unidos\" in c['title']]\n",
    "\n",
    "for pag_fix in nz_with_usa:\n",
    "    mongo_pages.update_one(\n",
    "        { '_id': pag_fix['_id']},\n",
    "        { '$set': { 'country': 'Estados Unidos'}}\n",
    "    )"
   ]
  },
  {
   "cell_type": "code",
   "execution_count": 129,
   "metadata": {},
   "outputs": [],
   "source": [
    "nz = list(mongo_pages.find({ 'country': 'Nova Zelandia'}))\n",
    "nz_with_usa = [c for c in nz if \"Estados Unidos\" in c['category_title']]\n",
    "\n",
    "for pag_fix in nz_with_usa:\n",
    "    mongo_pages.update_one(\n",
    "        { '_id': pag_fix['_id']},\n",
    "        { '$set': { 'country': 'Estados Unidos'}}\n",
    "    )"
   ]
  },
  {
   "source": [
    "## Download de páginas"
   ],
   "cell_type": "markdown",
   "metadata": {}
  },
  {
   "cell_type": "code",
   "execution_count": 57,
   "metadata": {},
   "outputs": [],
   "source": [
    "url_base = 'https://pt.wikipedia.org/w/api.php'\n",
    "\n",
    "def get_pages_for_download(limite=100):\n",
    "    return list(mongo_pages.find({ 'download': 'Waiting' }).limit(limite))\n",
    "\n",
    "def get_pages_downloads_counts():\n",
    "    return list(mongo_pages.aggregate([\n",
    "        { '$group': { '_id': '$download', 'total': { '$sum': 1 } } }\n",
    "    ]))\n",
    "\n",
    "# https://en.wikipedia.org/w/api.php?action=parse&format=json&pageid=3276454&prop=wikitext&formatversion=2\n",
    "f_page = { \n",
    "    'action': 'parse',\n",
    "    'format': 'json',\n",
    "    'formatversion': '2'\n",
    "}\n",
    "\n",
    "def parameters_wikitext(pageid):\n",
    "    fc = f_page.copy()\n",
    "    fc['pageid'] = pageid\n",
    "    fc['prop'] = 'wikitext'\n",
    "    return fc\n",
    "\n",
    "def parameters_text(pageid):\n",
    "    fc = f_page.copy()\n",
    "    fc['pageid'] = pageid\n",
    "    fc['prop'] = 'text'\n",
    "    return fc\n",
    "\n",
    "def get_wikitext(pageid):\n",
    "    params_wikitext = parameters_wikitext(pageid)\n",
    "    wikitext_r = requests.get(url_base, params=params_wikitext)\n",
    "    wikitext_content = {}\n",
    "    if wikitext_r.status_code == 200:\n",
    "        wikitext_content = wikitext_r.json()\n",
    "    else:\n",
    "        print(f'Erro ao fazer download de wikitext de pagina {pageid}')\n",
    "    return wikitext_content\n",
    "\n",
    "def get_text(pageid):\n",
    "    params_text = parameters_text(pageid)\n",
    "    text_r = requests.get(url_base, params=params_text)\n",
    "    text_content = {}\n",
    "    if text_r.status_code == 200:\n",
    "       text_content = text_r.json()\n",
    "    else:\n",
    "        print(f'Erro ao fazer download de text de pagina {pageid}')\n",
    "    return text_content\n",
    "\n",
    "def copy_page_with_wikitext(page):\n",
    "    p_wikitext = page.copy()\n",
    "    p_wikitext['wikitext'] = get_wikitext(page['pageid'])['parse']['wikitext']\n",
    "    return p_wikitext\n",
    "\n",
    "# get_pages_for_download()[0]"
   ]
  },
  {
   "source": [
    "### Download page wikitexts"
   ],
   "cell_type": "markdown",
   "metadata": {}
  },
  {
   "cell_type": "code",
   "execution_count": 58,
   "metadata": {
    "tags": [
     "outputPrepend"
    ]
   },
   "outputs": [
    {
     "output_type": "stream",
     "name": "stdout",
     "text": [
      "063037](Deserto de Kaʻū) downloaded successfuly (744 of 1000)\n",
      "Page [3055210](Deserto de Maine) downloaded successfuly (745 of 1000)\n",
      "Page [2252364](Jornada del Muerto) downloaded successfuly (746 of 1000)\n",
      "Page [3055074](Planalto do Colorado) downloaded successfuly (747 of 1000)\n",
      "Page [25753](Grandes Lagos da América do Norte) downloaded successfuly (748 of 1000)\n",
      "Page [5679132](Lago Elmer Thomas) downloaded successfuly (749 of 1000)\n",
      "Page [6347162](Lagos Haynach) downloaded successfuly (750 of 1000)\n",
      "Page [3293272](Lista de estados dos Estados Unidos por altitude) downloaded successfuly (751 of 1000)\n",
      "Page [4201012](Lista de picos ultraproeminentes dos Estados Unidos) downloaded successfuly (752 of 1000)\n",
      "Page [1846884](Planalto Apalache) downloaded successfuly (753 of 1000)\n",
      "Page [3055074](Planalto do Colorado) downloaded successfuly (754 of 1000)\n",
      "Page [2126108](Planalto de Edwards) downloaded successfuly (755 of 1000)\n",
      "Page [1846894](Planalto do Missouri) downloaded successfuly (756 of 1000)\n",
      "Page [1851150](Altas Planícies) downloaded successfuly (757 of 1000)\n",
      "Page [42241](Grandes Planícies) downloaded successfuly (758 of 1000)\n",
      "Page [1846880](Planícies Interiores) downloaded successfuly (759 of 1000)\n",
      "Page [2204215](Llano Estacado) downloaded successfuly (760 of 1000)\n",
      "Page [5622754](Mystic Falls (cachoeira)) downloaded successfuly (761 of 1000)\n",
      "Page [2661198](Lista de rios dos Estados Unidos) downloaded successfuly (762 of 1000)\n",
      "Page [6050480](Rio Beaver (Rhode Island)) downloaded successfuly (763 of 1000)\n",
      "Page [133146](Rio Columbia) downloaded successfuly (764 of 1000)\n",
      "Page [6425691](Rio Merrimack) downloaded successfuly (765 of 1000)\n",
      "Page [5457492](Pauma Valley, Califórnia) downloaded successfuly (766 of 1000)\n",
      "Page [1759677](Predefinição:Listas de parques estaduais dos EUA) downloaded successfuly (767 of 1000)\n",
      "Page [1986824](Lista de parques estaduais do Alabama) downloaded successfuly (768 of 1000)\n",
      "Page [3277441](Lista de parques estaduais do Alasca) downloaded successfuly (769 of 1000)\n",
      "Page [1987229](Lista de parques estaduais do Arizona) downloaded successfuly (770 of 1000)\n",
      "Page [1987268](Lista de parques estaduais do Arkansas) downloaded successfuly (771 of 1000)\n",
      "Page [5452354](Lista de parques estaduais da Califórnia) downloaded successfuly (772 of 1000)\n",
      "Page [1987293](Lista de parques estaduais da Carolina do Norte) downloaded successfuly (773 of 1000)\n",
      "Page [1987325](Lista de parques estaduais da Carolina do Sul) downloaded successfuly (774 of 1000)\n",
      "Page [1987340](Lista de parques estaduais do Colorado) downloaded successfuly (775 of 1000)\n",
      "Page [1987348](Lista de parques estaduais do Connecticut) downloaded successfuly (776 of 1000)\n",
      "Page [1987388](Lista de parques estaduais da Dakota do Norte) downloaded successfuly (777 of 1000)\n",
      "Page [1987392](Lista de parques estaduais da Dakota do Sul) downloaded successfuly (778 of 1000)\n",
      "Page [1987409](Lista de parques estaduais de Delaware) downloaded successfuly (779 of 1000)\n",
      "Page [1759440](Lista de parques estaduais da Flórida) downloaded successfuly (780 of 1000)\n",
      "Page [1987437](Lista de parques estaduais da Geórgia (Estados Unidos)) downloaded successfuly (781 of 1000)\n",
      "Page [1987463](Lista de parques estaduais do Havaí) downloaded successfuly (782 of 1000)\n",
      "Page [1988571](Lista de parques estaduais do Idaho) downloaded successfuly (783 of 1000)\n",
      "Page [1988591](Lista de parques estaduais de Iowa) downloaded successfuly (784 of 1000)\n",
      "Page [1988596](Lista de parques estaduais do Kansas) downloaded successfuly (785 of 1000)\n",
      "Page [1988624](Lista de parques estaduais da Louisiana) downloaded successfuly (786 of 1000)\n",
      "Page [1988637](Lista de parques estaduais do Maine) downloaded successfuly (787 of 1000)\n",
      "Page [1988644](Lista de parques estaduais de Michigan) downloaded successfuly (788 of 1000)\n",
      "Page [1988648](Lista de parques estaduais do Mississippi) downloaded successfuly (789 of 1000)\n",
      "Page [1988656](Lista de parques estaduais do Missouri) downloaded successfuly (790 of 1000)\n",
      "Page [1988667](Lista de parques estaduais de Montana) downloaded successfuly (791 of 1000)\n",
      "Page [1988679](Lista de parques estaduais de Nebraska) downloaded successfuly (792 of 1000)\n",
      "Page [1988681](Lista de parques estaduais de Nevada) downloaded successfuly (793 of 1000)\n",
      "Page [2312400](Lista de parques estaduais de New Hampshire) downloaded successfuly (794 of 1000)\n",
      "Page [2312900](Lista de parques estaduais de Nova York) downloaded successfuly (795 of 1000)\n",
      "Page [1988695](Lista de parques estaduais do Novo México) downloaded successfuly (796 of 1000)\n",
      "Page [2002509](Lista de parques estaduais de Oklahoma) downloaded successfuly (797 of 1000)\n",
      "Page [2002520](Lista de parques estaduais de Rhode Island) downloaded successfuly (798 of 1000)\n",
      "Page [2002585](Lista de parques estaduais do Tennessee) downloaded successfuly (799 of 1000)\n",
      "Page [2002595](Lista de parques estaduais do Texas) downloaded successfuly (800 of 1000)\n",
      "Page [795917](Exxon Valdez) downloaded successfuly (801 of 1000)\n",
      "Page [2179404](Lista de parques nacionais dos Estados Unidos) downloaded successfuly (802 of 1000)\n",
      "Page [586082](Predefinição:Parques nacionais dos EUA) downloaded successfuly (803 of 1000)\n",
      "Page [1488473](Parque Nacional das Ilhas Virgens) downloaded successfuly (804 of 1000)\n",
      "Page [6050602](Parque Internacional Roosevelt Campobello) downloaded successfuly (805 of 1000)\n",
      "Page [1488404](Parque Nacional da Samoa Americana) downloaded successfuly (806 of 1000)\n",
      "Page [4325972](Refúgio Nacional de Vida Silvestre Florida Panther) downloaded successfuly (807 of 1000)\n",
      "Page [5268483](Baleia azul de Catoosa) downloaded successfuly (808 of 1000)\n",
      "Page [6157174](Grandes Parques do Condado de Hamilton) downloaded successfuly (809 of 1000)\n",
      "Page [4424403](Huffman Prairie) downloaded successfuly (810 of 1000)\n",
      "Page [5084316](Babcock State Park) downloaded successfuly (811 of 1000)\n",
      "Page [4368719](Big Thicket) downloaded successfuly (812 of 1000)\n",
      "Page [2204230](Buffalo Commons) downloaded successfuly (813 of 1000)\n",
      "Page [6522171](Grande cinturão de bisões) downloaded successfuly (814 of 1000)\n",
      "Page [1294546](Red Gate Woods) downloaded successfuly (815 of 1000)\n",
      "Page [5571017](Predefinição:Parques Históricos Nacionais dos Estados Unidos) downloaded successfuly (816 of 1000)\n",
      "Page [1325629](Parque Histórico Nacional da Cultura Chaco) downloaded successfuly (817 of 1000)\n",
      "Page [4830329](Parque Histórico Nacional das Missões de San Antonio) downloaded successfuly (818 of 1000)\n",
      "Page [5294575](Hutton Lake Wildlife Refuge) downloaded successfuly (819 of 1000)\n",
      "Page [5287863](Mortenson Lake National Wildlife Refuge) downloaded successfuly (820 of 1000)\n",
      "Page [1664923](Furacão John (1994)) downloaded successfuly (821 of 1000)\n",
      "Page [2003768](Novarupta) downloaded successfuly (822 of 1000)\n",
      "Page [4845363](Sismo do Alasca de 1964) downloaded successfuly (823 of 1000)\n",
      "Page [5990336](Sismo do Alasca de 2016) downloaded successfuly (824 of 1000)\n",
      "Page [1446666](Furacão Juliette (2001)) downloaded successfuly (825 of 1000)\n",
      "Page [1446666](Furacão Juliette (2001)) downloaded successfuly (826 of 1000)\n",
      "Page [3194979](Sismo e tsunami de Tohoku em 2011) downloaded successfuly (827 of 1000)\n",
      "Page [2619225](Norton Sound) downloaded successfuly (828 of 1000)\n",
      "Page [1853451](Península de Seward) downloaded successfuly (829 of 1000)\n",
      "Page [2331358](Região Censitária de Nome) downloaded successfuly (830 of 1000)\n",
      "Page [3072622](Centro-Sul do Alasca) downloaded successfuly (831 of 1000)\n",
      "Page [3695636](Encosta Norte do Alasca) downloaded successfuly (832 of 1000)\n",
      "Page [3075402](Extremo Norte do Alasca) downloaded successfuly (833 of 1000)\n",
      "Page [4167321](Península de Lisburne) downloaded successfuly (834 of 1000)\n",
      "Page [3075393](The Bush) downloaded successfuly (835 of 1000)\n",
      "Page [3075382](Vale Tanana) downloaded successfuly (836 of 1000)\n",
      "Page [1062163](Talkeetna (Alasca)) downloaded successfuly (837 of 1000)\n",
      "Page [575774](Cratera de Barringer) downloaded successfuly (838 of 1000)\n",
      "Page [371442](Deserto de Mojave) downloaded successfuly (839 of 1000)\n",
      "Page [4053915](Horseshoe Bend (Arizona)) downloaded successfuly (840 of 1000)\n",
      "Page [3242642](Hosh Dikʼání) downloaded successfuly (841 of 1000)\n",
      "Page [3056200](Deserto de Yuma) downloaded successfuly (842 of 1000)\n",
      "Page [487296](Deserto de Sonora) downloaded successfuly (843 of 1000)\n",
      "Page [4385283](Observatório Nacional de Kitt Peak) downloaded successfuly (844 of 1000)\n",
      "Page [1488468](Parque Nacional de Saguaro) downloaded successfuly (845 of 1000)\n",
      "Page [69602](Falha de Santo André) downloaded successfuly (846 of 1000)\n",
      "Page [107437](Ilha de Alcatraz) downloaded successfuly (847 of 1000)\n",
      "Page [3484117](Ilha de Yerba Buena) downloaded successfuly (848 of 1000)\n",
      "Page [6277511](Nevoeiro de São Francisco) downloaded successfuly (849 of 1000)\n",
      "Page [69602](Falha de Santo André) downloaded successfuly (850 of 1000)\n",
      "Page [2189017](Mariposa Grove) downloaded successfuly (851 of 1000)\n",
      "Page [2189012](Merced Grove) downloaded successfuly (852 of 1000)\n",
      "Page [2188994](Tuolumne Grove) downloaded successfuly (853 of 1000)\n",
      "Page [5152432](Greystone Mansion) downloaded successfuly (854 of 1000)\n",
      "Page [3631665](Parque do Povo (Berkeley)) downloaded successfuly (855 of 1000)\n",
      "Page [6389722](Runnymede Sculpture Farm) downloaded successfuly (856 of 1000)\n",
      "Page [2188775](Bonneville Salt Flats) downloaded successfuly (857 of 1000)\n",
      "Page [371442](Deserto de Mojave) downloaded successfuly (858 of 1000)\n",
      "Page [2007099](Grande Bacia) downloaded successfuly (859 of 1000)\n",
      "Page [109063](Grand Canyon) downloaded successfuly (860 of 1000)\n",
      "Page [2582725](Rio Little Colorado) downloaded successfuly (861 of 1000)\n",
      "Page [3055074](Planalto do Colorado) downloaded successfuly (862 of 1000)\n",
      "Page [1448829](El Capitan (Arizona)) downloaded successfuly (863 of 1000)\n",
      "Page [604898](Monument Valley) downloaded successfuly (864 of 1000)\n",
      "Page [6401042](Valley of the Gods) downloaded successfuly (865 of 1000)\n",
      "Page [3437553](Bacia das Aleutas do Norte) downloaded successfuly (866 of 1000)\n",
      "Page [2321447](Enseada de Cook) downloaded successfuly (867 of 1000)\n",
      "Page [3479906](Fossa das Aleutas) downloaded successfuly (868 of 1000)\n",
      "Page [12788](Mar de Bering) downloaded successfuly (869 of 1000)\n",
      "Page [2619225](Norton Sound) downloaded successfuly (870 of 1000)\n",
      "Page [40074](Montanhas Rochosas) downloaded successfuly (871 of 1000)\n",
      "Page [2852043](Cordilheira Teton) downloaded successfuly (872 of 1000)\n",
      "Page [3501598](Cordilheira Wyoming) downloaded successfuly (873 of 1000)\n",
      "Page [1748853](Monte Elbert) downloaded successfuly (874 of 1000)\n",
      "Page [2204281](Expedição Astor) downloaded successfuly (875 of 1000)\n",
      "Page [1750274](Kings Peak) downloaded successfuly (876 of 1000)\n",
      "Page [3517298](Cordilheira Lost River) downloaded successfuly (877 of 1000)\n",
      "Page [3518820](Monte Massive) downloaded successfuly (878 of 1000)\n",
      "Page [4774414](Montanhas Medicine Bow) downloaded successfuly (879 of 1000)\n",
      "Page [5079095](Montanhas Rochosas Canadianas) downloaded successfuly (880 of 1000)\n",
      "Page [3527593](Montes Sangre de Cristo) downloaded successfuly (881 of 1000)\n",
      "Page [2736073](Pico Wheeler (Novo México)) downloaded successfuly (882 of 1000)\n",
      "Page [3519035](Pico Pikes) downloaded successfuly (883 of 1000)\n",
      "Page [3680851](Rocky Mountain Rendezvous) downloaded successfuly (884 of 1000)\n",
      "Page [4763862](Stockett) downloaded successfuly (885 of 1000)\n",
      "Page [1751211](Montes Uinta) downloaded successfuly (886 of 1000)\n",
      "Page [3544078](Cordilheira Wind River) downloaded successfuly (887 of 1000)\n",
      "Page [604898](Monument Valley) downloaded successfuly (888 of 1000)\n",
      "Page [1268551](Vale Central) downloaded successfuly (889 of 1000)\n",
      "Page [2185219](Vale de Hetch Hetchy) downloaded successfuly (890 of 1000)\n",
      "Page [107023](Vale da Morte) downloaded successfuly (891 of 1000)\n",
      "Page [3078869](Vale Saddleback) downloaded successfuly (892 of 1000)\n",
      "Page [2823485](Vale do Salinas) downloaded successfuly (893 of 1000)\n",
      "Page [1751978](Vale de San Joaquin) downloaded successfuly (894 of 1000)\n",
      "Page [3076448](Vale de San Ramon) downloaded successfuly (895 of 1000)\n",
      "Page [1999840](Vale de São Fernando) downloaded successfuly (896 of 1000)\n",
      "Page [4576398](Vale Antílope) downloaded successfuly (897 of 1000)\n",
      "Page [5995829](Vale de San Gabriel) downloaded successfuly (898 of 1000)\n",
      "Page [143451](Vale do Silício) downloaded successfuly (899 of 1000)\n",
      "Page [2178063](Vale de Yosemite) downloaded successfuly (900 of 1000)\n",
      "Page [604898](Monument Valley) downloaded successfuly (901 of 1000)\n",
      "Page [4442356](Vale de Salt Lake) downloaded successfuly (902 of 1000)\n",
      "Page [6401042](Valley of the Gods) downloaded successfuly (903 of 1000)\n",
      "Page [1470758](Dryas octopetala) downloaded successfuly (904 of 1000)\n",
      "Page [1488450](Parque Nacional e Reserva da Baía dos Glaciares) downloaded successfuly (905 of 1000)\n",
      "Page [1403174](Parque Nacional e Reserva de Denali) downloaded successfuly (906 of 1000)\n",
      "Page [1488458](Parque Nacional dos Fiordes de Kenai) downloaded successfuly (907 of 1000)\n",
      "Page [1488457](Parque Nacional e Reserva de Katmai) downloaded successfuly (908 of 1000)\n",
      "Page [1488464](Parque Nacional e Reserva do Lago Clark) downloaded successfuly (909 of 1000)\n",
      "Page [1488449](Parque Nacional e Reserva Gates of the Arctic) downloaded successfuly (910 of 1000)\n",
      "Page [1488460](Parque Nacional do Vale de Kobuk) downloaded successfuly (911 of 1000)\n",
      "Page [1488476](Parque Nacional e Reserva de Wrangell-St. Elias) downloaded successfuly (912 of 1000)\n",
      "Page [1488466](Parque Nacional da Floresta Petrificada) downloaded successfuly (913 of 1000)\n",
      "Page [344031](Parque Nacional do Grand Canyon) downloaded successfuly (914 of 1000)\n",
      "Page [1488468](Parque Nacional de Saguaro) downloaded successfuly (915 of 1000)\n",
      "Page [855012](Parque Nacional das Ilhas do Canal) downloaded successfuly (916 of 1000)\n",
      "Page [850155](Parque Nacional de Joshua Tree) downloaded successfuly (917 of 1000)\n",
      "Page [1130247](Parque Nacional de Kings Canyon) downloaded successfuly (918 of 1000)\n",
      "Page [1488462](Parque Nacional Vulcânico Lassen) downloaded successfuly (919 of 1000)\n",
      "Page [1325611](Parque Nacional de Redwood) downloaded successfuly (920 of 1000)\n",
      "Page [1488470](Parque Nacional da Sequoia) downloaded successfuly (921 of 1000)\n",
      "Page [1406895](Parque Nacional do Vale da Morte) downloaded successfuly (922 of 1000)\n",
      "Page [60879](Parque Nacional de Yosemite) downloaded successfuly (923 of 1000)\n",
      "Page [1488436](Parque Nacional do Cânion Negro de Gunnison) downloaded successfuly (924 of 1000)\n",
      "Page [1488451](Parque Nacional e Reserva de Great Sand Dunes) downloaded successfuly (925 of 1000)\n",
      "Page [1311657](Parque Nacional de Mesa Verde) downloaded successfuly (926 of 1000)\n",
      "Page [1488467](Parque Nacional das Montanhas Rochosas) downloaded successfuly (927 of 1000)\n",
      "Page [1488429](Parque Nacional dos Arcos) downloaded successfuly (928 of 1000)\n",
      "Page [1488437](Parque Nacional de Bryce Canyon) downloaded successfuly (929 of 1000)\n",
      "Page [1488439](Parque Nacional de Capitol Reef) downloaded successfuly (930 of 1000)\n",
      "Page [1488477](Parque Nacional de Zion) downloaded successfuly (931 of 1000)\n",
      "Page [1267178](Parque Nacional de Grand Teton) downloaded successfuly (932 of 1000)\n",
      "Page [365443](Parque Nacional de Yellowstone) downloaded successfuly (933 of 1000)\n",
      "Page [1987229](Lista de parques estaduais do Arizona) downloaded successfuly (934 of 1000)\n",
      "Page [5452362](Departamento de Parques e Recreação da Califórnia) downloaded successfuly (935 of 1000)\n",
      "Page [5452354](Lista de parques estaduais da Califórnia) downloaded successfuly (936 of 1000)\n",
      "Page [1472292](Bodie (Califórnia)) downloaded successfuly (937 of 1000)\n",
      "Page [2443810](Parque Estadual das Grandes Árvores de Calaveras) downloaded successfuly (938 of 1000)\n",
      "Page [4324968](Reserva Nacional Big Cypress) downloaded successfuly (939 of 1000)\n",
      "Page [1677680](Lista de cidades do Alasca) downloaded successfuly (940 of 1000)\n",
      "Page [278556](Predefinição:Alasca/Cidades) downloaded successfuly (941 of 1000)\n",
      "Page [1357429](Akhiok (Alasca)) downloaded successfuly (942 of 1000)\n",
      "Page [1357426](Akiachak (Alasca)) downloaded successfuly (943 of 1000)\n",
      "Page [1357423](Akiak (Alasca)) downloaded successfuly (944 of 1000)\n",
      "Page [1357420](Alakanuk (Alasca)) downloaded successfuly (945 of 1000)\n",
      "Page [1357417](Alatna (Alasca)) downloaded successfuly (946 of 1000)\n",
      "Page [1357413](Alcan Border) downloaded successfuly (947 of 1000)\n",
      "Page [1357410](Aleknagik (Alasca)) downloaded successfuly (948 of 1000)\n",
      "Page [1357407](Aleneva (Alasca)) downloaded successfuly (949 of 1000)\n",
      "Page [1357403](Allakaket (Alasca)) downloaded successfuly (950 of 1000)\n",
      "Page [1357400](Ambler (Alasca)) downloaded successfuly (951 of 1000)\n",
      "Page [1357397](Anaktuvuk Pass) downloaded successfuly (952 of 1000)\n",
      "Page [1357394](Angoon (Alasca)) downloaded successfuly (953 of 1000)\n",
      "Page [1357391](Aniak (Alasca)) downloaded successfuly (954 of 1000)\n",
      "Page [1357388](Anvik (Alasca)) downloaded successfuly (955 of 1000)\n",
      "Page [1357385](Atmautluak (Alasca)) downloaded successfuly (956 of 1000)\n",
      "Page [1357382](Bear Creek (Alasca)) downloaded successfuly (957 of 1000)\n",
      "Page [1357378](Beaver (Alasca)) downloaded successfuly (958 of 1000)\n",
      "Page [1357375](Beluga (Alasca)) downloaded successfuly (959 of 1000)\n",
      "Page [1357372](Bettles (Alasca)) downloaded successfuly (960 of 1000)\n",
      "Page [1357369](Big Delta (Alasca)) downloaded successfuly (961 of 1000)\n",
      "Page [1357367](Big Lake (Alasca)) downloaded successfuly (962 of 1000)\n",
      "Page [1357364](Birch Creek) downloaded successfuly (963 of 1000)\n",
      "Page [1357360](Brevig Mission) downloaded successfuly (964 of 1000)\n",
      "Page [1357357](Buckland (Alasca)) downloaded successfuly (965 of 1000)\n",
      "Page [1357354](Buffalo Soapstone (Alasca)) downloaded successfuly (966 of 1000)\n",
      "Page [1357350](Butte (Alasca)) downloaded successfuly (967 of 1000)\n",
      "Page [1357347](Cantwell (Alasca)) downloaded successfuly (968 of 1000)\n",
      "Page [1357343](Central (Alasca)) downloaded successfuly (969 of 1000)\n",
      "Page [1357340](Chalkyitsik (Alasca)) downloaded successfuly (970 of 1000)\n",
      "Page [1357337](Chase (Alasca)) downloaded successfuly (971 of 1000)\n",
      "Page [1357332](Chefornak (Alasca)) downloaded successfuly (972 of 1000)\n",
      "Page [1357329](Chenega (Alasca)) downloaded successfuly (973 of 1000)\n",
      "Page [1357324](Chevak (Alasca)) downloaded successfuly (974 of 1000)\n",
      "Page [1357321](Chickaloon (Alasca)) downloaded successfuly (975 of 1000)\n",
      "Page [1357317](Chicken (Alasca)) downloaded successfuly (976 of 1000)\n",
      "Page [1357313](Chignik (Alasca)) downloaded successfuly (977 of 1000)\n",
      "Page [1357310](Chignik Lagoon (Alasca)) downloaded successfuly (978 of 1000)\n",
      "Page [1357306](Chignik Lake (Alasca)) downloaded successfuly (979 of 1000)\n",
      "Page [1357303](Chiniak (Alasca)) downloaded successfuly (980 of 1000)\n",
      "Page [1357299](Chisana (Alasca)) downloaded successfuly (981 of 1000)\n",
      "Page [1357296](Chistochina (Alasca)) downloaded successfuly (982 of 1000)\n",
      "Page [1357293](Chitina (Alasca)) downloaded successfuly (983 of 1000)\n",
      "Page [1357289](Chuathbaluk (Alasca)) downloaded successfuly (984 of 1000)\n",
      "Page [1275905](Circle (Alasca)) downloaded successfuly (985 of 1000)\n",
      "Page [1357286](Clam Gulch (Alasca)) downloaded successfuly (986 of 1000)\n",
      "Page [1357283](Clark's Point) downloaded successfuly (987 of 1000)\n",
      "Page [1357280](Coffman Cove) downloaded successfuly (988 of 1000)\n",
      "Page [1357277](Cohoe) downloaded successfuly (989 of 1000)\n",
      "Page [1357274](Cold Bay) downloaded successfuly (990 of 1000)\n",
      "Page [1357270](Coldfoot) downloaded successfuly (991 of 1000)\n",
      "Page [1357267](College (Alasca)) downloaded successfuly (992 of 1000)\n",
      "Page [1357264](Cooper Landing) downloaded successfuly (993 of 1000)\n",
      "Page [1357261](Copper Center) downloaded successfuly (994 of 1000)\n",
      "Page [1357257](Copperville) downloaded successfuly (995 of 1000)\n",
      "Page [1357251](Covenant Life) downloaded successfuly (996 of 1000)\n",
      "Page [1357248](Craig (Alasca)) downloaded successfuly (997 of 1000)\n",
      "Page [1357245](Crooked Creek) downloaded successfuly (998 of 1000)\n",
      "Page [1357241](Crown Point (Alasca)) downloaded successfuly (999 of 1000)\n",
      "Page [1357238](Cube Cove) downloaded successfuly (1000 of 1000)\n"
     ]
    }
   ],
   "source": [
    "total = 1000\n",
    "current = 1\n",
    "pages_for_download = get_pages_for_download(total)\n",
    "for page in pages_for_download:\n",
    "    page_wikitext = copy_page_with_wikitext(page)\n",
    "    del page_wikitext['_id']\n",
    "    mongo_content.insert_one(page_wikitext)\n",
    "    mongo_pages.update_one(\n",
    "        { 'pageid': page['pageid'] },\n",
    "        { '$set': { 'download': 'Done' }}\n",
    "    )\n",
    "    print(f'Page [{page[\"pageid\"]}]({page[\"title\"]}) downloaded successfuly ({current} of {total})')\n",
    "    current = current + 1\n",
    "    time.sleep(2)"
   ]
  },
  {
   "cell_type": "code",
   "execution_count": 59,
   "metadata": {},
   "outputs": [
    {
     "output_type": "stream",
     "name": "stdout",
     "text": [
      "Page download counts: [{'_id': 'Waiting', 'total': 737}, {'_id': 'Done', 'total': 1877}]\nPages with wikitext: 2360\n"
     ]
    }
   ],
   "source": [
    "pdc = get_pages_downloads_counts()\n",
    "print(f'Page download counts: {pdc}')\n",
    "pages_wikitext_counts = mongo_content.count_documents({})\n",
    "print(f'Pages with wikitext: {pages_wikitext_counts}')\n"
   ]
  },
  {
   "source": [
    "### Download page texts"
   ],
   "cell_type": "markdown",
   "metadata": {}
  },
  {
   "cell_type": "code",
   "execution_count": null,
   "metadata": {},
   "outputs": [],
   "source": [
    "total = 100\n",
    "current = 1\n",
    "pages_contents = mongo_content.find({}).limit(total)\n",
    "for pc in pages_contents:\n",
    "    pageid = pc['pageid']\n",
    "    text = get_text(pageid)\n",
    "    pages_contents.update_many(\n",
    "        { 'pageid': pageid },\n",
    "        { '$set': { 'text': text } }\n",
    "    )\n",
    "    print(f'Page text [{page[\"pageid\"]}]({page[\"title\"]}) downloaded successfuly ({current} of {total})')\n"
   ]
  }
 ]
}