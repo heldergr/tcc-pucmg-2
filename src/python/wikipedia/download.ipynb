{
 "metadata": {
  "language_info": {
   "codemirror_mode": {
    "name": "ipython",
    "version": 3
   },
   "file_extension": ".py",
   "mimetype": "text/x-python",
   "name": "python",
   "nbconvert_exporter": "python",
   "pygments_lexer": "ipython3",
   "version": "3.8.10"
  },
  "orig_nbformat": 2,
  "kernelspec": {
   "name": "python3",
   "display_name": "Python 3.8.10 64-bit ('tcc-venv': venv)"
  },
  "interpreter": {
   "hash": "e40f5302c6d4b9de2141353283620edefcabae1dbe23ed7117377b1c1ce32e40"
  }
 },
 "nbformat": 4,
 "nbformat_minor": 2,
 "cells": [
  {
   "source": [
    "# Wikipedia"
   ],
   "cell_type": "markdown",
   "metadata": {}
  },
  {
   "cell_type": "code",
   "execution_count": 1,
   "metadata": {},
   "outputs": [],
   "source": [
    "from urllib.parse import urlencode\n",
    "import requests\n",
    "from pymongo import MongoClient\n",
    "import time\n",
    "import pandas as pd"
   ]
  },
  {
   "source": [
    "## MongoDB Setup"
   ],
   "cell_type": "markdown",
   "metadata": {}
  },
  {
   "cell_type": "code",
   "execution_count": 2,
   "metadata": {},
   "outputs": [],
   "source": [
    "# Creates client with default server and port\n",
    "client = MongoClient()\n",
    "\n",
    "# Get database \"wikipedia\"\n",
    "db = client.wikipedia\n",
    "\n",
    "# Get references to *pages* and *categories* collections\n",
    "mongo_pages = db.pages\n",
    "mongo_categories = db.categories\n",
    "mongo_content = db.pages_content"
   ]
  },
  {
   "source": [
    "## Download categories and pages from Wikipedia"
   ],
   "cell_type": "markdown",
   "metadata": {}
  },
  {
   "cell_type": "code",
   "execution_count": 3,
   "metadata": {},
   "outputs": [],
   "source": [
    "# https://pt.wikipedia.org/w/api.php?action=query&format=json&list=categorymembers&cmtitle=Category%3AArgentina&cmlimit=200\n",
    "url_base = 'https://pt.wikipedia.org/w/api.php'\n",
    "f = { \n",
    "    'action': 'query',\n",
    "    'format': 'json',\n",
    "    'list': 'categorymembers',\n",
    "     'cmlimit': '200',\n",
    "     'cmprop': 'ids|title|type'\n",
    "}\n",
    "def parameters_category_members(cmtitle = None, cmpageid = -1):\n",
    "    fc = f.copy()\n",
    "    if cmpageid != -1:\n",
    "        fc['cmpageid'] = cmpageid\n",
    "    else:\n",
    "        fc['cmtitle'] = cmtitle\n",
    "    return fc\n",
    "\n",
    "def get_url(parameters):\n",
    "    return f'{url_base}{parameters}'\n",
    "\n",
    "def get_url_category(cmtitle):\n",
    "    parameters_argentina = parameters_category_members('Category:Argentina')\n",
    "    return get_url(urlencode(parameters_argentina))\n",
    "\n",
    "def get_category(cmtitle = None, cmpageid = -1):\n",
    "    params_category = parameters_category_members(cmtitle, cmpageid)\n",
    "    category_r = requests.get(url_base, params=params_category)\n",
    "    category_content = []\n",
    "    if category_r.status_code == 200:\n",
    "        category_content = category_r.json()\n",
    "    return category_content\n",
    "\n",
    "def get_category_members(cmtitle = None, cmpageid = -1):\n",
    "    return get_category(cmtitle=cmtitle, cmpageid=cmpageid)['query']['categorymembers']"
   ]
  },
  {
   "source": [
    "## Insert and retrieve data from MongoDB\n",
    "\n",
    "- Categories status\n",
    "    * Check: waiting for someone to check if it has to be downloaded\n",
    "    * Waiting: waiting for dowload\n",
    "    * Skeep: skeep download of this category\n",
    "    * Done: downloaded\n",
    "- Pages status\n",
    "    * Waiting: waiting for download"
   ],
   "cell_type": "markdown",
   "metadata": {}
  },
  {
   "cell_type": "code",
   "execution_count": 4,
   "metadata": {},
   "outputs": [],
   "source": [
    "def get_categories_for_download():\n",
    "    waiting_criteria = { 'download': 'Waiting' }\n",
    "    return list(mongo_categories.find(waiting_criteria))\n",
    "\n",
    "def add_categories_for_check(categories_for_check):\n",
    "    add_categories_for_status(categories_for_check, 'Check')\n",
    "\n",
    "def add_category_for_download(pageid):\n",
    "    mongo_categories.update_one(\n",
    "        { \"pageid\": pageid },\n",
    "        { \"$set\": { 'download': 'Waiting' } }\n",
    "    )\n",
    "\n",
    "def set_category_done(pageid):\n",
    "    mongo_categories.update_one(\n",
    "        { \"pageid\": pageid },\n",
    "        { \"$set\": { 'download': 'Done' } }\n",
    "    )\n",
    "\n",
    "def set_category_skeep(pageid):\n",
    "    set_category_status(pageid, category_status='Skeep')\n",
    "\n",
    "def set_category_status(pageid, category_status):\n",
    "    mongo_categories.update_one(\n",
    "        { \"pageid\": pageid },\n",
    "        { \"$set\": { 'download': category_status } }\n",
    "    )\n",
    "\n",
    "def add_categories_for_status(categories_for_status, status):\n",
    "    if len(categories_for_status) > 0:\n",
    "        for category_for_status in categories_for_status:\n",
    "            category_for_status['download'] = status\n",
    "        mongo_categories.insert_many(categories_for_status)\n",
    "    \n",
    "def category_exists(cmpageid):\n",
    "    return mongo_categories.count_documents({'pageid': cmpageid}) > 0"
   ]
  },
  {
   "source": [
    "## Algorithm"
   ],
   "cell_type": "markdown",
   "metadata": {}
  },
  {
   "cell_type": "code",
   "execution_count": 10,
   "metadata": {},
   "outputs": [],
   "source": [
    "def insert_pages(pages, cmpageid, cmtitle):\n",
    "    if len(pages) > 0:\n",
    "        for page in pages:\n",
    "            page['category_id'] = cmpageid\n",
    "            page['category_title'] = cmtitle\n",
    "            page['download'] = 'Waiting'\n",
    "        mongo_pages.insert_many(pages)\n",
    "\n",
    "def download_subcategories(subcategories):\n",
    "    if len(subcategories) > 0:\n",
    "        for subcategory in subcategories:\n",
    "            download_category_tree(subcategory)\n",
    "\n",
    "def download_category_tree(category, country):\n",
    "    # Sleep for 1 second before starting download one category tree\n",
    "    time.sleep(1)\n",
    "\n",
    "    cmpageid = category['pageid']\n",
    "    cmtitle = category[\"title\"]\n",
    "    print(f'Retrieving pages for category {cmtitle} [{cmpageid}]')\n",
    "    \n",
    "    members = get_category_members(cmpageid=cmpageid)\n",
    "    pages = [m for m in members if m['type'] == 'page']\n",
    "    for p in pages:\n",
    "        p['country'] = country\n",
    "    insert_pages(pages, cmpageid, cmtitle)\n",
    "    subcats = [m for m in members if m['type'] == 'subcat']\n",
    "    for s in subcats:\n",
    "        s['parent'] = cmpageid\n",
    "        s['country'] = country\n",
    "    subcats_for_check = [s for s in subcats if not category_exists(s['pageid'])]\n",
    "    add_categories_for_check(subcats_for_check)\n",
    "    set_category_done(cmpageid)"
   ]
  },
  {
   "source": [
    "### Inicializa todas as subcategorias da principal *Argentina*"
   ],
   "cell_type": "markdown",
   "metadata": {}
  },
  {
   "cell_type": "code",
   "execution_count": 5,
   "metadata": {},
   "outputs": [],
   "source": [
    "members_categories_argentina = get_category_members(cmtitle='Category:Argentina')\n",
    "pages_argentina = [m for m in members_categories_argentina if m['type'] == 'page']\n",
    "subcategories_argentina = [m for m in members_categories_argentina if m['type'] == 'subcat']\n",
    "# add_categories_for_check(subcategories_argentina)"
   ]
  },
  {
   "source": [
    "### Inicializa todas as subcategorias da principal Chile"
   ],
   "cell_type": "markdown",
   "metadata": {}
  },
  {
   "cell_type": "code",
   "execution_count": 8,
   "metadata": {},
   "outputs": [],
   "source": [
    "members_categories_chile = get_category_members(cmtitle='Category:Chile')\n",
    "for mcc in members_categories_chile:\n",
    "    mcc['country'] = 'Chile'\n",
    "subcategories_chile = [m for m in members_categories_chile if m['type'] == 'subcat']\n",
    "# add_categories_for_check(subcategories_chile)"
   ]
  },
  {
   "source": [
    "### Inicializa todas as subcategorias da Nova Zelândia"
   ],
   "cell_type": "markdown",
   "metadata": {}
  },
  {
   "cell_type": "code",
   "execution_count": 46,
   "metadata": {},
   "outputs": [],
   "source": [
    "members_categories_nz = get_category_members(cmtitle='Categoria:Nova_Zelândia')\n",
    "for mcnz in members_categories_nz:\n",
    "    mcnz['country'] = 'Nova Zelandia'\n",
    "subcategories_nz = [m for m in members_categories_nz if m['type'] == 'subcat']\n",
    "# add_categories_for_check(subcategories_nz)"
   ]
  },
  {
   "source": [
    "### Inicializa todas as subcategorias dos Estados Unidos"
   ],
   "cell_type": "markdown",
   "metadata": {}
  },
  {
   "cell_type": "code",
   "execution_count": 16,
   "metadata": {},
   "outputs": [],
   "source": [
    "# Categoria:Estados_Unidos\n",
    "members_categories_usa = get_category_members(cmtitle='Categoria:Estados_Unidos')\n",
    "for mcusa in members_categories_usa:\n",
    "    mcusa['country'] = 'Estados Unidos'\n",
    "subcategories_usa = [m for m in members_categories_usa if m['type'] == 'subcat']\n",
    "add_categories_for_check(subcategories_usa)"
   ]
  },
  {
   "source": [
    "### Marca categorias para download"
   ],
   "cell_type": "markdown",
   "metadata": {}
  },
  {
   "cell_type": "code",
   "execution_count": 120,
   "metadata": {},
   "outputs": [],
   "source": [
    "ids = [5568913, 5600226, 2976735, 3229009, 3228959, 5543207, 206176,3228965, 1935902,3266151,  3572256, 3544176, 1715183, 4852814, 4814502, 2178241,5580178, 3472896,  4814499, 5577558, 2201392]\n",
    "for id in ids:\n",
    "    add_category_for_download(pageid=id)"
   ]
  },
  {
   "source": [
    "### Executa download das páginas das categorias marcadas para Download"
   ],
   "cell_type": "markdown",
   "metadata": {}
  },
  {
   "cell_type": "code",
   "execution_count": 121,
   "metadata": {},
   "outputs": [
    {
     "output_type": "stream",
     "name": "stdout",
     "text": [
      "21 categoria(s) marcadas para download\n",
      "Retrieving pages for category Categoria:Corpos de água do Alasca [5568913]\n",
      "Retrieving pages for category Categoria:Arquipélagos do Alasca [5600226]\n",
      "Retrieving pages for category Categoria:Baías do Alasca [2976735]\n",
      "Retrieving pages for category Categoria:Cabos do Alasca [3229009]\n",
      "Retrieving pages for category Categoria:Estreitos do Alasca [3228959]\n",
      "Retrieving pages for category Categoria:Golfos e baías do Alasca [5543207]\n",
      "Retrieving pages for category Categoria:Ilhas do Alasca [206176]\n",
      "Retrieving pages for category Categoria:Penínsulas do Alasca [3228965]\n",
      "Retrieving pages for category Categoria:Rios do Alasca [1935902]\n",
      "Retrieving pages for category Categoria:Vulcões do Alasca [3266151]\n",
      "Retrieving pages for category Categoria:California Trail [3572256]\n",
      "Retrieving pages for category Categoria:Oregon Trail [3544176]\n",
      "Retrieving pages for category Categoria:Vale da Morte [1715183]\n",
      "Retrieving pages for category Categoria:Parque Nacional da Sequoia [4852814]\n",
      "Retrieving pages for category Categoria:Parque Nacional do Vale da Morte [4814502]\n",
      "Retrieving pages for category Categoria:Parque Nacional de Yosemite [2178241]\n",
      "Retrieving pages for category Categoria:Parque Nacional de Canyonlands [5580178]\n",
      "Retrieving pages for category Categoria:Parque Nacional de Yellowstone [3472896]\n",
      "Retrieving pages for category Categoria:Deserto de Mojave [4814499]\n",
      "Retrieving pages for category Categoria:Afluentes do rio Colorado [5577558]\n",
      "Retrieving pages for category Categoria:Sierra Nevada [2201392]\n"
     ]
    }
   ],
   "source": [
    "# Busca categorias marcadas para download\n",
    "categories_for_download = get_categories_for_download()\n",
    "print(f'{len(categories_for_download)} categoria(s) marcadas para download')\n",
    "\n",
    "# Faz download de cada categoria\n",
    "for c in categories_for_download:\n",
    "    download_category_tree(c, 'Estados Unidos')"
   ]
  },
  {
   "source": [
    "### Analisar categorias para Check"
   ],
   "cell_type": "markdown",
   "metadata": {}
  },
  {
   "cell_type": "code",
   "execution_count": 122,
   "metadata": {},
   "outputs": [],
   "source": [
    "for_skeep = []\n",
    "if (len(for_skeep) > 0):\n",
    "    for sk in for_skeep:\n",
    "        set_category_skeep(sk)\n",
    "\n",
    "for_check = list(mongo_categories.find({ 'download': 'Check', 'country': 'Estados Unidos'}))\n",
    "\n",
    "# usa = [5577536, 3203291, 2403918, 2671885, 4914662, 4400845, 3439705, 4149018,2739967, 4133805, 2739980, 5589663, 4133798]\n",
    "usa_4_check = [(fc['pageid'], fc['title']) for fc in for_check]"
   ]
  },
  {
   "cell_type": "code",
   "execution_count": 19,
   "metadata": {},
   "outputs": [],
   "source": [
    "usa = [3003786, 2966383, 2511655, 2541119, 3166610]"
   ]
  },
  {
   "source": [
    "### Backup do que já foi feito download"
   ],
   "cell_type": "markdown",
   "metadata": {}
  },
  {
   "cell_type": "code",
   "execution_count": 131,
   "metadata": {},
   "outputs": [],
   "source": [
    "# Categorias\n",
    "categories = list(mongo_categories.find())\n",
    "categories_df = pd.DataFrame(categories)\n",
    "categories_df.to_csv('categories.csv')"
   ]
  },
  {
   "cell_type": "code",
   "execution_count": 132,
   "metadata": {},
   "outputs": [],
   "source": [
    "pages = list(mongo_pages.find())\n",
    "pages_df = pd.DataFrame(pages)\n",
    "pages_df.to_csv('pages.csv')"
   ]
  },
  {
   "cell_type": "code",
   "execution_count": 61,
   "metadata": {},
   "outputs": [
    {
     "output_type": "execute_result",
     "data": {
      "text/plain": [
       "(498, 8)"
      ]
     },
     "metadata": {},
     "execution_count": 61
    }
   ],
   "source": [
    "pages_df.shape"
   ]
  },
  {
   "source": [
    "### Verificar categorias e páginas sem country"
   ],
   "cell_type": "markdown",
   "metadata": {}
  },
  {
   "cell_type": "code",
   "execution_count": 37,
   "metadata": {},
   "outputs": [
    {
     "output_type": "stream",
     "name": "stdout",
     "text": [
      "0 pages found with no country\n0 categories found with no country\n"
     ]
    }
   ],
   "source": [
    "# Pages\n",
    "pages_no_country = list(db.pages.find({\"country\": {\"$exists\": False }}))\n",
    "print(f'{len(pages_no_country)} pages found with no country')\n",
    "\n",
    "# Categories\n",
    "categories_no_country = list(db.categories.find({\"country\": {\"$exists\": False }}))\n",
    "print(f'{len(categories_no_country)} categories found with no country')"
   ]
  },
  {
   "source": [
    "### Corrigir categorias e paginas dos Estados Unidos marcadas como Nova Zelandia"
   ],
   "cell_type": "markdown",
   "metadata": {}
  },
  {
   "cell_type": "code",
   "execution_count": 26,
   "metadata": {},
   "outputs": [],
   "source": [
    "nz = list(mongo_categories.find({ 'country': 'Nova Zelandia'}))\n",
    "\n",
    "nz_with_usa = [c for c in nz if \"Estados Unidos\" in c['title']]\n",
    "for cat_fix in nz_with_usa:\n",
    "    mongo_categories.update_one(\n",
    "        { '_id': cat_fix['_id']},\n",
    "        { '$set': { 'country': 'Estados Unidos'}}\n",
    "    )"
   ]
  },
  {
   "cell_type": "code",
   "execution_count": 41,
   "metadata": {},
   "outputs": [],
   "source": [
    "nz = list(mongo_pages.find({ 'country': 'Nova Zelandia'}))\n",
    "nz_with_usa = [c for c in nz if \"Estados Unidos\" in c['title']]\n",
    "\n",
    "for pag_fix in nz_with_usa:\n",
    "    mongo_pages.update_one(\n",
    "        { '_id': pag_fix['_id']},\n",
    "        { '$set': { 'country': 'Estados Unidos'}}\n",
    "    )"
   ]
  },
  {
   "cell_type": "code",
   "execution_count": 129,
   "metadata": {},
   "outputs": [],
   "source": [
    "nz = list(mongo_pages.find({ 'country': 'Nova Zelandia'}))\n",
    "nz_with_usa = [c for c in nz if \"Estados Unidos\" in c['category_title']]\n",
    "\n",
    "for pag_fix in nz_with_usa:\n",
    "    mongo_pages.update_one(\n",
    "        { '_id': pag_fix['_id']},\n",
    "        { '$set': { 'country': 'Estados Unidos'}}\n",
    "    )"
   ]
  },
  {
   "source": [
    "## Download de páginas"
   ],
   "cell_type": "markdown",
   "metadata": {}
  },
  {
   "cell_type": "code",
   "execution_count": 11,
   "metadata": {},
   "outputs": [],
   "source": [
    "url_base = 'https://pt.wikipedia.org/w/api.php'\n",
    "\n",
    "def get_pages_for_download(limite=100):\n",
    "    return list(mongo_pages.find({ 'download': 'Waiting' }).limit(limite))\n",
    "\n",
    "def get_pages_for_text_download(limite=100):\n",
    "    return list(mongo_content.find({ 'download_text': 'Waiting' }).limit(limite))\n",
    "\n",
    "def get_pages_downloads_counts():\n",
    "    return list(mongo_pages.aggregate([\n",
    "        { '$group': { '_id': '$download', 'total': { '$sum': 1 } } }\n",
    "    ]))\n",
    "\n",
    "def get_pages_text_downloads_counts():\n",
    "    return list(mongo_content.aggregate([\n",
    "        { '$group': { '_id': '$download_text', 'total': { '$sum': 1 } } }\n",
    "    ]))\n",
    "\n",
    "# https://en.wikipedia.org/w/api.php?action=parse&format=json&pageid=3276454&prop=wikitext&formatversion=2\n",
    "f_page = { \n",
    "    'action': 'parse',\n",
    "    'format': 'json',\n",
    "    'formatversion': '2'\n",
    "}\n",
    "\n",
    "def parameters_wikitext(pageid):\n",
    "    fc = f_page.copy()\n",
    "    fc['pageid'] = pageid\n",
    "    fc['prop'] = 'wikitext'\n",
    "    return fc\n",
    "\n",
    "def parameters_text(pageid):\n",
    "    fc = f_page.copy()\n",
    "    fc['pageid'] = pageid\n",
    "    fc['prop'] = 'text'\n",
    "    return fc\n",
    "\n",
    "def get_wikitext(pageid):\n",
    "    params_wikitext = parameters_wikitext(pageid)\n",
    "    wikitext_r = requests.get(url_base, params=params_wikitext)\n",
    "    wikitext_content = {}\n",
    "    if wikitext_r.status_code == 200:\n",
    "        wikitext_content = wikitext_r.json()\n",
    "    else:\n",
    "        print(f'Erro ao fazer download de wikitext de pagina {pageid}')\n",
    "    return wikitext_content\n",
    "\n",
    "def get_text(pageid):\n",
    "    params_text = parameters_text(pageid)\n",
    "    text_r = requests.get(url_base, params=params_text)\n",
    "    text_content = {}\n",
    "    if text_r.status_code == 200:\n",
    "       text_content = text_r.json()\n",
    "    else:\n",
    "        print(f'Erro ao fazer download de text de pagina {pageid}')\n",
    "    return text_content\n",
    "\n",
    "def copy_page_with_wikitext(page):\n",
    "    p_wikitext = page.copy()\n",
    "    p_wikitext['wikitext'] = get_wikitext(page['pageid'])['parse']['wikitext']\n",
    "    return p_wikitext\n",
    "\n",
    "# get_pages_for_download()[0]"
   ]
  },
  {
   "source": [
    "### Download page wikitexts"
   ],
   "cell_type": "markdown",
   "metadata": {}
  },
  {
   "cell_type": "code",
   "execution_count": 5,
   "metadata": {
    "tags": [
     "outputPrepend"
    ]
   },
   "outputs": [
    {
     "output_type": "stream",
     "name": "stdout",
     "text": [
      "ntes Uinta) downloaded successfuly (445 of 737)\n",
      "Page [4202100](Cordilheira Wasatch) downloaded successfuly (446 of 737)\n",
      "Page [344031](Parque Nacional do Grand Canyon) downloaded successfuly (447 of 737)\n",
      "Page [1749897](Cordilheira do Alasca) downloaded successfuly (448 of 737)\n",
      "Page [4201510](Cordilheira Aleutiana) downloaded successfuly (449 of 737)\n",
      "Page [5700682](Montanhas Chigmit) downloaded successfuly (450 of 737)\n",
      "Page [5949882](Montes Chugach) downloaded successfuly (451 of 737)\n",
      "Page [1749927](Montanhas Costeiras) downloaded successfuly (452 of 737)\n",
      "Page [2457040](Montes Kenai) downloaded successfuly (453 of 737)\n",
      "Page [4300385](Montanhas de Santo Elias) downloaded successfuly (454 of 737)\n",
      "Page [2557819](Montes Wrangell) downloaded successfuly (455 of 737)\n",
      "Page [196346](Black Hills) downloaded successfuly (456 of 737)\n",
      "Page [3501598](Cordilheira Wyoming) downloaded successfuly (457 of 737)\n",
      "Page [2852043](Cordilheira Teton) downloaded successfuly (458 of 737)\n",
      "Page [3544078](Cordilheira Wind River) downloaded successfuly (459 of 737)\n",
      "Page [1405936](Glaciar Columbia) downloaded successfuly (460 of 737)\n",
      "Page [6379071](Geleira Margerie) downloaded successfuly (461 of 737)\n",
      "Page [1403118](Glaciar Mendenhall) downloaded successfuly (462 of 737)\n",
      "Page [1393890](Glaciar Taku) downloaded successfuly (463 of 737)\n",
      "Page [2553106](Monte Blackburn) downloaded successfuly (464 of 737)\n",
      "Page [3692051](Monte Cleveland) downloaded successfuly (465 of 737)\n",
      "Page [165788](Cold Bay (vulcão)) downloaded successfuly (466 of 737)\n",
      "Page [445474](Monte Denali) downloaded successfuly (467 of 737)\n",
      "Page [1743557](Monte Fairweather) downloaded successfuly (468 of 737)\n",
      "Page [1749938](Monte Foraker) downloaded successfuly (469 of 737)\n",
      "Page [5948192](Monte Gareloi) downloaded successfuly (470 of 737)\n",
      "Page [3105440](Monte Hayes) downloaded successfuly (471 of 737)\n",
      "Page [5924603](Monte Hubbard) downloaded successfuly (472 of 737)\n",
      "Page [4627849](Monte Marcus Baker) downloaded successfuly (473 of 737)\n",
      "Page [2003768](Novarupta) downloaded successfuly (474 of 737)\n",
      "Page [6309888](Monte Okmok) downloaded successfuly (475 of 737)\n",
      "Page [3524644](Monte Sanford) downloaded successfuly (476 of 737)\n",
      "Page [721991](Monte Santo Elias) downloaded successfuly (477 of 737)\n",
      "Page [3460416](Monte Shishaldin) downloaded successfuly (478 of 737)\n",
      "Page [2458091](Monte Spurr) downloaded successfuly (479 of 737)\n",
      "Page [3524490](Tanaga) downloaded successfuly (480 of 737)\n",
      "Page [4295761](Monte Torbert) downloaded successfuly (481 of 737)\n",
      "Page [4870775](Monte Vancouver) downloaded successfuly (482 of 737)\n",
      "Page [2647628](Monte Vsevidof) downloaded successfuly (483 of 737)\n",
      "Page [1394052](Campo de gelo de Juneau) downloaded successfuly (484 of 737)\n",
      "Page [1157604](Golfo do Alasca) downloaded successfuly (485 of 737)\n",
      "Page [90694](Mar de Beaufort) downloaded successfuly (486 of 737)\n",
      "Page [4365725](Ilhas ABC (Alasca)) downloaded successfuly (487 of 737)\n",
      "Page [3223854](Arquipélago Kodiak) downloaded successfuly (488 of 737)\n",
      "Page [1985902](Ilhas Pribilof) downloaded successfuly (489 of 737)\n",
      "Page [2466486](Baía de Bristol) downloaded successfuly (490 of 737)\n",
      "Page [4365702](Baía dos Glaciares) downloaded successfuly (491 of 737)\n",
      "Page [4282978](Baía Kuskokwim) downloaded successfuly (492 of 737)\n",
      "Page [3002903](Baía Lituya) downloaded successfuly (493 of 737)\n",
      "Page [4002391](Cabo Lisburne) downloaded successfuly (494 of 737)\n",
      "Page [2495188](Point Barrow) downloaded successfuly (495 of 737)\n",
      "Page [4188914](Point Hope (Alasca)) downloaded successfuly (496 of 737)\n",
      "Page [1853457](Cabo Príncipe de Gales) downloaded successfuly (497 of 737)\n",
      "Page [2976388](Passagem Amchitka) downloaded successfuly (498 of 737)\n",
      "Page [3228957](Canal de Behm) downloaded successfuly (499 of 737)\n",
      "Page [41426](Estreito de Bering) downloaded successfuly (500 of 737)\n",
      "Page [4365718](Estreito de Chatham) downloaded successfuly (501 of 737)\n",
      "Page [5951909](Estreito de Clarence) downloaded successfuly (502 of 737)\n",
      "Page [1613126](Entrada Dixon) downloaded successfuly (503 of 737)\n",
      "Page [4365713](Estreito Icy) downloaded successfuly (504 of 737)\n",
      "Page [1613337](Passagem Interior) downloaded successfuly (505 of 737)\n",
      "Page [1157622](Passagem do Noroeste) downloaded successfuly (506 of 737)\n",
      "Page [2401981](Estreito de Shelikhov) downloaded successfuly (507 of 737)\n",
      "Page [5948194](Passagem Tanaga) downloaded successfuly (508 of 737)\n",
      "Page [3527606](Golfo de Kotzebue) downloaded successfuly (509 of 737)\n",
      "Page [863661](Ilha Adak) downloaded successfuly (510 of 737)\n",
      "Page [1790056](Ilha Admiralty) downloaded successfuly (511 of 737)\n",
      "Page [5186837](Afognak) downloaded successfuly (512 of 737)\n",
      "Page [2476216](Ilha Akutan) downloaded successfuly (513 of 737)\n",
      "Page [2916131](Ilha Amaknak) downloaded successfuly (514 of 737)\n",
      "Page [2945672](Ilha Amatignak) downloaded successfuly (515 of 737)\n",
      "Page [2756369](Ilha Annette) downloaded successfuly (516 of 737)\n",
      "Page [2204516](Ilha Atka) downloaded successfuly (517 of 737)\n",
      "Page [206172](Ilha Baranof) downloaded successfuly (518 of 737)\n",
      "Page [2916589](Ilha Buldir (Alasca)) downloaded successfuly (519 of 737)\n",
      "Page [2206407](Ilha Chichagof) downloaded successfuly (520 of 737)\n",
      "Page [2402074](Ilha Dall) downloaded successfuly (521 of 737)\n",
      "Page [4362504](Ilhas Delarof) downloaded successfuly (522 of 737)\n",
      "Page [1696125](Ilhas Diomedes) downloaded successfuly (523 of 737)\n",
      "Page [1696137](Diomedes Menor) downloaded successfuly (524 of 737)\n",
      "Page [2756485](Ilha Gravina) downloaded successfuly (525 of 737)\n",
      "Page [2756436](Ilhas Gravina) downloaded successfuly (526 of 737)\n",
      "Page [1750328](Ilha Herbert) downloaded successfuly (527 of 737)\n",
      "Page [2947077](Ilha Amak) downloaded successfuly (528 of 737)\n",
      "Page [2916585](Ilha Buldir) downloaded successfuly (529 of 737)\n",
      "Page [6282226](Ilha Nelson (Alasca)) downloaded successfuly (530 of 737)\n",
      "Page [2916564](Ilha Otter (Alasca)) downloaded successfuly (531 of 737)\n",
      "Page [2087109](Ilhas Fox) downloaded successfuly (532 of 737)\n",
      "Page [3776749](Ilha Khvostof) downloaded successfuly (533 of 737)\n",
      "Page [2307274](Kiska) downloaded successfuly (534 of 737)\n",
      "Page [638932](Ilha Kodiak) downloaded successfuly (535 of 737)\n",
      "Page [3226828](Ilha Kupreanof) downloaded successfuly (536 of 737)\n",
      "Page [3222838](Ilha Montague (Alasca)) downloaded successfuly (537 of 737)\n",
      "Page [2457354](Ilha Nunivak) downloaded successfuly (538 of 737)\n",
      "Page [2531298](Ilha do Príncipe de Gales (Alasca)) downloaded successfuly (539 of 737)\n",
      "Page [4035245](Ilha do Rei) downloaded successfuly (540 of 737)\n",
      "Page [3225924](Ilha Revillagigedo) downloaded successfuly (541 of 737)\n",
      "Page [2245244](Ilha de São Lourenço) downloaded successfuly (542 of 737)\n",
      "Page [4364886](Ilha de São Mateus) downloaded successfuly (543 of 737)\n",
      "Page [2328060](Ilha de São Paulo (Alasca)) downloaded successfuly (544 of 737)\n",
      "Page [4365604](Ilhas Semidi) downloaded successfuly (545 of 737)\n",
      "Page [3776753](Ilha Semisopochnoi) downloaded successfuly (546 of 737)\n",
      "Page [2489209](Ilha Sledge) downloaded successfuly (547 of 737)\n",
      "Page [4365610](Ilha Sutwik) downloaded successfuly (548 of 737)\n",
      "Page [4269672](Ilha Umnak) downloaded successfuly (549 of 737)\n",
      "Page [2253757](Ilha Unalaska) downloaded successfuly (550 of 737)\n",
      "Page [2476315](Ilha Unalga) downloaded successfuly (551 of 737)\n",
      "Page [3224069](Ilha Unimak) downloaded successfuly (552 of 737)\n",
      "Page [6282093](Ilha Yunaska) downloaded successfuly (553 of 737)\n",
      "Page [1749909](Península do Alasca) downloaded successfuly (554 of 737)\n",
      "Page [2456142](Península de Baldwin) downloaded successfuly (555 of 737)\n",
      "Page [2456545](Península de Kenai) downloaded successfuly (556 of 737)\n",
      "Page [4167321](Península de Lisburne) downloaded successfuly (557 of 737)\n",
      "Page [1853451](Península de Seward) downloaded successfuly (558 of 737)\n",
      "Page [1935905](Rio Innoko) downloaded successfuly (559 of 737)\n",
      "Page [1935901](Rio Kuskokwim) downloaded successfuly (560 of 737)\n",
      "Page [2677123](Rio Nenana) downloaded successfuly (561 of 737)\n",
      "Page [6375728](Rio Nowitna) downloaded successfuly (562 of 737)\n",
      "Page [2671574](Rio Tanana) downloaded successfuly (563 of 737)\n",
      "Page [73712](Rio Yukon) downloaded successfuly (564 of 737)\n",
      "Page [2553106](Monte Blackburn) downloaded successfuly (565 of 737)\n",
      "Page [3692051](Monte Cleveland) downloaded successfuly (566 of 737)\n",
      "Page [165788](Cold Bay (vulcão)) downloaded successfuly (567 of 737)\n",
      "Page [5948192](Monte Gareloi) downloaded successfuly (568 of 737)\n",
      "Page [5951368](Vulcão Makushin) downloaded successfuly (569 of 737)\n",
      "Page [2003768](Novarupta) downloaded successfuly (570 of 737)\n",
      "Page [6309888](Monte Okmok) downloaded successfuly (571 of 737)\n",
      "Page [2120719](Monte Redoubt) downloaded successfuly (572 of 737)\n",
      "Page [3524644](Monte Sanford) downloaded successfuly (573 of 737)\n",
      "Page [3460416](Monte Shishaldin) downloaded successfuly (574 of 737)\n",
      "Page [2458091](Monte Spurr) downloaded successfuly (575 of 737)\n",
      "Page [3524490](Tanaga) downloaded successfuly (576 of 737)\n",
      "Page [2647628](Monte Vsevidof) downloaded successfuly (577 of 737)\n",
      "Page [3572255](California Trail) downloaded successfuly (578 of 737)\n",
      "Page [6025665](Caravana Donner) downloaded successfuly (579 of 737)\n",
      "Page [3681008](Independence Rock (Wyoming)) downloaded successfuly (580 of 737)\n",
      "Page [3550857](South Pass) downloaded successfuly (581 of 737)\n",
      "Page [4443743](Grupo Bartleson-Bidwell) downloaded successfuly (582 of 737)\n",
      "Page [3573484](Rio Blackfoot (Idaho)) downloaded successfuly (583 of 737)\n",
      "Page [1867668](Trilha Bozeman) downloaded successfuly (584 of 737)\n",
      "Page [3648137](Fort Astoria) downloaded successfuly (585 of 737)\n",
      "Page [3546212](Fort Kearny) downloaded successfuly (586 of 737)\n",
      "Page [3681008](Independence Rock (Wyoming)) downloaded successfuly (587 of 737)\n",
      "Page [3917707](Montanhas Blue (Oregon)) downloaded successfuly (588 of 737)\n",
      "Page [3546927](Mullan Road) downloaded successfuly (589 of 737)\n",
      "Page [3273627](Oregon Trail) downloaded successfuly (590 of 737)\n",
      "Page [3917731](Passo Lolo (Oregon)) downloaded successfuly (591 of 737)\n",
      "Page [3848113](Peoria Party) downloaded successfuly (592 of 737)\n",
      "Page [3550857](South Pass) downloaded successfuly (593 of 737)\n",
      "Page [3678933](Robert Stuart (explorador)) downloaded successfuly (594 of 737)\n",
      "Page [3848141](Elijah White) downloaded successfuly (595 of 737)\n",
      "Page [107023](Vale da Morte) downloaded successfuly (596 of 737)\n",
      "Page [4570981](Greed) downloaded successfuly (597 of 737)\n",
      "Page [1406895](Parque Nacional do Vale da Morte) downloaded successfuly (598 of 737)\n",
      "Page [1633474](Rochas deslizantes de Racetrack Playa) downloaded successfuly (599 of 737)\n",
      "Page [5796208](Bacia de Badwater) downloaded successfuly (600 of 737)\n",
      "Page [1172526](Zabriskie Point) downloaded successfuly (601 of 737)\n",
      "Page [1488470](Parque Nacional da Sequoia) downloaded successfuly (602 of 737)\n",
      "Page [6252450](Above Diamond) downloaded successfuly (603 of 737)\n",
      "Page [420561](General Sherman (árvore)) downloaded successfuly (604 of 737)\n",
      "Page [5228187](Illacme tobini) downloaded successfuly (605 of 737)\n",
      "Page [659259](Monte Whitney) downloaded successfuly (606 of 737)\n",
      "Page [6253200](Presidente (árvore)) downloaded successfuly (607 of 737)\n",
      "Page [1406895](Parque Nacional do Vale da Morte) downloaded successfuly (608 of 737)\n",
      "Page [5796208](Bacia de Badwater) downloaded successfuly (609 of 737)\n",
      "Page [60879](Parque Nacional de Yosemite) downloaded successfuly (610 of 737)\n",
      "Page [3050056](Predefinição:Quedas de água do Vale de Yosemite) downloaded successfuly (611 of 737)\n",
      "Page [1946070](Árvore Wawona) downloaded successfuly (612 of 737)\n",
      "Page [2178109](Bridalveil Fall) downloaded successfuly (613 of 737)\n",
      "Page [2179289](Cataratas de Yosemite) downloaded successfuly (614 of 737)\n",
      "Page [2194660](Cathedral Range) downloaded successfuly (615 of 737)\n",
      "Page [2186300](Charles Leander Weed) downloaded successfuly (616 of 737)\n",
      "Page [2195065](Chefe Tenaya) downloaded successfuly (617 of 737)\n",
      "Page [2178815](Chilnualna Falls) downloaded successfuly (618 of 737)\n",
      "Page [2194300](Clark Range) downloaded successfuly (619 of 737)\n",
      "Page [4497558](Clouds Rest) downloaded successfuly (620 of 737)\n",
      "Page [2190461](Dana Meadows) downloaded successfuly (621 of 737)\n",
      "Page [2179425](El Capitan) downloaded successfuly (622 of 737)\n",
      "Page [2194632](Galen Clark) downloaded successfuly (623 of 737)\n",
      "Page [2186578](Glaciar Lyell) downloaded successfuly (624 of 737)\n",
      "Page [2189034](Glaciar Merced) downloaded successfuly (625 of 737)\n",
      "Page [2187940](Glacier Point) downloaded successfuly (626 of 737)\n",
      "Page [2178246](Half Dome) downloaded successfuly (627 of 737)\n",
      "Page [2192337](Illilouette Fall) downloaded successfuly (628 of 737)\n",
      "Page [2180401](James Mason Hutchings) downloaded successfuly (629 of 737)\n",
      "Page [2181796](James Savage) downloaded successfuly (630 of 737)\n",
      "Page [2180410](Josiah Whitney) downloaded successfuly (631 of 737)\n",
      "Page [2192356](Lehamite Falls) downloaded successfuly (632 of 737)\n",
      "Page [2189017](Mariposa Grove) downloaded successfuly (633 of 737)\n",
      "Page [2189012](Merced Grove) downloaded successfuly (634 of 737)\n",
      "Page [2180374](Miwok) downloaded successfuly (635 of 737)\n",
      "Page [2185205](Monte Conness) downloaded successfuly (636 of 737)\n",
      "Page [2182613](Monte Dana) downloaded successfuly (637 of 737)\n",
      "Page [2185199](Monte Gibbs) downloaded successfuly (638 of 737)\n",
      "Page [2182647](Monte Lyell) downloaded successfuly (639 of 737)\n",
      "Page [2179320](Nevada Fall) downloaded successfuly (640 of 737)\n",
      "Page [2178254](North Dome) downloaded successfuly (641 of 737)\n",
      "Page [2194692](Pacific Crest Trail) downloaded successfuly (642 of 737)\n",
      "Page [2180351](Paiutes) downloaded successfuly (643 of 737)\n",
      "Page [2179778](Rio Merced) downloaded successfuly (644 of 737)\n",
      "Page [2190472](Passo Tioga) downloaded successfuly (645 of 737)\n",
      "Page [2194284](Ribbon Falls) downloaded successfuly (646 of 737)\n",
      "Page [2181238](Rio Tuolumne) downloaded successfuly (647 of 737)\n",
      "Page [2180420](Robert Underwood Johnson) downloaded successfuly (648 of 737)\n",
      "Page [2194272](Royal Arch Cascade) downloaded successfuly (649 of 737)\n",
      "Page [2100406](Sentinel Dome) downloaded successfuly (650 of 737)\n",
      "Page [2194263](Sentinel Fall) downloaded successfuly (651 of 737)\n",
      "Page [2194256](Silver Strand Falls) downloaded successfuly (652 of 737)\n",
      "Page [2194241](Snow Creek Falls) downloaded successfuly (653 of 737)\n",
      "Page [2194231](Staircase Falls) downloaded successfuly (654 of 737)\n",
      "Page [2195073](The Discovery of the Yosemite) downloaded successfuly (655 of 737)\n",
      "Page [2181858](Thomas Ayres) downloaded successfuly (656 of 737)\n",
      "Page [2194220](Tueeulala Falls) downloaded successfuly (657 of 737)\n",
      "Page [2195056](Tunnel View) downloaded successfuly (658 of 737)\n",
      "Page [2188994](Tuolumne Grove) downloaded successfuly (659 of 737)\n",
      "Page [2190456](Tuolumne Meadows) downloaded successfuly (660 of 737)\n",
      "Page [2185219](Vale de Hetch Hetchy) downloaded successfuly (661 of 737)\n",
      "Page [2178063](Vale de Yosemite) downloaded successfuly (662 of 737)\n",
      "Page [2178846](Vernal Fall) downloaded successfuly (663 of 737)\n",
      "Page [2194207](Wapama Falls) downloaded successfuly (664 of 737)\n",
      "Page [2194184](Waterwheel Falls) downloaded successfuly (665 of 737)\n",
      "Page [2195061](Wawona) downloaded successfuly (666 of 737)\n",
      "Page [2186322](Wildcat Falls) downloaded successfuly (667 of 737)\n",
      "Page [1488438](Parque Nacional de Canyonlands) downloaded successfuly (668 of 737)\n",
      "Page [3863293](Blue John Canyon) downloaded successfuly (669 of 737)\n",
      "Page [365443](Parque Nacional de Yellowstone) downloaded successfuly (670 of 737)\n",
      "Page [4621861](Thomas Dale Brock) downloaded successfuly (671 of 737)\n",
      "Page [1052969](Caldeira de Yellowstone) downloaded successfuly (672 of 737)\n",
      "Page [6432703](Dólar de prata do Parque Nacional de Yellowstone) downloaded successfuly (673 of 737)\n",
      "Page [3475348](Rio Gallatin) downloaded successfuly (674 of 737)\n",
      "Page [6321766](Grande Ecossistema de Yellowstone) downloaded successfuly (675 of 737)\n",
      "Page [6443766](Grande Primavera Prismática) downloaded successfuly (676 of 737)\n",
      "Page [3472894](Lago Isa) downloaded successfuly (677 of 737)\n",
      "Page [5661481](Lago Yellowstone) downloaded successfuly (678 of 737)\n",
      "Page [5622754](Mystic Falls (cachoeira)) downloaded successfuly (679 of 737)\n",
      "Page [1647492](Old Faithful) downloaded successfuly (680 of 737)\n",
      "Page [6110441](Yellowstone (série de televisão)) downloaded successfuly (681 of 737)\n",
      "Page [371442](Deserto de Mojave) downloaded successfuly (682 of 737)\n",
      "Page [4142510](Cactus Springs (Condado de Clark, Nevada)) downloaded successfuly (683 of 737)\n",
      "Page [5085932](Mimulus rupicola) downloaded successfuly (684 of 737)\n",
      "Page [1689530](Rio Gila) downloaded successfuly (685 of 737)\n",
      "Page [2582725](Rio Little Colorado) downloaded successfuly (686 of 737)\n",
      "Page [648753](Serra Nevada (Estados Unidos)) downloaded successfuly (687 of 737)\n",
      "Page [2195062](Batalhão Mariposa) downloaded successfuly (688 of 737)\n",
      "Page [2178109](Bridalveil Fall) downloaded successfuly (689 of 737)\n",
      "Page [2179289](Cataratas de Yosemite) downloaded successfuly (690 of 737)\n",
      "Page [2194660](Cathedral Range) downloaded successfuly (691 of 737)\n",
      "Page [2195065](Chefe Tenaya) downloaded successfuly (692 of 737)\n",
      "Page [2194300](Clark Range) downloaded successfuly (693 of 737)\n",
      "Page [4497558](Clouds Rest) downloaded successfuly (694 of 737)\n",
      "Page [2190461](Dana Meadows) downloaded successfuly (695 of 737)\n",
      "Page [2179425](El Capitan) downloaded successfuly (696 of 737)\n",
      "Page [2186578](Glaciar Lyell) downloaded successfuly (697 of 737)\n",
      "Page [2189034](Glaciar Merced) downloaded successfuly (698 of 737)\n",
      "Page [2187940](Glacier Point) downloaded successfuly (699 of 737)\n",
      "Page [5583852](Gold Country) downloaded successfuly (700 of 737)\n",
      "Page [3495353](Guerras da Água na Califórnia) downloaded successfuly (701 of 737)\n",
      "Page [2178246](Half Dome) downloaded successfuly (702 of 737)\n",
      "Page [2192337](Illilouette Fall) downloaded successfuly (703 of 737)\n",
      "Page [2181796](James Savage) downloaded successfuly (704 of 737)\n",
      "Page [2194709](Kuna Crest) downloaded successfuly (705 of 737)\n",
      "Page [2192356](Lehamite Falls) downloaded successfuly (706 of 737)\n",
      "Page [2189017](Mariposa Grove) downloaded successfuly (707 of 737)\n",
      "Page [2189012](Merced Grove) downloaded successfuly (708 of 737)\n",
      "Page [2180374](Miwok) downloaded successfuly (709 of 737)\n",
      "Page [2185205](Monte Conness) downloaded successfuly (710 of 737)\n",
      "Page [2182613](Monte Dana) downloaded successfuly (711 of 737)\n",
      "Page [2185199](Monte Gibbs) downloaded successfuly (712 of 737)\n",
      "Page [2182647](Monte Lyell) downloaded successfuly (713 of 737)\n",
      "Page [659259](Monte Whitney) downloaded successfuly (714 of 737)\n",
      "Page [2179320](Nevada Fall) downloaded successfuly (715 of 737)\n",
      "Page [2178254](North Dome) downloaded successfuly (716 of 737)\n",
      "Page [2194692](Pacific Crest Trail) downloaded successfuly (717 of 737)\n",
      "Page [2180351](Paiutes) downloaded successfuly (718 of 737)\n",
      "Page [2190472](Passo Tioga) downloaded successfuly (719 of 737)\n",
      "Page [2194284](Ribbon Falls) downloaded successfuly (720 of 737)\n",
      "Page [1165920](Rio American) downloaded successfuly (721 of 737)\n",
      "Page [2179778](Rio Merced) downloaded successfuly (722 of 737)\n",
      "Page [2181238](Rio Tuolumne) downloaded successfuly (723 of 737)\n",
      "Page [2194272](Royal Arch Cascade) downloaded successfuly (724 of 737)\n",
      "Page [5573745](Rubicon Trail) downloaded successfuly (725 of 737)\n",
      "Page [2194263](Sentinel Fall) downloaded successfuly (726 of 737)\n",
      "Page [2194256](Silver Strand Falls) downloaded successfuly (727 of 737)\n",
      "Page [2194241](Snow Creek Falls) downloaded successfuly (728 of 737)\n",
      "Page [2194231](Staircase Falls) downloaded successfuly (729 of 737)\n",
      "Page [2194220](Tueeulala Falls) downloaded successfuly (730 of 737)\n",
      "Page [2195056](Tunnel View) downloaded successfuly (731 of 737)\n",
      "Page [2188994](Tuolumne Grove) downloaded successfuly (732 of 737)\n",
      "Page [2190456](Tuolumne Meadows) downloaded successfuly (733 of 737)\n",
      "Page [1268551](Vale Central) downloaded successfuly (734 of 737)\n",
      "Page [2185219](Vale de Hetch Hetchy) downloaded successfuly (735 of 737)\n",
      "Page [2178063](Vale de Yosemite) downloaded successfuly (736 of 737)\n",
      "Page [2178846](Vernal Fall) downloaded successfuly (737 of 737)\n"
     ]
    }
   ],
   "source": [
    "def run_wikitext_download(amount_wikitext):\n",
    "    pages_for_wikitext_download = get_pages_for_download(amount_wikitext)\n",
    "    current = 1\n",
    "    for page in pages_for_wikitext_download:\n",
    "        page_wikitext = copy_page_with_wikitext(page)\n",
    "        del page_wikitext['_id']\n",
    "        mongo_content.insert_one(page_wikitext)\n",
    "        mongo_pages.update_many(\n",
    "            { 'pageid': page['pageid'] },\n",
    "            { '$set': { 'download': 'Done' }}\n",
    "        )\n",
    "        print(f'Page [{page[\"pageid\"]}]({page[\"title\"]}) downloaded successfuly ({current} of {amount_wikitext})')\n",
    "        current = current + 1\n",
    "        time.sleep(2)\n",
    "\n",
    "# run_wikitext_download(100)"
   ]
  },
  {
   "cell_type": "code",
   "execution_count": 10,
   "metadata": {},
   "outputs": [
    {
     "output_type": "stream",
     "name": "stdout",
     "text": [
      "Page download counts: [{'_id': 'Waiting', 'total': 362}, {'_id': 'Done', 'total': 2252}]\nPages with wikitext: 3097\n"
     ]
    }
   ],
   "source": [
    "def show_download_statistics():\n",
    "    pdc = get_pages_downloads_counts()\n",
    "    print(f'Page download counts: {pdc}')\n",
    "    pages_wikitext_counts = mongo_content.count_documents({})\n",
    "    print(f'Pages with wikitext: {pages_wikitext_counts}')\n",
    "show_download_statistics()"
   ]
  },
  {
   "source": [
    "### Download page texts"
   ],
   "cell_type": "markdown",
   "metadata": {}
  },
  {
   "cell_type": "code",
   "execution_count": null,
   "metadata": {},
   "outputs": [],
   "source": [
    "def set_pages_for_text_download():\n",
    "    mongo_content.update(\n",
    "        { 'download': 'Done' },\n",
    "        { '$set': { 'download_text': 'Waiting' } }\n",
    "    )\n",
    "# set_pages_for_text_download()"
   ]
  },
  {
   "cell_type": "code",
   "execution_count": null,
   "metadata": {},
   "outputs": [],
   "source": [
    "def run_text_download(amount):\n",
    "    current = 1\n",
    "    pages_contents = mongo_content.find({ 'download_text': 'Waiting' }).limit(amount)\n",
    "\n",
    "    for pc in pages_contents:\n",
    "        pageid = pc['pageid']\n",
    "        text = get_text(pageid)\n",
    "        pages_contents.update_many(\n",
    "            { 'pageid': pageid },\n",
    "            { '$set': { 'text': text, 'download_text': 'Done' } }\n",
    "        )\n",
    "        print(f'Page text [{page[\"pageid\"]}]({page[\"title\"]}) downloaded successfuly ({current} of {amount})')\n",
    "\n",
    "# run_text_download(100)"
   ]
  },
  {
   "cell_type": "code",
   "execution_count": null,
   "metadata": {},
   "outputs": [],
   "source": [
    "def show_text_download_statistics():\n",
    "    pdc = get_pages_text_downloads_counts()\n",
    "    print(f'Page text download counts: {pdc}')\n",
    "show_text_download_statistics()"
   ]
  },
  {
   "cell_type": "code",
   "execution_count": 19,
   "metadata": {},
   "outputs": [
    {
     "output_type": "stream",
     "name": "stdout",
     "text": [
      "2252 3097\n"
     ]
    }
   ],
   "source": [
    "pcs = list(mongo_content.aggregate(\n",
    "    [ \n",
    "        { '$group': { '_id': '$pageid', 'total': { '$sum': 1 } } }\n",
    "    ]\n",
    "))"
   ]
  },
  {
   "cell_type": "code",
   "execution_count": 24,
   "metadata": {},
   "outputs": [],
   "source": [
    "dobrado = [p for p in pcs if p['total'] > 1]\n"
   ]
  },
  {
   "cell_type": "code",
   "execution_count": 42,
   "metadata": {},
   "outputs": [
    {
     "output_type": "stream",
     "name": "stdout",
     "text": [
      "We have downloaded 2252 distinct pages\n"
     ]
    }
   ],
   "source": [
    "def find_distinct_pages():\n",
    "    return list(mongo_pages.aggregate(\n",
    "        [ \n",
    "            { '$group': { '_id': '$pageid', 'total': { '$sum': 1 } } },\n",
    "            { '$sort': { 'total': -1 }}\n",
    "        ]\n",
    "    ))\n",
    "\n",
    "def count_distinct_pages():\n",
    "    return len(find_distinct_pages())\n",
    "\n",
    "print(f'We have downloaded {count_distinct_pages()} distinct pages')"
   ]
  },
  {
   "cell_type": "code",
   "execution_count": 39,
   "metadata": {},
   "outputs": [
    {
     "output_type": "execute_result",
     "data": {
      "text/plain": [
       "[{'_id': ObjectId('60b3743cf25e4f45f45ff669'),\n",
       "  'pageid': 158914,\n",
       "  'ns': 0,\n",
       "  'title': 'Ojos del Salado',\n",
       "  'type': 'page',\n",
       "  'category_id': 575725,\n",
       "  'category_title': 'Categoria:Montanhas da Argentina',\n",
       "  'download': 'Done',\n",
       "  'country': 'Argentina'},\n",
       " {'_id': ObjectId('60b3743ff25e4f45f45ff683'),\n",
       "  'pageid': 158914,\n",
       "  'ns': 0,\n",
       "  'title': 'Ojos del Salado',\n",
       "  'type': 'page',\n",
       "  'category_id': 1134166,\n",
       "  'category_title': 'Categoria:Vulcões da Argentina',\n",
       "  'download': 'Waiting',\n",
       "  'country': 'Argentina'},\n",
       " {'_id': ObjectId('60bca1e26b45e1b4a9a89aee'),\n",
       "  'pageid': 158914,\n",
       "  'ns': 0,\n",
       "  'title': 'Ojos del Salado',\n",
       "  'type': 'page',\n",
       "  'country': 'Chile',\n",
       "  'category_id': 5302400,\n",
       "  'category_title': 'Categoria:Pontos extremos do Chile',\n",
       "  'download': 'Waiting'},\n",
       " {'_id': ObjectId('60bca4fd6b45e1b4a9a89ca2'),\n",
       "  'pageid': 158914,\n",
       "  'ns': 0,\n",
       "  'title': 'Ojos del Salado',\n",
       "  'type': 'page',\n",
       "  'country': 'Chile',\n",
       "  'category_id': 737679,\n",
       "  'category_title': 'Categoria:Montanhas do Chile',\n",
       "  'download': 'Waiting'},\n",
       " {'_id': ObjectId('60bca5036b45e1b4a9a89cd0'),\n",
       "  'pageid': 158914,\n",
       "  'ns': 0,\n",
       "  'title': 'Ojos del Salado',\n",
       "  'type': 'page',\n",
       "  'country': 'Chile',\n",
       "  'category_id': 1134119,\n",
       "  'category_title': 'Categoria:Vulcões do Chile',\n",
       "  'download': 'Waiting'}]"
      ]
     },
     "metadata": {},
     "execution_count": 39
    }
   ],
   "source": [
    "list(mongo_pages.find({ 'pageid': 158914 }))"
   ]
  },
  {
   "cell_type": "code",
   "execution_count": 31,
   "metadata": {},
   "outputs": [
    {
     "output_type": "execute_result",
     "data": {
      "text/plain": [
       "{'_id': 237330, 'total': 2}"
      ]
     },
     "metadata": {},
     "execution_count": 31
    }
   ],
   "source": [
    "pages_dobrado = [p for p in pcs if p['total'] > 1]\n",
    "pages_dobrado[0]"
   ]
  },
  {
   "cell_type": "code",
   "execution_count": 33,
   "metadata": {},
   "outputs": [
    {
     "output_type": "execute_result",
     "data": {
      "text/plain": [
       "[{'_id': ObjectId('60bca3806b45e1b4a9a89b25'),\n",
       "  'pageid': 237330,\n",
       "  'ns': 0,\n",
       "  'title': 'Cauquenes (província)',\n",
       "  'type': 'page',\n",
       "  'country': 'Chile',\n",
       "  'category_id': 913225,\n",
       "  'category_title': 'Categoria:!Esboços sobre geografia do Chile',\n",
       "  'download': 'Done'},\n",
       " {'_id': ObjectId('60bca4f56b45e1b4a9a89c2e'),\n",
       "  'pageid': 237330,\n",
       "  'ns': 0,\n",
       "  'title': 'Cauquenes (província)',\n",
       "  'type': 'page',\n",
       "  'country': 'Chile',\n",
       "  'category_id': 232966,\n",
       "  'category_title': 'Categoria:Províncias do Chile',\n",
       "  'download': 'Waiting'}]"
      ]
     },
     "metadata": {},
     "execution_count": 33
    }
   ],
   "source": [
    "list(mongo_pages.find({'pageid': 237330}))"
   ]
  },
  {
   "source": [
    "## Correção collection pages\n",
    "\n",
    "- Problema: a mesma página tinha sido baixada mais de uma vez porque era referenciada por várias coleções\n",
    "- Solução\n",
    "    * Renomear collection pages para pages_incorreto (feito no mongo shell)\n",
    "    * Recriar a collection pages com estrutura correta\n",
    "        * A categoria agora será um objeto com id e título ao invés de estes valores estarem soltos na páginas. Assim ficará melhor estuturado\n",
    "        * O objeto da página terá uma collection de categorias. Cada página lida da estrutura antiga terá na nova collection um array com as categorias que a referenciam\n",
    "    * Renomear pages_content para pages_content incorreto"
   ],
   "cell_type": "markdown",
   "metadata": {}
  },
  {
   "cell_type": "code",
   "execution_count": 50,
   "metadata": {},
   "outputs": [],
   "source": [
    "mongo_pages_incorreto = db.pages_incorreto"
   ]
  },
  {
   "cell_type": "code",
   "execution_count": 75,
   "metadata": {},
   "outputs": [],
   "source": [
    "# Obtem todas paginas de collection incorreta\n",
    "todas_paginas_incorreto = list(mongo_pages_incorreto.find({}))"
   ]
  },
  {
   "cell_type": "code",
   "execution_count": 76,
   "metadata": {},
   "outputs": [],
   "source": [
    "# Corrigir categoria das paginas incorretas. Cria objeto para categoria e coloca id e titulo\n",
    "for pagina_incorreto in todas_paginas_incorreto:\n",
    "    category = {\n",
    "        'category_id': pagina_incorreto['category_id'],\n",
    "        'category_title': pagina_incorreto['category_title']\n",
    "    }\n",
    "    pagina_incorreto['category'] = category\n",
    "    del pagina_incorreto['category_id']\n",
    "    del pagina_incorreto['category_title']"
   ]
  },
  {
   "cell_type": "code",
   "execution_count": 77,
   "metadata": {},
   "outputs": [
    {
     "output_type": "error",
     "ename": "KeyError",
     "evalue": "'category'",
     "traceback": [
      "\u001b[0;31m---------------------------------------------------------------------------\u001b[0m",
      "\u001b[0;31mKeyError\u001b[0m                                  Traceback (most recent call last)",
      "\u001b[0;32m<ipython-input-77-004d28b63e55>\u001b[0m in \u001b[0;36m<module>\u001b[0;34m\u001b[0m\n\u001b[1;32m      6\u001b[0m     \u001b[0;32mif\u001b[0m \u001b[0mpageid_incorreto\u001b[0m \u001b[0;32min\u001b[0m \u001b[0magregado_paginas_incorreto\u001b[0m\u001b[0;34m:\u001b[0m\u001b[0;34m\u001b[0m\u001b[0;34m\u001b[0m\u001b[0m\n\u001b[1;32m      7\u001b[0m         \u001b[0mexistente\u001b[0m \u001b[0;34m=\u001b[0m \u001b[0magregado_paginas_incorreto\u001b[0m\u001b[0;34m[\u001b[0m\u001b[0mpageid_incorreto\u001b[0m\u001b[0;34m]\u001b[0m\u001b[0;34m\u001b[0m\u001b[0;34m\u001b[0m\u001b[0m\n\u001b[0;32m----> 8\u001b[0;31m         \u001b[0mexistente\u001b[0m\u001b[0;34m[\u001b[0m\u001b[0;34m'categories'\u001b[0m\u001b[0;34m]\u001b[0m\u001b[0;34m.\u001b[0m\u001b[0mappend\u001b[0m\u001b[0;34m(\u001b[0m\u001b[0mexistente\u001b[0m\u001b[0;34m[\u001b[0m\u001b[0;34m'category'\u001b[0m\u001b[0;34m]\u001b[0m\u001b[0;34m)\u001b[0m\u001b[0;34m\u001b[0m\u001b[0;34m\u001b[0m\u001b[0m\n\u001b[0m\u001b[1;32m      9\u001b[0m     \u001b[0;32melse\u001b[0m\u001b[0;34m:\u001b[0m\u001b[0;34m\u001b[0m\u001b[0;34m\u001b[0m\u001b[0m\n\u001b[1;32m     10\u001b[0m         \u001b[0mpagina_incorreto\u001b[0m\u001b[0;34m[\u001b[0m\u001b[0;34m'categories'\u001b[0m\u001b[0;34m]\u001b[0m \u001b[0;34m=\u001b[0m \u001b[0;34m[\u001b[0m\u001b[0mpagina_incorreto\u001b[0m\u001b[0;34m[\u001b[0m\u001b[0;34m'category'\u001b[0m\u001b[0;34m]\u001b[0m\u001b[0;34m]\u001b[0m\u001b[0;34m\u001b[0m\u001b[0;34m\u001b[0m\u001b[0m\n",
      "\u001b[0;31mKeyError\u001b[0m: 'category'"
     ]
    }
   ],
   "source": [
    "# Dictionario que mapeia uma pageid para documento da pagina\n",
    "agregado_paginas_incorreto = {}\n",
    "\n",
    "for pagina_incorreto in todas_paginas_incorreto:\n",
    "    pageid_incorreto = pagina_incorreto['pageid']\n",
    "    if pageid_incorreto in agregado_paginas_incorreto:\n",
    "        existente = agregado_paginas_incorreto[pageid_incorreto]\n",
    "        existente['categories'].append(pagina_incorreto['category'])\n",
    "    else:\n",
    "        pagina_incorreto['categories'] = [pagina_incorreto['category']]\n",
    "        agregado_paginas_incorreto[pageid_incorreto] = pagina_incorreto\n",
    "    del pagina_incorreto['category']\n"
   ]
  },
  {
   "cell_type": "code",
   "execution_count": 71,
   "metadata": {},
   "outputs": [
    {
     "output_type": "execute_result",
     "data": {
      "text/plain": [
       "[{'_id': ObjectId('60b36bb4f25e4f45f45ff5de'),\n",
       "  'pageid': 22911,\n",
       "  'ns': 0,\n",
       "  'title': 'Geografia da Argentina',\n",
       "  'type': 'page',\n",
       "  'download': 'Done',\n",
       "  'country': 'Argentina',\n",
       "  'category': {'category_id': 67826,\n",
       "   'category_title': 'Categoria:Geografia da Argentina'},\n",
       "  'categories': [{'category_id': 67826,\n",
       "    'category_title': 'Categoria:Geografia da Argentina'}]},\n",
       " {'_id': ObjectId('60b36bb4f25e4f45f45ff5df'),\n",
       "  'pageid': 1996157,\n",
       "  'ns': 0,\n",
       "  'title': 'Banco Namuncurá',\n",
       "  'type': 'page',\n",
       "  'download': 'Done',\n",
       "  'country': 'Argentina',\n",
       "  'category': {'category_id': 67826,\n",
       "   'category_title': 'Categoria:Geografia da Argentina'},\n",
       "  'categories': [{'category_id': 67826,\n",
       "    'category_title': 'Categoria:Geografia da Argentina'}]},\n",
       " {'_id': ObjectId('60b36bb4f25e4f45f45ff5e0'),\n",
       "  'pageid': 1393635,\n",
       "  'ns': 0,\n",
       "  'title': 'Campo de gelo do sul da Patagónia',\n",
       "  'type': 'page',\n",
       "  'download': 'Done',\n",
       "  'country': 'Argentina',\n",
       "  'category': {'category_id': 67826,\n",
       "   'category_title': 'Categoria:Geografia da Argentina'},\n",
       "  'categories': [{'category_id': 67826,\n",
       "    'category_title': 'Categoria:Geografia da Argentina'},\n",
       "   {'category_id': 67826,\n",
       "    'category_title': 'Categoria:Geografia da Argentina'}]}]"
      ]
     },
     "metadata": {},
     "execution_count": 71
    }
   ],
   "source": [
    "todas_paginas_incorreto[:3]"
   ]
  },
  {
   "cell_type": "code",
   "execution_count": null,
   "metadata": {},
   "outputs": [],
   "source": []
  }
 ]
}