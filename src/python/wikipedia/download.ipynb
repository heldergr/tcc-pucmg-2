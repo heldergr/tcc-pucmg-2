{
 "metadata": {
  "language_info": {
   "codemirror_mode": {
    "name": "ipython",
    "version": 3
   },
   "file_extension": ".py",
   "mimetype": "text/x-python",
   "name": "python",
   "nbconvert_exporter": "python",
   "pygments_lexer": "ipython3",
   "version": "3.8.10"
  },
  "orig_nbformat": 2,
  "kernelspec": {
   "name": "python3",
   "display_name": "Python 3",
   "language": "python"
  }
 },
 "nbformat": 4,
 "nbformat_minor": 2,
 "cells": [
  {
   "source": [
    "# Wikipedia"
   ],
   "cell_type": "markdown",
   "metadata": {}
  },
  {
   "cell_type": "code",
   "execution_count": 54,
   "metadata": {},
   "outputs": [],
   "source": [
    "from urllib.parse import urlencode\n",
    "import requests\n",
    "from pymongo import MongoClient\n",
    "import time\n",
    "import pandas as pd"
   ]
  },
  {
   "source": [
    "## MongoDB Setup"
   ],
   "cell_type": "markdown",
   "metadata": {}
  },
  {
   "cell_type": "code",
   "execution_count": 2,
   "metadata": {},
   "outputs": [],
   "source": [
    "# Creates client with default server and port\n",
    "client = MongoClient()\n",
    "\n",
    "# Get database \"wikipedia\"\n",
    "db = client.wikipedia\n",
    "\n",
    "# Get references to *pages* and *categories* collections\n",
    "mongo_pages = db.pages\n",
    "mongo_categories = db.categories"
   ]
  },
  {
   "source": [
    "## Download categories and pages from Wikipedia"
   ],
   "cell_type": "markdown",
   "metadata": {}
  },
  {
   "cell_type": "code",
   "execution_count": 4,
   "metadata": {},
   "outputs": [],
   "source": [
    "# https://pt.wikipedia.org/w/api.php?action=query&format=json&list=categorymembers&cmtitle=Category%3AArgentina&cmlimit=200\n",
    "url_base = 'https://pt.wikipedia.org/w/api.php'\n",
    "f = { \n",
    "    'action': 'query',\n",
    "    'format': 'json',\n",
    "    'list': 'categorymembers',\n",
    "     'cmlimit': '200',\n",
    "     'cmprop': 'ids|title|type'\n",
    "}\n",
    "def parameters_category_members(cmtitle = None, cmpageid = -1):\n",
    "    fc = f.copy()\n",
    "    if cmpageid != -1:\n",
    "        fc['cmpageid'] = cmpageid\n",
    "    else:\n",
    "        fc['cmtitle'] = cmtitle\n",
    "    return fc\n",
    "\n",
    "def get_url(parameters):\n",
    "    return f'{url_base}{parameters}'\n",
    "\n",
    "def get_url_category(cmtitle):\n",
    "    parameters_argentina = parameters_category_members('Category:Argentina')\n",
    "    return get_url(urlencode(parameters_argentina))\n",
    "\n",
    "def get_category(cmtitle = None, cmpageid = -1):\n",
    "    params_category = parameters_category_members(cmtitle, cmpageid)\n",
    "    category_r = requests.get(url_base, params=params_category)\n",
    "    category_content = []\n",
    "    if category_r.status_code == 200:\n",
    "        category_content = category_r.json()\n",
    "    return category_content\n",
    "\n",
    "def get_category_members(cmtitle = None, cmpageid = -1):\n",
    "    return get_category(cmtitle=cmtitle, cmpageid=cmpageid)['query']['categorymembers']"
   ]
  },
  {
   "source": [
    "## Insert and retrieve data from MongoDB\n",
    "\n",
    "- Categories status\n",
    "    * Check: waiting for someone to check if it has to be downloaded\n",
    "    * Waiting: waiting for dowload\n",
    "    * Skeep: skeep download of this category\n",
    "    * Done: downloaded\n",
    "- Pages status\n",
    "    * Waiting: waiting for download"
   ],
   "cell_type": "markdown",
   "metadata": {}
  },
  {
   "cell_type": "code",
   "execution_count": 29,
   "metadata": {},
   "outputs": [],
   "source": [
    "def get_categories_for_download():\n",
    "    waiting_criteria = { 'download': 'Waiting' }\n",
    "    return list(mongo_categories.find(waiting_criteria))\n",
    "\n",
    "def add_categories_for_check(categories_for_check):\n",
    "    add_categories_for_status(categories_for_check, 'Check')\n",
    "\n",
    "def add_category_for_download(pageid):\n",
    "    mongo_categories.update_one(\n",
    "        { \"pageid\": pageid },\n",
    "        { \"$set\": { 'download': 'Waiting' } }\n",
    "    )\n",
    "\n",
    "def set_category_done(pageid):\n",
    "    mongo_categories.update_one(\n",
    "        { \"pageid\": pageid },\n",
    "        { \"$set\": { 'download': 'Done' } }\n",
    "    )\n",
    "\n",
    "def add_categories_for_status(categories_for_status, status):\n",
    "    if len(categories_for_status) > 0:\n",
    "        for category_for_status in categories_for_status:\n",
    "            category_for_status['download'] = status\n",
    "        mongo_categories.insert_many(categories_for_status)\n",
    "    \n",
    "def category_exists(cmpageid):\n",
    "    return mongo_categories.count_documents({'pageid': cmpageid}) > 0"
   ]
  },
  {
   "source": [
    "## Algorithm"
   ],
   "cell_type": "markdown",
   "metadata": {}
  },
  {
   "cell_type": "code",
   "execution_count": 26,
   "metadata": {},
   "outputs": [],
   "source": [
    "def insert_pages(pages, cmpageid, cmtitle):\n",
    "    if len(pages) > 0:\n",
    "        for page in pages:\n",
    "            page['category_id'] = cmpageid\n",
    "            page['category_title'] = cmtitle\n",
    "            page['download'] = 'Waiting'\n",
    "        mongo_pages.insert_many(pages)\n",
    "\n",
    "def download_subcategories(subcategories):\n",
    "    if len(subcategories) > 0:\n",
    "        for subcategory in subcategories:\n",
    "            download_category_tree(subcategory)\n",
    "\n",
    "def download_category_tree(category):\n",
    "    # Sleep for 1 second before starting download one category tree\n",
    "    time.sleep(1)\n",
    "\n",
    "    cmpageid = category['pageid']\n",
    "    cmtitle = category[\"title\"]\n",
    "    print(f'Retrieving pages for category {cmtitle} [{cmpageid}]')\n",
    "    \n",
    "    members = get_category_members(cmpageid=cmpageid)\n",
    "    pages = [m for m in members if m['type'] == 'page']\n",
    "    insert_pages(pages, cmpageid, cmtitle)\n",
    "    subcats = [m for m in members if m['type'] == 'subcat']\n",
    "    for s in subcats:\n",
    "        s['parent'] = cmpageid\n",
    "    subcats_for_check = [s for s in subcats if not category_exists(s['pageid'])]\n",
    "    add_categories_for_check(subcats_for_check)\n",
    "    set_category_done(cmpageid)"
   ]
  },
  {
   "source": [
    "### Inicializa todas as subcategorias da principal *Argentina*"
   ],
   "cell_type": "markdown",
   "metadata": {}
  },
  {
   "cell_type": "code",
   "execution_count": 7,
   "metadata": {},
   "outputs": [],
   "source": [
    "members_categories_argentina = get_category_members(cmtitle='Category:Argentina')\n",
    "pages_argentina = [m for m in members_categories_argentina if m['type'] == 'page']\n",
    "subcategories_argentina = [m for m in members_categories_argentina if m['type'] == 'subcat']\n",
    "add_categories_for_check(subcategories_argentina)"
   ]
  },
  {
   "source": [
    "### Marca categorias para download"
   ],
   "cell_type": "markdown",
   "metadata": {}
  },
  {
   "cell_type": "code",
   "execution_count": 49,
   "metadata": {},
   "outputs": [],
   "source": [
    "ids = [2547449, 148415, 178774, 1861964, 199887, 439525, 2037050, 2464777, 5359760, 2039114, 5079160, 1498369, 4152823, 65861, 5412037]\n",
    "for id in ids:\n",
    "    add_category_for_download(pageid=id)"
   ]
  },
  {
   "source": [
    "### Executa download das páginas das categorias marcadas para Download"
   ],
   "cell_type": "markdown",
   "metadata": {}
  },
  {
   "cell_type": "code",
   "execution_count": 50,
   "metadata": {},
   "outputs": [
    {
     "output_type": "stream",
     "name": "stdout",
     "text": [
      "15 categoria(s) marcadas para download\n",
      "Retrieving pages for category Categoria:História da Argentina [148415]\n",
      "Retrieving pages for category Categoria:Política da Argentina [178774]\n",
      "Retrieving pages for category Categoria:Sociedade da Argentina [1861964]\n",
      "Retrieving pages for category Categoria:!Esboços sobre geografia da Argentina [199887]\n",
      "Retrieving pages for category Categoria:Demografia da Argentina [439525]\n",
      "Retrieving pages for category Categoria:Fronteiras da Argentina [2037050]\n",
      "Retrieving pages for category Categoria:Geologia da Argentina [2464777]\n",
      "Retrieving pages for category Categoria:Listas de geografia da Argentina [5359760]\n",
      "Retrieving pages for category Categoria:Localidades da Argentina [2039114]\n",
      "Retrieving pages for category Categoria:Meio ambiente da Argentina [2547449]\n",
      "Retrieving pages for category Categoria:Pradarias da Argentina [5079160]\n",
      "Retrieving pages for category Categoria:Subdivisões da Argentina [1498369]\n",
      "Retrieving pages for category Categoria:Corpos de água da Argentina [4152823]\n",
      "Retrieving pages for category Categoria:Rios da Argentina [65861]\n",
      "Retrieving pages for category Categoria:Zona vulcânica do Sul [5412037]\n"
     ]
    }
   ],
   "source": [
    "# Busca categorias marcadas para download\n",
    "categories_for_download = get_categories_for_download()\n",
    "print(f'{len(categories_for_download)} categoria(s) marcadas para download')\n",
    "\n",
    "# Faz download de cada categoria\n",
    "for c in categories_for_download:\n",
    "    download_category_tree(c)"
   ]
  },
  {
   "source": [
    "### Analisar categorias para Check"
   ],
   "cell_type": "markdown",
   "metadata": {}
  },
  {
   "cell_type": "code",
   "execution_count": 51,
   "metadata": {},
   "outputs": [],
   "source": [
    "for_check = list(mongo_categories.find({ 'download': 'Check'}))"
   ]
  },
  {
   "source": [
    "### Backup do que já foi feito download"
   ],
   "cell_type": "markdown",
   "metadata": {}
  },
  {
   "cell_type": "code",
   "execution_count": 52,
   "metadata": {},
   "outputs": [],
   "source": [
    "# Categorias\n",
    "categories = list(mongo_categories.find())\n",
    "categories_df = pd.DataFrame(categories)\n",
    "categories_df.to_csv('categories.csv')"
   ]
  },
  {
   "cell_type": "code",
   "execution_count": 62,
   "metadata": {},
   "outputs": [],
   "source": [
    "pages = list(mongo_pages.find())\n",
    "pages_df = pd.DataFrame(pages)\n",
    "pages_df.to_csv('pages.csv')"
   ]
  },
  {
   "cell_type": "code",
   "execution_count": 61,
   "metadata": {},
   "outputs": [
    {
     "output_type": "execute_result",
     "data": {
      "text/plain": [
       "(498, 8)"
      ]
     },
     "metadata": {},
     "execution_count": 61
    }
   ],
   "source": [
    "pages_df.shape"
   ]
  }
 ]
}