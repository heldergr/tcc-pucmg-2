{
 "metadata": {
  "language_info": {
   "codemirror_mode": {
    "name": "ipython",
    "version": 3
   },
   "file_extension": ".py",
   "mimetype": "text/x-python",
   "name": "python",
   "nbconvert_exporter": "python",
   "pygments_lexer": "ipython3",
   "version": "3.7.3-final"
  },
  "orig_nbformat": 2,
  "kernelspec": {
   "name": "python373jvsc74a57bd04143b9c6b9342c2726020891eca2bb8d0d6574ab18558731d58b7f9e44c9082d",
   "display_name": "Python 3.7.3 64-bit ('tcc-env')"
  }
 },
 "nbformat": 4,
 "nbformat_minor": 2,
 "cells": [
  {
   "source": [
    "# Ler dados o Melhores Destinos"
   ],
   "cell_type": "markdown",
   "metadata": {}
  },
  {
   "cell_type": "code",
   "execution_count": null,
   "metadata": {},
   "outputs": [],
   "source": [
    "from bs4 import BeautifulSoup\n",
    "import pandas as pd\n",
    "from nltk import word_tokenize\n",
    "from nltk.stem import RSLPStemmer\n",
    "from nltk.corpus import stopwords"
   ]
  },
  {
   "cell_type": "code",
   "execution_count": null,
   "metadata": {},
   "outputs": [],
   "source": [
    "def carregar_conteudo(filename):\n",
    "    with open(filename, encoding='utf-8') as f:\n",
    "        data = f.read()\n",
    "        return data"
   ]
  },
  {
   "cell_type": "code",
   "execution_count": null,
   "metadata": {},
   "outputs": [],
   "source": [
    "def get_promocoes_local(filename = '/Users/heldergeraldoribeiro/Documents/estudos/data-science/tcc-pucmg/data/melhores_destinos/index.html'):\n",
    "    # Faz parte do conteudo usando o BeautifulSoup\n",
    "    content = carregar_conteudo(filename)\n",
    "    soup = BeautifulSoup(content, 'html.parser')\n",
    "\n",
    "    # Carrega titulos e resumos dos posts\n",
    "    articles = soup.find_all('div', { \"class\":  \"post-promo-home-c2\"})\n",
    "\n",
    "    aa = [(a.findChild('a').get('title'), a.getText()) for a in articles]\n",
    "\n",
    "    md_posts = pd.DataFrame(aa, columns = ['Titulo', 'Texto'])\n",
    "    return md_posts"
   ]
  },
  {
   "cell_type": "code",
   "execution_count": 6,
   "metadata": {},
   "outputs": [],
   "source": [
    "def clean_melhores_destinos_local(md_posts):\n",
    "    # Converte conteudo para lowercase\n",
    "    md_posts['Texto_clean'] = md_posts['Texto'].apply(lambda x: x.lower())\n",
    "    \n",
    "    # Quebra os posts em tokens\n",
    "    md_posts['Texto_tokens'] = md_posts['Texto_clean'].apply(lambda x: word_tokenize(x))\n",
    "\n",
    "    # Remove stopwords em portuges\n",
    "    pt_stop = stopwords.words('portuguese')\n",
    "    md_posts['Texto_tokens'] = md_posts['Texto_tokens'].apply(lambda xs: [x for x in xs if x not in pt_stop])\n",
    "\n",
    "    stemmer = RSLPStemmer()\n",
    "    md_posts['Texto_stem'] = md_posts['Texto_tokens'].apply(lambda x: [stemmer.stem(y) for y in x])\n",
    "\n",
    "    return md_posts"
   ]
  },
  {
   "cell_type": "code",
   "execution_count": 7,
   "metadata": {},
   "outputs": [],
   "source": [
    "prom = get_promocoes_local()\n",
    "prom = clean_melhores_destinos_local(prom)"
   ]
  },
  {
   "cell_type": "code",
   "execution_count": 14,
   "metadata": {},
   "outputs": [],
   "source": [
    "# Junta todos os textos em um unico string\n",
    "all_texts = ' '.join([' '.join(a) for a in prom['Texto_stem'].values])"
   ]
  },
  {
   "cell_type": "code",
   "execution_count": 12,
   "metadata": {},
   "outputs": [
    {
     "output_type": "execute_result",
     "data": {
      "text/plain": [
       "'port segur all inclusiv ! pacot voo hosped part r $ 1.247 leonard cassol 2 hor sul bah , port segur sinôn divers prai maravilh . tud fic melhor aind descont exclus ! zarp pacot promoc voo hosped all inclusiv nauticom hotel & beach club a…'"
      ]
     },
     "metadata": {},
     "execution_count": 12
    }
   ],
   "source": [
    "' '.join(prom['Texto_stem'].values[0])"
   ]
  }
 ]
}