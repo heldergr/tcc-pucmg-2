{
 "metadata": {
  "language_info": {
   "codemirror_mode": {
    "name": "ipython",
    "version": 3
   },
   "file_extension": ".py",
   "mimetype": "text/x-python",
   "name": "python",
   "nbconvert_exporter": "python",
   "pygments_lexer": "ipython3",
   "version": "3.7.3-final"
  },
  "orig_nbformat": 2,
  "kernelspec": {
   "name": "python3",
   "display_name": "Python 3.7.3 64-bit ('tcc-env')",
   "metadata": {
    "interpreter": {
     "hash": "4143b9c6b9342c2726020891eca2bb8d0d6574ab18558731d58b7f9e44c9082d"
    }
   }
  }
 },
 "nbformat": 4,
 "nbformat_minor": 2,
 "cells": [
  {
   "source": [
    "# Ler dados o Melhores Destinos"
   ],
   "cell_type": "markdown",
   "metadata": {}
  },
  {
   "cell_type": "code",
   "execution_count": 54,
   "metadata": {},
   "outputs": [],
   "source": [
    "from bs4 import BeautifulSoup\n",
    "import pandas as pd\n",
    "from nltk import word_tokenize\n",
    "from nltk.stem import RSLPStemmer\n",
    "from nltk.corpus import stopwords"
   ]
  },
  {
   "cell_type": "code",
   "execution_count": 10,
   "metadata": {},
   "outputs": [],
   "source": [
    "def carregar_conteudo(filename):\n",
    "    with open(filename, encoding='utf-8') as f:\n",
    "        data = f.read()\n",
    "        return data"
   ]
  },
  {
   "cell_type": "code",
   "execution_count": 11,
   "metadata": {},
   "outputs": [],
   "source": [
    "# Faz parte do conteudo usando o BeautifulSoup\n",
    "filename = '/Users/heldergeraldoribeiro/Documents/estudos/data-science/tcc-pucmg/data/melhores_destinos/index.html'\n",
    "content = carregar_conteudo(filename)\n",
    "soup = BeautifulSoup(content, 'html.parser')"
   ]
  },
  {
   "cell_type": "code",
   "execution_count": 12,
   "metadata": {},
   "outputs": [],
   "source": [
    "# Carrega titulos e resumos dos posts\n",
    "articles = soup.find_all('div', { \"class\":  \"post-promo-home-c2\"})"
   ]
  },
  {
   "cell_type": "code",
   "execution_count": 27,
   "metadata": {},
   "outputs": [
    {
     "output_type": "execute_result",
     "data": {
      "text/plain": [
       "ortunidade para visitar as Cataratas e os outros atrativos da região, aproveitando boas tarifas nos pacotes para Foz do Iguaçu. Encontramos voos mais estadia a partir de apenas R$ 704 para um casal, ou R$ 352 por pessoa em… '),\n",
       " ('Pacotes all inclusive  para o Grand Palladium Imbassaí (BA) a partir de R$ 2.041',\n",
       "  ' Pacotes all inclusive  para o Grand Palladium Imbassaí (BA) a partir de R$ 2.041 Leonardo Cassol há 3 semanasO Grand Palladium Imbassaí é um resort cinco estrelas e all inclusive à beira da Praia de Imbassaí e pertinho da Praia do Forte, na Bahia! No Zarpo, os pacotes com voos mais hospedagem estão em promoção, a partir de… '),\n",
       " ('Pacotes all inclusive para o Transamerica Comandatuba a partir de R$ 1.902',\n",
       "  ' Pacotes all inclusive para o Transamerica Comandatuba a partir de R$ 1.902 Leonardo Cassol há 3 semanasBahia combina com all inclusive! O Zarpo está com ótimos descontos para o Transamerica Comandatuba, resort cinco estrelas em um dos destinos mais exclusivos do país. O pacote com voos mais hospedagem está a partir de R$ 3.804 o casal,… '),\n",
       " ('Costa do Sauípe! Pacotes com voos mais hospedagem all inclusive a partir de R$ 1.370',\n",
       "  ' Costa do Sauípe! Pacotes com voos mais hospedagem all inclusive a partir de R$ 1.370 Leonardo Cassol há 3 semanasDesfrutar da Costa do Sauípe, na Bahia, é sempre certeza de momentos incríveis, ainda mais com uma experiência all inclusive. E com promoção, fica ainda melhor! Os pacotes com passagens aéreas mais hospedagem no Sauípe Resorts ou no Sauípe Premium… '),\n",
       " ('Iberostar Bahia! Pacotes com voos mais hospedagem all inclusive a partir de R$ 1.961',\n",
       "  ' Iberostar Bahia! Pacotes com voos mais hospedagem all inclusive a partir de R$ 1.961 Leonardo Cassol há 3 semanasPara aqueles que não abrem mão de férias com mordomia, um resort all inclusive à beira-mar é sempre uma ótima escolha. Quando o destino é a Bahia e tem promoção, a viagem fica ainda melhor! O Zarpo está com descontos… '),\n",
       " ('Pacotes para Porto Seguro (BA) com voos mais hospedagem a partir de R$ 745',\n",
       "  ' Pacotes para Porto Seguro (BA) com voos mais hospedagem a partir de R$ 745 Leonardo Cassol há 3 semanasChegamos com promoção de pacotes para um dos destinos mais cobiçados da Bahia! O Porto Seguro Eco Bahia Hotel e o Porto Seguro Praia Resort estão com descontos incríveis no Zarpo. Os pacotes com voos mais hospedagem estão a partir… '),\n",
       " ('Pacotes para a Bahia a partir de R$ 718 com voos mais hospedagem em Salvador ou Maraú',\n",
       "  ' Pacotes para a Bahia a partir de R$ 718 com voos mais hospedagem em Salvador ou Maraú Leonardo Cassol há 3 semanasA Bahia é maravilhosa e isso não é segredo pra ninguém! Altas temperaturas, praias, comida deliciosa e uma alegria contagiante. Para tornar a viagem ainda melhor, que tal uma boa promoção? Começou hoje no Zarpo o Especial Bahia,\\xa0com uma seleção… '),\n",
       " ('Gol lança promoção relâmpago em 20 voos nacionais a partir de R$ 182 ida e volta!',\n",
       "  ' Gol lança promoção relâmpago em 20 voos nacionais a partir de R$ 182 ida e volta! João Goldmeier há 3 semanasA Gol acaba de iniciar uma promoção relâmpago de passagens aéreas nacionais com voos ida e volta a partir de R$ 182! A promoção vale para compras realizadas até às 20h de hoje, portanto se encontrar algo com um preço… '),\n",
       " ('Voos para Miami a partir de R$ 1.550 saindo de São Paulo ou Brasília até novembro',\n",
       "  ' Voos para Miami a partir de R$ 1.550 saindo de São Paulo ou Brasília até novembro Leonardo Cassol há 3 semanasEncontramos passagens aéreas de São Paulo para Miami por apenas R$ 1.550 ida e volta, com as taxas incluídas! Há datas até novembro. Também há voos saindo de Brasília a partir de R$ 1.637. Os valores são para voar com… '),\n",
       " ('Diárias com pensão completa no Bourbon Atibaia (SP) a partir de R$ 1.079 com cortesia para crianças',\n",
       "  ' Diárias com pensão completa no Bourbon Atibaia (SP) a partir de R$ 1.079 com cortesia para crianças Leonardo Cassol há 3 semanasEm busca de momentos em família num dos melhores resorts do Brasil? Essa é a proposta do Bourbon Atibaia, no interior de São Paulo, com pensão completa inclusa na tarifa e uma incrível área de lazer! No Zarpo, as diárias… '),\n",
       " ('Promoção tem diárias a partir de R$ 377 para curtir o litoral norte paulista',\n",
       "  ' Promoção tem diárias a partir de R$ 377 para curtir o litoral norte paulista Leonardo Cassol há 4 semanasDa badalação às praias quase desertas, São Sebastião é um dos destinos preferidos do litoral norte de São Paulo. Para aproveitar, nada como uma hospedagem que combine o charme litorâneo com praticidade e conforto. E o Zarpo está com diárias… '),\n",
       " ('Último dia! Cupom 10% OFF no aluguel de carro, mais descontos exclusivos em 100 locadoras pela Rentcars',\n",
       "  ' Último dia! Cupom 10% OFF no aluguel de carro, mais descontos exclusivos em 100 locadoras pela Rentcars Leonardo Cassol há 4 semanasÚltimo dia para alugar carro com descontos exclusivos em mais de 100 locadoras nacionais e internacionais na Rentcars e ainda ganhar 10% de desconto adicional sobre o valor total da locação. Para aproveitar a promoção basta acessar a página da… '),\n",
       " ('Hotéis fazenda no interior de SP com pensão completa a partir de R$ 402 a diária',\n",
       "  ' Hotéis fazenda no interior de SP com pensão completa a partir de R$ 402 a diária Leonardo Cassol há 4 semanasO interior de São Paulo sempre é uma ótima escolha para viajar em família, e quando combinados com hospedagem em um hotel fazenda, fica ainda melhor! No Zarpo, as diárias para o Refúgio Vista Serrana, o Hotel Estância Barra Bonita,… '),\n",
       " ('Promoção para Campos do Jordão! Diárias com café da manhã a partir de R$ 102',\n",
       "  ' Promoção para Campos do Jordão! Diárias com café da manhã a partir de R$ 102 Leonardo Cassol há 4 semanasCampos do Jordão é a cidade mais charmosa da Serra da Mantiqueira e um dos destinos favoritos dos paulistanos. No Zarpo, as diárias com café da manhã estão a partir de apenas R$ 102, com quatro opções de hospedagem: Golden… '),\n",
       " ('Santa Catarina! Passagens aéreas para Floripa, Joinville ou Navegantes a partir de R$ 192',\n",
       "  ' Santa Catarina! Passagens aéreas para Floripa, Joinville ou Navegantes a partir de R$ 192 Rafael Castilho há 4 semanasViaje para Santa Catarina! Encontramos passagens aéreas para Joinville a partir de R$ 192, Navegantes por R$ 213 e Florianópolis a R$ 223. As melhores tarifas são com saídas de São Paulo. De Porto Alegre, Rio e mais cidades voos… '),\n",
       " ('Voos para Belo Horizonte a partir de R$ 197 saindo de São Paulo, Rio e mais cidades!',\n",
       "  ' Voos para Belo Horizonte a partir de R$ 197 saindo de São Paulo, Rio e mais cidades! Rafael Castilho há 4 semanasQue tal curtir uns dias nas Minas Gerais?\\xa0Encontramos passagens aéreas para BH a partir de R$ 197 ida e volta, com taxas inclusas, saindo de São Paulo. Tem ainda voos por R$ 220 saindo do Rio de Janeiro,\\xa0de Brasília e… '),\n",
       " ('Passagens para São Paulo a partir de R$ 181 ida e volta, saindo de 30 cidades brasileiras',\n",
       "  ' Passagens para São Paulo a partir de R$ 181 ida e volta, saindo de 30 cidades brasileiras Rafael Castilho há 4 semanasProcurando passagens aéreas para São Paulo?\\xa0Encontramos tarifas a partir de R$ 181 ida e volta, taxas incluídas. O menor valor é saindo do Rio de Janeiro, mas há opções voando de Curitiba por R$ 188, de Belo Horizonte e Ribeirão… '),\n",
       " ('Voos promocionais para Foz do Iguaçu a partir de R$ 232 ida e volta',\n",
       "  ' Voos promocionais para Foz do Iguaçu a partir de R$ 232 ida e volta Leonardo Cassol há 4 semanasBoa oportunidade para visitar as Cataratas do Iguaçu! Encontramos passagens aéreas para Foz do Iguaçu a partir de R$ 232 ida e volta, taxas incluídas. O menor valor é saindo de São Paulo, mas há voos partindo do Rio de… '),\n",
       " ('Passagens aéreas para Curitiba a partir de R$ 188 ida e volta',\n",
       "  ' Passagens aéreas para Curitiba a partir de R$ 188 ida e volta Leonardo Cassol há 4 semanasOportunidade de visitar a capital paranaense. Encontramos passagens aéreas para Curitiba a partir de R$ 188 ida e volta, taxas inclusas. O menor valor é saindo de São Paulo, mas há voos com origem em Brasília a partir de R$… '),\n",
       " ('Passagens para o Rio de Janeiro a partir de R$ 182 ida e volta',\n",
       "  ' Passagens para o Rio de Janeiro a partir de R$ 182 ida e volta Leonardo Cassol há 4 semanasGol, Latam e Azul estão bom bons preços nas passagens aéreas para o Rio de Janeiro, a partir de R$ 182 ida e volta, taxas incluídas. O menor valor é saindo de Vitória e de São Paulo, mas tem voos… '),\n",
       " ('Blue Tree Thermas (SP) com pensão completa e cortesia para crianças a partir de R$ 709',\n",
       "  ' Blue Tree Thermas (SP) com pensão completa e cortesia para crianças a partir de R$ 709 Leonardo Cassol há 4 semanasQue tal se hospedar em um oásis de águas termais? O Blue Tree Thermas, em Lins, no interior paulista, é uma escolha perfeita! E o Zarpo está com diárias promocionais a partir de R$ 709 no quarto para dois adultos… '),\n",
       " ('Pacotes all inclusive  nos Resorts Salinas Maragogi e Maceió a partir de R$ 2.042',\n",
       "  ' Pacotes all inclusive  nos Resorts Salinas Maragogi e Maceió a partir de R$ 2.042 Leonardo Cassol há 4 semanasCom litoral de areias brancas, mar cristalino e piscinas naturais, Alagoas é garantia de férias perfeitas. Para tornar a viagem ainda melhor, nada como se hospedar num dos melhores resorts all inclusive do Brasil! No Zarpo, os pacotes com voos… '),\n",
       " ('Passagens aéreas para a Bolívia a partir de R$ 674, com bagagem incluída',\n",
       "  ' Passagens aéreas para a Bolívia a partir de R$ 674, com bagagem incluída Rafael Castilho há 4 semanasOs bons preços para a Bolivia continuam! Encontramos passagens aéreas em voos diretos de São Paulo para Santa Cruz de La Sierra, na Bolívia, a partir de apenas R$ 674 ida e volta, já incluindo taxas e bagagem despachada. Tem… '),\n",
       " ('Wemobi lança promoção com passagens de ônibus a partir de R$ 9,95 o trecho!',\n",
       "  ' Wemobi lança promoção com passagens de ônibus a partir de R$ 9,95 o trecho! João Goldmeier há 4 semanasA Wemobi acaba de lançar uma promoção de passagens de ônibus com 50% de desconto, para as rotas entre São Paulo-Rio de Janeiro; São Paulo-Curitiba; Rio de Janeiro-Belo Horizonte; ou Rio de Janeiro-Curitiba. Tem bilhetes promocionais a partir de apenas… '),\n",
       " ('Promoção para Olímpia (SP) tem diárias a partir de R$ 432 e cortesia para crianças',\n",
       "  ' Promoção para Olímpia (SP) tem diárias a partir de R$ 432 e cortesia para crianças Leonardo Cassol há 4 semanasOlímpia, no interior de São Paulo, é sinônimo de diversão, graças aos parques de águas termais famosos em todo o estado! O Zarpo tem preços imperdíveis para hotéis no destino: as diárias estão a partir de R$ 432 para o… '),\n",
       " ('Cancún em classe executiva a partir de R$ 4.365 para voar até dezembro',\n",
       "  ' Cancún em classe executiva a partir de R$ 4.365 para voar até dezembro Leonardo Cassol há 4 semanasA Latam está com excelentes preços para voar de classe executiva para Cancún. Encontramos passagens aéreas a partir de R$ 4.365 ida e volta, com as taxas e 3 volumes de bagagem incluídos! O menor valor é saindo de São… '),\n",
       " ('Hotéis e Resorts no interior e litoral de São Paulo com até 30% de desconto',\n",
       "  ' Hotéis e Resorts no interior e litoral de São Paulo com até 30% de desconto Leonardo Cassol há 4 semanasViajar pelo estado de São Paulo, seja interior ou litoral, é uma oportunidade de curtir férias relaxantes e lindas paisagens. E, para te ajudar a reservar a hospedagem com descontos, começou hoje no Zarpo a SP Trip, promoção que reúne… '),\n",
       " ('Baixou! Passagens para Santiago a partir de R$ 779 saindo de São Paulo e mais cidades!',\n",
       "  ' Baixou! Passagens para Santiago a partir de R$ 779 saindo de São Paulo e mais cidades! João Goldmeier há 4 semanasA Latam está vendendo passagens aéreas para Santiago a partir de R$ 779 ida e volta com taxas inclusas saindo de São Paulo. De Porto Alegre os valores partem de R$ 837 e de Belo Horizonte e mais cidades a… '),\n",
       " ('Porto de Galinhas! Voos mais hospedagem no Samoa Beach Resort, em Ipojuca, a partir de R$ 1.051',\n",
       "  ' Porto de Galinhas! Voos mais hospedagem no Samoa Beach Resort, em Ipojuca, a partir de R$ 1.051 Leonardo Cassol há 1 mêsA poucos minutos de Porto de Galinhas e à beira da piscina natural permanente da Praia de Muro Alto, em Ipojuca, o resort Samoa Beach Resort está com uma oferta exclusiva no Zarpo! Os pacotes com voos mais hospedagens estão… '),\n",
       " ('Ganhe 10% OFF no aluguel de carro com nosso cupom e descontos em 100 locadoras pela Rentcars',\n",
       "  ' Ganhe 10% OFF no aluguel de carro com nosso cupom e descontos em 100 locadoras pela Rentcars Leonardo Cassol há 1 mêsOportunidade de alugar carro com descontos exclusivos em mais de 100 locadoras nacionais e internacionais na Rentcars e ainda ganhar 10% de desconto adicional sobre o valor total da locação. Para aproveitar basta acessar a página da promoção, selecionar um… '),\n",
       " ('Muito barato! Passagens para as Ilhas Seychelles por apenas R$ 1.724!',\n",
       "  ' Muito barato! Passagens para as Ilhas Seychelles por apenas R$ 1.724! Leonardo Cassol há 1 mêsOportunidade de visitar as paradisíacas Ilhas Seychelles. A Iberia está com passagens aéreas saindo do Rio de Janeiro a partir de apenas R$ 1.724 ida e volta, já com taxas e bagagem inclusas! Tem datas até outubro. Mas fique ligado,… '),\n",
       " ('18 excelentes promoções de passagens aéreas e resorts para você aproveitar hoje!',\n",
       "  ' 18 excelentes promoções de passagens aéreas e resorts para você aproveitar hoje! Leonardo Marques há 1 mêsÚltimas horas para aproveitar as promoções de passagens aéreas do feirão de aniversário da GOL e da mega promo da Latam, com datas até setembro. Além dos excelentes preços para vários destinos no Nordeste, tem oportunidades para visitar Gramado, as… '),\n",
       " ('Gramado e Serra Gaúcha! Passagens para Porto Alegre a partir de R$ 172',\n",
       "  ' Gramado e Serra Gaúcha! Passagens para Porto Alegre a partir de R$ 172 Leonardo Cassol há 1 mêsEncontramos bons preços nas passagens aéreas para Porto Alegre, aproveitando o feirão de aniversário da GOL e a Megapromo Latam neste fim de semana. É uma boa oportunidade pra quem sonha visitar Gramado e a região da Serra Gaúcha. Tem… '),\n",
       " ('All inclusive a 1h de SP! Diárias no Club Med Lake Paradise a partir de R$ 1.282',\n",
       "  ' All inclusive a 1h de SP! Diárias no Club Med Lake Paradise a partir de R$ 1.282 Leonardo Cassol há 1 mêsEm Mogi das Cruzes, a 1h de carro da capital paulista, o Club Med Lake Paradise está com uma oferta exclusiva no Zarpo! As diárias promocionais estão a partir de R$ 1.282, com cortesia para crianças e parcelamento em até… '),\n",
       " ('Passagens para Florianópolis ou Navegantes a partir de R$ 194',\n",
       "  ' Passagens para Florianópolis ou Navegantes a partir de R$ 194 Leonardo Cassol há 1 mêsOportunidade para curtir o verão em Santa Catarina! Encontramos passagens aéreas para Navegantes a partir de R$ 194 ida e volta, taxas incluídas. Já para Florianópolis há tarifas a partir de R$ 205. Os menores valores são saindo de São… '),\n",
       " ('Pará chamando! Voos para Belém a partir de R$ 367 saindo de Brasília, São Paulo e mais cidades',\n",
       "  ' Pará chamando! Voos para Belém a partir de R$ 367 saindo de Brasília, São Paulo e mais cidades Rafael Castilho há 1 mêsEncontramos passagens aéreas com bons preços na Megapromo da Latam e no Feirão da Gol nos voos para Belém. ! Passagens aéreas a partir de R$ 256 saindo de Fortaleza. De Brasília e São Paulo as menores tarifas são a… '),\n",
       " ('Passagens para o Rio de Janeiro a partir de R$ 161 saindo de várias cidades!',\n",
       "  ' Passagens para o Rio de Janeiro a partir de R$ 161 saindo de várias cidades! João Goldmeier há 1 mês🎶 Rio de Janeiro\\xa0terra sem fim, Rio você foi feito pra mim…🎶 Se você não aguenta mais de saudades da cidade maravilhosa, aproveita que encontramos\\xa0passagens aéreas com bons preços a partir de R$ 161 ida e volta, com as taxas… '),\n",
       " ('Lençóis Maranhenses! Passagens para São Luís a partir de R$ 393 saindo de São Paulo e mais cidades',\n",
       "  ' Lençóis Maranhenses! Passagens para São Luís a partir de R$ 393 saindo de São Paulo e mais cidades Rafael Castilho há 1 mêsA Megapromo da Latam e o Feirão da Gol com bons preços para você conhecer os Lençóis Maranhenses! Tem passagem aérea para São Luís do Maranhão a partir de apenas R$ 259 ida e volta, taxas incluídas! O menor valor… '),\n",
       " ('Passagens para Brasília a partir de R$ 186 saindo de várias cidades!',\n",
       "  ' Passagens para Brasília a partir de R$ 186 saindo de várias cidades! João Goldmeier há 1 mêsAs promoções de\\xa0passagens aéreas nacionais continuam! Hora de garantir sua passagem para Brasília: encontramos voos a partir de R$ 186 ida e volta, taxas inclusas. O menor valor é saindo de Belo Horizonte, mas tem boas opções partindo do Rio… '),\n",
       " ('Colômbia! Passagens para Cartagena, Bogotá ou San Andrés a partir de R$ 1.548',\n",
       "  ' Colômbia! Passagens para Cartagena, Bogotá ou San Andrés a partir de R$ 1.548 Rafael Castilho há 1 mêsA Copa Airlines está com uns preços para a Colômbia. Há passagens aéreas promocionais para Cartagena a partir de R$ 1.548 saindo de São Paulo e mais cidades. Para quem busca voos para Bogotá há tarifas por R$ 1.655 e… '),\n",
       " ('Oferta exclusiva! Diárias all inclusive no Club Med Rio das Pedras a partir de R$ 1.290',\n",
       "  ' Oferta exclusiva! Diárias all inclusive no Club Med Rio das Pedras a partir de R$ 1.290 Leonardo Cassol há 1 mêsEntre Mangaratiba e Angra dos Reis, dois lindos destinos no estado do Rio de Janeiro, está o fabuloso Club Med Rio das Pedras, um dos melhores e mais exclusivos resorts do Brasil. As diárias estão com uma oferta exclusiva no… '),\n",
       " ('Nordeste em Promo! Voos para o Recife ou Maceió a partir de R$ 278',\n",
       "  ' Nordeste em Promo! Voos para o Recife ou Maceió a partir de R$ 278 Rafael Castilho há 1 mêsA Gol e a Latam estão vendendo passagens aéreas baratas\\xa0para o Recife ou Maceió por R$ 278 saindo de outras capitais nordestinas ou a partir de R$ 366 de Brasília, Rio de Janeiro, São Paulo e mais cidades. Confira todas… '),\n",
       " ('Megapromo Latam e Feirão Gol! Passagens para São Paulo a partir de R$ 171',\n",
       "  ' Megapromo Latam e Feirão Gol! Passagens para São Paulo a partir de R$ 171 Bruna Scirea há 1 mêsA Megapromo da Latam e o Feirão da Gol continuam neste fim de semana!\\xa0Encontramos passagem aérea para São Paulo a partir de apenas R$ 171 ida e volta com taxas! O menor valor é de voos saindo do Rio de… '),\n",
       " ('Portugal! Voos da Azul para Lisboa a partir de R$ 1.787 com bagagem despachada',\n",
       "  ' Portugal! Voos da Azul para Lisboa a partir de R$ 1.787 com bagagem despachada Rafael Castilho há 1 mêsOportunidade! A Azul está com passagens aéreas promocionais para Lisboa a partir de R$ 1.787 saindo de Campinas com bagagem despachada. São poucas datas no menor valor para viagens em junho. Há ainda voos saindo de outras cidades brasileiras, com… '),\n",
       " ('Férias no Jalapão! Passagens para Palmas a partir de R$ 249 de Brasília ou mais cidades!',\n",
       "  ' Férias no Jalapão! Passagens para Palmas a partir de R$ 249 de Brasília ou mais cidades! João Goldmeier há 1 mêsEncontramos\\xa0passagens aéreas promocionais\\xa0para Palmas, aeroporto mais próximo do Jalapão, com voos a partir de apenas R$ 249 ida e volta, taxas incluídas. O menor valor é nos voos saindo de Brasília, mas tem passagens do Rio a partir de R$… '),\n",
       " ('Férias no Nordeste: passagens para João Pessoa ou Aracaju a partir de R$ 299',\n",
       "  ' Férias no Nordeste: passagens para João Pessoa ou Aracaju a partir de R$ 299 João Goldmeier há 1 mêsHora de programar suas próximas férias no Nordeste! Encontramos passagens aéreas promocionais de Brasília para Aracaju por apenas R$ 299 ida e volta, taxas incluídas. De Brasília para João Pessoa tem voos por R$ 359. Existem ainda outras opções de… '),\n",
       " ('Voos para Fortaleza a partir de R$ 366 saindo de Brasília, São Paulo e mais cidades!',\n",
       "  ' Voos para Fortaleza a partir de R$ 366 saindo de Brasília, São Paulo e mais cidades! Bruna Scirea há 1 mêsA GOL está vendendo passagens aéreas baratas para Fortaleza a partir de R$ 366 ida e volta com taxas saindo de Brasília e a partir de R$ 398 de São Paulo! Tem ainda voos saindo de Natal e outras cidades… ')]"
      ]
     },
     "metadata": {},
     "execution_count": 27
    }
   ],
   "source": [
    "aa = [(a.findChild('a').get('title'), a.getText()) for a in articles]\n",
    "aa"
   ]
  },
  {
   "cell_type": "code",
   "execution_count": 31,
   "metadata": {},
   "outputs": [
    {
     "output_type": "execute_result",
     "data": {
      "text/plain": [
       "(100, 2)"
      ]
     },
     "metadata": {},
     "execution_count": 31
    }
   ],
   "source": [
    "md_posts = pd.DataFrame(aa, columns = ['Titulo', 'Texto'])\n",
    "md_posts.shape"
   ]
  },
  {
   "cell_type": "code",
   "execution_count": 44,
   "metadata": {},
   "outputs": [
    {
     "output_type": "execute_result",
     "data": {
      "text/plain": [
       "0     \\n\\nporto seguro all inclusive! pacotes com vo...\n",
       "1     \\n\\npromoção de pacotes para salvador a partir...\n",
       "2     \\n\\nvoos para a tailândia a partir de r$ 3.918...\n",
       "3     \\n\\npacotes all inclusive para a costa do sauí...\n",
       "4     \\n\\npacotes all inclusive para o pratagy resor...\n",
       "                            ...                        \n",
       "95     megapromo latam e feirão gol! passagens para ...\n",
       "96     portugal! voos da azul para lisboa a partir d...\n",
       "97     férias no jalapão! passagens para palmas a pa...\n",
       "98     férias no nordeste: passagens para joão pesso...\n",
       "99     voos para fortaleza a partir de r$ 366 saindo...\n",
       "Name: Texto_clean, Length: 100, dtype: object"
      ]
     },
     "metadata": {},
     "execution_count": 44
    }
   ],
   "source": [
    "# md_posts['Texto_clean']\n",
    "md_posts['Texto_clean'] = md_posts['Texto'].apply(lambda x: x.lower())\n",
    "md_posts['Texto_clean']"
   ]
  },
  {
   "cell_type": "code",
   "execution_count": 57,
   "metadata": {},
   "outputs": [
    {
     "output_type": "execute_result",
     "data": {
      "text/plain": [
       "0     [porto, seguro, all, inclusive, !, pacotes, co...\n",
       "1     [promoção, de, pacotes, para, salvador, a, par...\n",
       "2     [voos, para, a, tailândia, a, partir, de, r, $...\n",
       "3     [pacotes, all, inclusive, para, a, costa, do, ...\n",
       "4     [pacotes, all, inclusive, para, o, pratagy, re...\n",
       "                            ...                        \n",
       "95    [megapromo, latam, e, feirão, gol, !, passagen...\n",
       "96    [portugal, !, voos, da, azul, para, lisboa, a,...\n",
       "97    [férias, no, jalapão, !, passagens, para, palm...\n",
       "98    [férias, no, nordeste, :, passagens, para, joã...\n",
       "99    [voos, para, fortaleza, a, partir, de, r, $, 3...\n",
       "Name: Texto_tokens, Length: 100, dtype: object"
      ]
     },
     "metadata": {},
     "execution_count": 57
    }
   ],
   "source": [
    "# Quebra o texto em tokens\n",
    "md_posts['Texto_tokens'] = md_posts['Texto_clean'].apply(lambda x: word_tokenize(x))\n",
    "md_posts['Texto_tokens']"
   ]
  },
  {
   "cell_type": "code",
   "execution_count": 58,
   "metadata": {},
   "outputs": [
    {
     "output_type": "execute_result",
     "data": {
      "text/plain": [
       "0     [porto, seguro, all, inclusive, !, pacotes, vo...\n",
       "1     [promoção, pacotes, salvador, partir, r, $, 40...\n",
       "2     [voos, tailândia, partir, r, $, 3.918, ,, opçã...\n",
       "3     [pacotes, all, inclusive, costa, sauípe, ,, ba...\n",
       "4     [pacotes, all, inclusive, pratagy, resort, ,, ...\n",
       "                            ...                        \n",
       "95    [megapromo, latam, feirão, gol, !, passagens, ...\n",
       "96    [portugal, !, voos, azul, lisboa, partir, r, $...\n",
       "97    [férias, jalapão, !, passagens, palmas, partir...\n",
       "98    [férias, nordeste, :, passagens, joão, pessoa,...\n",
       "99    [voos, fortaleza, partir, r, $, 366, saindo, b...\n",
       "Name: Texto_tokens, Length: 100, dtype: object"
      ]
     },
     "metadata": {},
     "execution_count": 58
    }
   ],
   "source": [
    "# Remove stopwords em portuges\n",
    "pt_stop = stopwords.words('portuguese')\n",
    "md_posts['Texto_tokens'] = md_posts['Texto_tokens'].apply(lambda xs: [x for x in xs if x not in pt_stop])\n",
    "md_posts['Texto_tokens']\n"
   ]
  },
  {
   "cell_type": "code",
   "execution_count": 53,
   "metadata": {},
   "outputs": [
    {
     "output_type": "execute_result",
     "data": {
      "text/plain": [
       "0     [port, segur, all, inclusiv, !, pacot, com, vo...\n",
       "1     [promoç, de, pacot, par, salv, a, part, de, r,...\n",
       "2     [voo, par, a, tailând, a, part, de, r, $, 3.91...\n",
       "3     [pacot, all, inclusiv, par, a, cost, do, sauíp...\n",
       "4     [pacot, all, inclusiv, par, o, pratagy, resort...\n",
       "                            ...                        \n",
       "95    [megapr, lat, e, feir, gol, !, pass, par, são,...\n",
       "96    [portug, !, voo, da, azul, par, lisbo, a, part...\n",
       "97    [férias, no, jalap, !, pass, par, palm, a, par...\n",
       "98    [férias, no, nord, :, pass, par, joã, pesso, o...\n",
       "99    [voo, par, fortal, a, part, de, r, $, 366, sai...\n",
       "Name: Texto_stem, Length: 100, dtype: object"
      ]
     },
     "metadata": {},
     "execution_count": 53
    }
   ],
   "source": [
    "stemmer = RSLPStemmer()\n",
    "md_posts['Texto_stem'] = md_posts['Texto_tokens'].apply(lambda x: [stemmer.stem(y) for y in x])\n",
    "md_posts['Texto_stem']"
   ]
  },
  {
   "cell_type": "code",
   "execution_count": 56,
   "metadata": {},
   "outputs": [
    {
     "output_type": "execute_result",
     "data": {
      "text/plain": [
       "['de',\n",
       " 'a',\n",
       " 'o',\n",
       " 'que',\n",
       " 'e',\n",
       " 'é',\n",
       " 'do',\n",
       " 'da',\n",
       " 'em',\n",
       " 'um',\n",
       " 'para',\n",
       " 'com',\n",
       " 'não',\n",
       " 'uma',\n",
       " 'os',\n",
       " 'no',\n",
       " 'se',\n",
       " 'na',\n",
       " 'por',\n",
       " 'mais',\n",
       " 'as',\n",
       " 'dos',\n",
       " 'como',\n",
       " 'mas',\n",
       " 'ao',\n",
       " 'ele',\n",
       " 'das',\n",
       " 'à',\n",
       " 'seu',\n",
       " 'sua',\n",
       " 'ou',\n",
       " 'quando',\n",
       " 'muito',\n",
       " 'nos',\n",
       " 'já',\n",
       " 'eu',\n",
       " 'também',\n",
       " 'só',\n",
       " 'pelo',\n",
       " 'pela',\n",
       " 'até',\n",
       " 'isso',\n",
       " 'ela',\n",
       " 'entre',\n",
       " 'depois',\n",
       " 'sem',\n",
       " 'mesmo',\n",
       " 'aos',\n",
       " 'seus',\n",
       " 'quem',\n",
       " 'nas',\n",
       " 'me',\n",
       " 'esse',\n",
       " 'eles',\n",
       " 'você',\n",
       " 'essa',\n",
       " 'num',\n",
       " 'nem',\n",
       " 'suas',\n",
       " 'meu',\n",
       " 'às',\n",
       " 'minha',\n",
       " 'numa',\n",
       " 'pelos',\n",
       " 'elas',\n",
       " 'qual',\n",
       " 'nós',\n",
       " 'lhe',\n",
       " 'deles',\n",
       " 'essas',\n",
       " 'esses',\n",
       " 'pelas',\n",
       " 'este',\n",
       " 'dele',\n",
       " 'tu',\n",
       " 'te',\n",
       " 'vocês',\n",
       " 'vos',\n",
       " 'lhes',\n",
       " 'meus',\n",
       " 'minhas',\n",
       " 'teu',\n",
       " 'tua',\n",
       " 'teus',\n",
       " 'tuas',\n",
       " 'nosso',\n",
       " 'nossa',\n",
       " 'nossos',\n",
       " 'nossas',\n",
       " 'dela',\n",
       " 'delas',\n",
       " 'esta',\n",
       " 'estes',\n",
       " 'estas',\n",
       " 'aquele',\n",
       " 'aquela',\n",
       " 'aqueles',\n",
       " 'aquelas',\n",
       " 'isto',\n",
       " 'aquilo',\n",
       " 'estou',\n",
       " 'está',\n",
       " 'estamos',\n",
       " 'estão',\n",
       " 'estive',\n",
       " 'esteve',\n",
       " 'estivemos',\n",
       " 'estiveram',\n",
       " 'estava',\n",
       " 'estávamos',\n",
       " 'estavam',\n",
       " 'estivera',\n",
       " 'estivéramos',\n",
       " 'esteja',\n",
       " 'estejamos',\n",
       " 'estejam',\n",
       " 'estivesse',\n",
       " 'estivéssemos',\n",
       " 'estivessem',\n",
       " 'estiver',\n",
       " 'estivermos',\n",
       " 'estiverem',\n",
       " 'hei',\n",
       " 'há',\n",
       " 'havemos',\n",
       " 'hão',\n",
       " 'houve',\n",
       " 'houvemos',\n",
       " 'houveram',\n",
       " 'houvera',\n",
       " 'houvéramos',\n",
       " 'haja',\n",
       " 'hajamos',\n",
       " 'hajam',\n",
       " 'houvesse',\n",
       " 'houvéssemos',\n",
       " 'houvessem',\n",
       " 'houver',\n",
       " 'houvermos',\n",
       " 'houverem',\n",
       " 'houverei',\n",
       " 'houverá',\n",
       " 'houveremos',\n",
       " 'houverão',\n",
       " 'houveria',\n",
       " 'houveríamos',\n",
       " 'houveriam',\n",
       " 'sou',\n",
       " 'somos',\n",
       " 'são',\n",
       " 'era',\n",
       " 'éramos',\n",
       " 'eram',\n",
       " 'fui',\n",
       " 'foi',\n",
       " 'fomos',\n",
       " 'foram',\n",
       " 'fora',\n",
       " 'fôramos',\n",
       " 'seja',\n",
       " 'sejamos',\n",
       " 'sejam',\n",
       " 'fosse',\n",
       " 'fôssemos',\n",
       " 'fossem',\n",
       " 'for',\n",
       " 'formos',\n",
       " 'forem',\n",
       " 'serei',\n",
       " 'será',\n",
       " 'seremos',\n",
       " 'serão',\n",
       " 'seria',\n",
       " 'seríamos',\n",
       " 'seriam',\n",
       " 'tenho',\n",
       " 'tem',\n",
       " 'temos',\n",
       " 'tém',\n",
       " 'tinha',\n",
       " 'tínhamos',\n",
       " 'tinham',\n",
       " 'tive',\n",
       " 'teve',\n",
       " 'tivemos',\n",
       " 'tiveram',\n",
       " 'tivera',\n",
       " 'tivéramos',\n",
       " 'tenha',\n",
       " 'tenhamos',\n",
       " 'tenham',\n",
       " 'tivesse',\n",
       " 'tivéssemos',\n",
       " 'tivessem',\n",
       " 'tiver',\n",
       " 'tivermos',\n",
       " 'tiverem',\n",
       " 'terei',\n",
       " 'terá',\n",
       " 'teremos',\n",
       " 'terão',\n",
       " 'teria',\n",
       " 'teríamos',\n",
       " 'teriam']"
      ]
     },
     "metadata": {},
     "execution_count": 56
    }
   ],
   "source": [
    "stopwords.words('portuguese')"
   ]
  }
 ]
}