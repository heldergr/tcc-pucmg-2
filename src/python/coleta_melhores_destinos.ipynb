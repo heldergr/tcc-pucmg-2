{
 "cells": [
  {
   "cell_type": "markdown",
   "metadata": {},
   "source": [
    "# Ler dados o Melhores Destinos"
   ]
  },
  {
   "cell_type": "code",
   "execution_count": 1,
   "metadata": {},
   "outputs": [
    {
     "ename": "ModuleNotFoundError",
     "evalue": "No module named 'bs4'",
     "output_type": "error",
     "traceback": [
      "\u001b[0;31m---------------------------------------------------------------------------\u001b[0m",
      "\u001b[0;31mModuleNotFoundError\u001b[0m                       Traceback (most recent call last)",
      "\u001b[0;32m<ipython-input-1-8100f52e53e2>\u001b[0m in \u001b[0;36m<module>\u001b[0;34m\u001b[0m\n\u001b[0;32m----> 1\u001b[0;31m \u001b[0;32mfrom\u001b[0m \u001b[0mbs4\u001b[0m \u001b[0;32mimport\u001b[0m \u001b[0mBeautifulSoup\u001b[0m\u001b[0;34m\u001b[0m\u001b[0;34m\u001b[0m\u001b[0m\n\u001b[0m\u001b[1;32m      2\u001b[0m \u001b[0;32mimport\u001b[0m \u001b[0mpandas\u001b[0m \u001b[0;32mas\u001b[0m \u001b[0mpd\u001b[0m\u001b[0;34m\u001b[0m\u001b[0;34m\u001b[0m\u001b[0m\n\u001b[1;32m      3\u001b[0m \u001b[0;32mfrom\u001b[0m \u001b[0mnltk\u001b[0m \u001b[0;32mimport\u001b[0m \u001b[0mword_tokenize\u001b[0m\u001b[0;34m\u001b[0m\u001b[0;34m\u001b[0m\u001b[0m\n\u001b[1;32m      4\u001b[0m \u001b[0;32mfrom\u001b[0m \u001b[0mnltk\u001b[0m\u001b[0;34m.\u001b[0m\u001b[0mstem\u001b[0m \u001b[0;32mimport\u001b[0m \u001b[0mRSLPStemmer\u001b[0m\u001b[0;34m\u001b[0m\u001b[0;34m\u001b[0m\u001b[0m\n\u001b[1;32m      5\u001b[0m \u001b[0;32mfrom\u001b[0m \u001b[0mnltk\u001b[0m\u001b[0;34m.\u001b[0m\u001b[0mcorpus\u001b[0m \u001b[0;32mimport\u001b[0m \u001b[0mstopwords\u001b[0m\u001b[0;34m\u001b[0m\u001b[0;34m\u001b[0m\u001b[0m\n",
      "\u001b[0;31mModuleNotFoundError\u001b[0m: No module named 'bs4'"
     ]
    }
   ],
   "source": [
    "from bs4 import BeautifulSoup\n",
    "import pandas as pd\n",
    "from nltk import word_tokenize\n",
    "from nltk.stem import RSLPStemmer\n",
    "from nltk.corpus import stopwords"
   ]
  },
  {
   "cell_type": "code",
   "execution_count": null,
   "metadata": {},
   "outputs": [],
   "source": [
    "def carregar_conteudo(filename):\n",
    "    with open(filename, encoding='utf-8') as f:\n",
    "        data = f.read()\n",
    "        return data"
   ]
  },
  {
   "cell_type": "code",
   "execution_count": null,
   "metadata": {},
   "outputs": [],
   "source": [
    "def get_promocoes_local(filename = '/Users/heldergeraldoribeiro/Documents/estudos/data-science/tcc-pucmg/data/melhores_destinos/index.html'):\n",
    "    # Faz parte do conteudo usando o BeautifulSoup\n",
    "    content = carregar_conteudo(filename)\n",
    "    soup = BeautifulSoup(content, 'html.parser')\n",
    "\n",
    "    # Carrega titulos e resumos dos posts\n",
    "    articles = soup.find_all('div', { \"class\":  \"post-promo-home-c2\"})\n",
    "\n",
    "    aa = [(a.findChild('a').get('title'), a.getText()) for a in articles]\n",
    "\n",
    "    md_posts = pd.DataFrame(aa, columns = ['Titulo', 'Texto'])\n",
    "    return md_posts"
   ]
  },
  {
   "cell_type": "code",
   "execution_count": 6,
   "metadata": {},
   "outputs": [],
   "source": [
    "def clean_melhores_destinos_local(md_posts):\n",
    "    # Converte conteudo para lowercase\n",
    "    md_posts['Texto_clean'] = md_posts['Texto'].apply(lambda x: x.lower())\n",
    "    \n",
    "    # Quebra os posts em tokens\n",
    "    md_posts['Texto_tokens'] = md_posts['Texto_clean'].apply(lambda x: word_tokenize(x))\n",
    "\n",
    "    # Remove stopwords em portuges\n",
    "    pt_stop = stopwords.words('portuguese')\n",
    "    md_posts['Texto_tokens'] = md_posts['Texto_tokens'].apply(lambda xs: [x for x in xs if x not in pt_stop])\n",
    "\n",
    "    stemmer = RSLPStemmer()\n",
    "    md_posts['Texto_stem'] = md_posts['Texto_tokens'].apply(lambda x: [stemmer.stem(y) for y in x])\n",
    "\n",
    "    return md_posts"
   ]
  },
  {
   "cell_type": "code",
   "execution_count": 7,
   "metadata": {},
   "outputs": [],
   "source": [
    "prom = get_promocoes_local()\n",
    "prom = clean_melhores_destinos_local(prom)"
   ]
  },
  {
   "cell_type": "code",
   "execution_count": 14,
   "metadata": {},
   "outputs": [],
   "source": [
    "# Junta todos os textos em um unico string\n",
    "all_texts = ' '.join([' '.join(a) for a in prom['Texto_stem'].values])"
   ]
  },
  {
   "cell_type": "code",
   "execution_count": 12,
   "metadata": {},
   "outputs": [
    {
     "data": {
      "text/plain": [
       "'port segur all inclusiv ! pacot voo hosped part r $ 1.247 leonard cassol 2 hor sul bah , port segur sinôn divers prai maravilh . tud fic melhor aind descont exclus ! zarp pacot promoc voo hosped all inclusiv nauticom hotel & beach club a…'"
      ]
     },
     "execution_count": 12,
     "metadata": {},
     "output_type": "execute_result"
    }
   ],
   "source": [
    "' '.join(prom['Texto_stem'].values[0])"
   ]
  }
 ],
 "metadata": {
  "interpreter": {
   "hash": "e40f5302c6d4b9de2141353283620edefcabae1dbe23ed7117377b1c1ce32e40"
  },
  "kernelspec": {
   "display_name": "Python 3.8.10 64-bit ('tcc-venv': venv)",
   "name": "python3"
  },
  "language_info": {
   "name": "python",
   "version": ""
  },
  "orig_nbformat": 2
 },
 "nbformat": 4,
 "nbformat_minor": 2
}